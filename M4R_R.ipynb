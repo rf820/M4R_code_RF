{
  "nbformat": 4,
  "nbformat_minor": 0,
  "metadata": {
    "colab": {
      "provenance": [],
      "collapsed_sections": [
        "wJfc3w5YTFyO",
        "3i_wQLhlzP21",
        "nNBEZmHLzP4B",
        "1S1-XHTMzP4C",
        "auVfzzRvzP4E",
        "FItUWXS1zP4G",
        "L8o9MVYazP4H",
        "KsNytJ3IzP4J",
        "vLDP0K60zP4L",
        "J8aSYiw5zP4M",
        "L2Iy_vDVzP4O",
        "lv3WloObzP4P",
        "hwxlhrirzP4R",
        "t_PmSLWpzP4T",
        "gJ_8tKrnzP4V",
        "XW2pm1OYzP4W",
        "6e_EpLtuzP4Y",
        "g8rrHwIJ6-Rp",
        "XTOhE4zITM4q",
        "tCeapUV8TqsO",
        "PQKc2CKpUHZi",
        "1gZdpoZkUUEs",
        "3ZXSp2u6UjL8",
        "06Yji_oVUu6M",
        "1KurrmHSU4IP",
        "ff2xUZ_kWJgq",
        "UjVSZ1OaWTCo",
        "i2TBjEbQWamN",
        "li5XTP9sWmCu",
        "IfU3XTi0Wy7k",
        "7ZpIO58BW8_w",
        "6g4D-MyfXCl-",
        "lVvxbnGBXKZh",
        "FmDE6xNrXfSk",
        "fONoUH5edcuP",
        "uNmYCkzZdcuQ",
        "7SN5B1KbdcuR",
        "7rRu0FM7dcuS",
        "u1DJcZARdcuS",
        "VKDdGV8vdcuT",
        "hcXOgEqLdcuU",
        "eqjSg1tqdcuV",
        "HpWswPLsdcuW",
        "_hd2ZjoldcuX",
        "uY_tc4A-dcuX",
        "opKdn-C6dcuY",
        "YrXFAQLudcuZ",
        "Jhf-uar0dcuZ",
        "r-cIDdBXdcua",
        "WU2FfawJ8kGf",
        "98RAOJvJ2d85",
        "HFkX1sRNmJYh",
        "lilc2WCGmJYh",
        "ISPA-TYymJYi",
        "T3dmLzj_mJYi",
        "2sYruS0EmJYj",
        "_e5HtMwQmJYj",
        "iDzdNWnFmJYk",
        "jopZ8AfhmJYk",
        "eMQR_3vRmJYl",
        "y68K_qhImJYl",
        "jZjeMyA2mJYm",
        "q3RTxXgkmJYm",
        "XLb2mdYimJYn",
        "z4KHZqr1mJYo",
        "JuYbm2KAmJYo",
        "nEGWunDpvze5",
        "1WGdWo353-vo"
      ]
    },
    "kernelspec": {
      "name": "ir",
      "display_name": "R"
    },
    "language_info": {
      "name": "R"
    }
  },
  "cells": [
    {
      "cell_type": "markdown",
      "source": [
        "# M4R: Modelling and Forecasting Volatility in Financial Markets using Deep Leaning (R code)"
      ],
      "metadata": {
        "id": "nV0pu3spR_jo"
      }
    },
    {
      "cell_type": "markdown",
      "source": [
        "## Install needed packages"
      ],
      "metadata": {
        "id": "Z1RhyWbGSQOs"
      }
    },
    {
      "cell_type": "code",
      "source": [
        "install.packages(\"jsonlite\")\n",
        "install.packages(\"MCS\")\n",
        "install.packages(\"forecast\")"
      ],
      "metadata": {
        "colab": {
          "base_uri": "https://localhost:8080/"
        },
        "id": "zs5POA9FBGqY",
        "outputId": "8abc7d21-2152-49a5-b183-e137ebf57a0d"
      },
      "execution_count": 1,
      "outputs": [
        {
          "output_type": "stream",
          "name": "stderr",
          "text": [
            "Installing package into ‘/usr/local/lib/R/site-library’\n",
            "(as ‘lib’ is unspecified)\n",
            "\n",
            "Installing package into ‘/usr/local/lib/R/site-library’\n",
            "(as ‘lib’ is unspecified)\n",
            "\n",
            "Installing package into ‘/usr/local/lib/R/site-library’\n",
            "(as ‘lib’ is unspecified)\n",
            "\n"
          ]
        }
      ]
    },
    {
      "cell_type": "code",
      "execution_count": 2,
      "metadata": {
        "colab": {
          "base_uri": "https://localhost:8080/"
        },
        "id": "s9izfQYaAhY6",
        "outputId": "862ef132-263d-4402-ffbd-f6d2aae0450a"
      },
      "outputs": [
        {
          "output_type": "stream",
          "name": "stderr",
          "text": [
            "Registered S3 method overwritten by 'quantmod':\n",
            "  method            from\n",
            "  as.zoo.data.frame zoo \n",
            "\n"
          ]
        }
      ],
      "source": [
        "library(jsonlite)\n",
        "library(MCS)\n",
        "library(forecast)"
      ]
    },
    {
      "cell_type": "markdown",
      "source": [
        "## Read data previously produced  in Python"
      ],
      "metadata": {
        "id": "JL-sKX3cSZzG"
      }
    },
    {
      "cell_type": "code",
      "source": [
        "file_path <- \"aex_oos_monthly.json\"\n",
        "aex_monthly <- fromJSON(file_path)\n",
        "\n",
        "file_path <- \"dax_oos_monthly.json\"\n",
        "dax_monthly <- fromJSON(file_path)\n",
        "\n",
        "file_path <- \"ftse_oos_monthly.json\"\n",
        "ftse_monthly <- fromJSON(file_path)\n",
        "\n",
        "file_path <- \"aex_oos_weekly.json\"\n",
        "aex_weekly <- fromJSON(file_path)\n",
        "\n",
        "file_path <- \"dax_oos_weekly.json\"\n",
        "dax_weekly <- fromJSON(file_path)\n",
        "\n",
        "file_path <- \"ftse_oos_weekly.json\"\n",
        "ftse_weekly <- fromJSON(file_path)\n",
        "\n",
        "file_path <- \"aex_oos_daily.json\"\n",
        "aex_daily <- fromJSON(file_path)\n",
        "\n",
        "file_path <- \"dax_oos_daily.json\"\n",
        "dax_daily <- fromJSON(file_path)\n",
        "\n",
        "file_path <- \"ftse_oos_daily.json\"\n",
        "ftse_daily <- fromJSON(file_path)"
      ],
      "metadata": {
        "id": "dnsUMpM0PbPO"
      },
      "execution_count": 3,
      "outputs": []
    },
    {
      "cell_type": "code",
      "source": [
        "# AEX daily data\n",
        "aex_har_d_se <- aex_daily[[1]][1,]\n",
        "aex_har_d_qlike <- aex_daily[[1]][2,]\n",
        "\n",
        "aex_fnn_har_d_se <- aex_daily[[2]][1,]\n",
        "aex_fnn_har_d_qlike <- aex_daily[[2]][2,]\n",
        "\n",
        "aex_fnn_d_se <- aex_daily[[3]][1,]\n",
        "aex_fnn_d_qlike <- aex_daily[[3]][2,]\n",
        "\n",
        "aex_cnn_d_se <- aex_daily[[4]][1,]\n",
        "aex_cnn_d_qlike <- aex_daily[[4]][2,]\n",
        "\n",
        "aex_lstm_d_se <- aex_daily[[5]][1,]\n",
        "aex_lstm_d_qlike <- aex_daily[[5]][2,]\n",
        "\n",
        "aex_gru_d_se <- aex_daily[[6]][1,]\n",
        "aex_gru_d_qlike <- aex_daily[[6]][2,]\n",
        "\n",
        "# DAX daily data\n",
        "dax_har_d_se <- dax_daily[[1]][1,]\n",
        "dax_har_d_qlike <- dax_daily[[1]][2,]\n",
        "\n",
        "dax_fnn_har_d_se <- dax_daily[[2]][1,]\n",
        "dax_fnn_har_d_qlike <- dax_daily[[2]][2,]\n",
        "\n",
        "dax_fnn_d_se <- dax_daily[[3]][1,]\n",
        "dax_fnn_d_qlike <- dax_daily[[3]][2,]\n",
        "\n",
        "dax_cnn_d_se <- dax_daily[[4]][1,]\n",
        "dax_cnn_d_qlike <- dax_daily[[4]][2,]\n",
        "\n",
        "dax_lstm_d_se <- dax_daily[[5]][1,]\n",
        "dax_lstm_d_qlike <- dax_daily[[5]][2,]\n",
        "\n",
        "dax_gru_d_se <- dax_daily[[6]][1,]\n",
        "dax_gru_d_qlike <- dax_daily[[6]][2,]\n",
        "\n",
        "# FTSE daily data\n",
        "ftse_har_d_se <- ftse_daily[[1]][1,]\n",
        "ftse_har_d_qlike <- ftse_daily[[1]][2,]\n",
        "\n",
        "ftse_fnn_har_d_se <- ftse_daily[[2]][1,]\n",
        "ftse_fnn_har_d_qlike <- ftse_daily[[2]][2,]\n",
        "\n",
        "ftse_fnn_d_se <- ftse_daily[[3]][1,]\n",
        "ftse_fnn_d_qlike <- ftse_daily[[3]][2,]\n",
        "\n",
        "ftse_cnn_d_se <- ftse_daily[[4]][1,]\n",
        "ftse_cnn_d_qlike <- ftse_daily[[4]][2,]\n",
        "\n",
        "ftse_lstm_d_se <- ftse_daily[[5]][1,]\n",
        "ftse_lstm_d_qlike <- ftse_daily[[5]][2,]\n",
        "\n",
        "ftse_gru_d_se <- ftse_daily[[6]][1,]\n",
        "ftse_gru_d_qlike <- ftse_daily[[6]][2,]\n",
        "\n",
        "# AEX weekly data\n",
        "aex_har_w_se <- aex_weekly[[1]][1,]\n",
        "aex_har_w_qlike <- aex_weekly[[1]][2,]\n",
        "\n",
        "aex_fnn_har_w_se <- aex_weekly[[2]][1,]\n",
        "aex_fnn_har_w_qlike <- aex_weekly[[2]][2,]\n",
        "\n",
        "aex_fnn_w_se <- aex_weekly[[3]][1,]\n",
        "aex_fnn_w_qlike <- aex_weekly[[3]][2,]\n",
        "\n",
        "aex_cnn_w_se <- aex_weekly[[4]][1,]\n",
        "aex_cnn_w_qlike <- aex_weekly[[4]][2,]\n",
        "\n",
        "aex_lstm_w_se <- aex_weekly[[5]][1,]\n",
        "aex_lstm_w_qlike <- aex_weekly[[5]][2,]\n",
        "\n",
        "aex_gru_w_se <- aex_weekly[[6]][1,]\n",
        "aex_gru_w_qlike <- aex_weekly[[6]][2,]\n",
        "\n",
        "# DAX weekly data\n",
        "dax_har_w_se <- dax_weekly[[1]][1,]\n",
        "dax_har_w_qlike <- dax_weekly[[1]][2,]\n",
        "\n",
        "dax_fnn_har_w_se <- dax_weekly[[2]][1,]\n",
        "dax_fnn_har_w_qlike <- dax_weekly[[2]][2,]\n",
        "\n",
        "dax_fnn_w_se <- dax_weekly[[3]][1,]\n",
        "dax_fnn_w_qlike <- dax_weekly[[3]][2,]\n",
        "\n",
        "dax_cnn_w_se <- dax_weekly[[4]][1,]\n",
        "dax_cnn_w_qlike <- dax_weekly[[4]][2,]\n",
        "\n",
        "dax_lstm_w_se <- dax_weekly[[5]][1,]\n",
        "dax_lstm_w_qlike <- dax_weekly[[5]][2,]\n",
        "\n",
        "dax_gru_w_se <- dax_weekly[[6]][1,]\n",
        "dax_gru_w_qlike <- dax_weekly[[6]][2,]\n",
        "\n",
        "# FTSE weekly data\n",
        "ftse_har_w_se <- ftse_weekly[[1]][1,]\n",
        "ftse_har_w_qlike <- ftse_weekly[[1]][2,]\n",
        "\n",
        "ftse_fnn_har_w_se <- ftse_weekly[[2]][1,]\n",
        "ftse_fnn_har_w_qlike <- ftse_weekly[[2]][2,]\n",
        "\n",
        "ftse_fnn_w_se <- ftse_weekly[[3]][1,]\n",
        "ftse_fnn_w_qlike <- ftse_weekly[[3]][2,]\n",
        "\n",
        "ftse_cnn_w_se <- ftse_weekly[[4]][1,]\n",
        "ftse_cnn_w_qlike <- ftse_weekly[[4]][2,]\n",
        "\n",
        "ftse_lstm_w_se <- ftse_weekly[[5]][1,]\n",
        "ftse_lstm_w_qlike <- ftse_weekly[[5]][2,]\n",
        "\n",
        "ftse_gru_w_se <- ftse_weekly[[6]][1,]\n",
        "ftse_gru_w_qlike <- ftse_weekly[[6]][2,]\n",
        "\n",
        "# AEX monthly data\n",
        "aex_har_m_se <- aex_monthly[[1]][1,]\n",
        "aex_har_m_qlike <- aex_monthly[[1]][2,]\n",
        "\n",
        "aex_fnn_har_m_se <- aex_monthly[[2]][1,]\n",
        "aex_fnn_har_m_qlike <- aex_monthly[[2]][2,]\n",
        "\n",
        "aex_fnn_m_se <- aex_monthly[[3]][1,]\n",
        "aex_fnn_m_qlike <- aex_monthly[[3]][2,]\n",
        "\n",
        "aex_cnn_m_se <- aex_monthly[[4]][1,]\n",
        "aex_cnn_m_qlike <- aex_monthly[[4]][2,]\n",
        "\n",
        "aex_lstm_m_se <- aex_monthly[[5]][1,]\n",
        "aex_lstm_m_qlike <- aex_monthly[[5]][2,]\n",
        "\n",
        "aex_gru_m_se <- aex_monthly[[6]][1,]\n",
        "aex_gru_m_qlike <- aex_monthly[[6]][2,]\n",
        "\n",
        "# DAX monthly data\n",
        "dax_har_m_se <- dax_monthly[[1]][1,]\n",
        "dax_har_m_qlike <- dax_monthly[[1]][2,]\n",
        "\n",
        "dax_fnn_har_m_se <- dax_monthly[[2]][1,]\n",
        "dax_fnn_har_m_qlike <- dax_monthly[[2]][2,]\n",
        "\n",
        "dax_fnn_m_se <- dax_monthly[[3]][1,]\n",
        "dax_fnn_m_qlike <- dax_monthly[[3]][2,]\n",
        "\n",
        "dax_cnn_m_se <- dax_monthly[[4]][1,]\n",
        "dax_cnn_m_qlike <- dax_monthly[[4]][2,]\n",
        "\n",
        "dax_lstm_m_se <- dax_monthly[[5]][1,]\n",
        "dax_lstm_m_qlike <- dax_monthly[[5]][2,]\n",
        "\n",
        "dax_gru_m_se <- dax_monthly[[6]][1,]\n",
        "dax_gru_m_qlike <- dax_monthly[[6]][2,]\n",
        "\n",
        "# FTSE monthly data\n",
        "ftse_har_m_se <- ftse_monthly[[1]][1,]\n",
        "ftse_har_m_qlike <- ftse_monthly[[1]][2,]\n",
        "\n",
        "ftse_fnn_har_m_se <- ftse_monthly[[2]][1,]\n",
        "ftse_fnn_har_m_qlike <- ftse_monthly[[2]][2,]\n",
        "\n",
        "ftse_fnn_m_se <- ftse_monthly[[3]][1,]\n",
        "ftse_fnn_m_qlike <- ftse_monthly[[3]][2,]\n",
        "\n",
        "ftse_cnn_m_se <- ftse_monthly[[4]][1,]\n",
        "ftse_cnn_m_qlike <- ftse_monthly[[4]][2,]\n",
        "\n",
        "ftse_lstm_m_se <- ftse_monthly[[5]][1,]\n",
        "ftse_lstm_m_qlike <- ftse_monthly[[5]][2,]\n",
        "\n",
        "ftse_gru_m_se <- ftse_monthly[[6]][1,]\n",
        "ftse_gru_m_qlike <- ftse_monthly[[6]][2,]"
      ],
      "metadata": {
        "id": "qjv9j43fPfKg"
      },
      "execution_count": 4,
      "outputs": []
    },
    {
      "cell_type": "markdown",
      "source": [
        "## Data analysis"
      ],
      "metadata": {
        "id": "3ejYqGBmS_Hp"
      }
    },
    {
      "cell_type": "markdown",
      "source": [
        "### Statistical analysis for the AEX index"
      ],
      "metadata": {
        "id": "wJfc3w5YTFyO"
      }
    },
    {
      "cell_type": "markdown",
      "source": [
        "#### Tests for the 1-day ahead forecast"
      ],
      "metadata": {
        "id": "3i_wQLhlzP21"
      }
    },
    {
      "cell_type": "code",
      "source": [
        "# MCS for squared-error loss\n",
        "\n",
        "errors_matrix_se <- cbind(aex_har_d_se, aex_fnn_har_d_se, aex_fnn_d_se, aex_cnn_d_se, aex_lstm_d_se, aex_gru_d_se)\n",
        "errors_matrix_qlike <- cbind(aex_har_d_qlike, aex_fnn_har_d_qlike, aex_fnn_d_qlike, aex_cnn_d_qlike, aex_lstm_d_qlike, aex_gru_d_qlike)\n",
        "\n",
        "# B is number of bootstrap replications\n",
        "mcs_result_aex_se_d <- MCSprocedure(errors_matrix_se, alpha = 0.05, B = 5000, statistic = \"Tmax\")\n",
        "\n",
        "mcs_result_aex_qlike_d <- MCSprocedure(errors_matrix_qlike, alpha = 0.05, B = 5000, statistic = \"Tmax\")"
      ],
      "metadata": {
        "colab": {
          "base_uri": "https://localhost:8080/"
        },
        "outputId": "277edfaa-8865-4747-f0b6-9ae7c2b362b4",
        "id": "3rcd6HU4zP3-"
      },
      "execution_count": 5,
      "outputs": [
        {
          "output_type": "stream",
          "name": "stdout",
          "text": [
            "\n",
            "###########################################################################################################################\n",
            "Superior Set Model created\t:\n",
            "                 Rank_M        v_M  MCS_M Rank_R         v_R  MCS_R\n",
            "aex_har_d_se          5  0.5754833 1.0000      6  2.15271221 0.0476\n",
            "aex_fnn_har_d_se      1 -2.0199783 1.0000      1 -0.02018217 1.0000\n",
            "aex_fnn_d_se          4  0.2188864 1.0000      4  0.89626565 1.0000\n",
            "aex_cnn_d_se          3 -0.7032828 1.0000      3  0.25559102 1.0000\n",
            "aex_lstm_d_se         6  0.6440794 0.9898      5  1.01663250 0.9836\n",
            "aex_gru_d_se          2 -1.8744923 1.0000      2  0.02018217 1.0000\n",
            "                         Loss\n",
            "aex_har_d_se     2.066405e-10\n",
            "aex_fnn_har_d_se 1.513281e-10\n",
            "aex_fnn_d_se     2.018314e-10\n",
            "aex_cnn_d_se     1.611262e-10\n",
            "aex_lstm_d_se    2.539228e-10\n",
            "aex_gru_d_se     1.518221e-10\n",
            "p-value\t:\n",
            "[1] 0.9898\n",
            "\n",
            "###########################################################################################################################\n",
            "###########################################################################################################################\n",
            "Superior Set Model created\t:\n",
            "                    Rank_M         v_M  MCS_M Rank_R        v_R  MCS_R\n",
            "aex_har_d_qlike          4  0.05810356 1.0000      6  1.5575025 0.5324\n",
            "aex_fnn_har_d_qlike      3 -0.17812348 1.0000      5  1.3589181 0.7022\n",
            "aex_fnn_d_qlike          5  0.44684517 0.8970      4  1.0787637 0.8408\n",
            "aex_cnn_d_qlike          6  0.60937376 0.8008      3  0.9084628 0.8972\n",
            "aex_lstm_d_qlike         2 -0.65921902 1.0000      2  0.2340030 0.9916\n",
            "aex_gru_d_qlike          1 -2.18045238 1.0000      1 -0.2340030 1.0000\n",
            "                         Loss\n",
            "aex_har_d_qlike     -9.621748\n",
            "aex_fnn_har_d_qlike -9.626988\n",
            "aex_fnn_d_qlike     -9.611789\n",
            "aex_cnn_d_qlike     -9.589314\n",
            "aex_lstm_d_qlike    -9.642091\n",
            "aex_gru_d_qlike     -9.648113\n",
            "p-value\t:\n",
            "[1] 0.8008\n",
            "\n",
            "###########################################################################################################################"
          ]
        }
      ]
    },
    {
      "cell_type": "code",
      "source": [
        "# Diebold-Mariano test\n",
        "\n",
        "dm_se_aex_d_har_fnn_har <- dm.test(aex_har_d_se, aex_fnn_har_d_se, alternative = \"two.sided\")\n",
        "dm_se_aex_d_har_fnn <- dm.test(aex_har_d_se, aex_fnn_d_se, alternative = \"two.sided\")\n",
        "dm_se_aex_d_har_cnn <- dm.test(aex_har_d_se, aex_cnn_d_se, alternative = \"two.sided\")\n",
        "dm_se_aex_d_har_lstm <- dm.test(aex_har_d_se, aex_lstm_d_se, alternative = \"two.sided\")\n",
        "dm_se_aex_d_har_gru <- dm.test(aex_har_d_se, aex_gru_d_se, alternative = \"two.sided\")\n",
        "dm_se_aex_d_fnn_har_fnn <- dm.test(aex_fnn_har_d_se, aex_fnn_d_se, alternative = \"two.sided\")\n",
        "dm_se_aex_d_fnn_har_cnn <- dm.test(aex_fnn_har_d_se, aex_cnn_d_se, alternative = \"two.sided\")\n",
        "dm_se_aex_d_fnn_har_lstm <- dm.test(aex_fnn_har_d_se, aex_lstm_d_se, alternative = \"two.sided\")\n",
        "dm_se_aex_d_fnn_har_gru <- dm.test(aex_fnn_har_d_se, aex_gru_d_se, alternative = \"two.sided\")\n",
        "dm_se_aex_d_fnn_cnn <- dm.test(aex_fnn_d_se, aex_cnn_d_se, alternative = \"two.sided\")\n",
        "dm_se_aex_d_fnn_lstm <- dm.test(aex_fnn_d_se, aex_lstm_d_se, alternative = \"two.sided\")\n",
        "dm_se_aex_d_fnn_gru <- dm.test(aex_fnn_d_se, aex_gru_d_se, alternative = \"two.sided\")\n",
        "dm_se_aex_d_cnn_lstm <- dm.test(aex_cnn_d_se, aex_lstm_d_se, alternative = \"two.sided\")\n",
        "dm_se_aex_d_cnn_gru <- dm.test(aex_cnn_d_se, aex_gru_d_se, alternative = \"two.sided\")\n",
        "dm_se_aex_d_lstm_gru <- dm.test(aex_lstm_d_se, aex_gru_d_se, alternative = \"two.sided\")\n",
        "\n",
        "dm_qlike_aex_d_har_fnn_har <- dm.test(aex_har_d_qlike, aex_fnn_har_d_qlike, alternative = \"two.sided\")\n",
        "dm_qlike_aex_d_har_fnn <- dm.test(aex_har_d_qlike, aex_fnn_d_qlike, alternative = \"two.sided\")\n",
        "dm_qlike_aex_d_har_cnn <- dm.test(aex_har_d_qlike, aex_cnn_d_qlike, alternative = \"two.sided\")\n",
        "dm_qlike_aex_d_har_lstm <- dm.test(aex_har_d_qlike, aex_lstm_d_qlike, alternative = \"two.sided\")\n",
        "dm_qlike_aex_d_har_gru <- dm.test(aex_har_d_qlike, aex_gru_d_qlike, alternative = \"two.sided\")\n",
        "dm_qlike_aex_d_fnn_har_fnn <- dm.test(aex_fnn_har_d_qlike, aex_fnn_d_qlike, alternative = \"two.sided\")\n",
        "dm_qlike_aex_d_fnn_har_cnn <- dm.test(aex_fnn_har_d_qlike, aex_cnn_d_qlike, alternative = \"two.sided\")\n",
        "dm_qlike_aex_d_fnn_har_lstm <- dm.test(aex_fnn_har_d_qlike, aex_lstm_d_qlike, alternative = \"two.sided\")\n",
        "dm_qlike_aex_d_fnn_har_gru <- dm.test(aex_fnn_har_d_qlike, aex_gru_d_qlike, alternative = \"two.sided\")\n",
        "dm_qlike_aex_d_fnn_cnn <- dm.test(aex_fnn_d_qlike, aex_cnn_d_qlike, alternative = \"two.sided\")\n",
        "dm_qlike_aex_d_fnn_lstm <- dm.test(aex_fnn_d_qlike, aex_lstm_d_qlike, alternative = \"two.sided\")\n",
        "dm_qlike_aex_d_fnn_gru <- dm.test(aex_fnn_d_qlike, aex_gru_d_qlike, alternative = \"two.sided\")\n",
        "dm_qlike_aex_d_cnn_lstm <- dm.test(aex_cnn_d_qlike, aex_lstm_d_qlike, alternative = \"two.sided\")\n",
        "dm_qlike_aex_d_cnn_gru <- dm.test(aex_cnn_d_qlike, aex_gru_d_qlike, alternative = \"two.sided\")\n",
        "dm_qlike_aex_d_lstm_gru <- dm.test(aex_lstm_d_qlike, aex_gru_d_qlike, alternative = \"two.sided\")"
      ],
      "metadata": {
        "id": "eJeVKobtzP3_"
      },
      "execution_count": 6,
      "outputs": []
    },
    {
      "cell_type": "markdown",
      "source": [
        "##### HAR vs FNN-HAR"
      ],
      "metadata": {
        "id": "nNBEZmHLzP4B"
      }
    },
    {
      "cell_type": "code",
      "source": [
        "print(dm_se_aex_d_har_fnn_har)"
      ],
      "metadata": {
        "colab": {
          "base_uri": "https://localhost:8080/"
        },
        "outputId": "394d4df2-aee7-43f0-fdf4-c89361827e21",
        "id": "uySM84O9zP4B"
      },
      "execution_count": 7,
      "outputs": [
        {
          "output_type": "stream",
          "name": "stdout",
          "text": [
            "\n",
            "\tDiebold-Mariano Test\n",
            "\n",
            "data:  aex_har_d_seaex_fnn_har_d_se\n",
            "DM = 1.1749, Forecast horizon = 1, Loss function power = 2, p-value =\n",
            "0.2648\n",
            "alternative hypothesis: two.sided\n",
            "\n"
          ]
        }
      ]
    },
    {
      "cell_type": "code",
      "source": [
        "print(dm_qlike_aex_d_har_fnn_har)"
      ],
      "metadata": {
        "colab": {
          "base_uri": "https://localhost:8080/"
        },
        "outputId": "38236ead-23f8-40d4-d72a-1429403ab060",
        "id": "DrywxAGhzP4C"
      },
      "execution_count": 8,
      "outputs": [
        {
          "output_type": "stream",
          "name": "stdout",
          "text": [
            "\n",
            "\tDiebold-Mariano Test\n",
            "\n",
            "data:  aex_har_d_qlikeaex_fnn_har_d_qlike\n",
            "DM = -0.24215, Forecast horizon = 1, Loss function power = 2, p-value =\n",
            "0.8131\n",
            "alternative hypothesis: two.sided\n",
            "\n"
          ]
        }
      ]
    },
    {
      "cell_type": "markdown",
      "source": [
        "##### HAR vs FNN"
      ],
      "metadata": {
        "id": "1S1-XHTMzP4C"
      }
    },
    {
      "cell_type": "code",
      "source": [
        "print(dm_se_aex_d_har_fnn)"
      ],
      "metadata": {
        "colab": {
          "base_uri": "https://localhost:8080/"
        },
        "outputId": "e3777c7b-cfc0-47fd-f546-3d3a7382c6f5",
        "id": "WPDnPRzzzP4D"
      },
      "execution_count": 9,
      "outputs": [
        {
          "output_type": "stream",
          "name": "stdout",
          "text": [
            "\n",
            "\tDiebold-Mariano Test\n",
            "\n",
            "data:  aex_har_d_seaex_fnn_d_se\n",
            "DM = -0.48977, Forecast horizon = 1, Loss function power = 2, p-value =\n",
            "0.6339\n",
            "alternative hypothesis: two.sided\n",
            "\n"
          ]
        }
      ]
    },
    {
      "cell_type": "code",
      "source": [
        "print(dm_qlike_aex_d_har_fnn)"
      ],
      "metadata": {
        "colab": {
          "base_uri": "https://localhost:8080/"
        },
        "outputId": "bdca564d-77f3-4177-806b-d65ed5c08b5c",
        "id": "W7TqA2xIzP4E"
      },
      "execution_count": 10,
      "outputs": [
        {
          "output_type": "stream",
          "name": "stdout",
          "text": [
            "\n",
            "\tDiebold-Mariano Test\n",
            "\n",
            "data:  aex_har_d_qlikeaex_fnn_d_qlike\n",
            "DM = 0.050417, Forecast horizon = 1, Loss function power = 2, p-value =\n",
            "0.9607\n",
            "alternative hypothesis: two.sided\n",
            "\n"
          ]
        }
      ]
    },
    {
      "cell_type": "markdown",
      "source": [
        "##### HAR vs CNN"
      ],
      "metadata": {
        "id": "auVfzzRvzP4E"
      }
    },
    {
      "cell_type": "code",
      "source": [
        "print(dm_se_aex_d_har_cnn)"
      ],
      "metadata": {
        "colab": {
          "base_uri": "https://localhost:8080/"
        },
        "outputId": "9020ecff-5687-4567-bdd3-d9f4dc39b1f2",
        "id": "r7fDylC4zP4F"
      },
      "execution_count": 11,
      "outputs": [
        {
          "output_type": "stream",
          "name": "stdout",
          "text": [
            "\n",
            "\tDiebold-Mariano Test\n",
            "\n",
            "data:  aex_har_d_seaex_cnn_d_se\n",
            "DM = -0.28847, Forecast horizon = 1, Loss function power = 2, p-value =\n",
            "0.7783\n",
            "alternative hypothesis: two.sided\n",
            "\n"
          ]
        }
      ]
    },
    {
      "cell_type": "code",
      "source": [
        "print(dm_qlike_aex_d_har_cnn)"
      ],
      "metadata": {
        "colab": {
          "base_uri": "https://localhost:8080/"
        },
        "outputId": "c5b0c589-4d12-4ee6-de3e-9489626064bf",
        "id": "oZ6d5UzPzP4F"
      },
      "execution_count": 12,
      "outputs": [
        {
          "output_type": "stream",
          "name": "stdout",
          "text": [
            "\n",
            "\tDiebold-Mariano Test\n",
            "\n",
            "data:  aex_har_d_qlikeaex_cnn_d_qlike\n",
            "DM = 0.13173, Forecast horizon = 1, Loss function power = 2, p-value =\n",
            "0.8976\n",
            "alternative hypothesis: two.sided\n",
            "\n"
          ]
        }
      ]
    },
    {
      "cell_type": "markdown",
      "source": [
        "##### HAR vs LSTM"
      ],
      "metadata": {
        "id": "FItUWXS1zP4G"
      }
    },
    {
      "cell_type": "code",
      "source": [
        "print(dm_se_aex_d_har_lstm)"
      ],
      "metadata": {
        "colab": {
          "base_uri": "https://localhost:8080/"
        },
        "outputId": "07e7f33b-2fc1-4379-d138-8ac1da9925f0",
        "id": "aB-SCMBTzP4G"
      },
      "execution_count": 13,
      "outputs": [
        {
          "output_type": "stream",
          "name": "stdout",
          "text": [
            "\n",
            "\tDiebold-Mariano Test\n",
            "\n",
            "data:  aex_har_d_seaex_lstm_d_se\n",
            "DM = -0.6993, Forecast horizon = 1, Loss function power = 2, p-value =\n",
            "0.4989\n",
            "alternative hypothesis: two.sided\n",
            "\n"
          ]
        }
      ]
    },
    {
      "cell_type": "code",
      "source": [
        "print(dm_qlike_aex_d_har_lstm)"
      ],
      "metadata": {
        "colab": {
          "base_uri": "https://localhost:8080/"
        },
        "outputId": "ec6c1399-33e6-4a86-c48e-857f0e90b20c",
        "id": "DTPd4fHlzP4H"
      },
      "execution_count": 14,
      "outputs": [
        {
          "output_type": "stream",
          "name": "stdout",
          "text": [
            "\n",
            "\tDiebold-Mariano Test\n",
            "\n",
            "data:  aex_har_d_qlikeaex_lstm_d_qlike\n",
            "DM = -0.64041, Forecast horizon = 1, Loss function power = 2, p-value =\n",
            "0.535\n",
            "alternative hypothesis: two.sided\n",
            "\n"
          ]
        }
      ]
    },
    {
      "cell_type": "markdown",
      "source": [
        "##### HAR vs GRU"
      ],
      "metadata": {
        "id": "L8o9MVYazP4H"
      }
    },
    {
      "cell_type": "code",
      "source": [
        "print(dm_se_aex_d_har_gru)"
      ],
      "metadata": {
        "colab": {
          "base_uri": "https://localhost:8080/"
        },
        "outputId": "a143c804-c734-4010-c132-6a346585da43",
        "id": "kdiTXM_WzP4I"
      },
      "execution_count": 15,
      "outputs": [
        {
          "output_type": "stream",
          "name": "stdout",
          "text": [
            "\n",
            "\tDiebold-Mariano Test\n",
            "\n",
            "data:  aex_har_d_seaex_gru_d_se\n",
            "DM = 1.1924, Forecast horizon = 1, Loss function power = 2, p-value =\n",
            "0.2582\n",
            "alternative hypothesis: two.sided\n",
            "\n"
          ]
        }
      ]
    },
    {
      "cell_type": "code",
      "source": [
        "print(dm_qlike_aex_d_har_gru)"
      ],
      "metadata": {
        "colab": {
          "base_uri": "https://localhost:8080/"
        },
        "outputId": "30f80d57-c9dc-4423-a34a-e11f6be1bee9",
        "id": "IQ1l5yXmzP4I"
      },
      "execution_count": 16,
      "outputs": [
        {
          "output_type": "stream",
          "name": "stdout",
          "text": [
            "\n",
            "\tDiebold-Mariano Test\n",
            "\n",
            "data:  aex_har_d_qlikeaex_gru_d_qlike\n",
            "DM = -1.2183, Forecast horizon = 1, Loss function power = 2, p-value =\n",
            "0.2486\n",
            "alternative hypothesis: two.sided\n",
            "\n"
          ]
        }
      ]
    },
    {
      "cell_type": "markdown",
      "source": [
        "##### FNN-HAR vs FNN"
      ],
      "metadata": {
        "id": "KsNytJ3IzP4J"
      }
    },
    {
      "cell_type": "code",
      "source": [
        "print(dm_se_aex_d_fnn_har_fnn)"
      ],
      "metadata": {
        "colab": {
          "base_uri": "https://localhost:8080/"
        },
        "outputId": "a8d4663f-1ff6-4224-ef03-d6f73985de9b",
        "id": "hcBm8FZWzP4K"
      },
      "execution_count": 17,
      "outputs": [
        {
          "output_type": "stream",
          "name": "stdout",
          "text": [
            "\n",
            "\tDiebold-Mariano Test\n",
            "\n",
            "data:  aex_fnn_har_d_seaex_fnn_d_se\n",
            "DM = -1.1016, Forecast horizon = 1, Loss function power = 2, p-value =\n",
            "0.2942\n",
            "alternative hypothesis: two.sided\n",
            "\n"
          ]
        }
      ]
    },
    {
      "cell_type": "code",
      "source": [
        "print(dm_qlike_aex_d_fnn_har_fnn)"
      ],
      "metadata": {
        "colab": {
          "base_uri": "https://localhost:8080/"
        },
        "outputId": "dc59bbb5-8f7d-4e4e-e9a3-615b9fbe9a78",
        "id": "QlsN0TrKzP4K"
      },
      "execution_count": 18,
      "outputs": [
        {
          "output_type": "stream",
          "name": "stdout",
          "text": [
            "\n",
            "\tDiebold-Mariano Test\n",
            "\n",
            "data:  aex_fnn_har_d_qlikeaex_fnn_d_qlike\n",
            "DM = 0.32124, Forecast horizon = 1, Loss function power = 2, p-value =\n",
            "0.7541\n",
            "alternative hypothesis: two.sided\n",
            "\n"
          ]
        }
      ]
    },
    {
      "cell_type": "markdown",
      "source": [
        "##### FNN-HAR vs CNN"
      ],
      "metadata": {
        "id": "vLDP0K60zP4L"
      }
    },
    {
      "cell_type": "code",
      "source": [
        "print(dm_se_aex_d_fnn_har_cnn)"
      ],
      "metadata": {
        "colab": {
          "base_uri": "https://localhost:8080/"
        },
        "outputId": "481b8e01-bd3d-487c-a45d-ea4e47bdf3e7",
        "id": "baqz-xorzP4L"
      },
      "execution_count": 19,
      "outputs": [
        {
          "output_type": "stream",
          "name": "stdout",
          "text": [
            "\n",
            "\tDiebold-Mariano Test\n",
            "\n",
            "data:  aex_fnn_har_d_seaex_cnn_d_se\n",
            "DM = -0.8876, Forecast horizon = 1, Loss function power = 2, p-value =\n",
            "0.3937\n",
            "alternative hypothesis: two.sided\n",
            "\n"
          ]
        }
      ]
    },
    {
      "cell_type": "code",
      "source": [
        "print(dm_qlike_aex_d_fnn_har_cnn)"
      ],
      "metadata": {
        "colab": {
          "base_uri": "https://localhost:8080/"
        },
        "outputId": "e3118e57-8096-4b3c-a21b-8a1f7993dfd9",
        "id": "3olTxkq3zP4M"
      },
      "execution_count": 20,
      "outputs": [
        {
          "output_type": "stream",
          "name": "stdout",
          "text": [
            "\n",
            "\tDiebold-Mariano Test\n",
            "\n",
            "data:  aex_fnn_har_d_qlikeaex_cnn_d_qlike\n",
            "DM = 0.27919, Forecast horizon = 1, Loss function power = 2, p-value =\n",
            "0.7853\n",
            "alternative hypothesis: two.sided\n",
            "\n"
          ]
        }
      ]
    },
    {
      "cell_type": "markdown",
      "source": [
        "##### FNN-HAR vs LSTM"
      ],
      "metadata": {
        "id": "J8aSYiw5zP4M"
      }
    },
    {
      "cell_type": "code",
      "source": [
        "print(dm_se_aex_d_fnn_har_lstm)"
      ],
      "metadata": {
        "colab": {
          "base_uri": "https://localhost:8080/"
        },
        "outputId": "20c5d644-a30e-449e-cfa1-e6cd390e0004",
        "id": "yQCo8awMzP4N"
      },
      "execution_count": 21,
      "outputs": [
        {
          "output_type": "stream",
          "name": "stdout",
          "text": [
            "\n",
            "\tDiebold-Mariano Test\n",
            "\n",
            "data:  aex_fnn_har_d_seaex_lstm_d_se\n",
            "DM = -0.97313, Forecast horizon = 1, Loss function power = 2, p-value =\n",
            "0.3514\n",
            "alternative hypothesis: two.sided\n",
            "\n"
          ]
        }
      ]
    },
    {
      "cell_type": "code",
      "source": [
        "print(dm_qlike_aex_d_fnn_har_lstm)"
      ],
      "metadata": {
        "colab": {
          "base_uri": "https://localhost:8080/"
        },
        "outputId": "03855697-5bcc-41de-b7ef-48f268d2681f",
        "id": "2GZbXytczP4N"
      },
      "execution_count": 22,
      "outputs": [
        {
          "output_type": "stream",
          "name": "stdout",
          "text": [
            "\n",
            "\tDiebold-Mariano Test\n",
            "\n",
            "data:  aex_fnn_har_d_qlikeaex_lstm_d_qlike\n",
            "DM = -1.0263, Forecast horizon = 1, Loss function power = 2, p-value =\n",
            "0.3268\n",
            "alternative hypothesis: two.sided\n",
            "\n"
          ]
        }
      ]
    },
    {
      "cell_type": "markdown",
      "source": [
        "##### FNN-HAR vs GRU"
      ],
      "metadata": {
        "id": "L2Iy_vDVzP4O"
      }
    },
    {
      "cell_type": "code",
      "source": [
        "print(dm_se_aex_d_fnn_har_gru)"
      ],
      "metadata": {
        "colab": {
          "base_uri": "https://localhost:8080/"
        },
        "outputId": "1e240116-67fa-4d2f-8b58-a04dd8087675",
        "id": "zrToUIx7zP4O"
      },
      "execution_count": 23,
      "outputs": [
        {
          "output_type": "stream",
          "name": "stdout",
          "text": [
            "\n",
            "\tDiebold-Mariano Test\n",
            "\n",
            "data:  aex_fnn_har_d_seaex_gru_d_se\n",
            "DM = -0.78901, Forecast horizon = 1, Loss function power = 2, p-value =\n",
            "0.4468\n",
            "alternative hypothesis: two.sided\n",
            "\n"
          ]
        }
      ]
    },
    {
      "cell_type": "code",
      "source": [
        "print(dm_qlike_aex_d_fnn_har_gru)"
      ],
      "metadata": {
        "colab": {
          "base_uri": "https://localhost:8080/"
        },
        "outputId": "7aee0588-c8f4-4b80-fc58-0d1dc73536fd",
        "id": "TKPFZOBGzP4P"
      },
      "execution_count": 24,
      "outputs": [
        {
          "output_type": "stream",
          "name": "stdout",
          "text": [
            "\n",
            "\tDiebold-Mariano Test\n",
            "\n",
            "data:  aex_fnn_har_d_qlikeaex_gru_d_qlike\n",
            "DM = -0.86265, Forecast horizon = 1, Loss function power = 2, p-value =\n",
            "0.4067\n",
            "alternative hypothesis: two.sided\n",
            "\n"
          ]
        }
      ]
    },
    {
      "cell_type": "markdown",
      "source": [
        "##### FNN vs CNN"
      ],
      "metadata": {
        "id": "lv3WloObzP4P"
      }
    },
    {
      "cell_type": "code",
      "source": [
        "print(dm_se_aex_d_fnn_cnn)"
      ],
      "metadata": {
        "colab": {
          "base_uri": "https://localhost:8080/"
        },
        "outputId": "97db5da1-1c89-40f8-d553-20be44789392",
        "id": "N1xUG5CjzP4Q"
      },
      "execution_count": 25,
      "outputs": [
        {
          "output_type": "stream",
          "name": "stdout",
          "text": [
            "\n",
            "\tDiebold-Mariano Test\n",
            "\n",
            "data:  aex_fnn_d_seaex_cnn_d_se\n",
            "DM = -0.031624, Forecast horizon = 1, Loss function power = 2, p-value\n",
            "= 0.9753\n",
            "alternative hypothesis: two.sided\n",
            "\n"
          ]
        }
      ]
    },
    {
      "cell_type": "code",
      "source": [
        "print(dm_qlike_aex_d_fnn_cnn)"
      ],
      "metadata": {
        "colab": {
          "base_uri": "https://localhost:8080/"
        },
        "outputId": "ad7d8cfe-1b21-4ef2-9072-3f58ed364bc9",
        "id": "m5zqOU6lzP4Q"
      },
      "execution_count": 26,
      "outputs": [
        {
          "output_type": "stream",
          "name": "stdout",
          "text": [
            "\n",
            "\tDiebold-Mariano Test\n",
            "\n",
            "data:  aex_fnn_d_qlikeaex_cnn_d_qlike\n",
            "DM = 0.13501, Forecast horizon = 1, Loss function power = 2, p-value =\n",
            "0.895\n",
            "alternative hypothesis: two.sided\n",
            "\n"
          ]
        }
      ]
    },
    {
      "cell_type": "markdown",
      "source": [
        "##### FNN vs LSTM"
      ],
      "metadata": {
        "id": "hwxlhrirzP4R"
      }
    },
    {
      "cell_type": "code",
      "source": [
        "print(dm_se_aex_d_fnn_lstm)"
      ],
      "metadata": {
        "colab": {
          "base_uri": "https://localhost:8080/"
        },
        "outputId": "08bed2c6-c959-4f6b-cae4-db5121be723c",
        "id": "fXdzVoE_zP4S"
      },
      "execution_count": 27,
      "outputs": [
        {
          "output_type": "stream",
          "name": "stdout",
          "text": [
            "\n",
            "\tDiebold-Mariano Test\n",
            "\n",
            "data:  aex_fnn_d_seaex_lstm_d_se\n",
            "DM = -0.52238, Forecast horizon = 1, Loss function power = 2, p-value =\n",
            "0.6118\n",
            "alternative hypothesis: two.sided\n",
            "\n"
          ]
        }
      ]
    },
    {
      "cell_type": "code",
      "source": [
        "print(dm_qlike_aex_d_fnn_lstm)"
      ],
      "metadata": {
        "colab": {
          "base_uri": "https://localhost:8080/"
        },
        "outputId": "a2af7ad6-ee59-4d30-d788-67e268ecbc10",
        "id": "5rVMwOh3zP4T"
      },
      "execution_count": 28,
      "outputs": [
        {
          "output_type": "stream",
          "name": "stdout",
          "text": [
            "\n",
            "\tDiebold-Mariano Test\n",
            "\n",
            "data:  aex_fnn_d_qlikeaex_lstm_d_qlike\n",
            "DM = -0.59817, Forecast horizon = 1, Loss function power = 2, p-value =\n",
            "0.5618\n",
            "alternative hypothesis: two.sided\n",
            "\n"
          ]
        }
      ]
    },
    {
      "cell_type": "markdown",
      "source": [
        "##### FNN vs GRU"
      ],
      "metadata": {
        "id": "t_PmSLWpzP4T"
      }
    },
    {
      "cell_type": "code",
      "source": [
        "print(dm_se_aex_d_fnn_gru)"
      ],
      "metadata": {
        "colab": {
          "base_uri": "https://localhost:8080/"
        },
        "outputId": "20ac59a3-8df9-4e1c-cf56-bc92a73b3147",
        "id": "pLZRQ9ctzP4U"
      },
      "execution_count": 29,
      "outputs": [
        {
          "output_type": "stream",
          "name": "stdout",
          "text": [
            "\n",
            "\tDiebold-Mariano Test\n",
            "\n",
            "data:  aex_fnn_d_seaex_gru_d_se\n",
            "DM = 1.1378, Forecast horizon = 1, Loss function power = 2, p-value =\n",
            "0.2794\n",
            "alternative hypothesis: two.sided\n",
            "\n"
          ]
        }
      ]
    },
    {
      "cell_type": "code",
      "source": [
        "print(dm_qlike_aex_d_fnn_lstm)"
      ],
      "metadata": {
        "colab": {
          "base_uri": "https://localhost:8080/"
        },
        "outputId": "7213f089-960d-4dfc-f84a-7ed4078162b9",
        "id": "wSZJjXVuzP4U"
      },
      "execution_count": 30,
      "outputs": [
        {
          "output_type": "stream",
          "name": "stdout",
          "text": [
            "\n",
            "\tDiebold-Mariano Test\n",
            "\n",
            "data:  aex_fnn_d_qlikeaex_lstm_d_qlike\n",
            "DM = -0.59817, Forecast horizon = 1, Loss function power = 2, p-value =\n",
            "0.5618\n",
            "alternative hypothesis: two.sided\n",
            "\n"
          ]
        }
      ]
    },
    {
      "cell_type": "markdown",
      "source": [
        "##### CNN vs LSTM"
      ],
      "metadata": {
        "id": "gJ_8tKrnzP4V"
      }
    },
    {
      "cell_type": "code",
      "source": [
        "print(dm_se_aex_d_cnn_lstm)"
      ],
      "metadata": {
        "colab": {
          "base_uri": "https://localhost:8080/"
        },
        "outputId": "21c361d2-49a6-4909-e4e9-3351305f1f57",
        "id": "-g3YjM2VzP4V"
      },
      "execution_count": 31,
      "outputs": [
        {
          "output_type": "stream",
          "name": "stdout",
          "text": [
            "\n",
            "\tDiebold-Mariano Test\n",
            "\n",
            "data:  aex_cnn_d_seaex_lstm_d_se\n",
            "DM = -0.48554, Forecast horizon = 1, Loss function power = 2, p-value =\n",
            "0.6368\n",
            "alternative hypothesis: two.sided\n",
            "\n"
          ]
        }
      ]
    },
    {
      "cell_type": "code",
      "source": [
        "print(dm_qlike_aex_d_cnn_lstm)"
      ],
      "metadata": {
        "colab": {
          "base_uri": "https://localhost:8080/"
        },
        "outputId": "56662f74-35fa-42fa-8c93-dfd2939bad30",
        "id": "H0u6EbNTzP4W"
      },
      "execution_count": 32,
      "outputs": [
        {
          "output_type": "stream",
          "name": "stdout",
          "text": [
            "\n",
            "\tDiebold-Mariano Test\n",
            "\n",
            "data:  aex_cnn_d_qlikeaex_lstm_d_qlike\n",
            "DM = -0.44138, Forecast horizon = 1, Loss function power = 2, p-value =\n",
            "0.6675\n",
            "alternative hypothesis: two.sided\n",
            "\n"
          ]
        }
      ]
    },
    {
      "cell_type": "markdown",
      "source": [
        "##### CNN vs GRU"
      ],
      "metadata": {
        "id": "XW2pm1OYzP4W"
      }
    },
    {
      "cell_type": "code",
      "source": [
        "print(dm_se_aex_d_cnn_gru)"
      ],
      "metadata": {
        "colab": {
          "base_uri": "https://localhost:8080/"
        },
        "outputId": "d0506f73-570d-4a8b-9e67-70ad294b5bf1",
        "id": "poams6mOzP4X"
      },
      "execution_count": 33,
      "outputs": [
        {
          "output_type": "stream",
          "name": "stdout",
          "text": [
            "\n",
            "\tDiebold-Mariano Test\n",
            "\n",
            "data:  aex_cnn_d_seaex_gru_d_se\n",
            "DM = 0.74636, Forecast horizon = 1, Loss function power = 2, p-value =\n",
            "0.4711\n",
            "alternative hypothesis: two.sided\n",
            "\n"
          ]
        }
      ]
    },
    {
      "cell_type": "code",
      "source": [
        "print(dm_qlike_aex_d_cnn_gru)"
      ],
      "metadata": {
        "colab": {
          "base_uri": "https://localhost:8080/"
        },
        "outputId": "f61ba183-eb1b-45bd-9eb7-d14e06a78201",
        "id": "W6mrkuHnzP4Y"
      },
      "execution_count": 34,
      "outputs": [
        {
          "output_type": "stream",
          "name": "stdout",
          "text": [
            "\n",
            "\tDiebold-Mariano Test\n",
            "\n",
            "data:  aex_cnn_d_qlikeaex_gru_d_qlike\n",
            "DM = -0.51536, Forecast horizon = 1, Loss function power = 2, p-value =\n",
            "0.6165\n",
            "alternative hypothesis: two.sided\n",
            "\n"
          ]
        }
      ]
    },
    {
      "cell_type": "markdown",
      "source": [
        "##### LSTM vs GRU"
      ],
      "metadata": {
        "id": "6e_EpLtuzP4Y"
      }
    },
    {
      "cell_type": "code",
      "source": [
        "print(dm_se_aex_d_lstm_gru)"
      ],
      "metadata": {
        "colab": {
          "base_uri": "https://localhost:8080/"
        },
        "outputId": "15a9185a-0850-41c4-9b1f-a202fb488278",
        "id": "tBPIm_WEzP4Z"
      },
      "execution_count": 35,
      "outputs": [
        {
          "output_type": "stream",
          "name": "stdout",
          "text": [
            "\n",
            "\tDiebold-Mariano Test\n",
            "\n",
            "data:  aex_lstm_d_seaex_gru_d_se\n",
            "DM = 0.90388, Forecast horizon = 1, Loss function power = 2, p-value =\n",
            "0.3854\n",
            "alternative hypothesis: two.sided\n",
            "\n"
          ]
        }
      ]
    },
    {
      "cell_type": "code",
      "source": [
        "print(dm_qlike_aex_d_lstm_gru)"
      ],
      "metadata": {
        "colab": {
          "base_uri": "https://localhost:8080/"
        },
        "outputId": "f1e28e8e-5568-4fd9-beaa-b71d403fcb9e",
        "id": "Fxcwp_Q1zP4Z"
      },
      "execution_count": 36,
      "outputs": [
        {
          "output_type": "stream",
          "name": "stdout",
          "text": [
            "\n",
            "\tDiebold-Mariano Test\n",
            "\n",
            "data:  aex_lstm_d_qlikeaex_gru_d_qlike\n",
            "DM = -0.19162, Forecast horizon = 1, Loss function power = 2, p-value =\n",
            "0.8515\n",
            "alternative hypothesis: two.sided\n",
            "\n"
          ]
        }
      ]
    },
    {
      "cell_type": "markdown",
      "source": [
        "#### Tests for the 1-week ahead forecast"
      ],
      "metadata": {
        "id": "g8rrHwIJ6-Rp"
      }
    },
    {
      "cell_type": "code",
      "source": [
        "# MCS for squared-error loss\n",
        "\n",
        "errors_matrix_se <- cbind(aex_har_w_se, aex_fnn_har_w_se, aex_fnn_w_se, aex_cnn_w_se, aex_lstm_w_se, aex_gru_w_se)\n",
        "errors_matrix_qlike <- cbind(aex_har_w_qlike, aex_fnn_har_w_qlike, aex_fnn_w_qlike, aex_cnn_w_qlike, aex_lstm_w_qlike, aex_gru_w_qlike)\n",
        "\n",
        "# B is number of bootstrap replications\n",
        "mcs_result_aex_se_w <- MCSprocedure(errors_matrix_se, alpha = 0.05, B = 5000, statistic = \"Tmax\")\n",
        "\n",
        "mcs_result_aex_qlike_w <- MCSprocedure(errors_matrix_qlike, alpha = 0.05, B = 5000, statistic = \"Tmax\")"
      ],
      "metadata": {
        "colab": {
          "base_uri": "https://localhost:8080/"
        },
        "outputId": "3ddeac4d-7820-4b9e-e22d-409c29a7ff1a",
        "id": "BZN_qzto6-SK"
      },
      "execution_count": 37,
      "outputs": [
        {
          "output_type": "stream",
          "name": "stdout",
          "text": [
            "\n",
            "###########################################################################################################################\n",
            "Superior Set Model created\t:\n",
            "                 Rank_M        v_M  MCS_M Rank_R       v_R  MCS_R         Loss\n",
            "aex_har_w_se          4 -2.1018036 1.0000      6  2.071026 0.2150 8.158609e-11\n",
            "aex_fnn_har_w_se      1 -2.7121628 1.0000      1 -1.232232 1.0000 5.697968e-11\n",
            "aex_fnn_w_se          3 -2.2223922 1.0000      2  1.232232 0.7762 6.950451e-11\n",
            "aex_cnn_w_se          2 -2.4369675 1.0000      3  1.276581 0.7480 6.633497e-11\n",
            "aex_lstm_w_se         6  1.5714901 0.2104      4  1.806894 0.3502 3.578287e-10\n",
            "aex_gru_w_se          5  0.9136671 0.5870      5  2.042247 0.2280 2.005632e-10\n",
            "p-value\t:\n",
            "[1] 0.2104\n",
            "\n",
            "###########################################################################################################################\n",
            "Model aex_lstm_w_qlike eliminated 2024-06-05 14:45:32.042313\n",
            "###########################################################################################################################\n",
            "Superior Set Model created\t:\n",
            "                    Rank_M       v_M  MCS_M Rank_R       v_R  MCS_R      Loss\n",
            "aex_har_w_qlike          3 -1.512052 1.0000      3  1.159145 0.7474 -10.17976\n",
            "aex_fnn_har_w_qlike      1 -2.646752 1.0000      1 -1.001892 1.0000 -10.19806\n",
            "aex_fnn_w_qlike          2 -1.569871 1.0000      2  1.001892 0.8352 -10.18117\n",
            "aex_cnn_w_qlike          4 -0.581163 1.0000      4  1.673086 0.3998 -10.16974\n",
            "aex_gru_w_qlike          5  2.105368 0.0676      5  2.283307 0.1098 -10.05633\n",
            "p-value\t:\n",
            "[1] 0.0676\n",
            "\n",
            "###########################################################################################################################"
          ]
        }
      ]
    },
    {
      "cell_type": "code",
      "source": [
        "# Diebold-Mariano test\n",
        "\n",
        "dm_se_aex_w_har_fnn_har <- dm.test(aex_har_w_se, aex_fnn_har_w_se, alternative = \"two.sided\")\n",
        "dm_se_aex_w_har_fnn <- dm.test(aex_har_w_se, aex_fnn_w_se, alternative = \"two.sided\")\n",
        "dm_se_aex_w_har_cnn <- dm.test(aex_har_w_se, aex_cnn_w_se, alternative = \"two.sided\")\n",
        "dm_se_aex_w_har_lstm <- dm.test(aex_har_w_se, aex_lstm_w_se, alternative = \"two.sided\")\n",
        "dm_se_aex_w_har_gru <- dm.test(aex_har_w_se, aex_gru_w_se, alternative = \"two.sided\")\n",
        "dm_se_aex_w_fnn_har_fnn <- dm.test(aex_fnn_har_w_se, aex_fnn_w_se, alternative = \"two.sided\")\n",
        "dm_se_aex_w_fnn_har_cnn <- dm.test(aex_fnn_har_w_se, aex_cnn_w_se, alternative = \"two.sided\")\n",
        "dm_se_aex_w_fnn_har_lstm <- dm.test(aex_fnn_har_w_se, aex_lstm_w_se, alternative = \"two.sided\")\n",
        "dm_se_aex_w_fnn_har_gru <- dm.test(aex_fnn_har_w_se, aex_gru_w_se, alternative = \"two.sided\")\n",
        "dm_se_aex_w_fnn_cnn <- dm.test(aex_fnn_w_se, aex_cnn_w_se, alternative = \"two.sided\")\n",
        "dm_se_aex_w_fnn_lstm <- dm.test(aex_fnn_w_se, aex_lstm_w_se, alternative = \"two.sided\")\n",
        "dm_se_aex_w_fnn_gru <- dm.test(aex_fnn_w_se, aex_gru_w_se, alternative = \"two.sided\")\n",
        "dm_se_aex_w_cnn_lstm <- dm.test(aex_cnn_w_se, aex_lstm_w_se, alternative = \"two.sided\")\n",
        "dm_se_aex_w_cnn_gru <- dm.test(aex_cnn_w_se, aex_gru_w_se, alternative = \"two.sided\")\n",
        "dm_se_aex_w_lstm_gru <- dm.test(aex_lstm_w_se, aex_gru_w_se, alternative = \"two.sided\")\n",
        "\n",
        "dm_qlike_aex_w_har_fnn_har <- dm.test(aex_har_w_qlike, aex_fnn_har_w_qlike, alternative = \"two.sided\")\n",
        "dm_qlike_aex_w_har_fnn <- dm.test(aex_har_w_qlike, aex_fnn_w_qlike, alternative = \"two.sided\")\n",
        "dm_qlike_aex_w_har_cnn <- dm.test(aex_har_w_qlike, aex_cnn_w_qlike, alternative = \"two.sided\")\n",
        "dm_qlike_aex_w_har_lstm <- dm.test(aex_har_w_qlike, aex_lstm_w_qlike, alternative = \"two.sided\")\n",
        "dm_qlike_aex_w_har_gru <- dm.test(aex_har_w_qlike, aex_gru_w_qlike, alternative = \"two.sided\")\n",
        "dm_qlike_aex_w_fnn_har_fnn <- dm.test(aex_fnn_har_w_qlike, aex_fnn_w_qlike, alternative = \"two.sided\")\n",
        "dm_qlike_aex_w_fnn_har_cnn <- dm.test(aex_fnn_har_w_qlike, aex_cnn_w_qlike, alternative = \"two.sided\")\n",
        "dm_qlike_aex_w_fnn_har_lstm <- dm.test(aex_fnn_har_w_qlike, aex_lstm_w_qlike, alternative = \"two.sided\")\n",
        "dm_qlike_aex_w_fnn_har_gru <- dm.test(aex_fnn_har_w_qlike, aex_gru_w_qlike, alternative = \"two.sided\")\n",
        "dm_qlike_aex_w_fnn_cnn <- dm.test(aex_fnn_w_qlike, aex_cnn_w_qlike, alternative = \"two.sided\")\n",
        "dm_qlike_aex_w_fnn_lstm <- dm.test(aex_fnn_w_qlike, aex_lstm_w_qlike, alternative = \"two.sided\")\n",
        "dm_qlike_aex_w_fnn_gru <- dm.test(aex_fnn_w_qlike, aex_gru_w_qlike, alternative = \"two.sided\")\n",
        "dm_qlike_aex_w_cnn_lstm <- dm.test(aex_cnn_w_qlike, aex_lstm_w_qlike, alternative = \"two.sided\")\n",
        "dm_qlike_aex_w_cnn_gru <- dm.test(aex_cnn_w_qlike, aex_gru_w_qlike, alternative = \"two.sided\")\n",
        "dm_qlike_aex_w_lstm_gru <- dm.test(aex_lstm_w_qlike, aex_gru_w_qlike, alternative = \"two.sided\")"
      ],
      "metadata": {
        "id": "ZuQoKXp16-SL"
      },
      "execution_count": 38,
      "outputs": []
    },
    {
      "cell_type": "markdown",
      "source": [
        "##### HAR vs FNN-HAR"
      ],
      "metadata": {
        "id": "Zki0_2V06-SN"
      }
    },
    {
      "cell_type": "code",
      "source": [
        "print(dm_se_aex_w_har_fnn_har)"
      ],
      "metadata": {
        "colab": {
          "base_uri": "https://localhost:8080/"
        },
        "outputId": "76c97bfa-d5bd-47dc-d6b7-9db34a116855",
        "id": "WZtJB-TZ6-SN"
      },
      "execution_count": 39,
      "outputs": [
        {
          "output_type": "stream",
          "name": "stdout",
          "text": [
            "\n",
            "\tDiebold-Mariano Test\n",
            "\n",
            "data:  aex_har_w_seaex_fnn_har_w_se\n",
            "DM = 0.71925, Forecast horizon = 1, Loss function power = 2, p-value =\n",
            "0.4751\n",
            "alternative hypothesis: two.sided\n",
            "\n"
          ]
        }
      ]
    },
    {
      "cell_type": "code",
      "source": [
        "print(dm_qlike_aex_w_har_fnn_har)"
      ],
      "metadata": {
        "colab": {
          "base_uri": "https://localhost:8080/"
        },
        "outputId": "a78dc4aa-a0c0-4eac-ba79-03dcb856bd7b",
        "id": "FKpSrMxd6-SO"
      },
      "execution_count": 40,
      "outputs": [
        {
          "output_type": "stream",
          "name": "stdout",
          "text": [
            "\n",
            "\tDiebold-Mariano Test\n",
            "\n",
            "data:  aex_har_w_qlikeaex_fnn_har_w_qlike\n",
            "DM = -1.337, Forecast horizon = 1, Loss function power = 2, p-value =\n",
            "0.1868\n",
            "alternative hypothesis: two.sided\n",
            "\n"
          ]
        }
      ]
    },
    {
      "cell_type": "markdown",
      "source": [
        "##### HAR vs FNN"
      ],
      "metadata": {
        "id": "LW299rY_6-SP"
      }
    },
    {
      "cell_type": "code",
      "source": [
        "print(dm_se_aex_w_har_fnn)"
      ],
      "metadata": {
        "colab": {
          "base_uri": "https://localhost:8080/"
        },
        "outputId": "e6a82906-6424-40ef-e4e2-ad93d806476e",
        "id": "Un0uj0XB6-SP"
      },
      "execution_count": 41,
      "outputs": [
        {
          "output_type": "stream",
          "name": "stdout",
          "text": [
            "\n",
            "\tDiebold-Mariano Test\n",
            "\n",
            "data:  aex_har_w_seaex_fnn_w_se\n",
            "DM = 0.57665, Forecast horizon = 1, Loss function power = 2, p-value =\n",
            "0.5666\n",
            "alternative hypothesis: two.sided\n",
            "\n"
          ]
        }
      ]
    },
    {
      "cell_type": "code",
      "source": [
        "print(dm_qlike_aex_w_har_fnn)"
      ],
      "metadata": {
        "colab": {
          "base_uri": "https://localhost:8080/"
        },
        "outputId": "a0401e65-a93f-456e-d31c-ee881a352a87",
        "id": "D-Di-lz66-SQ"
      },
      "execution_count": 42,
      "outputs": [
        {
          "output_type": "stream",
          "name": "stdout",
          "text": [
            "\n",
            "\tDiebold-Mariano Test\n",
            "\n",
            "data:  aex_har_w_qlikeaex_fnn_w_qlike\n",
            "DM = -0.27092, Forecast horizon = 1, Loss function power = 2, p-value =\n",
            "0.7875\n",
            "alternative hypothesis: two.sided\n",
            "\n"
          ]
        }
      ]
    },
    {
      "cell_type": "markdown",
      "source": [
        "##### HAR vs CNN"
      ],
      "metadata": {
        "id": "WDtrMDA66-SQ"
      }
    },
    {
      "cell_type": "code",
      "source": [
        "print(dm_se_aex_w_har_cnn)"
      ],
      "metadata": {
        "colab": {
          "base_uri": "https://localhost:8080/"
        },
        "outputId": "3a43259c-41ef-4c05-c12f-b2f984d0a7e9",
        "id": "QTzyJsv16-SR"
      },
      "execution_count": 43,
      "outputs": [
        {
          "output_type": "stream",
          "name": "stdout",
          "text": [
            "\n",
            "\tDiebold-Mariano Test\n",
            "\n",
            "data:  aex_har_w_seaex_cnn_w_se\n",
            "DM = 0.27637, Forecast horizon = 1, Loss function power = 2, p-value =\n",
            "0.7833\n",
            "alternative hypothesis: two.sided\n",
            "\n"
          ]
        }
      ]
    },
    {
      "cell_type": "code",
      "source": [
        "print(dm_qlike_aex_w_har_cnn)"
      ],
      "metadata": {
        "colab": {
          "base_uri": "https://localhost:8080/"
        },
        "outputId": "bb67ae3a-9285-4ba6-fe31-cef3d6766a44",
        "id": "6Xt6agxo6-SS"
      },
      "execution_count": 44,
      "outputs": [
        {
          "output_type": "stream",
          "name": "stdout",
          "text": [
            "\n",
            "\tDiebold-Mariano Test\n",
            "\n",
            "data:  aex_har_w_qlikeaex_cnn_w_qlike\n",
            "DM = 0.22404, Forecast horizon = 1, Loss function power = 2, p-value =\n",
            "0.8236\n",
            "alternative hypothesis: two.sided\n",
            "\n"
          ]
        }
      ]
    },
    {
      "cell_type": "markdown",
      "source": [
        "##### HAR vs LSTM"
      ],
      "metadata": {
        "id": "-FCO74Y36-SS"
      }
    },
    {
      "cell_type": "code",
      "source": [
        "print(dm_se_aex_w_har_lstm)"
      ],
      "metadata": {
        "colab": {
          "base_uri": "https://localhost:8080/"
        },
        "outputId": "16680c89-3d89-46de-c13d-93bfa38879d9",
        "id": "ReYJOd1z6-ST"
      },
      "execution_count": 45,
      "outputs": [
        {
          "output_type": "stream",
          "name": "stdout",
          "text": [
            "\n",
            "\tDiebold-Mariano Test\n",
            "\n",
            "data:  aex_har_w_seaex_lstm_w_se\n",
            "DM = -2.1217, Forecast horizon = 1, Loss function power = 2, p-value =\n",
            "0.03847\n",
            "alternative hypothesis: two.sided\n",
            "\n"
          ]
        }
      ]
    },
    {
      "cell_type": "code",
      "source": [
        "print(dm_qlike_aex_w_har_lstm)"
      ],
      "metadata": {
        "colab": {
          "base_uri": "https://localhost:8080/"
        },
        "outputId": "6f7ce159-c697-4ca5-fd76-0bed4e57b6b6",
        "id": "5CFSOyfi6-ST"
      },
      "execution_count": 46,
      "outputs": [
        {
          "output_type": "stream",
          "name": "stdout",
          "text": [
            "\n",
            "\tDiebold-Mariano Test\n",
            "\n",
            "data:  aex_har_w_qlikeaex_lstm_w_qlike\n",
            "DM = 5.275, Forecast horizon = 1, Loss function power = 2, p-value =\n",
            "2.402e-06\n",
            "alternative hypothesis: two.sided\n",
            "\n"
          ]
        }
      ]
    },
    {
      "cell_type": "markdown",
      "source": [
        "##### HAR vs GRU"
      ],
      "metadata": {
        "id": "_4GvDsiv6-SU"
      }
    },
    {
      "cell_type": "code",
      "source": [
        "print(dm_se_aex_w_har_gru)"
      ],
      "metadata": {
        "colab": {
          "base_uri": "https://localhost:8080/"
        },
        "outputId": "6afd0bc6-e9fb-4d38-b023-9110bfff5770",
        "id": "AeRbH-rh6-SU"
      },
      "execution_count": 47,
      "outputs": [
        {
          "output_type": "stream",
          "name": "stdout",
          "text": [
            "\n",
            "\tDiebold-Mariano Test\n",
            "\n",
            "data:  aex_har_w_seaex_gru_w_se\n",
            "DM = -2.0922, Forecast horizon = 1, Loss function power = 2, p-value =\n",
            "0.04113\n",
            "alternative hypothesis: two.sided\n",
            "\n"
          ]
        }
      ]
    },
    {
      "cell_type": "code",
      "source": [
        "print(dm_qlike_aex_w_har_gru)"
      ],
      "metadata": {
        "colab": {
          "base_uri": "https://localhost:8080/"
        },
        "outputId": "b2a343a2-2673-4e18-dae5-293a2109529f",
        "id": "pft7wFzy6-SV"
      },
      "execution_count": 48,
      "outputs": [
        {
          "output_type": "stream",
          "name": "stdout",
          "text": [
            "\n",
            "\tDiebold-Mariano Test\n",
            "\n",
            "data:  aex_har_w_qlikeaex_gru_w_qlike\n",
            "DM = 4.1844, Forecast horizon = 1, Loss function power = 2, p-value =\n",
            "0.0001059\n",
            "alternative hypothesis: two.sided\n",
            "\n"
          ]
        }
      ]
    },
    {
      "cell_type": "markdown",
      "source": [
        "##### FNN-HAR vs FNN"
      ],
      "metadata": {
        "id": "98YDMqX_6-SW"
      }
    },
    {
      "cell_type": "code",
      "source": [
        "print(dm_se_aex_w_fnn_har_fnn)"
      ],
      "metadata": {
        "colab": {
          "base_uri": "https://localhost:8080/"
        },
        "outputId": "dd680e98-368e-4474-b064-40f21a42adcd",
        "id": "VX4tnQGP6-SW"
      },
      "execution_count": 49,
      "outputs": [
        {
          "output_type": "stream",
          "name": "stdout",
          "text": [
            "\n",
            "\tDiebold-Mariano Test\n",
            "\n",
            "data:  aex_fnn_har_w_seaex_fnn_w_se\n",
            "DM = -0.71602, Forecast horizon = 1, Loss function power = 2, p-value =\n",
            "0.4771\n",
            "alternative hypothesis: two.sided\n",
            "\n"
          ]
        }
      ]
    },
    {
      "cell_type": "code",
      "source": [
        "print(dm_qlike_aex_w_fnn_har_fnn)"
      ],
      "metadata": {
        "colab": {
          "base_uri": "https://localhost:8080/"
        },
        "outputId": "af37090d-e6fe-4368-be8f-386c8d1d7500",
        "id": "OQNjS2WK6-SX"
      },
      "execution_count": 50,
      "outputs": [
        {
          "output_type": "stream",
          "name": "stdout",
          "text": [
            "\n",
            "\tDiebold-Mariano Test\n",
            "\n",
            "data:  aex_fnn_har_w_qlikeaex_fnn_w_qlike\n",
            "DM = 1.1039, Forecast horizon = 1, Loss function power = 2, p-value =\n",
            "0.2745\n",
            "alternative hypothesis: two.sided\n",
            "\n"
          ]
        }
      ]
    },
    {
      "cell_type": "markdown",
      "source": [
        "##### FNN-HAR vs CNN"
      ],
      "metadata": {
        "id": "9zkwi9t36-SX"
      }
    },
    {
      "cell_type": "code",
      "source": [
        "print(dm_se_aex_w_fnn_har_cnn)"
      ],
      "metadata": {
        "colab": {
          "base_uri": "https://localhost:8080/"
        },
        "outputId": "3860c908-d050-439e-a4b3-78170d93e5a0",
        "id": "RqMhrU916-SY"
      },
      "execution_count": 51,
      "outputs": [
        {
          "output_type": "stream",
          "name": "stdout",
          "text": [
            "\n",
            "\tDiebold-Mariano Test\n",
            "\n",
            "data:  aex_fnn_har_w_seaex_cnn_w_se\n",
            "DM = -1.3297, Forecast horizon = 1, Loss function power = 2, p-value =\n",
            "0.1892\n",
            "alternative hypothesis: two.sided\n",
            "\n"
          ]
        }
      ]
    },
    {
      "cell_type": "code",
      "source": [
        "print(dm_qlike_aex_w_fnn_har_cnn)"
      ],
      "metadata": {
        "colab": {
          "base_uri": "https://localhost:8080/"
        },
        "outputId": "e1ecf86c-48ff-43f7-8c7f-7b077a1eb103",
        "id": "a23WmPKu6-SY"
      },
      "execution_count": 52,
      "outputs": [
        {
          "output_type": "stream",
          "name": "stdout",
          "text": [
            "\n",
            "\tDiebold-Mariano Test\n",
            "\n",
            "data:  aex_fnn_har_w_qlikeaex_cnn_w_qlike\n",
            "DM = 1.8514, Forecast horizon = 1, Loss function power = 2, p-value =\n",
            "0.06959\n",
            "alternative hypothesis: two.sided\n",
            "\n"
          ]
        }
      ]
    },
    {
      "cell_type": "markdown",
      "source": [
        "##### FNN-HAR vs LSTM"
      ],
      "metadata": {
        "id": "UiREFMH76-SZ"
      }
    },
    {
      "cell_type": "code",
      "source": [
        "print(dm_se_aex_w_fnn_har_lstm)"
      ],
      "metadata": {
        "colab": {
          "base_uri": "https://localhost:8080/"
        },
        "outputId": "78664bf8-c6fd-4e77-fd82-0bf69e4cb303",
        "id": "CFcgu0mC6-Sa"
      },
      "execution_count": 53,
      "outputs": [
        {
          "output_type": "stream",
          "name": "stdout",
          "text": [
            "\n",
            "\tDiebold-Mariano Test\n",
            "\n",
            "data:  aex_fnn_har_w_seaex_lstm_w_se\n",
            "DM = -2.1429, Forecast horizon = 1, Loss function power = 2, p-value =\n",
            "0.03665\n",
            "alternative hypothesis: two.sided\n",
            "\n"
          ]
        }
      ]
    },
    {
      "cell_type": "code",
      "source": [
        "print(dm_qlike_aex_w_fnn_har_lstm)"
      ],
      "metadata": {
        "colab": {
          "base_uri": "https://localhost:8080/"
        },
        "outputId": "e2e0e585-fd0b-41dd-e857-e0ad23c02859",
        "id": "kc25J2Ew6-Sa"
      },
      "execution_count": 54,
      "outputs": [
        {
          "output_type": "stream",
          "name": "stdout",
          "text": [
            "\n",
            "\tDiebold-Mariano Test\n",
            "\n",
            "data:  aex_fnn_har_w_qlikeaex_lstm_w_qlike\n",
            "DM = 4.579, Forecast horizon = 1, Loss function power = 2, p-value =\n",
            "2.789e-05\n",
            "alternative hypothesis: two.sided\n",
            "\n"
          ]
        }
      ]
    },
    {
      "cell_type": "markdown",
      "source": [
        "##### FNN-HAR vs GRU"
      ],
      "metadata": {
        "id": "zCTde9uO6-Sb"
      }
    },
    {
      "cell_type": "code",
      "source": [
        "print(dm_se_aex_w_fnn_har_gru)"
      ],
      "metadata": {
        "colab": {
          "base_uri": "https://localhost:8080/"
        },
        "outputId": "468fbdee-232e-4c1e-d7fd-2ebc34d6cfc1",
        "id": "jL8kY58r6-Sb"
      },
      "execution_count": 55,
      "outputs": [
        {
          "output_type": "stream",
          "name": "stdout",
          "text": [
            "\n",
            "\tDiebold-Mariano Test\n",
            "\n",
            "data:  aex_fnn_har_w_seaex_gru_w_se\n",
            "DM = -2.2718, Forecast horizon = 1, Loss function power = 2, p-value =\n",
            "0.0271\n",
            "alternative hypothesis: two.sided\n",
            "\n"
          ]
        }
      ]
    },
    {
      "cell_type": "code",
      "source": [
        "print(dm_qlike_aex_w_fnn_har_gru)"
      ],
      "metadata": {
        "colab": {
          "base_uri": "https://localhost:8080/"
        },
        "outputId": "5f533583-f64d-4757-ef66-e8046b071637",
        "id": "IFmscXgm6-Sc"
      },
      "execution_count": 56,
      "outputs": [
        {
          "output_type": "stream",
          "name": "stdout",
          "text": [
            "\n",
            "\tDiebold-Mariano Test\n",
            "\n",
            "data:  aex_fnn_har_w_qlikeaex_gru_w_qlike\n",
            "DM = 4.1884, Forecast horizon = 1, Loss function power = 2, p-value =\n",
            "0.0001045\n",
            "alternative hypothesis: two.sided\n",
            "\n"
          ]
        }
      ]
    },
    {
      "cell_type": "markdown",
      "source": [
        "##### FNN vs CNN"
      ],
      "metadata": {
        "id": "1pUnnVKl6-Sd"
      }
    },
    {
      "cell_type": "code",
      "source": [
        "print(dm_se_aex_w_fnn_cnn)"
      ],
      "metadata": {
        "colab": {
          "base_uri": "https://localhost:8080/"
        },
        "outputId": "9adcc019-0394-442d-a706-e0f527949639",
        "id": "b3SkKQ_h6-Sd"
      },
      "execution_count": 57,
      "outputs": [
        {
          "output_type": "stream",
          "name": "stdout",
          "text": [
            "\n",
            "\tDiebold-Mariano Test\n",
            "\n",
            "data:  aex_fnn_w_seaex_cnn_w_se\n",
            "DM = -0.2245, Forecast horizon = 1, Loss function power = 2, p-value =\n",
            "0.8232\n",
            "alternative hypothesis: two.sided\n",
            "\n"
          ]
        }
      ]
    },
    {
      "cell_type": "code",
      "source": [
        "print(dm_qlike_aex_w_fnn_cnn)"
      ],
      "metadata": {
        "colab": {
          "base_uri": "https://localhost:8080/"
        },
        "outputId": "63a478e1-a27e-4153-81d0-ca8879ea1b97",
        "id": "jlGuNUVn6-Sd"
      },
      "execution_count": 58,
      "outputs": [
        {
          "output_type": "stream",
          "name": "stdout",
          "text": [
            "\n",
            "\tDiebold-Mariano Test\n",
            "\n",
            "data:  aex_fnn_w_qlikeaex_cnn_w_qlike\n",
            "DM = 0.50687, Forecast horizon = 1, Loss function power = 2, p-value =\n",
            "0.6143\n",
            "alternative hypothesis: two.sided\n",
            "\n"
          ]
        }
      ]
    },
    {
      "cell_type": "markdown",
      "source": [
        "##### FNN vs LSTM"
      ],
      "metadata": {
        "id": "2rCUof9S6-Se"
      }
    },
    {
      "cell_type": "code",
      "source": [
        "print(dm_se_aex_w_fnn_lstm)"
      ],
      "metadata": {
        "colab": {
          "base_uri": "https://localhost:8080/"
        },
        "outputId": "9fa5e6e7-37a8-4923-cae6-e26b960e89ef",
        "id": "CDstpcNw6-Se"
      },
      "execution_count": 59,
      "outputs": [
        {
          "output_type": "stream",
          "name": "stdout",
          "text": [
            "\n",
            "\tDiebold-Mariano Test\n",
            "\n",
            "data:  aex_fnn_w_seaex_lstm_w_se\n",
            "DM = -2.1328, Forecast horizon = 1, Loss function power = 2, p-value =\n",
            "0.0375\n",
            "alternative hypothesis: two.sided\n",
            "\n"
          ]
        }
      ]
    },
    {
      "cell_type": "code",
      "source": [
        "print(dm_qlike_aex_w_fnn_lstm)"
      ],
      "metadata": {
        "colab": {
          "base_uri": "https://localhost:8080/"
        },
        "outputId": "9495c086-fdb3-407e-cd40-ec94e603c057",
        "id": "LFJM0nxo6-Sf"
      },
      "execution_count": 60,
      "outputs": [
        {
          "output_type": "stream",
          "name": "stdout",
          "text": [
            "\n",
            "\tDiebold-Mariano Test\n",
            "\n",
            "data:  aex_fnn_w_qlikeaex_lstm_w_qlike\n",
            "DM = 3.7673, Forecast horizon = 1, Loss function power = 2, p-value =\n",
            "0.0004098\n",
            "alternative hypothesis: two.sided\n",
            "\n"
          ]
        }
      ]
    },
    {
      "cell_type": "markdown",
      "source": [
        "##### FNN vs GRU"
      ],
      "metadata": {
        "id": "hRhq9X8w6-Sf"
      }
    },
    {
      "cell_type": "code",
      "source": [
        "print(dm_se_aex_w_fnn_gru)"
      ],
      "metadata": {
        "colab": {
          "base_uri": "https://localhost:8080/"
        },
        "outputId": "fc2a4b40-187f-44a5-ce7a-d11adf7c05e4",
        "id": "HXlqTnMj6-Sg"
      },
      "execution_count": 61,
      "outputs": [
        {
          "output_type": "stream",
          "name": "stdout",
          "text": [
            "\n",
            "\tDiebold-Mariano Test\n",
            "\n",
            "data:  aex_fnn_w_seaex_gru_w_se\n",
            "DM = -2.2109, Forecast horizon = 1, Loss function power = 2, p-value =\n",
            "0.0313\n",
            "alternative hypothesis: two.sided\n",
            "\n"
          ]
        }
      ]
    },
    {
      "cell_type": "code",
      "source": [
        "print(dm_qlike_aex_w_fnn_lstm)"
      ],
      "metadata": {
        "colab": {
          "base_uri": "https://localhost:8080/"
        },
        "outputId": "b23f76af-919e-4e0a-9e36-0f7a3f27e099",
        "id": "RRNLkDOI6-Sg"
      },
      "execution_count": 62,
      "outputs": [
        {
          "output_type": "stream",
          "name": "stdout",
          "text": [
            "\n",
            "\tDiebold-Mariano Test\n",
            "\n",
            "data:  aex_fnn_w_qlikeaex_lstm_w_qlike\n",
            "DM = 3.7673, Forecast horizon = 1, Loss function power = 2, p-value =\n",
            "0.0004098\n",
            "alternative hypothesis: two.sided\n",
            "\n"
          ]
        }
      ]
    },
    {
      "cell_type": "markdown",
      "source": [
        "##### CNN vs LSTM"
      ],
      "metadata": {
        "id": "aQ8grXie6-Sh"
      }
    },
    {
      "cell_type": "code",
      "source": [
        "print(dm_se_aex_w_cnn_lstm)"
      ],
      "metadata": {
        "colab": {
          "base_uri": "https://localhost:8080/"
        },
        "outputId": "13aecf63-2c7e-4025-efee-f127d83fb627",
        "id": "Keu58ekm6-Sh"
      },
      "execution_count": 63,
      "outputs": [
        {
          "output_type": "stream",
          "name": "stdout",
          "text": [
            "\n",
            "\tDiebold-Mariano Test\n",
            "\n",
            "data:  aex_cnn_w_seaex_lstm_w_se\n",
            "DM = -2.1286, Forecast horizon = 1, Loss function power = 2, p-value =\n",
            "0.03786\n",
            "alternative hypothesis: two.sided\n",
            "\n"
          ]
        }
      ]
    },
    {
      "cell_type": "code",
      "source": [
        "print(dm_qlike_aex_w_cnn_lstm)"
      ],
      "metadata": {
        "colab": {
          "base_uri": "https://localhost:8080/"
        },
        "outputId": "c1f51cc8-cc9a-4919-c264-5b1a2585bfbc",
        "id": "DZLOhWdI6-Si"
      },
      "execution_count": 64,
      "outputs": [
        {
          "output_type": "stream",
          "name": "stdout",
          "text": [
            "\n",
            "\tDiebold-Mariano Test\n",
            "\n",
            "data:  aex_cnn_w_qlikeaex_lstm_w_qlike\n",
            "DM = 3.7642, Forecast horizon = 1, Loss function power = 2, p-value =\n",
            "0.0004138\n",
            "alternative hypothesis: two.sided\n",
            "\n"
          ]
        }
      ]
    },
    {
      "cell_type": "markdown",
      "source": [
        "##### CNN vs GRU"
      ],
      "metadata": {
        "id": "P8bGBe_Z6-Sj"
      }
    },
    {
      "cell_type": "code",
      "source": [
        "print(dm_se_aex_w_cnn_gru)"
      ],
      "metadata": {
        "colab": {
          "base_uri": "https://localhost:8080/"
        },
        "outputId": "1d9326e3-847c-4d26-826c-6909417630f3",
        "id": "TcrcTI2w6-Sj"
      },
      "execution_count": 65,
      "outputs": [
        {
          "output_type": "stream",
          "name": "stdout",
          "text": [
            "\n",
            "\tDiebold-Mariano Test\n",
            "\n",
            "data:  aex_cnn_w_seaex_gru_w_se\n",
            "DM = -2.1638, Forecast horizon = 1, Loss function power = 2, p-value =\n",
            "0.03492\n",
            "alternative hypothesis: two.sided\n",
            "\n"
          ]
        }
      ]
    },
    {
      "cell_type": "code",
      "source": [
        "print(dm_qlike_aex_w_cnn_gru)"
      ],
      "metadata": {
        "colab": {
          "base_uri": "https://localhost:8080/"
        },
        "outputId": "57ed0b23-b593-4752-a746-279c17c91164",
        "id": "WKu7elKF6-Sk"
      },
      "execution_count": 66,
      "outputs": [
        {
          "output_type": "stream",
          "name": "stdout",
          "text": [
            "\n",
            "\tDiebold-Mariano Test\n",
            "\n",
            "data:  aex_cnn_w_qlikeaex_gru_w_qlike\n",
            "DM = 3.1495, Forecast horizon = 1, Loss function power = 2, p-value =\n",
            "0.002665\n",
            "alternative hypothesis: two.sided\n",
            "\n"
          ]
        }
      ]
    },
    {
      "cell_type": "markdown",
      "source": [
        "##### LSTM vs GRU"
      ],
      "metadata": {
        "id": "5TyL3YX16-Sm"
      }
    },
    {
      "cell_type": "code",
      "source": [
        "print(dm_se_aex_w_lstm_gru)"
      ],
      "metadata": {
        "colab": {
          "base_uri": "https://localhost:8080/"
        },
        "outputId": "0dee8bff-0898-4feb-fa1c-faa7e197d841",
        "id": "rJ3SItAm6-Sq"
      },
      "execution_count": 67,
      "outputs": [
        {
          "output_type": "stream",
          "name": "stdout",
          "text": [
            "\n",
            "\tDiebold-Mariano Test\n",
            "\n",
            "data:  aex_lstm_w_seaex_gru_w_se\n",
            "DM = 1.7447, Forecast horizon = 1, Loss function power = 2, p-value =\n",
            "0.08673\n",
            "alternative hypothesis: two.sided\n",
            "\n"
          ]
        }
      ]
    },
    {
      "cell_type": "code",
      "source": [
        "print(dm_qlike_aex_w_lstm_gru)"
      ],
      "metadata": {
        "colab": {
          "base_uri": "https://localhost:8080/"
        },
        "outputId": "0043c110-200d-4787-ea47-4a4bb8d1fe41",
        "id": "k5vDvTR06-Sr"
      },
      "execution_count": 68,
      "outputs": [
        {
          "output_type": "stream",
          "name": "stdout",
          "text": [
            "\n",
            "\tDiebold-Mariano Test\n",
            "\n",
            "data:  aex_lstm_w_qlikeaex_gru_w_qlike\n",
            "DM = -0.69614, Forecast horizon = 1, Loss function power = 2, p-value =\n",
            "0.4893\n",
            "alternative hypothesis: two.sided\n",
            "\n"
          ]
        }
      ]
    },
    {
      "cell_type": "markdown",
      "source": [
        "#### Tests for the 1-month ahead forecast"
      ],
      "metadata": {
        "id": "XTOhE4zITM4q"
      }
    },
    {
      "cell_type": "code",
      "source": [
        "# MCS for squared-error loss\n",
        "\n",
        "errors_matrix_se <- cbind(aex_har_m_se, aex_fnn_har_m_se, aex_fnn_m_se, aex_cnn_m_se, aex_lstm_m_se, aex_gru_m_se)\n",
        "errors_matrix_qlike <- cbind(aex_har_m_qlike, aex_fnn_har_m_qlike, aex_fnn_m_qlike, aex_cnn_m_qlike, aex_lstm_m_qlike, aex_gru_m_qlike)\n",
        "\n",
        "# B is number of bootstrap replications\n",
        "mcs_result_aex_se_m <- MCSprocedure(errors_matrix_se, alpha = 0.05, B = 5000, statistic = \"Tmax\")\n",
        "\n",
        "mcs_result_aex_qlike_m <- MCSprocedure(errors_matrix_qlike, alpha = 0.05, B = 5000, statistic = \"Tmax\")"
      ],
      "metadata": {
        "colab": {
          "base_uri": "https://localhost:8080/"
        },
        "id": "TCwtLTZUPr2J",
        "outputId": "77725210-336b-447f-d313-0781f7a7ea1a"
      },
      "execution_count": 69,
      "outputs": [
        {
          "output_type": "stream",
          "name": "stdout",
          "text": [
            "\n",
            "###########################################################################################################################\n",
            "Superior Set Model created\t:\n",
            "                 Rank_M        v_M  MCS_M Rank_R        v_R  MCS_R         Loss\n",
            "aex_har_m_se          3 -0.2793859 1.0000      2  0.7620041 0.8854 7.303718e-10\n",
            "aex_fnn_har_m_se      4  0.3279191 0.9394      4  1.1559213 0.7070 7.576918e-10\n",
            "aex_fnn_m_se          5  0.4184413 0.8980      3  1.0108192 0.7898 7.678510e-10\n",
            "aex_cnn_m_se          6  1.5440224 0.2192      6  2.1171838 0.1488 8.221302e-10\n",
            "aex_lstm_m_se         2 -1.4059582 1.0000      5  1.2916299 0.5928 7.180229e-10\n",
            "aex_gru_m_se          1 -1.6687356 1.0000      1 -0.7620041 1.0000 6.934362e-10\n",
            "p-value\t:\n",
            "[1] 0.2192\n",
            "\n",
            "###########################################################################################################################\n",
            "###########################################################################################################################\n",
            "Superior Set Model created\t:\n",
            "                    Rank_M        v_M  MCS_M Rank_R        v_R  MCS_R      Loss\n",
            "aex_har_m_qlike          2 -1.2622007 1.0000      2  0.2177186 0.9994 -9.556378\n",
            "aex_fnn_har_m_qlike      1 -1.5415946 1.0000      1 -0.2177186 1.0000 -9.558480\n",
            "aex_fnn_m_qlike          5  1.0081116 0.6092      4  1.2721734 0.6808 -9.501761\n",
            "aex_cnn_m_qlike          6  1.5099821 0.2442      6  1.6268064 0.4080 -9.499893\n",
            "aex_lstm_m_qlike         4  0.6576723 0.8010      5  1.4834733 0.5064 -9.523873\n",
            "aex_gru_m_qlike          3 -0.7287978 1.0000      3  1.2222281 0.7174 -9.537330\n",
            "p-value\t:\n",
            "[1] 0.2442\n",
            "\n",
            "###########################################################################################################################"
          ]
        }
      ]
    },
    {
      "cell_type": "code",
      "source": [
        "# Diebold-Mariano test\n",
        "\n",
        "dm_se_aex_m_har_fnn_har <- dm.test(aex_har_m_se, aex_fnn_har_m_se, alternative = \"two.sided\")\n",
        "dm_se_aex_m_har_fnn <- dm.test(aex_har_m_se, aex_fnn_m_se, alternative = \"two.sided\")\n",
        "dm_se_aex_m_har_cnn <- dm.test(aex_har_m_se, aex_cnn_m_se, alternative = \"two.sided\")\n",
        "dm_se_aex_m_har_lstm <- dm.test(aex_har_m_se, aex_lstm_m_se, alternative = \"two.sided\")\n",
        "dm_se_aex_m_har_gru <- dm.test(aex_har_m_se, aex_gru_m_se, alternative = \"two.sided\")\n",
        "dm_se_aex_m_fnn_har_fnn <- dm.test(aex_fnn_har_m_se, aex_fnn_m_se, alternative = \"two.sided\")\n",
        "dm_se_aex_m_fnn_har_cnn <- dm.test(aex_fnn_har_m_se, aex_cnn_m_se, alternative = \"two.sided\")\n",
        "dm_se_aex_m_fnn_har_lstm <- dm.test(aex_fnn_har_m_se, aex_lstm_m_se, alternative = \"two.sided\")\n",
        "dm_se_aex_m_fnn_har_gru <- dm.test(aex_fnn_har_m_se, aex_gru_m_se, alternative = \"two.sided\")\n",
        "dm_se_aex_m_fnn_cnn <- dm.test(aex_fnn_m_se, aex_cnn_m_se, alternative = \"two.sided\")\n",
        "dm_se_aex_m_fnn_lstm <- dm.test(aex_fnn_m_se, aex_lstm_m_se, alternative = \"two.sided\")\n",
        "dm_se_aex_m_fnn_gru <- dm.test(aex_fnn_m_se, aex_gru_m_se, alternative = \"two.sided\")\n",
        "dm_se_aex_m_cnn_lstm <- dm.test(aex_cnn_m_se, aex_lstm_m_se, alternative = \"two.sided\")\n",
        "dm_se_aex_m_cnn_gru <- dm.test(aex_cnn_m_se, aex_gru_m_se, alternative = \"two.sided\")\n",
        "dm_se_aex_m_lstm_gru <- dm.test(aex_lstm_m_se, aex_gru_m_se, alternative = \"two.sided\")\n",
        "\n",
        "dm_qlike_aex_m_har_fnn_har <- dm.test(aex_har_m_qlike, aex_fnn_har_m_qlike, alternative = \"two.sided\")\n",
        "dm_qlike_aex_m_har_fnn <- dm.test(aex_har_m_qlike, aex_fnn_m_qlike, alternative = \"two.sided\")\n",
        "dm_qlike_aex_m_har_cnn <- dm.test(aex_har_m_qlike, aex_cnn_m_qlike, alternative = \"two.sided\")\n",
        "dm_qlike_aex_m_har_lstm <- dm.test(aex_har_m_qlike, aex_lstm_m_qlike, alternative = \"two.sided\")\n",
        "dm_qlike_aex_m_har_gru <- dm.test(aex_har_m_qlike, aex_gru_m_qlike, alternative = \"two.sided\")\n",
        "dm_qlike_aex_m_fnn_har_fnn <- dm.test(aex_fnn_har_m_qlike, aex_fnn_m_qlike, alternative = \"two.sided\")\n",
        "dm_qlike_aex_m_fnn_har_cnn <- dm.test(aex_fnn_har_m_qlike, aex_cnn_m_qlike, alternative = \"two.sided\")\n",
        "dm_qlike_aex_m_fnn_har_lstm <- dm.test(aex_fnn_har_m_qlike, aex_lstm_m_qlike, alternative = \"two.sided\")\n",
        "dm_qlike_aex_m_fnn_har_gru <- dm.test(aex_fnn_har_m_qlike, aex_gru_m_qlike, alternative = \"two.sided\")\n",
        "dm_qlike_aex_m_fnn_cnn <- dm.test(aex_fnn_m_qlike, aex_cnn_m_qlike, alternative = \"two.sided\")\n",
        "dm_qlike_aex_m_fnn_lstm <- dm.test(aex_fnn_m_qlike, aex_lstm_m_qlike, alternative = \"two.sided\")\n",
        "dm_qlike_aex_m_fnn_gru <- dm.test(aex_fnn_m_qlike, aex_gru_m_qlike, alternative = \"two.sided\")\n",
        "dm_qlike_aex_m_cnn_lstm <- dm.test(aex_cnn_m_qlike, aex_lstm_m_qlike, alternative = \"two.sided\")\n",
        "dm_qlike_aex_m_cnn_gru <- dm.test(aex_cnn_m_qlike, aex_gru_m_qlike, alternative = \"two.sided\")\n",
        "dm_qlike_aex_m_lstm_gru <- dm.test(aex_lstm_m_qlike, aex_gru_m_qlike, alternative = \"two.sided\")"
      ],
      "metadata": {
        "id": "HfDfD6KiOVyh"
      },
      "execution_count": 70,
      "outputs": []
    },
    {
      "cell_type": "markdown",
      "source": [
        "##### HAR vs FNN-HAR"
      ],
      "metadata": {
        "id": "tCeapUV8TqsO"
      }
    },
    {
      "cell_type": "code",
      "source": [
        "print(dm_se_aex_m_har_fnn_har)"
      ],
      "metadata": {
        "colab": {
          "base_uri": "https://localhost:8080/"
        },
        "id": "2hiFQBtkT0wO",
        "outputId": "25aa48c7-75ba-4f43-a1e6-e9ae9e7010ca"
      },
      "execution_count": 71,
      "outputs": [
        {
          "output_type": "stream",
          "name": "stdout",
          "text": [
            "\n",
            "\tDiebold-Mariano Test\n",
            "\n",
            "data:  aex_har_m_seaex_fnn_har_m_se\n",
            "DM = -1.6568, Forecast horizon = 1, Loss function power = 2, p-value =\n",
            "0.09899\n",
            "alternative hypothesis: two.sided\n",
            "\n"
          ]
        }
      ]
    },
    {
      "cell_type": "code",
      "source": [
        "print(dm_qlike_aex_m_har_fnn_har)"
      ],
      "metadata": {
        "colab": {
          "base_uri": "https://localhost:8080/"
        },
        "id": "51zDIwniP9QJ",
        "outputId": "691d70cc-0049-4cf4-802c-7ddbd0e332b4"
      },
      "execution_count": 72,
      "outputs": [
        {
          "output_type": "stream",
          "name": "stdout",
          "text": [
            "\n",
            "\tDiebold-Mariano Test\n",
            "\n",
            "data:  aex_har_m_qlikeaex_fnn_har_m_qlike\n",
            "DM = -0.97296, Forecast horizon = 1, Loss function power = 2, p-value =\n",
            "0.3316\n",
            "alternative hypothesis: two.sided\n",
            "\n"
          ]
        }
      ]
    },
    {
      "cell_type": "markdown",
      "source": [
        "##### HAR vs FNN"
      ],
      "metadata": {
        "id": "PQKc2CKpUHZi"
      }
    },
    {
      "cell_type": "code",
      "source": [
        "print(dm_se_aex_m_har_fnn)"
      ],
      "metadata": {
        "colab": {
          "base_uri": "https://localhost:8080/"
        },
        "id": "tER7QZRSQkpp",
        "outputId": "41960a1d-5442-4326-83f6-cb36408fb98f"
      },
      "execution_count": 73,
      "outputs": [
        {
          "output_type": "stream",
          "name": "stdout",
          "text": [
            "\n",
            "\tDiebold-Mariano Test\n",
            "\n",
            "data:  aex_har_m_seaex_fnn_m_se\n",
            "DM = -1.2612, Forecast horizon = 1, Loss function power = 2, p-value =\n",
            "0.2086\n",
            "alternative hypothesis: two.sided\n",
            "\n"
          ]
        }
      ]
    },
    {
      "cell_type": "code",
      "source": [
        "print(dm_qlike_aex_m_har_fnn)"
      ],
      "metadata": {
        "colab": {
          "base_uri": "https://localhost:8080/"
        },
        "id": "fh_CVO48UNd8",
        "outputId": "a0e9e94e-dca2-4911-e5dc-397acd637ef7"
      },
      "execution_count": 74,
      "outputs": [
        {
          "output_type": "stream",
          "name": "stdout",
          "text": [
            "\n",
            "\tDiebold-Mariano Test\n",
            "\n",
            "data:  aex_har_m_qlikeaex_fnn_m_qlike\n",
            "DM = 0.67402, Forecast horizon = 1, Loss function power = 2, p-value =\n",
            "0.501\n",
            "alternative hypothesis: two.sided\n",
            "\n"
          ]
        }
      ]
    },
    {
      "cell_type": "markdown",
      "source": [
        "##### HAR vs CNN"
      ],
      "metadata": {
        "id": "1gZdpoZkUUEs"
      }
    },
    {
      "cell_type": "code",
      "source": [
        "print(dm_se_aex_m_har_cnn)"
      ],
      "metadata": {
        "colab": {
          "base_uri": "https://localhost:8080/"
        },
        "id": "TzVETj-gUPD_",
        "outputId": "30dd7f13-4053-41d5-db3f-1487c00f2e35"
      },
      "execution_count": 75,
      "outputs": [
        {
          "output_type": "stream",
          "name": "stdout",
          "text": [
            "\n",
            "\tDiebold-Mariano Test\n",
            "\n",
            "data:  aex_har_m_seaex_cnn_m_se\n",
            "DM = -1.3096, Forecast horizon = 1, Loss function power = 2, p-value =\n",
            "0.1917\n",
            "alternative hypothesis: two.sided\n",
            "\n"
          ]
        }
      ]
    },
    {
      "cell_type": "code",
      "source": [
        "print(dm_qlike_aex_m_har_cnn)"
      ],
      "metadata": {
        "colab": {
          "base_uri": "https://localhost:8080/"
        },
        "id": "nuSCzQS5Ud5F",
        "outputId": "5261a3f7-a986-459e-9223-8c62da2d4b2d"
      },
      "execution_count": 76,
      "outputs": [
        {
          "output_type": "stream",
          "name": "stdout",
          "text": [
            "\n",
            "\tDiebold-Mariano Test\n",
            "\n",
            "data:  aex_har_m_qlikeaex_cnn_m_qlike\n",
            "DM = 1.6114, Forecast horizon = 1, Loss function power = 2, p-value =\n",
            "0.1085\n",
            "alternative hypothesis: two.sided\n",
            "\n"
          ]
        }
      ]
    },
    {
      "cell_type": "markdown",
      "source": [
        "##### HAR vs LSTM"
      ],
      "metadata": {
        "id": "3ZXSp2u6UjL8"
      }
    },
    {
      "cell_type": "code",
      "source": [
        "print(dm_se_aex_m_har_lstm)"
      ],
      "metadata": {
        "colab": {
          "base_uri": "https://localhost:8080/"
        },
        "id": "OX6CwlA0UgVJ",
        "outputId": "2db3e89f-f880-4346-8221-cd1000dc9697"
      },
      "execution_count": 77,
      "outputs": [
        {
          "output_type": "stream",
          "name": "stdout",
          "text": [
            "\n",
            "\tDiebold-Mariano Test\n",
            "\n",
            "data:  aex_har_m_seaex_lstm_m_se\n",
            "DM = -1.1569, Forecast horizon = 1, Loss function power = 2, p-value =\n",
            "0.2486\n",
            "alternative hypothesis: two.sided\n",
            "\n"
          ]
        }
      ]
    },
    {
      "cell_type": "code",
      "source": [
        "print(dm_qlike_aex_m_har_lstm)"
      ],
      "metadata": {
        "colab": {
          "base_uri": "https://localhost:8080/"
        },
        "id": "67BUz-tAUpBW",
        "outputId": "3ca69e75-88e5-4f69-f6ac-98c89a9624d5"
      },
      "execution_count": 78,
      "outputs": [
        {
          "output_type": "stream",
          "name": "stdout",
          "text": [
            "\n",
            "\tDiebold-Mariano Test\n",
            "\n",
            "data:  aex_har_m_qlikeaex_lstm_m_qlike\n",
            "DM = 1.6164, Forecast horizon = 1, Loss function power = 2, p-value =\n",
            "0.1075\n",
            "alternative hypothesis: two.sided\n",
            "\n"
          ]
        }
      ]
    },
    {
      "cell_type": "markdown",
      "source": [
        "##### HAR vs GRU"
      ],
      "metadata": {
        "id": "06Yji_oVUu6M"
      }
    },
    {
      "cell_type": "code",
      "source": [
        "print(dm_se_aex_m_har_gru)"
      ],
      "metadata": {
        "colab": {
          "base_uri": "https://localhost:8080/"
        },
        "id": "s53oVPtZUrPm",
        "outputId": "499a632c-4fe6-43a3-e869-7ef6426a80a8"
      },
      "execution_count": 79,
      "outputs": [
        {
          "output_type": "stream",
          "name": "stdout",
          "text": [
            "\n",
            "\tDiebold-Mariano Test\n",
            "\n",
            "data:  aex_har_m_seaex_gru_m_se\n",
            "DM = -1.1382, Forecast horizon = 1, Loss function power = 2, p-value =\n",
            "0.2563\n",
            "alternative hypothesis: two.sided\n",
            "\n"
          ]
        }
      ]
    },
    {
      "cell_type": "code",
      "source": [
        "print(dm_qlike_aex_m_har_gru)"
      ],
      "metadata": {
        "colab": {
          "base_uri": "https://localhost:8080/"
        },
        "id": "EJy55mhcU1BE",
        "outputId": "20cee6f0-09ea-436a-ee36-d97a5bea8cb3"
      },
      "execution_count": 80,
      "outputs": [
        {
          "output_type": "stream",
          "name": "stdout",
          "text": [
            "\n",
            "\tDiebold-Mariano Test\n",
            "\n",
            "data:  aex_har_m_qlikeaex_gru_m_qlike\n",
            "DM = 0.75431, Forecast horizon = 1, Loss function power = 2, p-value =\n",
            "0.4515\n",
            "alternative hypothesis: two.sided\n",
            "\n"
          ]
        }
      ]
    },
    {
      "cell_type": "markdown",
      "source": [
        "##### FNN-HAR vs FNN"
      ],
      "metadata": {
        "id": "1KurrmHSU4IP"
      }
    },
    {
      "cell_type": "code",
      "source": [
        "print(dm_se_aex_m_fnn_har_fnn)"
      ],
      "metadata": {
        "colab": {
          "base_uri": "https://localhost:8080/"
        },
        "id": "fgHwTOG7U2KO",
        "outputId": "90823f98-2d8d-441b-8189-459034d7c9ac"
      },
      "execution_count": 81,
      "outputs": [
        {
          "output_type": "stream",
          "name": "stdout",
          "text": [
            "\n",
            "\tDiebold-Mariano Test\n",
            "\n",
            "data:  aex_fnn_har_m_seaex_fnn_m_se\n",
            "DM = -1.1283, Forecast horizon = 1, Loss function power = 2, p-value =\n",
            "0.2604\n",
            "alternative hypothesis: two.sided\n",
            "\n"
          ]
        }
      ]
    },
    {
      "cell_type": "code",
      "source": [
        "print(dm_qlike_aex_m_fnn_har_fnn)"
      ],
      "metadata": {
        "colab": {
          "base_uri": "https://localhost:8080/"
        },
        "id": "LacJZMs5VD7J",
        "outputId": "d81ceacf-55ae-4d6a-f25f-d177d4533bb2"
      },
      "execution_count": 82,
      "outputs": [
        {
          "output_type": "stream",
          "name": "stdout",
          "text": [
            "\n",
            "\tDiebold-Mariano Test\n",
            "\n",
            "data:  aex_fnn_har_m_qlikeaex_fnn_m_qlike\n",
            "DM = 1.6164, Forecast horizon = 1, Loss function power = 2, p-value =\n",
            "0.1074\n",
            "alternative hypothesis: two.sided\n",
            "\n"
          ]
        }
      ]
    },
    {
      "cell_type": "markdown",
      "source": [
        "##### FNN-HAR vs CNN"
      ],
      "metadata": {
        "id": "ff2xUZ_kWJgq"
      }
    },
    {
      "cell_type": "code",
      "source": [
        "print(dm_se_aex_m_fnn_har_cnn)"
      ],
      "metadata": {
        "colab": {
          "base_uri": "https://localhost:8080/"
        },
        "id": "jp5rf2-xWL9l",
        "outputId": "d1f37e04-dd73-4b4f-9006-83b2263de507"
      },
      "execution_count": 83,
      "outputs": [
        {
          "output_type": "stream",
          "name": "stdout",
          "text": [
            "\n",
            "\tDiebold-Mariano Test\n",
            "\n",
            "data:  aex_fnn_har_m_seaex_cnn_m_se\n",
            "DM = -1.156, Forecast horizon = 1, Loss function power = 2, p-value =\n",
            "0.249\n",
            "alternative hypothesis: two.sided\n",
            "\n"
          ]
        }
      ]
    },
    {
      "cell_type": "code",
      "source": [
        "print(dm_qlike_aex_m_fnn_har_cnn)"
      ],
      "metadata": {
        "colab": {
          "base_uri": "https://localhost:8080/"
        },
        "id": "yeczreBTWPZ9",
        "outputId": "8f01aaf8-df16-4dd5-b4ef-ecfac0e6082b"
      },
      "execution_count": 84,
      "outputs": [
        {
          "output_type": "stream",
          "name": "stdout",
          "text": [
            "\n",
            "\tDiebold-Mariano Test\n",
            "\n",
            "data:  aex_fnn_har_m_qlikeaex_cnn_m_qlike\n",
            "DM = 2.6615, Forecast horizon = 1, Loss function power = 2, p-value =\n",
            "0.008355\n",
            "alternative hypothesis: two.sided\n",
            "\n"
          ]
        }
      ]
    },
    {
      "cell_type": "markdown",
      "source": [
        "##### FNN-HAR vs LSTM"
      ],
      "metadata": {
        "id": "UjVSZ1OaWTCo"
      }
    },
    {
      "cell_type": "code",
      "source": [
        "print(dm_se_aex_m_fnn_har_lstm)"
      ],
      "metadata": {
        "colab": {
          "base_uri": "https://localhost:8080/"
        },
        "id": "9Y3jIy1RWWBL",
        "outputId": "5716f2b0-1f7b-4d95-8480-ee9ac9c3d1af"
      },
      "execution_count": 85,
      "outputs": [
        {
          "output_type": "stream",
          "name": "stdout",
          "text": [
            "\n",
            "\tDiebold-Mariano Test\n",
            "\n",
            "data:  aex_fnn_har_m_seaex_lstm_m_se\n",
            "DM = -0.96506, Forecast horizon = 1, Loss function power = 2, p-value =\n",
            "0.3356\n",
            "alternative hypothesis: two.sided\n",
            "\n"
          ]
        }
      ]
    },
    {
      "cell_type": "code",
      "source": [
        "print(dm_qlike_aex_m_fnn_har_lstm)"
      ],
      "metadata": {
        "colab": {
          "base_uri": "https://localhost:8080/"
        },
        "id": "Eg5s0JUwWYl4",
        "outputId": "678402ae-eddf-4e19-d27e-d7c8097813ac"
      },
      "execution_count": 86,
      "outputs": [
        {
          "output_type": "stream",
          "name": "stdout",
          "text": [
            "\n",
            "\tDiebold-Mariano Test\n",
            "\n",
            "data:  aex_fnn_har_m_qlikeaex_lstm_m_qlike\n",
            "DM = 2.1759, Forecast horizon = 1, Loss function power = 2, p-value =\n",
            "0.03063\n",
            "alternative hypothesis: two.sided\n",
            "\n"
          ]
        }
      ]
    },
    {
      "cell_type": "markdown",
      "source": [
        "##### FNN-HAR vs GRU"
      ],
      "metadata": {
        "id": "i2TBjEbQWamN"
      }
    },
    {
      "cell_type": "code",
      "source": [
        "print(dm_se_aex_m_fnn_har_gru)"
      ],
      "metadata": {
        "colab": {
          "base_uri": "https://localhost:8080/"
        },
        "id": "3-Z-7miHWdK-",
        "outputId": "7d2a9a1f-cb09-4a77-ee3a-01ce28943fac"
      },
      "execution_count": 87,
      "outputs": [
        {
          "output_type": "stream",
          "name": "stdout",
          "text": [
            "\n",
            "\tDiebold-Mariano Test\n",
            "\n",
            "data:  aex_fnn_har_m_seaex_gru_m_se\n",
            "DM = -0.85799, Forecast horizon = 1, Loss function power = 2, p-value =\n",
            "0.3918\n",
            "alternative hypothesis: two.sided\n",
            "\n"
          ]
        }
      ]
    },
    {
      "cell_type": "code",
      "source": [
        "print(dm_qlike_aex_m_fnn_har_gru)"
      ],
      "metadata": {
        "colab": {
          "base_uri": "https://localhost:8080/"
        },
        "id": "3iOa3XgUWj4k",
        "outputId": "e10d8adb-8b80-44bc-b454-8410b8c80d03"
      },
      "execution_count": 88,
      "outputs": [
        {
          "output_type": "stream",
          "name": "stdout",
          "text": [
            "\n",
            "\tDiebold-Mariano Test\n",
            "\n",
            "data:  aex_fnn_har_m_qlikeaex_gru_m_qlike\n",
            "DM = 1.5672, Forecast horizon = 1, Loss function power = 2, p-value =\n",
            "0.1185\n",
            "alternative hypothesis: two.sided\n",
            "\n"
          ]
        }
      ]
    },
    {
      "cell_type": "markdown",
      "source": [
        "##### FNN vs CNN"
      ],
      "metadata": {
        "id": "li5XTP9sWmCu"
      }
    },
    {
      "cell_type": "code",
      "source": [
        "print(dm_se_aex_m_fnn_cnn)"
      ],
      "metadata": {
        "colab": {
          "base_uri": "https://localhost:8080/"
        },
        "id": "k_uZS3fAWodh",
        "outputId": "e923f045-c60b-4a0d-86db-d8cefc5ddb06"
      },
      "execution_count": 89,
      "outputs": [
        {
          "output_type": "stream",
          "name": "stdout",
          "text": [
            "\n",
            "\tDiebold-Mariano Test\n",
            "\n",
            "data:  aex_fnn_m_seaex_cnn_m_se\n",
            "DM = 0.8682, Forecast horizon = 1, Loss function power = 2, p-value =\n",
            "0.3862\n",
            "alternative hypothesis: two.sided\n",
            "\n"
          ]
        }
      ]
    },
    {
      "cell_type": "code",
      "source": [
        "print(dm_qlike_aex_m_fnn_cnn)"
      ],
      "metadata": {
        "colab": {
          "base_uri": "https://localhost:8080/"
        },
        "id": "OxbJLymhWuvd",
        "outputId": "0448295b-9cce-4348-d0ef-5c8f2b21510f"
      },
      "execution_count": 90,
      "outputs": [
        {
          "output_type": "stream",
          "name": "stdout",
          "text": [
            "\n",
            "\tDiebold-Mariano Test\n",
            "\n",
            "data:  aex_fnn_m_qlikeaex_cnn_m_qlike\n",
            "DM = 1.1462, Forecast horizon = 1, Loss function power = 2, p-value =\n",
            "0.253\n",
            "alternative hypothesis: two.sided\n",
            "\n"
          ]
        }
      ]
    },
    {
      "cell_type": "markdown",
      "source": [
        "##### FNN vs LSTM"
      ],
      "metadata": {
        "id": "IfU3XTi0Wy7k"
      }
    },
    {
      "cell_type": "code",
      "source": [
        "print(dm_se_aex_m_fnn_lstm)"
      ],
      "metadata": {
        "colab": {
          "base_uri": "https://localhost:8080/"
        },
        "id": "9Y7ee-8FW0pD",
        "outputId": "8cde4b57-3f41-46e7-bf77-060df35fead2"
      },
      "execution_count": 91,
      "outputs": [
        {
          "output_type": "stream",
          "name": "stdout",
          "text": [
            "\n",
            "\tDiebold-Mariano Test\n",
            "\n",
            "data:  aex_fnn_m_seaex_lstm_m_se\n",
            "DM = 1.4326, Forecast horizon = 1, Loss function power = 2, p-value =\n",
            "0.1534\n",
            "alternative hypothesis: two.sided\n",
            "\n"
          ]
        }
      ]
    },
    {
      "cell_type": "code",
      "source": [
        "print(dm_qlike_aex_m_fnn_lstm)"
      ],
      "metadata": {
        "colab": {
          "base_uri": "https://localhost:8080/"
        },
        "id": "hL3lS8RiW300",
        "outputId": "187b8fe3-889c-4155-f92e-b390a56f4fd7"
      },
      "execution_count": 92,
      "outputs": [
        {
          "output_type": "stream",
          "name": "stdout",
          "text": [
            "\n",
            "\tDiebold-Mariano Test\n",
            "\n",
            "data:  aex_fnn_m_qlikeaex_lstm_m_qlike\n",
            "DM = 0.26076, Forecast horizon = 1, Loss function power = 2, p-value =\n",
            "0.7945\n",
            "alternative hypothesis: two.sided\n",
            "\n"
          ]
        }
      ]
    },
    {
      "cell_type": "markdown",
      "source": [
        "##### FNN vs GRU"
      ],
      "metadata": {
        "id": "7ZpIO58BW8_w"
      }
    },
    {
      "cell_type": "code",
      "source": [
        "print(dm_se_aex_m_fnn_gru)"
      ],
      "metadata": {
        "colab": {
          "base_uri": "https://localhost:8080/"
        },
        "id": "rUX7mzkBW-3M",
        "outputId": "639ef77c-062c-46cf-c4b7-08cbd214ec8e"
      },
      "execution_count": 93,
      "outputs": [
        {
          "output_type": "stream",
          "name": "stdout",
          "text": [
            "\n",
            "\tDiebold-Mariano Test\n",
            "\n",
            "data:  aex_fnn_m_seaex_gru_m_se\n",
            "DM = 1.3661, Forecast horizon = 1, Loss function power = 2, p-value =\n",
            "0.1733\n",
            "alternative hypothesis: two.sided\n",
            "\n"
          ]
        }
      ]
    },
    {
      "cell_type": "code",
      "source": [
        "print(dm_qlike_aex_m_fnn_lstm)"
      ],
      "metadata": {
        "colab": {
          "base_uri": "https://localhost:8080/"
        },
        "id": "t17qu5WLXA6b",
        "outputId": "c65697b6-fbbe-4f39-aae2-78e7bbc26c6f"
      },
      "execution_count": 94,
      "outputs": [
        {
          "output_type": "stream",
          "name": "stdout",
          "text": [
            "\n",
            "\tDiebold-Mariano Test\n",
            "\n",
            "data:  aex_fnn_m_qlikeaex_lstm_m_qlike\n",
            "DM = 0.26076, Forecast horizon = 1, Loss function power = 2, p-value =\n",
            "0.7945\n",
            "alternative hypothesis: two.sided\n",
            "\n"
          ]
        }
      ]
    },
    {
      "cell_type": "markdown",
      "source": [
        "##### CNN vs LSTM"
      ],
      "metadata": {
        "id": "6g4D-MyfXCl-"
      }
    },
    {
      "cell_type": "code",
      "source": [
        "print(dm_se_aex_m_cnn_lstm)"
      ],
      "metadata": {
        "colab": {
          "base_uri": "https://localhost:8080/"
        },
        "id": "peUsImehXFtz",
        "outputId": "69085ce8-2cce-4718-9cee-2f1d06e1d095"
      },
      "execution_count": 95,
      "outputs": [
        {
          "output_type": "stream",
          "name": "stdout",
          "text": [
            "\n",
            "\tDiebold-Mariano Test\n",
            "\n",
            "data:  aex_cnn_m_seaex_lstm_m_se\n",
            "DM = 1.3994, Forecast horizon = 1, Loss function power = 2, p-value =\n",
            "0.1631\n",
            "alternative hypothesis: two.sided\n",
            "\n"
          ]
        }
      ]
    },
    {
      "cell_type": "code",
      "source": [
        "print(dm_qlike_aex_m_cnn_lstm)"
      ],
      "metadata": {
        "colab": {
          "base_uri": "https://localhost:8080/"
        },
        "id": "YqLCU6paXICO",
        "outputId": "c3667426-407d-425c-b49f-f9bfd0041cf5"
      },
      "execution_count": 96,
      "outputs": [
        {
          "output_type": "stream",
          "name": "stdout",
          "text": [
            "\n",
            "\tDiebold-Mariano Test\n",
            "\n",
            "data:  aex_cnn_m_qlikeaex_lstm_m_qlike\n",
            "DM = -0.74996, Forecast horizon = 1, Loss function power = 2, p-value =\n",
            "0.4541\n",
            "alternative hypothesis: two.sided\n",
            "\n"
          ]
        }
      ]
    },
    {
      "cell_type": "markdown",
      "source": [
        "##### CNN vs GRU"
      ],
      "metadata": {
        "id": "lVvxbnGBXKZh"
      }
    },
    {
      "cell_type": "code",
      "source": [
        "print(dm_se_aex_m_cnn_gru)"
      ],
      "metadata": {
        "colab": {
          "base_uri": "https://localhost:8080/"
        },
        "id": "wEr0gFcjXMIv",
        "outputId": "43f9236c-d0a4-4d37-8be1-7a70186a3632"
      },
      "execution_count": 97,
      "outputs": [
        {
          "output_type": "stream",
          "name": "stdout",
          "text": [
            "\n",
            "\tDiebold-Mariano Test\n",
            "\n",
            "data:  aex_cnn_m_seaex_gru_m_se\n",
            "DM = 1.4579, Forecast horizon = 1, Loss function power = 2, p-value =\n",
            "0.1463\n",
            "alternative hypothesis: two.sided\n",
            "\n"
          ]
        }
      ]
    },
    {
      "cell_type": "code",
      "source": [
        "print(dm_qlike_aex_m_cnn_gru)"
      ],
      "metadata": {
        "colab": {
          "base_uri": "https://localhost:8080/"
        },
        "id": "HJFU6lQwXORn",
        "outputId": "929e76b2-ab5d-4ed9-bebb-9321b100bb69"
      },
      "execution_count": 98,
      "outputs": [
        {
          "output_type": "stream",
          "name": "stdout",
          "text": [
            "\n",
            "\tDiebold-Mariano Test\n",
            "\n",
            "data:  aex_cnn_m_qlikeaex_gru_m_qlike\n",
            "DM = -1.195, Forecast horizon = 1, Loss function power = 2, p-value =\n",
            "0.2334\n",
            "alternative hypothesis: two.sided\n",
            "\n"
          ]
        }
      ]
    },
    {
      "cell_type": "markdown",
      "source": [
        "##### LSTM vs GRU"
      ],
      "metadata": {
        "id": "FmDE6xNrXfSk"
      }
    },
    {
      "cell_type": "code",
      "source": [
        "print(dm_se_aex_m_lstm_gru)"
      ],
      "metadata": {
        "colab": {
          "base_uri": "https://localhost:8080/"
        },
        "id": "dXJ5dEmcXhAW",
        "outputId": "1959181c-280a-4b11-94b0-24e839f59fdb"
      },
      "execution_count": 99,
      "outputs": [
        {
          "output_type": "stream",
          "name": "stdout",
          "text": [
            "\n",
            "\tDiebold-Mariano Test\n",
            "\n",
            "data:  aex_lstm_m_seaex_gru_m_se\n",
            "DM = 1.202, Forecast horizon = 1, Loss function power = 2, p-value =\n",
            "0.2307\n",
            "alternative hypothesis: two.sided\n",
            "\n"
          ]
        }
      ]
    },
    {
      "cell_type": "code",
      "source": [
        "print(dm_qlike_aex_m_lstm_gru)"
      ],
      "metadata": {
        "colab": {
          "base_uri": "https://localhost:8080/"
        },
        "id": "o-zQ2oABXj0t",
        "outputId": "e509ca9e-8847-4295-9af4-caff97804f88"
      },
      "execution_count": 100,
      "outputs": [
        {
          "output_type": "stream",
          "name": "stdout",
          "text": [
            "\n",
            "\tDiebold-Mariano Test\n",
            "\n",
            "data:  aex_lstm_m_qlikeaex_gru_m_qlike\n",
            "DM = -1.8414, Forecast horizon = 1, Loss function power = 2, p-value =\n",
            "0.06692\n",
            "alternative hypothesis: two.sided\n",
            "\n"
          ]
        }
      ]
    },
    {
      "cell_type": "markdown",
      "source": [
        "### Statistical analysis for the DAX index"
      ],
      "metadata": {
        "id": "v0OwzH0wdo5P"
      }
    },
    {
      "cell_type": "markdown",
      "source": [
        "#### Tests for the 1-day ahead forecast"
      ],
      "metadata": {
        "id": "-mxKpYz5dct5"
      }
    },
    {
      "cell_type": "code",
      "source": [
        "# MCS for squared-error loss\n",
        "\n",
        "errors_matrix_se <- cbind(dax_har_d_se, dax_fnn_har_d_se, dax_fnn_d_se, dax_cnn_d_se, dax_lstm_d_se, dax_gru_d_se)\n",
        "errors_matrix_qlike <- cbind(dax_har_d_qlike, dax_fnn_har_d_qlike, dax_fnn_d_qlike, dax_cnn_d_qlike, dax_lstm_d_qlike, dax_gru_d_qlike)\n",
        "\n",
        "# B is number of bootstrap replications\n",
        "mcs_result_dax_se_d <- MCSprocedure(errors_matrix_se, alpha = 0.05, B = 5000, statistic = \"Tmax\")\n",
        "\n",
        "mcs_result_dax_qlike_d <- MCSprocedure(errors_matrix_qlike, alpha = 0.05, B = 5000, statistic = \"Tmax\")"
      ],
      "metadata": {
        "colab": {
          "base_uri": "https://localhost:8080/"
        },
        "outputId": "f77c67de-4029-4dc9-e353-8dc3b2f4423b",
        "id": "XAG7FyyNdcuO"
      },
      "execution_count": 101,
      "outputs": [
        {
          "output_type": "stream",
          "name": "stdout",
          "text": [
            "\n",
            "Model dax_lstm_d_se eliminated 2024-06-05 14:45:51.590691\n",
            "Model dax_gru_d_se eliminated 2024-06-05 14:45:54.352185\n",
            "Model dax_cnn_d_se eliminated 2024-06-05 14:45:56.306547\n",
            "Model dax_har_d_se eliminated 2024-06-05 14:45:57.716042\n",
            "###########################################################################################################################\n",
            "Superior Set Model created\t:\n",
            "                 Rank_M       v_M MCS_M Rank_R       v_R MCS_R         Loss\n",
            "dax_fnn_har_d_se      2  1.205678 0.286      2  1.205678 0.286 5.944767e-11\n",
            "dax_fnn_d_se          1 -1.205678 1.000      1 -1.205678 1.000 4.524145e-11\n",
            "p-value\t:\n",
            "[1] 0.286\n",
            "\n",
            "###########################################################################################################################\n",
            "Model dax_lstm_d_qlike eliminated 2024-06-05 14:46:02.552592\n",
            "Model dax_gru_d_qlike eliminated 2024-06-05 14:46:05.738671\n",
            "Model dax_cnn_d_qlike eliminated 2024-06-05 14:46:07.714575\n",
            "Model dax_har_d_qlike eliminated 2024-06-05 14:46:09.207312\n",
            "###########################################################################################################################\n",
            "Superior Set Model created\t:\n",
            "                    Rank_M        v_M  MCS_M Rank_R        v_R  MCS_R      Loss\n",
            "dax_fnn_har_d_qlike      2  0.6145405 0.5332      2  0.6145405 0.5332 -10.18887\n",
            "dax_fnn_d_qlike          1 -0.6145405 1.0000      1 -0.6145405 1.0000 -10.19554\n",
            "p-value\t:\n",
            "[1] 0.5332\n",
            "\n",
            "###########################################################################################################################"
          ]
        }
      ]
    },
    {
      "cell_type": "code",
      "source": [
        "# Diebold-Mariano test\n",
        "\n",
        "dm_se_dax_d_har_fnn_har <- dm.test(dax_har_d_se, dax_fnn_har_d_se, alternative = \"two.sided\")\n",
        "dm_se_dax_d_har_fnn <- dm.test(dax_har_d_se, dax_fnn_d_se, alternative = \"two.sided\")\n",
        "dm_se_dax_d_har_cnn <- dm.test(dax_har_d_se, dax_cnn_d_se, alternative = \"two.sided\")\n",
        "dm_se_dax_d_har_lstm <- dm.test(dax_har_d_se, dax_lstm_d_se, alternative = \"two.sided\")\n",
        "dm_se_dax_d_har_gru <- dm.test(dax_har_d_se, dax_gru_d_se, alternative = \"two.sided\")\n",
        "dm_se_dax_d_fnn_har_fnn <- dm.test(dax_fnn_har_d_se, dax_fnn_d_se, alternative = \"two.sided\")\n",
        "dm_se_dax_d_fnn_har_cnn <- dm.test(dax_fnn_har_d_se, dax_cnn_d_se, alternative = \"two.sided\")\n",
        "dm_se_dax_d_fnn_har_lstm <- dm.test(dax_fnn_har_d_se, dax_lstm_d_se, alternative = \"two.sided\")\n",
        "dm_se_dax_d_fnn_har_gru <- dm.test(dax_fnn_har_d_se, dax_gru_d_se, alternative = \"two.sided\")\n",
        "dm_se_dax_d_fnn_cnn <- dm.test(dax_fnn_d_se, dax_cnn_d_se, alternative = \"two.sided\")\n",
        "dm_se_dax_d_fnn_lstm <- dm.test(dax_fnn_d_se, dax_lstm_d_se, alternative = \"two.sided\")\n",
        "dm_se_dax_d_fnn_gru <- dm.test(dax_fnn_d_se, dax_gru_d_se, alternative = \"two.sided\")\n",
        "dm_se_dax_d_cnn_lstm <- dm.test(dax_cnn_d_se, dax_lstm_d_se, alternative = \"two.sided\")\n",
        "dm_se_dax_d_cnn_gru <- dm.test(dax_cnn_d_se, dax_gru_d_se, alternative = \"two.sided\")\n",
        "dm_se_dax_d_lstm_gru <- dm.test(dax_lstm_d_se, dax_gru_d_se, alternative = \"two.sided\")\n",
        "\n",
        "dm_qlike_dax_d_har_fnn_har <- dm.test(dax_har_d_qlike, dax_fnn_har_d_qlike, alternative = \"two.sided\")\n",
        "dm_qlike_dax_d_har_fnn <- dm.test(dax_har_d_qlike, dax_fnn_d_qlike, alternative = \"two.sided\")\n",
        "dm_qlike_dax_d_har_cnn <- dm.test(dax_har_d_qlike, dax_cnn_d_qlike, alternative = \"two.sided\")\n",
        "dm_qlike_dax_d_har_lstm <- dm.test(dax_har_d_qlike, dax_lstm_d_qlike, alternative = \"two.sided\")\n",
        "dm_qlike_dax_d_har_gru <- dm.test(dax_har_d_qlike, dax_gru_d_qlike, alternative = \"two.sided\")\n",
        "dm_qlike_dax_d_fnn_har_fnn <- dm.test(dax_fnn_har_d_qlike, dax_fnn_d_qlike, alternative = \"two.sided\")\n",
        "dm_qlike_dax_d_fnn_har_cnn <- dm.test(dax_fnn_har_d_qlike, dax_cnn_d_qlike, alternative = \"two.sided\")\n",
        "dm_qlike_dax_d_fnn_har_lstm <- dm.test(dax_fnn_har_d_qlike, dax_lstm_d_qlike, alternative = \"two.sided\")\n",
        "dm_qlike_dax_d_fnn_har_gru <- dm.test(dax_fnn_har_d_qlike, dax_gru_d_qlike, alternative = \"two.sided\")\n",
        "dm_qlike_dax_d_fnn_cnn <- dm.test(dax_fnn_d_qlike, dax_cnn_d_qlike, alternative = \"two.sided\")\n",
        "dm_qlike_dax_d_fnn_lstm <- dm.test(dax_fnn_d_qlike, dax_lstm_d_qlike, alternative = \"two.sided\")\n",
        "dm_qlike_dax_d_fnn_gru <- dm.test(dax_fnn_d_qlike, dax_gru_d_qlike, alternative = \"two.sided\")\n",
        "dm_qlike_dax_d_cnn_lstm <- dm.test(dax_cnn_d_qlike, dax_lstm_d_qlike, alternative = \"two.sided\")\n",
        "dm_qlike_dax_d_cnn_gru <- dm.test(dax_cnn_d_qlike, dax_gru_d_qlike, alternative = \"two.sided\")\n",
        "dm_qlike_dax_d_lstm_gru <- dm.test(dax_lstm_d_qlike, dax_gru_d_qlike, alternative = \"two.sided\")"
      ],
      "metadata": {
        "id": "oC8VgEC6dcuP"
      },
      "execution_count": 102,
      "outputs": []
    },
    {
      "cell_type": "markdown",
      "source": [
        "##### HAR vs FNN-HAR"
      ],
      "metadata": {
        "id": "fONoUH5edcuP"
      }
    },
    {
      "cell_type": "code",
      "source": [
        "print(dm_se_dax_d_har_fnn_har)"
      ],
      "metadata": {
        "colab": {
          "base_uri": "https://localhost:8080/"
        },
        "outputId": "e291aead-9a10-46c7-d882-bcf430cfdef4",
        "id": "kYPJBtOadcuQ"
      },
      "execution_count": 103,
      "outputs": [
        {
          "output_type": "stream",
          "name": "stdout",
          "text": [
            "\n",
            "\tDiebold-Mariano Test\n",
            "\n",
            "data:  dax_har_d_sedax_fnn_har_d_se\n",
            "DM = 1.3787, Forecast horizon = 1, Loss function power = 2, p-value =\n",
            "0.1954\n",
            "alternative hypothesis: two.sided\n",
            "\n"
          ]
        }
      ]
    },
    {
      "cell_type": "code",
      "source": [
        "print(dm_qlike_dax_d_har_fnn_har)"
      ],
      "metadata": {
        "colab": {
          "base_uri": "https://localhost:8080/"
        },
        "outputId": "5eabfcfd-cf82-4ceb-db73-c995797c9f0a",
        "id": "f1AGp1b-dcuQ"
      },
      "execution_count": 104,
      "outputs": [
        {
          "output_type": "stream",
          "name": "stdout",
          "text": [
            "\n",
            "\tDiebold-Mariano Test\n",
            "\n",
            "data:  dax_har_d_qlikedax_fnn_har_d_qlike\n",
            "DM = -3.724, Forecast horizon = 1, Loss function power = 2, p-value =\n",
            "0.003358\n",
            "alternative hypothesis: two.sided\n",
            "\n"
          ]
        }
      ]
    },
    {
      "cell_type": "markdown",
      "source": [
        "##### HAR vs FNN"
      ],
      "metadata": {
        "id": "uNmYCkzZdcuQ"
      }
    },
    {
      "cell_type": "code",
      "source": [
        "print(dm_se_dax_d_har_fnn)"
      ],
      "metadata": {
        "colab": {
          "base_uri": "https://localhost:8080/"
        },
        "outputId": "da0ce2dd-9844-470e-cf17-3a303b953628",
        "id": "xDk9ahqDdcuQ"
      },
      "execution_count": 105,
      "outputs": [
        {
          "output_type": "stream",
          "name": "stdout",
          "text": [
            "\n",
            "\tDiebold-Mariano Test\n",
            "\n",
            "data:  dax_har_d_sedax_fnn_d_se\n",
            "DM = 1.3382, Forecast horizon = 1, Loss function power = 2, p-value =\n",
            "0.2078\n",
            "alternative hypothesis: two.sided\n",
            "\n"
          ]
        }
      ]
    },
    {
      "cell_type": "code",
      "source": [
        "print(dm_qlike_dax_d_har_fnn)"
      ],
      "metadata": {
        "colab": {
          "base_uri": "https://localhost:8080/"
        },
        "outputId": "c195e1a6-05e5-4077-84c8-52df196d2ce9",
        "id": "Zk2LXCAJdcuR"
      },
      "execution_count": 106,
      "outputs": [
        {
          "output_type": "stream",
          "name": "stdout",
          "text": [
            "\n",
            "\tDiebold-Mariano Test\n",
            "\n",
            "data:  dax_har_d_qlikedax_fnn_d_qlike\n",
            "DM = -2.9657, Forecast horizon = 1, Loss function power = 2, p-value =\n",
            "0.01284\n",
            "alternative hypothesis: two.sided\n",
            "\n"
          ]
        }
      ]
    },
    {
      "cell_type": "markdown",
      "source": [
        "##### HAR vs CNN"
      ],
      "metadata": {
        "id": "7SN5B1KbdcuR"
      }
    },
    {
      "cell_type": "code",
      "source": [
        "print(dm_se_dax_d_har_cnn)"
      ],
      "metadata": {
        "colab": {
          "base_uri": "https://localhost:8080/"
        },
        "outputId": "2559e8d3-bd7e-4a35-f2fd-42b1e951b168",
        "id": "J5tfZdqZdcuR"
      },
      "execution_count": 107,
      "outputs": [
        {
          "output_type": "stream",
          "name": "stdout",
          "text": [
            "\n",
            "\tDiebold-Mariano Test\n",
            "\n",
            "data:  dax_har_d_sedax_cnn_d_se\n",
            "DM = 0.51578, Forecast horizon = 1, Loss function power = 2, p-value =\n",
            "0.6162\n",
            "alternative hypothesis: two.sided\n",
            "\n"
          ]
        }
      ]
    },
    {
      "cell_type": "code",
      "source": [
        "print(dm_qlike_dax_d_har_cnn)"
      ],
      "metadata": {
        "colab": {
          "base_uri": "https://localhost:8080/"
        },
        "outputId": "cb0b3d8e-7be8-4be5-d548-171c7884ae70",
        "id": "kD9QPRHCdcuR"
      },
      "execution_count": 108,
      "outputs": [
        {
          "output_type": "stream",
          "name": "stdout",
          "text": [
            "\n",
            "\tDiebold-Mariano Test\n",
            "\n",
            "data:  dax_har_d_qlikedax_cnn_d_qlike\n",
            "DM = 0.76316, Forecast horizon = 1, Loss function power = 2, p-value =\n",
            "0.4614\n",
            "alternative hypothesis: two.sided\n",
            "\n"
          ]
        }
      ]
    },
    {
      "cell_type": "markdown",
      "source": [
        "##### HAR vs LSTM"
      ],
      "metadata": {
        "id": "7rRu0FM7dcuS"
      }
    },
    {
      "cell_type": "code",
      "source": [
        "print(dm_se_dax_d_har_lstm)"
      ],
      "metadata": {
        "colab": {
          "base_uri": "https://localhost:8080/"
        },
        "outputId": "087c4b3a-3183-4095-e313-4a916ece3630",
        "id": "EZNoUuUfdcuS"
      },
      "execution_count": 109,
      "outputs": [
        {
          "output_type": "stream",
          "name": "stdout",
          "text": [
            "\n",
            "\tDiebold-Mariano Test\n",
            "\n",
            "data:  dax_har_d_sedax_lstm_d_se\n",
            "DM = -0.33324, Forecast horizon = 1, Loss function power = 2, p-value =\n",
            "0.7452\n",
            "alternative hypothesis: two.sided\n",
            "\n"
          ]
        }
      ]
    },
    {
      "cell_type": "code",
      "source": [
        "print(dm_qlike_dax_d_har_lstm)"
      ],
      "metadata": {
        "colab": {
          "base_uri": "https://localhost:8080/"
        },
        "outputId": "4978c6ae-1335-4954-8d1b-11e0e68bd03a",
        "id": "TVYjYmqHdcuS"
      },
      "execution_count": 110,
      "outputs": [
        {
          "output_type": "stream",
          "name": "stdout",
          "text": [
            "\n",
            "\tDiebold-Mariano Test\n",
            "\n",
            "data:  dax_har_d_qlikedax_lstm_d_qlike\n",
            "DM = 3.3292, Forecast horizon = 1, Loss function power = 2, p-value =\n",
            "0.00672\n",
            "alternative hypothesis: two.sided\n",
            "\n"
          ]
        }
      ]
    },
    {
      "cell_type": "markdown",
      "source": [
        "##### HAR vs GRU"
      ],
      "metadata": {
        "id": "u1DJcZARdcuS"
      }
    },
    {
      "cell_type": "code",
      "source": [
        "print(dm_se_dax_d_har_gru)"
      ],
      "metadata": {
        "colab": {
          "base_uri": "https://localhost:8080/"
        },
        "outputId": "4b5070c1-70c7-405a-800f-e5de432aa3f5",
        "id": "4BtMfHiZdcuT"
      },
      "execution_count": 111,
      "outputs": [
        {
          "output_type": "stream",
          "name": "stdout",
          "text": [
            "\n",
            "\tDiebold-Mariano Test\n",
            "\n",
            "data:  dax_har_d_sedax_gru_d_se\n",
            "DM = 0.83117, Forecast horizon = 1, Loss function power = 2, p-value =\n",
            "0.4236\n",
            "alternative hypothesis: two.sided\n",
            "\n"
          ]
        }
      ]
    },
    {
      "cell_type": "code",
      "source": [
        "print(dm_qlike_dax_d_har_gru)"
      ],
      "metadata": {
        "colab": {
          "base_uri": "https://localhost:8080/"
        },
        "outputId": "5fa43294-52dd-4079-d78d-ac057869041d",
        "id": "LOJ_dMyudcuT"
      },
      "execution_count": 112,
      "outputs": [
        {
          "output_type": "stream",
          "name": "stdout",
          "text": [
            "\n",
            "\tDiebold-Mariano Test\n",
            "\n",
            "data:  dax_har_d_qlikedax_gru_d_qlike\n",
            "DM = 1.2634, Forecast horizon = 1, Loss function power = 2, p-value =\n",
            "0.2326\n",
            "alternative hypothesis: two.sided\n",
            "\n"
          ]
        }
      ]
    },
    {
      "cell_type": "markdown",
      "source": [
        "##### FNN-HAR vs FNN"
      ],
      "metadata": {
        "id": "VKDdGV8vdcuT"
      }
    },
    {
      "cell_type": "code",
      "source": [
        "print(dm_se_dax_d_fnn_har_fnn)"
      ],
      "metadata": {
        "colab": {
          "base_uri": "https://localhost:8080/"
        },
        "outputId": "59794fc2-d325-488e-cfef-a74e5e4e7fd7",
        "id": "BvnWMHySdcuT"
      },
      "execution_count": 113,
      "outputs": [
        {
          "output_type": "stream",
          "name": "stdout",
          "text": [
            "\n",
            "\tDiebold-Mariano Test\n",
            "\n",
            "data:  dax_fnn_har_d_sedax_fnn_d_se\n",
            "DM = 0.96336, Forecast horizon = 1, Loss function power = 2, p-value =\n",
            "0.3561\n",
            "alternative hypothesis: two.sided\n",
            "\n"
          ]
        }
      ]
    },
    {
      "cell_type": "code",
      "source": [
        "print(dm_qlike_dax_d_fnn_har_fnn)"
      ],
      "metadata": {
        "colab": {
          "base_uri": "https://localhost:8080/"
        },
        "outputId": "0dc5999c-01b1-4a68-d07e-186e2036ac4e",
        "id": "1AxkwJ9sdcuU"
      },
      "execution_count": 114,
      "outputs": [
        {
          "output_type": "stream",
          "name": "stdout",
          "text": [
            "\n",
            "\tDiebold-Mariano Test\n",
            "\n",
            "data:  dax_fnn_har_d_qlikedax_fnn_d_qlike\n",
            "DM = -0.39834, Forecast horizon = 1, Loss function power = 2, p-value =\n",
            "0.698\n",
            "alternative hypothesis: two.sided\n",
            "\n"
          ]
        }
      ]
    },
    {
      "cell_type": "markdown",
      "source": [
        "##### FNN-HAR vs CNN"
      ],
      "metadata": {
        "id": "hcXOgEqLdcuU"
      }
    },
    {
      "cell_type": "code",
      "source": [
        "print(dm_se_dax_d_fnn_har_cnn)"
      ],
      "metadata": {
        "colab": {
          "base_uri": "https://localhost:8080/"
        },
        "outputId": "99d7363d-9fd5-41a8-e4a2-8b6c13065f6f",
        "id": "BbeMEhn8dcuU"
      },
      "execution_count": 115,
      "outputs": [
        {
          "output_type": "stream",
          "name": "stdout",
          "text": [
            "\n",
            "\tDiebold-Mariano Test\n",
            "\n",
            "data:  dax_fnn_har_d_sedax_cnn_d_se\n",
            "DM = -1.3244, Forecast horizon = 1, Loss function power = 2, p-value =\n",
            "0.2122\n",
            "alternative hypothesis: two.sided\n",
            "\n"
          ]
        }
      ]
    },
    {
      "cell_type": "code",
      "source": [
        "print(dm_qlike_dax_d_fnn_har_cnn)"
      ],
      "metadata": {
        "colab": {
          "base_uri": "https://localhost:8080/"
        },
        "outputId": "355e8142-86ab-47f9-a943-c88b0fd8d77e",
        "id": "gQnpakwzdcuV"
      },
      "execution_count": 116,
      "outputs": [
        {
          "output_type": "stream",
          "name": "stdout",
          "text": [
            "\n",
            "\tDiebold-Mariano Test\n",
            "\n",
            "data:  dax_fnn_har_d_qlikedax_cnn_d_qlike\n",
            "DM = 3.2179, Forecast horizon = 1, Loss function power = 2, p-value =\n",
            "0.008189\n",
            "alternative hypothesis: two.sided\n",
            "\n"
          ]
        }
      ]
    },
    {
      "cell_type": "markdown",
      "source": [
        "##### FNN-HAR vs LSTM"
      ],
      "metadata": {
        "id": "eqjSg1tqdcuV"
      }
    },
    {
      "cell_type": "code",
      "source": [
        "print(dm_se_dax_d_fnn_har_lstm)"
      ],
      "metadata": {
        "colab": {
          "base_uri": "https://localhost:8080/"
        },
        "outputId": "9a80715a-2bc0-4236-e661-ddaea077d025",
        "id": "Y5p4uSQqdcuV"
      },
      "execution_count": 117,
      "outputs": [
        {
          "output_type": "stream",
          "name": "stdout",
          "text": [
            "\n",
            "\tDiebold-Mariano Test\n",
            "\n",
            "data:  dax_fnn_har_d_sedax_lstm_d_se\n",
            "DM = -3.6067, Forecast horizon = 1, Loss function power = 2, p-value =\n",
            "0.004122\n",
            "alternative hypothesis: two.sided\n",
            "\n"
          ]
        }
      ]
    },
    {
      "cell_type": "code",
      "source": [
        "print(dm_qlike_dax_d_fnn_har_lstm)"
      ],
      "metadata": {
        "colab": {
          "base_uri": "https://localhost:8080/"
        },
        "outputId": "1b9bbca0-c692-453e-d436-195d320f143a",
        "id": "mn6b1jbGdcuW"
      },
      "execution_count": 118,
      "outputs": [
        {
          "output_type": "stream",
          "name": "stdout",
          "text": [
            "\n",
            "\tDiebold-Mariano Test\n",
            "\n",
            "data:  dax_fnn_har_d_qlikedax_lstm_d_qlike\n",
            "DM = 6.1115, Forecast horizon = 1, Loss function power = 2, p-value =\n",
            "7.612e-05\n",
            "alternative hypothesis: two.sided\n",
            "\n"
          ]
        }
      ]
    },
    {
      "cell_type": "markdown",
      "source": [
        "##### FNN-HAR vs GRU"
      ],
      "metadata": {
        "id": "HpWswPLsdcuW"
      }
    },
    {
      "cell_type": "code",
      "source": [
        "print(dm_se_dax_d_fnn_har_gru)"
      ],
      "metadata": {
        "colab": {
          "base_uri": "https://localhost:8080/"
        },
        "outputId": "6f8a693d-7198-4f9d-d657-8c8c87238da6",
        "id": "FlfSnq8NdcuW"
      },
      "execution_count": 119,
      "outputs": [
        {
          "output_type": "stream",
          "name": "stdout",
          "text": [
            "\n",
            "\tDiebold-Mariano Test\n",
            "\n",
            "data:  dax_fnn_har_d_sedax_gru_d_se\n",
            "DM = -5.5118, Forecast horizon = 1, Loss function power = 2, p-value =\n",
            "0.000183\n",
            "alternative hypothesis: two.sided\n",
            "\n"
          ]
        }
      ]
    },
    {
      "cell_type": "code",
      "source": [
        "print(dm_qlike_dax_d_fnn_har_gru)"
      ],
      "metadata": {
        "colab": {
          "base_uri": "https://localhost:8080/"
        },
        "outputId": "54898773-e8a0-4984-cbac-2117589f392d",
        "id": "I8n-i7dMdcuX"
      },
      "execution_count": 120,
      "outputs": [
        {
          "output_type": "stream",
          "name": "stdout",
          "text": [
            "\n",
            "\tDiebold-Mariano Test\n",
            "\n",
            "data:  dax_fnn_har_d_qlikedax_gru_d_qlike\n",
            "DM = 5.8653, Forecast horizon = 1, Loss function power = 2, p-value =\n",
            "0.0001084\n",
            "alternative hypothesis: two.sided\n",
            "\n"
          ]
        }
      ]
    },
    {
      "cell_type": "markdown",
      "source": [
        "##### FNN vs CNN"
      ],
      "metadata": {
        "id": "_hd2ZjoldcuX"
      }
    },
    {
      "cell_type": "code",
      "source": [
        "print(dm_se_dax_d_fnn_cnn)"
      ],
      "metadata": {
        "colab": {
          "base_uri": "https://localhost:8080/"
        },
        "outputId": "352551e9-e2b9-4afb-b67f-cc315bb7e5be",
        "id": "hu2lpC7TdcuX"
      },
      "execution_count": 121,
      "outputs": [
        {
          "output_type": "stream",
          "name": "stdout",
          "text": [
            "\n",
            "\tDiebold-Mariano Test\n",
            "\n",
            "data:  dax_fnn_d_sedax_cnn_d_se\n",
            "DM = -1.9236, Forecast horizon = 1, Loss function power = 2, p-value =\n",
            "0.08066\n",
            "alternative hypothesis: two.sided\n",
            "\n"
          ]
        }
      ]
    },
    {
      "cell_type": "code",
      "source": [
        "print(dm_qlike_dax_d_fnn_cnn)"
      ],
      "metadata": {
        "colab": {
          "base_uri": "https://localhost:8080/"
        },
        "outputId": "d817903a-cd4a-431c-fda4-d6488c2a797b",
        "id": "6I2Twn6cdcuX"
      },
      "execution_count": 122,
      "outputs": [
        {
          "output_type": "stream",
          "name": "stdout",
          "text": [
            "\n",
            "\tDiebold-Mariano Test\n",
            "\n",
            "data:  dax_fnn_d_qlikedax_cnn_d_qlike\n",
            "DM = 3.4051, Forecast horizon = 1, Loss function power = 2, p-value =\n",
            "0.005876\n",
            "alternative hypothesis: two.sided\n",
            "\n"
          ]
        }
      ]
    },
    {
      "cell_type": "markdown",
      "source": [
        "##### FNN vs LSTM"
      ],
      "metadata": {
        "id": "uY_tc4A-dcuX"
      }
    },
    {
      "cell_type": "code",
      "source": [
        "print(dm_se_dax_d_fnn_lstm)"
      ],
      "metadata": {
        "colab": {
          "base_uri": "https://localhost:8080/"
        },
        "outputId": "cf0de08b-ed0c-4abd-a26e-54c3c2c3047e",
        "id": "EDDxe5QTdcuY"
      },
      "execution_count": 123,
      "outputs": [
        {
          "output_type": "stream",
          "name": "stdout",
          "text": [
            "\n",
            "\tDiebold-Mariano Test\n",
            "\n",
            "data:  dax_fnn_d_sedax_lstm_d_se\n",
            "DM = -3.2608, Forecast horizon = 1, Loss function power = 2, p-value =\n",
            "0.007588\n",
            "alternative hypothesis: two.sided\n",
            "\n"
          ]
        }
      ]
    },
    {
      "cell_type": "code",
      "source": [
        "print(dm_qlike_dax_d_fnn_lstm)"
      ],
      "metadata": {
        "colab": {
          "base_uri": "https://localhost:8080/"
        },
        "outputId": "d47692c0-1177-484d-9e13-f6f81e868fa8",
        "id": "Pn5BdrQAdcuY"
      },
      "execution_count": 124,
      "outputs": [
        {
          "output_type": "stream",
          "name": "stdout",
          "text": [
            "\n",
            "\tDiebold-Mariano Test\n",
            "\n",
            "data:  dax_fnn_d_qlikedax_lstm_d_qlike\n",
            "DM = 5.7562, Forecast horizon = 1, Loss function power = 2, p-value =\n",
            "0.0001272\n",
            "alternative hypothesis: two.sided\n",
            "\n"
          ]
        }
      ]
    },
    {
      "cell_type": "markdown",
      "source": [
        "##### FNN vs GRU"
      ],
      "metadata": {
        "id": "opKdn-C6dcuY"
      }
    },
    {
      "cell_type": "code",
      "source": [
        "print(dm_se_dax_d_fnn_gru)"
      ],
      "metadata": {
        "colab": {
          "base_uri": "https://localhost:8080/"
        },
        "outputId": "5452fec1-c8eb-4788-d9aa-b41095b19c7f",
        "id": "xXDd9v0JdcuY"
      },
      "execution_count": 125,
      "outputs": [
        {
          "output_type": "stream",
          "name": "stdout",
          "text": [
            "\n",
            "\tDiebold-Mariano Test\n",
            "\n",
            "data:  dax_fnn_d_sedax_gru_d_se\n",
            "DM = -3.0344, Forecast horizon = 1, Loss function power = 2, p-value =\n",
            "0.01136\n",
            "alternative hypothesis: two.sided\n",
            "\n"
          ]
        }
      ]
    },
    {
      "cell_type": "code",
      "source": [
        "print(dm_qlike_dax_d_fnn_lstm)"
      ],
      "metadata": {
        "colab": {
          "base_uri": "https://localhost:8080/"
        },
        "outputId": "ac01d3ff-8082-487d-a326-269234ee803f",
        "id": "FJ73IvFVdcuY"
      },
      "execution_count": 126,
      "outputs": [
        {
          "output_type": "stream",
          "name": "stdout",
          "text": [
            "\n",
            "\tDiebold-Mariano Test\n",
            "\n",
            "data:  dax_fnn_d_qlikedax_lstm_d_qlike\n",
            "DM = 5.7562, Forecast horizon = 1, Loss function power = 2, p-value =\n",
            "0.0001272\n",
            "alternative hypothesis: two.sided\n",
            "\n"
          ]
        }
      ]
    },
    {
      "cell_type": "markdown",
      "source": [
        "##### CNN vs LSTM"
      ],
      "metadata": {
        "id": "YrXFAQLudcuZ"
      }
    },
    {
      "cell_type": "code",
      "source": [
        "print(dm_se_dax_d_cnn_lstm)"
      ],
      "metadata": {
        "colab": {
          "base_uri": "https://localhost:8080/"
        },
        "outputId": "c28e56c2-aa16-4f59-a566-6ba99704742a",
        "id": "5d87lf8YdcuZ"
      },
      "execution_count": 127,
      "outputs": [
        {
          "output_type": "stream",
          "name": "stdout",
          "text": [
            "\n",
            "\tDiebold-Mariano Test\n",
            "\n",
            "data:  dax_cnn_d_sedax_lstm_d_se\n",
            "DM = -1.5619, Forecast horizon = 1, Loss function power = 2, p-value =\n",
            "0.1466\n",
            "alternative hypothesis: two.sided\n",
            "\n"
          ]
        }
      ]
    },
    {
      "cell_type": "code",
      "source": [
        "print(dm_qlike_dax_d_cnn_lstm)"
      ],
      "metadata": {
        "colab": {
          "base_uri": "https://localhost:8080/"
        },
        "outputId": "65364878-601e-4fc4-f842-e9276106ed0f",
        "id": "6kSCOBFedcuZ"
      },
      "execution_count": 128,
      "outputs": [
        {
          "output_type": "stream",
          "name": "stdout",
          "text": [
            "\n",
            "\tDiebold-Mariano Test\n",
            "\n",
            "data:  dax_cnn_d_qlikedax_lstm_d_qlike\n",
            "DM = 2.6133, Forecast horizon = 1, Loss function power = 2, p-value =\n",
            "0.02412\n",
            "alternative hypothesis: two.sided\n",
            "\n"
          ]
        }
      ]
    },
    {
      "cell_type": "markdown",
      "source": [
        "##### CNN vs GRU"
      ],
      "metadata": {
        "id": "Jhf-uar0dcuZ"
      }
    },
    {
      "cell_type": "code",
      "source": [
        "print(dm_se_dax_d_cnn_gru)"
      ],
      "metadata": {
        "colab": {
          "base_uri": "https://localhost:8080/"
        },
        "outputId": "34fdc0cd-7f29-4eaa-8459-08c764187c29",
        "id": "nUfFTJdYdcuZ"
      },
      "execution_count": 129,
      "outputs": [
        {
          "output_type": "stream",
          "name": "stdout",
          "text": [
            "\n",
            "\tDiebold-Mariano Test\n",
            "\n",
            "data:  dax_cnn_d_sedax_gru_d_se\n",
            "DM = 0.28575, Forecast horizon = 1, Loss function power = 2, p-value =\n",
            "0.7804\n",
            "alternative hypothesis: two.sided\n",
            "\n"
          ]
        }
      ]
    },
    {
      "cell_type": "code",
      "source": [
        "print(dm_qlike_dax_d_cnn_gru)"
      ],
      "metadata": {
        "colab": {
          "base_uri": "https://localhost:8080/"
        },
        "outputId": "6cf6b312-3cb3-4808-975f-fbbf03461975",
        "id": "FfPDdI8vdcua"
      },
      "execution_count": 130,
      "outputs": [
        {
          "output_type": "stream",
          "name": "stdout",
          "text": [
            "\n",
            "\tDiebold-Mariano Test\n",
            "\n",
            "data:  dax_cnn_d_qlikedax_gru_d_qlike\n",
            "DM = 0.63331, Forecast horizon = 1, Loss function power = 2, p-value =\n",
            "0.5395\n",
            "alternative hypothesis: two.sided\n",
            "\n"
          ]
        }
      ]
    },
    {
      "cell_type": "markdown",
      "source": [
        "##### LSTM vs GRU"
      ],
      "metadata": {
        "id": "r-cIDdBXdcua"
      }
    },
    {
      "cell_type": "code",
      "source": [
        "print(dm_se_dax_d_lstm_gru)"
      ],
      "metadata": {
        "colab": {
          "base_uri": "https://localhost:8080/"
        },
        "outputId": "da511062-ecb1-4590-e0ea-45b41f1d0808",
        "id": "RS-s4j-Fdcua"
      },
      "execution_count": 131,
      "outputs": [
        {
          "output_type": "stream",
          "name": "stdout",
          "text": [
            "\n",
            "\tDiebold-Mariano Test\n",
            "\n",
            "data:  dax_lstm_d_sedax_gru_d_se\n",
            "DM = 2.7931, Forecast horizon = 1, Loss function power = 2, p-value =\n",
            "0.01749\n",
            "alternative hypothesis: two.sided\n",
            "\n"
          ]
        }
      ]
    },
    {
      "cell_type": "code",
      "source": [
        "print(dm_qlike_dax_d_lstm_gru)"
      ],
      "metadata": {
        "colab": {
          "base_uri": "https://localhost:8080/"
        },
        "outputId": "0582cfab-fb06-47b0-99a5-fae32bbc755c",
        "id": "v8q1VjR2dcua"
      },
      "execution_count": 132,
      "outputs": [
        {
          "output_type": "stream",
          "name": "stdout",
          "text": [
            "\n",
            "\tDiebold-Mariano Test\n",
            "\n",
            "data:  dax_lstm_d_qlikedax_gru_d_qlike\n",
            "DM = -2.7113, Forecast horizon = 1, Loss function power = 2, p-value =\n",
            "0.02024\n",
            "alternative hypothesis: two.sided\n",
            "\n"
          ]
        }
      ]
    },
    {
      "cell_type": "markdown",
      "source": [
        "#### Tests for the 1-week ahead forecast"
      ],
      "metadata": {
        "id": "WU2FfawJ8kGf"
      }
    },
    {
      "cell_type": "code",
      "source": [
        "# MCS for squared-error loss\n",
        "\n",
        "errors_matrix_se <- cbind(dax_har_w_se, dax_fnn_har_w_se, dax_fnn_w_se, dax_cnn_w_se, dax_lstm_w_se, dax_gru_w_se)\n",
        "errors_matrix_qlike <- cbind(dax_har_w_qlike, dax_fnn_har_w_qlike, dax_fnn_w_qlike, dax_cnn_w_qlike, dax_lstm_w_qlike, dax_gru_w_qlike)\n",
        "\n",
        "# B is number of bootstrap replications\n",
        "mcs_result_dax_se_w <- MCSprocedure(errors_matrix_se, alpha = 0.05, B = 5000, statistic = \"Tmax\")\n",
        "\n",
        "mcs_result_dax_qlike_w <- MCSprocedure(errors_matrix_qlike, alpha = 0.05, B = 5000, statistic = \"Tmax\")"
      ],
      "metadata": {
        "colab": {
          "base_uri": "https://localhost:8080/"
        },
        "outputId": "f2792caf-6f0f-4db3-f949-469fa5893b96",
        "id": "5gUuKLWM8kGt"
      },
      "execution_count": 133,
      "outputs": [
        {
          "output_type": "stream",
          "name": "stdout",
          "text": [
            "\n",
            "###########################################################################################################################\n",
            "Superior Set Model created\t:\n",
            "                 Rank_M          v_M MCS_M Rank_R        v_R  MCS_R\n",
            "dax_har_w_se          1 -2.104897148 1.000      1 -0.1084225 1.0000\n",
            "dax_fnn_har_w_se      2 -2.084233366 1.000      2  0.1084225 1.0000\n",
            "dax_fnn_w_se          4 -0.937640662 1.000      6  1.9731251 0.1876\n",
            "dax_cnn_w_se          5  0.008343282 1.000      5  1.9547694 0.1986\n",
            "dax_lstm_w_se         6  1.357061218 0.296      3  1.5132889 0.5192\n",
            "dax_gru_w_se          3 -1.596746822 1.000      4  1.8451672 0.2672\n",
            "                         Loss\n",
            "dax_har_w_se     2.154603e-10\n",
            "dax_fnn_har_w_se 2.179738e-10\n",
            "dax_fnn_w_se     2.884802e-10\n",
            "dax_cnn_w_se     3.602319e-10\n",
            "dax_lstm_w_se    8.089127e-10\n",
            "dax_gru_w_se     2.653300e-10\n",
            "p-value\t:\n",
            "[1] 0.296\n",
            "\n",
            "###########################################################################################################################\n",
            "###########################################################################################################################\n",
            "Superior Set Model created\t:\n",
            "                    Rank_M         v_M  MCS_M Rank_R        v_R  MCS_R\n",
            "dax_har_w_qlike          1 -4.69619872 1.0000      2  0.2005792 0.9998\n",
            "dax_fnn_har_w_qlike      2 -3.78313840 1.0000      1 -0.2005792 1.0000\n",
            "dax_fnn_w_qlike          4  0.02988195 1.0000      3  2.2156111 0.1358\n",
            "dax_cnn_w_qlike          5  1.10144776 0.5876      6  3.6792167 0.0002\n",
            "dax_lstm_w_qlike         6  1.83038996 0.1776      5  2.7679286 0.0284\n",
            "dax_gru_w_qlike          3 -0.51725577 1.0000      4  2.2965232 0.1108\n",
            "                         Loss\n",
            "dax_har_w_qlike     -9.697744\n",
            "dax_fnn_har_w_qlike -9.701047\n",
            "dax_fnn_w_qlike     -9.642763\n",
            "dax_cnn_w_qlike     -9.610323\n",
            "dax_lstm_w_qlike    -9.554750\n",
            "dax_gru_w_qlike     -9.655052\n",
            "p-value\t:\n",
            "[1] 0.1776\n",
            "\n",
            "###########################################################################################################################"
          ]
        }
      ]
    },
    {
      "cell_type": "code",
      "source": [
        "# Diebold-Mariano test\n",
        "\n",
        "dm_se_dax_w_har_fnn_har <- dm.test(dax_har_w_se, dax_fnn_har_w_se, alternative = \"two.sided\")\n",
        "dm_se_dax_w_har_fnn <- dm.test(dax_har_w_se, dax_fnn_w_se, alternative = \"two.sided\")\n",
        "dm_se_dax_w_har_cnn <- dm.test(dax_har_w_se, dax_cnn_w_se, alternative = \"two.sided\")\n",
        "dm_se_dax_w_har_lstm <- dm.test(dax_har_w_se, dax_lstm_w_se, alternative = \"two.sided\")\n",
        "dm_se_dax_w_har_gru <- dm.test(dax_har_w_se, dax_gru_w_se, alternative = \"two.sided\")\n",
        "dm_se_dax_w_fnn_har_fnn <- dm.test(dax_fnn_har_w_se, dax_fnn_w_se, alternative = \"two.sided\")\n",
        "dm_se_dax_w_fnn_har_cnn <- dm.test(dax_fnn_har_w_se, dax_cnn_w_se, alternative = \"two.sided\")\n",
        "dm_se_dax_w_fnn_har_lstm <- dm.test(dax_fnn_har_w_se, dax_lstm_w_se, alternative = \"two.sided\")\n",
        "dm_se_dax_w_fnn_har_gru <- dm.test(dax_fnn_har_w_se, dax_gru_w_se, alternative = \"two.sided\")\n",
        "dm_se_dax_w_fnn_cnn <- dm.test(dax_fnn_w_se, dax_cnn_w_se, alternative = \"two.sided\")\n",
        "dm_se_dax_w_fnn_lstm <- dm.test(dax_fnn_w_se, dax_lstm_w_se, alternative = \"two.sided\")\n",
        "dm_se_dax_w_fnn_gru <- dm.test(dax_fnn_w_se, dax_gru_w_se, alternative = \"two.sided\")\n",
        "dm_se_dax_w_cnn_lstm <- dm.test(dax_cnn_w_se, dax_lstm_w_se, alternative = \"two.sided\")\n",
        "dm_se_dax_w_cnn_gru <- dm.test(dax_cnn_w_se, dax_gru_w_se, alternative = \"two.sided\")\n",
        "dm_se_dax_w_lstm_gru <- dm.test(dax_lstm_w_se, dax_gru_w_se, alternative = \"two.sided\")\n",
        "\n",
        "dm_qlike_dax_w_har_fnn_har <- dm.test(dax_har_w_qlike, dax_fnn_har_w_qlike, alternative = \"two.sided\")\n",
        "dm_qlike_dax_w_har_fnn <- dm.test(dax_har_w_qlike, dax_fnn_w_qlike, alternative = \"two.sided\")\n",
        "dm_qlike_dax_w_har_cnn <- dm.test(dax_har_w_qlike, dax_cnn_w_qlike, alternative = \"two.sided\")\n",
        "dm_qlike_dax_w_har_lstm <- dm.test(dax_har_w_qlike, dax_lstm_w_qlike, alternative = \"two.sided\")\n",
        "dm_qlike_dax_w_har_gru <- dm.test(dax_har_w_qlike, dax_gru_w_qlike, alternative = \"two.sided\")\n",
        "dm_qlike_dax_w_fnn_har_fnn <- dm.test(dax_fnn_har_w_qlike, dax_fnn_w_qlike, alternative = \"two.sided\")\n",
        "dm_qlike_dax_w_fnn_har_cnn <- dm.test(dax_fnn_har_w_qlike, dax_cnn_w_qlike, alternative = \"two.sided\")\n",
        "dm_qlike_dax_w_fnn_har_lstm <- dm.test(dax_fnn_har_w_qlike, dax_lstm_w_qlike, alternative = \"two.sided\")\n",
        "dm_qlike_dax_w_fnn_har_gru <- dm.test(dax_fnn_har_w_qlike, dax_gru_w_qlike, alternative = \"two.sided\")\n",
        "dm_qlike_dax_w_fnn_cnn <- dm.test(dax_fnn_w_qlike, dax_cnn_w_qlike, alternative = \"two.sided\")\n",
        "dm_qlike_dax_w_fnn_lstm <- dm.test(dax_fnn_w_qlike, dax_lstm_w_qlike, alternative = \"two.sided\")\n",
        "dm_qlike_dax_w_fnn_gru <- dm.test(dax_fnn_w_qlike, dax_gru_w_qlike, alternative = \"two.sided\")\n",
        "dm_qlike_dax_w_cnn_lstm <- dm.test(dax_cnn_w_qlike, dax_lstm_w_qlike, alternative = \"two.sided\")\n",
        "dm_qlike_dax_w_cnn_gru <- dm.test(dax_cnn_w_qlike, dax_gru_w_qlike, alternative = \"two.sided\")\n",
        "dm_qlike_dax_w_lstm_gru <- dm.test(dax_lstm_w_qlike, dax_gru_w_qlike, alternative = \"two.sided\")"
      ],
      "metadata": {
        "id": "XWASsJtN8kGt"
      },
      "execution_count": 134,
      "outputs": []
    },
    {
      "cell_type": "markdown",
      "source": [
        "##### HAR vs FNN-HAR"
      ],
      "metadata": {
        "id": "Dm5Us1aA8kGu"
      }
    },
    {
      "cell_type": "code",
      "source": [
        "print(dm_se_dax_w_har_fnn_har)"
      ],
      "metadata": {
        "colab": {
          "base_uri": "https://localhost:8080/"
        },
        "outputId": "89d72923-a2f4-4c6d-eccc-c5134bfbb04c",
        "id": "u4ulcr8n8kGu"
      },
      "execution_count": 135,
      "outputs": [
        {
          "output_type": "stream",
          "name": "stdout",
          "text": [
            "\n",
            "\tDiebold-Mariano Test\n",
            "\n",
            "data:  dax_har_w_sedax_fnn_har_w_se\n",
            "DM = -1.041, Forecast horizon = 1, Loss function power = 2, p-value =\n",
            "0.3025\n",
            "alternative hypothesis: two.sided\n",
            "\n"
          ]
        }
      ]
    },
    {
      "cell_type": "code",
      "source": [
        "print(dm_qlike_dax_w_har_fnn_har)"
      ],
      "metadata": {
        "colab": {
          "base_uri": "https://localhost:8080/"
        },
        "outputId": "f894eec0-59aa-413f-f832-0e79f56fb5ae",
        "id": "bzeP4Kr18kGu"
      },
      "execution_count": 136,
      "outputs": [
        {
          "output_type": "stream",
          "name": "stdout",
          "text": [
            "\n",
            "\tDiebold-Mariano Test\n",
            "\n",
            "data:  dax_har_w_qlikedax_fnn_har_w_qlike\n",
            "DM = -0.60273, Forecast horizon = 1, Loss function power = 2, p-value =\n",
            "0.5492\n",
            "alternative hypothesis: two.sided\n",
            "\n"
          ]
        }
      ]
    },
    {
      "cell_type": "markdown",
      "source": [
        "##### HAR vs FNN"
      ],
      "metadata": {
        "id": "MNVLtZzt8kGv"
      }
    },
    {
      "cell_type": "code",
      "source": [
        "print(dm_se_dax_w_har_fnn)"
      ],
      "metadata": {
        "colab": {
          "base_uri": "https://localhost:8080/"
        },
        "outputId": "9e2846fc-949a-4a8a-8d9d-b1c2642dd3b5",
        "id": "abHnH7vl8kGv"
      },
      "execution_count": 137,
      "outputs": [
        {
          "output_type": "stream",
          "name": "stdout",
          "text": [
            "\n",
            "\tDiebold-Mariano Test\n",
            "\n",
            "data:  dax_har_w_sedax_fnn_w_se\n",
            "DM = -0.23264, Forecast horizon = 1, Loss function power = 2, p-value =\n",
            "0.8169\n",
            "alternative hypothesis: two.sided\n",
            "\n"
          ]
        }
      ]
    },
    {
      "cell_type": "code",
      "source": [
        "print(dm_qlike_dax_w_har_fnn)"
      ],
      "metadata": {
        "colab": {
          "base_uri": "https://localhost:8080/"
        },
        "outputId": "64776798-16f2-4a9f-e54f-c71c2498c1d8",
        "id": "laDyE6Xv8kGv"
      },
      "execution_count": 138,
      "outputs": [
        {
          "output_type": "stream",
          "name": "stdout",
          "text": [
            "\n",
            "\tDiebold-Mariano Test\n",
            "\n",
            "data:  dax_har_w_qlikedax_fnn_w_qlike\n",
            "DM = 1.1613, Forecast horizon = 1, Loss function power = 2, p-value =\n",
            "0.2506\n",
            "alternative hypothesis: two.sided\n",
            "\n"
          ]
        }
      ]
    },
    {
      "cell_type": "markdown",
      "source": [
        "##### HAR vs CNN"
      ],
      "metadata": {
        "id": "cx8tde5H8kGv"
      }
    },
    {
      "cell_type": "code",
      "source": [
        "print(dm_se_dax_w_har_cnn)"
      ],
      "metadata": {
        "colab": {
          "base_uri": "https://localhost:8080/"
        },
        "outputId": "3a118f84-7fb4-459e-ce5c-ccfeac543778",
        "id": "A1W7YVdO8kGv"
      },
      "execution_count": 139,
      "outputs": [
        {
          "output_type": "stream",
          "name": "stdout",
          "text": [
            "\n",
            "\tDiebold-Mariano Test\n",
            "\n",
            "data:  dax_har_w_sedax_cnn_w_se\n",
            "DM = -1.0875, Forecast horizon = 1, Loss function power = 2, p-value =\n",
            "0.2816\n",
            "alternative hypothesis: two.sided\n",
            "\n"
          ]
        }
      ]
    },
    {
      "cell_type": "code",
      "source": [
        "print(dm_qlike_dax_w_har_cnn)"
      ],
      "metadata": {
        "colab": {
          "base_uri": "https://localhost:8080/"
        },
        "outputId": "f1312de9-6d44-42a7-fe97-3d1e2bfda027",
        "id": "UEaxDM1A8kGw"
      },
      "execution_count": 140,
      "outputs": [
        {
          "output_type": "stream",
          "name": "stdout",
          "text": [
            "\n",
            "\tDiebold-Mariano Test\n",
            "\n",
            "data:  dax_har_w_qlikedax_cnn_w_qlike\n",
            "DM = 1.8435, Forecast horizon = 1, Loss function power = 2, p-value =\n",
            "0.07075\n",
            "alternative hypothesis: two.sided\n",
            "\n"
          ]
        }
      ]
    },
    {
      "cell_type": "markdown",
      "source": [
        "##### HAR vs LSTM"
      ],
      "metadata": {
        "id": "IseRf2ws8kGw"
      }
    },
    {
      "cell_type": "code",
      "source": [
        "print(dm_se_dax_w_har_lstm)"
      ],
      "metadata": {
        "colab": {
          "base_uri": "https://localhost:8080/"
        },
        "outputId": "cc9a13f3-b804-4bd5-c86a-31089ac91fc4",
        "id": "2dGxXm7L8kGw"
      },
      "execution_count": 141,
      "outputs": [
        {
          "output_type": "stream",
          "name": "stdout",
          "text": [
            "\n",
            "\tDiebold-Mariano Test\n",
            "\n",
            "data:  dax_har_w_sedax_lstm_w_se\n",
            "DM = -2.533, Forecast horizon = 1, Loss function power = 2, p-value =\n",
            "0.01425\n",
            "alternative hypothesis: two.sided\n",
            "\n"
          ]
        }
      ]
    },
    {
      "cell_type": "code",
      "source": [
        "print(dm_qlike_dax_w_har_lstm)"
      ],
      "metadata": {
        "colab": {
          "base_uri": "https://localhost:8080/"
        },
        "outputId": "cfc26f09-a280-471a-968e-cee09f0cdf0a",
        "id": "eXSa9E3L8kGw"
      },
      "execution_count": 142,
      "outputs": [
        {
          "output_type": "stream",
          "name": "stdout",
          "text": [
            "\n",
            "\tDiebold-Mariano Test\n",
            "\n",
            "data:  dax_har_w_qlikedax_lstm_w_qlike\n",
            "DM = 3.5293, Forecast horizon = 1, Loss function power = 2, p-value =\n",
            "0.0008602\n",
            "alternative hypothesis: two.sided\n",
            "\n"
          ]
        }
      ]
    },
    {
      "cell_type": "markdown",
      "source": [
        "##### HAR vs GRU"
      ],
      "metadata": {
        "id": "MFs7tfHM8kGw"
      }
    },
    {
      "cell_type": "code",
      "source": [
        "print(dm_se_dax_w_har_gru)"
      ],
      "metadata": {
        "colab": {
          "base_uri": "https://localhost:8080/"
        },
        "outputId": "ab0f1b55-07d0-4266-99f4-3fff418d9194",
        "id": "C90fstyh8kGx"
      },
      "execution_count": 143,
      "outputs": [
        {
          "output_type": "stream",
          "name": "stdout",
          "text": [
            "\n",
            "\tDiebold-Mariano Test\n",
            "\n",
            "data:  dax_har_w_sedax_gru_w_se\n",
            "DM = -0.92791, Forecast horizon = 1, Loss function power = 2, p-value =\n",
            "0.3576\n",
            "alternative hypothesis: two.sided\n",
            "\n"
          ]
        }
      ]
    },
    {
      "cell_type": "code",
      "source": [
        "print(dm_qlike_dax_w_har_gru)"
      ],
      "metadata": {
        "colab": {
          "base_uri": "https://localhost:8080/"
        },
        "outputId": "522ca070-ec3f-4cb1-8f1c-78c165fea670",
        "id": "pJuUek3K8kGx"
      },
      "execution_count": 144,
      "outputs": [
        {
          "output_type": "stream",
          "name": "stdout",
          "text": [
            "\n",
            "\tDiebold-Mariano Test\n",
            "\n",
            "data:  dax_har_w_qlikedax_gru_w_qlike\n",
            "DM = 2.4079, Forecast horizon = 1, Loss function power = 2, p-value =\n",
            "0.01949\n",
            "alternative hypothesis: two.sided\n",
            "\n"
          ]
        }
      ]
    },
    {
      "cell_type": "markdown",
      "source": [
        "##### FNN-HAR vs FNN"
      ],
      "metadata": {
        "id": "QTuGEV_d8kGy"
      }
    },
    {
      "cell_type": "code",
      "source": [
        "print(dm_se_dax_w_fnn_har_fnn)"
      ],
      "metadata": {
        "colab": {
          "base_uri": "https://localhost:8080/"
        },
        "outputId": "a6e0aab8-e91b-4454-f78b-22207c307a1f",
        "id": "YdbKKJXZ8kGy"
      },
      "execution_count": 145,
      "outputs": [
        {
          "output_type": "stream",
          "name": "stdout",
          "text": [
            "\n",
            "\tDiebold-Mariano Test\n",
            "\n",
            "data:  dax_fnn_har_w_sedax_fnn_w_se\n",
            "DM = 0.48133, Forecast horizon = 1, Loss function power = 2, p-value =\n",
            "0.6322\n",
            "alternative hypothesis: two.sided\n",
            "\n"
          ]
        }
      ]
    },
    {
      "cell_type": "code",
      "source": [
        "print(dm_qlike_dax_w_fnn_har_fnn)"
      ],
      "metadata": {
        "colab": {
          "base_uri": "https://localhost:8080/"
        },
        "outputId": "8170d690-dc85-4fa3-f27e-4e3dbe1c82dc",
        "id": "cLKMsoAJ8kGz"
      },
      "execution_count": 146,
      "outputs": [
        {
          "output_type": "stream",
          "name": "stdout",
          "text": [
            "\n",
            "\tDiebold-Mariano Test\n",
            "\n",
            "data:  dax_fnn_har_w_qlikedax_fnn_w_qlike\n",
            "DM = 2.0164, Forecast horizon = 1, Loss function power = 2, p-value =\n",
            "0.04874\n",
            "alternative hypothesis: two.sided\n",
            "\n"
          ]
        }
      ]
    },
    {
      "cell_type": "markdown",
      "source": [
        "##### FNN-HAR vs CNN"
      ],
      "metadata": {
        "id": "m8DDcRSc8kGz"
      }
    },
    {
      "cell_type": "code",
      "source": [
        "print(dm_se_dax_w_fnn_har_cnn)"
      ],
      "metadata": {
        "colab": {
          "base_uri": "https://localhost:8080/"
        },
        "outputId": "82a1410d-9dc3-4e60-8fcd-d5060af14a20",
        "id": "7N0q8I3I8kG0"
      },
      "execution_count": 147,
      "outputs": [
        {
          "output_type": "stream",
          "name": "stdout",
          "text": [
            "\n",
            "\tDiebold-Mariano Test\n",
            "\n",
            "data:  dax_fnn_har_w_sedax_cnn_w_se\n",
            "DM = -1.0976, Forecast horizon = 1, Loss function power = 2, p-value =\n",
            "0.2772\n",
            "alternative hypothesis: two.sided\n",
            "\n"
          ]
        }
      ]
    },
    {
      "cell_type": "code",
      "source": [
        "print(dm_qlike_dax_w_fnn_har_cnn)"
      ],
      "metadata": {
        "colab": {
          "base_uri": "https://localhost:8080/"
        },
        "outputId": "b2842881-65bf-4b14-fcaf-c8502dba08b3",
        "id": "SvdrX1D_8kG1"
      },
      "execution_count": 148,
      "outputs": [
        {
          "output_type": "stream",
          "name": "stdout",
          "text": [
            "\n",
            "\tDiebold-Mariano Test\n",
            "\n",
            "data:  dax_fnn_har_w_qlikedax_cnn_w_qlike\n",
            "DM = 3.1728, Forecast horizon = 1, Loss function power = 2, p-value =\n",
            "0.002491\n",
            "alternative hypothesis: two.sided\n",
            "\n"
          ]
        }
      ]
    },
    {
      "cell_type": "markdown",
      "source": [
        "##### FNN-HAR vs LSTM"
      ],
      "metadata": {
        "id": "ehid5iIe8kG1"
      }
    },
    {
      "cell_type": "code",
      "source": [
        "print(dm_se_dax_w_fnn_har_lstm)"
      ],
      "metadata": {
        "colab": {
          "base_uri": "https://localhost:8080/"
        },
        "outputId": "7f1b4557-dce0-4223-cad8-6823cfe7e87d",
        "id": "rHSm_lag8kG1"
      },
      "execution_count": 149,
      "outputs": [
        {
          "output_type": "stream",
          "name": "stdout",
          "text": [
            "\n",
            "\tDiebold-Mariano Test\n",
            "\n",
            "data:  dax_fnn_har_w_sedax_lstm_w_se\n",
            "DM = -2.4339, Forecast horizon = 1, Loss function power = 2, p-value =\n",
            "0.01828\n",
            "alternative hypothesis: two.sided\n",
            "\n"
          ]
        }
      ]
    },
    {
      "cell_type": "code",
      "source": [
        "print(dm_qlike_dax_w_fnn_har_lstm)"
      ],
      "metadata": {
        "colab": {
          "base_uri": "https://localhost:8080/"
        },
        "outputId": "051465e3-65cc-4ce3-88bb-8c35dfe35564",
        "id": "m3OncpVg8kG2"
      },
      "execution_count": 150,
      "outputs": [
        {
          "output_type": "stream",
          "name": "stdout",
          "text": [
            "\n",
            "\tDiebold-Mariano Test\n",
            "\n",
            "data:  dax_fnn_har_w_qlikedax_lstm_w_qlike\n",
            "DM = 3.0762, Forecast horizon = 1, Loss function power = 2, p-value =\n",
            "0.003288\n",
            "alternative hypothesis: two.sided\n",
            "\n"
          ]
        }
      ]
    },
    {
      "cell_type": "markdown",
      "source": [
        "##### FNN-HAR vs GRU"
      ],
      "metadata": {
        "id": "0LexG0MX8kG3"
      }
    },
    {
      "cell_type": "code",
      "source": [
        "print(dm_se_dax_w_fnn_har_gru)"
      ],
      "metadata": {
        "colab": {
          "base_uri": "https://localhost:8080/"
        },
        "outputId": "3d2cb125-cd92-4023-ec59-91a968e17d97",
        "id": "skQgEzjE8kG4"
      },
      "execution_count": 151,
      "outputs": [
        {
          "output_type": "stream",
          "name": "stdout",
          "text": [
            "\n",
            "\tDiebold-Mariano Test\n",
            "\n",
            "data:  dax_fnn_har_w_sedax_gru_w_se\n",
            "DM = 0.50127, Forecast horizon = 1, Loss function power = 2, p-value =\n",
            "0.6182\n",
            "alternative hypothesis: two.sided\n",
            "\n"
          ]
        }
      ]
    },
    {
      "cell_type": "code",
      "source": [
        "print(dm_qlike_dax_w_fnn_har_gru)"
      ],
      "metadata": {
        "colab": {
          "base_uri": "https://localhost:8080/"
        },
        "outputId": "d098e70d-01c7-4d35-ac58-71db553e4536",
        "id": "maNzhg7T8kG5"
      },
      "execution_count": 152,
      "outputs": [
        {
          "output_type": "stream",
          "name": "stdout",
          "text": [
            "\n",
            "\tDiebold-Mariano Test\n",
            "\n",
            "data:  dax_fnn_har_w_qlikedax_gru_w_qlike\n",
            "DM = 1.7467, Forecast horizon = 1, Loss function power = 2, p-value =\n",
            "0.08638\n",
            "alternative hypothesis: two.sided\n",
            "\n"
          ]
        }
      ]
    },
    {
      "cell_type": "markdown",
      "source": [
        "##### FNN vs CNN"
      ],
      "metadata": {
        "id": "zlHhx9BG8kG5"
      }
    },
    {
      "cell_type": "code",
      "source": [
        "print(dm_se_dax_w_fnn_cnn)"
      ],
      "metadata": {
        "colab": {
          "base_uri": "https://localhost:8080/"
        },
        "outputId": "7bccdc78-b403-408d-ab52-d7fccedac27a",
        "id": "dNZnFChd8kG6"
      },
      "execution_count": 153,
      "outputs": [
        {
          "output_type": "stream",
          "name": "stdout",
          "text": [
            "\n",
            "\tDiebold-Mariano Test\n",
            "\n",
            "data:  dax_fnn_w_sedax_cnn_w_se\n",
            "DM = -0.92437, Forecast horizon = 1, Loss function power = 2, p-value =\n",
            "0.3594\n",
            "alternative hypothesis: two.sided\n",
            "\n"
          ]
        }
      ]
    },
    {
      "cell_type": "code",
      "source": [
        "print(dm_qlike_dax_w_fnn_cnn)"
      ],
      "metadata": {
        "colab": {
          "base_uri": "https://localhost:8080/"
        },
        "outputId": "e8433459-d1b7-4683-a020-bddf5bf00a10",
        "id": "Kfz74llg8kG6"
      },
      "execution_count": 154,
      "outputs": [
        {
          "output_type": "stream",
          "name": "stdout",
          "text": [
            "\n",
            "\tDiebold-Mariano Test\n",
            "\n",
            "data:  dax_fnn_w_qlikedax_cnn_w_qlike\n",
            "DM = 1.1426, Forecast horizon = 1, Loss function power = 2, p-value =\n",
            "0.2582\n",
            "alternative hypothesis: two.sided\n",
            "\n"
          ]
        }
      ]
    },
    {
      "cell_type": "markdown",
      "source": [
        "##### FNN vs LSTM"
      ],
      "metadata": {
        "id": "q72asLh48kG7"
      }
    },
    {
      "cell_type": "code",
      "source": [
        "print(dm_se_dax_w_fnn_lstm)"
      ],
      "metadata": {
        "colab": {
          "base_uri": "https://localhost:8080/"
        },
        "outputId": "bac4f422-103c-4a6f-b0c8-9da1fbd78589",
        "id": "F0jXNRMX8kG7"
      },
      "execution_count": 155,
      "outputs": [
        {
          "output_type": "stream",
          "name": "stdout",
          "text": [
            "\n",
            "\tDiebold-Mariano Test\n",
            "\n",
            "data:  dax_fnn_w_sedax_lstm_w_se\n",
            "DM = -2.3953, Forecast horizon = 1, Loss function power = 2, p-value =\n",
            "0.0201\n",
            "alternative hypothesis: two.sided\n",
            "\n"
          ]
        }
      ]
    },
    {
      "cell_type": "code",
      "source": [
        "print(dm_qlike_dax_w_fnn_lstm)"
      ],
      "metadata": {
        "colab": {
          "base_uri": "https://localhost:8080/"
        },
        "outputId": "74a4e881-e78d-4551-f776-7aeb7bf1eb2f",
        "id": "ebASGorT8kG7"
      },
      "execution_count": 156,
      "outputs": [
        {
          "output_type": "stream",
          "name": "stdout",
          "text": [
            "\n",
            "\tDiebold-Mariano Test\n",
            "\n",
            "data:  dax_fnn_w_qlikedax_lstm_w_qlike\n",
            "DM = 1.716, Forecast horizon = 1, Loss function power = 2, p-value =\n",
            "0.09189\n",
            "alternative hypothesis: two.sided\n",
            "\n"
          ]
        }
      ]
    },
    {
      "cell_type": "markdown",
      "source": [
        "##### FNN vs GRU"
      ],
      "metadata": {
        "id": "qkyGP2IO8kG8"
      }
    },
    {
      "cell_type": "code",
      "source": [
        "print(dm_se_dax_w_fnn_gru)"
      ],
      "metadata": {
        "colab": {
          "base_uri": "https://localhost:8080/"
        },
        "outputId": "c0a17483-b215-4a19-96a7-249112f0df5f",
        "id": "FhXZ6Ahs8kG8"
      },
      "execution_count": 157,
      "outputs": [
        {
          "output_type": "stream",
          "name": "stdout",
          "text": [
            "\n",
            "\tDiebold-Mariano Test\n",
            "\n",
            "data:  dax_fnn_w_sedax_gru_w_se\n",
            "DM = -0.42565, Forecast horizon = 1, Loss function power = 2, p-value =\n",
            "0.6721\n",
            "alternative hypothesis: two.sided\n",
            "\n"
          ]
        }
      ]
    },
    {
      "cell_type": "code",
      "source": [
        "print(dm_qlike_dax_w_fnn_lstm)"
      ],
      "metadata": {
        "colab": {
          "base_uri": "https://localhost:8080/"
        },
        "outputId": "6776297b-052c-4b2f-872d-0f756d8f3789",
        "id": "fIoTS5jA8kG9"
      },
      "execution_count": 158,
      "outputs": [
        {
          "output_type": "stream",
          "name": "stdout",
          "text": [
            "\n",
            "\tDiebold-Mariano Test\n",
            "\n",
            "data:  dax_fnn_w_qlikedax_lstm_w_qlike\n",
            "DM = 1.716, Forecast horizon = 1, Loss function power = 2, p-value =\n",
            "0.09189\n",
            "alternative hypothesis: two.sided\n",
            "\n"
          ]
        }
      ]
    },
    {
      "cell_type": "markdown",
      "source": [
        "##### CNN vs LSTM"
      ],
      "metadata": {
        "id": "-uuq1Sr18kG9"
      }
    },
    {
      "cell_type": "code",
      "source": [
        "print(dm_se_dax_w_cnn_lstm)"
      ],
      "metadata": {
        "colab": {
          "base_uri": "https://localhost:8080/"
        },
        "outputId": "8a1d4f59-25a6-4773-bd15-5dc349784ba5",
        "id": "eEPyOwpr8kG-"
      },
      "execution_count": 159,
      "outputs": [
        {
          "output_type": "stream",
          "name": "stdout",
          "text": [
            "\n",
            "\tDiebold-Mariano Test\n",
            "\n",
            "data:  dax_cnn_w_sedax_lstm_w_se\n",
            "DM = -1.4228, Forecast horizon = 1, Loss function power = 2, p-value =\n",
            "0.1605\n",
            "alternative hypothesis: two.sided\n",
            "\n"
          ]
        }
      ]
    },
    {
      "cell_type": "code",
      "source": [
        "print(dm_qlike_dax_w_cnn_lstm)"
      ],
      "metadata": {
        "colab": {
          "base_uri": "https://localhost:8080/"
        },
        "outputId": "ee7e5da1-e4c3-4782-e8df-ad300235ed46",
        "id": "IfC4CFQt8kG-"
      },
      "execution_count": 160,
      "outputs": [
        {
          "output_type": "stream",
          "name": "stdout",
          "text": [
            "\n",
            "\tDiebold-Mariano Test\n",
            "\n",
            "data:  dax_cnn_w_qlikedax_lstm_w_qlike\n",
            "DM = 1.2931, Forecast horizon = 1, Loss function power = 2, p-value =\n",
            "0.2015\n",
            "alternative hypothesis: two.sided\n",
            "\n"
          ]
        }
      ]
    },
    {
      "cell_type": "markdown",
      "source": [
        "##### CNN vs GRU"
      ],
      "metadata": {
        "id": "HHo0N1WN8kG-"
      }
    },
    {
      "cell_type": "code",
      "source": [
        "print(dm_se_dax_w_cnn_gru)"
      ],
      "metadata": {
        "colab": {
          "base_uri": "https://localhost:8080/"
        },
        "outputId": "7ee59df7-8d01-4aee-c3e1-7eeaa3606ec6",
        "id": "CPwMUtSI8kG-"
      },
      "execution_count": 161,
      "outputs": [
        {
          "output_type": "stream",
          "name": "stdout",
          "text": [
            "\n",
            "\tDiebold-Mariano Test\n",
            "\n",
            "data:  dax_cnn_w_sedax_gru_w_se\n",
            "DM = 1.1249, Forecast horizon = 1, Loss function power = 2, p-value =\n",
            "0.2656\n",
            "alternative hypothesis: two.sided\n",
            "\n"
          ]
        }
      ]
    },
    {
      "cell_type": "code",
      "source": [
        "print(dm_qlike_dax_w_cnn_gru)"
      ],
      "metadata": {
        "colab": {
          "base_uri": "https://localhost:8080/"
        },
        "outputId": "7a74e456-24a7-4925-ee9f-7059886cee0c",
        "id": "OHyFPiuu8kG_"
      },
      "execution_count": 162,
      "outputs": [
        {
          "output_type": "stream",
          "name": "stdout",
          "text": [
            "\n",
            "\tDiebold-Mariano Test\n",
            "\n",
            "data:  dax_cnn_w_qlikedax_gru_w_qlike\n",
            "DM = -0.37365, Forecast horizon = 1, Loss function power = 2, p-value =\n",
            "0.7101\n",
            "alternative hypothesis: two.sided\n",
            "\n"
          ]
        }
      ]
    },
    {
      "cell_type": "markdown",
      "source": [
        "##### LSTM vs GRU"
      ],
      "metadata": {
        "id": "NUKNc8rU8kG_"
      }
    },
    {
      "cell_type": "code",
      "source": [
        "print(dm_se_dax_w_lstm_gru)"
      ],
      "metadata": {
        "colab": {
          "base_uri": "https://localhost:8080/"
        },
        "outputId": "bf04d7c3-ce2b-4c5e-90db-7be531c6fb96",
        "id": "oaohLhJO8kG_"
      },
      "execution_count": 163,
      "outputs": [
        {
          "output_type": "stream",
          "name": "stdout",
          "text": [
            "\n",
            "\tDiebold-Mariano Test\n",
            "\n",
            "data:  dax_lstm_w_sedax_gru_w_se\n",
            "DM = 2.4531, Forecast horizon = 1, Loss function power = 2, p-value =\n",
            "0.01742\n",
            "alternative hypothesis: two.sided\n",
            "\n"
          ]
        }
      ]
    },
    {
      "cell_type": "code",
      "source": [
        "print(dm_qlike_dax_w_lstm_gru)"
      ],
      "metadata": {
        "colab": {
          "base_uri": "https://localhost:8080/"
        },
        "outputId": "4bd4242d-e2ef-422e-b023-a9669b36e2ca",
        "id": "0X0QVgy-8kG_"
      },
      "execution_count": 164,
      "outputs": [
        {
          "output_type": "stream",
          "name": "stdout",
          "text": [
            "\n",
            "\tDiebold-Mariano Test\n",
            "\n",
            "data:  dax_lstm_w_qlikedax_gru_w_qlike\n",
            "DM = -2.8681, Forecast horizon = 1, Loss function power = 2, p-value =\n",
            "0.00588\n",
            "alternative hypothesis: two.sided\n",
            "\n"
          ]
        }
      ]
    },
    {
      "cell_type": "markdown",
      "source": [
        "#### Tests for the 1-month ahead forecast"
      ],
      "metadata": {
        "id": "98RAOJvJ2d85"
      }
    },
    {
      "cell_type": "code",
      "source": [
        "# MCS for squared-error loss\n",
        "\n",
        "errors_matrix_se <- cbind(dax_har_m_se, dax_fnn_har_m_se, dax_fnn_m_se, dax_cnn_m_se, dax_lstm_m_se, dax_gru_m_se)\n",
        "errors_matrix_qlike <- cbind(dax_har_m_qlike, dax_fnn_har_m_qlike, dax_fnn_m_qlike, dax_cnn_m_qlike, dax_lstm_m_qlike, dax_gru_m_qlike)\n",
        "\n",
        "# B is number of bootstrap replications\n",
        "mcs_result_dax_se_m <- MCSprocedure(errors_matrix_se, alpha = 0.05, B = 5000, statistic = \"Tmax\")\n",
        "\n",
        "mcs_result_dax_qlike_m <- MCSprocedure(errors_matrix_qlike, alpha = 0.05, B = 5000, statistic = \"Tmax\")"
      ],
      "metadata": {
        "colab": {
          "base_uri": "https://localhost:8080/"
        },
        "outputId": "8006029a-9721-4e6d-d2ca-fc2ca599053d",
        "id": "tKW_kdsO2d9a"
      },
      "execution_count": 165,
      "outputs": [
        {
          "output_type": "stream",
          "name": "stdout",
          "text": [
            "\n",
            "###########################################################################################################################\n",
            "Superior Set Model created\t:\n",
            "                 Rank_M        v_M  MCS_M Rank_R       v_R  MCS_R         Loss\n",
            "dax_har_m_se          4  1.0078316 0.6694      5  2.310457 0.1498 1.526423e-09\n",
            "dax_fnn_har_m_se      3 -0.9772131 1.0000      3  1.600803 0.5182 1.423789e-09\n",
            "dax_fnn_m_se          6  1.5976915 0.2640      6  2.695236 0.0664 1.535033e-09\n",
            "dax_cnn_m_se          5  1.0099582 0.6674      4  2.134287 0.2092 1.529788e-09\n",
            "dax_lstm_m_se         2 -1.4186047 1.0000      2  0.704176 0.9716 1.384507e-09\n",
            "dax_gru_m_se          1 -3.3204427 1.0000      1 -0.704176 1.0000 1.345638e-09\n",
            "p-value\t:\n",
            "[1] 0.264\n",
            "\n",
            "###########################################################################################################################\n",
            "###########################################################################################################################\n",
            "Superior Set Model created\t:\n",
            "                    Rank_M        v_M  MCS_M Rank_R        v_R  MCS_R      Loss\n",
            "dax_har_m_qlike          2 -1.4103183 1.0000      2  0.3912421 0.9984 -8.955064\n",
            "dax_fnn_har_m_qlike      4  0.1878187 0.9996      4  2.0089842 0.2658 -8.938209\n",
            "dax_fnn_m_qlike          6  1.8728202 0.1736      6  2.6717776 0.0496 -8.920141\n",
            "dax_cnn_m_qlike          5  1.6186793 0.2908      5  2.2290940 0.1596 -8.917438\n",
            "dax_lstm_m_qlike         3 -0.4767258 1.0000      3  1.1641417 0.8316 -8.944926\n",
            "dax_gru_m_qlike          1 -2.6719002 1.0000      1 -0.3912421 1.0000 -8.959694\n",
            "p-value\t:\n",
            "[1] 0.1736\n",
            "\n",
            "###########################################################################################################################"
          ]
        }
      ]
    },
    {
      "cell_type": "code",
      "source": [
        "# Diebold-Mariano test\n",
        "\n",
        "dm_se_dax_m_har_fnn_har <- dm.test(dax_har_m_se, dax_fnn_har_m_se, alternative = \"two.sided\")\n",
        "dm_se_dax_m_har_fnn <- dm.test(dax_har_m_se, dax_fnn_m_se, alternative = \"two.sided\")\n",
        "dm_se_dax_m_har_cnn <- dm.test(dax_har_m_se, dax_cnn_m_se, alternative = \"two.sided\")\n",
        "dm_se_dax_m_har_lstm <- dm.test(dax_har_m_se, dax_lstm_m_se, alternative = \"two.sided\")\n",
        "dm_se_dax_m_har_gru <- dm.test(dax_har_m_se, dax_gru_m_se, alternative = \"two.sided\")\n",
        "dm_se_dax_m_fnn_har_fnn <- dm.test(dax_fnn_har_m_se, dax_fnn_m_se, alternative = \"two.sided\")\n",
        "dm_se_dax_m_fnn_har_cnn <- dm.test(dax_fnn_har_m_se, dax_cnn_m_se, alternative = \"two.sided\")\n",
        "dm_se_dax_m_fnn_har_lstm <- dm.test(dax_fnn_har_m_se, dax_lstm_m_se, alternative = \"two.sided\")\n",
        "dm_se_dax_m_fnn_har_gru <- dm.test(dax_fnn_har_m_se, dax_gru_m_se, alternative = \"two.sided\")\n",
        "dm_se_dax_m_fnn_cnn <- dm.test(dax_fnn_m_se, dax_cnn_m_se, alternative = \"two.sided\")\n",
        "dm_se_dax_m_fnn_lstm <- dm.test(dax_fnn_m_se, dax_lstm_m_se, alternative = \"two.sided\")\n",
        "dm_se_dax_m_fnn_gru <- dm.test(dax_fnn_m_se, dax_gru_m_se, alternative = \"two.sided\")\n",
        "dm_se_dax_m_cnn_lstm <- dm.test(dax_cnn_m_se, dax_lstm_m_se, alternative = \"two.sided\")\n",
        "dm_se_dax_m_cnn_gru <- dm.test(dax_cnn_m_se, dax_gru_m_se, alternative = \"two.sided\")\n",
        "dm_se_dax_m_lstm_gru <- dm.test(dax_lstm_m_se, dax_gru_m_se, alternative = \"two.sided\")\n",
        "\n",
        "dm_qlike_dax_m_har_fnn_har <- dm.test(dax_har_m_qlike, dax_fnn_har_m_qlike, alternative = \"two.sided\")\n",
        "dm_qlike_dax_m_har_fnn <- dm.test(dax_har_m_qlike, dax_fnn_m_qlike, alternative = \"two.sided\")\n",
        "dm_qlike_dax_m_har_cnn <- dm.test(dax_har_m_qlike, dax_cnn_m_qlike, alternative = \"two.sided\")\n",
        "dm_qlike_dax_m_har_lstm <- dm.test(dax_har_m_qlike, dax_lstm_m_qlike, alternative = \"two.sided\")\n",
        "dm_qlike_dax_m_har_gru <- dm.test(dax_har_m_qlike, dax_gru_m_qlike, alternative = \"two.sided\")\n",
        "dm_qlike_dax_m_fnn_har_fnn <- dm.test(dax_fnn_har_m_qlike, dax_fnn_m_qlike, alternative = \"two.sided\")\n",
        "dm_qlike_dax_m_fnn_har_cnn <- dm.test(dax_fnn_har_m_qlike, dax_cnn_m_qlike, alternative = \"two.sided\")\n",
        "dm_qlike_dax_m_fnn_har_lstm <- dm.test(dax_fnn_har_m_qlike, dax_lstm_m_qlike, alternative = \"two.sided\")\n",
        "dm_qlike_dax_m_fnn_har_gru <- dm.test(dax_fnn_har_m_qlike, dax_gru_m_qlike, alternative = \"two.sided\")\n",
        "dm_qlike_dax_m_fnn_cnn <- dm.test(dax_fnn_m_qlike, dax_cnn_m_qlike, alternative = \"two.sided\")\n",
        "dm_qlike_dax_m_fnn_lstm <- dm.test(dax_fnn_m_qlike, dax_lstm_m_qlike, alternative = \"two.sided\")\n",
        "dm_qlike_dax_m_fnn_gru <- dm.test(dax_fnn_m_qlike, dax_gru_m_qlike, alternative = \"two.sided\")\n",
        "dm_qlike_dax_m_cnn_lstm <- dm.test(dax_cnn_m_qlike, dax_lstm_m_qlike, alternative = \"two.sided\")\n",
        "dm_qlike_dax_m_cnn_gru <- dm.test(dax_cnn_m_qlike, dax_gru_m_qlike, alternative = \"two.sided\")\n",
        "dm_qlike_dax_m_lstm_gru <- dm.test(dax_lstm_m_qlike, dax_gru_m_qlike, alternative = \"two.sided\")"
      ],
      "metadata": {
        "id": "_Xn7-QsG2d9b"
      },
      "execution_count": 166,
      "outputs": []
    },
    {
      "cell_type": "markdown",
      "source": [
        "##### HAR vs FNN-HAR"
      ],
      "metadata": {
        "id": "rEPWy0gW2d9d"
      }
    },
    {
      "cell_type": "code",
      "source": [
        "print(dm_se_dax_m_har_fnn_har)"
      ],
      "metadata": {
        "colab": {
          "base_uri": "https://localhost:8080/"
        },
        "outputId": "203382e6-d5a9-4e96-853b-ff356e0b0405",
        "id": "1AB7xynt2d9e"
      },
      "execution_count": 167,
      "outputs": [
        {
          "output_type": "stream",
          "name": "stdout",
          "text": [
            "\n",
            "\tDiebold-Mariano Test\n",
            "\n",
            "data:  dax_har_m_sedax_fnn_har_m_se\n",
            "DM = -1.3418, Forecast horizon = 1, Loss function power = 2, p-value =\n",
            "0.181\n",
            "alternative hypothesis: two.sided\n",
            "\n"
          ]
        }
      ]
    },
    {
      "cell_type": "code",
      "source": [
        "print(dm_qlike_dax_m_har_fnn_har)"
      ],
      "metadata": {
        "colab": {
          "base_uri": "https://localhost:8080/"
        },
        "outputId": "5b9e9fe3-78b0-4931-b548-b605a28f6dd8",
        "id": "Iy2fStrn2d9e"
      },
      "execution_count": 168,
      "outputs": [
        {
          "output_type": "stream",
          "name": "stdout",
          "text": [
            "\n",
            "\tDiebold-Mariano Test\n",
            "\n",
            "data:  dax_har_m_qlikedax_fnn_har_m_qlike\n",
            "DM = 0.40593, Forecast horizon = 1, Loss function power = 2, p-value =\n",
            "0.6852\n",
            "alternative hypothesis: two.sided\n",
            "\n"
          ]
        }
      ]
    },
    {
      "cell_type": "markdown",
      "source": [
        "##### HAR vs FNN"
      ],
      "metadata": {
        "id": "d2db3-9B2d9f"
      }
    },
    {
      "cell_type": "code",
      "source": [
        "print(dm_se_dax_m_har_fnn)"
      ],
      "metadata": {
        "colab": {
          "base_uri": "https://localhost:8080/"
        },
        "outputId": "3bf3aa8f-af60-4f95-b7e7-eba1426ab907",
        "id": "TfFZI8X82d9g"
      },
      "execution_count": 169,
      "outputs": [
        {
          "output_type": "stream",
          "name": "stdout",
          "text": [
            "\n",
            "\tDiebold-Mariano Test\n",
            "\n",
            "data:  dax_har_m_sedax_fnn_m_se\n",
            "DM = -1.4071, Forecast horizon = 1, Loss function power = 2, p-value =\n",
            "0.1608\n",
            "alternative hypothesis: two.sided\n",
            "\n"
          ]
        }
      ]
    },
    {
      "cell_type": "code",
      "source": [
        "print(dm_qlike_dax_m_har_fnn)"
      ],
      "metadata": {
        "colab": {
          "base_uri": "https://localhost:8080/"
        },
        "outputId": "9dfb5767-0497-431e-f9df-470c62c39655",
        "id": "LaHSQUwU2d9g"
      },
      "execution_count": 170,
      "outputs": [
        {
          "output_type": "stream",
          "name": "stdout",
          "text": [
            "\n",
            "\tDiebold-Mariano Test\n",
            "\n",
            "data:  dax_har_m_qlikedax_fnn_m_qlike\n",
            "DM = 1.446, Forecast horizon = 1, Loss function power = 2, p-value =\n",
            "0.1496\n",
            "alternative hypothesis: two.sided\n",
            "\n"
          ]
        }
      ]
    },
    {
      "cell_type": "markdown",
      "source": [
        "##### HAR vs CNN"
      ],
      "metadata": {
        "id": "uX-i3wom2d9h"
      }
    },
    {
      "cell_type": "code",
      "source": [
        "print(dm_se_dax_m_har_cnn)"
      ],
      "metadata": {
        "colab": {
          "base_uri": "https://localhost:8080/"
        },
        "outputId": "e51098a1-643d-489d-86a5-f51f9f70272a",
        "id": "lL9JGNY-2d9h"
      },
      "execution_count": 171,
      "outputs": [
        {
          "output_type": "stream",
          "name": "stdout",
          "text": [
            "\n",
            "\tDiebold-Mariano Test\n",
            "\n",
            "data:  dax_har_m_sedax_cnn_m_se\n",
            "DM = -1.3496, Forecast horizon = 1, Loss function power = 2, p-value =\n",
            "0.1786\n",
            "alternative hypothesis: two.sided\n",
            "\n"
          ]
        }
      ]
    },
    {
      "cell_type": "code",
      "source": [
        "print(dm_qlike_dax_m_har_cnn)"
      ],
      "metadata": {
        "colab": {
          "base_uri": "https://localhost:8080/"
        },
        "outputId": "d4892ad4-6484-4007-99a7-137c40ae251e",
        "id": "xDT9RhF32d9i"
      },
      "execution_count": 172,
      "outputs": [
        {
          "output_type": "stream",
          "name": "stdout",
          "text": [
            "\n",
            "\tDiebold-Mariano Test\n",
            "\n",
            "data:  dax_har_m_qlikedax_cnn_m_qlike\n",
            "DM = 1.5136, Forecast horizon = 1, Loss function power = 2, p-value =\n",
            "0.1316\n",
            "alternative hypothesis: two.sided\n",
            "\n"
          ]
        }
      ]
    },
    {
      "cell_type": "markdown",
      "source": [
        "##### HAR vs LSTM"
      ],
      "metadata": {
        "id": "6MblcvpP2d9i"
      }
    },
    {
      "cell_type": "code",
      "source": [
        "print(dm_se_dax_m_har_lstm)"
      ],
      "metadata": {
        "colab": {
          "base_uri": "https://localhost:8080/"
        },
        "outputId": "c08b19f9-88f2-41e1-cae6-a899a269df6b",
        "id": "wkURtwxe2d9j"
      },
      "execution_count": 173,
      "outputs": [
        {
          "output_type": "stream",
          "name": "stdout",
          "text": [
            "\n",
            "\tDiebold-Mariano Test\n",
            "\n",
            "data:  dax_har_m_sedax_lstm_m_se\n",
            "DM = -1.0598, Forecast horizon = 1, Loss function power = 2, p-value =\n",
            "0.2904\n",
            "alternative hypothesis: two.sided\n",
            "\n"
          ]
        }
      ]
    },
    {
      "cell_type": "code",
      "source": [
        "print(dm_qlike_dax_m_har_lstm)"
      ],
      "metadata": {
        "colab": {
          "base_uri": "https://localhost:8080/"
        },
        "outputId": "bf83e890-53b1-4569-ee84-7baad64f8363",
        "id": "o53WZpIa2d9j"
      },
      "execution_count": 174,
      "outputs": [
        {
          "output_type": "stream",
          "name": "stdout",
          "text": [
            "\n",
            "\tDiebold-Mariano Test\n",
            "\n",
            "data:  dax_har_m_qlikedax_lstm_m_qlike\n",
            "DM = 0.63446, Forecast horizon = 1, Loss function power = 2, p-value =\n",
            "0.5264\n",
            "alternative hypothesis: two.sided\n",
            "\n"
          ]
        }
      ]
    },
    {
      "cell_type": "markdown",
      "source": [
        "##### HAR vs GRU"
      ],
      "metadata": {
        "id": "QDatHPJh2d9k"
      }
    },
    {
      "cell_type": "code",
      "source": [
        "print(dm_se_dax_m_har_gru)"
      ],
      "metadata": {
        "colab": {
          "base_uri": "https://localhost:8080/"
        },
        "outputId": "df9c4f4b-8708-431f-d1ae-b41b5d706a98",
        "id": "0hpnZYr62d9k"
      },
      "execution_count": 175,
      "outputs": [
        {
          "output_type": "stream",
          "name": "stdout",
          "text": [
            "\n",
            "\tDiebold-Mariano Test\n",
            "\n",
            "data:  dax_har_m_sedax_gru_m_se\n",
            "DM = -1.1624, Forecast horizon = 1, Loss function power = 2, p-value =\n",
            "0.2464\n",
            "alternative hypothesis: two.sided\n",
            "\n"
          ]
        }
      ]
    },
    {
      "cell_type": "code",
      "source": [
        "print(dm_qlike_dax_m_har_gru)"
      ],
      "metadata": {
        "colab": {
          "base_uri": "https://localhost:8080/"
        },
        "outputId": "3782a4d5-ab9e-4e05-fac0-4f63dcfc7f80",
        "id": "PqZ2_5aP2d9l"
      },
      "execution_count": 176,
      "outputs": [
        {
          "output_type": "stream",
          "name": "stdout",
          "text": [
            "\n",
            "\tDiebold-Mariano Test\n",
            "\n",
            "data:  dax_har_m_qlikedax_gru_m_qlike\n",
            "DM = -1.197, Forecast horizon = 1, Loss function power = 2, p-value =\n",
            "0.2326\n",
            "alternative hypothesis: two.sided\n",
            "\n"
          ]
        }
      ]
    },
    {
      "cell_type": "markdown",
      "source": [
        "##### FNN-HAR vs FNN"
      ],
      "metadata": {
        "id": "E7udP0eu2d9m"
      }
    },
    {
      "cell_type": "code",
      "source": [
        "print(dm_se_dax_m_fnn_har_fnn)"
      ],
      "metadata": {
        "colab": {
          "base_uri": "https://localhost:8080/"
        },
        "outputId": "fc61a392-427a-4685-97a9-81c9f73a49e2",
        "id": "2uX0mjZC2d9m"
      },
      "execution_count": 177,
      "outputs": [
        {
          "output_type": "stream",
          "name": "stdout",
          "text": [
            "\n",
            "\tDiebold-Mariano Test\n",
            "\n",
            "data:  dax_fnn_har_m_sedax_fnn_m_se\n",
            "DM = -1.4431, Forecast horizon = 1, Loss function power = 2, p-value =\n",
            "0.1504\n",
            "alternative hypothesis: two.sided\n",
            "\n"
          ]
        }
      ]
    },
    {
      "cell_type": "code",
      "source": [
        "print(dm_qlike_dax_m_fnn_har_fnn)"
      ],
      "metadata": {
        "colab": {
          "base_uri": "https://localhost:8080/"
        },
        "outputId": "9af149ea-8b80-4aaf-f071-30a5f05d80be",
        "id": "FhSmoDEY2d9n"
      },
      "execution_count": 178,
      "outputs": [
        {
          "output_type": "stream",
          "name": "stdout",
          "text": [
            "\n",
            "\tDiebold-Mariano Test\n",
            "\n",
            "data:  dax_fnn_har_m_qlikedax_fnn_m_qlike\n",
            "DM = 1.698, Forecast horizon = 1, Loss function power = 2, p-value =\n",
            "0.09093\n",
            "alternative hypothesis: two.sided\n",
            "\n"
          ]
        }
      ]
    },
    {
      "cell_type": "markdown",
      "source": [
        "##### FNN-HAR vs CNN"
      ],
      "metadata": {
        "id": "G9C3DjSJ2d9n"
      }
    },
    {
      "cell_type": "code",
      "source": [
        "print(dm_se_dax_m_fnn_har_cnn)"
      ],
      "metadata": {
        "colab": {
          "base_uri": "https://localhost:8080/"
        },
        "outputId": "0f9f8016-0664-49b0-89cb-bf6ca93c6bfb",
        "id": "VEvj8EBo2d9o"
      },
      "execution_count": 179,
      "outputs": [
        {
          "output_type": "stream",
          "name": "stdout",
          "text": [
            "\n",
            "\tDiebold-Mariano Test\n",
            "\n",
            "data:  dax_fnn_har_m_sedax_cnn_m_se\n",
            "DM = -0.90712, Forecast horizon = 1, Loss function power = 2, p-value =\n",
            "0.3653\n",
            "alternative hypothesis: two.sided\n",
            "\n"
          ]
        }
      ]
    },
    {
      "cell_type": "code",
      "source": [
        "print(dm_qlike_dax_m_fnn_har_cnn)"
      ],
      "metadata": {
        "colab": {
          "base_uri": "https://localhost:8080/"
        },
        "outputId": "6038ad4e-04ae-46ca-ab49-59715eed1c95",
        "id": "BFIe0u6m2d9o"
      },
      "execution_count": 180,
      "outputs": [
        {
          "output_type": "stream",
          "name": "stdout",
          "text": [
            "\n",
            "\tDiebold-Mariano Test\n",
            "\n",
            "data:  dax_fnn_har_m_qlikedax_cnn_m_qlike\n",
            "DM = 1.569, Forecast horizon = 1, Loss function power = 2, p-value =\n",
            "0.1181\n",
            "alternative hypothesis: two.sided\n",
            "\n"
          ]
        }
      ]
    },
    {
      "cell_type": "markdown",
      "source": [
        "##### FNN-HAR vs LSTM"
      ],
      "metadata": {
        "id": "qyUNJExr2d9p"
      }
    },
    {
      "cell_type": "code",
      "source": [
        "print(dm_se_dax_m_fnn_har_lstm)"
      ],
      "metadata": {
        "colab": {
          "base_uri": "https://localhost:8080/"
        },
        "outputId": "e93c2b12-09f4-47a0-83a1-3f39fa03aa68",
        "id": "INj-GIcD2d9p"
      },
      "execution_count": 181,
      "outputs": [
        {
          "output_type": "stream",
          "name": "stdout",
          "text": [
            "\n",
            "\tDiebold-Mariano Test\n",
            "\n",
            "data:  dax_fnn_har_m_sedax_lstm_m_se\n",
            "DM = 1.524, Forecast horizon = 1, Loss function power = 2, p-value =\n",
            "0.129\n",
            "alternative hypothesis: two.sided\n",
            "\n"
          ]
        }
      ]
    },
    {
      "cell_type": "code",
      "source": [
        "print(dm_qlike_dax_m_fnn_har_lstm)"
      ],
      "metadata": {
        "colab": {
          "base_uri": "https://localhost:8080/"
        },
        "outputId": "06c2fc9e-9c9f-4984-a9b6-08f27e4ce06b",
        "id": "GQBOBovd2d9q"
      },
      "execution_count": 182,
      "outputs": [
        {
          "output_type": "stream",
          "name": "stdout",
          "text": [
            "\n",
            "\tDiebold-Mariano Test\n",
            "\n",
            "data:  dax_fnn_har_m_qlikedax_lstm_m_qlike\n",
            "DM = 0.19394, Forecast horizon = 1, Loss function power = 2, p-value =\n",
            "0.8464\n",
            "alternative hypothesis: two.sided\n",
            "\n"
          ]
        }
      ]
    },
    {
      "cell_type": "markdown",
      "source": [
        "##### FNN-HAR vs GRU"
      ],
      "metadata": {
        "id": "pY8wsjD62d9r"
      }
    },
    {
      "cell_type": "code",
      "source": [
        "print(dm_se_dax_m_fnn_har_gru)"
      ],
      "metadata": {
        "colab": {
          "base_uri": "https://localhost:8080/"
        },
        "outputId": "a444b34d-155a-4b83-b960-5700d9ec3eb7",
        "id": "CJGs3k8A2d9r"
      },
      "execution_count": 183,
      "outputs": [
        {
          "output_type": "stream",
          "name": "stdout",
          "text": [
            "\n",
            "\tDiebold-Mariano Test\n",
            "\n",
            "data:  dax_fnn_har_m_sedax_gru_m_se\n",
            "DM = 1.0213, Forecast horizon = 1, Loss function power = 2, p-value =\n",
            "0.3082\n",
            "alternative hypothesis: two.sided\n",
            "\n"
          ]
        }
      ]
    },
    {
      "cell_type": "code",
      "source": [
        "print(dm_qlike_dax_m_fnn_har_gru)"
      ],
      "metadata": {
        "colab": {
          "base_uri": "https://localhost:8080/"
        },
        "outputId": "24ef757c-c1d8-4d34-c8dd-240c35a267c6",
        "id": "8e4R1TRE2d9s"
      },
      "execution_count": 184,
      "outputs": [
        {
          "output_type": "stream",
          "name": "stdout",
          "text": [
            "\n",
            "\tDiebold-Mariano Test\n",
            "\n",
            "data:  dax_fnn_har_m_qlikedax_gru_m_qlike\n",
            "DM = -1.4245, Forecast horizon = 1, Loss function power = 2, p-value =\n",
            "0.1557\n",
            "alternative hypothesis: two.sided\n",
            "\n"
          ]
        }
      ]
    },
    {
      "cell_type": "markdown",
      "source": [
        "##### FNN vs CNN"
      ],
      "metadata": {
        "id": "-rHIrFk72d9s"
      }
    },
    {
      "cell_type": "code",
      "source": [
        "print(dm_se_dax_m_fnn_cnn)"
      ],
      "metadata": {
        "colab": {
          "base_uri": "https://localhost:8080/"
        },
        "outputId": "ddfe6169-26d4-4eae-cb93-cf4aafd82ef5",
        "id": "9Y5-olPi2d9t"
      },
      "execution_count": 185,
      "outputs": [
        {
          "output_type": "stream",
          "name": "stdout",
          "text": [
            "\n",
            "\tDiebold-Mariano Test\n",
            "\n",
            "data:  dax_fnn_m_sedax_cnn_m_se\n",
            "DM = 0.0087365, Forecast horizon = 1, Loss function power = 2, p-value\n",
            "= 0.993\n",
            "alternative hypothesis: two.sided\n",
            "\n"
          ]
        }
      ]
    },
    {
      "cell_type": "code",
      "source": [
        "print(dm_qlike_dax_m_fnn_cnn)"
      ],
      "metadata": {
        "colab": {
          "base_uri": "https://localhost:8080/"
        },
        "outputId": "3236ebe7-a9b2-4863-daa2-32f9a9b2319d",
        "id": "ZQPERuFG2d9t"
      },
      "execution_count": 186,
      "outputs": [
        {
          "output_type": "stream",
          "name": "stdout",
          "text": [
            "\n",
            "\tDiebold-Mariano Test\n",
            "\n",
            "data:  dax_fnn_m_qlikedax_cnn_m_qlike\n",
            "DM = 0.25573, Forecast horizon = 1, Loss function power = 2, p-value =\n",
            "0.7984\n",
            "alternative hypothesis: two.sided\n",
            "\n"
          ]
        }
      ]
    },
    {
      "cell_type": "markdown",
      "source": [
        "##### FNN vs LSTM"
      ],
      "metadata": {
        "id": "SdFNPra52d9u"
      }
    },
    {
      "cell_type": "code",
      "source": [
        "print(dm_se_dax_m_fnn_lstm)"
      ],
      "metadata": {
        "colab": {
          "base_uri": "https://localhost:8080/"
        },
        "outputId": "ad0174a6-9d71-4c25-af0e-e81e431ab398",
        "id": "Buuef5_n2d9u"
      },
      "execution_count": 187,
      "outputs": [
        {
          "output_type": "stream",
          "name": "stdout",
          "text": [
            "\n",
            "\tDiebold-Mariano Test\n",
            "\n",
            "data:  dax_fnn_m_sedax_lstm_m_se\n",
            "DM = 1.5143, Forecast horizon = 1, Loss function power = 2, p-value =\n",
            "0.1314\n",
            "alternative hypothesis: two.sided\n",
            "\n"
          ]
        }
      ]
    },
    {
      "cell_type": "code",
      "source": [
        "print(dm_qlike_dax_m_fnn_lstm)"
      ],
      "metadata": {
        "colab": {
          "base_uri": "https://localhost:8080/"
        },
        "outputId": "c764edf4-d18e-4c04-f9ce-12164d31d75c",
        "id": "LBYw6D8y2d9v"
      },
      "execution_count": 188,
      "outputs": [
        {
          "output_type": "stream",
          "name": "stdout",
          "text": [
            "\n",
            "\tDiebold-Mariano Test\n",
            "\n",
            "data:  dax_fnn_m_qlikedax_lstm_m_qlike\n",
            "DM = -0.73139, Forecast horizon = 1, Loss function power = 2, p-value =\n",
            "0.4653\n",
            "alternative hypothesis: two.sided\n",
            "\n"
          ]
        }
      ]
    },
    {
      "cell_type": "markdown",
      "source": [
        "##### FNN vs GRU"
      ],
      "metadata": {
        "id": "mJjICt4K2d9v"
      }
    },
    {
      "cell_type": "code",
      "source": [
        "print(dm_se_dax_m_fnn_gru)"
      ],
      "metadata": {
        "colab": {
          "base_uri": "https://localhost:8080/"
        },
        "outputId": "ee8f5395-5aea-4a8b-a585-2305fb126b1c",
        "id": "2rmkPxQm2d9w"
      },
      "execution_count": 189,
      "outputs": [
        {
          "output_type": "stream",
          "name": "stdout",
          "text": [
            "\n",
            "\tDiebold-Mariano Test\n",
            "\n",
            "data:  dax_fnn_m_sedax_gru_m_se\n",
            "DM = 1.6099, Forecast horizon = 1, Loss function power = 2, p-value =\n",
            "0.1089\n",
            "alternative hypothesis: two.sided\n",
            "\n"
          ]
        }
      ]
    },
    {
      "cell_type": "code",
      "source": [
        "print(dm_qlike_dax_m_fnn_lstm)"
      ],
      "metadata": {
        "colab": {
          "base_uri": "https://localhost:8080/"
        },
        "outputId": "eabaebdb-aa7d-4ffa-9473-44889d9b3dbb",
        "id": "QPpiyCYv2d9w"
      },
      "execution_count": 190,
      "outputs": [
        {
          "output_type": "stream",
          "name": "stdout",
          "text": [
            "\n",
            "\tDiebold-Mariano Test\n",
            "\n",
            "data:  dax_fnn_m_qlikedax_lstm_m_qlike\n",
            "DM = -0.73139, Forecast horizon = 1, Loss function power = 2, p-value =\n",
            "0.4653\n",
            "alternative hypothesis: two.sided\n",
            "\n"
          ]
        }
      ]
    },
    {
      "cell_type": "markdown",
      "source": [
        "##### CNN vs LSTM"
      ],
      "metadata": {
        "id": "0Bc014yb2d9x"
      }
    },
    {
      "cell_type": "code",
      "source": [
        "print(dm_se_dax_m_cnn_lstm)"
      ],
      "metadata": {
        "colab": {
          "base_uri": "https://localhost:8080/"
        },
        "outputId": "7d9d069f-45a5-4c2c-ef3d-2fc73a8fd217",
        "id": "EIhiSSts2d9x"
      },
      "execution_count": 191,
      "outputs": [
        {
          "output_type": "stream",
          "name": "stdout",
          "text": [
            "\n",
            "\tDiebold-Mariano Test\n",
            "\n",
            "data:  dax_cnn_m_sedax_lstm_m_se\n",
            "DM = 1.3156, Forecast horizon = 1, Loss function power = 2, p-value =\n",
            "0.1897\n",
            "alternative hypothesis: two.sided\n",
            "\n"
          ]
        }
      ]
    },
    {
      "cell_type": "code",
      "source": [
        "print(dm_qlike_dax_m_cnn_lstm)"
      ],
      "metadata": {
        "colab": {
          "base_uri": "https://localhost:8080/"
        },
        "outputId": "f16f5887-e10d-4bec-cc74-8c37ef7fbcff",
        "id": "aHg7PsMt2d9y"
      },
      "execution_count": 192,
      "outputs": [
        {
          "output_type": "stream",
          "name": "stdout",
          "text": [
            "\n",
            "\tDiebold-Mariano Test\n",
            "\n",
            "data:  dax_cnn_m_qlikedax_lstm_m_qlike\n",
            "DM = -0.83205, Forecast horizon = 1, Loss function power = 2, p-value =\n",
            "0.4063\n",
            "alternative hypothesis: two.sided\n",
            "\n"
          ]
        }
      ]
    },
    {
      "cell_type": "markdown",
      "source": [
        "##### CNN vs GRU"
      ],
      "metadata": {
        "id": "av2qOQnQ2d9y"
      }
    },
    {
      "cell_type": "code",
      "source": [
        "print(dm_se_dax_m_cnn_gru)"
      ],
      "metadata": {
        "colab": {
          "base_uri": "https://localhost:8080/"
        },
        "outputId": "bc17f975-9187-4261-bba5-a20c4406a16d",
        "id": "mm6u0khw2d9z"
      },
      "execution_count": 193,
      "outputs": [
        {
          "output_type": "stream",
          "name": "stdout",
          "text": [
            "\n",
            "\tDiebold-Mariano Test\n",
            "\n",
            "data:  dax_cnn_m_sedax_gru_m_se\n",
            "DM = 1.4442, Forecast horizon = 1, Loss function power = 2, p-value =\n",
            "0.1501\n",
            "alternative hypothesis: two.sided\n",
            "\n"
          ]
        }
      ]
    },
    {
      "cell_type": "code",
      "source": [
        "print(dm_qlike_dax_m_cnn_gru)"
      ],
      "metadata": {
        "colab": {
          "base_uri": "https://localhost:8080/"
        },
        "outputId": "c024897e-9da9-472d-af57-5e679dad9c71",
        "id": "0nQ84KQv2d9z"
      },
      "execution_count": 194,
      "outputs": [
        {
          "output_type": "stream",
          "name": "stdout",
          "text": [
            "\n",
            "\tDiebold-Mariano Test\n",
            "\n",
            "data:  dax_cnn_m_qlikedax_gru_m_qlike\n",
            "DM = -2.435, Forecast horizon = 1, Loss function power = 2, p-value =\n",
            "0.01569\n",
            "alternative hypothesis: two.sided\n",
            "\n"
          ]
        }
      ]
    },
    {
      "cell_type": "markdown",
      "source": [
        "##### LSTM vs GRU"
      ],
      "metadata": {
        "id": "6MYfWasO2d90"
      }
    },
    {
      "cell_type": "code",
      "source": [
        "print(dm_se_dax_m_lstm_gru)"
      ],
      "metadata": {
        "colab": {
          "base_uri": "https://localhost:8080/"
        },
        "outputId": "b119c05e-8e7c-4e80-943d-9318d7888eaf",
        "id": "c7rc95Gz2d90"
      },
      "execution_count": 195,
      "outputs": [
        {
          "output_type": "stream",
          "name": "stdout",
          "text": [
            "\n",
            "\tDiebold-Mariano Test\n",
            "\n",
            "data:  dax_lstm_m_sedax_gru_m_se\n",
            "DM = -1.0468, Forecast horizon = 1, Loss function power = 2, p-value =\n",
            "0.2964\n",
            "alternative hypothesis: two.sided\n",
            "\n"
          ]
        }
      ]
    },
    {
      "cell_type": "code",
      "source": [
        "print(dm_qlike_dax_m_lstm_gru)"
      ],
      "metadata": {
        "colab": {
          "base_uri": "https://localhost:8080/"
        },
        "outputId": "9e941f9d-fce5-4a0c-b13c-8aae4f0d1387",
        "id": "SkKNMEIe2d91"
      },
      "execution_count": 196,
      "outputs": [
        {
          "output_type": "stream",
          "name": "stdout",
          "text": [
            "\n",
            "\tDiebold-Mariano Test\n",
            "\n",
            "data:  dax_lstm_m_qlikedax_gru_m_qlike\n",
            "DM = -2.6851, Forecast horizon = 1, Loss function power = 2, p-value =\n",
            "0.007805\n",
            "alternative hypothesis: two.sided\n",
            "\n"
          ]
        }
      ]
    },
    {
      "cell_type": "markdown",
      "source": [
        "### Statistical analysis for the FTSE index"
      ],
      "metadata": {
        "id": "l8KjZfRNmJYG"
      }
    },
    {
      "cell_type": "markdown",
      "source": [
        "#### Tests for the 1-day ahead forecast"
      ],
      "metadata": {
        "id": "APOC_C1omJYf"
      }
    },
    {
      "cell_type": "code",
      "source": [
        "# MCS for squared-error loss\n",
        "\n",
        "errors_matrix_se <- cbind(ftse_har_d_se, ftse_fnn_har_d_se, ftse_fnn_d_se, ftse_cnn_d_se, ftse_lstm_d_se, ftse_gru_d_se)\n",
        "errors_matrix_qlike <- cbind(ftse_har_d_qlike, ftse_fnn_har_d_qlike, ftse_fnn_d_qlike, ftse_cnn_d_qlike, ftse_lstm_d_qlike, ftse_gru_d_qlike)\n",
        "\n",
        "# B is number of bootstrap replications\n",
        "mcs_result_ftse_se_d <- MCSprocedure(errors_matrix_se, alpha = 0.05, B = 5000, statistic = \"Tmax\")\n",
        "\n",
        "mcs_result_ftse_qlike_d <- MCSprocedure(errors_matrix_qlike, alpha = 0.05, B = 5000, statistic = \"Tmax\")"
      ],
      "metadata": {
        "colab": {
          "base_uri": "https://localhost:8080/"
        },
        "outputId": "2366ba7c-711c-48a9-9abd-0c603ca9a380",
        "id": "cvWfaBrsmJYg"
      },
      "execution_count": 197,
      "outputs": [
        {
          "output_type": "stream",
          "name": "stdout",
          "text": [
            "\n",
            "###########################################################################################################################\n",
            "Superior Set Model created\t:\n",
            "                  Rank_M        v_M  MCS_M Rank_R        v_R  MCS_R\n",
            "ftse_har_d_se          3 -0.3122039 1.0000      3  0.5111606 0.9764\n",
            "ftse_fnn_har_d_se      5  0.6825012 0.7800      6  1.6647880 0.4022\n",
            "ftse_fnn_d_se          2 -0.3556621 1.0000      4  0.7712352 0.9150\n",
            "ftse_cnn_d_se          6  0.9380046 0.5954      5  1.6572642 0.4022\n",
            "ftse_lstm_d_se         4 -0.1998337 1.0000      2  0.4245433 0.9764\n",
            "ftse_gru_d_se          1 -2.2946845 1.0000      1 -0.4245433 1.0000\n",
            "                          Loss\n",
            "ftse_har_d_se     1.512425e-10\n",
            "ftse_fnn_har_d_se 1.712974e-10\n",
            "ftse_fnn_d_se     1.537372e-10\n",
            "ftse_cnn_d_se     1.951841e-10\n",
            "ftse_lstm_d_se    1.524050e-10\n",
            "ftse_gru_d_se     1.367981e-10\n",
            "p-value\t:\n",
            "[1] 0.5954\n",
            "\n",
            "###########################################################################################################################\n",
            "###########################################################################################################################\n",
            "Superior Set Model created\t:\n",
            "                     Rank_M        v_M  MCS_M Rank_R        v_R  MCS_R\n",
            "ftse_har_d_qlike          2 -1.4424533 1.0000      2  0.2861280 1.0000\n",
            "ftse_fnn_har_d_qlike      4  0.1099782 1.0000      6  1.8015600 0.2902\n",
            "ftse_fnn_d_qlike          3 -1.1462074 1.0000      3  0.8112403 0.9122\n",
            "ftse_cnn_d_qlike          6  0.8361695 0.6996      5  1.5216346 0.5008\n",
            "ftse_lstm_d_qlike         5  0.8137129 0.7296      4  1.4129858 0.6156\n",
            "ftse_gru_d_qlike          1 -2.1926148 1.0000      1 -0.2861280 1.0000\n",
            "                          Loss\n",
            "ftse_har_d_qlike     -9.673150\n",
            "ftse_fnn_har_d_qlike -9.628062\n",
            "ftse_fnn_d_qlike     -9.658594\n",
            "ftse_cnn_d_qlike     -9.580453\n",
            "ftse_lstm_d_qlike    -9.564655\n",
            "ftse_gru_d_qlike     -9.679186\n",
            "p-value\t:\n",
            "[1] 0.6996\n",
            "\n",
            "###########################################################################################################################"
          ]
        }
      ]
    },
    {
      "cell_type": "code",
      "source": [
        "# Diebold-Mariano test\n",
        "\n",
        "dm_se_ftse_d_har_fnn_har <- dm.test(ftse_har_d_se, ftse_fnn_har_d_se, alternative = \"two.sided\")\n",
        "dm_se_ftse_d_har_fnn <- dm.test(ftse_har_d_se, ftse_fnn_d_se, alternative = \"two.sided\")\n",
        "dm_se_ftse_d_har_cnn <- dm.test(ftse_har_d_se, ftse_cnn_d_se, alternative = \"two.sided\")\n",
        "dm_se_ftse_d_har_lstm <- dm.test(ftse_har_d_se, ftse_lstm_d_se, alternative = \"two.sided\")\n",
        "dm_se_ftse_d_har_gru <- dm.test(ftse_har_d_se, ftse_gru_d_se, alternative = \"two.sided\")\n",
        "dm_se_ftse_d_fnn_har_fnn <- dm.test(ftse_fnn_har_d_se, ftse_fnn_d_se, alternative = \"two.sided\")\n",
        "dm_se_ftse_d_fnn_har_cnn <- dm.test(ftse_fnn_har_d_se, ftse_cnn_d_se, alternative = \"two.sided\")\n",
        "dm_se_ftse_d_fnn_har_lstm <- dm.test(ftse_fnn_har_d_se, ftse_lstm_d_se, alternative = \"two.sided\")\n",
        "dm_se_ftse_d_fnn_har_gru <- dm.test(ftse_fnn_har_d_se, ftse_gru_d_se, alternative = \"two.sided\")\n",
        "dm_se_ftse_d_fnn_cnn <- dm.test(ftse_fnn_d_se, ftse_cnn_d_se, alternative = \"two.sided\")\n",
        "dm_se_ftse_d_fnn_lstm <- dm.test(ftse_fnn_d_se, ftse_lstm_d_se, alternative = \"two.sided\")\n",
        "dm_se_ftse_d_fnn_gru <- dm.test(ftse_fnn_d_se, ftse_gru_d_se, alternative = \"two.sided\")\n",
        "dm_se_ftse_d_cnn_lstm <- dm.test(ftse_cnn_d_se, ftse_lstm_d_se, alternative = \"two.sided\")\n",
        "dm_se_ftse_d_cnn_gru <- dm.test(ftse_cnn_d_se, ftse_gru_d_se, alternative = \"two.sided\")\n",
        "dm_se_ftse_d_lstm_gru <- dm.test(ftse_lstm_d_se, ftse_gru_d_se, alternative = \"two.sided\")\n",
        "\n",
        "dm_qlike_ftse_d_har_fnn_har <- dm.test(ftse_har_d_qlike, ftse_fnn_har_d_qlike, alternative = \"two.sided\")\n",
        "dm_qlike_ftse_d_har_fnn <- dm.test(ftse_har_d_qlike, ftse_fnn_d_qlike, alternative = \"two.sided\")\n",
        "dm_qlike_ftse_d_har_cnn <- dm.test(ftse_har_d_qlike, ftse_cnn_d_qlike, alternative = \"two.sided\")\n",
        "dm_qlike_ftse_d_har_lstm <- dm.test(ftse_har_d_qlike, ftse_lstm_d_qlike, alternative = \"two.sided\")\n",
        "dm_qlike_ftse_d_har_gru <- dm.test(ftse_har_d_qlike, ftse_gru_d_qlike, alternative = \"two.sided\")\n",
        "dm_qlike_ftse_d_fnn_har_fnn <- dm.test(ftse_fnn_har_d_qlike, ftse_fnn_d_qlike, alternative = \"two.sided\")\n",
        "dm_qlike_ftse_d_fnn_har_cnn <- dm.test(ftse_fnn_har_d_qlike, ftse_cnn_d_qlike, alternative = \"two.sided\")\n",
        "dm_qlike_ftse_d_fnn_har_lstm <- dm.test(ftse_fnn_har_d_qlike, ftse_lstm_d_qlike, alternative = \"two.sided\")\n",
        "dm_qlike_ftse_d_fnn_har_gru <- dm.test(ftse_fnn_har_d_qlike, ftse_gru_d_qlike, alternative = \"two.sided\")\n",
        "dm_qlike_ftse_d_fnn_cnn <- dm.test(ftse_fnn_d_qlike, ftse_cnn_d_qlike, alternative = \"two.sided\")\n",
        "dm_qlike_ftse_d_fnn_lstm <- dm.test(ftse_fnn_d_qlike, ftse_lstm_d_qlike, alternative = \"two.sided\")\n",
        "dm_qlike_ftse_d_fnn_gru <- dm.test(ftse_fnn_d_qlike, ftse_gru_d_qlike, alternative = \"two.sided\")\n",
        "dm_qlike_ftse_d_cnn_lstm <- dm.test(ftse_cnn_d_qlike, ftse_lstm_d_qlike, alternative = \"two.sided\")\n",
        "dm_qlike_ftse_d_cnn_gru <- dm.test(ftse_cnn_d_qlike, ftse_gru_d_qlike, alternative = \"two.sided\")\n",
        "dm_qlike_ftse_d_lstm_gru <- dm.test(ftse_lstm_d_qlike, ftse_gru_d_qlike, alternative = \"two.sided\")"
      ],
      "metadata": {
        "id": "lWIOeIzSmJYg"
      },
      "execution_count": 198,
      "outputs": []
    },
    {
      "cell_type": "markdown",
      "source": [
        "##### HAR vs FNN-HAR"
      ],
      "metadata": {
        "id": "HFkX1sRNmJYh"
      }
    },
    {
      "cell_type": "code",
      "source": [
        "print(dm_se_ftse_d_har_fnn_har)"
      ],
      "metadata": {
        "colab": {
          "base_uri": "https://localhost:8080/"
        },
        "outputId": "3e51862c-d803-4582-f89e-50043aab6b9e",
        "id": "uhh9mU1xmJYh"
      },
      "execution_count": 199,
      "outputs": [
        {
          "output_type": "stream",
          "name": "stdout",
          "text": [
            "\n",
            "\tDiebold-Mariano Test\n",
            "\n",
            "data:  ftse_har_d_seftse_fnn_har_d_se\n",
            "DM = -0.91564, Forecast horizon = 1, Loss function power = 2, p-value =\n",
            "0.3795\n",
            "alternative hypothesis: two.sided\n",
            "\n"
          ]
        }
      ]
    },
    {
      "cell_type": "code",
      "source": [
        "print(dm_qlike_ftse_d_har_fnn_har)"
      ],
      "metadata": {
        "colab": {
          "base_uri": "https://localhost:8080/"
        },
        "outputId": "0ab57300-5763-4186-b9f3-fd5b62ae2f69",
        "id": "MXVbMzsLmJYh"
      },
      "execution_count": 200,
      "outputs": [
        {
          "output_type": "stream",
          "name": "stdout",
          "text": [
            "\n",
            "\tDiebold-Mariano Test\n",
            "\n",
            "data:  ftse_har_d_qlikeftse_fnn_har_d_qlike\n",
            "DM = 0.66914, Forecast horizon = 1, Loss function power = 2, p-value =\n",
            "0.5172\n",
            "alternative hypothesis: two.sided\n",
            "\n"
          ]
        }
      ]
    },
    {
      "cell_type": "markdown",
      "source": [
        "##### HAR vs FNN"
      ],
      "metadata": {
        "id": "lilc2WCGmJYh"
      }
    },
    {
      "cell_type": "code",
      "source": [
        "print(dm_se_ftse_d_har_fnn)"
      ],
      "metadata": {
        "colab": {
          "base_uri": "https://localhost:8080/"
        },
        "outputId": "9328d6bf-7d04-45a2-b171-429bf39f9ee0",
        "id": "yNkwM4jGmJYh"
      },
      "execution_count": 201,
      "outputs": [
        {
          "output_type": "stream",
          "name": "stdout",
          "text": [
            "\n",
            "\tDiebold-Mariano Test\n",
            "\n",
            "data:  ftse_har_d_seftse_fnn_d_se\n",
            "DM = -0.74999, Forecast horizon = 1, Loss function power = 2, p-value =\n",
            "0.469\n",
            "alternative hypothesis: two.sided\n",
            "\n"
          ]
        }
      ]
    },
    {
      "cell_type": "code",
      "source": [
        "print(dm_qlike_ftse_d_har_fnn)"
      ],
      "metadata": {
        "colab": {
          "base_uri": "https://localhost:8080/"
        },
        "outputId": "889ec450-e3ae-4dc8-996b-3e40340e7dde",
        "id": "c5tTNyRLmJYh"
      },
      "execution_count": 202,
      "outputs": [
        {
          "output_type": "stream",
          "name": "stdout",
          "text": [
            "\n",
            "\tDiebold-Mariano Test\n",
            "\n",
            "data:  ftse_har_d_qlikeftse_fnn_d_qlike\n",
            "DM = 0.11087, Forecast horizon = 1, Loss function power = 2, p-value =\n",
            "0.9137\n",
            "alternative hypothesis: two.sided\n",
            "\n"
          ]
        }
      ]
    },
    {
      "cell_type": "markdown",
      "source": [
        "##### HAR vs CNN"
      ],
      "metadata": {
        "id": "ISPA-TYymJYi"
      }
    },
    {
      "cell_type": "code",
      "source": [
        "print(dm_se_ftse_d_har_cnn)"
      ],
      "metadata": {
        "colab": {
          "base_uri": "https://localhost:8080/"
        },
        "outputId": "a3175761-9934-4cab-c6c2-5dee32c9e744",
        "id": "ePvKp5ZlmJYi"
      },
      "execution_count": 203,
      "outputs": [
        {
          "output_type": "stream",
          "name": "stdout",
          "text": [
            "\n",
            "\tDiebold-Mariano Test\n",
            "\n",
            "data:  ftse_har_d_seftse_cnn_d_se\n",
            "DM = -1.1884, Forecast horizon = 1, Loss function power = 2, p-value =\n",
            "0.2597\n",
            "alternative hypothesis: two.sided\n",
            "\n"
          ]
        }
      ]
    },
    {
      "cell_type": "code",
      "source": [
        "print(dm_qlike_ftse_d_har_cnn)"
      ],
      "metadata": {
        "colab": {
          "base_uri": "https://localhost:8080/"
        },
        "outputId": "d60106ef-833d-4c84-c4af-68b66439d4c7",
        "id": "UI_mCIgtmJYi"
      },
      "execution_count": 204,
      "outputs": [
        {
          "output_type": "stream",
          "name": "stdout",
          "text": [
            "\n",
            "\tDiebold-Mariano Test\n",
            "\n",
            "data:  ftse_har_d_qlikeftse_cnn_d_qlike\n",
            "DM = 0.8684, Forecast horizon = 1, Loss function power = 2, p-value =\n",
            "0.4037\n",
            "alternative hypothesis: two.sided\n",
            "\n"
          ]
        }
      ]
    },
    {
      "cell_type": "markdown",
      "source": [
        "##### HAR vs LSTM"
      ],
      "metadata": {
        "id": "T3dmLzj_mJYi"
      }
    },
    {
      "cell_type": "code",
      "source": [
        "print(dm_se_ftse_d_har_lstm)"
      ],
      "metadata": {
        "colab": {
          "base_uri": "https://localhost:8080/"
        },
        "outputId": "2e98edf3-18fb-4aa3-d1c7-55f6efb086fb",
        "id": "g9JFGmM5mJYi"
      },
      "execution_count": 205,
      "outputs": [
        {
          "output_type": "stream",
          "name": "stdout",
          "text": [
            "\n",
            "\tDiebold-Mariano Test\n",
            "\n",
            "data:  ftse_har_d_seftse_lstm_d_se\n",
            "DM = -0.10929, Forecast horizon = 1, Loss function power = 2, p-value =\n",
            "0.9149\n",
            "alternative hypothesis: two.sided\n",
            "\n"
          ]
        }
      ]
    },
    {
      "cell_type": "code",
      "source": [
        "print(dm_qlike_ftse_d_har_lstm)"
      ],
      "metadata": {
        "colab": {
          "base_uri": "https://localhost:8080/"
        },
        "outputId": "6a80071e-4b37-49b9-c751-12da81682963",
        "id": "INPb4xO2mJYi"
      },
      "execution_count": 206,
      "outputs": [
        {
          "output_type": "stream",
          "name": "stdout",
          "text": [
            "\n",
            "\tDiebold-Mariano Test\n",
            "\n",
            "data:  ftse_har_d_qlikeftse_lstm_d_qlike\n",
            "DM = 1.4729, Forecast horizon = 1, Loss function power = 2, p-value =\n",
            "0.1688\n",
            "alternative hypothesis: two.sided\n",
            "\n"
          ]
        }
      ]
    },
    {
      "cell_type": "markdown",
      "source": [
        "##### HAR vs GRU"
      ],
      "metadata": {
        "id": "2sYruS0EmJYj"
      }
    },
    {
      "cell_type": "code",
      "source": [
        "print(dm_se_ftse_d_har_gru)"
      ],
      "metadata": {
        "colab": {
          "base_uri": "https://localhost:8080/"
        },
        "outputId": "5174ab95-096b-484d-dd16-1468b490a18d",
        "id": "Zw5hQwnDmJYj"
      },
      "execution_count": 207,
      "outputs": [
        {
          "output_type": "stream",
          "name": "stdout",
          "text": [
            "\n",
            "\tDiebold-Mariano Test\n",
            "\n",
            "data:  ftse_har_d_seftse_gru_d_se\n",
            "DM = -0.094565, Forecast horizon = 1, Loss function power = 2, p-value\n",
            "= 0.9264\n",
            "alternative hypothesis: two.sided\n",
            "\n"
          ]
        }
      ]
    },
    {
      "cell_type": "code",
      "source": [
        "print(dm_qlike_ftse_d_har_gru)"
      ],
      "metadata": {
        "colab": {
          "base_uri": "https://localhost:8080/"
        },
        "outputId": "832a57c3-7d20-42f1-99f1-3f1f9ea6b2e4",
        "id": "sdSm8e0SmJYj"
      },
      "execution_count": 208,
      "outputs": [
        {
          "output_type": "stream",
          "name": "stdout",
          "text": [
            "\n",
            "\tDiebold-Mariano Test\n",
            "\n",
            "data:  ftse_har_d_qlikeftse_gru_d_qlike\n",
            "DM = -0.37199, Forecast horizon = 1, Loss function power = 2, p-value =\n",
            "0.717\n",
            "alternative hypothesis: two.sided\n",
            "\n"
          ]
        }
      ]
    },
    {
      "cell_type": "markdown",
      "source": [
        "##### FNN-HAR vs FNN"
      ],
      "metadata": {
        "id": "_e5HtMwQmJYj"
      }
    },
    {
      "cell_type": "code",
      "source": [
        "print(dm_se_ftse_d_fnn_har_fnn)"
      ],
      "metadata": {
        "colab": {
          "base_uri": "https://localhost:8080/"
        },
        "outputId": "79825926-b1e1-4e45-8cef-c88fd477eb94",
        "id": "03NpcRKWmJYj"
      },
      "execution_count": 209,
      "outputs": [
        {
          "output_type": "stream",
          "name": "stdout",
          "text": [
            "\n",
            "\tDiebold-Mariano Test\n",
            "\n",
            "data:  ftse_fnn_har_d_seftse_fnn_d_se\n",
            "DM = 0.22079, Forecast horizon = 1, Loss function power = 2, p-value =\n",
            "0.8293\n",
            "alternative hypothesis: two.sided\n",
            "\n"
          ]
        }
      ]
    },
    {
      "cell_type": "code",
      "source": [
        "print(dm_qlike_ftse_d_fnn_har_fnn)"
      ],
      "metadata": {
        "colab": {
          "base_uri": "https://localhost:8080/"
        },
        "outputId": "b80cfbee-46a5-462f-f011-e7591a49f6dc",
        "id": "Ji18wkB8mJYj"
      },
      "execution_count": 210,
      "outputs": [
        {
          "output_type": "stream",
          "name": "stdout",
          "text": [
            "\n",
            "\tDiebold-Mariano Test\n",
            "\n",
            "data:  ftse_fnn_har_d_qlikeftse_fnn_d_qlike\n",
            "DM = -1.0248, Forecast horizon = 1, Loss function power = 2, p-value =\n",
            "0.3275\n",
            "alternative hypothesis: two.sided\n",
            "\n"
          ]
        }
      ]
    },
    {
      "cell_type": "markdown",
      "source": [
        "##### FNN-HAR vs CNN"
      ],
      "metadata": {
        "id": "iDzdNWnFmJYk"
      }
    },
    {
      "cell_type": "code",
      "source": [
        "print(dm_se_ftse_d_fnn_har_cnn)"
      ],
      "metadata": {
        "colab": {
          "base_uri": "https://localhost:8080/"
        },
        "outputId": "b748bc06-415f-4302-90a9-7f9a5531ad85",
        "id": "kJywA_ypmJYk"
      },
      "execution_count": 211,
      "outputs": [
        {
          "output_type": "stream",
          "name": "stdout",
          "text": [
            "\n",
            "\tDiebold-Mariano Test\n",
            "\n",
            "data:  ftse_fnn_har_d_seftse_cnn_d_se\n",
            "DM = -1.3627, Forecast horizon = 1, Loss function power = 2, p-value =\n",
            "0.2002\n",
            "alternative hypothesis: two.sided\n",
            "\n"
          ]
        }
      ]
    },
    {
      "cell_type": "code",
      "source": [
        "print(dm_qlike_ftse_d_fnn_har_cnn)"
      ],
      "metadata": {
        "colab": {
          "base_uri": "https://localhost:8080/"
        },
        "outputId": "d1c9d3ed-8394-4567-d3f1-9ef8555718bf",
        "id": "MiaqaOFUmJYk"
      },
      "execution_count": 212,
      "outputs": [
        {
          "output_type": "stream",
          "name": "stdout",
          "text": [
            "\n",
            "\tDiebold-Mariano Test\n",
            "\n",
            "data:  ftse_fnn_har_d_qlikeftse_cnn_d_qlike\n",
            "DM = 0.8741, Forecast horizon = 1, Loss function power = 2, p-value =\n",
            "0.4007\n",
            "alternative hypothesis: two.sided\n",
            "\n"
          ]
        }
      ]
    },
    {
      "cell_type": "markdown",
      "source": [
        "##### FNN-HAR vs LSTM"
      ],
      "metadata": {
        "id": "jopZ8AfhmJYk"
      }
    },
    {
      "cell_type": "code",
      "source": [
        "print(dm_se_ftse_d_fnn_har_lstm)"
      ],
      "metadata": {
        "colab": {
          "base_uri": "https://localhost:8080/"
        },
        "outputId": "8390777a-ab3e-47c8-aaf8-04a3606e3d1d",
        "id": "CX52cl-BmJYk"
      },
      "execution_count": 213,
      "outputs": [
        {
          "output_type": "stream",
          "name": "stdout",
          "text": [
            "\n",
            "\tDiebold-Mariano Test\n",
            "\n",
            "data:  ftse_fnn_har_d_seftse_lstm_d_se\n",
            "DM = 0.72601, Forecast horizon = 1, Loss function power = 2, p-value =\n",
            "0.483\n",
            "alternative hypothesis: two.sided\n",
            "\n"
          ]
        }
      ]
    },
    {
      "cell_type": "code",
      "source": [
        "print(dm_qlike_ftse_d_fnn_har_lstm)"
      ],
      "metadata": {
        "colab": {
          "base_uri": "https://localhost:8080/"
        },
        "outputId": "905302a0-c18d-4f20-e6ac-c724a628ef64",
        "id": "jYzxNduqmJYl"
      },
      "execution_count": 214,
      "outputs": [
        {
          "output_type": "stream",
          "name": "stdout",
          "text": [
            "\n",
            "\tDiebold-Mariano Test\n",
            "\n",
            "data:  ftse_fnn_har_d_qlikeftse_lstm_d_qlike\n",
            "DM = 0.65442, Forecast horizon = 1, Loss function power = 2, p-value =\n",
            "0.5263\n",
            "alternative hypothesis: two.sided\n",
            "\n"
          ]
        }
      ]
    },
    {
      "cell_type": "markdown",
      "source": [
        "##### FNN-HAR vs GRU"
      ],
      "metadata": {
        "id": "eMQR_3vRmJYl"
      }
    },
    {
      "cell_type": "code",
      "source": [
        "print(dm_se_ftse_d_fnn_har_gru)"
      ],
      "metadata": {
        "colab": {
          "base_uri": "https://localhost:8080/"
        },
        "outputId": "d7aeb852-9490-491b-a145-9e5509475954",
        "id": "akQibKDEmJYl"
      },
      "execution_count": 215,
      "outputs": [
        {
          "output_type": "stream",
          "name": "stdout",
          "text": [
            "\n",
            "\tDiebold-Mariano Test\n",
            "\n",
            "data:  ftse_fnn_har_d_seftse_gru_d_se\n",
            "DM = 1.4189, Forecast horizon = 1, Loss function power = 2, p-value =\n",
            "0.1836\n",
            "alternative hypothesis: two.sided\n",
            "\n"
          ]
        }
      ]
    },
    {
      "cell_type": "code",
      "source": [
        "print(dm_qlike_ftse_d_fnn_har_gru)"
      ],
      "metadata": {
        "colab": {
          "base_uri": "https://localhost:8080/"
        },
        "outputId": "9ba1615a-4ab1-48da-f775-bab4bfe3aca5",
        "id": "nbjwLz3BmJYl"
      },
      "execution_count": 216,
      "outputs": [
        {
          "output_type": "stream",
          "name": "stdout",
          "text": [
            "\n",
            "\tDiebold-Mariano Test\n",
            "\n",
            "data:  ftse_fnn_har_d_qlikeftse_gru_d_qlike\n",
            "DM = -1.3072, Forecast horizon = 1, Loss function power = 2, p-value =\n",
            "0.2178\n",
            "alternative hypothesis: two.sided\n",
            "\n"
          ]
        }
      ]
    },
    {
      "cell_type": "markdown",
      "source": [
        "##### FNN vs CNN"
      ],
      "metadata": {
        "id": "y68K_qhImJYl"
      }
    },
    {
      "cell_type": "code",
      "source": [
        "print(dm_se_ftse_d_fnn_cnn)"
      ],
      "metadata": {
        "colab": {
          "base_uri": "https://localhost:8080/"
        },
        "outputId": "8c83195d-7fd2-47e3-d9af-189b0fd9ca57",
        "id": "3GdNNvtdmJYl"
      },
      "execution_count": 217,
      "outputs": [
        {
          "output_type": "stream",
          "name": "stdout",
          "text": [
            "\n",
            "\tDiebold-Mariano Test\n",
            "\n",
            "data:  ftse_fnn_d_seftse_cnn_d_se\n",
            "DM = -1.3964, Forecast horizon = 1, Loss function power = 2, p-value =\n",
            "0.1901\n",
            "alternative hypothesis: two.sided\n",
            "\n"
          ]
        }
      ]
    },
    {
      "cell_type": "code",
      "source": [
        "print(dm_qlike_ftse_d_fnn_cnn)"
      ],
      "metadata": {
        "colab": {
          "base_uri": "https://localhost:8080/"
        },
        "outputId": "8dcdea37-3562-4406-ed98-9d6690383f91",
        "id": "ky8VJsczmJYm"
      },
      "execution_count": 218,
      "outputs": [
        {
          "output_type": "stream",
          "name": "stdout",
          "text": [
            "\n",
            "\tDiebold-Mariano Test\n",
            "\n",
            "data:  ftse_fnn_d_qlikeftse_cnn_d_qlike\n",
            "DM = 1.391, Forecast horizon = 1, Loss function power = 2, p-value =\n",
            "0.1917\n",
            "alternative hypothesis: two.sided\n",
            "\n"
          ]
        }
      ]
    },
    {
      "cell_type": "markdown",
      "source": [
        "##### FNN vs LSTM"
      ],
      "metadata": {
        "id": "jZjeMyA2mJYm"
      }
    },
    {
      "cell_type": "code",
      "source": [
        "print(dm_se_ftse_d_fnn_lstm)"
      ],
      "metadata": {
        "colab": {
          "base_uri": "https://localhost:8080/"
        },
        "outputId": "138493a6-b7de-429e-df89-ad474ee0e30d",
        "id": "cRg1hSOQmJYm"
      },
      "execution_count": 219,
      "outputs": [
        {
          "output_type": "stream",
          "name": "stdout",
          "text": [
            "\n",
            "\tDiebold-Mariano Test\n",
            "\n",
            "data:  ftse_fnn_d_seftse_lstm_d_se\n",
            "DM = 0.82832, Forecast horizon = 1, Loss function power = 2, p-value =\n",
            "0.4251\n",
            "alternative hypothesis: two.sided\n",
            "\n"
          ]
        }
      ]
    },
    {
      "cell_type": "code",
      "source": [
        "print(dm_qlike_ftse_d_fnn_lstm)"
      ],
      "metadata": {
        "colab": {
          "base_uri": "https://localhost:8080/"
        },
        "outputId": "613d5c44-e838-4152-ce6f-37fd22ff8dbb",
        "id": "EYdTu9-ZmJYm"
      },
      "execution_count": 220,
      "outputs": [
        {
          "output_type": "stream",
          "name": "stdout",
          "text": [
            "\n",
            "\tDiebold-Mariano Test\n",
            "\n",
            "data:  ftse_fnn_d_qlikeftse_lstm_d_qlike\n",
            "DM = 0.96174, Forecast horizon = 1, Loss function power = 2, p-value =\n",
            "0.3568\n",
            "alternative hypothesis: two.sided\n",
            "\n"
          ]
        }
      ]
    },
    {
      "cell_type": "markdown",
      "source": [
        "##### FNN vs GRU"
      ],
      "metadata": {
        "id": "q3RTxXgkmJYm"
      }
    },
    {
      "cell_type": "code",
      "source": [
        "print(dm_se_ftse_d_fnn_gru)"
      ],
      "metadata": {
        "colab": {
          "base_uri": "https://localhost:8080/"
        },
        "outputId": "588615ac-9781-4db8-ff34-3375fd3959cc",
        "id": "LaCYWlxMmJYm"
      },
      "execution_count": 221,
      "outputs": [
        {
          "output_type": "stream",
          "name": "stdout",
          "text": [
            "\n",
            "\tDiebold-Mariano Test\n",
            "\n",
            "data:  ftse_fnn_d_seftse_gru_d_se\n",
            "DM = 1.282, Forecast horizon = 1, Loss function power = 2, p-value =\n",
            "0.2262\n",
            "alternative hypothesis: two.sided\n",
            "\n"
          ]
        }
      ]
    },
    {
      "cell_type": "code",
      "source": [
        "print(dm_qlike_ftse_d_fnn_lstm)"
      ],
      "metadata": {
        "colab": {
          "base_uri": "https://localhost:8080/"
        },
        "outputId": "dcb221f0-72b4-41cb-93ae-3eb79459144a",
        "id": "SIY_MthgmJYn"
      },
      "execution_count": 222,
      "outputs": [
        {
          "output_type": "stream",
          "name": "stdout",
          "text": [
            "\n",
            "\tDiebold-Mariano Test\n",
            "\n",
            "data:  ftse_fnn_d_qlikeftse_lstm_d_qlike\n",
            "DM = 0.96174, Forecast horizon = 1, Loss function power = 2, p-value =\n",
            "0.3568\n",
            "alternative hypothesis: two.sided\n",
            "\n"
          ]
        }
      ]
    },
    {
      "cell_type": "markdown",
      "source": [
        "##### CNN vs LSTM"
      ],
      "metadata": {
        "id": "XLb2mdYimJYn"
      }
    },
    {
      "cell_type": "code",
      "source": [
        "print(dm_se_ftse_d_cnn_lstm)"
      ],
      "metadata": {
        "colab": {
          "base_uri": "https://localhost:8080/"
        },
        "outputId": "6bba0ce5-f033-44ca-fa59-ea952005a49a",
        "id": "hoRtYtfHmJYn"
      },
      "execution_count": 223,
      "outputs": [
        {
          "output_type": "stream",
          "name": "stdout",
          "text": [
            "\n",
            "\tDiebold-Mariano Test\n",
            "\n",
            "data:  ftse_cnn_d_seftse_lstm_d_se\n",
            "DM = 1.1601, Forecast horizon = 1, Loss function power = 2, p-value =\n",
            "0.2706\n",
            "alternative hypothesis: two.sided\n",
            "\n"
          ]
        }
      ]
    },
    {
      "cell_type": "code",
      "source": [
        "print(dm_qlike_ftse_d_cnn_lstm)"
      ],
      "metadata": {
        "colab": {
          "base_uri": "https://localhost:8080/"
        },
        "outputId": "5d31f366-96a9-4fc8-8071-449aeed15918",
        "id": "NJ3UEIw4mJYn"
      },
      "execution_count": 224,
      "outputs": [
        {
          "output_type": "stream",
          "name": "stdout",
          "text": [
            "\n",
            "\tDiebold-Mariano Test\n",
            "\n",
            "data:  ftse_cnn_d_qlikeftse_lstm_d_qlike\n",
            "DM = 0.25903, Forecast horizon = 1, Loss function power = 2, p-value =\n",
            "0.8004\n",
            "alternative hypothesis: two.sided\n",
            "\n"
          ]
        }
      ]
    },
    {
      "cell_type": "markdown",
      "source": [
        "##### CNN vs GRU"
      ],
      "metadata": {
        "id": "z4KHZqr1mJYo"
      }
    },
    {
      "cell_type": "code",
      "source": [
        "print(dm_se_ftse_d_cnn_gru)"
      ],
      "metadata": {
        "colab": {
          "base_uri": "https://localhost:8080/"
        },
        "outputId": "6f04b508-7636-4de1-85f0-b380819796a6",
        "id": "zylUBC9emJYo"
      },
      "execution_count": 225,
      "outputs": [
        {
          "output_type": "stream",
          "name": "stdout",
          "text": [
            "\n",
            "\tDiebold-Mariano Test\n",
            "\n",
            "data:  ftse_cnn_d_seftse_gru_d_se\n",
            "DM = 1.5306, Forecast horizon = 1, Loss function power = 2, p-value =\n",
            "0.1541\n",
            "alternative hypothesis: two.sided\n",
            "\n"
          ]
        }
      ]
    },
    {
      "cell_type": "code",
      "source": [
        "print(dm_qlike_ftse_d_cnn_gru)"
      ],
      "metadata": {
        "colab": {
          "base_uri": "https://localhost:8080/"
        },
        "outputId": "b9f5c5a6-5585-4cde-ee9e-82af78331fa9",
        "id": "0EQ5WMJzmJYo"
      },
      "execution_count": 226,
      "outputs": [
        {
          "output_type": "stream",
          "name": "stdout",
          "text": [
            "\n",
            "\tDiebold-Mariano Test\n",
            "\n",
            "data:  ftse_cnn_d_qlikeftse_gru_d_qlike\n",
            "DM = -1.3082, Forecast horizon = 1, Loss function power = 2, p-value =\n",
            "0.2175\n",
            "alternative hypothesis: two.sided\n",
            "\n"
          ]
        }
      ]
    },
    {
      "cell_type": "markdown",
      "source": [
        "##### LSTM vs GRU"
      ],
      "metadata": {
        "id": "JuYbm2KAmJYo"
      }
    },
    {
      "cell_type": "code",
      "source": [
        "print(dm_se_ftse_d_lstm_gru)"
      ],
      "metadata": {
        "colab": {
          "base_uri": "https://localhost:8080/"
        },
        "outputId": "d1f48a57-2caa-4e5d-89e4-056f10be2d95",
        "id": "xT8e0dIjmJYo"
      },
      "execution_count": 227,
      "outputs": [
        {
          "output_type": "stream",
          "name": "stdout",
          "text": [
            "\n",
            "\tDiebold-Mariano Test\n",
            "\n",
            "data:  ftse_lstm_d_seftse_gru_d_se\n",
            "DM = 0.024059, Forecast horizon = 1, Loss function power = 2, p-value =\n",
            "0.9812\n",
            "alternative hypothesis: two.sided\n",
            "\n"
          ]
        }
      ]
    },
    {
      "cell_type": "code",
      "source": [
        "print(dm_qlike_ftse_d_lstm_gru)"
      ],
      "metadata": {
        "colab": {
          "base_uri": "https://localhost:8080/"
        },
        "outputId": "98c97d6a-ef97-4587-db7f-33c581f19059",
        "id": "gacx4DjqmJYo"
      },
      "execution_count": 228,
      "outputs": [
        {
          "output_type": "stream",
          "name": "stdout",
          "text": [
            "\n",
            "\tDiebold-Mariano Test\n",
            "\n",
            "data:  ftse_lstm_d_qlikeftse_gru_d_qlike\n",
            "DM = -1.3186, Forecast horizon = 1, Loss function power = 2, p-value =\n",
            "0.2141\n",
            "alternative hypothesis: two.sided\n",
            "\n"
          ]
        }
      ]
    },
    {
      "cell_type": "markdown",
      "source": [
        "#### Tests for the 1-week ahead forecast"
      ],
      "metadata": {
        "id": "nEGWunDpvze5"
      }
    },
    {
      "cell_type": "code",
      "source": [
        "# MCS for squared-error loss\n",
        "\n",
        "errors_matrix_se <- cbind(ftse_har_w_se, ftse_fnn_har_w_se, ftse_fnn_w_se, ftse_cnn_w_se, ftse_lstm_w_se, ftse_gru_w_se)\n",
        "errors_matrix_qlike <- cbind(ftse_har_w_qlike, ftse_fnn_har_w_qlike, ftse_fnn_w_qlike, ftse_cnn_w_qlike, ftse_lstm_w_qlike, ftse_gru_w_qlike)\n",
        "\n",
        "# B is number of bootstrap replications\n",
        "mcs_result_ftse_se_w <- MCSprocedure(errors_matrix_se, alpha = 0.05, B = 5000, statistic = \"Tmax\")\n",
        "\n",
        "mcs_result_ftse_qlike_w <- MCSprocedure(errors_matrix_qlike, alpha = 0.05, B = 5000, statistic = \"Tmax\")"
      ],
      "metadata": {
        "colab": {
          "base_uri": "https://localhost:8080/"
        },
        "outputId": "2c8cddac-debe-483c-ecd4-76ff685ceb7e",
        "id": "ce-iwpJyvzfE"
      },
      "execution_count": 229,
      "outputs": [
        {
          "output_type": "stream",
          "name": "stdout",
          "text": [
            "\n",
            "###########################################################################################################################\n",
            "Superior Set Model created\t:\n",
            "                  Rank_M         v_M  MCS_M Rank_R        v_R  MCS_R\n",
            "ftse_har_w_se          4  0.02631915 1.0000      6  2.3950444 0.1034\n",
            "ftse_fnn_har_w_se      2 -1.85020173 1.0000      2  0.7716306 0.9400\n",
            "ftse_fnn_w_se          3 -1.59047361 1.0000      3  1.2759766 0.7176\n",
            "ftse_cnn_w_se          5  0.12111473 0.9980      5  1.7661044 0.3488\n",
            "ftse_lstm_w_se         6  1.23615476 0.4416      4  1.5125220 0.5118\n",
            "ftse_gru_w_se          1 -2.11146285 1.0000      1 -0.7716306 1.0000\n",
            "                          Loss\n",
            "ftse_har_w_se     2.801607e-10\n",
            "ftse_fnn_har_w_se 2.264911e-10\n",
            "ftse_fnn_w_se     2.344834e-10\n",
            "ftse_cnn_w_se     2.850932e-10\n",
            "ftse_lstm_w_se    4.486037e-10\n",
            "ftse_gru_w_se     1.996650e-10\n",
            "p-value\t:\n",
            "[1] 0.4416\n",
            "\n",
            "###########################################################################################################################\n",
            "###########################################################################################################################\n",
            "Superior Set Model created\t:\n",
            "                     Rank_M          v_M  MCS_M Rank_R        v_R  MCS_R\n",
            "ftse_har_w_qlike          4 -0.009955136 1.0000      6  3.2408480 0.0048\n",
            "ftse_fnn_har_w_qlike      2 -2.285674734 1.0000      2  0.7968815 0.9740\n",
            "ftse_fnn_w_qlike          3 -0.163367807 1.0000      3  1.8295257 0.3980\n",
            "ftse_cnn_w_qlike          6  1.238639122 0.5550      4  1.8936064 0.3574\n",
            "ftse_lstm_w_qlike         5  1.100068405 0.6548      5  2.1882508 0.1818\n",
            "ftse_gru_w_qlike          1 -2.823107241 1.0000      1 -0.7968815 1.0000\n",
            "                          Loss\n",
            "ftse_har_w_qlike     -9.677295\n",
            "ftse_fnn_har_w_qlike -9.698528\n",
            "ftse_fnn_w_qlike     -9.679352\n",
            "ftse_cnn_w_qlike     -9.641308\n",
            "ftse_lstm_w_qlike    -9.655179\n",
            "ftse_gru_w_qlike     -9.711163\n",
            "p-value\t:\n",
            "[1] 0.555\n",
            "\n",
            "###########################################################################################################################"
          ]
        }
      ]
    },
    {
      "cell_type": "code",
      "source": [
        "# Diebold-Mariano test\n",
        "\n",
        "dm_se_ftse_w_har_fnn_har <- dm.test(ftse_har_w_se, ftse_fnn_har_w_se, alternative = \"two.sided\")\n",
        "dm_se_ftse_w_har_fnn <- dm.test(ftse_har_w_se, ftse_fnn_w_se, alternative = \"two.sided\")\n",
        "dm_se_ftse_w_har_cnn <- dm.test(ftse_har_w_se, ftse_cnn_w_se, alternative = \"two.sided\")\n",
        "dm_se_ftse_w_har_lstm <- dm.test(ftse_har_w_se, ftse_lstm_w_se, alternative = \"two.sided\")\n",
        "dm_se_ftse_w_har_gru <- dm.test(ftse_har_w_se, ftse_gru_w_se, alternative = \"two.sided\")\n",
        "dm_se_ftse_w_fnn_har_fnn <- dm.test(ftse_fnn_har_w_se, ftse_fnn_w_se, alternative = \"two.sided\")\n",
        "dm_se_ftse_w_fnn_har_cnn <- dm.test(ftse_fnn_har_w_se, ftse_cnn_w_se, alternative = \"two.sided\")\n",
        "dm_se_ftse_w_fnn_har_lstm <- dm.test(ftse_fnn_har_w_se, ftse_lstm_w_se, alternative = \"two.sided\")\n",
        "dm_se_ftse_w_fnn_har_gru <- dm.test(ftse_fnn_har_w_se, ftse_gru_w_se, alternative = \"two.sided\")\n",
        "dm_se_ftse_w_fnn_cnn <- dm.test(ftse_fnn_w_se, ftse_cnn_w_se, alternative = \"two.sided\")\n",
        "dm_se_ftse_w_fnn_lstm <- dm.test(ftse_fnn_w_se, ftse_lstm_w_se, alternative = \"two.sided\")\n",
        "dm_se_ftse_w_fnn_gru <- dm.test(ftse_fnn_w_se, ftse_gru_w_se, alternative = \"two.sided\")\n",
        "dm_se_ftse_w_cnn_lstm <- dm.test(ftse_cnn_w_se, ftse_lstm_w_se, alternative = \"two.sided\")\n",
        "dm_se_ftse_w_cnn_gru <- dm.test(ftse_cnn_w_se, ftse_gru_w_se, alternative = \"two.sided\")\n",
        "dm_se_ftse_w_lstm_gru <- dm.test(ftse_lstm_w_se, ftse_gru_w_se, alternative = \"two.sided\")\n",
        "\n",
        "dm_qlike_ftse_w_har_fnn_har <- dm.test(ftse_har_w_qlike, ftse_fnn_har_w_qlike, alternative = \"two.sided\")\n",
        "dm_qlike_ftse_w_har_fnn <- dm.test(ftse_har_w_qlike, ftse_fnn_w_qlike, alternative = \"two.sided\")\n",
        "dm_qlike_ftse_w_har_cnn <- dm.test(ftse_har_w_qlike, ftse_cnn_w_qlike, alternative = \"two.sided\")\n",
        "dm_qlike_ftse_w_har_lstm <- dm.test(ftse_har_w_qlike, ftse_lstm_w_qlike, alternative = \"two.sided\")\n",
        "dm_qlike_ftse_w_har_gru <- dm.test(ftse_har_w_qlike, ftse_gru_w_qlike, alternative = \"two.sided\")\n",
        "dm_qlike_ftse_w_fnn_har_fnn <- dm.test(ftse_fnn_har_w_qlike, ftse_fnn_w_qlike, alternative = \"two.sided\")\n",
        "dm_qlike_ftse_w_fnn_har_cnn <- dm.test(ftse_fnn_har_w_qlike, ftse_cnn_w_qlike, alternative = \"two.sided\")\n",
        "dm_qlike_ftse_w_fnn_har_lstm <- dm.test(ftse_fnn_har_w_qlike, ftse_lstm_w_qlike, alternative = \"two.sided\")\n",
        "dm_qlike_ftse_w_fnn_har_gru <- dm.test(ftse_fnn_har_w_qlike, ftse_gru_w_qlike, alternative = \"two.sided\")\n",
        "dm_qlike_ftse_w_fnn_cnn <- dm.test(ftse_fnn_w_qlike, ftse_cnn_w_qlike, alternative = \"two.sided\")\n",
        "dm_qlike_ftse_w_fnn_lstm <- dm.test(ftse_fnn_w_qlike, ftse_lstm_w_qlike, alternative = \"two.sided\")\n",
        "dm_qlike_ftse_w_fnn_gru <- dm.test(ftse_fnn_w_qlike, ftse_gru_w_qlike, alternative = \"two.sided\")\n",
        "dm_qlike_ftse_w_cnn_lstm <- dm.test(ftse_cnn_w_qlike, ftse_lstm_w_qlike, alternative = \"two.sided\")\n",
        "dm_qlike_ftse_w_cnn_gru <- dm.test(ftse_cnn_w_qlike, ftse_gru_w_qlike, alternative = \"two.sided\")\n",
        "dm_qlike_ftse_w_lstm_gru <- dm.test(ftse_lstm_w_qlike, ftse_gru_w_qlike, alternative = \"two.sided\")"
      ],
      "metadata": {
        "id": "mxk0qQVKvzfF"
      },
      "execution_count": 230,
      "outputs": []
    },
    {
      "cell_type": "markdown",
      "source": [
        "##### HAR vs FNN-HAR"
      ],
      "metadata": {
        "id": "thT1NZzNvzfF"
      }
    },
    {
      "cell_type": "code",
      "source": [
        "print(dm_se_ftse_w_har_fnn_har)"
      ],
      "metadata": {
        "colab": {
          "base_uri": "https://localhost:8080/"
        },
        "outputId": "a1c45e69-31ac-4de0-89c4-2f2f044b1b8d",
        "id": "kHxCnMXivzfG"
      },
      "execution_count": 231,
      "outputs": [
        {
          "output_type": "stream",
          "name": "stdout",
          "text": [
            "\n",
            "\tDiebold-Mariano Test\n",
            "\n",
            "data:  ftse_har_w_seftse_fnn_har_w_se\n",
            "DM = -0.80033, Forecast horizon = 1, Loss function power = 2, p-value =\n",
            "0.427\n",
            "alternative hypothesis: two.sided\n",
            "\n"
          ]
        }
      ]
    },
    {
      "cell_type": "code",
      "source": [
        "print(dm_qlike_ftse_w_har_fnn_har)"
      ],
      "metadata": {
        "colab": {
          "base_uri": "https://localhost:8080/"
        },
        "outputId": "5e6dc041-f5f2-4f77-e5a9-f6eb38fd4663",
        "id": "ANHAZ3cFvzfG"
      },
      "execution_count": 232,
      "outputs": [
        {
          "output_type": "stream",
          "name": "stdout",
          "text": [
            "\n",
            "\tDiebold-Mariano Test\n",
            "\n",
            "data:  ftse_har_w_qlikeftse_fnn_har_w_qlike\n",
            "DM = -1.3881, Forecast horizon = 1, Loss function power = 2, p-value =\n",
            "0.1708\n",
            "alternative hypothesis: two.sided\n",
            "\n"
          ]
        }
      ]
    },
    {
      "cell_type": "markdown",
      "source": [
        "##### HAR vs FNN"
      ],
      "metadata": {
        "id": "SjUkyZoRvzfG"
      }
    },
    {
      "cell_type": "code",
      "source": [
        "print(dm_se_ftse_w_har_fnn)"
      ],
      "metadata": {
        "colab": {
          "base_uri": "https://localhost:8080/"
        },
        "outputId": "9296b804-3bfa-4fe4-f0b2-ee8451e65f81",
        "id": "WYW3zq69vzfG"
      },
      "execution_count": 233,
      "outputs": [
        {
          "output_type": "stream",
          "name": "stdout",
          "text": [
            "\n",
            "\tDiebold-Mariano Test\n",
            "\n",
            "data:  ftse_har_w_seftse_fnn_w_se\n",
            "DM = -0.71658, Forecast horizon = 1, Loss function power = 2, p-value =\n",
            "0.4767\n",
            "alternative hypothesis: two.sided\n",
            "\n"
          ]
        }
      ]
    },
    {
      "cell_type": "code",
      "source": [
        "print(dm_qlike_ftse_w_har_fnn)"
      ],
      "metadata": {
        "colab": {
          "base_uri": "https://localhost:8080/"
        },
        "outputId": "fa331b48-3072-42f1-a307-5a713fcfa62f",
        "id": "IZSfbfIqvzfG"
      },
      "execution_count": 234,
      "outputs": [
        {
          "output_type": "stream",
          "name": "stdout",
          "text": [
            "\n",
            "\tDiebold-Mariano Test\n",
            "\n",
            "data:  ftse_har_w_qlikeftse_fnn_w_qlike\n",
            "DM = -0.37279, Forecast horizon = 1, Loss function power = 2, p-value =\n",
            "0.7108\n",
            "alternative hypothesis: two.sided\n",
            "\n"
          ]
        }
      ]
    },
    {
      "cell_type": "markdown",
      "source": [
        "##### HAR vs CNN"
      ],
      "metadata": {
        "id": "4PhSCyQmvzfG"
      }
    },
    {
      "cell_type": "code",
      "source": [
        "print(dm_se_ftse_w_har_cnn)"
      ],
      "metadata": {
        "colab": {
          "base_uri": "https://localhost:8080/"
        },
        "outputId": "080fba21-5cca-40ea-fc21-2b92bd497598",
        "id": "JCM09GclvzfH"
      },
      "execution_count": 235,
      "outputs": [
        {
          "output_type": "stream",
          "name": "stdout",
          "text": [
            "\n",
            "\tDiebold-Mariano Test\n",
            "\n",
            "data:  ftse_har_w_seftse_cnn_w_se\n",
            "DM = -0.95248, Forecast horizon = 1, Loss function power = 2, p-value =\n",
            "0.3451\n",
            "alternative hypothesis: two.sided\n",
            "\n"
          ]
        }
      ]
    },
    {
      "cell_type": "code",
      "source": [
        "print(dm_qlike_ftse_w_har_cnn)"
      ],
      "metadata": {
        "colab": {
          "base_uri": "https://localhost:8080/"
        },
        "outputId": "ca16deac-0304-4a77-f1b3-298d23c838f3",
        "id": "NT7bo3h1vzfH"
      },
      "execution_count": 236,
      "outputs": [
        {
          "output_type": "stream",
          "name": "stdout",
          "text": [
            "\n",
            "\tDiebold-Mariano Test\n",
            "\n",
            "data:  ftse_har_w_qlikeftse_cnn_w_qlike\n",
            "DM = 0.41827, Forecast horizon = 1, Loss function power = 2, p-value =\n",
            "0.6774\n",
            "alternative hypothesis: two.sided\n",
            "\n"
          ]
        }
      ]
    },
    {
      "cell_type": "markdown",
      "source": [
        "##### HAR vs LSTM"
      ],
      "metadata": {
        "id": "tDDKYQs-vzfH"
      }
    },
    {
      "cell_type": "code",
      "source": [
        "print(dm_se_ftse_w_har_lstm)"
      ],
      "metadata": {
        "colab": {
          "base_uri": "https://localhost:8080/"
        },
        "outputId": "06699adf-4116-4c7a-d75e-e0968f189545",
        "id": "-kauJAnQvzfH"
      },
      "execution_count": 237,
      "outputs": [
        {
          "output_type": "stream",
          "name": "stdout",
          "text": [
            "\n",
            "\tDiebold-Mariano Test\n",
            "\n",
            "data:  ftse_har_w_seftse_lstm_w_se\n",
            "DM = -1.9543, Forecast horizon = 1, Loss function power = 2, p-value =\n",
            "0.05585\n",
            "alternative hypothesis: two.sided\n",
            "\n"
          ]
        }
      ]
    },
    {
      "cell_type": "code",
      "source": [
        "print(dm_qlike_ftse_w_har_lstm)"
      ],
      "metadata": {
        "colab": {
          "base_uri": "https://localhost:8080/"
        },
        "outputId": "7057aefd-3c23-45d9-d6fb-f70cc8d9cecb",
        "id": "kCAgqzYQvzfH"
      },
      "execution_count": 238,
      "outputs": [
        {
          "output_type": "stream",
          "name": "stdout",
          "text": [
            "\n",
            "\tDiebold-Mariano Test\n",
            "\n",
            "data:  ftse_har_w_qlikeftse_lstm_w_qlike\n",
            "DM = 0.82565, Forecast horizon = 1, Loss function power = 2, p-value =\n",
            "0.4126\n",
            "alternative hypothesis: two.sided\n",
            "\n"
          ]
        }
      ]
    },
    {
      "cell_type": "markdown",
      "source": [
        "##### HAR vs GRU"
      ],
      "metadata": {
        "id": "vIjYpUeAvzfH"
      }
    },
    {
      "cell_type": "code",
      "source": [
        "print(dm_se_ftse_w_har_gru)"
      ],
      "metadata": {
        "colab": {
          "base_uri": "https://localhost:8080/"
        },
        "outputId": "7f12d6f4-d8c8-458b-f807-e27b85247092",
        "id": "0Rw3rkdvvzfH"
      },
      "execution_count": 239,
      "outputs": [
        {
          "output_type": "stream",
          "name": "stdout",
          "text": [
            "\n",
            "\tDiebold-Mariano Test\n",
            "\n",
            "data:  ftse_har_w_seftse_gru_w_se\n",
            "DM = 1.77, Forecast horizon = 1, Loss function power = 2, p-value =\n",
            "0.08238\n",
            "alternative hypothesis: two.sided\n",
            "\n"
          ]
        }
      ]
    },
    {
      "cell_type": "code",
      "source": [
        "print(dm_qlike_ftse_w_har_gru)"
      ],
      "metadata": {
        "colab": {
          "base_uri": "https://localhost:8080/"
        },
        "outputId": "90115d1b-ab26-4be7-9c94-fc65c0d63560",
        "id": "-ImOMHY-vzfI"
      },
      "execution_count": 240,
      "outputs": [
        {
          "output_type": "stream",
          "name": "stdout",
          "text": [
            "\n",
            "\tDiebold-Mariano Test\n",
            "\n",
            "data:  ftse_har_w_qlikeftse_gru_w_qlike\n",
            "DM = -3.0369, Forecast horizon = 1, Loss function power = 2, p-value =\n",
            "0.003676\n",
            "alternative hypothesis: two.sided\n",
            "\n"
          ]
        }
      ]
    },
    {
      "cell_type": "markdown",
      "source": [
        "##### FNN-HAR vs FNN"
      ],
      "metadata": {
        "id": "eEV36p8vvzfI"
      }
    },
    {
      "cell_type": "code",
      "source": [
        "print(dm_se_ftse_w_fnn_har_fnn)"
      ],
      "metadata": {
        "colab": {
          "base_uri": "https://localhost:8080/"
        },
        "outputId": "6183c3dd-edd1-4584-a5b8-c28a6795e3d0",
        "id": "2K9xs-B4vzfI"
      },
      "execution_count": 241,
      "outputs": [
        {
          "output_type": "stream",
          "name": "stdout",
          "text": [
            "\n",
            "\tDiebold-Mariano Test\n",
            "\n",
            "data:  ftse_fnn_har_w_seftse_fnn_w_se\n",
            "DM = 0.84934, Forecast horizon = 1, Loss function power = 2, p-value =\n",
            "0.3994\n",
            "alternative hypothesis: two.sided\n",
            "\n"
          ]
        }
      ]
    },
    {
      "cell_type": "code",
      "source": [
        "print(dm_qlike_ftse_w_fnn_har_fnn)"
      ],
      "metadata": {
        "colab": {
          "base_uri": "https://localhost:8080/"
        },
        "outputId": "1099a933-1a62-4fef-d3f6-59cdd936477a",
        "id": "ogf5Ovo-vzfI"
      },
      "execution_count": 242,
      "outputs": [
        {
          "output_type": "stream",
          "name": "stdout",
          "text": [
            "\n",
            "\tDiebold-Mariano Test\n",
            "\n",
            "data:  ftse_fnn_har_w_qlikeftse_fnn_w_qlike\n",
            "DM = 0.9013, Forecast horizon = 1, Loss function power = 2, p-value =\n",
            "0.3714\n",
            "alternative hypothesis: two.sided\n",
            "\n"
          ]
        }
      ]
    },
    {
      "cell_type": "markdown",
      "source": [
        "##### FNN-HAR vs CNN"
      ],
      "metadata": {
        "id": "xED_o-fUvzfI"
      }
    },
    {
      "cell_type": "code",
      "source": [
        "print(dm_se_ftse_w_fnn_har_cnn)"
      ],
      "metadata": {
        "colab": {
          "base_uri": "https://localhost:8080/"
        },
        "outputId": "05c54c1b-1b08-4fef-b367-f66fd1ff8425",
        "id": "OK2Y_vfEvzfI"
      },
      "execution_count": 243,
      "outputs": [
        {
          "output_type": "stream",
          "name": "stdout",
          "text": [
            "\n",
            "\tDiebold-Mariano Test\n",
            "\n",
            "data:  ftse_fnn_har_w_seftse_cnn_w_se\n",
            "DM = -1.0507, Forecast horizon = 1, Loss function power = 2, p-value =\n",
            "0.2981\n",
            "alternative hypothesis: two.sided\n",
            "\n"
          ]
        }
      ]
    },
    {
      "cell_type": "code",
      "source": [
        "print(dm_qlike_ftse_w_fnn_har_cnn)"
      ],
      "metadata": {
        "colab": {
          "base_uri": "https://localhost:8080/"
        },
        "outputId": "28d353c6-8ff2-40dd-a5de-e67ba959ccb0",
        "id": "2QNCw4l1vzfJ"
      },
      "execution_count": 244,
      "outputs": [
        {
          "output_type": "stream",
          "name": "stdout",
          "text": [
            "\n",
            "\tDiebold-Mariano Test\n",
            "\n",
            "data:  ftse_fnn_har_w_qlikeftse_cnn_w_qlike\n",
            "DM = 1.6586, Forecast horizon = 1, Loss function power = 2, p-value =\n",
            "0.103\n",
            "alternative hypothesis: two.sided\n",
            "\n"
          ]
        }
      ]
    },
    {
      "cell_type": "markdown",
      "source": [
        "##### FNN-HAR vs LSTM"
      ],
      "metadata": {
        "id": "EKWp1nWivzfJ"
      }
    },
    {
      "cell_type": "code",
      "source": [
        "print(dm_se_ftse_w_fnn_har_lstm)"
      ],
      "metadata": {
        "colab": {
          "base_uri": "https://localhost:8080/"
        },
        "outputId": "35e14f97-cc62-456c-a0c4-e6aa05029253",
        "id": "DXSL5hyyvzfJ"
      },
      "execution_count": 245,
      "outputs": [
        {
          "output_type": "stream",
          "name": "stdout",
          "text": [
            "\n",
            "\tDiebold-Mariano Test\n",
            "\n",
            "data:  ftse_fnn_har_w_seftse_lstm_w_se\n",
            "DM = -1.9086, Forecast horizon = 1, Loss function power = 2, p-value =\n",
            "0.06163\n",
            "alternative hypothesis: two.sided\n",
            "\n"
          ]
        }
      ]
    },
    {
      "cell_type": "code",
      "source": [
        "print(dm_qlike_ftse_w_fnn_har_lstm)"
      ],
      "metadata": {
        "colab": {
          "base_uri": "https://localhost:8080/"
        },
        "outputId": "e0b81eba-b2bb-4d0a-a280-a6e92c2a2c77",
        "id": "lvwZ6hZPvzfJ"
      },
      "execution_count": 246,
      "outputs": [
        {
          "output_type": "stream",
          "name": "stdout",
          "text": [
            "\n",
            "\tDiebold-Mariano Test\n",
            "\n",
            "data:  ftse_fnn_har_w_qlikeftse_lstm_w_qlike\n",
            "DM = 1.8617, Forecast horizon = 1, Loss function power = 2, p-value =\n",
            "0.06808\n",
            "alternative hypothesis: two.sided\n",
            "\n"
          ]
        }
      ]
    },
    {
      "cell_type": "markdown",
      "source": [
        "##### FNN-HAR vs GRU"
      ],
      "metadata": {
        "id": "k7wUSlw6vzfJ"
      }
    },
    {
      "cell_type": "code",
      "source": [
        "print(dm_se_ftse_w_fnn_har_gru)"
      ],
      "metadata": {
        "colab": {
          "base_uri": "https://localhost:8080/"
        },
        "outputId": "c6aa11f5-c65d-439d-e3ea-d80d6ac329b0",
        "id": "DRlNLk0xvzfJ"
      },
      "execution_count": 247,
      "outputs": [
        {
          "output_type": "stream",
          "name": "stdout",
          "text": [
            "\n",
            "\tDiebold-Mariano Test\n",
            "\n",
            "data:  ftse_fnn_har_w_seftse_gru_w_se\n",
            "DM = 0.97798, Forecast horizon = 1, Loss function power = 2, p-value =\n",
            "0.3324\n",
            "alternative hypothesis: two.sided\n",
            "\n"
          ]
        }
      ]
    },
    {
      "cell_type": "code",
      "source": [
        "print(dm_qlike_ftse_w_fnn_har_gru)"
      ],
      "metadata": {
        "colab": {
          "base_uri": "https://localhost:8080/"
        },
        "outputId": "9b9bfda0-bf9a-4c25-b9d1-56b29528c926",
        "id": "0tYv_34XvzfJ"
      },
      "execution_count": 248,
      "outputs": [
        {
          "output_type": "stream",
          "name": "stdout",
          "text": [
            "\n",
            "\tDiebold-Mariano Test\n",
            "\n",
            "data:  ftse_fnn_har_w_qlikeftse_gru_w_qlike\n",
            "DM = -0.3576, Forecast horizon = 1, Loss function power = 2, p-value =\n",
            "0.722\n",
            "alternative hypothesis: two.sided\n",
            "\n"
          ]
        }
      ]
    },
    {
      "cell_type": "markdown",
      "source": [
        "##### FNN vs CNN"
      ],
      "metadata": {
        "id": "pS54sSkwvzfK"
      }
    },
    {
      "cell_type": "code",
      "source": [
        "print(dm_se_ftse_w_fnn_cnn)"
      ],
      "metadata": {
        "colab": {
          "base_uri": "https://localhost:8080/"
        },
        "outputId": "387157f0-b3c1-4e39-863e-823f35272e48",
        "id": "Jv2TBlR3vzfK"
      },
      "execution_count": 249,
      "outputs": [
        {
          "output_type": "stream",
          "name": "stdout",
          "text": [
            "\n",
            "\tDiebold-Mariano Test\n",
            "\n",
            "data:  ftse_fnn_w_seftse_cnn_w_se\n",
            "DM = -0.99622, Forecast horizon = 1, Loss function power = 2, p-value =\n",
            "0.3236\n",
            "alternative hypothesis: two.sided\n",
            "\n"
          ]
        }
      ]
    },
    {
      "cell_type": "code",
      "source": [
        "print(dm_qlike_ftse_w_fnn_cnn)"
      ],
      "metadata": {
        "colab": {
          "base_uri": "https://localhost:8080/"
        },
        "outputId": "5a1aaf21-c684-420d-80dd-0b2186dc5a90",
        "id": "4muCCgoWvzfK"
      },
      "execution_count": 250,
      "outputs": [
        {
          "output_type": "stream",
          "name": "stdout",
          "text": [
            "\n",
            "\tDiebold-Mariano Test\n",
            "\n",
            "data:  ftse_fnn_w_qlikeftse_cnn_w_qlike\n",
            "DM = 0.84563, Forecast horizon = 1, Loss function power = 2, p-value =\n",
            "0.4015\n",
            "alternative hypothesis: two.sided\n",
            "\n"
          ]
        }
      ]
    },
    {
      "cell_type": "markdown",
      "source": [
        "##### FNN vs LSTM"
      ],
      "metadata": {
        "id": "wULyrL9wvzfK"
      }
    },
    {
      "cell_type": "code",
      "source": [
        "print(dm_se_ftse_w_fnn_lstm)"
      ],
      "metadata": {
        "colab": {
          "base_uri": "https://localhost:8080/"
        },
        "outputId": "8cc1c2d1-aa02-4676-81d0-e642a306546a",
        "id": "oBeEcRfSvzfK"
      },
      "execution_count": 251,
      "outputs": [
        {
          "output_type": "stream",
          "name": "stdout",
          "text": [
            "\n",
            "\tDiebold-Mariano Test\n",
            "\n",
            "data:  ftse_fnn_w_seftse_lstm_w_se\n",
            "DM = -2.1808, Forecast horizon = 1, Loss function power = 2, p-value =\n",
            "0.03357\n",
            "alternative hypothesis: two.sided\n",
            "\n"
          ]
        }
      ]
    },
    {
      "cell_type": "code",
      "source": [
        "print(dm_qlike_ftse_w_fnn_lstm)"
      ],
      "metadata": {
        "colab": {
          "base_uri": "https://localhost:8080/"
        },
        "outputId": "f2ae7e2d-8686-4336-e71a-e86a448ed28a",
        "id": "LzbIwPknvzfK"
      },
      "execution_count": 252,
      "outputs": [
        {
          "output_type": "stream",
          "name": "stdout",
          "text": [
            "\n",
            "\tDiebold-Mariano Test\n",
            "\n",
            "data:  ftse_fnn_w_qlikeftse_lstm_w_qlike\n",
            "DM = 0.90266, Forecast horizon = 1, Loss function power = 2, p-value =\n",
            "0.3707\n",
            "alternative hypothesis: two.sided\n",
            "\n"
          ]
        }
      ]
    },
    {
      "cell_type": "markdown",
      "source": [
        "##### FNN vs GRU"
      ],
      "metadata": {
        "id": "32qjLscxvzfK"
      }
    },
    {
      "cell_type": "code",
      "source": [
        "print(dm_se_ftse_w_fnn_gru)"
      ],
      "metadata": {
        "colab": {
          "base_uri": "https://localhost:8080/"
        },
        "outputId": "73d5d3e3-fb2b-4b95-8218-26e8c85e2d59",
        "id": "rzrSo_GGvzfL"
      },
      "execution_count": 253,
      "outputs": [
        {
          "output_type": "stream",
          "name": "stdout",
          "text": [
            "\n",
            "\tDiebold-Mariano Test\n",
            "\n",
            "data:  ftse_fnn_w_seftse_gru_w_se\n",
            "DM = 1.0941, Forecast horizon = 1, Loss function power = 2, p-value =\n",
            "0.2788\n",
            "alternative hypothesis: two.sided\n",
            "\n"
          ]
        }
      ]
    },
    {
      "cell_type": "code",
      "source": [
        "print(dm_qlike_ftse_w_fnn_lstm)"
      ],
      "metadata": {
        "colab": {
          "base_uri": "https://localhost:8080/"
        },
        "outputId": "1fe7908c-ee4b-466b-801d-4cac69b3489f",
        "id": "3QdGVywivzfL"
      },
      "execution_count": 254,
      "outputs": [
        {
          "output_type": "stream",
          "name": "stdout",
          "text": [
            "\n",
            "\tDiebold-Mariano Test\n",
            "\n",
            "data:  ftse_fnn_w_qlikeftse_lstm_w_qlike\n",
            "DM = 0.90266, Forecast horizon = 1, Loss function power = 2, p-value =\n",
            "0.3707\n",
            "alternative hypothesis: two.sided\n",
            "\n"
          ]
        }
      ]
    },
    {
      "cell_type": "markdown",
      "source": [
        "##### CNN vs LSTM"
      ],
      "metadata": {
        "id": "DyD600XevzfL"
      }
    },
    {
      "cell_type": "code",
      "source": [
        "print(dm_se_ftse_w_cnn_lstm)"
      ],
      "metadata": {
        "colab": {
          "base_uri": "https://localhost:8080/"
        },
        "outputId": "88f75c41-b2e9-4051-a106-1d59f866c29b",
        "id": "uUL842WUvzfL"
      },
      "execution_count": 255,
      "outputs": [
        {
          "output_type": "stream",
          "name": "stdout",
          "text": [
            "\n",
            "\tDiebold-Mariano Test\n",
            "\n",
            "data:  ftse_cnn_w_seftse_lstm_w_se\n",
            "DM = 0.010492, Forecast horizon = 1, Loss function power = 2, p-value =\n",
            "0.9917\n",
            "alternative hypothesis: two.sided\n",
            "\n"
          ]
        }
      ]
    },
    {
      "cell_type": "code",
      "source": [
        "print(dm_qlike_ftse_w_cnn_lstm)"
      ],
      "metadata": {
        "colab": {
          "base_uri": "https://localhost:8080/"
        },
        "outputId": "f70d81e1-6ffc-4d86-d717-b7edea30c793",
        "id": "2HyMquwvvzfL"
      },
      "execution_count": 256,
      "outputs": [
        {
          "output_type": "stream",
          "name": "stdout",
          "text": [
            "\n",
            "\tDiebold-Mariano Test\n",
            "\n",
            "data:  ftse_cnn_w_qlikeftse_lstm_w_qlike\n",
            "DM = 0.083625, Forecast horizon = 1, Loss function power = 2, p-value =\n",
            "0.9337\n",
            "alternative hypothesis: two.sided\n",
            "\n"
          ]
        }
      ]
    },
    {
      "cell_type": "markdown",
      "source": [
        "##### CNN vs GRU"
      ],
      "metadata": {
        "id": "aSLSCNYCvzfL"
      }
    },
    {
      "cell_type": "code",
      "source": [
        "print(dm_se_ftse_w_cnn_gru)"
      ],
      "metadata": {
        "colab": {
          "base_uri": "https://localhost:8080/"
        },
        "outputId": "09b7dc1c-a868-478f-aa28-33cdcd4b0b42",
        "id": "q8ANDYRuvzfL"
      },
      "execution_count": 257,
      "outputs": [
        {
          "output_type": "stream",
          "name": "stdout",
          "text": [
            "\n",
            "\tDiebold-Mariano Test\n",
            "\n",
            "data:  ftse_cnn_w_seftse_gru_w_se\n",
            "DM = 1.0191, Forecast horizon = 1, Loss function power = 2, p-value =\n",
            "0.3127\n",
            "alternative hypothesis: two.sided\n",
            "\n"
          ]
        }
      ]
    },
    {
      "cell_type": "code",
      "source": [
        "print(dm_qlike_ftse_w_cnn_gru)"
      ],
      "metadata": {
        "colab": {
          "base_uri": "https://localhost:8080/"
        },
        "outputId": "18538995-112e-4a7e-d139-9f73edba63aa",
        "id": "5n-kWsVCvzfM"
      },
      "execution_count": 258,
      "outputs": [
        {
          "output_type": "stream",
          "name": "stdout",
          "text": [
            "\n",
            "\tDiebold-Mariano Test\n",
            "\n",
            "data:  ftse_cnn_w_qlikeftse_gru_w_qlike\n",
            "DM = -1.5955, Forecast horizon = 1, Loss function power = 2, p-value =\n",
            "0.1164\n",
            "alternative hypothesis: two.sided\n",
            "\n"
          ]
        }
      ]
    },
    {
      "cell_type": "markdown",
      "source": [
        "##### LSTM vs GRU"
      ],
      "metadata": {
        "id": "2cNvQIN9vzfM"
      }
    },
    {
      "cell_type": "code",
      "source": [
        "print(dm_se_ftse_w_lstm_gru)"
      ],
      "metadata": {
        "colab": {
          "base_uri": "https://localhost:8080/"
        },
        "outputId": "80a5d901-8034-497f-d389-4c12049ad428",
        "id": "p-Cx-74OvzfM"
      },
      "execution_count": 259,
      "outputs": [
        {
          "output_type": "stream",
          "name": "stdout",
          "text": [
            "\n",
            "\tDiebold-Mariano Test\n",
            "\n",
            "data:  ftse_lstm_w_seftse_gru_w_se\n",
            "DM = 2.0205, Forecast horizon = 1, Loss function power = 2, p-value =\n",
            "0.04831\n",
            "alternative hypothesis: two.sided\n",
            "\n"
          ]
        }
      ]
    },
    {
      "cell_type": "code",
      "source": [
        "print(dm_qlike_ftse_w_lstm_gru)"
      ],
      "metadata": {
        "colab": {
          "base_uri": "https://localhost:8080/"
        },
        "outputId": "9e371234-f489-407b-ee91-af0e8a26f7c0",
        "id": "BZa56d8QvzfM"
      },
      "execution_count": 260,
      "outputs": [
        {
          "output_type": "stream",
          "name": "stdout",
          "text": [
            "\n",
            "\tDiebold-Mariano Test\n",
            "\n",
            "data:  ftse_lstm_w_qlikeftse_gru_w_qlike\n",
            "DM = -2.3296, Forecast horizon = 1, Loss function power = 2, p-value =\n",
            "0.0236\n",
            "alternative hypothesis: two.sided\n",
            "\n"
          ]
        }
      ]
    },
    {
      "cell_type": "markdown",
      "source": [
        "#### Tests for the 1-month ahead forecast"
      ],
      "metadata": {
        "id": "1WGdWo353-vo"
      }
    },
    {
      "cell_type": "code",
      "source": [
        "# MCS for squared-error loss\n",
        "\n",
        "errors_matrix_se <- cbind(ftse_har_m_se, ftse_fnn_har_m_se, ftse_fnn_m_se, ftse_cnn_m_se, ftse_lstm_m_se, ftse_gru_m_se)\n",
        "errors_matrix_qlike <- cbind(ftse_har_m_qlike, ftse_fnn_har_m_qlike, ftse_fnn_m_qlike, ftse_cnn_m_qlike, ftse_lstm_m_qlike, ftse_gru_m_qlike)\n",
        "\n",
        "# B is number of bootstrap replications\n",
        "mcs_result_ftse_se_m <- MCSprocedure(errors_matrix_se, alpha = 0.05, B = 5000, statistic = \"Tmax\")\n",
        "\n",
        "mcs_result_ftse_qlike_m <- MCSprocedure(errors_matrix_qlike, alpha = 0.05, B = 5000, statistic = \"Tmax\")"
      ],
      "metadata": {
        "colab": {
          "base_uri": "https://localhost:8080/"
        },
        "outputId": "d381390b-1957-439b-9e46-3550dcbb9cbd",
        "id": "nKr5_17b3-wI"
      },
      "execution_count": 261,
      "outputs": [
        {
          "output_type": "stream",
          "name": "stdout",
          "text": [
            "\n",
            "###########################################################################################################################\n",
            "Superior Set Model created\t:\n",
            "                  Rank_M        v_M  MCS_M Rank_R        v_R  MCS_R\n",
            "ftse_har_m_se          2 -0.9004182 1.0000      1 -0.6163850 1.0000\n",
            "ftse_fnn_har_m_se      5  0.6178682 0.8036      5  1.0359367 0.7734\n",
            "ftse_fnn_m_se          4 -0.5597030 1.0000      4  0.6987816 0.8500\n",
            "ftse_cnn_m_se          6  1.0057534 0.6404      6  1.3830518 0.4198\n",
            "ftse_lstm_m_se         1 -0.9981242 1.0000      3  0.6754395 0.8576\n",
            "ftse_gru_m_se          3 -0.8784322 1.0000      2  0.6163850 0.8812\n",
            "                          Loss\n",
            "ftse_har_m_se     5.942856e-09\n",
            "ftse_fnn_har_m_se 6.316885e-09\n",
            "ftse_fnn_m_se     6.124877e-09\n",
            "ftse_cnn_m_se     6.403266e-09\n",
            "ftse_lstm_m_se    6.087083e-09\n",
            "ftse_gru_m_se     6.104871e-09\n",
            "p-value\t:\n",
            "[1] 0.6404\n",
            "\n",
            "###########################################################################################################################\n",
            "###########################################################################################################################\n",
            "Superior Set Model created\t:\n",
            "                     Rank_M       v_M  MCS_M Rank_R       v_R  MCS_R      Loss\n",
            "ftse_har_m_qlike          2 -1.407270 1.0000      1 -1.124950 1.0000 -9.123515\n",
            "ftse_fnn_har_m_qlike      3 -1.066788 1.0000      3  1.140489 0.7442 -9.108643\n",
            "ftse_fnn_m_qlike          5  1.257349 0.4688      6  2.220866 0.0822 -9.030639\n",
            "ftse_cnn_m_qlike          6  1.385850 0.3040      5  1.551628 0.3662 -8.903687\n",
            "ftse_lstm_m_qlike         1 -1.462977 1.0000      4  1.304048 0.6548 -9.068360\n",
            "ftse_gru_m_qlike          4 -0.839843 1.0000      2  1.124950 0.7482 -9.055416\n",
            "p-value\t:\n",
            "[1] 0.304\n",
            "\n",
            "###########################################################################################################################"
          ]
        }
      ]
    },
    {
      "cell_type": "code",
      "source": [
        "# Diebold-Mariano test\n",
        "\n",
        "dm_se_ftse_m_har_fnn_har <- dm.test(ftse_har_m_se, ftse_fnn_har_m_se, alternative = \"two.sided\")\n",
        "dm_se_ftse_m_har_fnn <- dm.test(ftse_har_m_se, ftse_fnn_m_se, alternative = \"two.sided\")\n",
        "dm_se_ftse_m_har_cnn <- dm.test(ftse_har_m_se, ftse_cnn_m_se, alternative = \"two.sided\")\n",
        "dm_se_ftse_m_har_lstm <- dm.test(ftse_har_m_se, ftse_lstm_m_se, alternative = \"two.sided\")\n",
        "dm_se_ftse_m_har_gru <- dm.test(ftse_har_m_se, ftse_gru_m_se, alternative = \"two.sided\")\n",
        "dm_se_ftse_m_fnn_har_fnn <- dm.test(ftse_fnn_har_m_se, ftse_fnn_m_se, alternative = \"two.sided\")\n",
        "dm_se_ftse_m_fnn_har_cnn <- dm.test(ftse_fnn_har_m_se, ftse_cnn_m_se, alternative = \"two.sided\")\n",
        "dm_se_ftse_m_fnn_har_lstm <- dm.test(ftse_fnn_har_m_se, ftse_lstm_m_se, alternative = \"two.sided\")\n",
        "dm_se_ftse_m_fnn_har_gru <- dm.test(ftse_fnn_har_m_se, ftse_gru_m_se, alternative = \"two.sided\")\n",
        "dm_se_ftse_m_fnn_cnn <- dm.test(ftse_fnn_m_se, ftse_cnn_m_se, alternative = \"two.sided\")\n",
        "dm_se_ftse_m_fnn_lstm <- dm.test(ftse_fnn_m_se, ftse_lstm_m_se, alternative = \"two.sided\")\n",
        "dm_se_ftse_m_fnn_gru <- dm.test(ftse_fnn_m_se, ftse_gru_m_se, alternative = \"two.sided\")\n",
        "dm_se_ftse_m_cnn_lstm <- dm.test(ftse_cnn_m_se, ftse_lstm_m_se, alternative = \"two.sided\")\n",
        "dm_se_ftse_m_cnn_gru <- dm.test(ftse_cnn_m_se, ftse_gru_m_se, alternative = \"two.sided\")\n",
        "dm_se_ftse_m_lstm_gru <- dm.test(ftse_lstm_m_se, ftse_gru_m_se, alternative = \"two.sided\")\n",
        "\n",
        "dm_qlike_ftse_m_har_fnn_har <- dm.test(ftse_har_m_qlike, ftse_fnn_har_m_qlike, alternative = \"two.sided\")\n",
        "dm_qlike_ftse_m_har_fnn <- dm.test(ftse_har_m_qlike, ftse_fnn_m_qlike, alternative = \"two.sided\")\n",
        "dm_qlike_ftse_m_har_cnn <- dm.test(ftse_har_m_qlike, ftse_cnn_m_qlike, alternative = \"two.sided\")\n",
        "dm_qlike_ftse_m_har_lstm <- dm.test(ftse_har_m_qlike, ftse_lstm_m_qlike, alternative = \"two.sided\")\n",
        "dm_qlike_ftse_m_har_gru <- dm.test(ftse_har_m_qlike, ftse_gru_m_qlike, alternative = \"two.sided\")\n",
        "dm_qlike_ftse_m_fnn_har_fnn <- dm.test(ftse_fnn_har_m_qlike, ftse_fnn_m_qlike, alternative = \"two.sided\")\n",
        "dm_qlike_ftse_m_fnn_har_cnn <- dm.test(ftse_fnn_har_m_qlike, ftse_cnn_m_qlike, alternative = \"two.sided\")\n",
        "dm_qlike_ftse_m_fnn_har_lstm <- dm.test(ftse_fnn_har_m_qlike, ftse_lstm_m_qlike, alternative = \"two.sided\")\n",
        "dm_qlike_ftse_m_fnn_har_gru <- dm.test(ftse_fnn_har_m_qlike, ftse_gru_m_qlike, alternative = \"two.sided\")\n",
        "dm_qlike_ftse_m_fnn_cnn <- dm.test(ftse_fnn_m_qlike, ftse_cnn_m_qlike, alternative = \"two.sided\")\n",
        "dm_qlike_ftse_m_fnn_lstm <- dm.test(ftse_fnn_m_qlike, ftse_lstm_m_qlike, alternative = \"two.sided\")\n",
        "dm_qlike_ftse_m_fnn_gru <- dm.test(ftse_fnn_m_qlike, ftse_gru_m_qlike, alternative = \"two.sided\")\n",
        "dm_qlike_ftse_m_cnn_lstm <- dm.test(ftse_cnn_m_qlike, ftse_lstm_m_qlike, alternative = \"two.sided\")\n",
        "dm_qlike_ftse_m_cnn_gru <- dm.test(ftse_cnn_m_qlike, ftse_gru_m_qlike, alternative = \"two.sided\")\n",
        "dm_qlike_ftse_m_lstm_gru <- dm.test(ftse_lstm_m_qlike, ftse_gru_m_qlike, alternative = \"two.sided\")"
      ],
      "metadata": {
        "id": "BHYEY2Ah3-wK"
      },
      "execution_count": 262,
      "outputs": []
    },
    {
      "cell_type": "markdown",
      "source": [
        "##### HAR vs FNN-HAR"
      ],
      "metadata": {
        "id": "td1H-xCW3-wM"
      }
    },
    {
      "cell_type": "code",
      "source": [
        "print(dm_se_ftse_m_har_fnn_har)"
      ],
      "metadata": {
        "colab": {
          "base_uri": "https://localhost:8080/"
        },
        "outputId": "1f0262e7-b596-4ec3-8492-d0a618139af1",
        "id": "4r9Ecsef3-wM"
      },
      "execution_count": 263,
      "outputs": [
        {
          "output_type": "stream",
          "name": "stdout",
          "text": [
            "\n",
            "\tDiebold-Mariano Test\n",
            "\n",
            "data:  ftse_har_m_seftse_fnn_har_m_se\n",
            "DM = 0.85483, Forecast horizon = 1, Loss function power = 2, p-value =\n",
            "0.3936\n",
            "alternative hypothesis: two.sided\n",
            "\n"
          ]
        }
      ]
    },
    {
      "cell_type": "code",
      "source": [
        "print(dm_qlike_ftse_m_har_fnn_har)"
      ],
      "metadata": {
        "colab": {
          "base_uri": "https://localhost:8080/"
        },
        "outputId": "afe019ee-d0df-474a-8293-88c600437be8",
        "id": "C9lhYPQm3-wN"
      },
      "execution_count": 264,
      "outputs": [
        {
          "output_type": "stream",
          "name": "stdout",
          "text": [
            "\n",
            "\tDiebold-Mariano Test\n",
            "\n",
            "data:  ftse_har_m_qlikeftse_fnn_har_m_qlike\n",
            "DM = 0.80198, Forecast horizon = 1, Loss function power = 2, p-value =\n",
            "0.4234\n",
            "alternative hypothesis: two.sided\n",
            "\n"
          ]
        }
      ]
    },
    {
      "cell_type": "markdown",
      "source": [
        "##### HAR vs FNN"
      ],
      "metadata": {
        "id": "4kDDQSnq3-wO"
      }
    },
    {
      "cell_type": "code",
      "source": [
        "print(dm_se_ftse_m_har_fnn)"
      ],
      "metadata": {
        "colab": {
          "base_uri": "https://localhost:8080/"
        },
        "outputId": "9714405e-bd23-414f-950a-561104ff1939",
        "id": "sQg5gznq3-wO"
      },
      "execution_count": 265,
      "outputs": [
        {
          "output_type": "stream",
          "name": "stdout",
          "text": [
            "\n",
            "\tDiebold-Mariano Test\n",
            "\n",
            "data:  ftse_har_m_seftse_fnn_m_se\n",
            "DM = -1.0031, Forecast horizon = 1, Loss function power = 2, p-value =\n",
            "0.3169\n",
            "alternative hypothesis: two.sided\n",
            "\n"
          ]
        }
      ]
    },
    {
      "cell_type": "code",
      "source": [
        "print(dm_qlike_ftse_m_har_fnn)"
      ],
      "metadata": {
        "colab": {
          "base_uri": "https://localhost:8080/"
        },
        "outputId": "554bc8fb-fedd-4e6e-dfbc-6818999e5f87",
        "id": "6PSwTNO33-wP"
      },
      "execution_count": 266,
      "outputs": [
        {
          "output_type": "stream",
          "name": "stdout",
          "text": [
            "\n",
            "\tDiebold-Mariano Test\n",
            "\n",
            "data:  ftse_har_m_qlikeftse_fnn_m_qlike\n",
            "DM = -0.96447, Forecast horizon = 1, Loss function power = 2, p-value =\n",
            "0.3359\n",
            "alternative hypothesis: two.sided\n",
            "\n"
          ]
        }
      ]
    },
    {
      "cell_type": "markdown",
      "source": [
        "##### HAR vs CNN"
      ],
      "metadata": {
        "id": "sNpzOngd3-wQ"
      }
    },
    {
      "cell_type": "code",
      "source": [
        "print(dm_se_ftse_m_har_cnn)"
      ],
      "metadata": {
        "colab": {
          "base_uri": "https://localhost:8080/"
        },
        "outputId": "df9b52aa-bb87-4aff-a9c7-43eaa94e0c41",
        "id": "mB7GXTQT3-wQ"
      },
      "execution_count": 267,
      "outputs": [
        {
          "output_type": "stream",
          "name": "stdout",
          "text": [
            "\n",
            "\tDiebold-Mariano Test\n",
            "\n",
            "data:  ftse_har_m_seftse_cnn_m_se\n",
            "DM = -1.0057, Forecast horizon = 1, Loss function power = 2, p-value =\n",
            "0.3157\n",
            "alternative hypothesis: two.sided\n",
            "\n"
          ]
        }
      ]
    },
    {
      "cell_type": "code",
      "source": [
        "print(dm_qlike_ftse_m_har_cnn)"
      ],
      "metadata": {
        "colab": {
          "base_uri": "https://localhost:8080/"
        },
        "outputId": "3968500f-f6b8-4584-9458-2efe33811107",
        "id": "EEFDvOCI3-wR"
      },
      "execution_count": 268,
      "outputs": [
        {
          "output_type": "stream",
          "name": "stdout",
          "text": [
            "\n",
            "\tDiebold-Mariano Test\n",
            "\n",
            "data:  ftse_har_m_qlikeftse_cnn_m_qlike\n",
            "DM = -0.96491, Forecast horizon = 1, Loss function power = 2, p-value =\n",
            "0.3357\n",
            "alternative hypothesis: two.sided\n",
            "\n"
          ]
        }
      ]
    },
    {
      "cell_type": "markdown",
      "source": [
        "##### HAR vs LSTM"
      ],
      "metadata": {
        "id": "9LYZhQ1o3-wR"
      }
    },
    {
      "cell_type": "code",
      "source": [
        "print(dm_se_ftse_m_har_lstm)"
      ],
      "metadata": {
        "colab": {
          "base_uri": "https://localhost:8080/"
        },
        "outputId": "a5de9a0c-d9ce-4500-d082-9561c55ed0a3",
        "id": "wVdFVS4Z3-wS"
      },
      "execution_count": 269,
      "outputs": [
        {
          "output_type": "stream",
          "name": "stdout",
          "text": [
            "\n",
            "\tDiebold-Mariano Test\n",
            "\n",
            "data:  ftse_har_m_seftse_lstm_m_se\n",
            "DM = -1.0066, Forecast horizon = 1, Loss function power = 2, p-value =\n",
            "0.3152\n",
            "alternative hypothesis: two.sided\n",
            "\n"
          ]
        }
      ]
    },
    {
      "cell_type": "code",
      "source": [
        "print(dm_qlike_ftse_m_har_lstm)"
      ],
      "metadata": {
        "colab": {
          "base_uri": "https://localhost:8080/"
        },
        "outputId": "628066d5-1167-45c7-d8e3-2c50c37e3ac4",
        "id": "1HE57Yy-3-wT"
      },
      "execution_count": 270,
      "outputs": [
        {
          "output_type": "stream",
          "name": "stdout",
          "text": [
            "\n",
            "\tDiebold-Mariano Test\n",
            "\n",
            "data:  ftse_har_m_qlikeftse_lstm_m_qlike\n",
            "DM = -1.0866, Forecast horizon = 1, Loss function power = 2, p-value =\n",
            "0.2784\n",
            "alternative hypothesis: two.sided\n",
            "\n"
          ]
        }
      ]
    },
    {
      "cell_type": "markdown",
      "source": [
        "##### HAR vs GRU"
      ],
      "metadata": {
        "id": "z18ISJx-3-wT"
      }
    },
    {
      "cell_type": "code",
      "source": [
        "print(dm_se_ftse_m_har_gru)"
      ],
      "metadata": {
        "colab": {
          "base_uri": "https://localhost:8080/"
        },
        "outputId": "5949f671-eba1-4ff0-d074-a78114936a1c",
        "id": "AC7oIy5L3-wU"
      },
      "execution_count": 271,
      "outputs": [
        {
          "output_type": "stream",
          "name": "stdout",
          "text": [
            "\n",
            "\tDiebold-Mariano Test\n",
            "\n",
            "data:  ftse_har_m_seftse_gru_m_se\n",
            "DM = -1.0039, Forecast horizon = 1, Loss function power = 2, p-value =\n",
            "0.3165\n",
            "alternative hypothesis: two.sided\n",
            "\n"
          ]
        }
      ]
    },
    {
      "cell_type": "code",
      "source": [
        "print(dm_qlike_ftse_m_har_gru)"
      ],
      "metadata": {
        "colab": {
          "base_uri": "https://localhost:8080/"
        },
        "outputId": "51c58d35-3af9-4ac6-8f11-c7e555ae321a",
        "id": "4RJ7fJtN3-wU"
      },
      "execution_count": 272,
      "outputs": [
        {
          "output_type": "stream",
          "name": "stdout",
          "text": [
            "\n",
            "\tDiebold-Mariano Test\n",
            "\n",
            "data:  ftse_har_m_qlikeftse_gru_m_qlike\n",
            "DM = -1.13, Forecast horizon = 1, Loss function power = 2, p-value =\n",
            "0.2597\n",
            "alternative hypothesis: two.sided\n",
            "\n"
          ]
        }
      ]
    },
    {
      "cell_type": "markdown",
      "source": [
        "##### FNN-HAR vs FNN"
      ],
      "metadata": {
        "id": "vFjtGK6K3-wV"
      }
    },
    {
      "cell_type": "code",
      "source": [
        "print(dm_se_ftse_m_fnn_har_fnn)"
      ],
      "metadata": {
        "colab": {
          "base_uri": "https://localhost:8080/"
        },
        "outputId": "d4002ed4-bf5b-4a18-b817-491ec5941d2d",
        "id": "BO1T1jU63-wW"
      },
      "execution_count": 273,
      "outputs": [
        {
          "output_type": "stream",
          "name": "stdout",
          "text": [
            "\n",
            "\tDiebold-Mariano Test\n",
            "\n",
            "data:  ftse_fnn_har_m_seftse_fnn_m_se\n",
            "DM = -0.97771, Forecast horizon = 1, Loss function power = 2, p-value =\n",
            "0.3293\n",
            "alternative hypothesis: two.sided\n",
            "\n"
          ]
        }
      ]
    },
    {
      "cell_type": "code",
      "source": [
        "print(dm_qlike_ftse_m_fnn_har_fnn)"
      ],
      "metadata": {
        "colab": {
          "base_uri": "https://localhost:8080/"
        },
        "outputId": "9d09df50-6a45-4952-f570-32764d7ac877",
        "id": "RNhnWmAK3-wW"
      },
      "execution_count": 274,
      "outputs": [
        {
          "output_type": "stream",
          "name": "stdout",
          "text": [
            "\n",
            "\tDiebold-Mariano Test\n",
            "\n",
            "data:  ftse_fnn_har_m_qlikeftse_fnn_m_qlike\n",
            "DM = -1.0163, Forecast horizon = 1, Loss function power = 2, p-value =\n",
            "0.3106\n",
            "alternative hypothesis: two.sided\n",
            "\n"
          ]
        }
      ]
    },
    {
      "cell_type": "markdown",
      "source": [
        "##### FNN-HAR vs CNN"
      ],
      "metadata": {
        "id": "uDOEyqjh3-wX"
      }
    },
    {
      "cell_type": "code",
      "source": [
        "print(dm_se_ftse_m_fnn_har_cnn)"
      ],
      "metadata": {
        "colab": {
          "base_uri": "https://localhost:8080/"
        },
        "outputId": "352bd310-d5fe-4691-9cbb-431c6d9814e8",
        "id": "OHM5b0mU3-wY"
      },
      "execution_count": 275,
      "outputs": [
        {
          "output_type": "stream",
          "name": "stdout",
          "text": [
            "\n",
            "\tDiebold-Mariano Test\n",
            "\n",
            "data:  ftse_fnn_har_m_seftse_cnn_m_se\n",
            "DM = -0.98759, Forecast horizon = 1, Loss function power = 2, p-value =\n",
            "0.3244\n",
            "alternative hypothesis: two.sided\n",
            "\n"
          ]
        }
      ]
    },
    {
      "cell_type": "code",
      "source": [
        "print(dm_qlike_ftse_m_fnn_har_cnn)"
      ],
      "metadata": {
        "colab": {
          "base_uri": "https://localhost:8080/"
        },
        "outputId": "423c9df9-3c7e-41b5-b545-50a65dad8144",
        "id": "gFjgN97U3-wY"
      },
      "execution_count": 276,
      "outputs": [
        {
          "output_type": "stream",
          "name": "stdout",
          "text": [
            "\n",
            "\tDiebold-Mariano Test\n",
            "\n",
            "data:  ftse_fnn_har_m_qlikeftse_cnn_m_qlike\n",
            "DM = -0.97699, Forecast horizon = 1, Loss function power = 2, p-value =\n",
            "0.3297\n",
            "alternative hypothesis: two.sided\n",
            "\n"
          ]
        }
      ]
    },
    {
      "cell_type": "markdown",
      "source": [
        "##### FNN-HAR vs LSTM"
      ],
      "metadata": {
        "id": "5ySfGNi03-wZ"
      }
    },
    {
      "cell_type": "code",
      "source": [
        "print(dm_se_ftse_m_fnn_har_lstm)"
      ],
      "metadata": {
        "colab": {
          "base_uri": "https://localhost:8080/"
        },
        "outputId": "f42db6c5-97dc-41f4-8618-14b4da2fc842",
        "id": "gGabfpZV3-wZ"
      },
      "execution_count": 277,
      "outputs": [
        {
          "output_type": "stream",
          "name": "stdout",
          "text": [
            "\n",
            "\tDiebold-Mariano Test\n",
            "\n",
            "data:  ftse_fnn_har_m_seftse_lstm_m_se\n",
            "DM = -0.97522, Forecast horizon = 1, Loss function power = 2, p-value =\n",
            "0.3305\n",
            "alternative hypothesis: two.sided\n",
            "\n"
          ]
        }
      ]
    },
    {
      "cell_type": "code",
      "source": [
        "print(dm_qlike_ftse_m_fnn_har_lstm)"
      ],
      "metadata": {
        "colab": {
          "base_uri": "https://localhost:8080/"
        },
        "outputId": "4443a2fb-b47b-4d8a-bca0-7c60c975b223",
        "id": "-PYwvBvO3-wa"
      },
      "execution_count": 278,
      "outputs": [
        {
          "output_type": "stream",
          "name": "stdout",
          "text": [
            "\n",
            "\tDiebold-Mariano Test\n",
            "\n",
            "data:  ftse_fnn_har_m_qlikeftse_lstm_m_qlike\n",
            "DM = -1.1629, Forecast horizon = 1, Loss function power = 2, p-value =\n",
            "0.2461\n",
            "alternative hypothesis: two.sided\n",
            "\n"
          ]
        }
      ]
    },
    {
      "cell_type": "markdown",
      "source": [
        "##### FNN-HAR vs GRU"
      ],
      "metadata": {
        "id": "WsNq5BoW3-wb"
      }
    },
    {
      "cell_type": "code",
      "source": [
        "print(dm_se_ftse_m_fnn_har_gru)"
      ],
      "metadata": {
        "colab": {
          "base_uri": "https://localhost:8080/"
        },
        "outputId": "abf38138-4d7b-442b-8946-45420160201a",
        "id": "gHUjNqm13-wb"
      },
      "execution_count": 279,
      "outputs": [
        {
          "output_type": "stream",
          "name": "stdout",
          "text": [
            "\n",
            "\tDiebold-Mariano Test\n",
            "\n",
            "data:  ftse_fnn_har_m_seftse_gru_m_se\n",
            "DM = -0.97833, Forecast horizon = 1, Loss function power = 2, p-value =\n",
            "0.329\n",
            "alternative hypothesis: two.sided\n",
            "\n"
          ]
        }
      ]
    },
    {
      "cell_type": "code",
      "source": [
        "print(dm_qlike_ftse_m_fnn_har_gru)"
      ],
      "metadata": {
        "colab": {
          "base_uri": "https://localhost:8080/"
        },
        "outputId": "0357dac5-6004-44e9-eeb8-dbb4e199d24b",
        "id": "fptFF4F03-wc"
      },
      "execution_count": 280,
      "outputs": [
        {
          "output_type": "stream",
          "name": "stdout",
          "text": [
            "\n",
            "\tDiebold-Mariano Test\n",
            "\n",
            "data:  ftse_fnn_har_m_qlikeftse_gru_m_qlike\n",
            "DM = -1.1733, Forecast horizon = 1, Loss function power = 2, p-value =\n",
            "0.242\n",
            "alternative hypothesis: two.sided\n",
            "\n"
          ]
        }
      ]
    },
    {
      "cell_type": "markdown",
      "source": [
        "##### FNN vs CNN"
      ],
      "metadata": {
        "id": "A5siCGTD3-wc"
      }
    },
    {
      "cell_type": "code",
      "source": [
        "print(dm_se_ftse_m_fnn_cnn)"
      ],
      "metadata": {
        "colab": {
          "base_uri": "https://localhost:8080/"
        },
        "outputId": "c091d394-41bc-4e2f-a7d5-c35b10dc007b",
        "id": "kkR0Xp9z3-wd"
      },
      "execution_count": 281,
      "outputs": [
        {
          "output_type": "stream",
          "name": "stdout",
          "text": [
            "\n",
            "\tDiebold-Mariano Test\n",
            "\n",
            "data:  ftse_fnn_m_seftse_cnn_m_se\n",
            "DM = -1.0109, Forecast horizon = 1, Loss function power = 2, p-value =\n",
            "0.3132\n",
            "alternative hypothesis: two.sided\n",
            "\n"
          ]
        }
      ]
    },
    {
      "cell_type": "code",
      "source": [
        "print(dm_qlike_ftse_m_fnn_cnn)"
      ],
      "metadata": {
        "colab": {
          "base_uri": "https://localhost:8080/"
        },
        "outputId": "b03dd6cd-2265-40ef-f1c4-105e8573ecb8",
        "id": "jPJnxQyM3-we"
      },
      "execution_count": 282,
      "outputs": [
        {
          "output_type": "stream",
          "name": "stdout",
          "text": [
            "\n",
            "\tDiebold-Mariano Test\n",
            "\n",
            "data:  ftse_fnn_m_qlikeftse_cnn_m_qlike\n",
            "DM = -0.96264, Forecast horizon = 1, Loss function power = 2, p-value =\n",
            "0.3368\n",
            "alternative hypothesis: two.sided\n",
            "\n"
          ]
        }
      ]
    },
    {
      "cell_type": "markdown",
      "source": [
        "##### FNN vs LSTM"
      ],
      "metadata": {
        "id": "Mdo6hTm43-we"
      }
    },
    {
      "cell_type": "code",
      "source": [
        "print(dm_se_ftse_m_fnn_lstm)"
      ],
      "metadata": {
        "colab": {
          "base_uri": "https://localhost:8080/"
        },
        "outputId": "b7f5f119-bef7-456c-d351-3ff3f888408b",
        "id": "x-6uI4813-wf"
      },
      "execution_count": 283,
      "outputs": [
        {
          "output_type": "stream",
          "name": "stdout",
          "text": [
            "\n",
            "\tDiebold-Mariano Test\n",
            "\n",
            "data:  ftse_fnn_m_seftse_lstm_m_se\n",
            "DM = 0.98958, Forecast horizon = 1, Loss function power = 2, p-value =\n",
            "0.3235\n",
            "alternative hypothesis: two.sided\n",
            "\n"
          ]
        }
      ]
    },
    {
      "cell_type": "code",
      "source": [
        "print(dm_qlike_ftse_m_fnn_lstm)"
      ],
      "metadata": {
        "colab": {
          "base_uri": "https://localhost:8080/"
        },
        "outputId": "454da5a9-4357-4b78-fa72-86343029a01e",
        "id": "plHiQBro3-wf"
      },
      "execution_count": 284,
      "outputs": [
        {
          "output_type": "stream",
          "name": "stdout",
          "text": [
            "\n",
            "\tDiebold-Mariano Test\n",
            "\n",
            "data:  ftse_fnn_m_qlikeftse_lstm_m_qlike\n",
            "DM = 0.76313, Forecast horizon = 1, Loss function power = 2, p-value =\n",
            "0.4462\n",
            "alternative hypothesis: two.sided\n",
            "\n"
          ]
        }
      ]
    },
    {
      "cell_type": "markdown",
      "source": [
        "##### FNN vs GRU"
      ],
      "metadata": {
        "id": "vIQedgu73-wg"
      }
    },
    {
      "cell_type": "code",
      "source": [
        "print(dm_se_ftse_m_fnn_gru)"
      ],
      "metadata": {
        "colab": {
          "base_uri": "https://localhost:8080/"
        },
        "outputId": "367b8755-1c05-4c58-93b3-e33b8e770bbf",
        "id": "OIFyjRgv3-wh"
      },
      "execution_count": 285,
      "outputs": [
        {
          "output_type": "stream",
          "name": "stdout",
          "text": [
            "\n",
            "\tDiebold-Mariano Test\n",
            "\n",
            "data:  ftse_fnn_m_seftse_gru_m_se\n",
            "DM = 0.73014, Forecast horizon = 1, Loss function power = 2, p-value =\n",
            "0.4661\n",
            "alternative hypothesis: two.sided\n",
            "\n"
          ]
        }
      ]
    },
    {
      "cell_type": "code",
      "source": [
        "print(dm_qlike_ftse_m_fnn_lstm)"
      ],
      "metadata": {
        "colab": {
          "base_uri": "https://localhost:8080/"
        },
        "outputId": "01720dfa-6a76-4d6d-d820-ffe9443b2076",
        "id": "6r5XYs0F3-wh"
      },
      "execution_count": 286,
      "outputs": [
        {
          "output_type": "stream",
          "name": "stdout",
          "text": [
            "\n",
            "\tDiebold-Mariano Test\n",
            "\n",
            "data:  ftse_fnn_m_qlikeftse_lstm_m_qlike\n",
            "DM = 0.76313, Forecast horizon = 1, Loss function power = 2, p-value =\n",
            "0.4462\n",
            "alternative hypothesis: two.sided\n",
            "\n"
          ]
        }
      ]
    },
    {
      "cell_type": "markdown",
      "source": [
        "##### CNN vs LSTM"
      ],
      "metadata": {
        "id": "yESTACQM3-wi"
      }
    },
    {
      "cell_type": "code",
      "source": [
        "print(dm_se_ftse_m_cnn_lstm)"
      ],
      "metadata": {
        "colab": {
          "base_uri": "https://localhost:8080/"
        },
        "outputId": "21a74a5a-c124-40a2-d346-8e9d975b6b12",
        "id": "ziVDHIWw3-wi"
      },
      "execution_count": 287,
      "outputs": [
        {
          "output_type": "stream",
          "name": "stdout",
          "text": [
            "\n",
            "\tDiebold-Mariano Test\n",
            "\n",
            "data:  ftse_cnn_m_seftse_lstm_m_se\n",
            "DM = 1.0048, Forecast horizon = 1, Loss function power = 2, p-value =\n",
            "0.3161\n",
            "alternative hypothesis: two.sided\n",
            "\n"
          ]
        }
      ]
    },
    {
      "cell_type": "code",
      "source": [
        "print(dm_qlike_ftse_m_cnn_lstm)"
      ],
      "metadata": {
        "colab": {
          "base_uri": "https://localhost:8080/"
        },
        "outputId": "c0f26ebb-f605-4265-e11a-d37501dc4e28",
        "id": "V1-vluW13-wj"
      },
      "execution_count": 288,
      "outputs": [
        {
          "output_type": "stream",
          "name": "stdout",
          "text": [
            "\n",
            "\tDiebold-Mariano Test\n",
            "\n",
            "data:  ftse_cnn_m_qlikeftse_lstm_m_qlike\n",
            "DM = 0.94356, Forecast horizon = 1, Loss function power = 2, p-value =\n",
            "0.3464\n",
            "alternative hypothesis: two.sided\n",
            "\n"
          ]
        }
      ]
    },
    {
      "cell_type": "markdown",
      "source": [
        "##### CNN vs GRU"
      ],
      "metadata": {
        "id": "NLp2asBZ3-wj"
      }
    },
    {
      "cell_type": "code",
      "source": [
        "print(dm_se_ftse_m_cnn_gru)"
      ],
      "metadata": {
        "colab": {
          "base_uri": "https://localhost:8080/"
        },
        "outputId": "f22b66f1-0e32-4cfe-ecc6-679618dee0da",
        "id": "AqyEZ8Vd3-wk"
      },
      "execution_count": 289,
      "outputs": [
        {
          "output_type": "stream",
          "name": "stdout",
          "text": [
            "\n",
            "\tDiebold-Mariano Test\n",
            "\n",
            "data:  ftse_cnn_m_seftse_gru_m_se\n",
            "DM = 1.0092, Forecast horizon = 1, Loss function power = 2, p-value =\n",
            "0.314\n",
            "alternative hypothesis: two.sided\n",
            "\n"
          ]
        }
      ]
    },
    {
      "cell_type": "code",
      "source": [
        "print(dm_qlike_ftse_m_cnn_gru)"
      ],
      "metadata": {
        "colab": {
          "base_uri": "https://localhost:8080/"
        },
        "outputId": "4373dc8f-4aef-430a-d7ba-5d8e1048cc9b",
        "id": "NvfI6JLp3-wl"
      },
      "execution_count": 290,
      "outputs": [
        {
          "output_type": "stream",
          "name": "stdout",
          "text": [
            "\n",
            "\tDiebold-Mariano Test\n",
            "\n",
            "data:  ftse_cnn_m_qlikeftse_gru_m_qlike\n",
            "DM = 0.91501, Forecast horizon = 1, Loss function power = 2, p-value =\n",
            "0.3612\n",
            "alternative hypothesis: two.sided\n",
            "\n"
          ]
        }
      ]
    },
    {
      "cell_type": "markdown",
      "source": [
        "##### LSTM vs GRU"
      ],
      "metadata": {
        "id": "5gcOJrcU3-wl"
      }
    },
    {
      "cell_type": "code",
      "source": [
        "print(dm_se_ftse_m_lstm_gru)"
      ],
      "metadata": {
        "colab": {
          "base_uri": "https://localhost:8080/"
        },
        "outputId": "7c6ddc27-719d-4f77-82f0-715d54eb7fd1",
        "id": "o9m0vmzK3-wm"
      },
      "execution_count": 291,
      "outputs": [
        {
          "output_type": "stream",
          "name": "stdout",
          "text": [
            "\n",
            "\tDiebold-Mariano Test\n",
            "\n",
            "data:  ftse_lstm_m_seftse_gru_m_se\n",
            "DM = -0.99347, Forecast horizon = 1, Loss function power = 2, p-value =\n",
            "0.3216\n",
            "alternative hypothesis: two.sided\n",
            "\n"
          ]
        }
      ]
    },
    {
      "cell_type": "code",
      "source": [
        "print(dm_qlike_ftse_m_lstm_gru)"
      ],
      "metadata": {
        "colab": {
          "base_uri": "https://localhost:8080/"
        },
        "outputId": "3c201eb7-3d2a-4c27-90e2-0c499a025858",
        "id": "idcXRUyp3-wm"
      },
      "execution_count": 292,
      "outputs": [
        {
          "output_type": "stream",
          "name": "stdout",
          "text": [
            "\n",
            "\tDiebold-Mariano Test\n",
            "\n",
            "data:  ftse_lstm_m_qlikeftse_gru_m_qlike\n",
            "DM = -1.1652, Forecast horizon = 1, Loss function power = 2, p-value =\n",
            "0.2452\n",
            "alternative hypothesis: two.sided\n",
            "\n"
          ]
        }
      ]
    }
  ]
}