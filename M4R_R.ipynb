{
  "nbformat": 4,
  "nbformat_minor": 0,
  "metadata": {
    "colab": {
      "provenance": [],
      "collapsed_sections": [
        "wJfc3w5YTFyO",
        "3i_wQLhlzP21",
        "nNBEZmHLzP4B",
        "1S1-XHTMzP4C",
        "auVfzzRvzP4E",
        "FItUWXS1zP4G",
        "L8o9MVYazP4H",
        "KsNytJ3IzP4J",
        "vLDP0K60zP4L",
        "J8aSYiw5zP4M",
        "L2Iy_vDVzP4O",
        "lv3WloObzP4P",
        "hwxlhrirzP4R",
        "t_PmSLWpzP4T",
        "gJ_8tKrnzP4V",
        "XW2pm1OYzP4W",
        "6e_EpLtuzP4Y",
        "g8rrHwIJ6-Rp",
        "XTOhE4zITM4q",
        "tCeapUV8TqsO",
        "PQKc2CKpUHZi",
        "1gZdpoZkUUEs",
        "3ZXSp2u6UjL8",
        "06Yji_oVUu6M",
        "1KurrmHSU4IP",
        "ff2xUZ_kWJgq",
        "UjVSZ1OaWTCo",
        "i2TBjEbQWamN",
        "li5XTP9sWmCu",
        "IfU3XTi0Wy7k",
        "7ZpIO58BW8_w",
        "6g4D-MyfXCl-",
        "lVvxbnGBXKZh",
        "FmDE6xNrXfSk",
        "v0OwzH0wdo5P",
        "-mxKpYz5dct5",
        "fONoUH5edcuP",
        "uNmYCkzZdcuQ",
        "7SN5B1KbdcuR",
        "7rRu0FM7dcuS",
        "u1DJcZARdcuS",
        "VKDdGV8vdcuT",
        "hcXOgEqLdcuU",
        "eqjSg1tqdcuV",
        "HpWswPLsdcuW",
        "_hd2ZjoldcuX",
        "uY_tc4A-dcuX",
        "opKdn-C6dcuY",
        "YrXFAQLudcuZ",
        "Jhf-uar0dcuZ",
        "r-cIDdBXdcua",
        "WU2FfawJ8kGf",
        "98RAOJvJ2d85",
        "HFkX1sRNmJYh",
        "lilc2WCGmJYh",
        "ISPA-TYymJYi",
        "T3dmLzj_mJYi",
        "2sYruS0EmJYj",
        "_e5HtMwQmJYj",
        "iDzdNWnFmJYk",
        "jopZ8AfhmJYk",
        "eMQR_3vRmJYl",
        "y68K_qhImJYl",
        "jZjeMyA2mJYm",
        "q3RTxXgkmJYm",
        "XLb2mdYimJYn",
        "z4KHZqr1mJYo",
        "JuYbm2KAmJYo",
        "nEGWunDpvze5",
        "1WGdWo353-vo"
      ]
    },
    "kernelspec": {
      "name": "ir",
      "display_name": "R"
    },
    "language_info": {
      "name": "R"
    }
  },
  "cells": [
    {
      "cell_type": "markdown",
      "source": [
        "# M4R: Modelling and Forecasting Volatility in Financial Markets using Deep Leaning (R code)"
      ],
      "metadata": {
        "id": "nV0pu3spR_jo"
      }
    },
    {
      "cell_type": "markdown",
      "source": [
        "## Install needed packages"
      ],
      "metadata": {
        "id": "Z1RhyWbGSQOs"
      }
    },
    {
      "cell_type": "code",
      "source": [
        "install.packages(\"jsonlite\")\n",
        "install.packages(\"MCS\")\n",
        "install.packages(\"forecast\")"
      ],
      "metadata": {
        "colab": {
          "base_uri": "https://localhost:8080/"
        },
        "id": "zs5POA9FBGqY",
        "outputId": "2e6570a7-f4b1-4ba6-8119-0434c0289657"
      },
      "execution_count": 1,
      "outputs": [
        {
          "output_type": "stream",
          "name": "stderr",
          "text": [
            "Installing package into ‘/usr/local/lib/R/site-library’\n",
            "(as ‘lib’ is unspecified)\n",
            "\n",
            "Installing package into ‘/usr/local/lib/R/site-library’\n",
            "(as ‘lib’ is unspecified)\n",
            "\n",
            "Installing package into ‘/usr/local/lib/R/site-library’\n",
            "(as ‘lib’ is unspecified)\n",
            "\n"
          ]
        }
      ]
    },
    {
      "cell_type": "code",
      "execution_count": 2,
      "metadata": {
        "colab": {
          "base_uri": "https://localhost:8080/"
        },
        "id": "s9izfQYaAhY6",
        "outputId": "ff986d7f-7e8d-415a-c694-18c44e93024c"
      },
      "outputs": [
        {
          "output_type": "stream",
          "name": "stderr",
          "text": [
            "Registered S3 method overwritten by 'quantmod':\n",
            "  method            from\n",
            "  as.zoo.data.frame zoo \n",
            "\n"
          ]
        }
      ],
      "source": [
        "library(jsonlite)\n",
        "library(MCS)\n",
        "library(forecast)"
      ]
    },
    {
      "cell_type": "markdown",
      "source": [
        "## Read data previously produced  in Python"
      ],
      "metadata": {
        "id": "JL-sKX3cSZzG"
      }
    },
    {
      "cell_type": "code",
      "source": [
        "file_path <- \"aex_oos_monthly.json\"\n",
        "aex_monthly <- fromJSON(file_path)\n",
        "\n",
        "file_path <- \"dax_oos_monthly.json\"\n",
        "dax_monthly <- fromJSON(file_path)\n",
        "\n",
        "file_path <- \"ftse_oos_monthly.json\"\n",
        "ftse_monthly <- fromJSON(file_path)\n",
        "\n",
        "file_path <- \"aex_oos_weekly.json\"\n",
        "aex_weekly <- fromJSON(file_path)\n",
        "\n",
        "file_path <- \"dax_oos_weekly.json\"\n",
        "dax_weekly <- fromJSON(file_path)\n",
        "\n",
        "file_path <- \"ftse_oos_weekly.json\"\n",
        "ftse_weekly <- fromJSON(file_path)\n",
        "\n",
        "file_path <- \"aex_oos_daily.json\"\n",
        "aex_daily <- fromJSON(file_path)\n",
        "\n",
        "file_path <- \"dax_oos_daily.json\"\n",
        "dax_daily <- fromJSON(file_path)\n",
        "\n",
        "file_path <- \"ftse_oos_daily.json\"\n",
        "ftse_daily <- fromJSON(file_path)"
      ],
      "metadata": {
        "id": "dnsUMpM0PbPO"
      },
      "execution_count": 3,
      "outputs": []
    },
    {
      "cell_type": "code",
      "source": [
        "# AEX daily data\n",
        "aex_har_d_se <- aex_daily[[1]][1,]\n",
        "aex_har_d_qlike <- aex_daily[[1]][2,]\n",
        "\n",
        "aex_fnn_har_d_se <- aex_daily[[2]][1,]\n",
        "aex_fnn_har_d_qlike <- aex_daily[[2]][2,]\n",
        "\n",
        "aex_fnn_d_se <- aex_daily[[3]][1,]\n",
        "aex_fnn_d_qlike <- aex_daily[[3]][2,]\n",
        "\n",
        "aex_cnn_d_se <- aex_daily[[4]][1,]\n",
        "aex_cnn_d_qlike <- aex_daily[[4]][2,]\n",
        "\n",
        "aex_lstm_d_se <- aex_daily[[5]][1,]\n",
        "aex_lstm_d_qlike <- aex_daily[[5]][2,]\n",
        "\n",
        "aex_gru_d_se <- aex_daily[[6]][1,]\n",
        "aex_gru_d_qlike <- aex_daily[[6]][2,]\n",
        "\n",
        "# DAX daily data\n",
        "dax_har_d_se <- dax_daily[[1]][1,]\n",
        "dax_har_d_qlike <- dax_daily[[1]][2,]\n",
        "\n",
        "dax_fnn_har_d_se <- dax_daily[[2]][1,]\n",
        "dax_fnn_har_d_qlike <- dax_daily[[2]][2,]\n",
        "\n",
        "dax_fnn_d_se <- dax_daily[[3]][1,]\n",
        "dax_fnn_d_qlike <- dax_daily[[3]][2,]\n",
        "\n",
        "dax_cnn_d_se <- dax_daily[[4]][1,]\n",
        "dax_cnn_d_qlike <- dax_daily[[4]][2,]\n",
        "\n",
        "dax_lstm_d_se <- dax_daily[[5]][1,]\n",
        "dax_lstm_d_qlike <- dax_daily[[5]][2,]\n",
        "\n",
        "dax_gru_d_se <- dax_daily[[6]][1,]\n",
        "dax_gru_d_qlike <- dax_daily[[6]][2,]\n",
        "\n",
        "# FTSE daily data\n",
        "ftse_har_d_se <- ftse_daily[[1]][1,]\n",
        "ftse_har_d_qlike <- ftse_daily[[1]][2,]\n",
        "\n",
        "ftse_fnn_har_d_se <- ftse_daily[[2]][1,]\n",
        "ftse_fnn_har_d_qlike <- ftse_daily[[2]][2,]\n",
        "\n",
        "ftse_fnn_d_se <- ftse_daily[[3]][1,]\n",
        "ftse_fnn_d_qlike <- ftse_daily[[3]][2,]\n",
        "\n",
        "ftse_cnn_d_se <- ftse_daily[[4]][1,]\n",
        "ftse_cnn_d_qlike <- ftse_daily[[4]][2,]\n",
        "\n",
        "ftse_lstm_d_se <- ftse_daily[[5]][1,]\n",
        "ftse_lstm_d_qlike <- ftse_daily[[5]][2,]\n",
        "\n",
        "ftse_gru_d_se <- ftse_daily[[6]][1,]\n",
        "ftse_gru_d_qlike <- ftse_daily[[6]][2,]\n",
        "\n",
        "# AEX weekly data\n",
        "aex_har_w_se <- aex_weekly[[1]][1,]\n",
        "aex_har_w_qlike <- aex_weekly[[1]][2,]\n",
        "\n",
        "aex_fnn_har_w_se <- aex_weekly[[2]][1,]\n",
        "aex_fnn_har_w_qlike <- aex_weekly[[2]][2,]\n",
        "\n",
        "aex_fnn_w_se <- aex_weekly[[3]][1,]\n",
        "aex_fnn_w_qlike <- aex_weekly[[3]][2,]\n",
        "\n",
        "aex_cnn_w_se <- aex_weekly[[4]][1,]\n",
        "aex_cnn_w_qlike <- aex_weekly[[4]][2,]\n",
        "\n",
        "aex_lstm_w_se <- aex_weekly[[5]][1,]\n",
        "aex_lstm_w_qlike <- aex_weekly[[5]][2,]\n",
        "\n",
        "aex_gru_w_se <- aex_weekly[[6]][1,]\n",
        "aex_gru_w_qlike <- aex_weekly[[6]][2,]\n",
        "\n",
        "# DAX weekly data\n",
        "dax_har_w_se <- dax_weekly[[1]][1,]\n",
        "dax_har_w_qlike <- dax_weekly[[1]][2,]\n",
        "\n",
        "dax_fnn_har_w_se <- dax_weekly[[2]][1,]\n",
        "dax_fnn_har_w_qlike <- dax_weekly[[2]][2,]\n",
        "\n",
        "dax_fnn_w_se <- dax_weekly[[3]][1,]\n",
        "dax_fnn_w_qlike <- dax_weekly[[3]][2,]\n",
        "\n",
        "dax_cnn_w_se <- dax_weekly[[4]][1,]\n",
        "dax_cnn_w_qlike <- dax_weekly[[4]][2,]\n",
        "\n",
        "dax_lstm_w_se <- dax_weekly[[5]][1,]\n",
        "dax_lstm_w_qlike <- dax_weekly[[5]][2,]\n",
        "\n",
        "dax_gru_w_se <- dax_weekly[[6]][1,]\n",
        "dax_gru_w_qlike <- dax_weekly[[6]][2,]\n",
        "\n",
        "# FTSE weekly data\n",
        "ftse_har_w_se <- ftse_weekly[[1]][1,]\n",
        "ftse_har_w_qlike <- ftse_weekly[[1]][2,]\n",
        "\n",
        "ftse_fnn_har_w_se <- ftse_weekly[[2]][1,]\n",
        "ftse_fnn_har_w_qlike <- ftse_weekly[[2]][2,]\n",
        "\n",
        "ftse_fnn_w_se <- ftse_weekly[[3]][1,]\n",
        "ftse_fnn_w_qlike <- ftse_weekly[[3]][2,]\n",
        "\n",
        "ftse_cnn_w_se <- ftse_weekly[[4]][1,]\n",
        "ftse_cnn_w_qlike <- ftse_weekly[[4]][2,]\n",
        "\n",
        "ftse_lstm_w_se <- ftse_weekly[[5]][1,]\n",
        "ftse_lstm_w_qlike <- ftse_weekly[[5]][2,]\n",
        "\n",
        "ftse_gru_w_se <- ftse_weekly[[6]][1,]\n",
        "ftse_gru_w_qlike <- ftse_weekly[[6]][2,]\n",
        "\n",
        "# AEX monthly data\n",
        "aex_har_m_se <- aex_monthly[[1]][1,]\n",
        "aex_har_m_qlike <- aex_monthly[[1]][2,]\n",
        "\n",
        "aex_fnn_har_m_se <- aex_monthly[[2]][1,]\n",
        "aex_fnn_har_m_qlike <- aex_monthly[[2]][2,]\n",
        "\n",
        "aex_fnn_m_se <- aex_monthly[[3]][1,]\n",
        "aex_fnn_m_qlike <- aex_monthly[[3]][2,]\n",
        "\n",
        "aex_cnn_m_se <- aex_monthly[[4]][1,]\n",
        "aex_cnn_m_qlike <- aex_monthly[[4]][2,]\n",
        "\n",
        "aex_lstm_m_se <- aex_monthly[[5]][1,]\n",
        "aex_lstm_m_qlike <- aex_monthly[[5]][2,]\n",
        "\n",
        "aex_gru_m_se <- aex_monthly[[6]][1,]\n",
        "aex_gru_m_qlike <- aex_monthly[[6]][2,]\n",
        "\n",
        "# DAX monthly data\n",
        "dax_har_m_se <- dax_monthly[[1]][1,]\n",
        "dax_har_m_qlike <- dax_monthly[[1]][2,]\n",
        "\n",
        "dax_fnn_har_m_se <- dax_monthly[[2]][1,]\n",
        "dax_fnn_har_m_qlike <- dax_monthly[[2]][2,]\n",
        "\n",
        "dax_fnn_m_se <- dax_monthly[[3]][1,]\n",
        "dax_fnn_m_qlike <- dax_monthly[[3]][2,]\n",
        "\n",
        "dax_cnn_m_se <- dax_monthly[[4]][1,]\n",
        "dax_cnn_m_qlike <- dax_monthly[[4]][2,]\n",
        "\n",
        "dax_lstm_m_se <- dax_monthly[[5]][1,]\n",
        "dax_lstm_m_qlike <- dax_monthly[[5]][2,]\n",
        "\n",
        "dax_gru_m_se <- dax_monthly[[6]][1,]\n",
        "dax_gru_m_qlike <- dax_monthly[[6]][2,]\n",
        "\n",
        "# FTSE monthly data\n",
        "ftse_har_m_se <- ftse_monthly[[1]][1,]\n",
        "ftse_har_m_qlike <- ftse_monthly[[1]][2,]\n",
        "\n",
        "ftse_fnn_har_m_se <- ftse_monthly[[2]][1,]\n",
        "ftse_fnn_har_m_qlike <- ftse_monthly[[2]][2,]\n",
        "\n",
        "ftse_fnn_m_se <- ftse_monthly[[3]][1,]\n",
        "ftse_fnn_m_qlike <- ftse_monthly[[3]][2,]\n",
        "\n",
        "ftse_cnn_m_se <- ftse_monthly[[4]][1,]\n",
        "ftse_cnn_m_qlike <- ftse_monthly[[4]][2,]\n",
        "\n",
        "ftse_lstm_m_se <- ftse_monthly[[5]][1,]\n",
        "ftse_lstm_m_qlike <- ftse_monthly[[5]][2,]\n",
        "\n",
        "ftse_gru_m_se <- ftse_monthly[[6]][1,]\n",
        "ftse_gru_m_qlike <- ftse_monthly[[6]][2,]"
      ],
      "metadata": {
        "id": "qjv9j43fPfKg"
      },
      "execution_count": 4,
      "outputs": []
    },
    {
      "cell_type": "markdown",
      "source": [
        "## Data analysis"
      ],
      "metadata": {
        "id": "3ejYqGBmS_Hp"
      }
    },
    {
      "cell_type": "markdown",
      "source": [
        "### Statistical analysis for the AEX index"
      ],
      "metadata": {
        "id": "wJfc3w5YTFyO"
      }
    },
    {
      "cell_type": "markdown",
      "source": [
        "#### Tests for the 1-day ahead forecast"
      ],
      "metadata": {
        "id": "3i_wQLhlzP21"
      }
    },
    {
      "cell_type": "code",
      "source": [
        "# MCS for squared-error loss\n",
        "\n",
        "errors_matrix_se <- cbind(aex_har_d_se, aex_fnn_har_d_se, aex_fnn_d_se, aex_cnn_d_se, aex_lstm_d_se, aex_gru_d_se)\n",
        "errors_matrix_qlike <- cbind(aex_har_d_qlike, aex_fnn_har_d_qlike, aex_fnn_d_qlike, aex_cnn_d_qlike, aex_lstm_d_qlike, aex_gru_d_qlike)\n",
        "\n",
        "# B is number of bootstrap replications\n",
        "mcs_result_aex_se_d <- MCSprocedure(errors_matrix_se, alpha = 0.05, B = 5000, statistic = \"Tmax\")\n",
        "\n",
        "mcs_result_aex_qlike_d <- MCSprocedure(errors_matrix_qlike, alpha = 0.05, B = 5000, statistic = \"Tmax\")"
      ],
      "metadata": {
        "colab": {
          "base_uri": "https://localhost:8080/"
        },
        "outputId": "4668ed2f-2047-499d-f74c-372b90614f62",
        "id": "3rcd6HU4zP3-"
      },
      "execution_count": 5,
      "outputs": [
        {
          "output_type": "stream",
          "name": "stdout",
          "text": [
            "\n",
            "###########################################################################################################################\n",
            "Superior Set Model created\t:\n",
            "                 Rank_M        v_M  MCS_M Rank_R         v_R  MCS_R\n",
            "aex_har_d_se          5  0.5746902 1.0000      6  2.17564674 0.0462\n",
            "aex_fnn_har_d_se      1 -2.0444328 1.0000      1 -0.02013774 1.0000\n",
            "aex_fnn_d_se          4  0.2185694 1.0000      4  0.89674368 1.0000\n",
            "aex_cnn_d_se          3 -0.7102144 1.0000      3  0.25472896 1.0000\n",
            "aex_lstm_d_se         6  0.6452570 0.9916      5  1.02124387 0.9800\n",
            "aex_gru_d_se          2 -1.8730135 1.0000      2  0.02013774 1.0000\n",
            "                         Loss\n",
            "aex_har_d_se     2.066405e-10\n",
            "aex_fnn_har_d_se 1.513281e-10\n",
            "aex_fnn_d_se     2.018314e-10\n",
            "aex_cnn_d_se     1.611262e-10\n",
            "aex_lstm_d_se    2.539228e-10\n",
            "aex_gru_d_se     1.518221e-10\n",
            "p-value\t:\n",
            "[1] 0.9916\n",
            "\n",
            "###########################################################################################################################\n",
            "###########################################################################################################################\n",
            "Superior Set Model created\t:\n",
            "                    Rank_M         v_M  MCS_M Rank_R        v_R  MCS_R\n",
            "aex_har_d_qlike          4  0.05808526 1.0000      6  1.5435116 0.5422\n",
            "aex_fnn_har_d_qlike      3 -0.17693320 1.0000      5  1.3542808 0.6960\n",
            "aex_fnn_d_qlike          5  0.43894603 0.9038      4  1.0622571 0.8454\n",
            "aex_cnn_d_qlike          6  0.61147575 0.7906      3  0.9127046 0.8912\n",
            "aex_lstm_d_qlike         2 -0.65384470 1.0000      2  0.2336664 0.9918\n",
            "aex_gru_d_qlike          1 -2.20532233 1.0000      1 -0.2336664 1.0000\n",
            "                         Loss\n",
            "aex_har_d_qlike     -9.621748\n",
            "aex_fnn_har_d_qlike -9.626988\n",
            "aex_fnn_d_qlike     -9.611789\n",
            "aex_cnn_d_qlike     -9.589314\n",
            "aex_lstm_d_qlike    -9.642091\n",
            "aex_gru_d_qlike     -9.648113\n",
            "p-value\t:\n",
            "[1] 0.7906\n",
            "\n",
            "###########################################################################################################################"
          ]
        }
      ]
    },
    {
      "cell_type": "code",
      "source": [
        "# Diebold-Mariano test\n",
        "\n",
        "dm_se_aex_d_har_fnn_har <- dm.test(aex_har_d_se, aex_fnn_har_d_se, alternative = \"two.sided\")\n",
        "dm_se_aex_d_har_fnn <- dm.test(aex_har_d_se, aex_fnn_d_se, alternative = \"two.sided\")\n",
        "dm_se_aex_d_har_cnn <- dm.test(aex_har_d_se, aex_cnn_d_se, alternative = \"two.sided\")\n",
        "dm_se_aex_d_har_lstm <- dm.test(aex_har_d_se, aex_lstm_d_se, alternative = \"two.sided\")\n",
        "dm_se_aex_d_har_gru <- dm.test(aex_har_d_se, aex_gru_d_se, alternative = \"two.sided\")\n",
        "dm_se_aex_d_fnn_har_fnn <- dm.test(aex_fnn_har_d_se, aex_fnn_d_se, alternative = \"two.sided\")\n",
        "dm_se_aex_d_fnn_har_cnn <- dm.test(aex_fnn_har_d_se, aex_cnn_d_se, alternative = \"two.sided\")\n",
        "dm_se_aex_d_fnn_har_lstm <- dm.test(aex_fnn_har_d_se, aex_lstm_d_se, alternative = \"two.sided\")\n",
        "dm_se_aex_d_fnn_har_gru <- dm.test(aex_fnn_har_d_se, aex_gru_d_se, alternative = \"two.sided\")\n",
        "dm_se_aex_d_fnn_cnn <- dm.test(aex_fnn_d_se, aex_cnn_d_se, alternative = \"two.sided\")\n",
        "dm_se_aex_d_fnn_lstm <- dm.test(aex_fnn_d_se, aex_lstm_d_se, alternative = \"two.sided\")\n",
        "dm_se_aex_d_fnn_gru <- dm.test(aex_fnn_d_se, aex_gru_d_se, alternative = \"two.sided\")\n",
        "dm_se_aex_d_cnn_lstm <- dm.test(aex_cnn_d_se, aex_lstm_d_se, alternative = \"two.sided\")\n",
        "dm_se_aex_d_cnn_gru <- dm.test(aex_cnn_d_se, aex_gru_d_se, alternative = \"two.sided\")\n",
        "dm_se_aex_d_lstm_gru <- dm.test(aex_lstm_d_se, aex_gru_d_se, alternative = \"two.sided\")\n",
        "\n",
        "dm_qlike_aex_d_har_fnn_har <- dm.test(aex_har_d_qlike, aex_fnn_har_d_qlike, alternative = \"two.sided\")\n",
        "dm_qlike_aex_d_har_fnn <- dm.test(aex_har_d_qlike, aex_fnn_d_qlike, alternative = \"two.sided\")\n",
        "dm_qlike_aex_d_har_cnn <- dm.test(aex_har_d_qlike, aex_cnn_d_qlike, alternative = \"two.sided\")\n",
        "dm_qlike_aex_d_har_lstm <- dm.test(aex_har_d_qlike, aex_lstm_d_qlike, alternative = \"two.sided\")\n",
        "dm_qlike_aex_d_har_gru <- dm.test(aex_har_d_qlike, aex_gru_d_qlike, alternative = \"two.sided\")\n",
        "dm_qlike_aex_d_fnn_har_fnn <- dm.test(aex_fnn_har_d_qlike, aex_fnn_d_qlike, alternative = \"two.sided\")\n",
        "dm_qlike_aex_d_fnn_har_cnn <- dm.test(aex_fnn_har_d_qlike, aex_cnn_d_qlike, alternative = \"two.sided\")\n",
        "dm_qlike_aex_d_fnn_har_lstm <- dm.test(aex_fnn_har_d_qlike, aex_lstm_d_qlike, alternative = \"two.sided\")\n",
        "dm_qlike_aex_d_fnn_har_gru <- dm.test(aex_fnn_har_d_qlike, aex_gru_d_qlike, alternative = \"two.sided\")\n",
        "dm_qlike_aex_d_fnn_cnn <- dm.test(aex_fnn_d_qlike, aex_cnn_d_qlike, alternative = \"two.sided\")\n",
        "dm_qlike_aex_d_fnn_lstm <- dm.test(aex_fnn_d_qlike, aex_lstm_d_qlike, alternative = \"two.sided\")\n",
        "dm_qlike_aex_d_fnn_gru <- dm.test(aex_fnn_d_qlike, aex_gru_d_qlike, alternative = \"two.sided\")\n",
        "dm_qlike_aex_d_cnn_lstm <- dm.test(aex_cnn_d_qlike, aex_lstm_d_qlike, alternative = \"two.sided\")\n",
        "dm_qlike_aex_d_cnn_gru <- dm.test(aex_cnn_d_qlike, aex_gru_d_qlike, alternative = \"two.sided\")\n",
        "dm_qlike_aex_d_lstm_gru <- dm.test(aex_lstm_d_qlike, aex_gru_d_qlike, alternative = \"two.sided\")"
      ],
      "metadata": {
        "id": "eJeVKobtzP3_"
      },
      "execution_count": 6,
      "outputs": []
    },
    {
      "cell_type": "markdown",
      "source": [
        "##### HAR vs FNN-HAR"
      ],
      "metadata": {
        "id": "nNBEZmHLzP4B"
      }
    },
    {
      "cell_type": "code",
      "source": [
        "print(dm_se_aex_d_har_fnn_har)"
      ],
      "metadata": {
        "colab": {
          "base_uri": "https://localhost:8080/"
        },
        "outputId": "a953ce90-04c5-4efa-9fce-f02b6bddae8d",
        "id": "uySM84O9zP4B"
      },
      "execution_count": 7,
      "outputs": [
        {
          "output_type": "stream",
          "name": "stdout",
          "text": [
            "\n",
            "\tDiebold-Mariano Test\n",
            "\n",
            "data:  aex_har_d_seaex_fnn_har_d_se\n",
            "DM = 1.1749, Forecast horizon = 1, Loss function power = 2, p-value =\n",
            "0.2648\n",
            "alternative hypothesis: two.sided\n",
            "\n"
          ]
        }
      ]
    },
    {
      "cell_type": "code",
      "source": [
        "print(dm_qlike_aex_d_har_fnn_har)"
      ],
      "metadata": {
        "colab": {
          "base_uri": "https://localhost:8080/"
        },
        "outputId": "38d2f76a-d553-4aa1-b29b-0e5600ab01e1",
        "id": "DrywxAGhzP4C"
      },
      "execution_count": 8,
      "outputs": [
        {
          "output_type": "stream",
          "name": "stdout",
          "text": [
            "\n",
            "\tDiebold-Mariano Test\n",
            "\n",
            "data:  aex_har_d_qlikeaex_fnn_har_d_qlike\n",
            "DM = -0.24215, Forecast horizon = 1, Loss function power = 2, p-value =\n",
            "0.8131\n",
            "alternative hypothesis: two.sided\n",
            "\n"
          ]
        }
      ]
    },
    {
      "cell_type": "markdown",
      "source": [
        "##### HAR vs FNN"
      ],
      "metadata": {
        "id": "1S1-XHTMzP4C"
      }
    },
    {
      "cell_type": "code",
      "source": [
        "print(dm_se_aex_d_har_fnn)"
      ],
      "metadata": {
        "colab": {
          "base_uri": "https://localhost:8080/"
        },
        "outputId": "89ebb9c4-d86d-451d-92c6-a298cbbbf077",
        "id": "WPDnPRzzzP4D"
      },
      "execution_count": 9,
      "outputs": [
        {
          "output_type": "stream",
          "name": "stdout",
          "text": [
            "\n",
            "\tDiebold-Mariano Test\n",
            "\n",
            "data:  aex_har_d_seaex_fnn_d_se\n",
            "DM = -0.48977, Forecast horizon = 1, Loss function power = 2, p-value =\n",
            "0.6339\n",
            "alternative hypothesis: two.sided\n",
            "\n"
          ]
        }
      ]
    },
    {
      "cell_type": "code",
      "source": [
        "print(dm_qlike_aex_d_har_fnn)"
      ],
      "metadata": {
        "colab": {
          "base_uri": "https://localhost:8080/"
        },
        "outputId": "4bad4c5c-9f6b-4b5e-d7d0-62ecdc01b766",
        "id": "W7TqA2xIzP4E"
      },
      "execution_count": 10,
      "outputs": [
        {
          "output_type": "stream",
          "name": "stdout",
          "text": [
            "\n",
            "\tDiebold-Mariano Test\n",
            "\n",
            "data:  aex_har_d_qlikeaex_fnn_d_qlike\n",
            "DM = 0.050417, Forecast horizon = 1, Loss function power = 2, p-value =\n",
            "0.9607\n",
            "alternative hypothesis: two.sided\n",
            "\n"
          ]
        }
      ]
    },
    {
      "cell_type": "markdown",
      "source": [
        "##### HAR vs CNN"
      ],
      "metadata": {
        "id": "auVfzzRvzP4E"
      }
    },
    {
      "cell_type": "code",
      "source": [
        "print(dm_se_aex_d_har_cnn)"
      ],
      "metadata": {
        "colab": {
          "base_uri": "https://localhost:8080/"
        },
        "outputId": "18cea346-e4df-4b72-f6be-dc464993f2c7",
        "id": "r7fDylC4zP4F"
      },
      "execution_count": 11,
      "outputs": [
        {
          "output_type": "stream",
          "name": "stdout",
          "text": [
            "\n",
            "\tDiebold-Mariano Test\n",
            "\n",
            "data:  aex_har_d_seaex_cnn_d_se\n",
            "DM = -0.28847, Forecast horizon = 1, Loss function power = 2, p-value =\n",
            "0.7783\n",
            "alternative hypothesis: two.sided\n",
            "\n"
          ]
        }
      ]
    },
    {
      "cell_type": "code",
      "source": [
        "print(dm_qlike_aex_d_har_cnn)"
      ],
      "metadata": {
        "colab": {
          "base_uri": "https://localhost:8080/"
        },
        "outputId": "ae43fa44-df6b-456f-dedb-a9d894e01232",
        "id": "oZ6d5UzPzP4F"
      },
      "execution_count": 12,
      "outputs": [
        {
          "output_type": "stream",
          "name": "stdout",
          "text": [
            "\n",
            "\tDiebold-Mariano Test\n",
            "\n",
            "data:  aex_har_d_qlikeaex_cnn_d_qlike\n",
            "DM = 0.13173, Forecast horizon = 1, Loss function power = 2, p-value =\n",
            "0.8976\n",
            "alternative hypothesis: two.sided\n",
            "\n"
          ]
        }
      ]
    },
    {
      "cell_type": "markdown",
      "source": [
        "##### HAR vs LSTM"
      ],
      "metadata": {
        "id": "FItUWXS1zP4G"
      }
    },
    {
      "cell_type": "code",
      "source": [
        "print(dm_se_aex_d_har_lstm)"
      ],
      "metadata": {
        "colab": {
          "base_uri": "https://localhost:8080/"
        },
        "outputId": "944e0790-285a-4ee3-9a03-8eac38148d95",
        "id": "aB-SCMBTzP4G"
      },
      "execution_count": 13,
      "outputs": [
        {
          "output_type": "stream",
          "name": "stdout",
          "text": [
            "\n",
            "\tDiebold-Mariano Test\n",
            "\n",
            "data:  aex_har_d_seaex_lstm_d_se\n",
            "DM = -0.6993, Forecast horizon = 1, Loss function power = 2, p-value =\n",
            "0.4989\n",
            "alternative hypothesis: two.sided\n",
            "\n"
          ]
        }
      ]
    },
    {
      "cell_type": "code",
      "source": [
        "print(dm_qlike_aex_d_har_lstm)"
      ],
      "metadata": {
        "colab": {
          "base_uri": "https://localhost:8080/"
        },
        "outputId": "3ee71c92-b1bd-40b2-8cdf-f6bd7ed31bfc",
        "id": "DTPd4fHlzP4H"
      },
      "execution_count": 14,
      "outputs": [
        {
          "output_type": "stream",
          "name": "stdout",
          "text": [
            "\n",
            "\tDiebold-Mariano Test\n",
            "\n",
            "data:  aex_har_d_qlikeaex_lstm_d_qlike\n",
            "DM = -0.64041, Forecast horizon = 1, Loss function power = 2, p-value =\n",
            "0.535\n",
            "alternative hypothesis: two.sided\n",
            "\n"
          ]
        }
      ]
    },
    {
      "cell_type": "markdown",
      "source": [
        "##### HAR vs GRU"
      ],
      "metadata": {
        "id": "L8o9MVYazP4H"
      }
    },
    {
      "cell_type": "code",
      "source": [
        "print(dm_se_aex_d_har_gru)"
      ],
      "metadata": {
        "colab": {
          "base_uri": "https://localhost:8080/"
        },
        "outputId": "0993bf19-bf85-4b7f-bf0c-04662752c411",
        "id": "kdiTXM_WzP4I"
      },
      "execution_count": 15,
      "outputs": [
        {
          "output_type": "stream",
          "name": "stdout",
          "text": [
            "\n",
            "\tDiebold-Mariano Test\n",
            "\n",
            "data:  aex_har_d_seaex_gru_d_se\n",
            "DM = 1.1924, Forecast horizon = 1, Loss function power = 2, p-value =\n",
            "0.2582\n",
            "alternative hypothesis: two.sided\n",
            "\n"
          ]
        }
      ]
    },
    {
      "cell_type": "code",
      "source": [
        "print(dm_qlike_aex_d_har_gru)"
      ],
      "metadata": {
        "colab": {
          "base_uri": "https://localhost:8080/"
        },
        "outputId": "286ecdb3-6bcd-4841-a005-059401deabab",
        "id": "IQ1l5yXmzP4I"
      },
      "execution_count": 16,
      "outputs": [
        {
          "output_type": "stream",
          "name": "stdout",
          "text": [
            "\n",
            "\tDiebold-Mariano Test\n",
            "\n",
            "data:  aex_har_d_qlikeaex_gru_d_qlike\n",
            "DM = -1.2183, Forecast horizon = 1, Loss function power = 2, p-value =\n",
            "0.2486\n",
            "alternative hypothesis: two.sided\n",
            "\n"
          ]
        }
      ]
    },
    {
      "cell_type": "markdown",
      "source": [
        "##### FNN-HAR vs FNN"
      ],
      "metadata": {
        "id": "KsNytJ3IzP4J"
      }
    },
    {
      "cell_type": "code",
      "source": [
        "print(dm_se_aex_d_fnn_har_fnn)"
      ],
      "metadata": {
        "colab": {
          "base_uri": "https://localhost:8080/"
        },
        "outputId": "b4b8c3e4-f140-4fb0-91c2-0175ea277df0",
        "id": "hcBm8FZWzP4K"
      },
      "execution_count": 17,
      "outputs": [
        {
          "output_type": "stream",
          "name": "stdout",
          "text": [
            "\n",
            "\tDiebold-Mariano Test\n",
            "\n",
            "data:  aex_fnn_har_d_seaex_fnn_d_se\n",
            "DM = -1.1016, Forecast horizon = 1, Loss function power = 2, p-value =\n",
            "0.2942\n",
            "alternative hypothesis: two.sided\n",
            "\n"
          ]
        }
      ]
    },
    {
      "cell_type": "code",
      "source": [
        "print(dm_qlike_aex_d_fnn_har_fnn)"
      ],
      "metadata": {
        "colab": {
          "base_uri": "https://localhost:8080/"
        },
        "outputId": "2befce60-f86e-45c8-8da0-bd9304bb780a",
        "id": "QlsN0TrKzP4K"
      },
      "execution_count": 18,
      "outputs": [
        {
          "output_type": "stream",
          "name": "stdout",
          "text": [
            "\n",
            "\tDiebold-Mariano Test\n",
            "\n",
            "data:  aex_fnn_har_d_qlikeaex_fnn_d_qlike\n",
            "DM = 0.32124, Forecast horizon = 1, Loss function power = 2, p-value =\n",
            "0.7541\n",
            "alternative hypothesis: two.sided\n",
            "\n"
          ]
        }
      ]
    },
    {
      "cell_type": "markdown",
      "source": [
        "##### FNN-HAR vs CNN"
      ],
      "metadata": {
        "id": "vLDP0K60zP4L"
      }
    },
    {
      "cell_type": "code",
      "source": [
        "print(dm_se_aex_d_fnn_har_cnn)"
      ],
      "metadata": {
        "colab": {
          "base_uri": "https://localhost:8080/"
        },
        "outputId": "8b96e69f-28a1-47a3-8775-ab3c2d642235",
        "id": "baqz-xorzP4L"
      },
      "execution_count": 19,
      "outputs": [
        {
          "output_type": "stream",
          "name": "stdout",
          "text": [
            "\n",
            "\tDiebold-Mariano Test\n",
            "\n",
            "data:  aex_fnn_har_d_seaex_cnn_d_se\n",
            "DM = -0.8876, Forecast horizon = 1, Loss function power = 2, p-value =\n",
            "0.3937\n",
            "alternative hypothesis: two.sided\n",
            "\n"
          ]
        }
      ]
    },
    {
      "cell_type": "code",
      "source": [
        "print(dm_qlike_aex_d_fnn_har_cnn)"
      ],
      "metadata": {
        "colab": {
          "base_uri": "https://localhost:8080/"
        },
        "outputId": "154313f2-a078-4df1-975a-56a15d9a7759",
        "id": "3olTxkq3zP4M"
      },
      "execution_count": 20,
      "outputs": [
        {
          "output_type": "stream",
          "name": "stdout",
          "text": [
            "\n",
            "\tDiebold-Mariano Test\n",
            "\n",
            "data:  aex_fnn_har_d_qlikeaex_cnn_d_qlike\n",
            "DM = 0.27919, Forecast horizon = 1, Loss function power = 2, p-value =\n",
            "0.7853\n",
            "alternative hypothesis: two.sided\n",
            "\n"
          ]
        }
      ]
    },
    {
      "cell_type": "markdown",
      "source": [
        "##### FNN-HAR vs LSTM"
      ],
      "metadata": {
        "id": "J8aSYiw5zP4M"
      }
    },
    {
      "cell_type": "code",
      "source": [
        "print(dm_se_aex_d_fnn_har_lstm)"
      ],
      "metadata": {
        "colab": {
          "base_uri": "https://localhost:8080/"
        },
        "outputId": "8f0e6139-f8e4-4cd7-d74a-0a181e5d4e4e",
        "id": "yQCo8awMzP4N"
      },
      "execution_count": 21,
      "outputs": [
        {
          "output_type": "stream",
          "name": "stdout",
          "text": [
            "\n",
            "\tDiebold-Mariano Test\n",
            "\n",
            "data:  aex_fnn_har_d_seaex_lstm_d_se\n",
            "DM = -0.97313, Forecast horizon = 1, Loss function power = 2, p-value =\n",
            "0.3514\n",
            "alternative hypothesis: two.sided\n",
            "\n"
          ]
        }
      ]
    },
    {
      "cell_type": "code",
      "source": [
        "print(dm_qlike_aex_d_fnn_har_lstm)"
      ],
      "metadata": {
        "colab": {
          "base_uri": "https://localhost:8080/"
        },
        "outputId": "0cb5a1f1-f6c0-4a0f-cb7a-f412f5710336",
        "id": "2GZbXytczP4N"
      },
      "execution_count": 22,
      "outputs": [
        {
          "output_type": "stream",
          "name": "stdout",
          "text": [
            "\n",
            "\tDiebold-Mariano Test\n",
            "\n",
            "data:  aex_fnn_har_d_qlikeaex_lstm_d_qlike\n",
            "DM = -1.0263, Forecast horizon = 1, Loss function power = 2, p-value =\n",
            "0.3268\n",
            "alternative hypothesis: two.sided\n",
            "\n"
          ]
        }
      ]
    },
    {
      "cell_type": "markdown",
      "source": [
        "##### FNN-HAR vs GRU"
      ],
      "metadata": {
        "id": "L2Iy_vDVzP4O"
      }
    },
    {
      "cell_type": "code",
      "source": [
        "print(dm_se_aex_d_fnn_har_gru)"
      ],
      "metadata": {
        "colab": {
          "base_uri": "https://localhost:8080/"
        },
        "outputId": "bb430a7d-aa8e-4905-91c2-211e4f606a4a",
        "id": "zrToUIx7zP4O"
      },
      "execution_count": 23,
      "outputs": [
        {
          "output_type": "stream",
          "name": "stdout",
          "text": [
            "\n",
            "\tDiebold-Mariano Test\n",
            "\n",
            "data:  aex_fnn_har_d_seaex_gru_d_se\n",
            "DM = -0.78901, Forecast horizon = 1, Loss function power = 2, p-value =\n",
            "0.4468\n",
            "alternative hypothesis: two.sided\n",
            "\n"
          ]
        }
      ]
    },
    {
      "cell_type": "code",
      "source": [
        "print(dm_qlike_aex_d_fnn_har_gru)"
      ],
      "metadata": {
        "colab": {
          "base_uri": "https://localhost:8080/"
        },
        "outputId": "61c9184f-728f-45e2-dc47-62d809633550",
        "id": "TKPFZOBGzP4P"
      },
      "execution_count": 24,
      "outputs": [
        {
          "output_type": "stream",
          "name": "stdout",
          "text": [
            "\n",
            "\tDiebold-Mariano Test\n",
            "\n",
            "data:  aex_fnn_har_d_qlikeaex_gru_d_qlike\n",
            "DM = -0.86265, Forecast horizon = 1, Loss function power = 2, p-value =\n",
            "0.4067\n",
            "alternative hypothesis: two.sided\n",
            "\n"
          ]
        }
      ]
    },
    {
      "cell_type": "markdown",
      "source": [
        "##### FNN vs CNN"
      ],
      "metadata": {
        "id": "lv3WloObzP4P"
      }
    },
    {
      "cell_type": "code",
      "source": [
        "print(dm_se_aex_d_fnn_cnn)"
      ],
      "metadata": {
        "colab": {
          "base_uri": "https://localhost:8080/"
        },
        "outputId": "5d133480-fd50-4e73-9783-0059a14ba951",
        "id": "N1xUG5CjzP4Q"
      },
      "execution_count": 25,
      "outputs": [
        {
          "output_type": "stream",
          "name": "stdout",
          "text": [
            "\n",
            "\tDiebold-Mariano Test\n",
            "\n",
            "data:  aex_fnn_d_seaex_cnn_d_se\n",
            "DM = -0.031624, Forecast horizon = 1, Loss function power = 2, p-value\n",
            "= 0.9753\n",
            "alternative hypothesis: two.sided\n",
            "\n"
          ]
        }
      ]
    },
    {
      "cell_type": "code",
      "source": [
        "print(dm_qlike_aex_d_fnn_cnn)"
      ],
      "metadata": {
        "colab": {
          "base_uri": "https://localhost:8080/"
        },
        "outputId": "536c2a3a-ebda-4d80-d82b-1c431ec1e037",
        "id": "m5zqOU6lzP4Q"
      },
      "execution_count": 26,
      "outputs": [
        {
          "output_type": "stream",
          "name": "stdout",
          "text": [
            "\n",
            "\tDiebold-Mariano Test\n",
            "\n",
            "data:  aex_fnn_d_qlikeaex_cnn_d_qlike\n",
            "DM = 0.13501, Forecast horizon = 1, Loss function power = 2, p-value =\n",
            "0.895\n",
            "alternative hypothesis: two.sided\n",
            "\n"
          ]
        }
      ]
    },
    {
      "cell_type": "markdown",
      "source": [
        "##### FNN vs LSTM"
      ],
      "metadata": {
        "id": "hwxlhrirzP4R"
      }
    },
    {
      "cell_type": "code",
      "source": [
        "print(dm_se_aex_d_fnn_lstm)"
      ],
      "metadata": {
        "colab": {
          "base_uri": "https://localhost:8080/"
        },
        "outputId": "e86f61de-4f75-4eca-aa42-158b01fce26d",
        "id": "fXdzVoE_zP4S"
      },
      "execution_count": 27,
      "outputs": [
        {
          "output_type": "stream",
          "name": "stdout",
          "text": [
            "\n",
            "\tDiebold-Mariano Test\n",
            "\n",
            "data:  aex_fnn_d_seaex_lstm_d_se\n",
            "DM = -0.52238, Forecast horizon = 1, Loss function power = 2, p-value =\n",
            "0.6118\n",
            "alternative hypothesis: two.sided\n",
            "\n"
          ]
        }
      ]
    },
    {
      "cell_type": "code",
      "source": [
        "print(dm_qlike_aex_d_fnn_lstm)"
      ],
      "metadata": {
        "colab": {
          "base_uri": "https://localhost:8080/"
        },
        "outputId": "1ece2b82-cabc-4f57-8eae-69bf4c4e3cb0",
        "id": "5rVMwOh3zP4T"
      },
      "execution_count": 28,
      "outputs": [
        {
          "output_type": "stream",
          "name": "stdout",
          "text": [
            "\n",
            "\tDiebold-Mariano Test\n",
            "\n",
            "data:  aex_fnn_d_qlikeaex_lstm_d_qlike\n",
            "DM = -0.59817, Forecast horizon = 1, Loss function power = 2, p-value =\n",
            "0.5618\n",
            "alternative hypothesis: two.sided\n",
            "\n"
          ]
        }
      ]
    },
    {
      "cell_type": "markdown",
      "source": [
        "##### FNN vs GRU"
      ],
      "metadata": {
        "id": "t_PmSLWpzP4T"
      }
    },
    {
      "cell_type": "code",
      "source": [
        "print(dm_se_aex_d_fnn_gru)"
      ],
      "metadata": {
        "colab": {
          "base_uri": "https://localhost:8080/"
        },
        "outputId": "9280823e-a285-4673-8132-6e2530e36b57",
        "id": "pLZRQ9ctzP4U"
      },
      "execution_count": 29,
      "outputs": [
        {
          "output_type": "stream",
          "name": "stdout",
          "text": [
            "\n",
            "\tDiebold-Mariano Test\n",
            "\n",
            "data:  aex_fnn_d_seaex_gru_d_se\n",
            "DM = 1.1378, Forecast horizon = 1, Loss function power = 2, p-value =\n",
            "0.2794\n",
            "alternative hypothesis: two.sided\n",
            "\n"
          ]
        }
      ]
    },
    {
      "cell_type": "code",
      "source": [
        "print(dm_qlike_aex_d_fnn_lstm)"
      ],
      "metadata": {
        "colab": {
          "base_uri": "https://localhost:8080/"
        },
        "outputId": "a167680e-fa44-4260-be09-ce73e962e2df",
        "id": "wSZJjXVuzP4U"
      },
      "execution_count": 30,
      "outputs": [
        {
          "output_type": "stream",
          "name": "stdout",
          "text": [
            "\n",
            "\tDiebold-Mariano Test\n",
            "\n",
            "data:  aex_fnn_d_qlikeaex_lstm_d_qlike\n",
            "DM = -0.59817, Forecast horizon = 1, Loss function power = 2, p-value =\n",
            "0.5618\n",
            "alternative hypothesis: two.sided\n",
            "\n"
          ]
        }
      ]
    },
    {
      "cell_type": "markdown",
      "source": [
        "##### CNN vs LSTM"
      ],
      "metadata": {
        "id": "gJ_8tKrnzP4V"
      }
    },
    {
      "cell_type": "code",
      "source": [
        "print(dm_se_aex_d_cnn_lstm)"
      ],
      "metadata": {
        "colab": {
          "base_uri": "https://localhost:8080/"
        },
        "outputId": "476325aa-a869-43bf-bcbf-191068f96181",
        "id": "-g3YjM2VzP4V"
      },
      "execution_count": 31,
      "outputs": [
        {
          "output_type": "stream",
          "name": "stdout",
          "text": [
            "\n",
            "\tDiebold-Mariano Test\n",
            "\n",
            "data:  aex_cnn_d_seaex_lstm_d_se\n",
            "DM = -0.48554, Forecast horizon = 1, Loss function power = 2, p-value =\n",
            "0.6368\n",
            "alternative hypothesis: two.sided\n",
            "\n"
          ]
        }
      ]
    },
    {
      "cell_type": "code",
      "source": [
        "print(dm_qlike_aex_d_cnn_lstm)"
      ],
      "metadata": {
        "colab": {
          "base_uri": "https://localhost:8080/"
        },
        "outputId": "7aac40f7-dbc0-4a5b-9e49-8204d3b5d08a",
        "id": "H0u6EbNTzP4W"
      },
      "execution_count": 32,
      "outputs": [
        {
          "output_type": "stream",
          "name": "stdout",
          "text": [
            "\n",
            "\tDiebold-Mariano Test\n",
            "\n",
            "data:  aex_cnn_d_qlikeaex_lstm_d_qlike\n",
            "DM = -0.44138, Forecast horizon = 1, Loss function power = 2, p-value =\n",
            "0.6675\n",
            "alternative hypothesis: two.sided\n",
            "\n"
          ]
        }
      ]
    },
    {
      "cell_type": "markdown",
      "source": [
        "##### CNN vs GRU"
      ],
      "metadata": {
        "id": "XW2pm1OYzP4W"
      }
    },
    {
      "cell_type": "code",
      "source": [
        "print(dm_se_aex_d_cnn_gru)"
      ],
      "metadata": {
        "colab": {
          "base_uri": "https://localhost:8080/"
        },
        "outputId": "20298e41-b4f9-4258-f748-7513772f4d9f",
        "id": "poams6mOzP4X"
      },
      "execution_count": 33,
      "outputs": [
        {
          "output_type": "stream",
          "name": "stdout",
          "text": [
            "\n",
            "\tDiebold-Mariano Test\n",
            "\n",
            "data:  aex_cnn_d_seaex_gru_d_se\n",
            "DM = 0.74636, Forecast horizon = 1, Loss function power = 2, p-value =\n",
            "0.4711\n",
            "alternative hypothesis: two.sided\n",
            "\n"
          ]
        }
      ]
    },
    {
      "cell_type": "code",
      "source": [
        "print(dm_qlike_aex_d_cnn_gru)"
      ],
      "metadata": {
        "colab": {
          "base_uri": "https://localhost:8080/"
        },
        "outputId": "15028500-7a8c-4445-c82b-1c596e00f3b7",
        "id": "W6mrkuHnzP4Y"
      },
      "execution_count": 34,
      "outputs": [
        {
          "output_type": "stream",
          "name": "stdout",
          "text": [
            "\n",
            "\tDiebold-Mariano Test\n",
            "\n",
            "data:  aex_cnn_d_qlikeaex_gru_d_qlike\n",
            "DM = -0.51536, Forecast horizon = 1, Loss function power = 2, p-value =\n",
            "0.6165\n",
            "alternative hypothesis: two.sided\n",
            "\n"
          ]
        }
      ]
    },
    {
      "cell_type": "markdown",
      "source": [
        "##### LSTM vs GRU"
      ],
      "metadata": {
        "id": "6e_EpLtuzP4Y"
      }
    },
    {
      "cell_type": "code",
      "source": [
        "print(dm_se_aex_d_lstm_gru)"
      ],
      "metadata": {
        "colab": {
          "base_uri": "https://localhost:8080/"
        },
        "outputId": "a96e943c-e1f1-42b0-c522-3362d8852ee4",
        "id": "tBPIm_WEzP4Z"
      },
      "execution_count": 35,
      "outputs": [
        {
          "output_type": "stream",
          "name": "stdout",
          "text": [
            "\n",
            "\tDiebold-Mariano Test\n",
            "\n",
            "data:  aex_lstm_d_seaex_gru_d_se\n",
            "DM = 0.90388, Forecast horizon = 1, Loss function power = 2, p-value =\n",
            "0.3854\n",
            "alternative hypothesis: two.sided\n",
            "\n"
          ]
        }
      ]
    },
    {
      "cell_type": "code",
      "source": [
        "print(dm_qlike_aex_d_lstm_gru)"
      ],
      "metadata": {
        "colab": {
          "base_uri": "https://localhost:8080/"
        },
        "outputId": "ab25adef-ec81-4f3c-8613-581c5a4a7878",
        "id": "Fxcwp_Q1zP4Z"
      },
      "execution_count": 36,
      "outputs": [
        {
          "output_type": "stream",
          "name": "stdout",
          "text": [
            "\n",
            "\tDiebold-Mariano Test\n",
            "\n",
            "data:  aex_lstm_d_qlikeaex_gru_d_qlike\n",
            "DM = -0.19162, Forecast horizon = 1, Loss function power = 2, p-value =\n",
            "0.8515\n",
            "alternative hypothesis: two.sided\n",
            "\n"
          ]
        }
      ]
    },
    {
      "cell_type": "markdown",
      "source": [
        "#### Tests for the 1-week ahead forecast"
      ],
      "metadata": {
        "id": "g8rrHwIJ6-Rp"
      }
    },
    {
      "cell_type": "code",
      "source": [
        "# MCS for squared-error loss\n",
        "\n",
        "errors_matrix_se <- cbind(aex_har_w_se, aex_fnn_har_w_se, aex_fnn_w_se, aex_cnn_w_se, aex_lstm_w_se, aex_gru_w_se)\n",
        "errors_matrix_qlike <- cbind(aex_har_w_qlike, aex_fnn_har_w_qlike, aex_fnn_w_qlike, aex_cnn_w_qlike, aex_lstm_w_qlike, aex_gru_w_qlike)\n",
        "\n",
        "# B is number of bootstrap replications\n",
        "mcs_result_aex_se_w <- MCSprocedure(errors_matrix_se, alpha = 0.05, B = 5000, statistic = \"Tmax\")\n",
        "\n",
        "mcs_result_aex_qlike_w <- MCSprocedure(errors_matrix_qlike, alpha = 0.05, B = 5000, statistic = \"Tmax\")"
      ],
      "metadata": {
        "colab": {
          "base_uri": "https://localhost:8080/"
        },
        "outputId": "5c21fc7f-e130-4425-f59c-6e3b42a22ccc",
        "id": "BZN_qzto6-SK"
      },
      "execution_count": 37,
      "outputs": [
        {
          "output_type": "stream",
          "name": "stdout",
          "text": [
            "\n",
            "###########################################################################################################################\n",
            "Superior Set Model created\t:\n",
            "                 Rank_M        v_M  MCS_M Rank_R       v_R  MCS_R         Loss\n",
            "aex_har_w_se          4 -2.0744072 1.0000      6  2.093648 0.2068 8.158609e-11\n",
            "aex_fnn_har_w_se      1 -2.6807267 1.0000      1 -1.218554 1.0000 5.697968e-11\n",
            "aex_fnn_w_se          3 -2.1949438 1.0000      2  1.218554 0.7768 6.950451e-11\n",
            "aex_cnn_w_se          2 -2.4002334 1.0000      3  1.270988 0.7470 6.633497e-11\n",
            "aex_lstm_w_se         6  1.5567040 0.2200      4  1.787678 0.3752 3.578287e-10\n",
            "aex_gru_w_se          5  0.9157565 0.5784      5  2.047910 0.2276 2.005632e-10\n",
            "p-value\t:\n",
            "[1] 0.22\n",
            "\n",
            "###########################################################################################################################\n",
            "Model aex_lstm_w_qlike eliminated 2024-06-04 19:54:38.903876\n",
            "###########################################################################################################################\n",
            "Superior Set Model created\t:\n",
            "                    Rank_M        v_M  MCS_M Rank_R        v_R  MCS_R      Loss\n",
            "aex_har_w_qlike          3 -1.5269171 1.0000      3  1.1543341 0.7562 -10.17976\n",
            "aex_fnn_har_w_qlike      1 -2.6439330 1.0000      1 -0.9827272 1.0000 -10.19806\n",
            "aex_fnn_w_qlike          2 -1.5648883 1.0000      2  0.9827272 0.8512 -10.18117\n",
            "aex_cnn_w_qlike          4 -0.5803589 1.0000      4  1.6966927 0.3908 -10.16974\n",
            "aex_gru_w_qlike          5  2.1053205 0.0672      5  2.2844088 0.1100 -10.05633\n",
            "p-value\t:\n",
            "[1] 0.0672\n",
            "\n",
            "###########################################################################################################################"
          ]
        }
      ]
    },
    {
      "cell_type": "code",
      "source": [
        "# Diebold-Mariano test\n",
        "\n",
        "dm_se_aex_w_har_fnn_har <- dm.test(aex_har_w_se, aex_fnn_har_w_se, alternative = \"two.sided\")\n",
        "dm_se_aex_w_har_fnn <- dm.test(aex_har_w_se, aex_fnn_w_se, alternative = \"two.sided\")\n",
        "dm_se_aex_w_har_cnn <- dm.test(aex_har_w_se, aex_cnn_w_se, alternative = \"two.sided\")\n",
        "dm_se_aex_w_har_lstm <- dm.test(aex_har_w_se, aex_lstm_w_se, alternative = \"two.sided\")\n",
        "dm_se_aex_w_har_gru <- dm.test(aex_har_w_se, aex_gru_w_se, alternative = \"two.sided\")\n",
        "dm_se_aex_w_fnn_har_fnn <- dm.test(aex_fnn_har_w_se, aex_fnn_w_se, alternative = \"two.sided\")\n",
        "dm_se_aex_w_fnn_har_cnn <- dm.test(aex_fnn_har_w_se, aex_cnn_w_se, alternative = \"two.sided\")\n",
        "dm_se_aex_w_fnn_har_lstm <- dm.test(aex_fnn_har_w_se, aex_lstm_w_se, alternative = \"two.sided\")\n",
        "dm_se_aex_w_fnn_har_gru <- dm.test(aex_fnn_har_w_se, aex_gru_w_se, alternative = \"two.sided\")\n",
        "dm_se_aex_w_fnn_cnn <- dm.test(aex_fnn_w_se, aex_cnn_w_se, alternative = \"two.sided\")\n",
        "dm_se_aex_w_fnn_lstm <- dm.test(aex_fnn_w_se, aex_lstm_w_se, alternative = \"two.sided\")\n",
        "dm_se_aex_w_fnn_gru <- dm.test(aex_fnn_w_se, aex_gru_w_se, alternative = \"two.sided\")\n",
        "dm_se_aex_w_cnn_lstm <- dm.test(aex_cnn_w_se, aex_lstm_w_se, alternative = \"two.sided\")\n",
        "dm_se_aex_w_cnn_gru <- dm.test(aex_cnn_w_se, aex_gru_w_se, alternative = \"two.sided\")\n",
        "dm_se_aex_w_lstm_gru <- dm.test(aex_lstm_w_se, aex_gru_w_se, alternative = \"two.sided\")\n",
        "\n",
        "dm_qlike_aex_w_har_fnn_har <- dm.test(aex_har_w_qlike, aex_fnn_har_w_qlike, alternative = \"two.sided\")\n",
        "dm_qlike_aex_w_har_fnn <- dm.test(aex_har_w_qlike, aex_fnn_w_qlike, alternative = \"two.sided\")\n",
        "dm_qlike_aex_w_har_cnn <- dm.test(aex_har_w_qlike, aex_cnn_w_qlike, alternative = \"two.sided\")\n",
        "dm_qlike_aex_w_har_lstm <- dm.test(aex_har_w_qlike, aex_lstm_w_qlike, alternative = \"two.sided\")\n",
        "dm_qlike_aex_w_har_gru <- dm.test(aex_har_w_qlike, aex_gru_w_qlike, alternative = \"two.sided\")\n",
        "dm_qlike_aex_w_fnn_har_fnn <- dm.test(aex_fnn_har_w_qlike, aex_fnn_w_qlike, alternative = \"two.sided\")\n",
        "dm_qlike_aex_w_fnn_har_cnn <- dm.test(aex_fnn_har_w_qlike, aex_cnn_w_qlike, alternative = \"two.sided\")\n",
        "dm_qlike_aex_w_fnn_har_lstm <- dm.test(aex_fnn_har_w_qlike, aex_lstm_w_qlike, alternative = \"two.sided\")\n",
        "dm_qlike_aex_w_fnn_har_gru <- dm.test(aex_fnn_har_w_qlike, aex_gru_w_qlike, alternative = \"two.sided\")\n",
        "dm_qlike_aex_w_fnn_cnn <- dm.test(aex_fnn_w_qlike, aex_cnn_w_qlike, alternative = \"two.sided\")\n",
        "dm_qlike_aex_w_fnn_lstm <- dm.test(aex_fnn_w_qlike, aex_lstm_w_qlike, alternative = \"two.sided\")\n",
        "dm_qlike_aex_w_fnn_gru <- dm.test(aex_fnn_w_qlike, aex_gru_w_qlike, alternative = \"two.sided\")\n",
        "dm_qlike_aex_w_cnn_lstm <- dm.test(aex_cnn_w_qlike, aex_lstm_w_qlike, alternative = \"two.sided\")\n",
        "dm_qlike_aex_w_cnn_gru <- dm.test(aex_cnn_w_qlike, aex_gru_w_qlike, alternative = \"two.sided\")\n",
        "dm_qlike_aex_w_lstm_gru <- dm.test(aex_lstm_w_qlike, aex_gru_w_qlike, alternative = \"two.sided\")"
      ],
      "metadata": {
        "id": "ZuQoKXp16-SL"
      },
      "execution_count": 38,
      "outputs": []
    },
    {
      "cell_type": "markdown",
      "source": [
        "##### HAR vs FNN-HAR"
      ],
      "metadata": {
        "id": "Zki0_2V06-SN"
      }
    },
    {
      "cell_type": "code",
      "source": [
        "print(dm_se_aex_w_har_fnn_har)"
      ],
      "metadata": {
        "colab": {
          "base_uri": "https://localhost:8080/"
        },
        "outputId": "d672d487-a84a-43c8-a85f-7ee6ba797108",
        "id": "WZtJB-TZ6-SN"
      },
      "execution_count": 39,
      "outputs": [
        {
          "output_type": "stream",
          "name": "stdout",
          "text": [
            "\n",
            "\tDiebold-Mariano Test\n",
            "\n",
            "data:  aex_har_w_seaex_fnn_har_w_se\n",
            "DM = 0.71925, Forecast horizon = 1, Loss function power = 2, p-value =\n",
            "0.4751\n",
            "alternative hypothesis: two.sided\n",
            "\n"
          ]
        }
      ]
    },
    {
      "cell_type": "code",
      "source": [
        "print(dm_qlike_aex_w_har_fnn_har)"
      ],
      "metadata": {
        "colab": {
          "base_uri": "https://localhost:8080/"
        },
        "outputId": "9a9dab7b-0c5d-4cba-c06a-3e79f482de22",
        "id": "FKpSrMxd6-SO"
      },
      "execution_count": 40,
      "outputs": [
        {
          "output_type": "stream",
          "name": "stdout",
          "text": [
            "\n",
            "\tDiebold-Mariano Test\n",
            "\n",
            "data:  aex_har_w_qlikeaex_fnn_har_w_qlike\n",
            "DM = -1.337, Forecast horizon = 1, Loss function power = 2, p-value =\n",
            "0.1868\n",
            "alternative hypothesis: two.sided\n",
            "\n"
          ]
        }
      ]
    },
    {
      "cell_type": "markdown",
      "source": [
        "##### HAR vs FNN"
      ],
      "metadata": {
        "id": "LW299rY_6-SP"
      }
    },
    {
      "cell_type": "code",
      "source": [
        "print(dm_se_aex_w_har_fnn)"
      ],
      "metadata": {
        "colab": {
          "base_uri": "https://localhost:8080/"
        },
        "outputId": "5cd53c45-20d2-46c3-e7c8-420f8ae4850b",
        "id": "Un0uj0XB6-SP"
      },
      "execution_count": 41,
      "outputs": [
        {
          "output_type": "stream",
          "name": "stdout",
          "text": [
            "\n",
            "\tDiebold-Mariano Test\n",
            "\n",
            "data:  aex_har_w_seaex_fnn_w_se\n",
            "DM = 0.57665, Forecast horizon = 1, Loss function power = 2, p-value =\n",
            "0.5666\n",
            "alternative hypothesis: two.sided\n",
            "\n"
          ]
        }
      ]
    },
    {
      "cell_type": "code",
      "source": [
        "print(dm_qlike_aex_w_har_fnn)"
      ],
      "metadata": {
        "colab": {
          "base_uri": "https://localhost:8080/"
        },
        "outputId": "f9ea5f6e-5d0c-450c-c6c5-4c16afc77266",
        "id": "D-Di-lz66-SQ"
      },
      "execution_count": 42,
      "outputs": [
        {
          "output_type": "stream",
          "name": "stdout",
          "text": [
            "\n",
            "\tDiebold-Mariano Test\n",
            "\n",
            "data:  aex_har_w_qlikeaex_fnn_w_qlike\n",
            "DM = -0.27092, Forecast horizon = 1, Loss function power = 2, p-value =\n",
            "0.7875\n",
            "alternative hypothesis: two.sided\n",
            "\n"
          ]
        }
      ]
    },
    {
      "cell_type": "markdown",
      "source": [
        "##### HAR vs CNN"
      ],
      "metadata": {
        "id": "WDtrMDA66-SQ"
      }
    },
    {
      "cell_type": "code",
      "source": [
        "print(dm_se_aex_w_har_cnn)"
      ],
      "metadata": {
        "colab": {
          "base_uri": "https://localhost:8080/"
        },
        "outputId": "083f89da-8f3a-4dd1-c733-e44319477616",
        "id": "QTzyJsv16-SR"
      },
      "execution_count": 43,
      "outputs": [
        {
          "output_type": "stream",
          "name": "stdout",
          "text": [
            "\n",
            "\tDiebold-Mariano Test\n",
            "\n",
            "data:  aex_har_w_seaex_cnn_w_se\n",
            "DM = 0.27637, Forecast horizon = 1, Loss function power = 2, p-value =\n",
            "0.7833\n",
            "alternative hypothesis: two.sided\n",
            "\n"
          ]
        }
      ]
    },
    {
      "cell_type": "code",
      "source": [
        "print(dm_qlike_aex_w_har_cnn)"
      ],
      "metadata": {
        "colab": {
          "base_uri": "https://localhost:8080/"
        },
        "outputId": "9239e1db-943a-41e1-d856-48dbd4d51dc1",
        "id": "6Xt6agxo6-SS"
      },
      "execution_count": 44,
      "outputs": [
        {
          "output_type": "stream",
          "name": "stdout",
          "text": [
            "\n",
            "\tDiebold-Mariano Test\n",
            "\n",
            "data:  aex_har_w_qlikeaex_cnn_w_qlike\n",
            "DM = 0.22404, Forecast horizon = 1, Loss function power = 2, p-value =\n",
            "0.8236\n",
            "alternative hypothesis: two.sided\n",
            "\n"
          ]
        }
      ]
    },
    {
      "cell_type": "markdown",
      "source": [
        "##### HAR vs LSTM"
      ],
      "metadata": {
        "id": "-FCO74Y36-SS"
      }
    },
    {
      "cell_type": "code",
      "source": [
        "print(dm_se_aex_w_har_lstm)"
      ],
      "metadata": {
        "colab": {
          "base_uri": "https://localhost:8080/"
        },
        "outputId": "3cdeb89c-991d-40b8-98dd-88f51dccba0b",
        "id": "ReYJOd1z6-ST"
      },
      "execution_count": 45,
      "outputs": [
        {
          "output_type": "stream",
          "name": "stdout",
          "text": [
            "\n",
            "\tDiebold-Mariano Test\n",
            "\n",
            "data:  aex_har_w_seaex_lstm_w_se\n",
            "DM = -2.1217, Forecast horizon = 1, Loss function power = 2, p-value =\n",
            "0.03847\n",
            "alternative hypothesis: two.sided\n",
            "\n"
          ]
        }
      ]
    },
    {
      "cell_type": "code",
      "source": [
        "print(dm_qlike_aex_w_har_lstm)"
      ],
      "metadata": {
        "colab": {
          "base_uri": "https://localhost:8080/"
        },
        "outputId": "baba8642-b1db-48a6-8ff4-1fe81788dfb7",
        "id": "5CFSOyfi6-ST"
      },
      "execution_count": 46,
      "outputs": [
        {
          "output_type": "stream",
          "name": "stdout",
          "text": [
            "\n",
            "\tDiebold-Mariano Test\n",
            "\n",
            "data:  aex_har_w_qlikeaex_lstm_w_qlike\n",
            "DM = 5.275, Forecast horizon = 1, Loss function power = 2, p-value =\n",
            "2.402e-06\n",
            "alternative hypothesis: two.sided\n",
            "\n"
          ]
        }
      ]
    },
    {
      "cell_type": "markdown",
      "source": [
        "##### HAR vs GRU"
      ],
      "metadata": {
        "id": "_4GvDsiv6-SU"
      }
    },
    {
      "cell_type": "code",
      "source": [
        "print(dm_se_aex_w_har_gru)"
      ],
      "metadata": {
        "colab": {
          "base_uri": "https://localhost:8080/"
        },
        "outputId": "be545aa0-9cec-4b0b-9903-8628ae7f5642",
        "id": "AeRbH-rh6-SU"
      },
      "execution_count": 47,
      "outputs": [
        {
          "output_type": "stream",
          "name": "stdout",
          "text": [
            "\n",
            "\tDiebold-Mariano Test\n",
            "\n",
            "data:  aex_har_w_seaex_gru_w_se\n",
            "DM = -2.0922, Forecast horizon = 1, Loss function power = 2, p-value =\n",
            "0.04113\n",
            "alternative hypothesis: two.sided\n",
            "\n"
          ]
        }
      ]
    },
    {
      "cell_type": "code",
      "source": [
        "print(dm_qlike_aex_w_har_gru)"
      ],
      "metadata": {
        "colab": {
          "base_uri": "https://localhost:8080/"
        },
        "outputId": "5d46b429-fb7c-4350-a8ed-2e972d970d5d",
        "id": "pft7wFzy6-SV"
      },
      "execution_count": 48,
      "outputs": [
        {
          "output_type": "stream",
          "name": "stdout",
          "text": [
            "\n",
            "\tDiebold-Mariano Test\n",
            "\n",
            "data:  aex_har_w_qlikeaex_gru_w_qlike\n",
            "DM = 4.1844, Forecast horizon = 1, Loss function power = 2, p-value =\n",
            "0.0001059\n",
            "alternative hypothesis: two.sided\n",
            "\n"
          ]
        }
      ]
    },
    {
      "cell_type": "markdown",
      "source": [
        "##### FNN-HAR vs FNN"
      ],
      "metadata": {
        "id": "98YDMqX_6-SW"
      }
    },
    {
      "cell_type": "code",
      "source": [
        "print(dm_se_aex_w_fnn_har_fnn)"
      ],
      "metadata": {
        "colab": {
          "base_uri": "https://localhost:8080/"
        },
        "outputId": "640d0c9a-e055-476c-c9ce-7d0da8ea3279",
        "id": "VX4tnQGP6-SW"
      },
      "execution_count": 49,
      "outputs": [
        {
          "output_type": "stream",
          "name": "stdout",
          "text": [
            "\n",
            "\tDiebold-Mariano Test\n",
            "\n",
            "data:  aex_fnn_har_w_seaex_fnn_w_se\n",
            "DM = -0.71602, Forecast horizon = 1, Loss function power = 2, p-value =\n",
            "0.4771\n",
            "alternative hypothesis: two.sided\n",
            "\n"
          ]
        }
      ]
    },
    {
      "cell_type": "code",
      "source": [
        "print(dm_qlike_aex_w_fnn_har_fnn)"
      ],
      "metadata": {
        "colab": {
          "base_uri": "https://localhost:8080/"
        },
        "outputId": "76ecbddb-0cd5-4b68-f785-17ec2b7cd812",
        "id": "OQNjS2WK6-SX"
      },
      "execution_count": 50,
      "outputs": [
        {
          "output_type": "stream",
          "name": "stdout",
          "text": [
            "\n",
            "\tDiebold-Mariano Test\n",
            "\n",
            "data:  aex_fnn_har_w_qlikeaex_fnn_w_qlike\n",
            "DM = 1.1039, Forecast horizon = 1, Loss function power = 2, p-value =\n",
            "0.2745\n",
            "alternative hypothesis: two.sided\n",
            "\n"
          ]
        }
      ]
    },
    {
      "cell_type": "markdown",
      "source": [
        "##### FNN-HAR vs CNN"
      ],
      "metadata": {
        "id": "9zkwi9t36-SX"
      }
    },
    {
      "cell_type": "code",
      "source": [
        "print(dm_se_aex_w_fnn_har_cnn)"
      ],
      "metadata": {
        "colab": {
          "base_uri": "https://localhost:8080/"
        },
        "outputId": "9a3eb8c7-85ba-49f5-8833-5fac0d2666ae",
        "id": "RqMhrU916-SY"
      },
      "execution_count": 51,
      "outputs": [
        {
          "output_type": "stream",
          "name": "stdout",
          "text": [
            "\n",
            "\tDiebold-Mariano Test\n",
            "\n",
            "data:  aex_fnn_har_w_seaex_cnn_w_se\n",
            "DM = -1.3297, Forecast horizon = 1, Loss function power = 2, p-value =\n",
            "0.1892\n",
            "alternative hypothesis: two.sided\n",
            "\n"
          ]
        }
      ]
    },
    {
      "cell_type": "code",
      "source": [
        "print(dm_qlike_aex_w_fnn_har_cnn)"
      ],
      "metadata": {
        "colab": {
          "base_uri": "https://localhost:8080/"
        },
        "outputId": "a3d70460-01d3-44da-86b3-020bf0e27d1f",
        "id": "a23WmPKu6-SY"
      },
      "execution_count": 52,
      "outputs": [
        {
          "output_type": "stream",
          "name": "stdout",
          "text": [
            "\n",
            "\tDiebold-Mariano Test\n",
            "\n",
            "data:  aex_fnn_har_w_qlikeaex_cnn_w_qlike\n",
            "DM = 1.8514, Forecast horizon = 1, Loss function power = 2, p-value =\n",
            "0.06959\n",
            "alternative hypothesis: two.sided\n",
            "\n"
          ]
        }
      ]
    },
    {
      "cell_type": "markdown",
      "source": [
        "##### FNN-HAR vs LSTM"
      ],
      "metadata": {
        "id": "UiREFMH76-SZ"
      }
    },
    {
      "cell_type": "code",
      "source": [
        "print(dm_se_aex_w_fnn_har_lstm)"
      ],
      "metadata": {
        "colab": {
          "base_uri": "https://localhost:8080/"
        },
        "outputId": "98531805-e734-4fa6-b1d8-235b6b9f364b",
        "id": "CFcgu0mC6-Sa"
      },
      "execution_count": 53,
      "outputs": [
        {
          "output_type": "stream",
          "name": "stdout",
          "text": [
            "\n",
            "\tDiebold-Mariano Test\n",
            "\n",
            "data:  aex_fnn_har_w_seaex_lstm_w_se\n",
            "DM = -2.1429, Forecast horizon = 1, Loss function power = 2, p-value =\n",
            "0.03665\n",
            "alternative hypothesis: two.sided\n",
            "\n"
          ]
        }
      ]
    },
    {
      "cell_type": "code",
      "source": [
        "print(dm_qlike_aex_w_fnn_har_lstm)"
      ],
      "metadata": {
        "colab": {
          "base_uri": "https://localhost:8080/"
        },
        "outputId": "86896dcc-b1b6-421e-ad0c-4453e455bc4a",
        "id": "kc25J2Ew6-Sa"
      },
      "execution_count": 54,
      "outputs": [
        {
          "output_type": "stream",
          "name": "stdout",
          "text": [
            "\n",
            "\tDiebold-Mariano Test\n",
            "\n",
            "data:  aex_fnn_har_w_qlikeaex_lstm_w_qlike\n",
            "DM = 4.579, Forecast horizon = 1, Loss function power = 2, p-value =\n",
            "2.789e-05\n",
            "alternative hypothesis: two.sided\n",
            "\n"
          ]
        }
      ]
    },
    {
      "cell_type": "markdown",
      "source": [
        "##### FNN-HAR vs GRU"
      ],
      "metadata": {
        "id": "zCTde9uO6-Sb"
      }
    },
    {
      "cell_type": "code",
      "source": [
        "print(dm_se_aex_w_fnn_har_gru)"
      ],
      "metadata": {
        "colab": {
          "base_uri": "https://localhost:8080/"
        },
        "outputId": "a1fc2c78-74fe-4db5-bd73-8f4ed9266627",
        "id": "jL8kY58r6-Sb"
      },
      "execution_count": 55,
      "outputs": [
        {
          "output_type": "stream",
          "name": "stdout",
          "text": [
            "\n",
            "\tDiebold-Mariano Test\n",
            "\n",
            "data:  aex_fnn_har_w_seaex_gru_w_se\n",
            "DM = -2.2718, Forecast horizon = 1, Loss function power = 2, p-value =\n",
            "0.0271\n",
            "alternative hypothesis: two.sided\n",
            "\n"
          ]
        }
      ]
    },
    {
      "cell_type": "code",
      "source": [
        "print(dm_qlike_aex_w_fnn_har_gru)"
      ],
      "metadata": {
        "colab": {
          "base_uri": "https://localhost:8080/"
        },
        "outputId": "4007714c-ef49-40cb-92a6-233fd97e7a84",
        "id": "IFmscXgm6-Sc"
      },
      "execution_count": 56,
      "outputs": [
        {
          "output_type": "stream",
          "name": "stdout",
          "text": [
            "\n",
            "\tDiebold-Mariano Test\n",
            "\n",
            "data:  aex_fnn_har_w_qlikeaex_gru_w_qlike\n",
            "DM = 4.1884, Forecast horizon = 1, Loss function power = 2, p-value =\n",
            "0.0001045\n",
            "alternative hypothesis: two.sided\n",
            "\n"
          ]
        }
      ]
    },
    {
      "cell_type": "markdown",
      "source": [
        "##### FNN vs CNN"
      ],
      "metadata": {
        "id": "1pUnnVKl6-Sd"
      }
    },
    {
      "cell_type": "code",
      "source": [
        "print(dm_se_aex_w_fnn_cnn)"
      ],
      "metadata": {
        "colab": {
          "base_uri": "https://localhost:8080/"
        },
        "outputId": "b609ba18-d715-4f2d-f5b6-9b103a06f141",
        "id": "b3SkKQ_h6-Sd"
      },
      "execution_count": 57,
      "outputs": [
        {
          "output_type": "stream",
          "name": "stdout",
          "text": [
            "\n",
            "\tDiebold-Mariano Test\n",
            "\n",
            "data:  aex_fnn_w_seaex_cnn_w_se\n",
            "DM = -0.2245, Forecast horizon = 1, Loss function power = 2, p-value =\n",
            "0.8232\n",
            "alternative hypothesis: two.sided\n",
            "\n"
          ]
        }
      ]
    },
    {
      "cell_type": "code",
      "source": [
        "print(dm_qlike_aex_w_fnn_cnn)"
      ],
      "metadata": {
        "colab": {
          "base_uri": "https://localhost:8080/"
        },
        "outputId": "8ed919de-7a98-4a11-b240-4c4575cab5a5",
        "id": "jlGuNUVn6-Sd"
      },
      "execution_count": 58,
      "outputs": [
        {
          "output_type": "stream",
          "name": "stdout",
          "text": [
            "\n",
            "\tDiebold-Mariano Test\n",
            "\n",
            "data:  aex_fnn_w_qlikeaex_cnn_w_qlike\n",
            "DM = 0.50687, Forecast horizon = 1, Loss function power = 2, p-value =\n",
            "0.6143\n",
            "alternative hypothesis: two.sided\n",
            "\n"
          ]
        }
      ]
    },
    {
      "cell_type": "markdown",
      "source": [
        "##### FNN vs LSTM"
      ],
      "metadata": {
        "id": "2rCUof9S6-Se"
      }
    },
    {
      "cell_type": "code",
      "source": [
        "print(dm_se_aex_w_fnn_lstm)"
      ],
      "metadata": {
        "colab": {
          "base_uri": "https://localhost:8080/"
        },
        "outputId": "5ae23f78-ae5e-4537-ba91-2f1e7c48aae2",
        "id": "CDstpcNw6-Se"
      },
      "execution_count": 59,
      "outputs": [
        {
          "output_type": "stream",
          "name": "stdout",
          "text": [
            "\n",
            "\tDiebold-Mariano Test\n",
            "\n",
            "data:  aex_fnn_w_seaex_lstm_w_se\n",
            "DM = -2.1328, Forecast horizon = 1, Loss function power = 2, p-value =\n",
            "0.0375\n",
            "alternative hypothesis: two.sided\n",
            "\n"
          ]
        }
      ]
    },
    {
      "cell_type": "code",
      "source": [
        "print(dm_qlike_aex_w_fnn_lstm)"
      ],
      "metadata": {
        "colab": {
          "base_uri": "https://localhost:8080/"
        },
        "outputId": "fc51b864-c733-4cbb-b6f6-6f63311fed19",
        "id": "LFJM0nxo6-Sf"
      },
      "execution_count": 60,
      "outputs": [
        {
          "output_type": "stream",
          "name": "stdout",
          "text": [
            "\n",
            "\tDiebold-Mariano Test\n",
            "\n",
            "data:  aex_fnn_w_qlikeaex_lstm_w_qlike\n",
            "DM = 3.7673, Forecast horizon = 1, Loss function power = 2, p-value =\n",
            "0.0004098\n",
            "alternative hypothesis: two.sided\n",
            "\n"
          ]
        }
      ]
    },
    {
      "cell_type": "markdown",
      "source": [
        "##### FNN vs GRU"
      ],
      "metadata": {
        "id": "hRhq9X8w6-Sf"
      }
    },
    {
      "cell_type": "code",
      "source": [
        "print(dm_se_aex_w_fnn_gru)"
      ],
      "metadata": {
        "colab": {
          "base_uri": "https://localhost:8080/"
        },
        "outputId": "57f76e36-4a8b-40d2-ab40-36b7ebc9565c",
        "id": "HXlqTnMj6-Sg"
      },
      "execution_count": 61,
      "outputs": [
        {
          "output_type": "stream",
          "name": "stdout",
          "text": [
            "\n",
            "\tDiebold-Mariano Test\n",
            "\n",
            "data:  aex_fnn_w_seaex_gru_w_se\n",
            "DM = -2.2109, Forecast horizon = 1, Loss function power = 2, p-value =\n",
            "0.0313\n",
            "alternative hypothesis: two.sided\n",
            "\n"
          ]
        }
      ]
    },
    {
      "cell_type": "code",
      "source": [
        "print(dm_qlike_aex_w_fnn_lstm)"
      ],
      "metadata": {
        "colab": {
          "base_uri": "https://localhost:8080/"
        },
        "outputId": "a9967a06-3f95-4f9f-8610-f7f4b294f024",
        "id": "RRNLkDOI6-Sg"
      },
      "execution_count": 62,
      "outputs": [
        {
          "output_type": "stream",
          "name": "stdout",
          "text": [
            "\n",
            "\tDiebold-Mariano Test\n",
            "\n",
            "data:  aex_fnn_w_qlikeaex_lstm_w_qlike\n",
            "DM = 3.7673, Forecast horizon = 1, Loss function power = 2, p-value =\n",
            "0.0004098\n",
            "alternative hypothesis: two.sided\n",
            "\n"
          ]
        }
      ]
    },
    {
      "cell_type": "markdown",
      "source": [
        "##### CNN vs LSTM"
      ],
      "metadata": {
        "id": "aQ8grXie6-Sh"
      }
    },
    {
      "cell_type": "code",
      "source": [
        "print(dm_se_aex_w_cnn_lstm)"
      ],
      "metadata": {
        "colab": {
          "base_uri": "https://localhost:8080/"
        },
        "outputId": "231621d9-0e67-4882-a9b3-0cad0367ebcf",
        "id": "Keu58ekm6-Sh"
      },
      "execution_count": 63,
      "outputs": [
        {
          "output_type": "stream",
          "name": "stdout",
          "text": [
            "\n",
            "\tDiebold-Mariano Test\n",
            "\n",
            "data:  aex_cnn_w_seaex_lstm_w_se\n",
            "DM = -2.1286, Forecast horizon = 1, Loss function power = 2, p-value =\n",
            "0.03786\n",
            "alternative hypothesis: two.sided\n",
            "\n"
          ]
        }
      ]
    },
    {
      "cell_type": "code",
      "source": [
        "print(dm_qlike_aex_w_cnn_lstm)"
      ],
      "metadata": {
        "colab": {
          "base_uri": "https://localhost:8080/"
        },
        "outputId": "331afecc-fb17-4717-ecd3-0b51fc242773",
        "id": "DZLOhWdI6-Si"
      },
      "execution_count": 64,
      "outputs": [
        {
          "output_type": "stream",
          "name": "stdout",
          "text": [
            "\n",
            "\tDiebold-Mariano Test\n",
            "\n",
            "data:  aex_cnn_w_qlikeaex_lstm_w_qlike\n",
            "DM = 3.7642, Forecast horizon = 1, Loss function power = 2, p-value =\n",
            "0.0004138\n",
            "alternative hypothesis: two.sided\n",
            "\n"
          ]
        }
      ]
    },
    {
      "cell_type": "markdown",
      "source": [
        "##### CNN vs GRU"
      ],
      "metadata": {
        "id": "P8bGBe_Z6-Sj"
      }
    },
    {
      "cell_type": "code",
      "source": [
        "print(dm_se_aex_w_cnn_gru)"
      ],
      "metadata": {
        "colab": {
          "base_uri": "https://localhost:8080/"
        },
        "outputId": "8fe05131-0df1-49e3-874b-e0ed3e335cdf",
        "id": "TcrcTI2w6-Sj"
      },
      "execution_count": 65,
      "outputs": [
        {
          "output_type": "stream",
          "name": "stdout",
          "text": [
            "\n",
            "\tDiebold-Mariano Test\n",
            "\n",
            "data:  aex_cnn_w_seaex_gru_w_se\n",
            "DM = -2.1638, Forecast horizon = 1, Loss function power = 2, p-value =\n",
            "0.03492\n",
            "alternative hypothesis: two.sided\n",
            "\n"
          ]
        }
      ]
    },
    {
      "cell_type": "code",
      "source": [
        "print(dm_qlike_aex_w_cnn_gru)"
      ],
      "metadata": {
        "colab": {
          "base_uri": "https://localhost:8080/"
        },
        "outputId": "77521e01-fbab-4dd6-8fed-4d27f4d38bfd",
        "id": "WKu7elKF6-Sk"
      },
      "execution_count": 66,
      "outputs": [
        {
          "output_type": "stream",
          "name": "stdout",
          "text": [
            "\n",
            "\tDiebold-Mariano Test\n",
            "\n",
            "data:  aex_cnn_w_qlikeaex_gru_w_qlike\n",
            "DM = 3.1495, Forecast horizon = 1, Loss function power = 2, p-value =\n",
            "0.002665\n",
            "alternative hypothesis: two.sided\n",
            "\n"
          ]
        }
      ]
    },
    {
      "cell_type": "markdown",
      "source": [
        "##### LSTM vs GRU"
      ],
      "metadata": {
        "id": "5TyL3YX16-Sm"
      }
    },
    {
      "cell_type": "code",
      "source": [
        "print(dm_se_aex_w_lstm_gru)"
      ],
      "metadata": {
        "colab": {
          "base_uri": "https://localhost:8080/"
        },
        "outputId": "4ca59d72-abf8-49a8-a250-411dba3bff79",
        "id": "rJ3SItAm6-Sq"
      },
      "execution_count": 67,
      "outputs": [
        {
          "output_type": "stream",
          "name": "stdout",
          "text": [
            "\n",
            "\tDiebold-Mariano Test\n",
            "\n",
            "data:  aex_lstm_w_seaex_gru_w_se\n",
            "DM = 1.7447, Forecast horizon = 1, Loss function power = 2, p-value =\n",
            "0.08673\n",
            "alternative hypothesis: two.sided\n",
            "\n"
          ]
        }
      ]
    },
    {
      "cell_type": "code",
      "source": [
        "print(dm_qlike_aex_w_lstm_gru)"
      ],
      "metadata": {
        "colab": {
          "base_uri": "https://localhost:8080/"
        },
        "outputId": "9e99b033-ef1e-4e25-ef80-adc470a63da6",
        "id": "k5vDvTR06-Sr"
      },
      "execution_count": 68,
      "outputs": [
        {
          "output_type": "stream",
          "name": "stdout",
          "text": [
            "\n",
            "\tDiebold-Mariano Test\n",
            "\n",
            "data:  aex_lstm_w_qlikeaex_gru_w_qlike\n",
            "DM = -0.69614, Forecast horizon = 1, Loss function power = 2, p-value =\n",
            "0.4893\n",
            "alternative hypothesis: two.sided\n",
            "\n"
          ]
        }
      ]
    },
    {
      "cell_type": "markdown",
      "source": [
        "#### Tests for the 1-month ahead forecast"
      ],
      "metadata": {
        "id": "XTOhE4zITM4q"
      }
    },
    {
      "cell_type": "code",
      "source": [
        "# MCS for squared-error loss\n",
        "\n",
        "errors_matrix_se <- cbind(aex_har_m_se, aex_fnn_har_m_se, aex_fnn_m_se, aex_cnn_m_se, aex_lstm_m_se, aex_gru_m_se)\n",
        "errors_matrix_qlike <- cbind(aex_har_m_qlike, aex_fnn_har_m_qlike, aex_fnn_m_qlike, aex_cnn_m_qlike, aex_lstm_m_qlike, aex_gru_m_qlike)\n",
        "\n",
        "# B is number of bootstrap replications\n",
        "mcs_result_aex_se_m <- MCSprocedure(errors_matrix_se, alpha = 0.05, B = 5000, statistic = \"Tmax\")\n",
        "\n",
        "mcs_result_aex_qlike_m <- MCSprocedure(errors_matrix_qlike, alpha = 0.05, B = 5000, statistic = \"Tmax\")"
      ],
      "metadata": {
        "colab": {
          "base_uri": "https://localhost:8080/"
        },
        "id": "TCwtLTZUPr2J",
        "outputId": "e03c2b85-22af-4fb6-b29f-73ff81883eb6"
      },
      "execution_count": 69,
      "outputs": [
        {
          "output_type": "stream",
          "name": "stdout",
          "text": [
            "\n",
            "###########################################################################################################################\n",
            "Superior Set Model created\t:\n",
            "                 Rank_M        v_M  MCS_M Rank_R        v_R  MCS_R         Loss\n",
            "aex_har_m_se          3 -0.2722190 1.0000      2  0.7515127 0.8936 7.303718e-10\n",
            "aex_fnn_har_m_se      4  0.3352243 0.9384      4  1.1732678 0.6854 7.576918e-10\n",
            "aex_fnn_m_se          5  0.4100489 0.9068      3  0.9943352 0.7932 7.678510e-10\n",
            "aex_cnn_m_se          6  1.5162917 0.2370      6  2.1619681 0.1386 8.221302e-10\n",
            "aex_lstm_m_se         2 -1.4297997 1.0000      5  1.2662080 0.6074 7.180229e-10\n",
            "aex_gru_m_se          1 -1.6732212 1.0000      1 -0.7515127 1.0000 6.934362e-10\n",
            "p-value\t:\n",
            "[1] 0.237\n",
            "\n",
            "###########################################################################################################################\n",
            "###########################################################################################################################\n",
            "Superior Set Model created\t:\n",
            "                    Rank_M        v_M  MCS_M Rank_R        v_R  MCS_R      Loss\n",
            "aex_har_m_qlike          2 -1.2850520 1.0000      2  0.2221234 0.9992 -9.556378\n",
            "aex_fnn_har_m_qlike      1 -1.5438282 1.0000      1 -0.2221234 1.0000 -9.558480\n",
            "aex_fnn_m_qlike          5  1.0302916 0.6066      4  1.2892847 0.6738 -9.501761\n",
            "aex_cnn_m_qlike          6  1.4937821 0.2576      6  1.6204033 0.4210 -9.499893\n",
            "aex_lstm_m_qlike         4  0.6594696 0.8064      5  1.5008052 0.5078 -9.523873\n",
            "aex_gru_m_qlike          3 -0.7294726 1.0000      3  1.2171573 0.7258 -9.537330\n",
            "p-value\t:\n",
            "[1] 0.2576\n",
            "\n",
            "###########################################################################################################################"
          ]
        }
      ]
    },
    {
      "cell_type": "code",
      "source": [
        "# Diebold-Mariano test\n",
        "\n",
        "dm_se_aex_m_har_fnn_har <- dm.test(aex_har_m_se, aex_fnn_har_m_se, alternative = \"two.sided\")\n",
        "dm_se_aex_m_har_fnn <- dm.test(aex_har_m_se, aex_fnn_m_se, alternative = \"two.sided\")\n",
        "dm_se_aex_m_har_cnn <- dm.test(aex_har_m_se, aex_cnn_m_se, alternative = \"two.sided\")\n",
        "dm_se_aex_m_har_lstm <- dm.test(aex_har_m_se, aex_lstm_m_se, alternative = \"two.sided\")\n",
        "dm_se_aex_m_har_gru <- dm.test(aex_har_m_se, aex_gru_m_se, alternative = \"two.sided\")\n",
        "dm_se_aex_m_fnn_har_fnn <- dm.test(aex_fnn_har_m_se, aex_fnn_m_se, alternative = \"two.sided\")\n",
        "dm_se_aex_m_fnn_har_cnn <- dm.test(aex_fnn_har_m_se, aex_cnn_m_se, alternative = \"two.sided\")\n",
        "dm_se_aex_m_fnn_har_lstm <- dm.test(aex_fnn_har_m_se, aex_lstm_m_se, alternative = \"two.sided\")\n",
        "dm_se_aex_m_fnn_har_gru <- dm.test(aex_fnn_har_m_se, aex_gru_m_se, alternative = \"two.sided\")\n",
        "dm_se_aex_m_fnn_cnn <- dm.test(aex_fnn_m_se, aex_cnn_m_se, alternative = \"two.sided\")\n",
        "dm_se_aex_m_fnn_lstm <- dm.test(aex_fnn_m_se, aex_lstm_m_se, alternative = \"two.sided\")\n",
        "dm_se_aex_m_fnn_gru <- dm.test(aex_fnn_m_se, aex_gru_m_se, alternative = \"two.sided\")\n",
        "dm_se_aex_m_cnn_lstm <- dm.test(aex_cnn_m_se, aex_lstm_m_se, alternative = \"two.sided\")\n",
        "dm_se_aex_m_cnn_gru <- dm.test(aex_cnn_m_se, aex_gru_m_se, alternative = \"two.sided\")\n",
        "dm_se_aex_m_lstm_gru <- dm.test(aex_lstm_m_se, aex_gru_m_se, alternative = \"two.sided\")\n",
        "\n",
        "dm_qlike_aex_m_har_fnn_har <- dm.test(aex_har_m_qlike, aex_fnn_har_m_qlike, alternative = \"two.sided\")\n",
        "dm_qlike_aex_m_har_fnn <- dm.test(aex_har_m_qlike, aex_fnn_m_qlike, alternative = \"two.sided\")\n",
        "dm_qlike_aex_m_har_cnn <- dm.test(aex_har_m_qlike, aex_cnn_m_qlike, alternative = \"two.sided\")\n",
        "dm_qlike_aex_m_har_lstm <- dm.test(aex_har_m_qlike, aex_lstm_m_qlike, alternative = \"two.sided\")\n",
        "dm_qlike_aex_m_har_gru <- dm.test(aex_har_m_qlike, aex_gru_m_qlike, alternative = \"two.sided\")\n",
        "dm_qlike_aex_m_fnn_har_fnn <- dm.test(aex_fnn_har_m_qlike, aex_fnn_m_qlike, alternative = \"two.sided\")\n",
        "dm_qlike_aex_m_fnn_har_cnn <- dm.test(aex_fnn_har_m_qlike, aex_cnn_m_qlike, alternative = \"two.sided\")\n",
        "dm_qlike_aex_m_fnn_har_lstm <- dm.test(aex_fnn_har_m_qlike, aex_lstm_m_qlike, alternative = \"two.sided\")\n",
        "dm_qlike_aex_m_fnn_har_gru <- dm.test(aex_fnn_har_m_qlike, aex_gru_m_qlike, alternative = \"two.sided\")\n",
        "dm_qlike_aex_m_fnn_cnn <- dm.test(aex_fnn_m_qlike, aex_cnn_m_qlike, alternative = \"two.sided\")\n",
        "dm_qlike_aex_m_fnn_lstm <- dm.test(aex_fnn_m_qlike, aex_lstm_m_qlike, alternative = \"two.sided\")\n",
        "dm_qlike_aex_m_fnn_gru <- dm.test(aex_fnn_m_qlike, aex_gru_m_qlike, alternative = \"two.sided\")\n",
        "dm_qlike_aex_m_cnn_lstm <- dm.test(aex_cnn_m_qlike, aex_lstm_m_qlike, alternative = \"two.sided\")\n",
        "dm_qlike_aex_m_cnn_gru <- dm.test(aex_cnn_m_qlike, aex_gru_m_qlike, alternative = \"two.sided\")\n",
        "dm_qlike_aex_m_lstm_gru <- dm.test(aex_lstm_m_qlike, aex_gru_m_qlike, alternative = \"two.sided\")"
      ],
      "metadata": {
        "id": "HfDfD6KiOVyh"
      },
      "execution_count": 70,
      "outputs": []
    },
    {
      "cell_type": "markdown",
      "source": [
        "##### HAR vs FNN-HAR"
      ],
      "metadata": {
        "id": "tCeapUV8TqsO"
      }
    },
    {
      "cell_type": "code",
      "source": [
        "print(dm_se_aex_m_har_fnn_har)"
      ],
      "metadata": {
        "colab": {
          "base_uri": "https://localhost:8080/"
        },
        "id": "2hiFQBtkT0wO",
        "outputId": "b5beb159-cccd-4a9c-a7c1-1bf1b5c9afe5"
      },
      "execution_count": 71,
      "outputs": [
        {
          "output_type": "stream",
          "name": "stdout",
          "text": [
            "\n",
            "\tDiebold-Mariano Test\n",
            "\n",
            "data:  aex_har_m_seaex_fnn_har_m_se\n",
            "DM = -1.6568, Forecast horizon = 1, Loss function power = 2, p-value =\n",
            "0.09899\n",
            "alternative hypothesis: two.sided\n",
            "\n"
          ]
        }
      ]
    },
    {
      "cell_type": "code",
      "source": [
        "print(dm_qlike_aex_m_har_fnn_har)"
      ],
      "metadata": {
        "colab": {
          "base_uri": "https://localhost:8080/"
        },
        "id": "51zDIwniP9QJ",
        "outputId": "a7d355ff-1ca5-401f-87fd-5379e9af7473"
      },
      "execution_count": 72,
      "outputs": [
        {
          "output_type": "stream",
          "name": "stdout",
          "text": [
            "\n",
            "\tDiebold-Mariano Test\n",
            "\n",
            "data:  aex_har_m_qlikeaex_fnn_har_m_qlike\n",
            "DM = -0.97296, Forecast horizon = 1, Loss function power = 2, p-value =\n",
            "0.3316\n",
            "alternative hypothesis: two.sided\n",
            "\n"
          ]
        }
      ]
    },
    {
      "cell_type": "markdown",
      "source": [
        "##### HAR vs FNN"
      ],
      "metadata": {
        "id": "PQKc2CKpUHZi"
      }
    },
    {
      "cell_type": "code",
      "source": [
        "print(dm_se_aex_m_har_fnn)"
      ],
      "metadata": {
        "colab": {
          "base_uri": "https://localhost:8080/"
        },
        "id": "tER7QZRSQkpp",
        "outputId": "90deb41c-79d3-4a8a-c3c4-e457e5561db1"
      },
      "execution_count": 73,
      "outputs": [
        {
          "output_type": "stream",
          "name": "stdout",
          "text": [
            "\n",
            "\tDiebold-Mariano Test\n",
            "\n",
            "data:  aex_har_m_seaex_fnn_m_se\n",
            "DM = -1.2612, Forecast horizon = 1, Loss function power = 2, p-value =\n",
            "0.2086\n",
            "alternative hypothesis: two.sided\n",
            "\n"
          ]
        }
      ]
    },
    {
      "cell_type": "code",
      "source": [
        "print(dm_qlike_aex_m_har_fnn)"
      ],
      "metadata": {
        "colab": {
          "base_uri": "https://localhost:8080/"
        },
        "id": "fh_CVO48UNd8",
        "outputId": "134144d3-5b4c-4cab-e4ab-f1c867c1edca"
      },
      "execution_count": 74,
      "outputs": [
        {
          "output_type": "stream",
          "name": "stdout",
          "text": [
            "\n",
            "\tDiebold-Mariano Test\n",
            "\n",
            "data:  aex_har_m_qlikeaex_fnn_m_qlike\n",
            "DM = 0.67402, Forecast horizon = 1, Loss function power = 2, p-value =\n",
            "0.501\n",
            "alternative hypothesis: two.sided\n",
            "\n"
          ]
        }
      ]
    },
    {
      "cell_type": "markdown",
      "source": [
        "##### HAR vs CNN"
      ],
      "metadata": {
        "id": "1gZdpoZkUUEs"
      }
    },
    {
      "cell_type": "code",
      "source": [
        "print(dm_se_aex_m_har_cnn)"
      ],
      "metadata": {
        "colab": {
          "base_uri": "https://localhost:8080/"
        },
        "id": "TzVETj-gUPD_",
        "outputId": "4c7d9504-4488-4752-a5e0-696d4d83028f"
      },
      "execution_count": 75,
      "outputs": [
        {
          "output_type": "stream",
          "name": "stdout",
          "text": [
            "\n",
            "\tDiebold-Mariano Test\n",
            "\n",
            "data:  aex_har_m_seaex_cnn_m_se\n",
            "DM = -1.3096, Forecast horizon = 1, Loss function power = 2, p-value =\n",
            "0.1917\n",
            "alternative hypothesis: two.sided\n",
            "\n"
          ]
        }
      ]
    },
    {
      "cell_type": "code",
      "source": [
        "print(dm_qlike_aex_m_har_cnn)"
      ],
      "metadata": {
        "colab": {
          "base_uri": "https://localhost:8080/"
        },
        "id": "nuSCzQS5Ud5F",
        "outputId": "b8ff48a7-a496-44eb-80a7-a2e60964cad0"
      },
      "execution_count": 76,
      "outputs": [
        {
          "output_type": "stream",
          "name": "stdout",
          "text": [
            "\n",
            "\tDiebold-Mariano Test\n",
            "\n",
            "data:  aex_har_m_qlikeaex_cnn_m_qlike\n",
            "DM = 1.6114, Forecast horizon = 1, Loss function power = 2, p-value =\n",
            "0.1085\n",
            "alternative hypothesis: two.sided\n",
            "\n"
          ]
        }
      ]
    },
    {
      "cell_type": "markdown",
      "source": [
        "##### HAR vs LSTM"
      ],
      "metadata": {
        "id": "3ZXSp2u6UjL8"
      }
    },
    {
      "cell_type": "code",
      "source": [
        "print(dm_se_aex_m_har_lstm)"
      ],
      "metadata": {
        "colab": {
          "base_uri": "https://localhost:8080/"
        },
        "id": "OX6CwlA0UgVJ",
        "outputId": "e3b18d3f-52cd-434b-e311-1a33b7b5ea1c"
      },
      "execution_count": 77,
      "outputs": [
        {
          "output_type": "stream",
          "name": "stdout",
          "text": [
            "\n",
            "\tDiebold-Mariano Test\n",
            "\n",
            "data:  aex_har_m_seaex_lstm_m_se\n",
            "DM = -1.1569, Forecast horizon = 1, Loss function power = 2, p-value =\n",
            "0.2486\n",
            "alternative hypothesis: two.sided\n",
            "\n"
          ]
        }
      ]
    },
    {
      "cell_type": "code",
      "source": [
        "print(dm_qlike_aex_m_har_lstm)"
      ],
      "metadata": {
        "colab": {
          "base_uri": "https://localhost:8080/"
        },
        "id": "67BUz-tAUpBW",
        "outputId": "aed180dc-3af2-41f4-e480-bbd13530671d"
      },
      "execution_count": 78,
      "outputs": [
        {
          "output_type": "stream",
          "name": "stdout",
          "text": [
            "\n",
            "\tDiebold-Mariano Test\n",
            "\n",
            "data:  aex_har_m_qlikeaex_lstm_m_qlike\n",
            "DM = 1.6164, Forecast horizon = 1, Loss function power = 2, p-value =\n",
            "0.1075\n",
            "alternative hypothesis: two.sided\n",
            "\n"
          ]
        }
      ]
    },
    {
      "cell_type": "markdown",
      "source": [
        "##### HAR vs GRU"
      ],
      "metadata": {
        "id": "06Yji_oVUu6M"
      }
    },
    {
      "cell_type": "code",
      "source": [
        "print(dm_se_aex_m_har_gru)"
      ],
      "metadata": {
        "colab": {
          "base_uri": "https://localhost:8080/"
        },
        "id": "s53oVPtZUrPm",
        "outputId": "66ffffbd-2cba-49dd-882e-d1cd31feee4b"
      },
      "execution_count": 79,
      "outputs": [
        {
          "output_type": "stream",
          "name": "stdout",
          "text": [
            "\n",
            "\tDiebold-Mariano Test\n",
            "\n",
            "data:  aex_har_m_seaex_gru_m_se\n",
            "DM = -1.1382, Forecast horizon = 1, Loss function power = 2, p-value =\n",
            "0.2563\n",
            "alternative hypothesis: two.sided\n",
            "\n"
          ]
        }
      ]
    },
    {
      "cell_type": "code",
      "source": [
        "print(dm_qlike_aex_m_har_gru)"
      ],
      "metadata": {
        "colab": {
          "base_uri": "https://localhost:8080/"
        },
        "id": "EJy55mhcU1BE",
        "outputId": "ebd4be24-1692-4102-f6f0-b89debbfd759"
      },
      "execution_count": 80,
      "outputs": [
        {
          "output_type": "stream",
          "name": "stdout",
          "text": [
            "\n",
            "\tDiebold-Mariano Test\n",
            "\n",
            "data:  aex_har_m_qlikeaex_gru_m_qlike\n",
            "DM = 0.75431, Forecast horizon = 1, Loss function power = 2, p-value =\n",
            "0.4515\n",
            "alternative hypothesis: two.sided\n",
            "\n"
          ]
        }
      ]
    },
    {
      "cell_type": "markdown",
      "source": [
        "##### FNN-HAR vs FNN"
      ],
      "metadata": {
        "id": "1KurrmHSU4IP"
      }
    },
    {
      "cell_type": "code",
      "source": [
        "print(dm_se_aex_m_fnn_har_fnn)"
      ],
      "metadata": {
        "colab": {
          "base_uri": "https://localhost:8080/"
        },
        "id": "fgHwTOG7U2KO",
        "outputId": "068e4683-26c9-4ed0-d5ae-430a21471729"
      },
      "execution_count": 81,
      "outputs": [
        {
          "output_type": "stream",
          "name": "stdout",
          "text": [
            "\n",
            "\tDiebold-Mariano Test\n",
            "\n",
            "data:  aex_fnn_har_m_seaex_fnn_m_se\n",
            "DM = -1.1283, Forecast horizon = 1, Loss function power = 2, p-value =\n",
            "0.2604\n",
            "alternative hypothesis: two.sided\n",
            "\n"
          ]
        }
      ]
    },
    {
      "cell_type": "code",
      "source": [
        "print(dm_qlike_aex_m_fnn_har_fnn)"
      ],
      "metadata": {
        "colab": {
          "base_uri": "https://localhost:8080/"
        },
        "id": "LacJZMs5VD7J",
        "outputId": "44e6ece2-621a-4330-ecfc-f2b1c8f31799"
      },
      "execution_count": 82,
      "outputs": [
        {
          "output_type": "stream",
          "name": "stdout",
          "text": [
            "\n",
            "\tDiebold-Mariano Test\n",
            "\n",
            "data:  aex_fnn_har_m_qlikeaex_fnn_m_qlike\n",
            "DM = 1.6164, Forecast horizon = 1, Loss function power = 2, p-value =\n",
            "0.1074\n",
            "alternative hypothesis: two.sided\n",
            "\n"
          ]
        }
      ]
    },
    {
      "cell_type": "markdown",
      "source": [
        "##### FNN-HAR vs CNN"
      ],
      "metadata": {
        "id": "ff2xUZ_kWJgq"
      }
    },
    {
      "cell_type": "code",
      "source": [
        "print(dm_se_aex_m_fnn_har_cnn)"
      ],
      "metadata": {
        "colab": {
          "base_uri": "https://localhost:8080/"
        },
        "id": "jp5rf2-xWL9l",
        "outputId": "9a5c7570-b5c2-4674-9576-89796745ecfe"
      },
      "execution_count": 83,
      "outputs": [
        {
          "output_type": "stream",
          "name": "stdout",
          "text": [
            "\n",
            "\tDiebold-Mariano Test\n",
            "\n",
            "data:  aex_fnn_har_m_seaex_cnn_m_se\n",
            "DM = -1.156, Forecast horizon = 1, Loss function power = 2, p-value =\n",
            "0.249\n",
            "alternative hypothesis: two.sided\n",
            "\n"
          ]
        }
      ]
    },
    {
      "cell_type": "code",
      "source": [
        "print(dm_qlike_aex_m_fnn_har_cnn)"
      ],
      "metadata": {
        "colab": {
          "base_uri": "https://localhost:8080/"
        },
        "id": "yeczreBTWPZ9",
        "outputId": "770ea251-527d-4728-f88e-8d4f907db8e9"
      },
      "execution_count": 84,
      "outputs": [
        {
          "output_type": "stream",
          "name": "stdout",
          "text": [
            "\n",
            "\tDiebold-Mariano Test\n",
            "\n",
            "data:  aex_fnn_har_m_qlikeaex_cnn_m_qlike\n",
            "DM = 2.6615, Forecast horizon = 1, Loss function power = 2, p-value =\n",
            "0.008355\n",
            "alternative hypothesis: two.sided\n",
            "\n"
          ]
        }
      ]
    },
    {
      "cell_type": "markdown",
      "source": [
        "##### FNN-HAR vs LSTM"
      ],
      "metadata": {
        "id": "UjVSZ1OaWTCo"
      }
    },
    {
      "cell_type": "code",
      "source": [
        "print(dm_se_aex_m_fnn_har_lstm)"
      ],
      "metadata": {
        "colab": {
          "base_uri": "https://localhost:8080/"
        },
        "id": "9Y3jIy1RWWBL",
        "outputId": "0c5d2aba-4649-4462-ed3c-cb1919391dcd"
      },
      "execution_count": 85,
      "outputs": [
        {
          "output_type": "stream",
          "name": "stdout",
          "text": [
            "\n",
            "\tDiebold-Mariano Test\n",
            "\n",
            "data:  aex_fnn_har_m_seaex_lstm_m_se\n",
            "DM = -0.96506, Forecast horizon = 1, Loss function power = 2, p-value =\n",
            "0.3356\n",
            "alternative hypothesis: two.sided\n",
            "\n"
          ]
        }
      ]
    },
    {
      "cell_type": "code",
      "source": [
        "print(dm_qlike_aex_m_fnn_har_lstm)"
      ],
      "metadata": {
        "colab": {
          "base_uri": "https://localhost:8080/"
        },
        "id": "Eg5s0JUwWYl4",
        "outputId": "78355f8b-6073-4ca9-d44f-ce62ef9968df"
      },
      "execution_count": 86,
      "outputs": [
        {
          "output_type": "stream",
          "name": "stdout",
          "text": [
            "\n",
            "\tDiebold-Mariano Test\n",
            "\n",
            "data:  aex_fnn_har_m_qlikeaex_lstm_m_qlike\n",
            "DM = 2.1759, Forecast horizon = 1, Loss function power = 2, p-value =\n",
            "0.03063\n",
            "alternative hypothesis: two.sided\n",
            "\n"
          ]
        }
      ]
    },
    {
      "cell_type": "markdown",
      "source": [
        "##### FNN-HAR vs GRU"
      ],
      "metadata": {
        "id": "i2TBjEbQWamN"
      }
    },
    {
      "cell_type": "code",
      "source": [
        "print(dm_se_aex_m_fnn_har_gru)"
      ],
      "metadata": {
        "colab": {
          "base_uri": "https://localhost:8080/"
        },
        "id": "3-Z-7miHWdK-",
        "outputId": "3ff0ba55-03b5-43ee-c007-852b0be6359b"
      },
      "execution_count": 87,
      "outputs": [
        {
          "output_type": "stream",
          "name": "stdout",
          "text": [
            "\n",
            "\tDiebold-Mariano Test\n",
            "\n",
            "data:  aex_fnn_har_m_seaex_gru_m_se\n",
            "DM = -0.85799, Forecast horizon = 1, Loss function power = 2, p-value =\n",
            "0.3918\n",
            "alternative hypothesis: two.sided\n",
            "\n"
          ]
        }
      ]
    },
    {
      "cell_type": "code",
      "source": [
        "print(dm_qlike_aex_m_fnn_har_gru)"
      ],
      "metadata": {
        "colab": {
          "base_uri": "https://localhost:8080/"
        },
        "id": "3iOa3XgUWj4k",
        "outputId": "9db1342a-95c9-4849-898b-7b61008673af"
      },
      "execution_count": 88,
      "outputs": [
        {
          "output_type": "stream",
          "name": "stdout",
          "text": [
            "\n",
            "\tDiebold-Mariano Test\n",
            "\n",
            "data:  aex_fnn_har_m_qlikeaex_gru_m_qlike\n",
            "DM = 1.5672, Forecast horizon = 1, Loss function power = 2, p-value =\n",
            "0.1185\n",
            "alternative hypothesis: two.sided\n",
            "\n"
          ]
        }
      ]
    },
    {
      "cell_type": "markdown",
      "source": [
        "##### FNN vs CNN"
      ],
      "metadata": {
        "id": "li5XTP9sWmCu"
      }
    },
    {
      "cell_type": "code",
      "source": [
        "print(dm_se_aex_m_fnn_cnn)"
      ],
      "metadata": {
        "colab": {
          "base_uri": "https://localhost:8080/"
        },
        "id": "k_uZS3fAWodh",
        "outputId": "4330b889-f541-4224-fe6f-401fdb9cf2a5"
      },
      "execution_count": 89,
      "outputs": [
        {
          "output_type": "stream",
          "name": "stdout",
          "text": [
            "\n",
            "\tDiebold-Mariano Test\n",
            "\n",
            "data:  aex_fnn_m_seaex_cnn_m_se\n",
            "DM = 0.8682, Forecast horizon = 1, Loss function power = 2, p-value =\n",
            "0.3862\n",
            "alternative hypothesis: two.sided\n",
            "\n"
          ]
        }
      ]
    },
    {
      "cell_type": "code",
      "source": [
        "print(dm_qlike_aex_m_fnn_cnn)"
      ],
      "metadata": {
        "colab": {
          "base_uri": "https://localhost:8080/"
        },
        "id": "OxbJLymhWuvd",
        "outputId": "e8b9e417-ebab-49e8-9877-d30915d3d860"
      },
      "execution_count": 90,
      "outputs": [
        {
          "output_type": "stream",
          "name": "stdout",
          "text": [
            "\n",
            "\tDiebold-Mariano Test\n",
            "\n",
            "data:  aex_fnn_m_qlikeaex_cnn_m_qlike\n",
            "DM = 1.1462, Forecast horizon = 1, Loss function power = 2, p-value =\n",
            "0.253\n",
            "alternative hypothesis: two.sided\n",
            "\n"
          ]
        }
      ]
    },
    {
      "cell_type": "markdown",
      "source": [
        "##### FNN vs LSTM"
      ],
      "metadata": {
        "id": "IfU3XTi0Wy7k"
      }
    },
    {
      "cell_type": "code",
      "source": [
        "print(dm_se_aex_m_fnn_lstm)"
      ],
      "metadata": {
        "colab": {
          "base_uri": "https://localhost:8080/"
        },
        "id": "9Y7ee-8FW0pD",
        "outputId": "c0fe915f-3e28-4c1b-d96d-912fd8e530bc"
      },
      "execution_count": 91,
      "outputs": [
        {
          "output_type": "stream",
          "name": "stdout",
          "text": [
            "\n",
            "\tDiebold-Mariano Test\n",
            "\n",
            "data:  aex_fnn_m_seaex_lstm_m_se\n",
            "DM = 1.4326, Forecast horizon = 1, Loss function power = 2, p-value =\n",
            "0.1534\n",
            "alternative hypothesis: two.sided\n",
            "\n"
          ]
        }
      ]
    },
    {
      "cell_type": "code",
      "source": [
        "print(dm_qlike_aex_m_fnn_lstm)"
      ],
      "metadata": {
        "colab": {
          "base_uri": "https://localhost:8080/"
        },
        "id": "hL3lS8RiW300",
        "outputId": "f67fecc6-ae5d-4e02-af28-d1974db0395f"
      },
      "execution_count": 92,
      "outputs": [
        {
          "output_type": "stream",
          "name": "stdout",
          "text": [
            "\n",
            "\tDiebold-Mariano Test\n",
            "\n",
            "data:  aex_fnn_m_qlikeaex_lstm_m_qlike\n",
            "DM = 0.26076, Forecast horizon = 1, Loss function power = 2, p-value =\n",
            "0.7945\n",
            "alternative hypothesis: two.sided\n",
            "\n"
          ]
        }
      ]
    },
    {
      "cell_type": "markdown",
      "source": [
        "##### FNN vs GRU"
      ],
      "metadata": {
        "id": "7ZpIO58BW8_w"
      }
    },
    {
      "cell_type": "code",
      "source": [
        "print(dm_se_aex_m_fnn_gru)"
      ],
      "metadata": {
        "colab": {
          "base_uri": "https://localhost:8080/"
        },
        "id": "rUX7mzkBW-3M",
        "outputId": "f3cf115e-3ef2-4a33-ff69-98dad774b610"
      },
      "execution_count": 93,
      "outputs": [
        {
          "output_type": "stream",
          "name": "stdout",
          "text": [
            "\n",
            "\tDiebold-Mariano Test\n",
            "\n",
            "data:  aex_fnn_m_seaex_gru_m_se\n",
            "DM = 1.3661, Forecast horizon = 1, Loss function power = 2, p-value =\n",
            "0.1733\n",
            "alternative hypothesis: two.sided\n",
            "\n"
          ]
        }
      ]
    },
    {
      "cell_type": "code",
      "source": [
        "print(dm_qlike_aex_m_fnn_lstm)"
      ],
      "metadata": {
        "colab": {
          "base_uri": "https://localhost:8080/"
        },
        "id": "t17qu5WLXA6b",
        "outputId": "9a793a0b-edd2-4c65-e1e4-97a56160f99e"
      },
      "execution_count": 94,
      "outputs": [
        {
          "output_type": "stream",
          "name": "stdout",
          "text": [
            "\n",
            "\tDiebold-Mariano Test\n",
            "\n",
            "data:  aex_fnn_m_qlikeaex_lstm_m_qlike\n",
            "DM = 0.26076, Forecast horizon = 1, Loss function power = 2, p-value =\n",
            "0.7945\n",
            "alternative hypothesis: two.sided\n",
            "\n"
          ]
        }
      ]
    },
    {
      "cell_type": "markdown",
      "source": [
        "##### CNN vs LSTM"
      ],
      "metadata": {
        "id": "6g4D-MyfXCl-"
      }
    },
    {
      "cell_type": "code",
      "source": [
        "print(dm_se_aex_m_cnn_lstm)"
      ],
      "metadata": {
        "colab": {
          "base_uri": "https://localhost:8080/"
        },
        "id": "peUsImehXFtz",
        "outputId": "9c556fc1-720e-4799-8351-0e0890daf939"
      },
      "execution_count": 95,
      "outputs": [
        {
          "output_type": "stream",
          "name": "stdout",
          "text": [
            "\n",
            "\tDiebold-Mariano Test\n",
            "\n",
            "data:  aex_cnn_m_seaex_lstm_m_se\n",
            "DM = 1.3994, Forecast horizon = 1, Loss function power = 2, p-value =\n",
            "0.1631\n",
            "alternative hypothesis: two.sided\n",
            "\n"
          ]
        }
      ]
    },
    {
      "cell_type": "code",
      "source": [
        "print(dm_qlike_aex_m_cnn_lstm)"
      ],
      "metadata": {
        "colab": {
          "base_uri": "https://localhost:8080/"
        },
        "id": "YqLCU6paXICO",
        "outputId": "1b5de073-c820-4631-81db-624fa3c52b5a"
      },
      "execution_count": 96,
      "outputs": [
        {
          "output_type": "stream",
          "name": "stdout",
          "text": [
            "\n",
            "\tDiebold-Mariano Test\n",
            "\n",
            "data:  aex_cnn_m_qlikeaex_lstm_m_qlike\n",
            "DM = -0.74996, Forecast horizon = 1, Loss function power = 2, p-value =\n",
            "0.4541\n",
            "alternative hypothesis: two.sided\n",
            "\n"
          ]
        }
      ]
    },
    {
      "cell_type": "markdown",
      "source": [
        "##### CNN vs GRU"
      ],
      "metadata": {
        "id": "lVvxbnGBXKZh"
      }
    },
    {
      "cell_type": "code",
      "source": [
        "print(dm_se_aex_m_cnn_gru)"
      ],
      "metadata": {
        "colab": {
          "base_uri": "https://localhost:8080/"
        },
        "id": "wEr0gFcjXMIv",
        "outputId": "3217a338-2bf3-4ebd-e358-7e9b90f06120"
      },
      "execution_count": 97,
      "outputs": [
        {
          "output_type": "stream",
          "name": "stdout",
          "text": [
            "\n",
            "\tDiebold-Mariano Test\n",
            "\n",
            "data:  aex_cnn_m_seaex_gru_m_se\n",
            "DM = 1.4579, Forecast horizon = 1, Loss function power = 2, p-value =\n",
            "0.1463\n",
            "alternative hypothesis: two.sided\n",
            "\n"
          ]
        }
      ]
    },
    {
      "cell_type": "code",
      "source": [
        "print(dm_qlike_aex_m_cnn_gru)"
      ],
      "metadata": {
        "colab": {
          "base_uri": "https://localhost:8080/"
        },
        "id": "HJFU6lQwXORn",
        "outputId": "99ef97b0-60e5-4022-baa0-654a665dcc38"
      },
      "execution_count": 98,
      "outputs": [
        {
          "output_type": "stream",
          "name": "stdout",
          "text": [
            "\n",
            "\tDiebold-Mariano Test\n",
            "\n",
            "data:  aex_cnn_m_qlikeaex_gru_m_qlike\n",
            "DM = -1.195, Forecast horizon = 1, Loss function power = 2, p-value =\n",
            "0.2334\n",
            "alternative hypothesis: two.sided\n",
            "\n"
          ]
        }
      ]
    },
    {
      "cell_type": "markdown",
      "source": [
        "##### LSTM vs GRU"
      ],
      "metadata": {
        "id": "FmDE6xNrXfSk"
      }
    },
    {
      "cell_type": "code",
      "source": [
        "print(dm_se_aex_m_lstm_gru)"
      ],
      "metadata": {
        "colab": {
          "base_uri": "https://localhost:8080/"
        },
        "id": "dXJ5dEmcXhAW",
        "outputId": "f26a27e5-727c-4505-dabc-14728f4e0f86"
      },
      "execution_count": 99,
      "outputs": [
        {
          "output_type": "stream",
          "name": "stdout",
          "text": [
            "\n",
            "\tDiebold-Mariano Test\n",
            "\n",
            "data:  aex_lstm_m_seaex_gru_m_se\n",
            "DM = 1.202, Forecast horizon = 1, Loss function power = 2, p-value =\n",
            "0.2307\n",
            "alternative hypothesis: two.sided\n",
            "\n"
          ]
        }
      ]
    },
    {
      "cell_type": "code",
      "source": [
        "print(dm_qlike_aex_m_lstm_gru)"
      ],
      "metadata": {
        "colab": {
          "base_uri": "https://localhost:8080/"
        },
        "id": "o-zQ2oABXj0t",
        "outputId": "9ab173e8-6f30-45c2-a851-3ac057a17657"
      },
      "execution_count": 100,
      "outputs": [
        {
          "output_type": "stream",
          "name": "stdout",
          "text": [
            "\n",
            "\tDiebold-Mariano Test\n",
            "\n",
            "data:  aex_lstm_m_qlikeaex_gru_m_qlike\n",
            "DM = -1.8414, Forecast horizon = 1, Loss function power = 2, p-value =\n",
            "0.06692\n",
            "alternative hypothesis: two.sided\n",
            "\n"
          ]
        }
      ]
    },
    {
      "cell_type": "markdown",
      "source": [
        "### Statistical analysis for the DAX index"
      ],
      "metadata": {
        "id": "v0OwzH0wdo5P"
      }
    },
    {
      "cell_type": "markdown",
      "source": [
        "#### Tests for the 1-day ahead forecast"
      ],
      "metadata": {
        "id": "-mxKpYz5dct5"
      }
    },
    {
      "cell_type": "code",
      "source": [
        "# MCS for squared-error loss\n",
        "\n",
        "errors_matrix_se <- cbind(dax_har_d_se, dax_fnn_har_d_se, dax_fnn_d_se, dax_cnn_d_se, dax_lstm_d_se, dax_gru_d_se)\n",
        "errors_matrix_qlike <- cbind(dax_har_d_qlike, dax_fnn_har_d_qlike, dax_fnn_d_qlike, dax_cnn_d_qlike, dax_lstm_d_qlike, dax_gru_d_qlike)\n",
        "\n",
        "# B is number of bootstrap replications\n",
        "mcs_result_dax_se_d <- MCSprocedure(errors_matrix_se, alpha = 0.05, B = 5000, statistic = \"Tmax\")\n",
        "\n",
        "mcs_result_dax_qlike_d <- MCSprocedure(errors_matrix_qlike, alpha = 0.05, B = 5000, statistic = \"Tmax\")"
      ],
      "metadata": {
        "colab": {
          "base_uri": "https://localhost:8080/"
        },
        "outputId": "bb9084e2-2acc-4192-8177-c7302ff8b4c2",
        "id": "XAG7FyyNdcuO"
      },
      "execution_count": 101,
      "outputs": [
        {
          "output_type": "stream",
          "name": "stdout",
          "text": [
            "\n",
            "Model dax_lstm_d_se eliminated 2024-06-04 19:54:56.559953\n",
            "Model dax_gru_d_se eliminated 2024-06-04 19:54:59.081997\n",
            "Model dax_cnn_d_se eliminated 2024-06-04 19:55:01.021804\n",
            "Model dax_har_d_se eliminated 2024-06-04 19:55:02.769536\n",
            "###########################################################################################################################\n",
            "Superior Set Model created\t:\n",
            "                 Rank_M       v_M  MCS_M Rank_R       v_R  MCS_R         Loss\n",
            "dax_fnn_har_d_se      2  1.198811 0.2848      2  1.198811 0.2848 5.944767e-11\n",
            "dax_fnn_d_se          1 -1.198811 1.0000      1 -1.198811 1.0000 4.524145e-11\n",
            "p-value\t:\n",
            "[1] 0.2848\n",
            "\n",
            "###########################################################################################################################\n",
            "Model dax_lstm_d_qlike eliminated 2024-06-04 19:55:07.70986\n",
            "Model dax_gru_d_qlike eliminated 2024-06-04 19:55:10.720471\n",
            "Model dax_cnn_d_qlike eliminated 2024-06-04 19:55:13.024229\n",
            "Model dax_har_d_qlike eliminated 2024-06-04 19:55:15.09269\n",
            "###########################################################################################################################\n",
            "Superior Set Model created\t:\n",
            "                    Rank_M        v_M MCS_M Rank_R        v_R MCS_R      Loss\n",
            "dax_fnn_har_d_qlike      2  0.6270417 0.535      2  0.6270417 0.535 -10.18887\n",
            "dax_fnn_d_qlike          1 -0.6270417 1.000      1 -0.6270417 1.000 -10.19554\n",
            "p-value\t:\n",
            "[1] 0.535\n",
            "\n",
            "###########################################################################################################################"
          ]
        }
      ]
    },
    {
      "cell_type": "code",
      "source": [
        "# Diebold-Mariano test\n",
        "\n",
        "dm_se_dax_d_har_fnn_har <- dm.test(dax_har_w_se, dax_fnn_har_w_se, alternative = \"two.sided\")\n",
        "dm_se_dax_d_har_fnn <- dm.test(dax_har_w_se, dax_fnn_w_se, alternative = \"two.sided\")\n",
        "dm_se_dax_d_har_cnn <- dm.test(dax_har_w_se, dax_cnn_w_se, alternative = \"two.sided\")\n",
        "dm_se_dax_d_har_lstm <- dm.test(dax_har_w_se, dax_lstm_w_se, alternative = \"two.sided\")\n",
        "dm_se_dax_d_har_gru <- dm.test(dax_har_w_se, dax_gru_w_se, alternative = \"two.sided\")\n",
        "dm_se_dax_d_fnn_har_fnn <- dm.test(dax_fnn_har_w_se, dax_fnn_w_se, alternative = \"two.sided\")\n",
        "dm_se_dax_d_fnn_har_cnn <- dm.test(dax_fnn_har_w_se, dax_cnn_w_se, alternative = \"two.sided\")\n",
        "dm_se_dax_d_fnn_har_lstm <- dm.test(dax_fnn_har_w_se, dax_lstm_w_se, alternative = \"two.sided\")\n",
        "dm_se_dax_d_fnn_har_gru <- dm.test(dax_fnn_har_w_se, dax_gru_w_se, alternative = \"two.sided\")\n",
        "dm_se_dax_d_fnn_cnn <- dm.test(dax_fnn_w_se, dax_cnn_w_se, alternative = \"two.sided\")\n",
        "dm_se_dax_d_fnn_lstm <- dm.test(dax_fnn_w_se, dax_lstm_w_se, alternative = \"two.sided\")\n",
        "dm_se_dax_d_fnn_gru <- dm.test(dax_fnn_w_se, dax_gru_w_se, alternative = \"two.sided\")\n",
        "dm_se_dax_d_cnn_lstm <- dm.test(dax_cnn_w_se, dax_lstm_w_se, alternative = \"two.sided\")\n",
        "dm_se_dax_d_cnn_gru <- dm.test(dax_cnn_w_se, dax_gru_w_se, alternative = \"two.sided\")\n",
        "dm_se_dax_d_lstm_gru <- dm.test(dax_lstm_w_se, dax_gru_w_se, alternative = \"two.sided\")\n",
        "\n",
        "dm_qlike_dax_d_har_fnn_har <- dm.test(dax_har_d_qlike, dax_fnn_har_d_qlike, alternative = \"two.sided\")\n",
        "dm_qlike_dax_d_har_fnn <- dm.test(dax_har_d_qlike, dax_fnn_d_qlike, alternative = \"two.sided\")\n",
        "dm_qlike_dax_d_har_cnn <- dm.test(dax_har_d_qlike, dax_cnn_d_qlike, alternative = \"two.sided\")\n",
        "dm_qlike_dax_d_har_lstm <- dm.test(dax_har_d_qlike, dax_lstm_d_qlike, alternative = \"two.sided\")\n",
        "dm_qlike_dax_d_har_gru <- dm.test(dax_har_d_qlike, dax_gru_d_qlike, alternative = \"two.sided\")\n",
        "dm_qlike_dax_d_fnn_har_fnn <- dm.test(dax_fnn_har_d_qlike, dax_fnn_d_qlike, alternative = \"two.sided\")\n",
        "dm_qlike_dax_d_fnn_har_cnn <- dm.test(dax_fnn_har_d_qlike, dax_cnn_d_qlike, alternative = \"two.sided\")\n",
        "dm_qlike_dax_d_fnn_har_lstm <- dm.test(dax_fnn_har_d_qlike, dax_lstm_d_qlike, alternative = \"two.sided\")\n",
        "dm_qlike_dax_d_fnn_har_gru <- dm.test(dax_fnn_har_d_qlike, dax_gru_d_qlike, alternative = \"two.sided\")\n",
        "dm_qlike_dax_d_fnn_cnn <- dm.test(dax_fnn_d_qlike, dax_cnn_d_qlike, alternative = \"two.sided\")\n",
        "dm_qlike_dax_d_fnn_lstm <- dm.test(dax_fnn_d_qlike, dax_lstm_d_qlike, alternative = \"two.sided\")\n",
        "dm_qlike_dax_d_fnn_gru <- dm.test(dax_fnn_d_qlike, dax_gru_d_qlike, alternative = \"two.sided\")\n",
        "dm_qlike_dax_d_cnn_lstm <- dm.test(dax_cnn_d_qlike, dax_lstm_d_qlike, alternative = \"two.sided\")\n",
        "dm_qlike_dax_d_cnn_gru <- dm.test(dax_cnn_d_qlike, dax_gru_d_qlike, alternative = \"two.sided\")\n",
        "dm_qlike_dax_d_lstm_gru <- dm.test(dax_lstm_d_qlike, dax_gru_d_qlike, alternative = \"two.sided\")"
      ],
      "metadata": {
        "id": "oC8VgEC6dcuP"
      },
      "execution_count": 102,
      "outputs": []
    },
    {
      "cell_type": "markdown",
      "source": [
        "##### HAR vs FNN-HAR"
      ],
      "metadata": {
        "id": "fONoUH5edcuP"
      }
    },
    {
      "cell_type": "code",
      "source": [
        "print(dm_se_dax_d_har_fnn_har)"
      ],
      "metadata": {
        "colab": {
          "base_uri": "https://localhost:8080/"
        },
        "outputId": "d2c07c8c-e356-4147-81d9-254e4d6d6f18",
        "id": "kYPJBtOadcuQ"
      },
      "execution_count": 103,
      "outputs": [
        {
          "output_type": "stream",
          "name": "stdout",
          "text": [
            "\n",
            "\tDiebold-Mariano Test\n",
            "\n",
            "data:  dax_har_w_sedax_fnn_har_w_se\n",
            "DM = -1.041, Forecast horizon = 1, Loss function power = 2, p-value =\n",
            "0.3025\n",
            "alternative hypothesis: two.sided\n",
            "\n"
          ]
        }
      ]
    },
    {
      "cell_type": "code",
      "source": [
        "print(dm_qlike_dax_d_har_fnn_har)"
      ],
      "metadata": {
        "colab": {
          "base_uri": "https://localhost:8080/"
        },
        "outputId": "3ca9eb61-47eb-4b2e-fa71-fac27db08aa6",
        "id": "f1AGp1b-dcuQ"
      },
      "execution_count": 104,
      "outputs": [
        {
          "output_type": "stream",
          "name": "stdout",
          "text": [
            "\n",
            "\tDiebold-Mariano Test\n",
            "\n",
            "data:  dax_har_d_qlikedax_fnn_har_d_qlike\n",
            "DM = -3.724, Forecast horizon = 1, Loss function power = 2, p-value =\n",
            "0.003358\n",
            "alternative hypothesis: two.sided\n",
            "\n"
          ]
        }
      ]
    },
    {
      "cell_type": "markdown",
      "source": [
        "##### HAR vs FNN"
      ],
      "metadata": {
        "id": "uNmYCkzZdcuQ"
      }
    },
    {
      "cell_type": "code",
      "source": [
        "print(dm_se_dax_d_har_fnn)"
      ],
      "metadata": {
        "colab": {
          "base_uri": "https://localhost:8080/"
        },
        "outputId": "a2f024f5-4514-47b7-defc-391d41dca7fd",
        "id": "xDk9ahqDdcuQ"
      },
      "execution_count": 105,
      "outputs": [
        {
          "output_type": "stream",
          "name": "stdout",
          "text": [
            "\n",
            "\tDiebold-Mariano Test\n",
            "\n",
            "data:  dax_har_w_sedax_fnn_w_se\n",
            "DM = -0.23264, Forecast horizon = 1, Loss function power = 2, p-value =\n",
            "0.8169\n",
            "alternative hypothesis: two.sided\n",
            "\n"
          ]
        }
      ]
    },
    {
      "cell_type": "code",
      "source": [
        "print(dm_qlike_dax_d_har_fnn)"
      ],
      "metadata": {
        "colab": {
          "base_uri": "https://localhost:8080/"
        },
        "outputId": "dc577acd-5841-483b-c285-d3711115a91a",
        "id": "Zk2LXCAJdcuR"
      },
      "execution_count": 106,
      "outputs": [
        {
          "output_type": "stream",
          "name": "stdout",
          "text": [
            "\n",
            "\tDiebold-Mariano Test\n",
            "\n",
            "data:  dax_har_d_qlikedax_fnn_d_qlike\n",
            "DM = -2.9657, Forecast horizon = 1, Loss function power = 2, p-value =\n",
            "0.01284\n",
            "alternative hypothesis: two.sided\n",
            "\n"
          ]
        }
      ]
    },
    {
      "cell_type": "markdown",
      "source": [
        "##### HAR vs CNN"
      ],
      "metadata": {
        "id": "7SN5B1KbdcuR"
      }
    },
    {
      "cell_type": "code",
      "source": [
        "print(dm_se_dax_d_har_cnn)"
      ],
      "metadata": {
        "colab": {
          "base_uri": "https://localhost:8080/"
        },
        "outputId": "865af7ea-1c84-475d-9d8f-1a9fdf28dfde",
        "id": "J5tfZdqZdcuR"
      },
      "execution_count": 107,
      "outputs": [
        {
          "output_type": "stream",
          "name": "stdout",
          "text": [
            "\n",
            "\tDiebold-Mariano Test\n",
            "\n",
            "data:  dax_har_w_sedax_cnn_w_se\n",
            "DM = -1.0875, Forecast horizon = 1, Loss function power = 2, p-value =\n",
            "0.2816\n",
            "alternative hypothesis: two.sided\n",
            "\n"
          ]
        }
      ]
    },
    {
      "cell_type": "code",
      "source": [
        "print(dm_qlike_dax_d_har_cnn)"
      ],
      "metadata": {
        "colab": {
          "base_uri": "https://localhost:8080/"
        },
        "outputId": "09e4a610-28f5-4182-b82f-7ca27038a642",
        "id": "kD9QPRHCdcuR"
      },
      "execution_count": 108,
      "outputs": [
        {
          "output_type": "stream",
          "name": "stdout",
          "text": [
            "\n",
            "\tDiebold-Mariano Test\n",
            "\n",
            "data:  dax_har_d_qlikedax_cnn_d_qlike\n",
            "DM = 0.76316, Forecast horizon = 1, Loss function power = 2, p-value =\n",
            "0.4614\n",
            "alternative hypothesis: two.sided\n",
            "\n"
          ]
        }
      ]
    },
    {
      "cell_type": "markdown",
      "source": [
        "##### HAR vs LSTM"
      ],
      "metadata": {
        "id": "7rRu0FM7dcuS"
      }
    },
    {
      "cell_type": "code",
      "source": [
        "print(dm_se_dax_d_har_lstm)"
      ],
      "metadata": {
        "colab": {
          "base_uri": "https://localhost:8080/"
        },
        "outputId": "c7e46f09-261a-4bae-c99c-158f13fae81d",
        "id": "EZNoUuUfdcuS"
      },
      "execution_count": 109,
      "outputs": [
        {
          "output_type": "stream",
          "name": "stdout",
          "text": [
            "\n",
            "\tDiebold-Mariano Test\n",
            "\n",
            "data:  dax_har_w_sedax_lstm_w_se\n",
            "DM = -2.533, Forecast horizon = 1, Loss function power = 2, p-value =\n",
            "0.01425\n",
            "alternative hypothesis: two.sided\n",
            "\n"
          ]
        }
      ]
    },
    {
      "cell_type": "code",
      "source": [
        "print(dm_qlike_dax_d_har_lstm)"
      ],
      "metadata": {
        "colab": {
          "base_uri": "https://localhost:8080/"
        },
        "outputId": "d2ee7a9a-1b34-4cfd-b0f8-5d0b28881442",
        "id": "TVYjYmqHdcuS"
      },
      "execution_count": 110,
      "outputs": [
        {
          "output_type": "stream",
          "name": "stdout",
          "text": [
            "\n",
            "\tDiebold-Mariano Test\n",
            "\n",
            "data:  dax_har_d_qlikedax_lstm_d_qlike\n",
            "DM = 3.3292, Forecast horizon = 1, Loss function power = 2, p-value =\n",
            "0.00672\n",
            "alternative hypothesis: two.sided\n",
            "\n"
          ]
        }
      ]
    },
    {
      "cell_type": "markdown",
      "source": [
        "##### HAR vs GRU"
      ],
      "metadata": {
        "id": "u1DJcZARdcuS"
      }
    },
    {
      "cell_type": "code",
      "source": [
        "print(dm_se_dax_d_har_gru)"
      ],
      "metadata": {
        "colab": {
          "base_uri": "https://localhost:8080/"
        },
        "outputId": "656c4ee1-544e-43f9-990c-7995ba24bd13",
        "id": "4BtMfHiZdcuT"
      },
      "execution_count": 111,
      "outputs": [
        {
          "output_type": "stream",
          "name": "stdout",
          "text": [
            "\n",
            "\tDiebold-Mariano Test\n",
            "\n",
            "data:  dax_har_w_sedax_gru_w_se\n",
            "DM = -0.92791, Forecast horizon = 1, Loss function power = 2, p-value =\n",
            "0.3576\n",
            "alternative hypothesis: two.sided\n",
            "\n"
          ]
        }
      ]
    },
    {
      "cell_type": "code",
      "source": [
        "print(dm_qlike_dax_d_har_gru)"
      ],
      "metadata": {
        "colab": {
          "base_uri": "https://localhost:8080/"
        },
        "outputId": "303e3bb7-fb84-4654-afce-0a1cb44b708a",
        "id": "LOJ_dMyudcuT"
      },
      "execution_count": 112,
      "outputs": [
        {
          "output_type": "stream",
          "name": "stdout",
          "text": [
            "\n",
            "\tDiebold-Mariano Test\n",
            "\n",
            "data:  dax_har_d_qlikedax_gru_d_qlike\n",
            "DM = 1.2634, Forecast horizon = 1, Loss function power = 2, p-value =\n",
            "0.2326\n",
            "alternative hypothesis: two.sided\n",
            "\n"
          ]
        }
      ]
    },
    {
      "cell_type": "markdown",
      "source": [
        "##### FNN-HAR vs FNN"
      ],
      "metadata": {
        "id": "VKDdGV8vdcuT"
      }
    },
    {
      "cell_type": "code",
      "source": [
        "print(dm_se_dax_d_fnn_har_fnn)"
      ],
      "metadata": {
        "colab": {
          "base_uri": "https://localhost:8080/"
        },
        "outputId": "a9e92258-1558-44a2-dcbf-6805e987ac26",
        "id": "BvnWMHySdcuT"
      },
      "execution_count": 113,
      "outputs": [
        {
          "output_type": "stream",
          "name": "stdout",
          "text": [
            "\n",
            "\tDiebold-Mariano Test\n",
            "\n",
            "data:  dax_fnn_har_w_sedax_fnn_w_se\n",
            "DM = 0.48133, Forecast horizon = 1, Loss function power = 2, p-value =\n",
            "0.6322\n",
            "alternative hypothesis: two.sided\n",
            "\n"
          ]
        }
      ]
    },
    {
      "cell_type": "code",
      "source": [
        "print(dm_qlike_dax_d_fnn_har_fnn)"
      ],
      "metadata": {
        "colab": {
          "base_uri": "https://localhost:8080/"
        },
        "outputId": "6e62f2fe-372d-44c8-c1f2-955afe890f92",
        "id": "1AxkwJ9sdcuU"
      },
      "execution_count": 114,
      "outputs": [
        {
          "output_type": "stream",
          "name": "stdout",
          "text": [
            "\n",
            "\tDiebold-Mariano Test\n",
            "\n",
            "data:  dax_fnn_har_d_qlikedax_fnn_d_qlike\n",
            "DM = -0.39834, Forecast horizon = 1, Loss function power = 2, p-value =\n",
            "0.698\n",
            "alternative hypothesis: two.sided\n",
            "\n"
          ]
        }
      ]
    },
    {
      "cell_type": "markdown",
      "source": [
        "##### FNN-HAR vs CNN"
      ],
      "metadata": {
        "id": "hcXOgEqLdcuU"
      }
    },
    {
      "cell_type": "code",
      "source": [
        "print(dm_se_dax_d_fnn_har_cnn)"
      ],
      "metadata": {
        "colab": {
          "base_uri": "https://localhost:8080/"
        },
        "outputId": "7fcbe9f4-fa0b-4072-e9de-c014ccd56361",
        "id": "BbeMEhn8dcuU"
      },
      "execution_count": 115,
      "outputs": [
        {
          "output_type": "stream",
          "name": "stdout",
          "text": [
            "\n",
            "\tDiebold-Mariano Test\n",
            "\n",
            "data:  dax_fnn_har_w_sedax_cnn_w_se\n",
            "DM = -1.0976, Forecast horizon = 1, Loss function power = 2, p-value =\n",
            "0.2772\n",
            "alternative hypothesis: two.sided\n",
            "\n"
          ]
        }
      ]
    },
    {
      "cell_type": "code",
      "source": [
        "print(dm_qlike_dax_d_fnn_har_cnn)"
      ],
      "metadata": {
        "colab": {
          "base_uri": "https://localhost:8080/"
        },
        "outputId": "69ad49c1-8c5a-49b6-c129-6dd5d3e12beb",
        "id": "gQnpakwzdcuV"
      },
      "execution_count": 116,
      "outputs": [
        {
          "output_type": "stream",
          "name": "stdout",
          "text": [
            "\n",
            "\tDiebold-Mariano Test\n",
            "\n",
            "data:  dax_fnn_har_d_qlikedax_cnn_d_qlike\n",
            "DM = 3.2179, Forecast horizon = 1, Loss function power = 2, p-value =\n",
            "0.008189\n",
            "alternative hypothesis: two.sided\n",
            "\n"
          ]
        }
      ]
    },
    {
      "cell_type": "markdown",
      "source": [
        "##### FNN-HAR vs LSTM"
      ],
      "metadata": {
        "id": "eqjSg1tqdcuV"
      }
    },
    {
      "cell_type": "code",
      "source": [
        "print(dm_se_dax_d_fnn_har_lstm)"
      ],
      "metadata": {
        "colab": {
          "base_uri": "https://localhost:8080/"
        },
        "outputId": "0471fe74-1acf-44c5-806b-6020477f8977",
        "id": "Y5p4uSQqdcuV"
      },
      "execution_count": 117,
      "outputs": [
        {
          "output_type": "stream",
          "name": "stdout",
          "text": [
            "\n",
            "\tDiebold-Mariano Test\n",
            "\n",
            "data:  dax_fnn_har_w_sedax_lstm_w_se\n",
            "DM = -2.4339, Forecast horizon = 1, Loss function power = 2, p-value =\n",
            "0.01828\n",
            "alternative hypothesis: two.sided\n",
            "\n"
          ]
        }
      ]
    },
    {
      "cell_type": "code",
      "source": [
        "print(dm_qlike_dax_d_fnn_har_lstm)"
      ],
      "metadata": {
        "colab": {
          "base_uri": "https://localhost:8080/"
        },
        "outputId": "c988c0cd-1127-4401-d71b-c593040a769e",
        "id": "mn6b1jbGdcuW"
      },
      "execution_count": 118,
      "outputs": [
        {
          "output_type": "stream",
          "name": "stdout",
          "text": [
            "\n",
            "\tDiebold-Mariano Test\n",
            "\n",
            "data:  dax_fnn_har_d_qlikedax_lstm_d_qlike\n",
            "DM = 6.1115, Forecast horizon = 1, Loss function power = 2, p-value =\n",
            "7.612e-05\n",
            "alternative hypothesis: two.sided\n",
            "\n"
          ]
        }
      ]
    },
    {
      "cell_type": "markdown",
      "source": [
        "##### FNN-HAR vs GRU"
      ],
      "metadata": {
        "id": "HpWswPLsdcuW"
      }
    },
    {
      "cell_type": "code",
      "source": [
        "print(dm_se_dax_d_fnn_har_gru)"
      ],
      "metadata": {
        "colab": {
          "base_uri": "https://localhost:8080/"
        },
        "outputId": "87c0e624-c697-488a-81d9-f8ecc335fd20",
        "id": "FlfSnq8NdcuW"
      },
      "execution_count": 119,
      "outputs": [
        {
          "output_type": "stream",
          "name": "stdout",
          "text": [
            "\n",
            "\tDiebold-Mariano Test\n",
            "\n",
            "data:  dax_fnn_har_w_sedax_gru_w_se\n",
            "DM = 0.50127, Forecast horizon = 1, Loss function power = 2, p-value =\n",
            "0.6182\n",
            "alternative hypothesis: two.sided\n",
            "\n"
          ]
        }
      ]
    },
    {
      "cell_type": "code",
      "source": [
        "print(dm_qlike_dax_d_fnn_har_gru)"
      ],
      "metadata": {
        "colab": {
          "base_uri": "https://localhost:8080/"
        },
        "outputId": "1f78c921-07cf-4f3f-90e1-09db785757d3",
        "id": "I8n-i7dMdcuX"
      },
      "execution_count": 120,
      "outputs": [
        {
          "output_type": "stream",
          "name": "stdout",
          "text": [
            "\n",
            "\tDiebold-Mariano Test\n",
            "\n",
            "data:  dax_fnn_har_d_qlikedax_gru_d_qlike\n",
            "DM = 5.8653, Forecast horizon = 1, Loss function power = 2, p-value =\n",
            "0.0001084\n",
            "alternative hypothesis: two.sided\n",
            "\n"
          ]
        }
      ]
    },
    {
      "cell_type": "markdown",
      "source": [
        "##### FNN vs CNN"
      ],
      "metadata": {
        "id": "_hd2ZjoldcuX"
      }
    },
    {
      "cell_type": "code",
      "source": [
        "print(dm_se_dax_d_fnn_cnn)"
      ],
      "metadata": {
        "colab": {
          "base_uri": "https://localhost:8080/"
        },
        "outputId": "67758bb7-9319-4474-dc01-b2bfcdfdfeaa",
        "id": "hu2lpC7TdcuX"
      },
      "execution_count": 121,
      "outputs": [
        {
          "output_type": "stream",
          "name": "stdout",
          "text": [
            "\n",
            "\tDiebold-Mariano Test\n",
            "\n",
            "data:  dax_fnn_w_sedax_cnn_w_se\n",
            "DM = -0.92437, Forecast horizon = 1, Loss function power = 2, p-value =\n",
            "0.3594\n",
            "alternative hypothesis: two.sided\n",
            "\n"
          ]
        }
      ]
    },
    {
      "cell_type": "code",
      "source": [
        "print(dm_qlike_dax_d_fnn_cnn)"
      ],
      "metadata": {
        "colab": {
          "base_uri": "https://localhost:8080/"
        },
        "outputId": "02de629d-f27c-4af3-ef48-80d464cb6918",
        "id": "6I2Twn6cdcuX"
      },
      "execution_count": 122,
      "outputs": [
        {
          "output_type": "stream",
          "name": "stdout",
          "text": [
            "\n",
            "\tDiebold-Mariano Test\n",
            "\n",
            "data:  dax_fnn_d_qlikedax_cnn_d_qlike\n",
            "DM = 3.4051, Forecast horizon = 1, Loss function power = 2, p-value =\n",
            "0.005876\n",
            "alternative hypothesis: two.sided\n",
            "\n"
          ]
        }
      ]
    },
    {
      "cell_type": "markdown",
      "source": [
        "##### FNN vs LSTM"
      ],
      "metadata": {
        "id": "uY_tc4A-dcuX"
      }
    },
    {
      "cell_type": "code",
      "source": [
        "print(dm_se_dax_d_fnn_lstm)"
      ],
      "metadata": {
        "colab": {
          "base_uri": "https://localhost:8080/"
        },
        "outputId": "23395344-2a2d-4038-a06d-7b65bcfb8da1",
        "id": "EDDxe5QTdcuY"
      },
      "execution_count": 123,
      "outputs": [
        {
          "output_type": "stream",
          "name": "stdout",
          "text": [
            "\n",
            "\tDiebold-Mariano Test\n",
            "\n",
            "data:  dax_fnn_w_sedax_lstm_w_se\n",
            "DM = -2.3953, Forecast horizon = 1, Loss function power = 2, p-value =\n",
            "0.0201\n",
            "alternative hypothesis: two.sided\n",
            "\n"
          ]
        }
      ]
    },
    {
      "cell_type": "code",
      "source": [
        "print(dm_qlike_dax_d_fnn_lstm)"
      ],
      "metadata": {
        "colab": {
          "base_uri": "https://localhost:8080/"
        },
        "outputId": "a36a3811-4933-439a-983a-e34d7ff54bd1",
        "id": "Pn5BdrQAdcuY"
      },
      "execution_count": 124,
      "outputs": [
        {
          "output_type": "stream",
          "name": "stdout",
          "text": [
            "\n",
            "\tDiebold-Mariano Test\n",
            "\n",
            "data:  dax_fnn_d_qlikedax_lstm_d_qlike\n",
            "DM = 5.7562, Forecast horizon = 1, Loss function power = 2, p-value =\n",
            "0.0001272\n",
            "alternative hypothesis: two.sided\n",
            "\n"
          ]
        }
      ]
    },
    {
      "cell_type": "markdown",
      "source": [
        "##### FNN vs GRU"
      ],
      "metadata": {
        "id": "opKdn-C6dcuY"
      }
    },
    {
      "cell_type": "code",
      "source": [
        "print(dm_se_dax_d_fnn_gru)"
      ],
      "metadata": {
        "colab": {
          "base_uri": "https://localhost:8080/"
        },
        "outputId": "eb2bcd6a-3a6a-4ba7-9194-e233f32ed5ab",
        "id": "xXDd9v0JdcuY"
      },
      "execution_count": 125,
      "outputs": [
        {
          "output_type": "stream",
          "name": "stdout",
          "text": [
            "\n",
            "\tDiebold-Mariano Test\n",
            "\n",
            "data:  dax_fnn_w_sedax_gru_w_se\n",
            "DM = -0.42565, Forecast horizon = 1, Loss function power = 2, p-value =\n",
            "0.6721\n",
            "alternative hypothesis: two.sided\n",
            "\n"
          ]
        }
      ]
    },
    {
      "cell_type": "code",
      "source": [
        "print(dm_qlike_dax_d_fnn_lstm)"
      ],
      "metadata": {
        "colab": {
          "base_uri": "https://localhost:8080/"
        },
        "outputId": "2e55b4f6-7ccc-4dd0-b515-a5066febcbbc",
        "id": "FJ73IvFVdcuY"
      },
      "execution_count": 126,
      "outputs": [
        {
          "output_type": "stream",
          "name": "stdout",
          "text": [
            "\n",
            "\tDiebold-Mariano Test\n",
            "\n",
            "data:  dax_fnn_d_qlikedax_lstm_d_qlike\n",
            "DM = 5.7562, Forecast horizon = 1, Loss function power = 2, p-value =\n",
            "0.0001272\n",
            "alternative hypothesis: two.sided\n",
            "\n"
          ]
        }
      ]
    },
    {
      "cell_type": "markdown",
      "source": [
        "##### CNN vs LSTM"
      ],
      "metadata": {
        "id": "YrXFAQLudcuZ"
      }
    },
    {
      "cell_type": "code",
      "source": [
        "print(dm_se_dax_d_cnn_lstm)"
      ],
      "metadata": {
        "colab": {
          "base_uri": "https://localhost:8080/"
        },
        "outputId": "06ce274a-0a12-4908-a6c5-9a709f161883",
        "id": "5d87lf8YdcuZ"
      },
      "execution_count": 127,
      "outputs": [
        {
          "output_type": "stream",
          "name": "stdout",
          "text": [
            "\n",
            "\tDiebold-Mariano Test\n",
            "\n",
            "data:  dax_cnn_w_sedax_lstm_w_se\n",
            "DM = -1.4228, Forecast horizon = 1, Loss function power = 2, p-value =\n",
            "0.1605\n",
            "alternative hypothesis: two.sided\n",
            "\n"
          ]
        }
      ]
    },
    {
      "cell_type": "code",
      "source": [
        "print(dm_qlike_dax_d_cnn_lstm)"
      ],
      "metadata": {
        "colab": {
          "base_uri": "https://localhost:8080/"
        },
        "outputId": "f85d3994-4157-4298-e290-c306d7d1595e",
        "id": "6kSCOBFedcuZ"
      },
      "execution_count": 128,
      "outputs": [
        {
          "output_type": "stream",
          "name": "stdout",
          "text": [
            "\n",
            "\tDiebold-Mariano Test\n",
            "\n",
            "data:  dax_cnn_d_qlikedax_lstm_d_qlike\n",
            "DM = 2.6133, Forecast horizon = 1, Loss function power = 2, p-value =\n",
            "0.02412\n",
            "alternative hypothesis: two.sided\n",
            "\n"
          ]
        }
      ]
    },
    {
      "cell_type": "markdown",
      "source": [
        "##### CNN vs GRU"
      ],
      "metadata": {
        "id": "Jhf-uar0dcuZ"
      }
    },
    {
      "cell_type": "code",
      "source": [
        "print(dm_se_dax_d_cnn_gru)"
      ],
      "metadata": {
        "colab": {
          "base_uri": "https://localhost:8080/"
        },
        "outputId": "6439ec6d-5459-4649-a4db-50b523455b14",
        "id": "nUfFTJdYdcuZ"
      },
      "execution_count": 129,
      "outputs": [
        {
          "output_type": "stream",
          "name": "stdout",
          "text": [
            "\n",
            "\tDiebold-Mariano Test\n",
            "\n",
            "data:  dax_cnn_w_sedax_gru_w_se\n",
            "DM = 1.1249, Forecast horizon = 1, Loss function power = 2, p-value =\n",
            "0.2656\n",
            "alternative hypothesis: two.sided\n",
            "\n"
          ]
        }
      ]
    },
    {
      "cell_type": "code",
      "source": [
        "print(dm_qlike_dax_d_cnn_gru)"
      ],
      "metadata": {
        "colab": {
          "base_uri": "https://localhost:8080/"
        },
        "outputId": "062c04bc-2d5a-4367-e6eb-6c63474b6285",
        "id": "FfPDdI8vdcua"
      },
      "execution_count": 130,
      "outputs": [
        {
          "output_type": "stream",
          "name": "stdout",
          "text": [
            "\n",
            "\tDiebold-Mariano Test\n",
            "\n",
            "data:  dax_cnn_d_qlikedax_gru_d_qlike\n",
            "DM = 0.63331, Forecast horizon = 1, Loss function power = 2, p-value =\n",
            "0.5395\n",
            "alternative hypothesis: two.sided\n",
            "\n"
          ]
        }
      ]
    },
    {
      "cell_type": "markdown",
      "source": [
        "##### LSTM vs GRU"
      ],
      "metadata": {
        "id": "r-cIDdBXdcua"
      }
    },
    {
      "cell_type": "code",
      "source": [
        "print(dm_se_dax_d_lstm_gru)"
      ],
      "metadata": {
        "colab": {
          "base_uri": "https://localhost:8080/"
        },
        "outputId": "b29f578c-7ed9-404e-9a90-cb7965129a53",
        "id": "RS-s4j-Fdcua"
      },
      "execution_count": 131,
      "outputs": [
        {
          "output_type": "stream",
          "name": "stdout",
          "text": [
            "\n",
            "\tDiebold-Mariano Test\n",
            "\n",
            "data:  dax_lstm_w_sedax_gru_w_se\n",
            "DM = 2.4531, Forecast horizon = 1, Loss function power = 2, p-value =\n",
            "0.01742\n",
            "alternative hypothesis: two.sided\n",
            "\n"
          ]
        }
      ]
    },
    {
      "cell_type": "code",
      "source": [
        "print(dm_qlike_dax_d_lstm_gru)"
      ],
      "metadata": {
        "colab": {
          "base_uri": "https://localhost:8080/"
        },
        "outputId": "9959267b-467b-499e-a5da-a8ff3c63f5de",
        "id": "v8q1VjR2dcua"
      },
      "execution_count": 132,
      "outputs": [
        {
          "output_type": "stream",
          "name": "stdout",
          "text": [
            "\n",
            "\tDiebold-Mariano Test\n",
            "\n",
            "data:  dax_lstm_d_qlikedax_gru_d_qlike\n",
            "DM = -2.7113, Forecast horizon = 1, Loss function power = 2, p-value =\n",
            "0.02024\n",
            "alternative hypothesis: two.sided\n",
            "\n"
          ]
        }
      ]
    },
    {
      "cell_type": "markdown",
      "source": [
        "#### Tests for the 1-week ahead forecast"
      ],
      "metadata": {
        "id": "WU2FfawJ8kGf"
      }
    },
    {
      "cell_type": "code",
      "source": [
        "# MCS for squared-error loss\n",
        "\n",
        "errors_matrix_se <- cbind(dax_har_w_se, dax_fnn_har_w_se, dax_fnn_w_se, dax_cnn_w_se, dax_lstm_w_se, dax_gru_w_se)\n",
        "errors_matrix_qlike <- cbind(dax_har_w_qlike, dax_fnn_har_w_qlike, dax_fnn_w_qlike, dax_cnn_w_qlike, dax_lstm_w_qlike, dax_gru_w_qlike)\n",
        "\n",
        "# B is number of bootstrap replications\n",
        "mcs_result_dax_se_w <- MCSprocedure(errors_matrix_se, alpha = 0.05, B = 5000, statistic = \"Tmax\")\n",
        "\n",
        "mcs_result_dax_qlike_w <- MCSprocedure(errors_matrix_qlike, alpha = 0.05, B = 5000, statistic = \"Tmax\")"
      ],
      "metadata": {
        "colab": {
          "base_uri": "https://localhost:8080/"
        },
        "outputId": "3f751688-e3c4-4234-d7d4-0e01c0eedae8",
        "id": "5gUuKLWM8kGt"
      },
      "execution_count": 133,
      "outputs": [
        {
          "output_type": "stream",
          "name": "stdout",
          "text": [
            "\n",
            "###########################################################################################################################\n",
            "Superior Set Model created\t:\n",
            "                 Rank_M          v_M MCS_M Rank_R        v_R  MCS_R\n",
            "dax_har_w_se          1 -2.084605255 1.000      1 -0.1092147 1.0000\n",
            "dax_fnn_har_w_se      2 -2.079258935 1.000      2  0.1092147 1.0000\n",
            "dax_fnn_w_se          4 -0.938462038 1.000      6  1.9568046 0.2064\n",
            "dax_cnn_w_se          5  0.008427065 1.000      5  1.9446188 0.2124\n",
            "dax_lstm_w_se         6  1.359619229 0.311      3  1.5129436 0.5236\n",
            "dax_gru_w_se          3 -1.586329799 1.000      4  1.8218595 0.2836\n",
            "                         Loss\n",
            "dax_har_w_se     2.154603e-10\n",
            "dax_fnn_har_w_se 2.179738e-10\n",
            "dax_fnn_w_se     2.884802e-10\n",
            "dax_cnn_w_se     3.602319e-10\n",
            "dax_lstm_w_se    8.089127e-10\n",
            "dax_gru_w_se     2.653300e-10\n",
            "p-value\t:\n",
            "[1] 0.311\n",
            "\n",
            "###########################################################################################################################\n",
            "###########################################################################################################################\n",
            "Superior Set Model created\t:\n",
            "                    Rank_M         v_M  MCS_M Rank_R        v_R  MCS_R\n",
            "dax_har_w_qlike          1 -4.71404088 1.0000      2  0.1979377 1.0000\n",
            "dax_fnn_har_w_qlike      2 -3.68464994 1.0000      1 -0.1979377 1.0000\n",
            "dax_fnn_w_qlike          4  0.02929761 1.0000      3  2.2065719 0.1396\n",
            "dax_cnn_w_qlike          5  1.09731271 0.5862      6  3.6837997 0.0004\n",
            "dax_lstm_w_qlike         6  1.76105902 0.2050      5  2.6637471 0.0412\n",
            "dax_gru_w_qlike          3 -0.51624771 1.0000      4  2.2779652 0.1178\n",
            "                         Loss\n",
            "dax_har_w_qlike     -9.697744\n",
            "dax_fnn_har_w_qlike -9.701047\n",
            "dax_fnn_w_qlike     -9.642763\n",
            "dax_cnn_w_qlike     -9.610323\n",
            "dax_lstm_w_qlike    -9.554750\n",
            "dax_gru_w_qlike     -9.655052\n",
            "p-value\t:\n",
            "[1] 0.205\n",
            "\n",
            "###########################################################################################################################"
          ]
        }
      ]
    },
    {
      "cell_type": "code",
      "source": [
        "# Diebold-Mariano test\n",
        "\n",
        "dm_se_dax_w_har_fnn_har <- dm.test(dax_har_w_se, dax_fnn_har_w_se, alternative = \"two.sided\")\n",
        "dm_se_dax_w_har_fnn <- dm.test(dax_har_w_se, dax_fnn_w_se, alternative = \"two.sided\")\n",
        "dm_se_dax_w_har_cnn <- dm.test(dax_har_w_se, dax_cnn_w_se, alternative = \"two.sided\")\n",
        "dm_se_dax_w_har_lstm <- dm.test(dax_har_w_se, dax_lstm_w_se, alternative = \"two.sided\")\n",
        "dm_se_dax_w_har_gru <- dm.test(dax_har_w_se, dax_gru_w_se, alternative = \"two.sided\")\n",
        "dm_se_dax_w_fnn_har_fnn <- dm.test(dax_fnn_har_w_se, dax_fnn_w_se, alternative = \"two.sided\")\n",
        "dm_se_dax_w_fnn_har_cnn <- dm.test(dax_fnn_har_w_se, dax_cnn_w_se, alternative = \"two.sided\")\n",
        "dm_se_dax_w_fnn_har_lstm <- dm.test(dax_fnn_har_w_se, dax_lstm_w_se, alternative = \"two.sided\")\n",
        "dm_se_dax_w_fnn_har_gru <- dm.test(dax_fnn_har_w_se, dax_gru_w_se, alternative = \"two.sided\")\n",
        "dm_se_dax_w_fnn_cnn <- dm.test(dax_fnn_w_se, dax_cnn_w_se, alternative = \"two.sided\")\n",
        "dm_se_dax_w_fnn_lstm <- dm.test(dax_fnn_w_se, dax_lstm_w_se, alternative = \"two.sided\")\n",
        "dm_se_dax_w_fnn_gru <- dm.test(dax_fnn_w_se, dax_gru_w_se, alternative = \"two.sided\")\n",
        "dm_se_dax_w_cnn_lstm <- dm.test(dax_cnn_w_se, dax_lstm_w_se, alternative = \"two.sided\")\n",
        "dm_se_dax_w_cnn_gru <- dm.test(dax_cnn_w_se, dax_gru_w_se, alternative = \"two.sided\")\n",
        "dm_se_dax_w_lstm_gru <- dm.test(dax_lstm_w_se, dax_gru_w_se, alternative = \"two.sided\")\n",
        "\n",
        "dm_qlike_dax_w_har_fnn_har <- dm.test(dax_har_w_qlike, dax_fnn_har_w_qlike, alternative = \"two.sided\")\n",
        "dm_qlike_dax_w_har_fnn <- dm.test(dax_har_w_qlike, dax_fnn_w_qlike, alternative = \"two.sided\")\n",
        "dm_qlike_dax_w_har_cnn <- dm.test(dax_har_w_qlike, dax_cnn_w_qlike, alternative = \"two.sided\")\n",
        "dm_qlike_dax_w_har_lstm <- dm.test(dax_har_w_qlike, dax_lstm_w_qlike, alternative = \"two.sided\")\n",
        "dm_qlike_dax_w_har_gru <- dm.test(dax_har_w_qlike, dax_gru_w_qlike, alternative = \"two.sided\")\n",
        "dm_qlike_dax_w_fnn_har_fnn <- dm.test(dax_fnn_har_w_qlike, dax_fnn_w_qlike, alternative = \"two.sided\")\n",
        "dm_qlike_dax_w_fnn_har_cnn <- dm.test(dax_fnn_har_w_qlike, dax_cnn_w_qlike, alternative = \"two.sided\")\n",
        "dm_qlike_dax_w_fnn_har_lstm <- dm.test(dax_fnn_har_w_qlike, dax_lstm_w_qlike, alternative = \"two.sided\")\n",
        "dm_qlike_dax_w_fnn_har_gru <- dm.test(dax_fnn_har_w_qlike, dax_gru_w_qlike, alternative = \"two.sided\")\n",
        "dm_qlike_dax_w_fnn_cnn <- dm.test(dax_fnn_w_qlike, dax_cnn_w_qlike, alternative = \"two.sided\")\n",
        "dm_qlike_dax_w_fnn_lstm <- dm.test(dax_fnn_w_qlike, dax_lstm_w_qlike, alternative = \"two.sided\")\n",
        "dm_qlike_dax_w_fnn_gru <- dm.test(dax_fnn_w_qlike, dax_gru_w_qlike, alternative = \"two.sided\")\n",
        "dm_qlike_dax_w_cnn_lstm <- dm.test(dax_cnn_w_qlike, dax_lstm_w_qlike, alternative = \"two.sided\")\n",
        "dm_qlike_dax_w_cnn_gru <- dm.test(dax_cnn_w_qlike, dax_gru_w_qlike, alternative = \"two.sided\")\n",
        "dm_qlike_dax_w_lstm_gru <- dm.test(dax_lstm_w_qlike, dax_gru_w_qlike, alternative = \"two.sided\")"
      ],
      "metadata": {
        "id": "XWASsJtN8kGt"
      },
      "execution_count": 134,
      "outputs": []
    },
    {
      "cell_type": "markdown",
      "source": [
        "##### HAR vs FNN-HAR"
      ],
      "metadata": {
        "id": "Dm5Us1aA8kGu"
      }
    },
    {
      "cell_type": "code",
      "source": [
        "print(dm_se_dax_w_har_fnn_har)"
      ],
      "metadata": {
        "colab": {
          "base_uri": "https://localhost:8080/"
        },
        "outputId": "cd720ed9-05e3-4d81-a0a6-5f3401481268",
        "id": "u4ulcr8n8kGu"
      },
      "execution_count": 135,
      "outputs": [
        {
          "output_type": "stream",
          "name": "stdout",
          "text": [
            "\n",
            "\tDiebold-Mariano Test\n",
            "\n",
            "data:  dax_har_w_sedax_fnn_har_w_se\n",
            "DM = -1.041, Forecast horizon = 1, Loss function power = 2, p-value =\n",
            "0.3025\n",
            "alternative hypothesis: two.sided\n",
            "\n"
          ]
        }
      ]
    },
    {
      "cell_type": "code",
      "source": [
        "print(dm_qlike_dax_w_har_fnn_har)"
      ],
      "metadata": {
        "colab": {
          "base_uri": "https://localhost:8080/"
        },
        "outputId": "db38fce7-7acd-468b-a30a-631b64d81298",
        "id": "bzeP4Kr18kGu"
      },
      "execution_count": 136,
      "outputs": [
        {
          "output_type": "stream",
          "name": "stdout",
          "text": [
            "\n",
            "\tDiebold-Mariano Test\n",
            "\n",
            "data:  dax_har_w_qlikedax_fnn_har_w_qlike\n",
            "DM = -0.60273, Forecast horizon = 1, Loss function power = 2, p-value =\n",
            "0.5492\n",
            "alternative hypothesis: two.sided\n",
            "\n"
          ]
        }
      ]
    },
    {
      "cell_type": "markdown",
      "source": [
        "##### HAR vs FNN"
      ],
      "metadata": {
        "id": "MNVLtZzt8kGv"
      }
    },
    {
      "cell_type": "code",
      "source": [
        "print(dm_se_dax_w_har_fnn)"
      ],
      "metadata": {
        "colab": {
          "base_uri": "https://localhost:8080/"
        },
        "outputId": "d551adee-67ca-4883-f825-6d6a8c9df95a",
        "id": "abHnH7vl8kGv"
      },
      "execution_count": 137,
      "outputs": [
        {
          "output_type": "stream",
          "name": "stdout",
          "text": [
            "\n",
            "\tDiebold-Mariano Test\n",
            "\n",
            "data:  dax_har_w_sedax_fnn_w_se\n",
            "DM = -0.23264, Forecast horizon = 1, Loss function power = 2, p-value =\n",
            "0.8169\n",
            "alternative hypothesis: two.sided\n",
            "\n"
          ]
        }
      ]
    },
    {
      "cell_type": "code",
      "source": [
        "print(dm_qlike_dax_w_har_fnn)"
      ],
      "metadata": {
        "colab": {
          "base_uri": "https://localhost:8080/"
        },
        "outputId": "f8a11e4a-7387-4486-b784-8df19ad72b04",
        "id": "laDyE6Xv8kGv"
      },
      "execution_count": 138,
      "outputs": [
        {
          "output_type": "stream",
          "name": "stdout",
          "text": [
            "\n",
            "\tDiebold-Mariano Test\n",
            "\n",
            "data:  dax_har_w_qlikedax_fnn_w_qlike\n",
            "DM = 1.1613, Forecast horizon = 1, Loss function power = 2, p-value =\n",
            "0.2506\n",
            "alternative hypothesis: two.sided\n",
            "\n"
          ]
        }
      ]
    },
    {
      "cell_type": "markdown",
      "source": [
        "##### HAR vs CNN"
      ],
      "metadata": {
        "id": "cx8tde5H8kGv"
      }
    },
    {
      "cell_type": "code",
      "source": [
        "print(dm_se_dax_w_har_cnn)"
      ],
      "metadata": {
        "colab": {
          "base_uri": "https://localhost:8080/"
        },
        "outputId": "b8effd1f-7411-427f-ad0c-96c9c97beb38",
        "id": "A1W7YVdO8kGv"
      },
      "execution_count": 139,
      "outputs": [
        {
          "output_type": "stream",
          "name": "stdout",
          "text": [
            "\n",
            "\tDiebold-Mariano Test\n",
            "\n",
            "data:  dax_har_w_sedax_cnn_w_se\n",
            "DM = -1.0875, Forecast horizon = 1, Loss function power = 2, p-value =\n",
            "0.2816\n",
            "alternative hypothesis: two.sided\n",
            "\n"
          ]
        }
      ]
    },
    {
      "cell_type": "code",
      "source": [
        "print(dm_qlike_dax_w_har_cnn)"
      ],
      "metadata": {
        "colab": {
          "base_uri": "https://localhost:8080/"
        },
        "outputId": "d4c2c5d2-f014-4acb-87f8-6f784ce460a5",
        "id": "UEaxDM1A8kGw"
      },
      "execution_count": 140,
      "outputs": [
        {
          "output_type": "stream",
          "name": "stdout",
          "text": [
            "\n",
            "\tDiebold-Mariano Test\n",
            "\n",
            "data:  dax_har_w_qlikedax_cnn_w_qlike\n",
            "DM = 1.8435, Forecast horizon = 1, Loss function power = 2, p-value =\n",
            "0.07075\n",
            "alternative hypothesis: two.sided\n",
            "\n"
          ]
        }
      ]
    },
    {
      "cell_type": "markdown",
      "source": [
        "##### HAR vs LSTM"
      ],
      "metadata": {
        "id": "IseRf2ws8kGw"
      }
    },
    {
      "cell_type": "code",
      "source": [
        "print(dm_se_dax_w_har_lstm)"
      ],
      "metadata": {
        "colab": {
          "base_uri": "https://localhost:8080/"
        },
        "outputId": "ae5f8b1f-8d52-4c84-d5ba-401003933d4a",
        "id": "2dGxXm7L8kGw"
      },
      "execution_count": 141,
      "outputs": [
        {
          "output_type": "stream",
          "name": "stdout",
          "text": [
            "\n",
            "\tDiebold-Mariano Test\n",
            "\n",
            "data:  dax_har_w_sedax_lstm_w_se\n",
            "DM = -2.533, Forecast horizon = 1, Loss function power = 2, p-value =\n",
            "0.01425\n",
            "alternative hypothesis: two.sided\n",
            "\n"
          ]
        }
      ]
    },
    {
      "cell_type": "code",
      "source": [
        "print(dm_qlike_dax_w_har_lstm)"
      ],
      "metadata": {
        "colab": {
          "base_uri": "https://localhost:8080/"
        },
        "outputId": "d1d03c4c-2945-4838-a772-a0b9e626efaa",
        "id": "eXSa9E3L8kGw"
      },
      "execution_count": 142,
      "outputs": [
        {
          "output_type": "stream",
          "name": "stdout",
          "text": [
            "\n",
            "\tDiebold-Mariano Test\n",
            "\n",
            "data:  dax_har_w_qlikedax_lstm_w_qlike\n",
            "DM = 3.5293, Forecast horizon = 1, Loss function power = 2, p-value =\n",
            "0.0008602\n",
            "alternative hypothesis: two.sided\n",
            "\n"
          ]
        }
      ]
    },
    {
      "cell_type": "markdown",
      "source": [
        "##### HAR vs GRU"
      ],
      "metadata": {
        "id": "MFs7tfHM8kGw"
      }
    },
    {
      "cell_type": "code",
      "source": [
        "print(dm_se_dax_w_har_gru)"
      ],
      "metadata": {
        "colab": {
          "base_uri": "https://localhost:8080/"
        },
        "outputId": "a2e0769d-0467-482d-df56-30d7e7085be1",
        "id": "C90fstyh8kGx"
      },
      "execution_count": 143,
      "outputs": [
        {
          "output_type": "stream",
          "name": "stdout",
          "text": [
            "\n",
            "\tDiebold-Mariano Test\n",
            "\n",
            "data:  dax_har_w_sedax_gru_w_se\n",
            "DM = -0.92791, Forecast horizon = 1, Loss function power = 2, p-value =\n",
            "0.3576\n",
            "alternative hypothesis: two.sided\n",
            "\n"
          ]
        }
      ]
    },
    {
      "cell_type": "code",
      "source": [
        "print(dm_qlike_dax_w_har_gru)"
      ],
      "metadata": {
        "colab": {
          "base_uri": "https://localhost:8080/"
        },
        "outputId": "a463919c-0f3f-4888-935f-05ade22b7b3a",
        "id": "pJuUek3K8kGx"
      },
      "execution_count": 144,
      "outputs": [
        {
          "output_type": "stream",
          "name": "stdout",
          "text": [
            "\n",
            "\tDiebold-Mariano Test\n",
            "\n",
            "data:  dax_har_w_qlikedax_gru_w_qlike\n",
            "DM = 2.4079, Forecast horizon = 1, Loss function power = 2, p-value =\n",
            "0.01949\n",
            "alternative hypothesis: two.sided\n",
            "\n"
          ]
        }
      ]
    },
    {
      "cell_type": "markdown",
      "source": [
        "##### FNN-HAR vs FNN"
      ],
      "metadata": {
        "id": "QTuGEV_d8kGy"
      }
    },
    {
      "cell_type": "code",
      "source": [
        "print(dm_se_dax_w_fnn_har_fnn)"
      ],
      "metadata": {
        "colab": {
          "base_uri": "https://localhost:8080/"
        },
        "outputId": "aa076995-1995-4354-a9e5-fa28393cc89f",
        "id": "YdbKKJXZ8kGy"
      },
      "execution_count": 145,
      "outputs": [
        {
          "output_type": "stream",
          "name": "stdout",
          "text": [
            "\n",
            "\tDiebold-Mariano Test\n",
            "\n",
            "data:  dax_fnn_har_w_sedax_fnn_w_se\n",
            "DM = 0.48133, Forecast horizon = 1, Loss function power = 2, p-value =\n",
            "0.6322\n",
            "alternative hypothesis: two.sided\n",
            "\n"
          ]
        }
      ]
    },
    {
      "cell_type": "code",
      "source": [
        "print(dm_qlike_dax_w_fnn_har_fnn)"
      ],
      "metadata": {
        "colab": {
          "base_uri": "https://localhost:8080/"
        },
        "outputId": "f56bd827-dd1f-4326-c275-2971a3513a41",
        "id": "cLKMsoAJ8kGz"
      },
      "execution_count": 146,
      "outputs": [
        {
          "output_type": "stream",
          "name": "stdout",
          "text": [
            "\n",
            "\tDiebold-Mariano Test\n",
            "\n",
            "data:  dax_fnn_har_w_qlikedax_fnn_w_qlike\n",
            "DM = 2.0164, Forecast horizon = 1, Loss function power = 2, p-value =\n",
            "0.04874\n",
            "alternative hypothesis: two.sided\n",
            "\n"
          ]
        }
      ]
    },
    {
      "cell_type": "markdown",
      "source": [
        "##### FNN-HAR vs CNN"
      ],
      "metadata": {
        "id": "m8DDcRSc8kGz"
      }
    },
    {
      "cell_type": "code",
      "source": [
        "print(dm_se_dax_w_fnn_har_cnn)"
      ],
      "metadata": {
        "colab": {
          "base_uri": "https://localhost:8080/"
        },
        "outputId": "4930cd42-322f-41bc-9851-baa70179aa52",
        "id": "7N0q8I3I8kG0"
      },
      "execution_count": 147,
      "outputs": [
        {
          "output_type": "stream",
          "name": "stdout",
          "text": [
            "\n",
            "\tDiebold-Mariano Test\n",
            "\n",
            "data:  dax_fnn_har_w_sedax_cnn_w_se\n",
            "DM = -1.0976, Forecast horizon = 1, Loss function power = 2, p-value =\n",
            "0.2772\n",
            "alternative hypothesis: two.sided\n",
            "\n"
          ]
        }
      ]
    },
    {
      "cell_type": "code",
      "source": [
        "print(dm_qlike_dax_w_fnn_har_cnn)"
      ],
      "metadata": {
        "colab": {
          "base_uri": "https://localhost:8080/"
        },
        "outputId": "0e3fe438-7614-47df-804e-e87a9ec9d7f9",
        "id": "SvdrX1D_8kG1"
      },
      "execution_count": 148,
      "outputs": [
        {
          "output_type": "stream",
          "name": "stdout",
          "text": [
            "\n",
            "\tDiebold-Mariano Test\n",
            "\n",
            "data:  dax_fnn_har_w_qlikedax_cnn_w_qlike\n",
            "DM = 3.1728, Forecast horizon = 1, Loss function power = 2, p-value =\n",
            "0.002491\n",
            "alternative hypothesis: two.sided\n",
            "\n"
          ]
        }
      ]
    },
    {
      "cell_type": "markdown",
      "source": [
        "##### FNN-HAR vs LSTM"
      ],
      "metadata": {
        "id": "ehid5iIe8kG1"
      }
    },
    {
      "cell_type": "code",
      "source": [
        "print(dm_se_dax_w_fnn_har_lstm)"
      ],
      "metadata": {
        "colab": {
          "base_uri": "https://localhost:8080/"
        },
        "outputId": "d0c17405-0b7c-4ec3-d5aa-14084c7db5ac",
        "id": "rHSm_lag8kG1"
      },
      "execution_count": 149,
      "outputs": [
        {
          "output_type": "stream",
          "name": "stdout",
          "text": [
            "\n",
            "\tDiebold-Mariano Test\n",
            "\n",
            "data:  dax_fnn_har_w_sedax_lstm_w_se\n",
            "DM = -2.4339, Forecast horizon = 1, Loss function power = 2, p-value =\n",
            "0.01828\n",
            "alternative hypothesis: two.sided\n",
            "\n"
          ]
        }
      ]
    },
    {
      "cell_type": "code",
      "source": [
        "print(dm_qlike_dax_w_fnn_har_lstm)"
      ],
      "metadata": {
        "colab": {
          "base_uri": "https://localhost:8080/"
        },
        "outputId": "9eff9567-bf37-41db-b8bb-f8dd428b0e66",
        "id": "m3OncpVg8kG2"
      },
      "execution_count": 150,
      "outputs": [
        {
          "output_type": "stream",
          "name": "stdout",
          "text": [
            "\n",
            "\tDiebold-Mariano Test\n",
            "\n",
            "data:  dax_fnn_har_w_qlikedax_lstm_w_qlike\n",
            "DM = 3.0762, Forecast horizon = 1, Loss function power = 2, p-value =\n",
            "0.003288\n",
            "alternative hypothesis: two.sided\n",
            "\n"
          ]
        }
      ]
    },
    {
      "cell_type": "markdown",
      "source": [
        "##### FNN-HAR vs GRU"
      ],
      "metadata": {
        "id": "0LexG0MX8kG3"
      }
    },
    {
      "cell_type": "code",
      "source": [
        "print(dm_se_dax_w_fnn_har_gru)"
      ],
      "metadata": {
        "colab": {
          "base_uri": "https://localhost:8080/"
        },
        "outputId": "31858695-ce10-47ae-ecd4-9e530995bcde",
        "id": "skQgEzjE8kG4"
      },
      "execution_count": 151,
      "outputs": [
        {
          "output_type": "stream",
          "name": "stdout",
          "text": [
            "\n",
            "\tDiebold-Mariano Test\n",
            "\n",
            "data:  dax_fnn_har_w_sedax_gru_w_se\n",
            "DM = 0.50127, Forecast horizon = 1, Loss function power = 2, p-value =\n",
            "0.6182\n",
            "alternative hypothesis: two.sided\n",
            "\n"
          ]
        }
      ]
    },
    {
      "cell_type": "code",
      "source": [
        "print(dm_qlike_dax_w_fnn_har_gru)"
      ],
      "metadata": {
        "colab": {
          "base_uri": "https://localhost:8080/"
        },
        "outputId": "0086a5de-2a17-4ceb-b564-0b6109b33b52",
        "id": "maNzhg7T8kG5"
      },
      "execution_count": 152,
      "outputs": [
        {
          "output_type": "stream",
          "name": "stdout",
          "text": [
            "\n",
            "\tDiebold-Mariano Test\n",
            "\n",
            "data:  dax_fnn_har_w_qlikedax_gru_w_qlike\n",
            "DM = 1.7467, Forecast horizon = 1, Loss function power = 2, p-value =\n",
            "0.08638\n",
            "alternative hypothesis: two.sided\n",
            "\n"
          ]
        }
      ]
    },
    {
      "cell_type": "markdown",
      "source": [
        "##### FNN vs CNN"
      ],
      "metadata": {
        "id": "zlHhx9BG8kG5"
      }
    },
    {
      "cell_type": "code",
      "source": [
        "print(dm_se_dax_w_fnn_cnn)"
      ],
      "metadata": {
        "colab": {
          "base_uri": "https://localhost:8080/"
        },
        "outputId": "f68e314d-aed2-4969-e952-14ca941685b3",
        "id": "dNZnFChd8kG6"
      },
      "execution_count": 153,
      "outputs": [
        {
          "output_type": "stream",
          "name": "stdout",
          "text": [
            "\n",
            "\tDiebold-Mariano Test\n",
            "\n",
            "data:  dax_fnn_w_sedax_cnn_w_se\n",
            "DM = -0.92437, Forecast horizon = 1, Loss function power = 2, p-value =\n",
            "0.3594\n",
            "alternative hypothesis: two.sided\n",
            "\n"
          ]
        }
      ]
    },
    {
      "cell_type": "code",
      "source": [
        "print(dm_qlike_dax_w_fnn_cnn)"
      ],
      "metadata": {
        "colab": {
          "base_uri": "https://localhost:8080/"
        },
        "outputId": "64f97fab-44aa-4a7e-9920-16e11e4789a4",
        "id": "Kfz74llg8kG6"
      },
      "execution_count": 154,
      "outputs": [
        {
          "output_type": "stream",
          "name": "stdout",
          "text": [
            "\n",
            "\tDiebold-Mariano Test\n",
            "\n",
            "data:  dax_fnn_w_qlikedax_cnn_w_qlike\n",
            "DM = 1.1426, Forecast horizon = 1, Loss function power = 2, p-value =\n",
            "0.2582\n",
            "alternative hypothesis: two.sided\n",
            "\n"
          ]
        }
      ]
    },
    {
      "cell_type": "markdown",
      "source": [
        "##### FNN vs LSTM"
      ],
      "metadata": {
        "id": "q72asLh48kG7"
      }
    },
    {
      "cell_type": "code",
      "source": [
        "print(dm_se_dax_w_fnn_lstm)"
      ],
      "metadata": {
        "colab": {
          "base_uri": "https://localhost:8080/"
        },
        "outputId": "27cc7481-c2b3-4765-9cc4-e65be533d49c",
        "id": "F0jXNRMX8kG7"
      },
      "execution_count": 155,
      "outputs": [
        {
          "output_type": "stream",
          "name": "stdout",
          "text": [
            "\n",
            "\tDiebold-Mariano Test\n",
            "\n",
            "data:  dax_fnn_w_sedax_lstm_w_se\n",
            "DM = -2.3953, Forecast horizon = 1, Loss function power = 2, p-value =\n",
            "0.0201\n",
            "alternative hypothesis: two.sided\n",
            "\n"
          ]
        }
      ]
    },
    {
      "cell_type": "code",
      "source": [
        "print(dm_qlike_dax_w_fnn_lstm)"
      ],
      "metadata": {
        "colab": {
          "base_uri": "https://localhost:8080/"
        },
        "outputId": "750074ec-7895-4aa8-a8fa-1feef0be925c",
        "id": "ebASGorT8kG7"
      },
      "execution_count": 156,
      "outputs": [
        {
          "output_type": "stream",
          "name": "stdout",
          "text": [
            "\n",
            "\tDiebold-Mariano Test\n",
            "\n",
            "data:  dax_fnn_w_qlikedax_lstm_w_qlike\n",
            "DM = 1.716, Forecast horizon = 1, Loss function power = 2, p-value =\n",
            "0.09189\n",
            "alternative hypothesis: two.sided\n",
            "\n"
          ]
        }
      ]
    },
    {
      "cell_type": "markdown",
      "source": [
        "##### FNN vs GRU"
      ],
      "metadata": {
        "id": "qkyGP2IO8kG8"
      }
    },
    {
      "cell_type": "code",
      "source": [
        "print(dm_se_dax_w_fnn_gru)"
      ],
      "metadata": {
        "colab": {
          "base_uri": "https://localhost:8080/"
        },
        "outputId": "d726d35e-56cf-49b5-f8f3-a8338cdab84d",
        "id": "FhXZ6Ahs8kG8"
      },
      "execution_count": 157,
      "outputs": [
        {
          "output_type": "stream",
          "name": "stdout",
          "text": [
            "\n",
            "\tDiebold-Mariano Test\n",
            "\n",
            "data:  dax_fnn_w_sedax_gru_w_se\n",
            "DM = -0.42565, Forecast horizon = 1, Loss function power = 2, p-value =\n",
            "0.6721\n",
            "alternative hypothesis: two.sided\n",
            "\n"
          ]
        }
      ]
    },
    {
      "cell_type": "code",
      "source": [
        "print(dm_qlike_dax_w_fnn_lstm)"
      ],
      "metadata": {
        "colab": {
          "base_uri": "https://localhost:8080/"
        },
        "outputId": "6e18a789-e56f-4ce0-d13d-40ff041394c7",
        "id": "fIoTS5jA8kG9"
      },
      "execution_count": 158,
      "outputs": [
        {
          "output_type": "stream",
          "name": "stdout",
          "text": [
            "\n",
            "\tDiebold-Mariano Test\n",
            "\n",
            "data:  dax_fnn_w_qlikedax_lstm_w_qlike\n",
            "DM = 1.716, Forecast horizon = 1, Loss function power = 2, p-value =\n",
            "0.09189\n",
            "alternative hypothesis: two.sided\n",
            "\n"
          ]
        }
      ]
    },
    {
      "cell_type": "markdown",
      "source": [
        "##### CNN vs LSTM"
      ],
      "metadata": {
        "id": "-uuq1Sr18kG9"
      }
    },
    {
      "cell_type": "code",
      "source": [
        "print(dm_se_dax_w_cnn_lstm)"
      ],
      "metadata": {
        "colab": {
          "base_uri": "https://localhost:8080/"
        },
        "outputId": "2475cfc9-baf9-4783-d64e-d92c648e88b0",
        "id": "eEPyOwpr8kG-"
      },
      "execution_count": 159,
      "outputs": [
        {
          "output_type": "stream",
          "name": "stdout",
          "text": [
            "\n",
            "\tDiebold-Mariano Test\n",
            "\n",
            "data:  dax_cnn_w_sedax_lstm_w_se\n",
            "DM = -1.4228, Forecast horizon = 1, Loss function power = 2, p-value =\n",
            "0.1605\n",
            "alternative hypothesis: two.sided\n",
            "\n"
          ]
        }
      ]
    },
    {
      "cell_type": "code",
      "source": [
        "print(dm_qlike_dax_w_cnn_lstm)"
      ],
      "metadata": {
        "colab": {
          "base_uri": "https://localhost:8080/"
        },
        "outputId": "9cf1b3dc-4b9a-449e-897a-d68292287790",
        "id": "IfC4CFQt8kG-"
      },
      "execution_count": 160,
      "outputs": [
        {
          "output_type": "stream",
          "name": "stdout",
          "text": [
            "\n",
            "\tDiebold-Mariano Test\n",
            "\n",
            "data:  dax_cnn_w_qlikedax_lstm_w_qlike\n",
            "DM = 1.2931, Forecast horizon = 1, Loss function power = 2, p-value =\n",
            "0.2015\n",
            "alternative hypothesis: two.sided\n",
            "\n"
          ]
        }
      ]
    },
    {
      "cell_type": "markdown",
      "source": [
        "##### CNN vs GRU"
      ],
      "metadata": {
        "id": "HHo0N1WN8kG-"
      }
    },
    {
      "cell_type": "code",
      "source": [
        "print(dm_se_dax_w_cnn_gru)"
      ],
      "metadata": {
        "colab": {
          "base_uri": "https://localhost:8080/"
        },
        "outputId": "a262bb42-4574-4f80-90f4-f2e5930a962d",
        "id": "CPwMUtSI8kG-"
      },
      "execution_count": 161,
      "outputs": [
        {
          "output_type": "stream",
          "name": "stdout",
          "text": [
            "\n",
            "\tDiebold-Mariano Test\n",
            "\n",
            "data:  dax_cnn_w_sedax_gru_w_se\n",
            "DM = 1.1249, Forecast horizon = 1, Loss function power = 2, p-value =\n",
            "0.2656\n",
            "alternative hypothesis: two.sided\n",
            "\n"
          ]
        }
      ]
    },
    {
      "cell_type": "code",
      "source": [
        "print(dm_qlike_dax_w_cnn_gru)"
      ],
      "metadata": {
        "colab": {
          "base_uri": "https://localhost:8080/"
        },
        "outputId": "80c99f84-73e7-4f13-9c8c-08f8e0d74fa5",
        "id": "OHyFPiuu8kG_"
      },
      "execution_count": 162,
      "outputs": [
        {
          "output_type": "stream",
          "name": "stdout",
          "text": [
            "\n",
            "\tDiebold-Mariano Test\n",
            "\n",
            "data:  dax_cnn_w_qlikedax_gru_w_qlike\n",
            "DM = -0.37365, Forecast horizon = 1, Loss function power = 2, p-value =\n",
            "0.7101\n",
            "alternative hypothesis: two.sided\n",
            "\n"
          ]
        }
      ]
    },
    {
      "cell_type": "markdown",
      "source": [
        "##### LSTM vs GRU"
      ],
      "metadata": {
        "id": "NUKNc8rU8kG_"
      }
    },
    {
      "cell_type": "code",
      "source": [
        "print(dm_se_dax_w_lstm_gru)"
      ],
      "metadata": {
        "colab": {
          "base_uri": "https://localhost:8080/"
        },
        "outputId": "fe9f6227-b625-4c95-9905-ce5330c2923d",
        "id": "oaohLhJO8kG_"
      },
      "execution_count": 163,
      "outputs": [
        {
          "output_type": "stream",
          "name": "stdout",
          "text": [
            "\n",
            "\tDiebold-Mariano Test\n",
            "\n",
            "data:  dax_lstm_w_sedax_gru_w_se\n",
            "DM = 2.4531, Forecast horizon = 1, Loss function power = 2, p-value =\n",
            "0.01742\n",
            "alternative hypothesis: two.sided\n",
            "\n"
          ]
        }
      ]
    },
    {
      "cell_type": "code",
      "source": [
        "print(dm_qlike_dax_w_lstm_gru)"
      ],
      "metadata": {
        "colab": {
          "base_uri": "https://localhost:8080/"
        },
        "outputId": "065e2edf-c98e-4233-ba15-d9721a2924b0",
        "id": "0X0QVgy-8kG_"
      },
      "execution_count": 164,
      "outputs": [
        {
          "output_type": "stream",
          "name": "stdout",
          "text": [
            "\n",
            "\tDiebold-Mariano Test\n",
            "\n",
            "data:  dax_lstm_w_qlikedax_gru_w_qlike\n",
            "DM = -2.8681, Forecast horizon = 1, Loss function power = 2, p-value =\n",
            "0.00588\n",
            "alternative hypothesis: two.sided\n",
            "\n"
          ]
        }
      ]
    },
    {
      "cell_type": "markdown",
      "source": [
        "#### Tests for the 1-month ahead forecast"
      ],
      "metadata": {
        "id": "98RAOJvJ2d85"
      }
    },
    {
      "cell_type": "code",
      "source": [
        "# MCS for squared-error loss\n",
        "\n",
        "errors_matrix_se <- cbind(dax_har_m_se, dax_fnn_har_m_se, dax_fnn_m_se, dax_cnn_m_se, dax_lstm_m_se, dax_gru_m_se)\n",
        "errors_matrix_qlike <- cbind(dax_har_m_qlike, dax_fnn_har_m_qlike, dax_fnn_m_qlike, dax_cnn_m_qlike, dax_lstm_m_qlike, dax_gru_m_qlike)\n",
        "\n",
        "# B is number of bootstrap replications\n",
        "mcs_result_dax_se_m <- MCSprocedure(errors_matrix_se, alpha = 0.05, B = 5000, statistic = \"Tmax\")\n",
        "\n",
        "mcs_result_dax_qlike_m <- MCSprocedure(errors_matrix_qlike, alpha = 0.05, B = 5000, statistic = \"Tmax\")"
      ],
      "metadata": {
        "colab": {
          "base_uri": "https://localhost:8080/"
        },
        "outputId": "f5719719-9e10-4593-a026-24d3cf49e282",
        "id": "tKW_kdsO2d9a"
      },
      "execution_count": 165,
      "outputs": [
        {
          "output_type": "stream",
          "name": "stdout",
          "text": [
            "\n",
            "###########################################################################################################################\n",
            "Superior Set Model created\t:\n",
            "                 Rank_M        v_M  MCS_M Rank_R        v_R  MCS_R         Loss\n",
            "dax_har_m_se          4  1.0097731 0.6702      5  2.2980483 0.1568 1.526423e-09\n",
            "dax_fnn_har_m_se      3 -0.9448002 1.0000      3  1.6171055 0.4988 1.423789e-09\n",
            "dax_fnn_m_se          6  1.6152109 0.2622      6  2.7247851 0.0678 1.535033e-09\n",
            "dax_cnn_m_se          5  1.0161974 0.6656      4  2.1498212 0.2134 1.529788e-09\n",
            "dax_lstm_m_se         2 -1.4474908 1.0000      2  0.7114503 0.9734 1.384507e-09\n",
            "dax_gru_m_se          1 -3.3424511 1.0000      1 -0.7114503 1.0000 1.345638e-09\n",
            "p-value\t:\n",
            "[1] 0.2622\n",
            "\n",
            "###########################################################################################################################\n",
            "###########################################################################################################################\n",
            "Superior Set Model created\t:\n",
            "                    Rank_M        v_M  MCS_M Rank_R        v_R  MCS_R      Loss\n",
            "dax_har_m_qlike          2 -1.4040030 1.0000      2  0.3959643 0.9984 -8.955064\n",
            "dax_fnn_har_m_qlike      4  0.1845767 0.9996      4  2.0111950 0.2722 -8.938209\n",
            "dax_fnn_m_qlike          6  1.9096340 0.1676      6  2.7040567 0.0530 -8.920141\n",
            "dax_cnn_m_qlike          5  1.6627075 0.2784      5  2.2732815 0.1540 -8.917438\n",
            "dax_lstm_m_qlike         3 -0.4873039 1.0000      3  1.1753514 0.8274 -8.944926\n",
            "dax_gru_m_qlike          1 -2.6994199 1.0000      1 -0.3959643 1.0000 -8.959694\n",
            "p-value\t:\n",
            "[1] 0.1676\n",
            "\n",
            "###########################################################################################################################"
          ]
        }
      ]
    },
    {
      "cell_type": "code",
      "source": [
        "# Diebold-Mariano test\n",
        "\n",
        "dm_se_dax_m_har_fnn_har <- dm.test(dax_har_m_se, dax_fnn_har_m_se, alternative = \"two.sided\")\n",
        "dm_se_dax_m_har_fnn <- dm.test(dax_har_m_se, dax_fnn_m_se, alternative = \"two.sided\")\n",
        "dm_se_dax_m_har_cnn <- dm.test(dax_har_m_se, dax_cnn_m_se, alternative = \"two.sided\")\n",
        "dm_se_dax_m_har_lstm <- dm.test(dax_har_m_se, dax_lstm_m_se, alternative = \"two.sided\")\n",
        "dm_se_dax_m_har_gru <- dm.test(dax_har_m_se, dax_gru_m_se, alternative = \"two.sided\")\n",
        "dm_se_dax_m_fnn_har_fnn <- dm.test(dax_fnn_har_m_se, dax_fnn_m_se, alternative = \"two.sided\")\n",
        "dm_se_dax_m_fnn_har_cnn <- dm.test(dax_fnn_har_m_se, dax_cnn_m_se, alternative = \"two.sided\")\n",
        "dm_se_dax_m_fnn_har_lstm <- dm.test(dax_fnn_har_m_se, dax_lstm_m_se, alternative = \"two.sided\")\n",
        "dm_se_dax_m_fnn_har_gru <- dm.test(dax_fnn_har_m_se, dax_gru_m_se, alternative = \"two.sided\")\n",
        "dm_se_dax_m_fnn_cnn <- dm.test(dax_fnn_m_se, dax_cnn_m_se, alternative = \"two.sided\")\n",
        "dm_se_dax_m_fnn_lstm <- dm.test(dax_fnn_m_se, dax_lstm_m_se, alternative = \"two.sided\")\n",
        "dm_se_dax_m_fnn_gru <- dm.test(dax_fnn_m_se, dax_gru_m_se, alternative = \"two.sided\")\n",
        "dm_se_dax_m_cnn_lstm <- dm.test(dax_cnn_m_se, dax_lstm_m_se, alternative = \"two.sided\")\n",
        "dm_se_dax_m_cnn_gru <- dm.test(dax_cnn_m_se, dax_gru_m_se, alternative = \"two.sided\")\n",
        "dm_se_dax_m_lstm_gru <- dm.test(dax_lstm_m_se, dax_gru_m_se, alternative = \"two.sided\")\n",
        "\n",
        "dm_qlike_dax_m_har_fnn_har <- dm.test(dax_har_m_qlike, dax_fnn_har_m_qlike, alternative = \"two.sided\")\n",
        "dm_qlike_dax_m_har_fnn <- dm.test(dax_har_m_qlike, dax_fnn_m_qlike, alternative = \"two.sided\")\n",
        "dm_qlike_dax_m_har_cnn <- dm.test(dax_har_m_qlike, dax_cnn_m_qlike, alternative = \"two.sided\")\n",
        "dm_qlike_dax_m_har_lstm <- dm.test(dax_har_m_qlike, dax_lstm_m_qlike, alternative = \"two.sided\")\n",
        "dm_qlike_dax_m_har_gru <- dm.test(dax_har_m_qlike, dax_gru_m_qlike, alternative = \"two.sided\")\n",
        "dm_qlike_dax_m_fnn_har_fnn <- dm.test(dax_fnn_har_m_qlike, dax_fnn_m_qlike, alternative = \"two.sided\")\n",
        "dm_qlike_dax_m_fnn_har_cnn <- dm.test(dax_fnn_har_m_qlike, dax_cnn_m_qlike, alternative = \"two.sided\")\n",
        "dm_qlike_dax_m_fnn_har_lstm <- dm.test(dax_fnn_har_m_qlike, dax_lstm_m_qlike, alternative = \"two.sided\")\n",
        "dm_qlike_dax_m_fnn_har_gru <- dm.test(dax_fnn_har_m_qlike, dax_gru_m_qlike, alternative = \"two.sided\")\n",
        "dm_qlike_dax_m_fnn_cnn <- dm.test(dax_fnn_m_qlike, dax_cnn_m_qlike, alternative = \"two.sided\")\n",
        "dm_qlike_dax_m_fnn_lstm <- dm.test(dax_fnn_m_qlike, dax_lstm_m_qlike, alternative = \"two.sided\")\n",
        "dm_qlike_dax_m_fnn_gru <- dm.test(dax_fnn_m_qlike, dax_gru_m_qlike, alternative = \"two.sided\")\n",
        "dm_qlike_dax_m_cnn_lstm <- dm.test(dax_cnn_m_qlike, dax_lstm_m_qlike, alternative = \"two.sided\")\n",
        "dm_qlike_dax_m_cnn_gru <- dm.test(dax_cnn_m_qlike, dax_gru_m_qlike, alternative = \"two.sided\")\n",
        "dm_qlike_dax_m_lstm_gru <- dm.test(dax_lstm_m_qlike, dax_gru_m_qlike, alternative = \"two.sided\")"
      ],
      "metadata": {
        "id": "_Xn7-QsG2d9b"
      },
      "execution_count": 166,
      "outputs": []
    },
    {
      "cell_type": "markdown",
      "source": [
        "##### HAR vs FNN-HAR"
      ],
      "metadata": {
        "id": "rEPWy0gW2d9d"
      }
    },
    {
      "cell_type": "code",
      "source": [
        "print(dm_se_dax_m_har_fnn_har)"
      ],
      "metadata": {
        "colab": {
          "base_uri": "https://localhost:8080/"
        },
        "outputId": "3af0ba46-a530-4047-9ca0-923cbf18a9ae",
        "id": "1AB7xynt2d9e"
      },
      "execution_count": 167,
      "outputs": [
        {
          "output_type": "stream",
          "name": "stdout",
          "text": [
            "\n",
            "\tDiebold-Mariano Test\n",
            "\n",
            "data:  dax_har_m_sedax_fnn_har_m_se\n",
            "DM = -1.3418, Forecast horizon = 1, Loss function power = 2, p-value =\n",
            "0.181\n",
            "alternative hypothesis: two.sided\n",
            "\n"
          ]
        }
      ]
    },
    {
      "cell_type": "code",
      "source": [
        "print(dm_qlike_dax_m_har_fnn_har)"
      ],
      "metadata": {
        "colab": {
          "base_uri": "https://localhost:8080/"
        },
        "outputId": "dc4c6762-3270-4f2c-aa78-7a4fbfde8c74",
        "id": "Iy2fStrn2d9e"
      },
      "execution_count": 168,
      "outputs": [
        {
          "output_type": "stream",
          "name": "stdout",
          "text": [
            "\n",
            "\tDiebold-Mariano Test\n",
            "\n",
            "data:  dax_har_m_qlikedax_fnn_har_m_qlike\n",
            "DM = 0.40593, Forecast horizon = 1, Loss function power = 2, p-value =\n",
            "0.6852\n",
            "alternative hypothesis: two.sided\n",
            "\n"
          ]
        }
      ]
    },
    {
      "cell_type": "markdown",
      "source": [
        "##### HAR vs FNN"
      ],
      "metadata": {
        "id": "d2db3-9B2d9f"
      }
    },
    {
      "cell_type": "code",
      "source": [
        "print(dm_se_dax_m_har_fnn)"
      ],
      "metadata": {
        "colab": {
          "base_uri": "https://localhost:8080/"
        },
        "outputId": "4538303c-b3e1-4635-8474-f4f753436f55",
        "id": "TfFZI8X82d9g"
      },
      "execution_count": 169,
      "outputs": [
        {
          "output_type": "stream",
          "name": "stdout",
          "text": [
            "\n",
            "\tDiebold-Mariano Test\n",
            "\n",
            "data:  dax_har_m_sedax_fnn_m_se\n",
            "DM = -1.4071, Forecast horizon = 1, Loss function power = 2, p-value =\n",
            "0.1608\n",
            "alternative hypothesis: two.sided\n",
            "\n"
          ]
        }
      ]
    },
    {
      "cell_type": "code",
      "source": [
        "print(dm_qlike_dax_m_har_fnn)"
      ],
      "metadata": {
        "colab": {
          "base_uri": "https://localhost:8080/"
        },
        "outputId": "e0abba16-7777-4345-fdc9-7fa3d43d7a83",
        "id": "LaHSQUwU2d9g"
      },
      "execution_count": 170,
      "outputs": [
        {
          "output_type": "stream",
          "name": "stdout",
          "text": [
            "\n",
            "\tDiebold-Mariano Test\n",
            "\n",
            "data:  dax_har_m_qlikedax_fnn_m_qlike\n",
            "DM = 1.446, Forecast horizon = 1, Loss function power = 2, p-value =\n",
            "0.1496\n",
            "alternative hypothesis: two.sided\n",
            "\n"
          ]
        }
      ]
    },
    {
      "cell_type": "markdown",
      "source": [
        "##### HAR vs CNN"
      ],
      "metadata": {
        "id": "uX-i3wom2d9h"
      }
    },
    {
      "cell_type": "code",
      "source": [
        "print(dm_se_dax_m_har_cnn)"
      ],
      "metadata": {
        "colab": {
          "base_uri": "https://localhost:8080/"
        },
        "outputId": "2f5ddec3-e259-4077-d98b-365a2aee8d89",
        "id": "lL9JGNY-2d9h"
      },
      "execution_count": 171,
      "outputs": [
        {
          "output_type": "stream",
          "name": "stdout",
          "text": [
            "\n",
            "\tDiebold-Mariano Test\n",
            "\n",
            "data:  dax_har_m_sedax_cnn_m_se\n",
            "DM = -1.3496, Forecast horizon = 1, Loss function power = 2, p-value =\n",
            "0.1786\n",
            "alternative hypothesis: two.sided\n",
            "\n"
          ]
        }
      ]
    },
    {
      "cell_type": "code",
      "source": [
        "print(dm_qlike_dax_m_har_cnn)"
      ],
      "metadata": {
        "colab": {
          "base_uri": "https://localhost:8080/"
        },
        "outputId": "91f62535-a412-4de2-abe7-7a32e20fad60",
        "id": "xDT9RhF32d9i"
      },
      "execution_count": 172,
      "outputs": [
        {
          "output_type": "stream",
          "name": "stdout",
          "text": [
            "\n",
            "\tDiebold-Mariano Test\n",
            "\n",
            "data:  dax_har_m_qlikedax_cnn_m_qlike\n",
            "DM = 1.5136, Forecast horizon = 1, Loss function power = 2, p-value =\n",
            "0.1316\n",
            "alternative hypothesis: two.sided\n",
            "\n"
          ]
        }
      ]
    },
    {
      "cell_type": "markdown",
      "source": [
        "##### HAR vs LSTM"
      ],
      "metadata": {
        "id": "6MblcvpP2d9i"
      }
    },
    {
      "cell_type": "code",
      "source": [
        "print(dm_se_dax_m_har_lstm)"
      ],
      "metadata": {
        "colab": {
          "base_uri": "https://localhost:8080/"
        },
        "outputId": "66814671-b56a-4195-f954-6b4c17ebed1f",
        "id": "wkURtwxe2d9j"
      },
      "execution_count": 173,
      "outputs": [
        {
          "output_type": "stream",
          "name": "stdout",
          "text": [
            "\n",
            "\tDiebold-Mariano Test\n",
            "\n",
            "data:  dax_har_m_sedax_lstm_m_se\n",
            "DM = -1.0598, Forecast horizon = 1, Loss function power = 2, p-value =\n",
            "0.2904\n",
            "alternative hypothesis: two.sided\n",
            "\n"
          ]
        }
      ]
    },
    {
      "cell_type": "code",
      "source": [
        "print(dm_qlike_dax_m_har_lstm)"
      ],
      "metadata": {
        "colab": {
          "base_uri": "https://localhost:8080/"
        },
        "outputId": "ba5d9e23-ad7e-49ff-dc30-eaca187b6b3a",
        "id": "o53WZpIa2d9j"
      },
      "execution_count": 174,
      "outputs": [
        {
          "output_type": "stream",
          "name": "stdout",
          "text": [
            "\n",
            "\tDiebold-Mariano Test\n",
            "\n",
            "data:  dax_har_m_qlikedax_lstm_m_qlike\n",
            "DM = 0.63446, Forecast horizon = 1, Loss function power = 2, p-value =\n",
            "0.5264\n",
            "alternative hypothesis: two.sided\n",
            "\n"
          ]
        }
      ]
    },
    {
      "cell_type": "markdown",
      "source": [
        "##### HAR vs GRU"
      ],
      "metadata": {
        "id": "QDatHPJh2d9k"
      }
    },
    {
      "cell_type": "code",
      "source": [
        "print(dm_se_dax_m_har_gru)"
      ],
      "metadata": {
        "colab": {
          "base_uri": "https://localhost:8080/"
        },
        "outputId": "67112f6f-c456-4b92-a7ec-11cf0e0cc96a",
        "id": "0hpnZYr62d9k"
      },
      "execution_count": 175,
      "outputs": [
        {
          "output_type": "stream",
          "name": "stdout",
          "text": [
            "\n",
            "\tDiebold-Mariano Test\n",
            "\n",
            "data:  dax_har_m_sedax_gru_m_se\n",
            "DM = -1.1624, Forecast horizon = 1, Loss function power = 2, p-value =\n",
            "0.2464\n",
            "alternative hypothesis: two.sided\n",
            "\n"
          ]
        }
      ]
    },
    {
      "cell_type": "code",
      "source": [
        "print(dm_qlike_dax_m_har_gru)"
      ],
      "metadata": {
        "colab": {
          "base_uri": "https://localhost:8080/"
        },
        "outputId": "781e45f2-80fd-493d-a9eb-000c6a7b8c19",
        "id": "PqZ2_5aP2d9l"
      },
      "execution_count": 176,
      "outputs": [
        {
          "output_type": "stream",
          "name": "stdout",
          "text": [
            "\n",
            "\tDiebold-Mariano Test\n",
            "\n",
            "data:  dax_har_m_qlikedax_gru_m_qlike\n",
            "DM = -1.197, Forecast horizon = 1, Loss function power = 2, p-value =\n",
            "0.2326\n",
            "alternative hypothesis: two.sided\n",
            "\n"
          ]
        }
      ]
    },
    {
      "cell_type": "markdown",
      "source": [
        "##### FNN-HAR vs FNN"
      ],
      "metadata": {
        "id": "E7udP0eu2d9m"
      }
    },
    {
      "cell_type": "code",
      "source": [
        "print(dm_se_dax_m_fnn_har_fnn)"
      ],
      "metadata": {
        "colab": {
          "base_uri": "https://localhost:8080/"
        },
        "outputId": "a1d906bd-9401-401b-e9bd-7abac1c69c25",
        "id": "2uX0mjZC2d9m"
      },
      "execution_count": 177,
      "outputs": [
        {
          "output_type": "stream",
          "name": "stdout",
          "text": [
            "\n",
            "\tDiebold-Mariano Test\n",
            "\n",
            "data:  dax_fnn_har_m_sedax_fnn_m_se\n",
            "DM = -1.4431, Forecast horizon = 1, Loss function power = 2, p-value =\n",
            "0.1504\n",
            "alternative hypothesis: two.sided\n",
            "\n"
          ]
        }
      ]
    },
    {
      "cell_type": "code",
      "source": [
        "print(dm_qlike_dax_m_fnn_har_fnn)"
      ],
      "metadata": {
        "colab": {
          "base_uri": "https://localhost:8080/"
        },
        "outputId": "3732a6d4-cfb1-43ea-88b4-8ba9ea108ecc",
        "id": "FhSmoDEY2d9n"
      },
      "execution_count": 178,
      "outputs": [
        {
          "output_type": "stream",
          "name": "stdout",
          "text": [
            "\n",
            "\tDiebold-Mariano Test\n",
            "\n",
            "data:  dax_fnn_har_m_qlikedax_fnn_m_qlike\n",
            "DM = 1.698, Forecast horizon = 1, Loss function power = 2, p-value =\n",
            "0.09093\n",
            "alternative hypothesis: two.sided\n",
            "\n"
          ]
        }
      ]
    },
    {
      "cell_type": "markdown",
      "source": [
        "##### FNN-HAR vs CNN"
      ],
      "metadata": {
        "id": "G9C3DjSJ2d9n"
      }
    },
    {
      "cell_type": "code",
      "source": [
        "print(dm_se_dax_m_fnn_har_cnn)"
      ],
      "metadata": {
        "colab": {
          "base_uri": "https://localhost:8080/"
        },
        "outputId": "f8345308-0bd9-42cb-ee30-9f39cda11508",
        "id": "VEvj8EBo2d9o"
      },
      "execution_count": 179,
      "outputs": [
        {
          "output_type": "stream",
          "name": "stdout",
          "text": [
            "\n",
            "\tDiebold-Mariano Test\n",
            "\n",
            "data:  dax_fnn_har_m_sedax_cnn_m_se\n",
            "DM = -0.90712, Forecast horizon = 1, Loss function power = 2, p-value =\n",
            "0.3653\n",
            "alternative hypothesis: two.sided\n",
            "\n"
          ]
        }
      ]
    },
    {
      "cell_type": "code",
      "source": [
        "print(dm_qlike_dax_m_fnn_har_cnn)"
      ],
      "metadata": {
        "colab": {
          "base_uri": "https://localhost:8080/"
        },
        "outputId": "9fdaf7d5-6967-4a04-b415-b4ef531504aa",
        "id": "BFIe0u6m2d9o"
      },
      "execution_count": 180,
      "outputs": [
        {
          "output_type": "stream",
          "name": "stdout",
          "text": [
            "\n",
            "\tDiebold-Mariano Test\n",
            "\n",
            "data:  dax_fnn_har_m_qlikedax_cnn_m_qlike\n",
            "DM = 1.569, Forecast horizon = 1, Loss function power = 2, p-value =\n",
            "0.1181\n",
            "alternative hypothesis: two.sided\n",
            "\n"
          ]
        }
      ]
    },
    {
      "cell_type": "markdown",
      "source": [
        "##### FNN-HAR vs LSTM"
      ],
      "metadata": {
        "id": "qyUNJExr2d9p"
      }
    },
    {
      "cell_type": "code",
      "source": [
        "print(dm_se_dax_m_fnn_har_lstm)"
      ],
      "metadata": {
        "colab": {
          "base_uri": "https://localhost:8080/"
        },
        "outputId": "6a42b314-821b-4929-c685-41d3a14527e5",
        "id": "INj-GIcD2d9p"
      },
      "execution_count": 181,
      "outputs": [
        {
          "output_type": "stream",
          "name": "stdout",
          "text": [
            "\n",
            "\tDiebold-Mariano Test\n",
            "\n",
            "data:  dax_fnn_har_m_sedax_lstm_m_se\n",
            "DM = 1.524, Forecast horizon = 1, Loss function power = 2, p-value =\n",
            "0.129\n",
            "alternative hypothesis: two.sided\n",
            "\n"
          ]
        }
      ]
    },
    {
      "cell_type": "code",
      "source": [
        "print(dm_qlike_dax_m_fnn_har_lstm)"
      ],
      "metadata": {
        "colab": {
          "base_uri": "https://localhost:8080/"
        },
        "outputId": "ee3088c9-1c4c-4b51-9ec5-31f86ab9c7bb",
        "id": "GQBOBovd2d9q"
      },
      "execution_count": 182,
      "outputs": [
        {
          "output_type": "stream",
          "name": "stdout",
          "text": [
            "\n",
            "\tDiebold-Mariano Test\n",
            "\n",
            "data:  dax_fnn_har_m_qlikedax_lstm_m_qlike\n",
            "DM = 0.19394, Forecast horizon = 1, Loss function power = 2, p-value =\n",
            "0.8464\n",
            "alternative hypothesis: two.sided\n",
            "\n"
          ]
        }
      ]
    },
    {
      "cell_type": "markdown",
      "source": [
        "##### FNN-HAR vs GRU"
      ],
      "metadata": {
        "id": "pY8wsjD62d9r"
      }
    },
    {
      "cell_type": "code",
      "source": [
        "print(dm_se_dax_m_fnn_har_gru)"
      ],
      "metadata": {
        "colab": {
          "base_uri": "https://localhost:8080/"
        },
        "outputId": "a39f05ba-bab4-4edf-e1af-c3371352170a",
        "id": "CJGs3k8A2d9r"
      },
      "execution_count": 183,
      "outputs": [
        {
          "output_type": "stream",
          "name": "stdout",
          "text": [
            "\n",
            "\tDiebold-Mariano Test\n",
            "\n",
            "data:  dax_fnn_har_m_sedax_gru_m_se\n",
            "DM = 1.0213, Forecast horizon = 1, Loss function power = 2, p-value =\n",
            "0.3082\n",
            "alternative hypothesis: two.sided\n",
            "\n"
          ]
        }
      ]
    },
    {
      "cell_type": "code",
      "source": [
        "print(dm_qlike_dax_m_fnn_har_gru)"
      ],
      "metadata": {
        "colab": {
          "base_uri": "https://localhost:8080/"
        },
        "outputId": "70dcba1f-28b4-4e57-d253-6a3ad8864f67",
        "id": "8e4R1TRE2d9s"
      },
      "execution_count": 184,
      "outputs": [
        {
          "output_type": "stream",
          "name": "stdout",
          "text": [
            "\n",
            "\tDiebold-Mariano Test\n",
            "\n",
            "data:  dax_fnn_har_m_qlikedax_gru_m_qlike\n",
            "DM = -1.4245, Forecast horizon = 1, Loss function power = 2, p-value =\n",
            "0.1557\n",
            "alternative hypothesis: two.sided\n",
            "\n"
          ]
        }
      ]
    },
    {
      "cell_type": "markdown",
      "source": [
        "##### FNN vs CNN"
      ],
      "metadata": {
        "id": "-rHIrFk72d9s"
      }
    },
    {
      "cell_type": "code",
      "source": [
        "print(dm_se_dax_m_fnn_cnn)"
      ],
      "metadata": {
        "colab": {
          "base_uri": "https://localhost:8080/"
        },
        "outputId": "b299684f-9b72-46a2-9e24-452f5c5418a4",
        "id": "9Y5-olPi2d9t"
      },
      "execution_count": 185,
      "outputs": [
        {
          "output_type": "stream",
          "name": "stdout",
          "text": [
            "\n",
            "\tDiebold-Mariano Test\n",
            "\n",
            "data:  dax_fnn_m_sedax_cnn_m_se\n",
            "DM = 0.0087365, Forecast horizon = 1, Loss function power = 2, p-value\n",
            "= 0.993\n",
            "alternative hypothesis: two.sided\n",
            "\n"
          ]
        }
      ]
    },
    {
      "cell_type": "code",
      "source": [
        "print(dm_qlike_dax_m_fnn_cnn)"
      ],
      "metadata": {
        "colab": {
          "base_uri": "https://localhost:8080/"
        },
        "outputId": "d0081b78-d48d-467a-f194-2375e3592e71",
        "id": "ZQPERuFG2d9t"
      },
      "execution_count": 186,
      "outputs": [
        {
          "output_type": "stream",
          "name": "stdout",
          "text": [
            "\n",
            "\tDiebold-Mariano Test\n",
            "\n",
            "data:  dax_fnn_m_qlikedax_cnn_m_qlike\n",
            "DM = 0.25573, Forecast horizon = 1, Loss function power = 2, p-value =\n",
            "0.7984\n",
            "alternative hypothesis: two.sided\n",
            "\n"
          ]
        }
      ]
    },
    {
      "cell_type": "markdown",
      "source": [
        "##### FNN vs LSTM"
      ],
      "metadata": {
        "id": "SdFNPra52d9u"
      }
    },
    {
      "cell_type": "code",
      "source": [
        "print(dm_se_dax_m_fnn_lstm)"
      ],
      "metadata": {
        "colab": {
          "base_uri": "https://localhost:8080/"
        },
        "outputId": "2ce94587-2560-4dc3-bc52-ebef21e4948a",
        "id": "Buuef5_n2d9u"
      },
      "execution_count": 187,
      "outputs": [
        {
          "output_type": "stream",
          "name": "stdout",
          "text": [
            "\n",
            "\tDiebold-Mariano Test\n",
            "\n",
            "data:  dax_fnn_m_sedax_lstm_m_se\n",
            "DM = 1.5143, Forecast horizon = 1, Loss function power = 2, p-value =\n",
            "0.1314\n",
            "alternative hypothesis: two.sided\n",
            "\n"
          ]
        }
      ]
    },
    {
      "cell_type": "code",
      "source": [
        "print(dm_qlike_dax_m_fnn_lstm)"
      ],
      "metadata": {
        "colab": {
          "base_uri": "https://localhost:8080/"
        },
        "outputId": "2c43446f-e611-4a40-92f2-f8ae4589c5e0",
        "id": "LBYw6D8y2d9v"
      },
      "execution_count": 188,
      "outputs": [
        {
          "output_type": "stream",
          "name": "stdout",
          "text": [
            "\n",
            "\tDiebold-Mariano Test\n",
            "\n",
            "data:  dax_fnn_m_qlikedax_lstm_m_qlike\n",
            "DM = -0.73139, Forecast horizon = 1, Loss function power = 2, p-value =\n",
            "0.4653\n",
            "alternative hypothesis: two.sided\n",
            "\n"
          ]
        }
      ]
    },
    {
      "cell_type": "markdown",
      "source": [
        "##### FNN vs GRU"
      ],
      "metadata": {
        "id": "mJjICt4K2d9v"
      }
    },
    {
      "cell_type": "code",
      "source": [
        "print(dm_se_dax_m_fnn_gru)"
      ],
      "metadata": {
        "colab": {
          "base_uri": "https://localhost:8080/"
        },
        "outputId": "01729443-e2bb-464d-94b3-7ea7a4013770",
        "id": "2rmkPxQm2d9w"
      },
      "execution_count": 189,
      "outputs": [
        {
          "output_type": "stream",
          "name": "stdout",
          "text": [
            "\n",
            "\tDiebold-Mariano Test\n",
            "\n",
            "data:  dax_fnn_m_sedax_gru_m_se\n",
            "DM = 1.6099, Forecast horizon = 1, Loss function power = 2, p-value =\n",
            "0.1089\n",
            "alternative hypothesis: two.sided\n",
            "\n"
          ]
        }
      ]
    },
    {
      "cell_type": "code",
      "source": [
        "print(dm_qlike_dax_m_fnn_lstm)"
      ],
      "metadata": {
        "colab": {
          "base_uri": "https://localhost:8080/"
        },
        "outputId": "93f68912-d56e-4c95-e365-2bbbc611487d",
        "id": "QPpiyCYv2d9w"
      },
      "execution_count": 190,
      "outputs": [
        {
          "output_type": "stream",
          "name": "stdout",
          "text": [
            "\n",
            "\tDiebold-Mariano Test\n",
            "\n",
            "data:  dax_fnn_m_qlikedax_lstm_m_qlike\n",
            "DM = -0.73139, Forecast horizon = 1, Loss function power = 2, p-value =\n",
            "0.4653\n",
            "alternative hypothesis: two.sided\n",
            "\n"
          ]
        }
      ]
    },
    {
      "cell_type": "markdown",
      "source": [
        "##### CNN vs LSTM"
      ],
      "metadata": {
        "id": "0Bc014yb2d9x"
      }
    },
    {
      "cell_type": "code",
      "source": [
        "print(dm_se_dax_m_cnn_lstm)"
      ],
      "metadata": {
        "colab": {
          "base_uri": "https://localhost:8080/"
        },
        "outputId": "701efee9-ecca-406f-d5ed-3a3c0a76a36e",
        "id": "EIhiSSts2d9x"
      },
      "execution_count": 191,
      "outputs": [
        {
          "output_type": "stream",
          "name": "stdout",
          "text": [
            "\n",
            "\tDiebold-Mariano Test\n",
            "\n",
            "data:  dax_cnn_m_sedax_lstm_m_se\n",
            "DM = 1.3156, Forecast horizon = 1, Loss function power = 2, p-value =\n",
            "0.1897\n",
            "alternative hypothesis: two.sided\n",
            "\n"
          ]
        }
      ]
    },
    {
      "cell_type": "code",
      "source": [
        "print(dm_qlike_dax_m_cnn_lstm)"
      ],
      "metadata": {
        "colab": {
          "base_uri": "https://localhost:8080/"
        },
        "outputId": "9c06ea9d-2246-40bc-ff85-907c251b7a5d",
        "id": "aHg7PsMt2d9y"
      },
      "execution_count": 192,
      "outputs": [
        {
          "output_type": "stream",
          "name": "stdout",
          "text": [
            "\n",
            "\tDiebold-Mariano Test\n",
            "\n",
            "data:  dax_cnn_m_qlikedax_lstm_m_qlike\n",
            "DM = -0.83205, Forecast horizon = 1, Loss function power = 2, p-value =\n",
            "0.4063\n",
            "alternative hypothesis: two.sided\n",
            "\n"
          ]
        }
      ]
    },
    {
      "cell_type": "markdown",
      "source": [
        "##### CNN vs GRU"
      ],
      "metadata": {
        "id": "av2qOQnQ2d9y"
      }
    },
    {
      "cell_type": "code",
      "source": [
        "print(dm_se_dax_m_cnn_gru)"
      ],
      "metadata": {
        "colab": {
          "base_uri": "https://localhost:8080/"
        },
        "outputId": "d8f7ab10-b866-4242-e1b4-438a9304dbef",
        "id": "mm6u0khw2d9z"
      },
      "execution_count": 193,
      "outputs": [
        {
          "output_type": "stream",
          "name": "stdout",
          "text": [
            "\n",
            "\tDiebold-Mariano Test\n",
            "\n",
            "data:  dax_cnn_m_sedax_gru_m_se\n",
            "DM = 1.4442, Forecast horizon = 1, Loss function power = 2, p-value =\n",
            "0.1501\n",
            "alternative hypothesis: two.sided\n",
            "\n"
          ]
        }
      ]
    },
    {
      "cell_type": "code",
      "source": [
        "print(dm_qlike_dax_m_cnn_gru)"
      ],
      "metadata": {
        "colab": {
          "base_uri": "https://localhost:8080/"
        },
        "outputId": "81cd3db4-6688-44ee-cf09-101cac29aee8",
        "id": "0nQ84KQv2d9z"
      },
      "execution_count": 194,
      "outputs": [
        {
          "output_type": "stream",
          "name": "stdout",
          "text": [
            "\n",
            "\tDiebold-Mariano Test\n",
            "\n",
            "data:  dax_cnn_m_qlikedax_gru_m_qlike\n",
            "DM = -2.435, Forecast horizon = 1, Loss function power = 2, p-value =\n",
            "0.01569\n",
            "alternative hypothesis: two.sided\n",
            "\n"
          ]
        }
      ]
    },
    {
      "cell_type": "markdown",
      "source": [
        "##### LSTM vs GRU"
      ],
      "metadata": {
        "id": "6MYfWasO2d90"
      }
    },
    {
      "cell_type": "code",
      "source": [
        "print(dm_se_dax_m_lstm_gru)"
      ],
      "metadata": {
        "colab": {
          "base_uri": "https://localhost:8080/"
        },
        "outputId": "f0596fdb-c2f1-41d0-f538-75a031d7bb9a",
        "id": "c7rc95Gz2d90"
      },
      "execution_count": 195,
      "outputs": [
        {
          "output_type": "stream",
          "name": "stdout",
          "text": [
            "\n",
            "\tDiebold-Mariano Test\n",
            "\n",
            "data:  dax_lstm_m_sedax_gru_m_se\n",
            "DM = -1.0468, Forecast horizon = 1, Loss function power = 2, p-value =\n",
            "0.2964\n",
            "alternative hypothesis: two.sided\n",
            "\n"
          ]
        }
      ]
    },
    {
      "cell_type": "code",
      "source": [
        "print(dm_qlike_dax_m_lstm_gru)"
      ],
      "metadata": {
        "colab": {
          "base_uri": "https://localhost:8080/"
        },
        "outputId": "374e9c3a-2e0e-4641-e067-d94f2439f5ff",
        "id": "SkKNMEIe2d91"
      },
      "execution_count": 196,
      "outputs": [
        {
          "output_type": "stream",
          "name": "stdout",
          "text": [
            "\n",
            "\tDiebold-Mariano Test\n",
            "\n",
            "data:  dax_lstm_m_qlikedax_gru_m_qlike\n",
            "DM = -2.6851, Forecast horizon = 1, Loss function power = 2, p-value =\n",
            "0.007805\n",
            "alternative hypothesis: two.sided\n",
            "\n"
          ]
        }
      ]
    },
    {
      "cell_type": "markdown",
      "source": [
        "### Statistical analysis for the FTSE index"
      ],
      "metadata": {
        "id": "l8KjZfRNmJYG"
      }
    },
    {
      "cell_type": "markdown",
      "source": [
        "#### Tests for the 1-day ahead forecast"
      ],
      "metadata": {
        "id": "APOC_C1omJYf"
      }
    },
    {
      "cell_type": "code",
      "source": [
        "# MCS for squared-error loss\n",
        "\n",
        "errors_matrix_se <- cbind(ftse_har_d_se, ftse_fnn_har_d_se, ftse_fnn_d_se, ftse_cnn_d_se, ftse_lstm_d_se, ftse_gru_d_se)\n",
        "errors_matrix_qlike <- cbind(ftse_har_d_qlike, ftse_fnn_har_d_qlike, ftse_fnn_d_qlike, ftse_cnn_d_qlike, ftse_lstm_d_qlike, ftse_gru_d_qlike)\n",
        "\n",
        "# B is number of bootstrap replications\n",
        "mcs_result_ftse_se_d <- MCSprocedure(errors_matrix_se, alpha = 0.05, B = 5000, statistic = \"Tmax\")\n",
        "\n",
        "mcs_result_ftse_qlike_d <- MCSprocedure(errors_matrix_qlike, alpha = 0.05, B = 5000, statistic = \"Tmax\")"
      ],
      "metadata": {
        "colab": {
          "base_uri": "https://localhost:8080/"
        },
        "outputId": "a604abe8-89ad-4086-e518-eb1e65c5c937",
        "id": "cvWfaBrsmJYg"
      },
      "execution_count": 197,
      "outputs": [
        {
          "output_type": "stream",
          "name": "stdout",
          "text": [
            "\n",
            "###########################################################################################################################\n",
            "Superior Set Model created\t:\n",
            "                  Rank_M        v_M  MCS_M Rank_R        v_R  MCS_R\n",
            "ftse_har_d_se          3 -0.3089447 1.0000      3  0.5062447 0.9804\n",
            "ftse_fnn_har_d_se      5  0.6724791 0.7800      6  1.6776714 0.3734\n",
            "ftse_fnn_d_se          2 -0.3527081 1.0000      4  0.7631373 0.9144\n",
            "ftse_cnn_d_se          6  0.9202448 0.5988      5  1.6302571 0.4058\n",
            "ftse_lstm_d_se         4 -0.1960105 1.0000      2  0.4158028 0.9804\n",
            "ftse_gru_d_se          1 -2.2682496 1.0000      1 -0.4158028 1.0000\n",
            "                          Loss\n",
            "ftse_har_d_se     1.512425e-10\n",
            "ftse_fnn_har_d_se 1.712974e-10\n",
            "ftse_fnn_d_se     1.537372e-10\n",
            "ftse_cnn_d_se     1.951841e-10\n",
            "ftse_lstm_d_se    1.524050e-10\n",
            "ftse_gru_d_se     1.367981e-10\n",
            "p-value\t:\n",
            "[1] 0.5988\n",
            "\n",
            "###########################################################################################################################\n",
            "###########################################################################################################################\n",
            "Superior Set Model created\t:\n",
            "                     Rank_M        v_M  MCS_M Rank_R        v_R  MCS_R\n",
            "ftse_har_d_qlike          2 -1.4596365 1.0000      2  0.2879406 1.0000\n",
            "ftse_fnn_har_d_qlike      4  0.1101212 1.0000      6  1.7916210 0.2814\n",
            "ftse_fnn_d_qlike          3 -1.1558123 1.0000      3  0.8166515 0.9122\n",
            "ftse_cnn_d_qlike          6  0.8404856 0.7096      5  1.5380680 0.4876\n",
            "ftse_lstm_d_qlike         5  0.8205747 0.7248      4  1.4334636 0.6070\n",
            "ftse_gru_d_qlike          1 -2.2392557 1.0000      1 -0.2879406 1.0000\n",
            "                          Loss\n",
            "ftse_har_d_qlike     -9.673150\n",
            "ftse_fnn_har_d_qlike -9.628062\n",
            "ftse_fnn_d_qlike     -9.658594\n",
            "ftse_cnn_d_qlike     -9.580453\n",
            "ftse_lstm_d_qlike    -9.564655\n",
            "ftse_gru_d_qlike     -9.679186\n",
            "p-value\t:\n",
            "[1] 0.7096\n",
            "\n",
            "###########################################################################################################################"
          ]
        }
      ]
    },
    {
      "cell_type": "code",
      "source": [
        "# Diebold-Mariano test\n",
        "\n",
        "dm_se_ftse_d_har_fnn_har <- dm.test(ftse_har_d_se, ftse_fnn_har_d_se, alternative = \"two.sided\")\n",
        "dm_se_ftse_d_har_fnn <- dm.test(ftse_har_d_se, ftse_fnn_d_se, alternative = \"two.sided\")\n",
        "dm_se_ftse_d_har_cnn <- dm.test(ftse_har_d_se, ftse_cnn_d_se, alternative = \"two.sided\")\n",
        "dm_se_ftse_d_har_lstm <- dm.test(ftse_har_d_se, ftse_lstm_d_se, alternative = \"two.sided\")\n",
        "dm_se_ftse_d_har_gru <- dm.test(ftse_har_d_se, ftse_gru_d_se, alternative = \"two.sided\")\n",
        "dm_se_ftse_d_fnn_har_fnn <- dm.test(ftse_fnn_har_d_se, ftse_fnn_d_se, alternative = \"two.sided\")\n",
        "dm_se_ftse_d_fnn_har_cnn <- dm.test(ftse_fnn_har_d_se, ftse_cnn_d_se, alternative = \"two.sided\")\n",
        "dm_se_ftse_d_fnn_har_lstm <- dm.test(ftse_fnn_har_d_se, ftse_lstm_d_se, alternative = \"two.sided\")\n",
        "dm_se_ftse_d_fnn_har_gru <- dm.test(ftse_fnn_har_d_se, ftse_gru_d_se, alternative = \"two.sided\")\n",
        "dm_se_ftse_d_fnn_cnn <- dm.test(ftse_fnn_d_se, ftse_cnn_d_se, alternative = \"two.sided\")\n",
        "dm_se_ftse_d_fnn_lstm <- dm.test(ftse_fnn_d_se, ftse_lstm_d_se, alternative = \"two.sided\")\n",
        "dm_se_ftse_d_fnn_gru <- dm.test(ftse_fnn_d_se, ftse_gru_d_se, alternative = \"two.sided\")\n",
        "dm_se_ftse_d_cnn_lstm <- dm.test(ftse_cnn_d_se, ftse_lstm_d_se, alternative = \"two.sided\")\n",
        "dm_se_ftse_d_cnn_gru <- dm.test(ftse_cnn_d_se, ftse_gru_d_se, alternative = \"two.sided\")\n",
        "dm_se_ftse_d_lstm_gru <- dm.test(ftse_lstm_d_se, ftse_gru_d_se, alternative = \"two.sided\")\n",
        "\n",
        "dm_qlike_ftse_d_har_fnn_har <- dm.test(ftse_har_d_qlike, ftse_fnn_har_d_qlike, alternative = \"two.sided\")\n",
        "dm_qlike_ftse_d_har_fnn <- dm.test(ftse_har_d_qlike, ftse_fnn_d_qlike, alternative = \"two.sided\")\n",
        "dm_qlike_ftse_d_har_cnn <- dm.test(ftse_har_d_qlike, ftse_cnn_d_qlike, alternative = \"two.sided\")\n",
        "dm_qlike_ftse_d_har_lstm <- dm.test(ftse_har_d_qlike, ftse_lstm_d_qlike, alternative = \"two.sided\")\n",
        "dm_qlike_ftse_d_har_gru <- dm.test(ftse_har_d_qlike, ftse_gru_d_qlike, alternative = \"two.sided\")\n",
        "dm_qlike_ftse_d_fnn_har_fnn <- dm.test(ftse_fnn_har_d_qlike, ftse_fnn_d_qlike, alternative = \"two.sided\")\n",
        "dm_qlike_ftse_d_fnn_har_cnn <- dm.test(ftse_fnn_har_d_qlike, ftse_cnn_d_qlike, alternative = \"two.sided\")\n",
        "dm_qlike_ftse_d_fnn_har_lstm <- dm.test(ftse_fnn_har_d_qlike, ftse_lstm_d_qlike, alternative = \"two.sided\")\n",
        "dm_qlike_ftse_d_fnn_har_gru <- dm.test(ftse_fnn_har_d_qlike, ftse_gru_d_qlike, alternative = \"two.sided\")\n",
        "dm_qlike_ftse_d_fnn_cnn <- dm.test(ftse_fnn_d_qlike, ftse_cnn_d_qlike, alternative = \"two.sided\")\n",
        "dm_qlike_ftse_d_fnn_lstm <- dm.test(ftse_fnn_d_qlike, ftse_lstm_d_qlike, alternative = \"two.sided\")\n",
        "dm_qlike_ftse_d_fnn_gru <- dm.test(ftse_fnn_d_qlike, ftse_gru_d_qlike, alternative = \"two.sided\")\n",
        "dm_qlike_ftse_d_cnn_lstm <- dm.test(ftse_cnn_d_qlike, ftse_lstm_d_qlike, alternative = \"two.sided\")\n",
        "dm_qlike_ftse_d_cnn_gru <- dm.test(ftse_cnn_d_qlike, ftse_gru_d_qlike, alternative = \"two.sided\")\n",
        "dm_qlike_ftse_d_lstm_gru <- dm.test(ftse_lstm_d_qlike, ftse_gru_d_qlike, alternative = \"two.sided\")"
      ],
      "metadata": {
        "id": "lWIOeIzSmJYg"
      },
      "execution_count": 198,
      "outputs": []
    },
    {
      "cell_type": "markdown",
      "source": [
        "##### HAR vs FNN-HAR"
      ],
      "metadata": {
        "id": "HFkX1sRNmJYh"
      }
    },
    {
      "cell_type": "code",
      "source": [
        "print(dm_se_ftse_d_har_fnn_har)"
      ],
      "metadata": {
        "colab": {
          "base_uri": "https://localhost:8080/"
        },
        "outputId": "e0ee88c2-d486-453f-d649-ff3bb5b48c34",
        "id": "uhh9mU1xmJYh"
      },
      "execution_count": 199,
      "outputs": [
        {
          "output_type": "stream",
          "name": "stdout",
          "text": [
            "\n",
            "\tDiebold-Mariano Test\n",
            "\n",
            "data:  ftse_har_d_seftse_fnn_har_d_se\n",
            "DM = -0.91564, Forecast horizon = 1, Loss function power = 2, p-value =\n",
            "0.3795\n",
            "alternative hypothesis: two.sided\n",
            "\n"
          ]
        }
      ]
    },
    {
      "cell_type": "code",
      "source": [
        "print(dm_qlike_ftse_d_har_fnn_har)"
      ],
      "metadata": {
        "colab": {
          "base_uri": "https://localhost:8080/"
        },
        "outputId": "1fb13597-8246-412c-9158-a497603cbfc2",
        "id": "MXVbMzsLmJYh"
      },
      "execution_count": 200,
      "outputs": [
        {
          "output_type": "stream",
          "name": "stdout",
          "text": [
            "\n",
            "\tDiebold-Mariano Test\n",
            "\n",
            "data:  ftse_har_d_qlikeftse_fnn_har_d_qlike\n",
            "DM = 0.66914, Forecast horizon = 1, Loss function power = 2, p-value =\n",
            "0.5172\n",
            "alternative hypothesis: two.sided\n",
            "\n"
          ]
        }
      ]
    },
    {
      "cell_type": "markdown",
      "source": [
        "##### HAR vs FNN"
      ],
      "metadata": {
        "id": "lilc2WCGmJYh"
      }
    },
    {
      "cell_type": "code",
      "source": [
        "print(dm_se_ftse_d_har_fnn)"
      ],
      "metadata": {
        "colab": {
          "base_uri": "https://localhost:8080/"
        },
        "outputId": "5e902f26-24c2-4927-92fa-ac2fbcbb7c61",
        "id": "yNkwM4jGmJYh"
      },
      "execution_count": 201,
      "outputs": [
        {
          "output_type": "stream",
          "name": "stdout",
          "text": [
            "\n",
            "\tDiebold-Mariano Test\n",
            "\n",
            "data:  ftse_har_d_seftse_fnn_d_se\n",
            "DM = -0.74999, Forecast horizon = 1, Loss function power = 2, p-value =\n",
            "0.469\n",
            "alternative hypothesis: two.sided\n",
            "\n"
          ]
        }
      ]
    },
    {
      "cell_type": "code",
      "source": [
        "print(dm_qlike_ftse_d_har_fnn)"
      ],
      "metadata": {
        "colab": {
          "base_uri": "https://localhost:8080/"
        },
        "outputId": "617bf92a-e957-4791-fc03-6dfac3cbfd49",
        "id": "c5tTNyRLmJYh"
      },
      "execution_count": 202,
      "outputs": [
        {
          "output_type": "stream",
          "name": "stdout",
          "text": [
            "\n",
            "\tDiebold-Mariano Test\n",
            "\n",
            "data:  ftse_har_d_qlikeftse_fnn_d_qlike\n",
            "DM = 0.11087, Forecast horizon = 1, Loss function power = 2, p-value =\n",
            "0.9137\n",
            "alternative hypothesis: two.sided\n",
            "\n"
          ]
        }
      ]
    },
    {
      "cell_type": "markdown",
      "source": [
        "##### HAR vs CNN"
      ],
      "metadata": {
        "id": "ISPA-TYymJYi"
      }
    },
    {
      "cell_type": "code",
      "source": [
        "print(dm_se_ftse_d_har_cnn)"
      ],
      "metadata": {
        "colab": {
          "base_uri": "https://localhost:8080/"
        },
        "outputId": "e7ef731d-27c1-44c6-b6f5-02af4a7f8f36",
        "id": "ePvKp5ZlmJYi"
      },
      "execution_count": 203,
      "outputs": [
        {
          "output_type": "stream",
          "name": "stdout",
          "text": [
            "\n",
            "\tDiebold-Mariano Test\n",
            "\n",
            "data:  ftse_har_d_seftse_cnn_d_se\n",
            "DM = -1.1884, Forecast horizon = 1, Loss function power = 2, p-value =\n",
            "0.2597\n",
            "alternative hypothesis: two.sided\n",
            "\n"
          ]
        }
      ]
    },
    {
      "cell_type": "code",
      "source": [
        "print(dm_qlike_ftse_d_har_cnn)"
      ],
      "metadata": {
        "colab": {
          "base_uri": "https://localhost:8080/"
        },
        "outputId": "87c1648f-95c6-4205-f15b-450f39b8080f",
        "id": "UI_mCIgtmJYi"
      },
      "execution_count": 204,
      "outputs": [
        {
          "output_type": "stream",
          "name": "stdout",
          "text": [
            "\n",
            "\tDiebold-Mariano Test\n",
            "\n",
            "data:  ftse_har_d_qlikeftse_cnn_d_qlike\n",
            "DM = 0.8684, Forecast horizon = 1, Loss function power = 2, p-value =\n",
            "0.4037\n",
            "alternative hypothesis: two.sided\n",
            "\n"
          ]
        }
      ]
    },
    {
      "cell_type": "markdown",
      "source": [
        "##### HAR vs LSTM"
      ],
      "metadata": {
        "id": "T3dmLzj_mJYi"
      }
    },
    {
      "cell_type": "code",
      "source": [
        "print(dm_se_ftse_d_har_lstm)"
      ],
      "metadata": {
        "colab": {
          "base_uri": "https://localhost:8080/"
        },
        "outputId": "906fee68-642e-4613-c36b-0fef14546fa9",
        "id": "g9JFGmM5mJYi"
      },
      "execution_count": 205,
      "outputs": [
        {
          "output_type": "stream",
          "name": "stdout",
          "text": [
            "\n",
            "\tDiebold-Mariano Test\n",
            "\n",
            "data:  ftse_har_d_seftse_lstm_d_se\n",
            "DM = -0.10929, Forecast horizon = 1, Loss function power = 2, p-value =\n",
            "0.9149\n",
            "alternative hypothesis: two.sided\n",
            "\n"
          ]
        }
      ]
    },
    {
      "cell_type": "code",
      "source": [
        "print(dm_qlike_ftse_d_har_lstm)"
      ],
      "metadata": {
        "colab": {
          "base_uri": "https://localhost:8080/"
        },
        "outputId": "13afda3b-cb43-462a-cc4b-127a93ff95ed",
        "id": "INPb4xO2mJYi"
      },
      "execution_count": 206,
      "outputs": [
        {
          "output_type": "stream",
          "name": "stdout",
          "text": [
            "\n",
            "\tDiebold-Mariano Test\n",
            "\n",
            "data:  ftse_har_d_qlikeftse_lstm_d_qlike\n",
            "DM = 1.4729, Forecast horizon = 1, Loss function power = 2, p-value =\n",
            "0.1688\n",
            "alternative hypothesis: two.sided\n",
            "\n"
          ]
        }
      ]
    },
    {
      "cell_type": "markdown",
      "source": [
        "##### HAR vs GRU"
      ],
      "metadata": {
        "id": "2sYruS0EmJYj"
      }
    },
    {
      "cell_type": "code",
      "source": [
        "print(dm_se_ftse_d_har_gru)"
      ],
      "metadata": {
        "colab": {
          "base_uri": "https://localhost:8080/"
        },
        "outputId": "92b21c27-3b23-48f8-b883-73c7ed09ca5f",
        "id": "Zw5hQwnDmJYj"
      },
      "execution_count": 207,
      "outputs": [
        {
          "output_type": "stream",
          "name": "stdout",
          "text": [
            "\n",
            "\tDiebold-Mariano Test\n",
            "\n",
            "data:  ftse_har_d_seftse_gru_d_se\n",
            "DM = -0.094565, Forecast horizon = 1, Loss function power = 2, p-value\n",
            "= 0.9264\n",
            "alternative hypothesis: two.sided\n",
            "\n"
          ]
        }
      ]
    },
    {
      "cell_type": "code",
      "source": [
        "print(dm_qlike_ftse_d_har_gru)"
      ],
      "metadata": {
        "colab": {
          "base_uri": "https://localhost:8080/"
        },
        "outputId": "2190704f-3e04-4945-95ea-f8fbcb87b9c8",
        "id": "sdSm8e0SmJYj"
      },
      "execution_count": 208,
      "outputs": [
        {
          "output_type": "stream",
          "name": "stdout",
          "text": [
            "\n",
            "\tDiebold-Mariano Test\n",
            "\n",
            "data:  ftse_har_d_qlikeftse_gru_d_qlike\n",
            "DM = -0.37199, Forecast horizon = 1, Loss function power = 2, p-value =\n",
            "0.717\n",
            "alternative hypothesis: two.sided\n",
            "\n"
          ]
        }
      ]
    },
    {
      "cell_type": "markdown",
      "source": [
        "##### FNN-HAR vs FNN"
      ],
      "metadata": {
        "id": "_e5HtMwQmJYj"
      }
    },
    {
      "cell_type": "code",
      "source": [
        "print(dm_se_ftse_d_fnn_har_fnn)"
      ],
      "metadata": {
        "colab": {
          "base_uri": "https://localhost:8080/"
        },
        "outputId": "180de5cf-4269-4dae-e334-2001738844a2",
        "id": "03NpcRKWmJYj"
      },
      "execution_count": 209,
      "outputs": [
        {
          "output_type": "stream",
          "name": "stdout",
          "text": [
            "\n",
            "\tDiebold-Mariano Test\n",
            "\n",
            "data:  ftse_fnn_har_d_seftse_fnn_d_se\n",
            "DM = 0.22079, Forecast horizon = 1, Loss function power = 2, p-value =\n",
            "0.8293\n",
            "alternative hypothesis: two.sided\n",
            "\n"
          ]
        }
      ]
    },
    {
      "cell_type": "code",
      "source": [
        "print(dm_qlike_ftse_d_fnn_har_fnn)"
      ],
      "metadata": {
        "colab": {
          "base_uri": "https://localhost:8080/"
        },
        "outputId": "88fca1a6-6d58-4e8b-86eb-f39fcdf6f53e",
        "id": "Ji18wkB8mJYj"
      },
      "execution_count": 210,
      "outputs": [
        {
          "output_type": "stream",
          "name": "stdout",
          "text": [
            "\n",
            "\tDiebold-Mariano Test\n",
            "\n",
            "data:  ftse_fnn_har_d_qlikeftse_fnn_d_qlike\n",
            "DM = -1.0248, Forecast horizon = 1, Loss function power = 2, p-value =\n",
            "0.3275\n",
            "alternative hypothesis: two.sided\n",
            "\n"
          ]
        }
      ]
    },
    {
      "cell_type": "markdown",
      "source": [
        "##### FNN-HAR vs CNN"
      ],
      "metadata": {
        "id": "iDzdNWnFmJYk"
      }
    },
    {
      "cell_type": "code",
      "source": [
        "print(dm_se_ftse_d_fnn_har_cnn)"
      ],
      "metadata": {
        "colab": {
          "base_uri": "https://localhost:8080/"
        },
        "outputId": "4eb96263-0481-40e2-cd97-7033c97f8611",
        "id": "kJywA_ypmJYk"
      },
      "execution_count": 211,
      "outputs": [
        {
          "output_type": "stream",
          "name": "stdout",
          "text": [
            "\n",
            "\tDiebold-Mariano Test\n",
            "\n",
            "data:  ftse_fnn_har_d_seftse_cnn_d_se\n",
            "DM = -1.3627, Forecast horizon = 1, Loss function power = 2, p-value =\n",
            "0.2002\n",
            "alternative hypothesis: two.sided\n",
            "\n"
          ]
        }
      ]
    },
    {
      "cell_type": "code",
      "source": [
        "print(dm_qlike_ftse_d_fnn_har_cnn)"
      ],
      "metadata": {
        "colab": {
          "base_uri": "https://localhost:8080/"
        },
        "outputId": "98d3a7af-8bc5-484e-f580-26bffd9134a6",
        "id": "MiaqaOFUmJYk"
      },
      "execution_count": 212,
      "outputs": [
        {
          "output_type": "stream",
          "name": "stdout",
          "text": [
            "\n",
            "\tDiebold-Mariano Test\n",
            "\n",
            "data:  ftse_fnn_har_d_qlikeftse_cnn_d_qlike\n",
            "DM = 0.8741, Forecast horizon = 1, Loss function power = 2, p-value =\n",
            "0.4007\n",
            "alternative hypothesis: two.sided\n",
            "\n"
          ]
        }
      ]
    },
    {
      "cell_type": "markdown",
      "source": [
        "##### FNN-HAR vs LSTM"
      ],
      "metadata": {
        "id": "jopZ8AfhmJYk"
      }
    },
    {
      "cell_type": "code",
      "source": [
        "print(dm_se_ftse_d_fnn_har_lstm)"
      ],
      "metadata": {
        "colab": {
          "base_uri": "https://localhost:8080/"
        },
        "outputId": "8cf966f4-c703-40ea-ed1b-0fdf925cdf9c",
        "id": "CX52cl-BmJYk"
      },
      "execution_count": 213,
      "outputs": [
        {
          "output_type": "stream",
          "name": "stdout",
          "text": [
            "\n",
            "\tDiebold-Mariano Test\n",
            "\n",
            "data:  ftse_fnn_har_d_seftse_lstm_d_se\n",
            "DM = 0.72601, Forecast horizon = 1, Loss function power = 2, p-value =\n",
            "0.483\n",
            "alternative hypothesis: two.sided\n",
            "\n"
          ]
        }
      ]
    },
    {
      "cell_type": "code",
      "source": [
        "print(dm_qlike_ftse_d_fnn_har_lstm)"
      ],
      "metadata": {
        "colab": {
          "base_uri": "https://localhost:8080/"
        },
        "outputId": "f496d09e-9238-4723-afc6-f1d65def4c3a",
        "id": "jYzxNduqmJYl"
      },
      "execution_count": 214,
      "outputs": [
        {
          "output_type": "stream",
          "name": "stdout",
          "text": [
            "\n",
            "\tDiebold-Mariano Test\n",
            "\n",
            "data:  ftse_fnn_har_d_qlikeftse_lstm_d_qlike\n",
            "DM = 0.65442, Forecast horizon = 1, Loss function power = 2, p-value =\n",
            "0.5263\n",
            "alternative hypothesis: two.sided\n",
            "\n"
          ]
        }
      ]
    },
    {
      "cell_type": "markdown",
      "source": [
        "##### FNN-HAR vs GRU"
      ],
      "metadata": {
        "id": "eMQR_3vRmJYl"
      }
    },
    {
      "cell_type": "code",
      "source": [
        "print(dm_se_ftse_d_fnn_har_gru)"
      ],
      "metadata": {
        "colab": {
          "base_uri": "https://localhost:8080/"
        },
        "outputId": "ef196a8c-ddfd-478c-cded-65409fbfdbed",
        "id": "akQibKDEmJYl"
      },
      "execution_count": 215,
      "outputs": [
        {
          "output_type": "stream",
          "name": "stdout",
          "text": [
            "\n",
            "\tDiebold-Mariano Test\n",
            "\n",
            "data:  ftse_fnn_har_d_seftse_gru_d_se\n",
            "DM = 1.4189, Forecast horizon = 1, Loss function power = 2, p-value =\n",
            "0.1836\n",
            "alternative hypothesis: two.sided\n",
            "\n"
          ]
        }
      ]
    },
    {
      "cell_type": "code",
      "source": [
        "print(dm_qlike_ftse_d_fnn_har_gru)"
      ],
      "metadata": {
        "colab": {
          "base_uri": "https://localhost:8080/"
        },
        "outputId": "983f1c41-a2e0-4dc7-b6b1-3e979eb20685",
        "id": "nbjwLz3BmJYl"
      },
      "execution_count": 216,
      "outputs": [
        {
          "output_type": "stream",
          "name": "stdout",
          "text": [
            "\n",
            "\tDiebold-Mariano Test\n",
            "\n",
            "data:  ftse_fnn_har_d_qlikeftse_gru_d_qlike\n",
            "DM = -1.3072, Forecast horizon = 1, Loss function power = 2, p-value =\n",
            "0.2178\n",
            "alternative hypothesis: two.sided\n",
            "\n"
          ]
        }
      ]
    },
    {
      "cell_type": "markdown",
      "source": [
        "##### FNN vs CNN"
      ],
      "metadata": {
        "id": "y68K_qhImJYl"
      }
    },
    {
      "cell_type": "code",
      "source": [
        "print(dm_se_ftse_d_fnn_cnn)"
      ],
      "metadata": {
        "colab": {
          "base_uri": "https://localhost:8080/"
        },
        "outputId": "f22eabac-9ddc-4f52-b9a8-dfd6414c18fb",
        "id": "3GdNNvtdmJYl"
      },
      "execution_count": 217,
      "outputs": [
        {
          "output_type": "stream",
          "name": "stdout",
          "text": [
            "\n",
            "\tDiebold-Mariano Test\n",
            "\n",
            "data:  ftse_fnn_d_seftse_cnn_d_se\n",
            "DM = -1.3964, Forecast horizon = 1, Loss function power = 2, p-value =\n",
            "0.1901\n",
            "alternative hypothesis: two.sided\n",
            "\n"
          ]
        }
      ]
    },
    {
      "cell_type": "code",
      "source": [
        "print(dm_qlike_ftse_d_fnn_cnn)"
      ],
      "metadata": {
        "colab": {
          "base_uri": "https://localhost:8080/"
        },
        "outputId": "c28f637a-34aa-47a3-81f9-432169780712",
        "id": "ky8VJsczmJYm"
      },
      "execution_count": 218,
      "outputs": [
        {
          "output_type": "stream",
          "name": "stdout",
          "text": [
            "\n",
            "\tDiebold-Mariano Test\n",
            "\n",
            "data:  ftse_fnn_d_qlikeftse_cnn_d_qlike\n",
            "DM = 1.391, Forecast horizon = 1, Loss function power = 2, p-value =\n",
            "0.1917\n",
            "alternative hypothesis: two.sided\n",
            "\n"
          ]
        }
      ]
    },
    {
      "cell_type": "markdown",
      "source": [
        "##### FNN vs LSTM"
      ],
      "metadata": {
        "id": "jZjeMyA2mJYm"
      }
    },
    {
      "cell_type": "code",
      "source": [
        "print(dm_se_ftse_d_fnn_lstm)"
      ],
      "metadata": {
        "colab": {
          "base_uri": "https://localhost:8080/"
        },
        "outputId": "f73dbcc8-ed2e-4e73-b72c-5e420ed80398",
        "id": "cRg1hSOQmJYm"
      },
      "execution_count": 219,
      "outputs": [
        {
          "output_type": "stream",
          "name": "stdout",
          "text": [
            "\n",
            "\tDiebold-Mariano Test\n",
            "\n",
            "data:  ftse_fnn_d_seftse_lstm_d_se\n",
            "DM = 0.82832, Forecast horizon = 1, Loss function power = 2, p-value =\n",
            "0.4251\n",
            "alternative hypothesis: two.sided\n",
            "\n"
          ]
        }
      ]
    },
    {
      "cell_type": "code",
      "source": [
        "print(dm_qlike_ftse_d_fnn_lstm)"
      ],
      "metadata": {
        "colab": {
          "base_uri": "https://localhost:8080/"
        },
        "outputId": "3e72adcd-c4b9-42ec-dd1d-b281e404da9a",
        "id": "EYdTu9-ZmJYm"
      },
      "execution_count": 220,
      "outputs": [
        {
          "output_type": "stream",
          "name": "stdout",
          "text": [
            "\n",
            "\tDiebold-Mariano Test\n",
            "\n",
            "data:  ftse_fnn_d_qlikeftse_lstm_d_qlike\n",
            "DM = 0.96174, Forecast horizon = 1, Loss function power = 2, p-value =\n",
            "0.3568\n",
            "alternative hypothesis: two.sided\n",
            "\n"
          ]
        }
      ]
    },
    {
      "cell_type": "markdown",
      "source": [
        "##### FNN vs GRU"
      ],
      "metadata": {
        "id": "q3RTxXgkmJYm"
      }
    },
    {
      "cell_type": "code",
      "source": [
        "print(dm_se_ftse_d_fnn_gru)"
      ],
      "metadata": {
        "colab": {
          "base_uri": "https://localhost:8080/"
        },
        "outputId": "28328d4e-f0e4-4ba7-850c-644b3ca1baec",
        "id": "LaCYWlxMmJYm"
      },
      "execution_count": 221,
      "outputs": [
        {
          "output_type": "stream",
          "name": "stdout",
          "text": [
            "\n",
            "\tDiebold-Mariano Test\n",
            "\n",
            "data:  ftse_fnn_d_seftse_gru_d_se\n",
            "DM = 1.282, Forecast horizon = 1, Loss function power = 2, p-value =\n",
            "0.2262\n",
            "alternative hypothesis: two.sided\n",
            "\n"
          ]
        }
      ]
    },
    {
      "cell_type": "code",
      "source": [
        "print(dm_qlike_ftse_d_fnn_lstm)"
      ],
      "metadata": {
        "colab": {
          "base_uri": "https://localhost:8080/"
        },
        "outputId": "7db4a0d2-91a2-4353-d918-5bf089759ac6",
        "id": "SIY_MthgmJYn"
      },
      "execution_count": 222,
      "outputs": [
        {
          "output_type": "stream",
          "name": "stdout",
          "text": [
            "\n",
            "\tDiebold-Mariano Test\n",
            "\n",
            "data:  ftse_fnn_d_qlikeftse_lstm_d_qlike\n",
            "DM = 0.96174, Forecast horizon = 1, Loss function power = 2, p-value =\n",
            "0.3568\n",
            "alternative hypothesis: two.sided\n",
            "\n"
          ]
        }
      ]
    },
    {
      "cell_type": "markdown",
      "source": [
        "##### CNN vs LSTM"
      ],
      "metadata": {
        "id": "XLb2mdYimJYn"
      }
    },
    {
      "cell_type": "code",
      "source": [
        "print(dm_se_ftse_d_cnn_lstm)"
      ],
      "metadata": {
        "colab": {
          "base_uri": "https://localhost:8080/"
        },
        "outputId": "733c64ea-24ff-4b90-9950-0ff6a69dae94",
        "id": "hoRtYtfHmJYn"
      },
      "execution_count": 223,
      "outputs": [
        {
          "output_type": "stream",
          "name": "stdout",
          "text": [
            "\n",
            "\tDiebold-Mariano Test\n",
            "\n",
            "data:  ftse_cnn_d_seftse_lstm_d_se\n",
            "DM = 1.1601, Forecast horizon = 1, Loss function power = 2, p-value =\n",
            "0.2706\n",
            "alternative hypothesis: two.sided\n",
            "\n"
          ]
        }
      ]
    },
    {
      "cell_type": "code",
      "source": [
        "print(dm_qlike_ftse_d_cnn_lstm)"
      ],
      "metadata": {
        "colab": {
          "base_uri": "https://localhost:8080/"
        },
        "outputId": "8bc20db4-d863-4f82-c7a1-c8a7495385f8",
        "id": "NJ3UEIw4mJYn"
      },
      "execution_count": 224,
      "outputs": [
        {
          "output_type": "stream",
          "name": "stdout",
          "text": [
            "\n",
            "\tDiebold-Mariano Test\n",
            "\n",
            "data:  ftse_cnn_d_qlikeftse_lstm_d_qlike\n",
            "DM = 0.25903, Forecast horizon = 1, Loss function power = 2, p-value =\n",
            "0.8004\n",
            "alternative hypothesis: two.sided\n",
            "\n"
          ]
        }
      ]
    },
    {
      "cell_type": "markdown",
      "source": [
        "##### CNN vs GRU"
      ],
      "metadata": {
        "id": "z4KHZqr1mJYo"
      }
    },
    {
      "cell_type": "code",
      "source": [
        "print(dm_se_ftse_d_cnn_gru)"
      ],
      "metadata": {
        "colab": {
          "base_uri": "https://localhost:8080/"
        },
        "outputId": "41f92b5c-ccb7-4170-d92a-5087b899646f",
        "id": "zylUBC9emJYo"
      },
      "execution_count": 225,
      "outputs": [
        {
          "output_type": "stream",
          "name": "stdout",
          "text": [
            "\n",
            "\tDiebold-Mariano Test\n",
            "\n",
            "data:  ftse_cnn_d_seftse_gru_d_se\n",
            "DM = 1.5306, Forecast horizon = 1, Loss function power = 2, p-value =\n",
            "0.1541\n",
            "alternative hypothesis: two.sided\n",
            "\n"
          ]
        }
      ]
    },
    {
      "cell_type": "code",
      "source": [
        "print(dm_qlike_ftse_d_cnn_gru)"
      ],
      "metadata": {
        "colab": {
          "base_uri": "https://localhost:8080/"
        },
        "outputId": "bcfab824-24c6-40f9-e71f-1e3062394e64",
        "id": "0EQ5WMJzmJYo"
      },
      "execution_count": 226,
      "outputs": [
        {
          "output_type": "stream",
          "name": "stdout",
          "text": [
            "\n",
            "\tDiebold-Mariano Test\n",
            "\n",
            "data:  ftse_cnn_d_qlikeftse_gru_d_qlike\n",
            "DM = -1.3082, Forecast horizon = 1, Loss function power = 2, p-value =\n",
            "0.2175\n",
            "alternative hypothesis: two.sided\n",
            "\n"
          ]
        }
      ]
    },
    {
      "cell_type": "markdown",
      "source": [
        "##### LSTM vs GRU"
      ],
      "metadata": {
        "id": "JuYbm2KAmJYo"
      }
    },
    {
      "cell_type": "code",
      "source": [
        "print(dm_se_ftse_d_lstm_gru)"
      ],
      "metadata": {
        "colab": {
          "base_uri": "https://localhost:8080/"
        },
        "outputId": "6d17c943-a829-4953-c302-16e135211c93",
        "id": "xT8e0dIjmJYo"
      },
      "execution_count": 227,
      "outputs": [
        {
          "output_type": "stream",
          "name": "stdout",
          "text": [
            "\n",
            "\tDiebold-Mariano Test\n",
            "\n",
            "data:  ftse_lstm_d_seftse_gru_d_se\n",
            "DM = 0.024059, Forecast horizon = 1, Loss function power = 2, p-value =\n",
            "0.9812\n",
            "alternative hypothesis: two.sided\n",
            "\n"
          ]
        }
      ]
    },
    {
      "cell_type": "code",
      "source": [
        "print(dm_qlike_ftse_d_lstm_gru)"
      ],
      "metadata": {
        "colab": {
          "base_uri": "https://localhost:8080/"
        },
        "outputId": "015600c5-a040-41a7-ec6b-e3e9e26e5f1b",
        "id": "gacx4DjqmJYo"
      },
      "execution_count": 228,
      "outputs": [
        {
          "output_type": "stream",
          "name": "stdout",
          "text": [
            "\n",
            "\tDiebold-Mariano Test\n",
            "\n",
            "data:  ftse_lstm_d_qlikeftse_gru_d_qlike\n",
            "DM = -1.3186, Forecast horizon = 1, Loss function power = 2, p-value =\n",
            "0.2141\n",
            "alternative hypothesis: two.sided\n",
            "\n"
          ]
        }
      ]
    },
    {
      "cell_type": "markdown",
      "source": [
        "#### Tests for the 1-week ahead forecast"
      ],
      "metadata": {
        "id": "nEGWunDpvze5"
      }
    },
    {
      "cell_type": "code",
      "source": [
        "# MCS for squared-error loss\n",
        "\n",
        "errors_matrix_se <- cbind(ftse_har_w_se, ftse_fnn_har_w_se, ftse_fnn_w_se, ftse_cnn_w_se, ftse_lstm_w_se, ftse_gru_w_se)\n",
        "errors_matrix_qlike <- cbind(ftse_har_w_qlike, ftse_fnn_har_w_qlike, ftse_fnn_w_qlike, ftse_cnn_w_qlike, ftse_lstm_w_qlike, ftse_gru_w_qlike)\n",
        "\n",
        "# B is number of bootstrap replications\n",
        "mcs_result_ftse_se_w <- MCSprocedure(errors_matrix_se, alpha = 0.05, B = 5000, statistic = \"Tmax\")\n",
        "\n",
        "mcs_result_ftse_qlike_w <- MCSprocedure(errors_matrix_qlike, alpha = 0.05, B = 5000, statistic = \"Tmax\")"
      ],
      "metadata": {
        "colab": {
          "base_uri": "https://localhost:8080/"
        },
        "outputId": "1b0301cf-4fb6-4700-fb64-e7bbb3545107",
        "id": "ce-iwpJyvzfE"
      },
      "execution_count": 229,
      "outputs": [
        {
          "output_type": "stream",
          "name": "stdout",
          "text": [
            "\n",
            "###########################################################################################################################\n",
            "Superior Set Model created\t:\n",
            "                  Rank_M         v_M  MCS_M Rank_R        v_R  MCS_R\n",
            "ftse_har_w_se          4  0.02629259 1.0000      6  2.3957816 0.1014\n",
            "ftse_fnn_har_w_se      2 -1.85945590 1.0000      2  0.7623676 0.9392\n",
            "ftse_fnn_w_se          3 -1.61337349 1.0000      3  1.2929491 0.7090\n",
            "ftse_cnn_w_se          5  0.11863835 0.9986      5  1.7398308 0.3548\n",
            "ftse_lstm_w_se         6  1.23699683 0.4372      4  1.5195142 0.5038\n",
            "ftse_gru_w_se          1 -2.12773579 1.0000      1 -0.7623676 1.0000\n",
            "                          Loss\n",
            "ftse_har_w_se     2.801607e-10\n",
            "ftse_fnn_har_w_se 2.264911e-10\n",
            "ftse_fnn_w_se     2.344834e-10\n",
            "ftse_cnn_w_se     2.850932e-10\n",
            "ftse_lstm_w_se    4.486037e-10\n",
            "ftse_gru_w_se     1.996650e-10\n",
            "p-value\t:\n",
            "[1] 0.4372\n",
            "\n",
            "###########################################################################################################################\n",
            "###########################################################################################################################\n",
            "Superior Set Model created\t:\n",
            "                     Rank_M        v_M  MCS_M Rank_R        v_R  MCS_R\n",
            "ftse_har_w_qlike          4 -0.0100111 1.0000      6  3.2238598 0.0056\n",
            "ftse_fnn_har_w_qlike      2 -2.2508772 1.0000      2  0.7914998 0.9672\n",
            "ftse_fnn_w_qlike          3 -0.1613925 1.0000      3  1.8109450 0.4224\n",
            "ftse_cnn_w_qlike          6  1.2516595 0.5464      4  1.9115560 0.3484\n",
            "ftse_lstm_w_qlike         5  1.0949951 0.6498      5  2.1879187 0.1900\n",
            "ftse_gru_w_qlike          1 -2.8349842 1.0000      1 -0.7914998 1.0000\n",
            "                          Loss\n",
            "ftse_har_w_qlike     -9.677295\n",
            "ftse_fnn_har_w_qlike -9.698528\n",
            "ftse_fnn_w_qlike     -9.679352\n",
            "ftse_cnn_w_qlike     -9.641308\n",
            "ftse_lstm_w_qlike    -9.655179\n",
            "ftse_gru_w_qlike     -9.711163\n",
            "p-value\t:\n",
            "[1] 0.5464\n",
            "\n",
            "###########################################################################################################################"
          ]
        }
      ]
    },
    {
      "cell_type": "code",
      "source": [
        "# Diebold-Mariano test\n",
        "\n",
        "dm_se_ftse_w_har_fnn_har <- dm.test(ftse_har_w_se, ftse_fnn_har_w_se, alternative = \"two.sided\")\n",
        "dm_se_ftse_w_har_fnn <- dm.test(ftse_har_w_se, ftse_fnn_w_se, alternative = \"two.sided\")\n",
        "dm_se_ftse_w_har_cnn <- dm.test(ftse_har_w_se, ftse_cnn_w_se, alternative = \"two.sided\")\n",
        "dm_se_ftse_w_har_lstm <- dm.test(ftse_har_w_se, ftse_lstm_w_se, alternative = \"two.sided\")\n",
        "dm_se_ftse_w_har_gru <- dm.test(ftse_har_w_se, ftse_gru_w_se, alternative = \"two.sided\")\n",
        "dm_se_ftse_w_fnn_har_fnn <- dm.test(ftse_fnn_har_w_se, ftse_fnn_w_se, alternative = \"two.sided\")\n",
        "dm_se_ftse_w_fnn_har_cnn <- dm.test(ftse_fnn_har_w_se, ftse_cnn_w_se, alternative = \"two.sided\")\n",
        "dm_se_ftse_w_fnn_har_lstm <- dm.test(ftse_fnn_har_w_se, ftse_lstm_w_se, alternative = \"two.sided\")\n",
        "dm_se_ftse_w_fnn_har_gru <- dm.test(ftse_fnn_har_w_se, ftse_gru_w_se, alternative = \"two.sided\")\n",
        "dm_se_ftse_w_fnn_cnn <- dm.test(ftse_fnn_w_se, ftse_cnn_w_se, alternative = \"two.sided\")\n",
        "dm_se_ftse_w_fnn_lstm <- dm.test(ftse_fnn_w_se, ftse_lstm_w_se, alternative = \"two.sided\")\n",
        "dm_se_ftse_w_fnn_gru <- dm.test(ftse_fnn_w_se, ftse_gru_w_se, alternative = \"two.sided\")\n",
        "dm_se_ftse_w_cnn_lstm <- dm.test(ftse_cnn_w_se, ftse_lstm_w_se, alternative = \"two.sided\")\n",
        "dm_se_ftse_w_cnn_gru <- dm.test(ftse_cnn_w_se, ftse_gru_w_se, alternative = \"two.sided\")\n",
        "dm_se_ftse_w_lstm_gru <- dm.test(ftse_lstm_w_se, ftse_gru_w_se, alternative = \"two.sided\")\n",
        "\n",
        "dm_qlike_ftse_w_har_fnn_har <- dm.test(ftse_har_w_qlike, ftse_fnn_har_w_qlike, alternative = \"two.sided\")\n",
        "dm_qlike_ftse_w_har_fnn <- dm.test(ftse_har_w_qlike, ftse_fnn_w_qlike, alternative = \"two.sided\")\n",
        "dm_qlike_ftse_w_har_cnn <- dm.test(ftse_har_w_qlike, ftse_cnn_w_qlike, alternative = \"two.sided\")\n",
        "dm_qlike_ftse_w_har_lstm <- dm.test(ftse_har_w_qlike, ftse_lstm_w_qlike, alternative = \"two.sided\")\n",
        "dm_qlike_ftse_w_har_gru <- dm.test(ftse_har_w_qlike, ftse_gru_w_qlike, alternative = \"two.sided\")\n",
        "dm_qlike_ftse_w_fnn_har_fnn <- dm.test(ftse_fnn_har_w_qlike, ftse_fnn_w_qlike, alternative = \"two.sided\")\n",
        "dm_qlike_ftse_w_fnn_har_cnn <- dm.test(ftse_fnn_har_w_qlike, ftse_cnn_w_qlike, alternative = \"two.sided\")\n",
        "dm_qlike_ftse_w_fnn_har_lstm <- dm.test(ftse_fnn_har_w_qlike, ftse_lstm_w_qlike, alternative = \"two.sided\")\n",
        "dm_qlike_ftse_w_fnn_har_gru <- dm.test(ftse_fnn_har_w_qlike, ftse_gru_w_qlike, alternative = \"two.sided\")\n",
        "dm_qlike_ftse_w_fnn_cnn <- dm.test(ftse_fnn_w_qlike, ftse_cnn_w_qlike, alternative = \"two.sided\")\n",
        "dm_qlike_ftse_w_fnn_lstm <- dm.test(ftse_fnn_w_qlike, ftse_lstm_w_qlike, alternative = \"two.sided\")\n",
        "dm_qlike_ftse_w_fnn_gru <- dm.test(ftse_fnn_w_qlike, ftse_gru_w_qlike, alternative = \"two.sided\")\n",
        "dm_qlike_ftse_w_cnn_lstm <- dm.test(ftse_cnn_w_qlike, ftse_lstm_w_qlike, alternative = \"two.sided\")\n",
        "dm_qlike_ftse_w_cnn_gru <- dm.test(ftse_cnn_w_qlike, ftse_gru_w_qlike, alternative = \"two.sided\")\n",
        "dm_qlike_ftse_w_lstm_gru <- dm.test(ftse_lstm_w_qlike, ftse_gru_w_qlike, alternative = \"two.sided\")"
      ],
      "metadata": {
        "id": "mxk0qQVKvzfF"
      },
      "execution_count": 230,
      "outputs": []
    },
    {
      "cell_type": "markdown",
      "source": [
        "##### HAR vs FNN-HAR"
      ],
      "metadata": {
        "id": "thT1NZzNvzfF"
      }
    },
    {
      "cell_type": "code",
      "source": [
        "print(dm_se_ftse_w_har_fnn_har)"
      ],
      "metadata": {
        "colab": {
          "base_uri": "https://localhost:8080/"
        },
        "outputId": "463778f6-c956-47b4-bd2e-6767928b6587",
        "id": "kHxCnMXivzfG"
      },
      "execution_count": 231,
      "outputs": [
        {
          "output_type": "stream",
          "name": "stdout",
          "text": [
            "\n",
            "\tDiebold-Mariano Test\n",
            "\n",
            "data:  ftse_har_w_seftse_fnn_har_w_se\n",
            "DM = -0.80033, Forecast horizon = 1, Loss function power = 2, p-value =\n",
            "0.427\n",
            "alternative hypothesis: two.sided\n",
            "\n"
          ]
        }
      ]
    },
    {
      "cell_type": "code",
      "source": [
        "print(dm_qlike_ftse_w_har_fnn_har)"
      ],
      "metadata": {
        "colab": {
          "base_uri": "https://localhost:8080/"
        },
        "outputId": "f63cd618-baf9-48b3-dc6b-55c97fdb03de",
        "id": "ANHAZ3cFvzfG"
      },
      "execution_count": 232,
      "outputs": [
        {
          "output_type": "stream",
          "name": "stdout",
          "text": [
            "\n",
            "\tDiebold-Mariano Test\n",
            "\n",
            "data:  ftse_har_w_qlikeftse_fnn_har_w_qlike\n",
            "DM = -1.3881, Forecast horizon = 1, Loss function power = 2, p-value =\n",
            "0.1708\n",
            "alternative hypothesis: two.sided\n",
            "\n"
          ]
        }
      ]
    },
    {
      "cell_type": "markdown",
      "source": [
        "##### HAR vs FNN"
      ],
      "metadata": {
        "id": "SjUkyZoRvzfG"
      }
    },
    {
      "cell_type": "code",
      "source": [
        "print(dm_se_ftse_w_har_fnn)"
      ],
      "metadata": {
        "colab": {
          "base_uri": "https://localhost:8080/"
        },
        "outputId": "f5cb0648-e27d-4063-9aea-1670cd76e042",
        "id": "WYW3zq69vzfG"
      },
      "execution_count": 233,
      "outputs": [
        {
          "output_type": "stream",
          "name": "stdout",
          "text": [
            "\n",
            "\tDiebold-Mariano Test\n",
            "\n",
            "data:  ftse_har_w_seftse_fnn_w_se\n",
            "DM = -0.71658, Forecast horizon = 1, Loss function power = 2, p-value =\n",
            "0.4767\n",
            "alternative hypothesis: two.sided\n",
            "\n"
          ]
        }
      ]
    },
    {
      "cell_type": "code",
      "source": [
        "print(dm_qlike_ftse_w_har_fnn)"
      ],
      "metadata": {
        "colab": {
          "base_uri": "https://localhost:8080/"
        },
        "outputId": "f12f2079-5d27-4bdf-f3d1-690385db994b",
        "id": "IZSfbfIqvzfG"
      },
      "execution_count": 234,
      "outputs": [
        {
          "output_type": "stream",
          "name": "stdout",
          "text": [
            "\n",
            "\tDiebold-Mariano Test\n",
            "\n",
            "data:  ftse_har_w_qlikeftse_fnn_w_qlike\n",
            "DM = -0.37279, Forecast horizon = 1, Loss function power = 2, p-value =\n",
            "0.7108\n",
            "alternative hypothesis: two.sided\n",
            "\n"
          ]
        }
      ]
    },
    {
      "cell_type": "markdown",
      "source": [
        "##### HAR vs CNN"
      ],
      "metadata": {
        "id": "4PhSCyQmvzfG"
      }
    },
    {
      "cell_type": "code",
      "source": [
        "print(dm_se_ftse_w_har_cnn)"
      ],
      "metadata": {
        "colab": {
          "base_uri": "https://localhost:8080/"
        },
        "outputId": "edf46702-f104-4607-8347-c1d90ceb0e2e",
        "id": "JCM09GclvzfH"
      },
      "execution_count": 235,
      "outputs": [
        {
          "output_type": "stream",
          "name": "stdout",
          "text": [
            "\n",
            "\tDiebold-Mariano Test\n",
            "\n",
            "data:  ftse_har_w_seftse_cnn_w_se\n",
            "DM = -0.95248, Forecast horizon = 1, Loss function power = 2, p-value =\n",
            "0.3451\n",
            "alternative hypothesis: two.sided\n",
            "\n"
          ]
        }
      ]
    },
    {
      "cell_type": "code",
      "source": [
        "print(dm_qlike_ftse_w_har_cnn)"
      ],
      "metadata": {
        "colab": {
          "base_uri": "https://localhost:8080/"
        },
        "outputId": "15109d5b-2a01-437b-f0fd-86ff42077c99",
        "id": "NT7bo3h1vzfH"
      },
      "execution_count": 236,
      "outputs": [
        {
          "output_type": "stream",
          "name": "stdout",
          "text": [
            "\n",
            "\tDiebold-Mariano Test\n",
            "\n",
            "data:  ftse_har_w_qlikeftse_cnn_w_qlike\n",
            "DM = 0.41827, Forecast horizon = 1, Loss function power = 2, p-value =\n",
            "0.6774\n",
            "alternative hypothesis: two.sided\n",
            "\n"
          ]
        }
      ]
    },
    {
      "cell_type": "markdown",
      "source": [
        "##### HAR vs LSTM"
      ],
      "metadata": {
        "id": "tDDKYQs-vzfH"
      }
    },
    {
      "cell_type": "code",
      "source": [
        "print(dm_se_ftse_w_har_lstm)"
      ],
      "metadata": {
        "colab": {
          "base_uri": "https://localhost:8080/"
        },
        "outputId": "168f4d5c-2088-4e51-912c-b47f2cde5a2b",
        "id": "-kauJAnQvzfH"
      },
      "execution_count": 237,
      "outputs": [
        {
          "output_type": "stream",
          "name": "stdout",
          "text": [
            "\n",
            "\tDiebold-Mariano Test\n",
            "\n",
            "data:  ftse_har_w_seftse_lstm_w_se\n",
            "DM = -1.9543, Forecast horizon = 1, Loss function power = 2, p-value =\n",
            "0.05585\n",
            "alternative hypothesis: two.sided\n",
            "\n"
          ]
        }
      ]
    },
    {
      "cell_type": "code",
      "source": [
        "print(dm_qlike_ftse_w_har_lstm)"
      ],
      "metadata": {
        "colab": {
          "base_uri": "https://localhost:8080/"
        },
        "outputId": "c78fe620-cb49-4139-998f-f8e5ab08e2dc",
        "id": "kCAgqzYQvzfH"
      },
      "execution_count": 238,
      "outputs": [
        {
          "output_type": "stream",
          "name": "stdout",
          "text": [
            "\n",
            "\tDiebold-Mariano Test\n",
            "\n",
            "data:  ftse_har_w_qlikeftse_lstm_w_qlike\n",
            "DM = 0.82565, Forecast horizon = 1, Loss function power = 2, p-value =\n",
            "0.4126\n",
            "alternative hypothesis: two.sided\n",
            "\n"
          ]
        }
      ]
    },
    {
      "cell_type": "markdown",
      "source": [
        "##### HAR vs GRU"
      ],
      "metadata": {
        "id": "vIjYpUeAvzfH"
      }
    },
    {
      "cell_type": "code",
      "source": [
        "print(dm_se_ftse_w_har_gru)"
      ],
      "metadata": {
        "colab": {
          "base_uri": "https://localhost:8080/"
        },
        "outputId": "fd5e8451-be49-4d79-8fb6-12b9a80a8029",
        "id": "0Rw3rkdvvzfH"
      },
      "execution_count": 239,
      "outputs": [
        {
          "output_type": "stream",
          "name": "stdout",
          "text": [
            "\n",
            "\tDiebold-Mariano Test\n",
            "\n",
            "data:  ftse_har_w_seftse_gru_w_se\n",
            "DM = 1.77, Forecast horizon = 1, Loss function power = 2, p-value =\n",
            "0.08238\n",
            "alternative hypothesis: two.sided\n",
            "\n"
          ]
        }
      ]
    },
    {
      "cell_type": "code",
      "source": [
        "print(dm_qlike_ftse_w_har_gru)"
      ],
      "metadata": {
        "colab": {
          "base_uri": "https://localhost:8080/"
        },
        "outputId": "ae2975c6-e794-4e1f-ec2c-8ef040e2ade9",
        "id": "-ImOMHY-vzfI"
      },
      "execution_count": 240,
      "outputs": [
        {
          "output_type": "stream",
          "name": "stdout",
          "text": [
            "\n",
            "\tDiebold-Mariano Test\n",
            "\n",
            "data:  ftse_har_w_qlikeftse_gru_w_qlike\n",
            "DM = -3.0369, Forecast horizon = 1, Loss function power = 2, p-value =\n",
            "0.003676\n",
            "alternative hypothesis: two.sided\n",
            "\n"
          ]
        }
      ]
    },
    {
      "cell_type": "markdown",
      "source": [
        "##### FNN-HAR vs FNN"
      ],
      "metadata": {
        "id": "eEV36p8vvzfI"
      }
    },
    {
      "cell_type": "code",
      "source": [
        "print(dm_se_ftse_w_fnn_har_fnn)"
      ],
      "metadata": {
        "colab": {
          "base_uri": "https://localhost:8080/"
        },
        "outputId": "37015bfb-6ebf-446e-bf24-a6a307209e10",
        "id": "2K9xs-B4vzfI"
      },
      "execution_count": 241,
      "outputs": [
        {
          "output_type": "stream",
          "name": "stdout",
          "text": [
            "\n",
            "\tDiebold-Mariano Test\n",
            "\n",
            "data:  ftse_fnn_har_w_seftse_fnn_w_se\n",
            "DM = 0.84934, Forecast horizon = 1, Loss function power = 2, p-value =\n",
            "0.3994\n",
            "alternative hypothesis: two.sided\n",
            "\n"
          ]
        }
      ]
    },
    {
      "cell_type": "code",
      "source": [
        "print(dm_qlike_ftse_w_fnn_har_fnn)"
      ],
      "metadata": {
        "colab": {
          "base_uri": "https://localhost:8080/"
        },
        "outputId": "6f044fe2-b098-4545-e2ef-8077557673ba",
        "id": "ogf5Ovo-vzfI"
      },
      "execution_count": 242,
      "outputs": [
        {
          "output_type": "stream",
          "name": "stdout",
          "text": [
            "\n",
            "\tDiebold-Mariano Test\n",
            "\n",
            "data:  ftse_fnn_har_w_qlikeftse_fnn_w_qlike\n",
            "DM = 0.9013, Forecast horizon = 1, Loss function power = 2, p-value =\n",
            "0.3714\n",
            "alternative hypothesis: two.sided\n",
            "\n"
          ]
        }
      ]
    },
    {
      "cell_type": "markdown",
      "source": [
        "##### FNN-HAR vs CNN"
      ],
      "metadata": {
        "id": "xED_o-fUvzfI"
      }
    },
    {
      "cell_type": "code",
      "source": [
        "print(dm_se_ftse_w_fnn_har_cnn)"
      ],
      "metadata": {
        "colab": {
          "base_uri": "https://localhost:8080/"
        },
        "outputId": "ac45b791-cd45-405c-87ca-7a11793d9196",
        "id": "OK2Y_vfEvzfI"
      },
      "execution_count": 243,
      "outputs": [
        {
          "output_type": "stream",
          "name": "stdout",
          "text": [
            "\n",
            "\tDiebold-Mariano Test\n",
            "\n",
            "data:  ftse_fnn_har_w_seftse_cnn_w_se\n",
            "DM = -1.0507, Forecast horizon = 1, Loss function power = 2, p-value =\n",
            "0.2981\n",
            "alternative hypothesis: two.sided\n",
            "\n"
          ]
        }
      ]
    },
    {
      "cell_type": "code",
      "source": [
        "print(dm_qlike_ftse_w_fnn_har_cnn)"
      ],
      "metadata": {
        "colab": {
          "base_uri": "https://localhost:8080/"
        },
        "outputId": "3b1ae281-fe5f-43a3-c64d-61263d80d860",
        "id": "2QNCw4l1vzfJ"
      },
      "execution_count": 244,
      "outputs": [
        {
          "output_type": "stream",
          "name": "stdout",
          "text": [
            "\n",
            "\tDiebold-Mariano Test\n",
            "\n",
            "data:  ftse_fnn_har_w_qlikeftse_cnn_w_qlike\n",
            "DM = 1.6586, Forecast horizon = 1, Loss function power = 2, p-value =\n",
            "0.103\n",
            "alternative hypothesis: two.sided\n",
            "\n"
          ]
        }
      ]
    },
    {
      "cell_type": "markdown",
      "source": [
        "##### FNN-HAR vs LSTM"
      ],
      "metadata": {
        "id": "EKWp1nWivzfJ"
      }
    },
    {
      "cell_type": "code",
      "source": [
        "print(dm_se_ftse_w_fnn_har_lstm)"
      ],
      "metadata": {
        "colab": {
          "base_uri": "https://localhost:8080/"
        },
        "outputId": "5928f60e-7379-4191-face-2c271a5a2aa5",
        "id": "DXSL5hyyvzfJ"
      },
      "execution_count": 245,
      "outputs": [
        {
          "output_type": "stream",
          "name": "stdout",
          "text": [
            "\n",
            "\tDiebold-Mariano Test\n",
            "\n",
            "data:  ftse_fnn_har_w_seftse_lstm_w_se\n",
            "DM = -1.9086, Forecast horizon = 1, Loss function power = 2, p-value =\n",
            "0.06163\n",
            "alternative hypothesis: two.sided\n",
            "\n"
          ]
        }
      ]
    },
    {
      "cell_type": "code",
      "source": [
        "print(dm_qlike_ftse_w_fnn_har_lstm)"
      ],
      "metadata": {
        "colab": {
          "base_uri": "https://localhost:8080/"
        },
        "outputId": "6e771bfd-5f05-4a24-c1fe-c116559defa5",
        "id": "lvwZ6hZPvzfJ"
      },
      "execution_count": 246,
      "outputs": [
        {
          "output_type": "stream",
          "name": "stdout",
          "text": [
            "\n",
            "\tDiebold-Mariano Test\n",
            "\n",
            "data:  ftse_fnn_har_w_qlikeftse_lstm_w_qlike\n",
            "DM = 1.8617, Forecast horizon = 1, Loss function power = 2, p-value =\n",
            "0.06808\n",
            "alternative hypothesis: two.sided\n",
            "\n"
          ]
        }
      ]
    },
    {
      "cell_type": "markdown",
      "source": [
        "##### FNN-HAR vs GRU"
      ],
      "metadata": {
        "id": "k7wUSlw6vzfJ"
      }
    },
    {
      "cell_type": "code",
      "source": [
        "print(dm_se_ftse_w_fnn_har_gru)"
      ],
      "metadata": {
        "colab": {
          "base_uri": "https://localhost:8080/"
        },
        "outputId": "cb506af4-315a-413b-fb83-10889bc8afeb",
        "id": "DRlNLk0xvzfJ"
      },
      "execution_count": 247,
      "outputs": [
        {
          "output_type": "stream",
          "name": "stdout",
          "text": [
            "\n",
            "\tDiebold-Mariano Test\n",
            "\n",
            "data:  ftse_fnn_har_w_seftse_gru_w_se\n",
            "DM = 0.97798, Forecast horizon = 1, Loss function power = 2, p-value =\n",
            "0.3324\n",
            "alternative hypothesis: two.sided\n",
            "\n"
          ]
        }
      ]
    },
    {
      "cell_type": "code",
      "source": [
        "print(dm_qlike_ftse_w_fnn_har_gru)"
      ],
      "metadata": {
        "colab": {
          "base_uri": "https://localhost:8080/"
        },
        "outputId": "4867ae2c-0098-43e8-840b-4073884dee5d",
        "id": "0tYv_34XvzfJ"
      },
      "execution_count": 248,
      "outputs": [
        {
          "output_type": "stream",
          "name": "stdout",
          "text": [
            "\n",
            "\tDiebold-Mariano Test\n",
            "\n",
            "data:  ftse_fnn_har_w_qlikeftse_gru_w_qlike\n",
            "DM = -0.3576, Forecast horizon = 1, Loss function power = 2, p-value =\n",
            "0.722\n",
            "alternative hypothesis: two.sided\n",
            "\n"
          ]
        }
      ]
    },
    {
      "cell_type": "markdown",
      "source": [
        "##### FNN vs CNN"
      ],
      "metadata": {
        "id": "pS54sSkwvzfK"
      }
    },
    {
      "cell_type": "code",
      "source": [
        "print(dm_se_ftse_w_fnn_cnn)"
      ],
      "metadata": {
        "colab": {
          "base_uri": "https://localhost:8080/"
        },
        "outputId": "d686236f-986d-4efe-951e-578330450b5c",
        "id": "Jv2TBlR3vzfK"
      },
      "execution_count": 249,
      "outputs": [
        {
          "output_type": "stream",
          "name": "stdout",
          "text": [
            "\n",
            "\tDiebold-Mariano Test\n",
            "\n",
            "data:  ftse_fnn_w_seftse_cnn_w_se\n",
            "DM = -0.99622, Forecast horizon = 1, Loss function power = 2, p-value =\n",
            "0.3236\n",
            "alternative hypothesis: two.sided\n",
            "\n"
          ]
        }
      ]
    },
    {
      "cell_type": "code",
      "source": [
        "print(dm_qlike_ftse_w_fnn_cnn)"
      ],
      "metadata": {
        "colab": {
          "base_uri": "https://localhost:8080/"
        },
        "outputId": "e4936fcc-5c5d-4310-fe77-2707db5ced24",
        "id": "4muCCgoWvzfK"
      },
      "execution_count": 250,
      "outputs": [
        {
          "output_type": "stream",
          "name": "stdout",
          "text": [
            "\n",
            "\tDiebold-Mariano Test\n",
            "\n",
            "data:  ftse_fnn_w_qlikeftse_cnn_w_qlike\n",
            "DM = 0.84563, Forecast horizon = 1, Loss function power = 2, p-value =\n",
            "0.4015\n",
            "alternative hypothesis: two.sided\n",
            "\n"
          ]
        }
      ]
    },
    {
      "cell_type": "markdown",
      "source": [
        "##### FNN vs LSTM"
      ],
      "metadata": {
        "id": "wULyrL9wvzfK"
      }
    },
    {
      "cell_type": "code",
      "source": [
        "print(dm_se_ftse_w_fnn_lstm)"
      ],
      "metadata": {
        "colab": {
          "base_uri": "https://localhost:8080/"
        },
        "outputId": "9ec2b983-8b3b-4d39-f434-d75662fb719b",
        "id": "oBeEcRfSvzfK"
      },
      "execution_count": 251,
      "outputs": [
        {
          "output_type": "stream",
          "name": "stdout",
          "text": [
            "\n",
            "\tDiebold-Mariano Test\n",
            "\n",
            "data:  ftse_fnn_w_seftse_lstm_w_se\n",
            "DM = -2.1808, Forecast horizon = 1, Loss function power = 2, p-value =\n",
            "0.03357\n",
            "alternative hypothesis: two.sided\n",
            "\n"
          ]
        }
      ]
    },
    {
      "cell_type": "code",
      "source": [
        "print(dm_qlike_ftse_w_fnn_lstm)"
      ],
      "metadata": {
        "colab": {
          "base_uri": "https://localhost:8080/"
        },
        "outputId": "dfbbca4b-0e15-49a6-c4e3-dc09ece04cb1",
        "id": "LzbIwPknvzfK"
      },
      "execution_count": 252,
      "outputs": [
        {
          "output_type": "stream",
          "name": "stdout",
          "text": [
            "\n",
            "\tDiebold-Mariano Test\n",
            "\n",
            "data:  ftse_fnn_w_qlikeftse_lstm_w_qlike\n",
            "DM = 0.90266, Forecast horizon = 1, Loss function power = 2, p-value =\n",
            "0.3707\n",
            "alternative hypothesis: two.sided\n",
            "\n"
          ]
        }
      ]
    },
    {
      "cell_type": "markdown",
      "source": [
        "##### FNN vs GRU"
      ],
      "metadata": {
        "id": "32qjLscxvzfK"
      }
    },
    {
      "cell_type": "code",
      "source": [
        "print(dm_se_ftse_w_fnn_gru)"
      ],
      "metadata": {
        "colab": {
          "base_uri": "https://localhost:8080/"
        },
        "outputId": "f54f4791-8063-4182-dde3-04198be00270",
        "id": "rzrSo_GGvzfL"
      },
      "execution_count": 253,
      "outputs": [
        {
          "output_type": "stream",
          "name": "stdout",
          "text": [
            "\n",
            "\tDiebold-Mariano Test\n",
            "\n",
            "data:  ftse_fnn_w_seftse_gru_w_se\n",
            "DM = 1.0941, Forecast horizon = 1, Loss function power = 2, p-value =\n",
            "0.2788\n",
            "alternative hypothesis: two.sided\n",
            "\n"
          ]
        }
      ]
    },
    {
      "cell_type": "code",
      "source": [
        "print(dm_qlike_ftse_w_fnn_lstm)"
      ],
      "metadata": {
        "colab": {
          "base_uri": "https://localhost:8080/"
        },
        "outputId": "36790e9b-8702-4751-defb-6e98ff61c49b",
        "id": "3QdGVywivzfL"
      },
      "execution_count": 254,
      "outputs": [
        {
          "output_type": "stream",
          "name": "stdout",
          "text": [
            "\n",
            "\tDiebold-Mariano Test\n",
            "\n",
            "data:  ftse_fnn_w_qlikeftse_lstm_w_qlike\n",
            "DM = 0.90266, Forecast horizon = 1, Loss function power = 2, p-value =\n",
            "0.3707\n",
            "alternative hypothesis: two.sided\n",
            "\n"
          ]
        }
      ]
    },
    {
      "cell_type": "markdown",
      "source": [
        "##### CNN vs LSTM"
      ],
      "metadata": {
        "id": "DyD600XevzfL"
      }
    },
    {
      "cell_type": "code",
      "source": [
        "print(dm_se_ftse_w_cnn_lstm)"
      ],
      "metadata": {
        "colab": {
          "base_uri": "https://localhost:8080/"
        },
        "outputId": "66a9577b-8a48-4c4d-c7d5-04f614989577",
        "id": "uUL842WUvzfL"
      },
      "execution_count": 255,
      "outputs": [
        {
          "output_type": "stream",
          "name": "stdout",
          "text": [
            "\n",
            "\tDiebold-Mariano Test\n",
            "\n",
            "data:  ftse_cnn_w_seftse_lstm_w_se\n",
            "DM = 0.010492, Forecast horizon = 1, Loss function power = 2, p-value =\n",
            "0.9917\n",
            "alternative hypothesis: two.sided\n",
            "\n"
          ]
        }
      ]
    },
    {
      "cell_type": "code",
      "source": [
        "print(dm_qlike_ftse_w_cnn_lstm)"
      ],
      "metadata": {
        "colab": {
          "base_uri": "https://localhost:8080/"
        },
        "outputId": "d784d889-e68f-40fd-cb6e-4c403296d283",
        "id": "2HyMquwvvzfL"
      },
      "execution_count": 256,
      "outputs": [
        {
          "output_type": "stream",
          "name": "stdout",
          "text": [
            "\n",
            "\tDiebold-Mariano Test\n",
            "\n",
            "data:  ftse_cnn_w_qlikeftse_lstm_w_qlike\n",
            "DM = 0.083625, Forecast horizon = 1, Loss function power = 2, p-value =\n",
            "0.9337\n",
            "alternative hypothesis: two.sided\n",
            "\n"
          ]
        }
      ]
    },
    {
      "cell_type": "markdown",
      "source": [
        "##### CNN vs GRU"
      ],
      "metadata": {
        "id": "aSLSCNYCvzfL"
      }
    },
    {
      "cell_type": "code",
      "source": [
        "print(dm_se_ftse_w_cnn_gru)"
      ],
      "metadata": {
        "colab": {
          "base_uri": "https://localhost:8080/"
        },
        "outputId": "69f58a81-884f-40f4-8be5-20599babecfc",
        "id": "q8ANDYRuvzfL"
      },
      "execution_count": 257,
      "outputs": [
        {
          "output_type": "stream",
          "name": "stdout",
          "text": [
            "\n",
            "\tDiebold-Mariano Test\n",
            "\n",
            "data:  ftse_cnn_w_seftse_gru_w_se\n",
            "DM = 1.0191, Forecast horizon = 1, Loss function power = 2, p-value =\n",
            "0.3127\n",
            "alternative hypothesis: two.sided\n",
            "\n"
          ]
        }
      ]
    },
    {
      "cell_type": "code",
      "source": [
        "print(dm_qlike_ftse_w_cnn_gru)"
      ],
      "metadata": {
        "colab": {
          "base_uri": "https://localhost:8080/"
        },
        "outputId": "4c7e7eed-dc30-424e-ecc8-451561f891fc",
        "id": "5n-kWsVCvzfM"
      },
      "execution_count": 258,
      "outputs": [
        {
          "output_type": "stream",
          "name": "stdout",
          "text": [
            "\n",
            "\tDiebold-Mariano Test\n",
            "\n",
            "data:  ftse_cnn_w_qlikeftse_gru_w_qlike\n",
            "DM = -1.5955, Forecast horizon = 1, Loss function power = 2, p-value =\n",
            "0.1164\n",
            "alternative hypothesis: two.sided\n",
            "\n"
          ]
        }
      ]
    },
    {
      "cell_type": "markdown",
      "source": [
        "##### LSTM vs GRU"
      ],
      "metadata": {
        "id": "2cNvQIN9vzfM"
      }
    },
    {
      "cell_type": "code",
      "source": [
        "print(dm_se_ftse_w_lstm_gru)"
      ],
      "metadata": {
        "colab": {
          "base_uri": "https://localhost:8080/"
        },
        "outputId": "a1d9c643-3cfd-4344-e855-5e7ca172ddcc",
        "id": "p-Cx-74OvzfM"
      },
      "execution_count": 259,
      "outputs": [
        {
          "output_type": "stream",
          "name": "stdout",
          "text": [
            "\n",
            "\tDiebold-Mariano Test\n",
            "\n",
            "data:  ftse_lstm_w_seftse_gru_w_se\n",
            "DM = 2.0205, Forecast horizon = 1, Loss function power = 2, p-value =\n",
            "0.04831\n",
            "alternative hypothesis: two.sided\n",
            "\n"
          ]
        }
      ]
    },
    {
      "cell_type": "code",
      "source": [
        "print(dm_qlike_ftse_w_lstm_gru)"
      ],
      "metadata": {
        "colab": {
          "base_uri": "https://localhost:8080/"
        },
        "outputId": "12825e39-858d-4ec7-8289-188579cef46c",
        "id": "BZa56d8QvzfM"
      },
      "execution_count": 260,
      "outputs": [
        {
          "output_type": "stream",
          "name": "stdout",
          "text": [
            "\n",
            "\tDiebold-Mariano Test\n",
            "\n",
            "data:  ftse_lstm_w_qlikeftse_gru_w_qlike\n",
            "DM = -2.3296, Forecast horizon = 1, Loss function power = 2, p-value =\n",
            "0.0236\n",
            "alternative hypothesis: two.sided\n",
            "\n"
          ]
        }
      ]
    },
    {
      "cell_type": "markdown",
      "source": [
        "#### Tests for the 1-month ahead forecast"
      ],
      "metadata": {
        "id": "1WGdWo353-vo"
      }
    },
    {
      "cell_type": "code",
      "source": [
        "# MCS for squared-error loss\n",
        "\n",
        "errors_matrix_se <- cbind(ftse_har_m_se, ftse_fnn_har_m_se, ftse_fnn_m_se, ftse_cnn_m_se, ftse_lstm_m_se, ftse_gru_m_se)\n",
        "errors_matrix_qlike <- cbind(ftse_har_m_qlike, ftse_fnn_har_m_qlike, ftse_fnn_m_qlike, ftse_cnn_m_qlike, ftse_lstm_m_qlike, ftse_gru_m_qlike)\n",
        "\n",
        "# B is number of bootstrap replications\n",
        "mcs_result_ftse_se_m <- MCSprocedure(errors_matrix_se, alpha = 0.05, B = 5000, statistic = \"Tmax\")\n",
        "\n",
        "mcs_result_ftse_qlike_m <- MCSprocedure(errors_matrix_qlike, alpha = 0.05, B = 5000, statistic = \"Tmax\")"
      ],
      "metadata": {
        "colab": {
          "base_uri": "https://localhost:8080/"
        },
        "outputId": "8ec16fbf-383b-4003-c003-6092585fd144",
        "id": "nKr5_17b3-wI"
      },
      "execution_count": 261,
      "outputs": [
        {
          "output_type": "stream",
          "name": "stdout",
          "text": [
            "\n",
            "###########################################################################################################################\n",
            "Superior Set Model created\t:\n",
            "                  Rank_M        v_M  MCS_M Rank_R        v_R  MCS_R\n",
            "ftse_har_m_se          3 -0.8744250 1.0000      1 -0.6023332 1.0000\n",
            "ftse_fnn_har_m_se      5  0.6297503 0.8072      5  1.0200159 0.7826\n",
            "ftse_fnn_m_se          4 -0.5694498 1.0000      4  0.6825148 0.8560\n",
            "ftse_cnn_m_se          6  0.9869528 0.6638      6  1.3511396 0.4516\n",
            "ftse_lstm_m_se         1 -0.9949271 1.0000      3  0.6616940 0.8632\n",
            "ftse_gru_m_se          2 -0.8991752 1.0000      2  0.6023332 0.8860\n",
            "                          Loss\n",
            "ftse_har_m_se     5.942856e-09\n",
            "ftse_fnn_har_m_se 6.316885e-09\n",
            "ftse_fnn_m_se     6.124877e-09\n",
            "ftse_cnn_m_se     6.403266e-09\n",
            "ftse_lstm_m_se    6.087083e-09\n",
            "ftse_gru_m_se     6.104871e-09\n",
            "p-value\t:\n",
            "[1] 0.6638\n",
            "\n",
            "###########################################################################################################################\n",
            "###########################################################################################################################\n",
            "Superior Set Model created\t:\n",
            "                     Rank_M        v_M  MCS_M Rank_R       v_R  MCS_R      Loss\n",
            "ftse_har_m_qlike          2 -1.4064926 1.0000      1 -1.113671 1.0000 -9.123515\n",
            "ftse_fnn_har_m_qlike      3 -1.0570205 1.0000      2  1.113671 0.7466 -9.108643\n",
            "ftse_fnn_m_qlike          5  1.2572750 0.4788      6  2.231134 0.0798 -9.030639\n",
            "ftse_cnn_m_qlike          6  1.3794590 0.3172      5  1.543828 0.3774 -8.903687\n",
            "ftse_lstm_m_qlike         1 -1.4604674 1.0000      4  1.302523 0.6544 -9.068360\n",
            "ftse_gru_m_qlike          4 -0.8376679 1.0000      3  1.124599 0.7426 -9.055416\n",
            "p-value\t:\n",
            "[1] 0.3172\n",
            "\n",
            "###########################################################################################################################"
          ]
        }
      ]
    },
    {
      "cell_type": "code",
      "source": [
        "# Diebold-Mariano test\n",
        "\n",
        "dm_se_ftse_m_har_fnn_har <- dm.test(ftse_har_m_se, ftse_fnn_har_m_se, alternative = \"two.sided\")\n",
        "dm_se_ftse_m_har_fnn <- dm.test(ftse_har_m_se, ftse_fnn_m_se, alternative = \"two.sided\")\n",
        "dm_se_ftse_m_har_cnn <- dm.test(ftse_har_m_se, ftse_cnn_m_se, alternative = \"two.sided\")\n",
        "dm_se_ftse_m_har_lstm <- dm.test(ftse_har_m_se, ftse_lstm_m_se, alternative = \"two.sided\")\n",
        "dm_se_ftse_m_har_gru <- dm.test(ftse_har_m_se, ftse_gru_m_se, alternative = \"two.sided\")\n",
        "dm_se_ftse_m_fnn_har_fnn <- dm.test(ftse_fnn_har_m_se, ftse_fnn_m_se, alternative = \"two.sided\")\n",
        "dm_se_ftse_m_fnn_har_cnn <- dm.test(ftse_fnn_har_m_se, ftse_cnn_m_se, alternative = \"two.sided\")\n",
        "dm_se_ftse_m_fnn_har_lstm <- dm.test(ftse_fnn_har_m_se, ftse_lstm_m_se, alternative = \"two.sided\")\n",
        "dm_se_ftse_m_fnn_har_gru <- dm.test(ftse_fnn_har_m_se, ftse_gru_m_se, alternative = \"two.sided\")\n",
        "dm_se_ftse_m_fnn_cnn <- dm.test(ftse_fnn_m_se, ftse_cnn_m_se, alternative = \"two.sided\")\n",
        "dm_se_ftse_m_fnn_lstm <- dm.test(ftse_fnn_m_se, ftse_lstm_m_se, alternative = \"two.sided\")\n",
        "dm_se_ftse_m_fnn_gru <- dm.test(ftse_fnn_m_se, ftse_gru_m_se, alternative = \"two.sided\")\n",
        "dm_se_ftse_m_cnn_lstm <- dm.test(ftse_cnn_m_se, ftse_lstm_m_se, alternative = \"two.sided\")\n",
        "dm_se_ftse_m_cnn_gru <- dm.test(ftse_cnn_m_se, ftse_gru_m_se, alternative = \"two.sided\")\n",
        "dm_se_ftse_m_lstm_gru <- dm.test(ftse_lstm_m_se, ftse_gru_m_se, alternative = \"two.sided\")\n",
        "\n",
        "dm_qlike_ftse_m_har_fnn_har <- dm.test(ftse_har_m_qlike, ftse_fnn_har_m_qlike, alternative = \"two.sided\")\n",
        "dm_qlike_ftse_m_har_fnn <- dm.test(ftse_har_m_qlike, ftse_fnn_m_qlike, alternative = \"two.sided\")\n",
        "dm_qlike_ftse_m_har_cnn <- dm.test(ftse_har_m_qlike, ftse_cnn_m_qlike, alternative = \"two.sided\")\n",
        "dm_qlike_ftse_m_har_lstm <- dm.test(ftse_har_m_qlike, ftse_lstm_m_qlike, alternative = \"two.sided\")\n",
        "dm_qlike_ftse_m_har_gru <- dm.test(ftse_har_m_qlike, ftse_gru_m_qlike, alternative = \"two.sided\")\n",
        "dm_qlike_ftse_m_fnn_har_fnn <- dm.test(ftse_fnn_har_m_qlike, ftse_fnn_m_qlike, alternative = \"two.sided\")\n",
        "dm_qlike_ftse_m_fnn_har_cnn <- dm.test(ftse_fnn_har_m_qlike, ftse_cnn_m_qlike, alternative = \"two.sided\")\n",
        "dm_qlike_ftse_m_fnn_har_lstm <- dm.test(ftse_fnn_har_m_qlike, ftse_lstm_m_qlike, alternative = \"two.sided\")\n",
        "dm_qlike_ftse_m_fnn_har_gru <- dm.test(ftse_fnn_har_m_qlike, ftse_gru_m_qlike, alternative = \"two.sided\")\n",
        "dm_qlike_ftse_m_fnn_cnn <- dm.test(ftse_fnn_m_qlike, ftse_cnn_m_qlike, alternative = \"two.sided\")\n",
        "dm_qlike_ftse_m_fnn_lstm <- dm.test(ftse_fnn_m_qlike, ftse_lstm_m_qlike, alternative = \"two.sided\")\n",
        "dm_qlike_ftse_m_fnn_gru <- dm.test(ftse_fnn_m_qlike, ftse_gru_m_qlike, alternative = \"two.sided\")\n",
        "dm_qlike_ftse_m_cnn_lstm <- dm.test(ftse_cnn_m_qlike, ftse_lstm_m_qlike, alternative = \"two.sided\")\n",
        "dm_qlike_ftse_m_cnn_gru <- dm.test(ftse_cnn_m_qlike, ftse_gru_m_qlike, alternative = \"two.sided\")\n",
        "dm_qlike_ftse_m_lstm_gru <- dm.test(ftse_lstm_m_qlike, ftse_gru_m_qlike, alternative = \"two.sided\")"
      ],
      "metadata": {
        "id": "BHYEY2Ah3-wK"
      },
      "execution_count": 262,
      "outputs": []
    },
    {
      "cell_type": "markdown",
      "source": [
        "##### HAR vs FNN-HAR"
      ],
      "metadata": {
        "id": "td1H-xCW3-wM"
      }
    },
    {
      "cell_type": "code",
      "source": [
        "print(dm_se_ftse_m_har_fnn_har)"
      ],
      "metadata": {
        "colab": {
          "base_uri": "https://localhost:8080/"
        },
        "outputId": "21c177be-95b7-45b0-f729-0ac546168ef0",
        "id": "4r9Ecsef3-wM"
      },
      "execution_count": 263,
      "outputs": [
        {
          "output_type": "stream",
          "name": "stdout",
          "text": [
            "\n",
            "\tDiebold-Mariano Test\n",
            "\n",
            "data:  ftse_har_m_seftse_fnn_har_m_se\n",
            "DM = 0.85483, Forecast horizon = 1, Loss function power = 2, p-value =\n",
            "0.3936\n",
            "alternative hypothesis: two.sided\n",
            "\n"
          ]
        }
      ]
    },
    {
      "cell_type": "code",
      "source": [
        "print(dm_qlike_ftse_m_har_fnn_har)"
      ],
      "metadata": {
        "colab": {
          "base_uri": "https://localhost:8080/"
        },
        "outputId": "4fde1731-3376-4f06-f2d1-980998290b59",
        "id": "C9lhYPQm3-wN"
      },
      "execution_count": 264,
      "outputs": [
        {
          "output_type": "stream",
          "name": "stdout",
          "text": [
            "\n",
            "\tDiebold-Mariano Test\n",
            "\n",
            "data:  ftse_har_m_qlikeftse_fnn_har_m_qlike\n",
            "DM = 0.80198, Forecast horizon = 1, Loss function power = 2, p-value =\n",
            "0.4234\n",
            "alternative hypothesis: two.sided\n",
            "\n"
          ]
        }
      ]
    },
    {
      "cell_type": "markdown",
      "source": [
        "##### HAR vs FNN"
      ],
      "metadata": {
        "id": "4kDDQSnq3-wO"
      }
    },
    {
      "cell_type": "code",
      "source": [
        "print(dm_se_ftse_m_har_fnn)"
      ],
      "metadata": {
        "colab": {
          "base_uri": "https://localhost:8080/"
        },
        "outputId": "4ee4c9af-75a5-4e46-f65f-e10ea44d506c",
        "id": "sQg5gznq3-wO"
      },
      "execution_count": 265,
      "outputs": [
        {
          "output_type": "stream",
          "name": "stdout",
          "text": [
            "\n",
            "\tDiebold-Mariano Test\n",
            "\n",
            "data:  ftse_har_m_seftse_fnn_m_se\n",
            "DM = -1.0031, Forecast horizon = 1, Loss function power = 2, p-value =\n",
            "0.3169\n",
            "alternative hypothesis: two.sided\n",
            "\n"
          ]
        }
      ]
    },
    {
      "cell_type": "code",
      "source": [
        "print(dm_qlike_ftse_m_har_fnn)"
      ],
      "metadata": {
        "colab": {
          "base_uri": "https://localhost:8080/"
        },
        "outputId": "1d277079-3023-4617-f863-d3d1a9d27563",
        "id": "6PSwTNO33-wP"
      },
      "execution_count": 266,
      "outputs": [
        {
          "output_type": "stream",
          "name": "stdout",
          "text": [
            "\n",
            "\tDiebold-Mariano Test\n",
            "\n",
            "data:  ftse_har_m_qlikeftse_fnn_m_qlike\n",
            "DM = -0.96447, Forecast horizon = 1, Loss function power = 2, p-value =\n",
            "0.3359\n",
            "alternative hypothesis: two.sided\n",
            "\n"
          ]
        }
      ]
    },
    {
      "cell_type": "markdown",
      "source": [
        "##### HAR vs CNN"
      ],
      "metadata": {
        "id": "sNpzOngd3-wQ"
      }
    },
    {
      "cell_type": "code",
      "source": [
        "print(dm_se_ftse_m_har_cnn)"
      ],
      "metadata": {
        "colab": {
          "base_uri": "https://localhost:8080/"
        },
        "outputId": "92b0fe65-493d-498c-fbd3-cc11e78846b4",
        "id": "mB7GXTQT3-wQ"
      },
      "execution_count": 267,
      "outputs": [
        {
          "output_type": "stream",
          "name": "stdout",
          "text": [
            "\n",
            "\tDiebold-Mariano Test\n",
            "\n",
            "data:  ftse_har_m_seftse_cnn_m_se\n",
            "DM = -1.0057, Forecast horizon = 1, Loss function power = 2, p-value =\n",
            "0.3157\n",
            "alternative hypothesis: two.sided\n",
            "\n"
          ]
        }
      ]
    },
    {
      "cell_type": "code",
      "source": [
        "print(dm_qlike_ftse_m_har_cnn)"
      ],
      "metadata": {
        "colab": {
          "base_uri": "https://localhost:8080/"
        },
        "outputId": "38a86908-c102-43aa-8636-c995e6d910e9",
        "id": "EEFDvOCI3-wR"
      },
      "execution_count": 268,
      "outputs": [
        {
          "output_type": "stream",
          "name": "stdout",
          "text": [
            "\n",
            "\tDiebold-Mariano Test\n",
            "\n",
            "data:  ftse_har_m_qlikeftse_cnn_m_qlike\n",
            "DM = -0.96491, Forecast horizon = 1, Loss function power = 2, p-value =\n",
            "0.3357\n",
            "alternative hypothesis: two.sided\n",
            "\n"
          ]
        }
      ]
    },
    {
      "cell_type": "markdown",
      "source": [
        "##### HAR vs LSTM"
      ],
      "metadata": {
        "id": "9LYZhQ1o3-wR"
      }
    },
    {
      "cell_type": "code",
      "source": [
        "print(dm_se_ftse_m_har_lstm)"
      ],
      "metadata": {
        "colab": {
          "base_uri": "https://localhost:8080/"
        },
        "outputId": "75efb647-dd5a-4572-d995-4b6818b28690",
        "id": "wVdFVS4Z3-wS"
      },
      "execution_count": 269,
      "outputs": [
        {
          "output_type": "stream",
          "name": "stdout",
          "text": [
            "\n",
            "\tDiebold-Mariano Test\n",
            "\n",
            "data:  ftse_har_m_seftse_lstm_m_se\n",
            "DM = -1.0066, Forecast horizon = 1, Loss function power = 2, p-value =\n",
            "0.3152\n",
            "alternative hypothesis: two.sided\n",
            "\n"
          ]
        }
      ]
    },
    {
      "cell_type": "code",
      "source": [
        "print(dm_qlike_ftse_m_har_lstm)"
      ],
      "metadata": {
        "colab": {
          "base_uri": "https://localhost:8080/"
        },
        "outputId": "2e9a9172-5b4a-4b0c-b8a2-c14913e29b95",
        "id": "1HE57Yy-3-wT"
      },
      "execution_count": 270,
      "outputs": [
        {
          "output_type": "stream",
          "name": "stdout",
          "text": [
            "\n",
            "\tDiebold-Mariano Test\n",
            "\n",
            "data:  ftse_har_m_qlikeftse_lstm_m_qlike\n",
            "DM = -1.0866, Forecast horizon = 1, Loss function power = 2, p-value =\n",
            "0.2784\n",
            "alternative hypothesis: two.sided\n",
            "\n"
          ]
        }
      ]
    },
    {
      "cell_type": "markdown",
      "source": [
        "##### HAR vs GRU"
      ],
      "metadata": {
        "id": "z18ISJx-3-wT"
      }
    },
    {
      "cell_type": "code",
      "source": [
        "print(dm_se_ftse_m_har_gru)"
      ],
      "metadata": {
        "colab": {
          "base_uri": "https://localhost:8080/"
        },
        "outputId": "7f2de9b4-ed6c-42d1-a9ad-82b294fce0e1",
        "id": "AC7oIy5L3-wU"
      },
      "execution_count": 271,
      "outputs": [
        {
          "output_type": "stream",
          "name": "stdout",
          "text": [
            "\n",
            "\tDiebold-Mariano Test\n",
            "\n",
            "data:  ftse_har_m_seftse_gru_m_se\n",
            "DM = -1.0039, Forecast horizon = 1, Loss function power = 2, p-value =\n",
            "0.3165\n",
            "alternative hypothesis: two.sided\n",
            "\n"
          ]
        }
      ]
    },
    {
      "cell_type": "code",
      "source": [
        "print(dm_qlike_ftse_m_har_gru)"
      ],
      "metadata": {
        "colab": {
          "base_uri": "https://localhost:8080/"
        },
        "outputId": "e18abcec-9a2c-400f-e13d-cc5422700f3b",
        "id": "4RJ7fJtN3-wU"
      },
      "execution_count": 272,
      "outputs": [
        {
          "output_type": "stream",
          "name": "stdout",
          "text": [
            "\n",
            "\tDiebold-Mariano Test\n",
            "\n",
            "data:  ftse_har_m_qlikeftse_gru_m_qlike\n",
            "DM = -1.13, Forecast horizon = 1, Loss function power = 2, p-value =\n",
            "0.2597\n",
            "alternative hypothesis: two.sided\n",
            "\n"
          ]
        }
      ]
    },
    {
      "cell_type": "markdown",
      "source": [
        "##### FNN-HAR vs FNN"
      ],
      "metadata": {
        "id": "vFjtGK6K3-wV"
      }
    },
    {
      "cell_type": "code",
      "source": [
        "print(dm_se_ftse_m_fnn_har_fnn)"
      ],
      "metadata": {
        "colab": {
          "base_uri": "https://localhost:8080/"
        },
        "outputId": "ae6400b1-acb6-4721-a2db-8fda83db0adf",
        "id": "BO1T1jU63-wW"
      },
      "execution_count": 273,
      "outputs": [
        {
          "output_type": "stream",
          "name": "stdout",
          "text": [
            "\n",
            "\tDiebold-Mariano Test\n",
            "\n",
            "data:  ftse_fnn_har_m_seftse_fnn_m_se\n",
            "DM = -0.97771, Forecast horizon = 1, Loss function power = 2, p-value =\n",
            "0.3293\n",
            "alternative hypothesis: two.sided\n",
            "\n"
          ]
        }
      ]
    },
    {
      "cell_type": "code",
      "source": [
        "print(dm_qlike_ftse_m_fnn_har_fnn)"
      ],
      "metadata": {
        "colab": {
          "base_uri": "https://localhost:8080/"
        },
        "outputId": "1f2b40b2-62b2-4441-de29-4b9884334cc0",
        "id": "RNhnWmAK3-wW"
      },
      "execution_count": 274,
      "outputs": [
        {
          "output_type": "stream",
          "name": "stdout",
          "text": [
            "\n",
            "\tDiebold-Mariano Test\n",
            "\n",
            "data:  ftse_fnn_har_m_qlikeftse_fnn_m_qlike\n",
            "DM = -1.0163, Forecast horizon = 1, Loss function power = 2, p-value =\n",
            "0.3106\n",
            "alternative hypothesis: two.sided\n",
            "\n"
          ]
        }
      ]
    },
    {
      "cell_type": "markdown",
      "source": [
        "##### FNN-HAR vs CNN"
      ],
      "metadata": {
        "id": "uDOEyqjh3-wX"
      }
    },
    {
      "cell_type": "code",
      "source": [
        "print(dm_se_ftse_m_fnn_har_cnn)"
      ],
      "metadata": {
        "colab": {
          "base_uri": "https://localhost:8080/"
        },
        "outputId": "c5161d2d-6953-4cbe-d393-86647fd41426",
        "id": "OHM5b0mU3-wY"
      },
      "execution_count": 275,
      "outputs": [
        {
          "output_type": "stream",
          "name": "stdout",
          "text": [
            "\n",
            "\tDiebold-Mariano Test\n",
            "\n",
            "data:  ftse_fnn_har_m_seftse_cnn_m_se\n",
            "DM = -0.98759, Forecast horizon = 1, Loss function power = 2, p-value =\n",
            "0.3244\n",
            "alternative hypothesis: two.sided\n",
            "\n"
          ]
        }
      ]
    },
    {
      "cell_type": "code",
      "source": [
        "print(dm_qlike_ftse_m_fnn_har_cnn)"
      ],
      "metadata": {
        "colab": {
          "base_uri": "https://localhost:8080/"
        },
        "outputId": "b2ecb227-15d5-4ee9-b249-5112ce1c827e",
        "id": "gFjgN97U3-wY"
      },
      "execution_count": 276,
      "outputs": [
        {
          "output_type": "stream",
          "name": "stdout",
          "text": [
            "\n",
            "\tDiebold-Mariano Test\n",
            "\n",
            "data:  ftse_fnn_har_m_qlikeftse_cnn_m_qlike\n",
            "DM = -0.97699, Forecast horizon = 1, Loss function power = 2, p-value =\n",
            "0.3297\n",
            "alternative hypothesis: two.sided\n",
            "\n"
          ]
        }
      ]
    },
    {
      "cell_type": "markdown",
      "source": [
        "##### FNN-HAR vs LSTM"
      ],
      "metadata": {
        "id": "5ySfGNi03-wZ"
      }
    },
    {
      "cell_type": "code",
      "source": [
        "print(dm_se_ftse_m_fnn_har_lstm)"
      ],
      "metadata": {
        "colab": {
          "base_uri": "https://localhost:8080/"
        },
        "outputId": "fa998074-98f1-447f-857d-92884697f0af",
        "id": "gGabfpZV3-wZ"
      },
      "execution_count": 277,
      "outputs": [
        {
          "output_type": "stream",
          "name": "stdout",
          "text": [
            "\n",
            "\tDiebold-Mariano Test\n",
            "\n",
            "data:  ftse_fnn_har_m_seftse_lstm_m_se\n",
            "DM = -0.97522, Forecast horizon = 1, Loss function power = 2, p-value =\n",
            "0.3305\n",
            "alternative hypothesis: two.sided\n",
            "\n"
          ]
        }
      ]
    },
    {
      "cell_type": "code",
      "source": [
        "print(dm_qlike_ftse_m_fnn_har_lstm)"
      ],
      "metadata": {
        "colab": {
          "base_uri": "https://localhost:8080/"
        },
        "outputId": "59afb7c5-cfe0-46a6-86ff-b0926698a2cf",
        "id": "-PYwvBvO3-wa"
      },
      "execution_count": 278,
      "outputs": [
        {
          "output_type": "stream",
          "name": "stdout",
          "text": [
            "\n",
            "\tDiebold-Mariano Test\n",
            "\n",
            "data:  ftse_fnn_har_m_qlikeftse_lstm_m_qlike\n",
            "DM = -1.1629, Forecast horizon = 1, Loss function power = 2, p-value =\n",
            "0.2461\n",
            "alternative hypothesis: two.sided\n",
            "\n"
          ]
        }
      ]
    },
    {
      "cell_type": "markdown",
      "source": [
        "##### FNN-HAR vs GRU"
      ],
      "metadata": {
        "id": "WsNq5BoW3-wb"
      }
    },
    {
      "cell_type": "code",
      "source": [
        "print(dm_se_ftse_m_fnn_har_gru)"
      ],
      "metadata": {
        "colab": {
          "base_uri": "https://localhost:8080/"
        },
        "outputId": "fb7721c1-11ca-4124-ccf0-7dc3b95315b9",
        "id": "gHUjNqm13-wb"
      },
      "execution_count": 279,
      "outputs": [
        {
          "output_type": "stream",
          "name": "stdout",
          "text": [
            "\n",
            "\tDiebold-Mariano Test\n",
            "\n",
            "data:  ftse_fnn_har_m_seftse_gru_m_se\n",
            "DM = -0.97833, Forecast horizon = 1, Loss function power = 2, p-value =\n",
            "0.329\n",
            "alternative hypothesis: two.sided\n",
            "\n"
          ]
        }
      ]
    },
    {
      "cell_type": "code",
      "source": [
        "print(dm_qlike_ftse_m_fnn_har_gru)"
      ],
      "metadata": {
        "colab": {
          "base_uri": "https://localhost:8080/"
        },
        "outputId": "bebaba24-8810-4167-a34c-a0365db336fb",
        "id": "fptFF4F03-wc"
      },
      "execution_count": 280,
      "outputs": [
        {
          "output_type": "stream",
          "name": "stdout",
          "text": [
            "\n",
            "\tDiebold-Mariano Test\n",
            "\n",
            "data:  ftse_fnn_har_m_qlikeftse_gru_m_qlike\n",
            "DM = -1.1733, Forecast horizon = 1, Loss function power = 2, p-value =\n",
            "0.242\n",
            "alternative hypothesis: two.sided\n",
            "\n"
          ]
        }
      ]
    },
    {
      "cell_type": "markdown",
      "source": [
        "##### FNN vs CNN"
      ],
      "metadata": {
        "id": "A5siCGTD3-wc"
      }
    },
    {
      "cell_type": "code",
      "source": [
        "print(dm_se_ftse_m_fnn_cnn)"
      ],
      "metadata": {
        "colab": {
          "base_uri": "https://localhost:8080/"
        },
        "outputId": "a0597128-41e0-4c02-adaf-b9bb8f6b84b5",
        "id": "kkR0Xp9z3-wd"
      },
      "execution_count": 281,
      "outputs": [
        {
          "output_type": "stream",
          "name": "stdout",
          "text": [
            "\n",
            "\tDiebold-Mariano Test\n",
            "\n",
            "data:  ftse_fnn_m_seftse_cnn_m_se\n",
            "DM = -1.0109, Forecast horizon = 1, Loss function power = 2, p-value =\n",
            "0.3132\n",
            "alternative hypothesis: two.sided\n",
            "\n"
          ]
        }
      ]
    },
    {
      "cell_type": "code",
      "source": [
        "print(dm_qlike_ftse_m_fnn_cnn)"
      ],
      "metadata": {
        "colab": {
          "base_uri": "https://localhost:8080/"
        },
        "outputId": "eccbd168-5df9-48df-aabd-05cc3b0a905d",
        "id": "jPJnxQyM3-we"
      },
      "execution_count": 282,
      "outputs": [
        {
          "output_type": "stream",
          "name": "stdout",
          "text": [
            "\n",
            "\tDiebold-Mariano Test\n",
            "\n",
            "data:  ftse_fnn_m_qlikeftse_cnn_m_qlike\n",
            "DM = -0.96264, Forecast horizon = 1, Loss function power = 2, p-value =\n",
            "0.3368\n",
            "alternative hypothesis: two.sided\n",
            "\n"
          ]
        }
      ]
    },
    {
      "cell_type": "markdown",
      "source": [
        "##### FNN vs LSTM"
      ],
      "metadata": {
        "id": "Mdo6hTm43-we"
      }
    },
    {
      "cell_type": "code",
      "source": [
        "print(dm_se_ftse_m_fnn_lstm)"
      ],
      "metadata": {
        "colab": {
          "base_uri": "https://localhost:8080/"
        },
        "outputId": "c692c4f5-863a-427b-f01e-d43b8047d19c",
        "id": "x-6uI4813-wf"
      },
      "execution_count": 283,
      "outputs": [
        {
          "output_type": "stream",
          "name": "stdout",
          "text": [
            "\n",
            "\tDiebold-Mariano Test\n",
            "\n",
            "data:  ftse_fnn_m_seftse_lstm_m_se\n",
            "DM = 0.98958, Forecast horizon = 1, Loss function power = 2, p-value =\n",
            "0.3235\n",
            "alternative hypothesis: two.sided\n",
            "\n"
          ]
        }
      ]
    },
    {
      "cell_type": "code",
      "source": [
        "print(dm_qlike_ftse_m_fnn_lstm)"
      ],
      "metadata": {
        "colab": {
          "base_uri": "https://localhost:8080/"
        },
        "outputId": "4df1fd8d-ee55-4476-a2a3-f1060c585f56",
        "id": "plHiQBro3-wf"
      },
      "execution_count": 284,
      "outputs": [
        {
          "output_type": "stream",
          "name": "stdout",
          "text": [
            "\n",
            "\tDiebold-Mariano Test\n",
            "\n",
            "data:  ftse_fnn_m_qlikeftse_lstm_m_qlike\n",
            "DM = 0.76313, Forecast horizon = 1, Loss function power = 2, p-value =\n",
            "0.4462\n",
            "alternative hypothesis: two.sided\n",
            "\n"
          ]
        }
      ]
    },
    {
      "cell_type": "markdown",
      "source": [
        "##### FNN vs GRU"
      ],
      "metadata": {
        "id": "vIQedgu73-wg"
      }
    },
    {
      "cell_type": "code",
      "source": [
        "print(dm_se_ftse_m_fnn_gru)"
      ],
      "metadata": {
        "colab": {
          "base_uri": "https://localhost:8080/"
        },
        "outputId": "268966a7-8993-4fa1-a7d1-9ada0f52d620",
        "id": "OIFyjRgv3-wh"
      },
      "execution_count": 285,
      "outputs": [
        {
          "output_type": "stream",
          "name": "stdout",
          "text": [
            "\n",
            "\tDiebold-Mariano Test\n",
            "\n",
            "data:  ftse_fnn_m_seftse_gru_m_se\n",
            "DM = 0.73014, Forecast horizon = 1, Loss function power = 2, p-value =\n",
            "0.4661\n",
            "alternative hypothesis: two.sided\n",
            "\n"
          ]
        }
      ]
    },
    {
      "cell_type": "code",
      "source": [
        "print(dm_qlike_ftse_m_fnn_lstm)"
      ],
      "metadata": {
        "colab": {
          "base_uri": "https://localhost:8080/"
        },
        "outputId": "75613518-77e8-46e6-bdc5-13a808b96c61",
        "id": "6r5XYs0F3-wh"
      },
      "execution_count": 286,
      "outputs": [
        {
          "output_type": "stream",
          "name": "stdout",
          "text": [
            "\n",
            "\tDiebold-Mariano Test\n",
            "\n",
            "data:  ftse_fnn_m_qlikeftse_lstm_m_qlike\n",
            "DM = 0.76313, Forecast horizon = 1, Loss function power = 2, p-value =\n",
            "0.4462\n",
            "alternative hypothesis: two.sided\n",
            "\n"
          ]
        }
      ]
    },
    {
      "cell_type": "markdown",
      "source": [
        "##### CNN vs LSTM"
      ],
      "metadata": {
        "id": "yESTACQM3-wi"
      }
    },
    {
      "cell_type": "code",
      "source": [
        "print(dm_se_ftse_m_cnn_lstm)"
      ],
      "metadata": {
        "colab": {
          "base_uri": "https://localhost:8080/"
        },
        "outputId": "08dce298-fe86-4a3a-d1e2-328ccb3d2af9",
        "id": "ziVDHIWw3-wi"
      },
      "execution_count": 287,
      "outputs": [
        {
          "output_type": "stream",
          "name": "stdout",
          "text": [
            "\n",
            "\tDiebold-Mariano Test\n",
            "\n",
            "data:  ftse_cnn_m_seftse_lstm_m_se\n",
            "DM = 1.0048, Forecast horizon = 1, Loss function power = 2, p-value =\n",
            "0.3161\n",
            "alternative hypothesis: two.sided\n",
            "\n"
          ]
        }
      ]
    },
    {
      "cell_type": "code",
      "source": [
        "print(dm_qlike_ftse_m_cnn_lstm)"
      ],
      "metadata": {
        "colab": {
          "base_uri": "https://localhost:8080/"
        },
        "outputId": "5513e2c7-b555-4fab-b84f-c6771931f468",
        "id": "V1-vluW13-wj"
      },
      "execution_count": 288,
      "outputs": [
        {
          "output_type": "stream",
          "name": "stdout",
          "text": [
            "\n",
            "\tDiebold-Mariano Test\n",
            "\n",
            "data:  ftse_cnn_m_qlikeftse_lstm_m_qlike\n",
            "DM = 0.94356, Forecast horizon = 1, Loss function power = 2, p-value =\n",
            "0.3464\n",
            "alternative hypothesis: two.sided\n",
            "\n"
          ]
        }
      ]
    },
    {
      "cell_type": "markdown",
      "source": [
        "##### CNN vs GRU"
      ],
      "metadata": {
        "id": "NLp2asBZ3-wj"
      }
    },
    {
      "cell_type": "code",
      "source": [
        "print(dm_se_ftse_m_cnn_gru)"
      ],
      "metadata": {
        "colab": {
          "base_uri": "https://localhost:8080/"
        },
        "outputId": "668f1435-58a4-44c7-b8ba-f6fcb5e4495f",
        "id": "AqyEZ8Vd3-wk"
      },
      "execution_count": 289,
      "outputs": [
        {
          "output_type": "stream",
          "name": "stdout",
          "text": [
            "\n",
            "\tDiebold-Mariano Test\n",
            "\n",
            "data:  ftse_cnn_m_seftse_gru_m_se\n",
            "DM = 1.0092, Forecast horizon = 1, Loss function power = 2, p-value =\n",
            "0.314\n",
            "alternative hypothesis: two.sided\n",
            "\n"
          ]
        }
      ]
    },
    {
      "cell_type": "code",
      "source": [
        "print(dm_qlike_ftse_m_cnn_gru)"
      ],
      "metadata": {
        "colab": {
          "base_uri": "https://localhost:8080/"
        },
        "outputId": "3d55e61b-79d5-4729-bb9d-599b11015040",
        "id": "NvfI6JLp3-wl"
      },
      "execution_count": 290,
      "outputs": [
        {
          "output_type": "stream",
          "name": "stdout",
          "text": [
            "\n",
            "\tDiebold-Mariano Test\n",
            "\n",
            "data:  ftse_cnn_m_qlikeftse_gru_m_qlike\n",
            "DM = 0.91501, Forecast horizon = 1, Loss function power = 2, p-value =\n",
            "0.3612\n",
            "alternative hypothesis: two.sided\n",
            "\n"
          ]
        }
      ]
    },
    {
      "cell_type": "markdown",
      "source": [
        "##### LSTM vs GRU"
      ],
      "metadata": {
        "id": "5gcOJrcU3-wl"
      }
    },
    {
      "cell_type": "code",
      "source": [
        "print(dm_se_ftse_m_lstm_gru)"
      ],
      "metadata": {
        "colab": {
          "base_uri": "https://localhost:8080/"
        },
        "outputId": "91e2c6cf-4166-4746-f3cf-81073c2ccb59",
        "id": "o9m0vmzK3-wm"
      },
      "execution_count": 291,
      "outputs": [
        {
          "output_type": "stream",
          "name": "stdout",
          "text": [
            "\n",
            "\tDiebold-Mariano Test\n",
            "\n",
            "data:  ftse_lstm_m_seftse_gru_m_se\n",
            "DM = -0.99347, Forecast horizon = 1, Loss function power = 2, p-value =\n",
            "0.3216\n",
            "alternative hypothesis: two.sided\n",
            "\n"
          ]
        }
      ]
    },
    {
      "cell_type": "code",
      "source": [
        "print(dm_qlike_ftse_m_lstm_gru)"
      ],
      "metadata": {
        "colab": {
          "base_uri": "https://localhost:8080/"
        },
        "outputId": "0f335191-b17f-472a-e4f9-c57a1e342628",
        "id": "idcXRUyp3-wm"
      },
      "execution_count": 292,
      "outputs": [
        {
          "output_type": "stream",
          "name": "stdout",
          "text": [
            "\n",
            "\tDiebold-Mariano Test\n",
            "\n",
            "data:  ftse_lstm_m_qlikeftse_gru_m_qlike\n",
            "DM = -1.1652, Forecast horizon = 1, Loss function power = 2, p-value =\n",
            "0.2452\n",
            "alternative hypothesis: two.sided\n",
            "\n"
          ]
        }
      ]
    }
  ]
}