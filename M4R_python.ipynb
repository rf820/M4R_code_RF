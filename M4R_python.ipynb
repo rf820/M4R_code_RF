{
  "cells": [
    {
      "cell_type": "markdown",
      "metadata": {
        "id": "pRBclEA5Ph6J"
      },
      "source": [
        "# M4R Modelling and Forecasting Volatility in Financial Markets using Deep Learning"
      ]
    },
    {
      "cell_type": "markdown",
      "metadata": {
        "id": "FkrMTxJIPV0_"
      },
      "source": [
        "# Import packages and check GPU availability"
      ]
    },
    {
      "cell_type": "code",
      "execution_count": 1,
      "metadata": {
        "id": "h3ew4IhiuyTz"
      },
      "outputs": [],
      "source": [
        "import numpy as np\n",
        "import numpy.random as npr\n",
        "from scipy.stats import norm\n",
        "import tensorflow.keras as keras\n",
        "import tensorflow.keras.backend as kb\n",
        "import tensorflow as tf\n",
        "import matplotlib.pyplot as plt\n",
        "import pandas as pd\n",
        "import sklearn.metrics\n",
        "plt.style.use('ggplot')"
      ]
    },
    {
      "cell_type": "code",
      "execution_count": 2,
      "metadata": {
        "colab": {
          "base_uri": "https://localhost:8080/"
        },
        "id": "9X9XErBwqEX7",
        "outputId": "3cf172a2-f6ec-4789-b801-818ee15b07db"
      },
      "outputs": [
        {
          "name": "stdout",
          "output_type": "stream",
          "text": [
            "Found GPU at: /device:GPU:0\n"
          ]
        }
      ],
      "source": [
        "# See the availability of GPU\n",
        "device_name = tf.test.gpu_device_name()\n",
        "if len(device_name) > 0:\n",
        "    print(\"Found GPU at: {}\".format(device_name))\n",
        "else:\n",
        "    device_name = \"/device:CPU:0\"\n",
        "    print(\"No GPU, using {}.\".format(device_name))"
      ]
    },
    {
      "cell_type": "markdown",
      "metadata": {
        "id": "2QErlG17yAyb"
      },
      "source": [
        "# Import data and data manipulation"
      ]
    },
    {
      "cell_type": "code",
      "execution_count": 3,
      "metadata": {
        "colab": {
          "base_uri": "https://localhost:8080/"
        },
        "id": "rNb9mU85vD31",
        "outputId": "be97cda0-6681-4514-b647-1d0094fa0624"
      },
      "outputs": [
        {
          "name": "stdout",
          "output_type": "stream",
          "text": [
            "Mounted at /content/drive\n"
          ]
        }
      ],
      "source": [
        "from google.colab import drive\n",
        "drive.mount('/content/drive')"
      ]
    },
    {
      "cell_type": "code",
      "execution_count": 4,
      "metadata": {
        "id": "vXsLFCIGvXIb"
      },
      "outputs": [],
      "source": [
        "# Import data\n",
        "\n",
        "import os\n",
        "\n",
        "filename = 'oxfordmanrealizedvolatilityindices-2022-01-05.xlsx'\n",
        "search_path = '/content/drive/My Drive/Colab Notebooks'\n",
        "# Search for the file\n",
        "file_path = None\n",
        "for root, dirs, files in os.walk(search_path):\n",
        "    if filename in files:\n",
        "        file_path = os.path.join(root, filename)\n",
        "        break\n",
        "    df = pd.read_excel(file_path)\n",
        "\n",
        "df = pd.read_excel(file_path)"
      ]
    },
    {
      "cell_type": "code",
      "execution_count": 5,
      "metadata": {
        "colab": {
          "base_uri": "https://localhost:8080/",
          "height": 313
        },
        "id": "XiVr9aznvtTI",
        "outputId": "75edb803-e8ff-468e-9783-d8b061b833ef"
      },
      "outputs": [
        {
          "data": {
            "application/vnd.google.colaboratory.intrinsic+json": {
              "type": "dataframe",
              "variable_name": "df"
            },
            "text/html": [
              "\n",
              "  <div id=\"df-28b73129-92c3-45d5-8518-2534b842d407\" class=\"colab-df-container\">\n",
              "    <div>\n",
              "<style scoped>\n",
              "    .dataframe tbody tr th:only-of-type {\n",
              "        vertical-align: middle;\n",
              "    }\n",
              "\n",
              "    .dataframe tbody tr th {\n",
              "        vertical-align: top;\n",
              "    }\n",
              "\n",
              "    .dataframe thead th {\n",
              "        text-align: right;\n",
              "    }\n",
              "</style>\n",
              "<table border=\"1\" class=\"dataframe\">\n",
              "  <thead>\n",
              "    <tr style=\"text-align: right;\">\n",
              "      <th></th>\n",
              "      <th>Unnamed: 0</th>\n",
              "      <th>Symbol</th>\n",
              "      <th>rv5</th>\n",
              "      <th>open_price</th>\n",
              "      <th>rsv</th>\n",
              "      <th>bv_ss</th>\n",
              "      <th>rk_th2</th>\n",
              "      <th>rk_parzen</th>\n",
              "      <th>close_price</th>\n",
              "      <th>nobs</th>\n",
              "      <th>close_time</th>\n",
              "      <th>rv10</th>\n",
              "      <th>bv</th>\n",
              "      <th>rv10_ss</th>\n",
              "      <th>open_to_close</th>\n",
              "      <th>rk_twoscale</th>\n",
              "      <th>open_time</th>\n",
              "      <th>medrv</th>\n",
              "      <th>rv5_ss</th>\n",
              "      <th>rsv_ss</th>\n",
              "    </tr>\n",
              "  </thead>\n",
              "  <tbody>\n",
              "    <tr>\n",
              "      <th>0</th>\n",
              "      <td>2000-01-03 00:00:00+00:00</td>\n",
              "      <td>.AEX</td>\n",
              "      <td>0.000130</td>\n",
              "      <td>675.67</td>\n",
              "      <td>0.000046</td>\n",
              "      <td>0.000100</td>\n",
              "      <td>0.000102</td>\n",
              "      <td>0.000179</td>\n",
              "      <td>675.44</td>\n",
              "      <td>1795</td>\n",
              "      <td>163015</td>\n",
              "      <td>0.000178</td>\n",
              "      <td>0.000100</td>\n",
              "      <td>0.000178</td>\n",
              "      <td>-0.000340</td>\n",
              "      <td>0.000103</td>\n",
              "      <td>90101</td>\n",
              "      <td>0.000050</td>\n",
              "      <td>0.000130</td>\n",
              "      <td>0.000046</td>\n",
              "    </tr>\n",
              "    <tr>\n",
              "      <th>1</th>\n",
              "      <td>2000-01-04 00:00:00+00:00</td>\n",
              "      <td>.AEX</td>\n",
              "      <td>0.000201</td>\n",
              "      <td>664.20</td>\n",
              "      <td>0.000147</td>\n",
              "      <td>0.000207</td>\n",
              "      <td>0.000201</td>\n",
              "      <td>0.000423</td>\n",
              "      <td>642.25</td>\n",
              "      <td>1785</td>\n",
              "      <td>163016</td>\n",
              "      <td>0.000261</td>\n",
              "      <td>0.000207</td>\n",
              "      <td>0.000261</td>\n",
              "      <td>-0.033606</td>\n",
              "      <td>0.000199</td>\n",
              "      <td>90416</td>\n",
              "      <td>0.000075</td>\n",
              "      <td>0.000201</td>\n",
              "      <td>0.000147</td>\n",
              "    </tr>\n",
              "    <tr>\n",
              "      <th>2</th>\n",
              "      <td>2000-01-05 00:00:00+00:00</td>\n",
              "      <td>.AEX</td>\n",
              "      <td>0.000491</td>\n",
              "      <td>633.37</td>\n",
              "      <td>0.000328</td>\n",
              "      <td>0.000361</td>\n",
              "      <td>0.000345</td>\n",
              "      <td>0.000324</td>\n",
              "      <td>632.31</td>\n",
              "      <td>1801</td>\n",
              "      <td>163016</td>\n",
              "      <td>0.000714</td>\n",
              "      <td>0.000361</td>\n",
              "      <td>0.000714</td>\n",
              "      <td>-0.001675</td>\n",
              "      <td>0.000325</td>\n",
              "      <td>90016</td>\n",
              "      <td>0.000166</td>\n",
              "      <td>0.000491</td>\n",
              "      <td>0.000328</td>\n",
              "    </tr>\n",
              "    <tr>\n",
              "      <th>3</th>\n",
              "      <td>2000-01-06 00:00:00+00:00</td>\n",
              "      <td>.AEX</td>\n",
              "      <td>0.000225</td>\n",
              "      <td>632.46</td>\n",
              "      <td>0.000116</td>\n",
              "      <td>0.000258</td>\n",
              "      <td>0.000221</td>\n",
              "      <td>0.000219</td>\n",
              "      <td>624.21</td>\n",
              "      <td>1799</td>\n",
              "      <td>163002</td>\n",
              "      <td>0.000182</td>\n",
              "      <td>0.000258</td>\n",
              "      <td>0.000182</td>\n",
              "      <td>-0.013130</td>\n",
              "      <td>0.000218</td>\n",
              "      <td>90016</td>\n",
              "      <td>0.000152</td>\n",
              "      <td>0.000225</td>\n",
              "      <td>0.000116</td>\n",
              "    </tr>\n",
              "    <tr>\n",
              "      <th>4</th>\n",
              "      <td>2000-01-07 00:00:00+00:00</td>\n",
              "      <td>.AEX</td>\n",
              "      <td>0.000138</td>\n",
              "      <td>628.93</td>\n",
              "      <td>0.000048</td>\n",
              "      <td>0.000130</td>\n",
              "      <td>0.000123</td>\n",
              "      <td>0.000155</td>\n",
              "      <td>644.86</td>\n",
              "      <td>1798</td>\n",
              "      <td>163016</td>\n",
              "      <td>0.000157</td>\n",
              "      <td>0.000130</td>\n",
              "      <td>0.000157</td>\n",
              "      <td>0.025013</td>\n",
              "      <td>0.000126</td>\n",
              "      <td>90046</td>\n",
              "      <td>0.000039</td>\n",
              "      <td>0.000138</td>\n",
              "      <td>0.000048</td>\n",
              "    </tr>\n",
              "  </tbody>\n",
              "</table>\n",
              "</div>\n",
              "    <div class=\"colab-df-buttons\">\n",
              "\n",
              "  <div class=\"colab-df-container\">\n",
              "    <button class=\"colab-df-convert\" onclick=\"convertToInteractive('df-28b73129-92c3-45d5-8518-2534b842d407')\"\n",
              "            title=\"Convert this dataframe to an interactive table.\"\n",
              "            style=\"display:none;\">\n",
              "\n",
              "  <svg xmlns=\"http://www.w3.org/2000/svg\" height=\"24px\" viewBox=\"0 -960 960 960\">\n",
              "    <path d=\"M120-120v-720h720v720H120Zm60-500h600v-160H180v160Zm220 220h160v-160H400v160Zm0 220h160v-160H400v160ZM180-400h160v-160H180v160Zm440 0h160v-160H620v160ZM180-180h160v-160H180v160Zm440 0h160v-160H620v160Z\"/>\n",
              "  </svg>\n",
              "    </button>\n",
              "\n",
              "  <style>\n",
              "    .colab-df-container {\n",
              "      display:flex;\n",
              "      gap: 12px;\n",
              "    }\n",
              "\n",
              "    .colab-df-convert {\n",
              "      background-color: #E8F0FE;\n",
              "      border: none;\n",
              "      border-radius: 50%;\n",
              "      cursor: pointer;\n",
              "      display: none;\n",
              "      fill: #1967D2;\n",
              "      height: 32px;\n",
              "      padding: 0 0 0 0;\n",
              "      width: 32px;\n",
              "    }\n",
              "\n",
              "    .colab-df-convert:hover {\n",
              "      background-color: #E2EBFA;\n",
              "      box-shadow: 0px 1px 2px rgba(60, 64, 67, 0.3), 0px 1px 3px 1px rgba(60, 64, 67, 0.15);\n",
              "      fill: #174EA6;\n",
              "    }\n",
              "\n",
              "    .colab-df-buttons div {\n",
              "      margin-bottom: 4px;\n",
              "    }\n",
              "\n",
              "    [theme=dark] .colab-df-convert {\n",
              "      background-color: #3B4455;\n",
              "      fill: #D2E3FC;\n",
              "    }\n",
              "\n",
              "    [theme=dark] .colab-df-convert:hover {\n",
              "      background-color: #434B5C;\n",
              "      box-shadow: 0px 1px 3px 1px rgba(0, 0, 0, 0.15);\n",
              "      filter: drop-shadow(0px 1px 2px rgba(0, 0, 0, 0.3));\n",
              "      fill: #FFFFFF;\n",
              "    }\n",
              "  </style>\n",
              "\n",
              "    <script>\n",
              "      const buttonEl =\n",
              "        document.querySelector('#df-28b73129-92c3-45d5-8518-2534b842d407 button.colab-df-convert');\n",
              "      buttonEl.style.display =\n",
              "        google.colab.kernel.accessAllowed ? 'block' : 'none';\n",
              "\n",
              "      async function convertToInteractive(key) {\n",
              "        const element = document.querySelector('#df-28b73129-92c3-45d5-8518-2534b842d407');\n",
              "        const dataTable =\n",
              "          await google.colab.kernel.invokeFunction('convertToInteractive',\n",
              "                                                    [key], {});\n",
              "        if (!dataTable) return;\n",
              "\n",
              "        const docLinkHtml = 'Like what you see? Visit the ' +\n",
              "          '<a target=\"_blank\" href=https://colab.research.google.com/notebooks/data_table.ipynb>data table notebook</a>'\n",
              "          + ' to learn more about interactive tables.';\n",
              "        element.innerHTML = '';\n",
              "        dataTable['output_type'] = 'display_data';\n",
              "        await google.colab.output.renderOutput(dataTable, element);\n",
              "        const docLink = document.createElement('div');\n",
              "        docLink.innerHTML = docLinkHtml;\n",
              "        element.appendChild(docLink);\n",
              "      }\n",
              "    </script>\n",
              "  </div>\n",
              "\n",
              "\n",
              "<div id=\"df-42d133c8-4f3e-4c09-a5b5-00bee9463637\">\n",
              "  <button class=\"colab-df-quickchart\" onclick=\"quickchart('df-42d133c8-4f3e-4c09-a5b5-00bee9463637')\"\n",
              "            title=\"Suggest charts\"\n",
              "            style=\"display:none;\">\n",
              "\n",
              "<svg xmlns=\"http://www.w3.org/2000/svg\" height=\"24px\"viewBox=\"0 0 24 24\"\n",
              "     width=\"24px\">\n",
              "    <g>\n",
              "        <path d=\"M19 3H5c-1.1 0-2 .9-2 2v14c0 1.1.9 2 2 2h14c1.1 0 2-.9 2-2V5c0-1.1-.9-2-2-2zM9 17H7v-7h2v7zm4 0h-2V7h2v10zm4 0h-2v-4h2v4z\"/>\n",
              "    </g>\n",
              "</svg>\n",
              "  </button>\n",
              "\n",
              "<style>\n",
              "  .colab-df-quickchart {\n",
              "      --bg-color: #E8F0FE;\n",
              "      --fill-color: #1967D2;\n",
              "      --hover-bg-color: #E2EBFA;\n",
              "      --hover-fill-color: #174EA6;\n",
              "      --disabled-fill-color: #AAA;\n",
              "      --disabled-bg-color: #DDD;\n",
              "  }\n",
              "\n",
              "  [theme=dark] .colab-df-quickchart {\n",
              "      --bg-color: #3B4455;\n",
              "      --fill-color: #D2E3FC;\n",
              "      --hover-bg-color: #434B5C;\n",
              "      --hover-fill-color: #FFFFFF;\n",
              "      --disabled-bg-color: #3B4455;\n",
              "      --disabled-fill-color: #666;\n",
              "  }\n",
              "\n",
              "  .colab-df-quickchart {\n",
              "    background-color: var(--bg-color);\n",
              "    border: none;\n",
              "    border-radius: 50%;\n",
              "    cursor: pointer;\n",
              "    display: none;\n",
              "    fill: var(--fill-color);\n",
              "    height: 32px;\n",
              "    padding: 0;\n",
              "    width: 32px;\n",
              "  }\n",
              "\n",
              "  .colab-df-quickchart:hover {\n",
              "    background-color: var(--hover-bg-color);\n",
              "    box-shadow: 0 1px 2px rgba(60, 64, 67, 0.3), 0 1px 3px 1px rgba(60, 64, 67, 0.15);\n",
              "    fill: var(--button-hover-fill-color);\n",
              "  }\n",
              "\n",
              "  .colab-df-quickchart-complete:disabled,\n",
              "  .colab-df-quickchart-complete:disabled:hover {\n",
              "    background-color: var(--disabled-bg-color);\n",
              "    fill: var(--disabled-fill-color);\n",
              "    box-shadow: none;\n",
              "  }\n",
              "\n",
              "  .colab-df-spinner {\n",
              "    border: 2px solid var(--fill-color);\n",
              "    border-color: transparent;\n",
              "    border-bottom-color: var(--fill-color);\n",
              "    animation:\n",
              "      spin 1s steps(1) infinite;\n",
              "  }\n",
              "\n",
              "  @keyframes spin {\n",
              "    0% {\n",
              "      border-color: transparent;\n",
              "      border-bottom-color: var(--fill-color);\n",
              "      border-left-color: var(--fill-color);\n",
              "    }\n",
              "    20% {\n",
              "      border-color: transparent;\n",
              "      border-left-color: var(--fill-color);\n",
              "      border-top-color: var(--fill-color);\n",
              "    }\n",
              "    30% {\n",
              "      border-color: transparent;\n",
              "      border-left-color: var(--fill-color);\n",
              "      border-top-color: var(--fill-color);\n",
              "      border-right-color: var(--fill-color);\n",
              "    }\n",
              "    40% {\n",
              "      border-color: transparent;\n",
              "      border-right-color: var(--fill-color);\n",
              "      border-top-color: var(--fill-color);\n",
              "    }\n",
              "    60% {\n",
              "      border-color: transparent;\n",
              "      border-right-color: var(--fill-color);\n",
              "    }\n",
              "    80% {\n",
              "      border-color: transparent;\n",
              "      border-right-color: var(--fill-color);\n",
              "      border-bottom-color: var(--fill-color);\n",
              "    }\n",
              "    90% {\n",
              "      border-color: transparent;\n",
              "      border-bottom-color: var(--fill-color);\n",
              "    }\n",
              "  }\n",
              "</style>\n",
              "\n",
              "  <script>\n",
              "    async function quickchart(key) {\n",
              "      const quickchartButtonEl =\n",
              "        document.querySelector('#' + key + ' button');\n",
              "      quickchartButtonEl.disabled = true;  // To prevent multiple clicks.\n",
              "      quickchartButtonEl.classList.add('colab-df-spinner');\n",
              "      try {\n",
              "        const charts = await google.colab.kernel.invokeFunction(\n",
              "            'suggestCharts', [key], {});\n",
              "      } catch (error) {\n",
              "        console.error('Error during call to suggestCharts:', error);\n",
              "      }\n",
              "      quickchartButtonEl.classList.remove('colab-df-spinner');\n",
              "      quickchartButtonEl.classList.add('colab-df-quickchart-complete');\n",
              "    }\n",
              "    (() => {\n",
              "      let quickchartButtonEl =\n",
              "        document.querySelector('#df-42d133c8-4f3e-4c09-a5b5-00bee9463637 button');\n",
              "      quickchartButtonEl.style.display =\n",
              "        google.colab.kernel.accessAllowed ? 'block' : 'none';\n",
              "    })();\n",
              "  </script>\n",
              "</div>\n",
              "    </div>\n",
              "  </div>\n"
            ],
            "text/plain": [
              "                  Unnamed: 0 Symbol       rv5  open_price       rsv     bv_ss  \\\n",
              "0  2000-01-03 00:00:00+00:00   .AEX  0.000130      675.67  0.000046  0.000100   \n",
              "1  2000-01-04 00:00:00+00:00   .AEX  0.000201      664.20  0.000147  0.000207   \n",
              "2  2000-01-05 00:00:00+00:00   .AEX  0.000491      633.37  0.000328  0.000361   \n",
              "3  2000-01-06 00:00:00+00:00   .AEX  0.000225      632.46  0.000116  0.000258   \n",
              "4  2000-01-07 00:00:00+00:00   .AEX  0.000138      628.93  0.000048  0.000130   \n",
              "\n",
              "     rk_th2  rk_parzen  close_price  nobs  close_time      rv10        bv  \\\n",
              "0  0.000102   0.000179       675.44  1795      163015  0.000178  0.000100   \n",
              "1  0.000201   0.000423       642.25  1785      163016  0.000261  0.000207   \n",
              "2  0.000345   0.000324       632.31  1801      163016  0.000714  0.000361   \n",
              "3  0.000221   0.000219       624.21  1799      163002  0.000182  0.000258   \n",
              "4  0.000123   0.000155       644.86  1798      163016  0.000157  0.000130   \n",
              "\n",
              "    rv10_ss  open_to_close  rk_twoscale  open_time     medrv    rv5_ss  \\\n",
              "0  0.000178      -0.000340     0.000103      90101  0.000050  0.000130   \n",
              "1  0.000261      -0.033606     0.000199      90416  0.000075  0.000201   \n",
              "2  0.000714      -0.001675     0.000325      90016  0.000166  0.000491   \n",
              "3  0.000182      -0.013130     0.000218      90016  0.000152  0.000225   \n",
              "4  0.000157       0.025013     0.000126      90046  0.000039  0.000138   \n",
              "\n",
              "     rsv_ss  \n",
              "0  0.000046  \n",
              "1  0.000147  \n",
              "2  0.000328  \n",
              "3  0.000116  \n",
              "4  0.000048  "
            ]
          },
          "execution_count": 5,
          "metadata": {},
          "output_type": "execute_result"
        }
      ],
      "source": [
        "# Display data\n",
        "df.head()"
      ]
    },
    {
      "cell_type": "code",
      "execution_count": 6,
      "metadata": {
        "id": "xm2sffZCxO7R"
      },
      "outputs": [],
      "source": [
        "# Store only Time, Symbol, rv5 columns\n",
        "df_subset = df[[\"Unnamed: 0\",\t\"Symbol\",\t\"rv5\"]]\n",
        "df_subset = df_subset.set_index([\"Symbol\"])"
      ]
    },
    {
      "cell_type": "code",
      "execution_count": 7,
      "metadata": {
        "id": "j8jl4HuxB_eO"
      },
      "outputs": [],
      "source": [
        "def add_log_columns(df):\n",
        "  \"Takes as input a dataframe and adds columns with the log of realised \\\n",
        "  variance for that day, for the previous one, the previous week and previous month\"\n",
        "\n",
        "  numerical_data = df.iloc[:, 1].to_numpy()  # store rv5 values in a numpy array\n",
        "  log_numerical_data = np.log(numerical_data)\n",
        "  df[\"log_t\"] = log_numerical_data\n",
        "\n",
        "  # Compute array with the log of the previous day rv5\n",
        "  log_one_day = np.concatenate((np.array([-1]), log_numerical_data))  # use -1 to have NaN in logarithm to see that have mistake\n",
        "  log_one_day = log_one_day[:-1]\n",
        "  df[\"log_prev_day\"] = log_one_day\n",
        "\n",
        "  # Compute array with avg of logs of past 5 rv5 (previous week)\n",
        "\n",
        "  padded_arr = np.pad(log_numerical_data, (5, 0), mode='constant')\n",
        "\n",
        "  # Use np.convolve to compute the rolling average\n",
        "  kernel = np.ones(5) / 5\n",
        "  rolling_avg = np.convolve(padded_arr, kernel, mode='valid')\n",
        "\n",
        "  # Create the new array with -1 for the first four entries and rolling average for the rest\n",
        "  log_one_week = -1 * np.ones_like(log_numerical_data, dtype=float)\n",
        "  log_one_week[5:] = rolling_avg[5:-1]\n",
        "  df[\"log_prev_week\"] = log_one_week\n",
        "\n",
        "  # Compute array with avg of logs of past 22 rv5 (previous month)\n",
        "\n",
        "  padded_arr = np.pad(log_numerical_data, (22, 0), mode='constant')\n",
        "\n",
        "  # Use np.convolve to compute the rolling average\n",
        "  kernel = np.ones(22) / 22\n",
        "  rolling_avg = np.convolve(padded_arr, kernel, mode='valid')\n",
        "\n",
        "  # Create the new array with -1 for the first four entries and rolling average for the rest\n",
        "  log_one_month = -1 * np.ones_like(log_numerical_data, dtype=float)\n",
        "  log_one_month[22:] = rolling_avg[22:-1]\n",
        "  df[\"log_prev_month\"] = log_one_month"
      ]
    },
    {
      "cell_type": "code",
      "execution_count": 8,
      "metadata": {
        "colab": {
          "base_uri": "https://localhost:8080/",
          "height": 455
        },
        "id": "2cKv5s5wbEjc",
        "outputId": "6d123d4b-7613-4120-96d4-4674cc889bbd"
      },
      "outputs": [
        {
          "data": {
            "application/vnd.google.colaboratory.intrinsic+json": {
              "summary": "{\n  \"name\": \"df_subset\",\n  \"rows\": 5547,\n  \"fields\": [\n    {\n      \"column\": \"Symbol\",\n      \"properties\": {\n        \"dtype\": \"category\",\n        \"num_unique_values\": 1,\n        \"samples\": [\n          \".FTSE\"\n        ],\n        \"semantic_type\": \"\",\n        \"description\": \"\"\n      }\n    },\n    {\n      \"column\": \"Unnamed: 0\",\n      \"properties\": {\n        \"dtype\": \"object\",\n        \"num_unique_values\": 5547,\n        \"samples\": [\n          \"2010-07-14 00:00:00+01:00\"\n        ],\n        \"semantic_type\": \"\",\n        \"description\": \"\"\n      }\n    },\n    {\n      \"column\": \"rv5\",\n      \"properties\": {\n        \"dtype\": \"number\",\n        \"std\": 0.0002908075243586936,\n        \"min\": 1.33235237751809e-06,\n        \"max\": 0.0106001199630077,\n        \"num_unique_values\": 5547,\n        \"samples\": [\n          5.81728600296564e-05\n        ],\n        \"semantic_type\": \"\",\n        \"description\": \"\"\n      }\n    }\n  ]\n}",
              "type": "dataframe"
            },
            "text/html": [
              "\n",
              "  <div id=\"df-4902dc6f-7f6a-4b21-b19d-5a7fc8ef04f8\" class=\"colab-df-container\">\n",
              "    <div>\n",
              "<style scoped>\n",
              "    .dataframe tbody tr th:only-of-type {\n",
              "        vertical-align: middle;\n",
              "    }\n",
              "\n",
              "    .dataframe tbody tr th {\n",
              "        vertical-align: top;\n",
              "    }\n",
              "\n",
              "    .dataframe thead th {\n",
              "        text-align: right;\n",
              "    }\n",
              "</style>\n",
              "<table border=\"1\" class=\"dataframe\">\n",
              "  <thead>\n",
              "    <tr style=\"text-align: right;\">\n",
              "      <th></th>\n",
              "      <th>Unnamed: 0</th>\n",
              "      <th>rv5</th>\n",
              "    </tr>\n",
              "    <tr>\n",
              "      <th>Symbol</th>\n",
              "      <th></th>\n",
              "      <th></th>\n",
              "    </tr>\n",
              "  </thead>\n",
              "  <tbody>\n",
              "    <tr>\n",
              "      <th>.FTSE</th>\n",
              "      <td>2000-01-04 00:00:00+00:00</td>\n",
              "      <td>0.000233</td>\n",
              "    </tr>\n",
              "    <tr>\n",
              "      <th>.FTSE</th>\n",
              "      <td>2000-01-05 00:00:00+00:00</td>\n",
              "      <td>0.000192</td>\n",
              "    </tr>\n",
              "    <tr>\n",
              "      <th>.FTSE</th>\n",
              "      <td>2000-01-06 00:00:00+00:00</td>\n",
              "      <td>0.000123</td>\n",
              "    </tr>\n",
              "    <tr>\n",
              "      <th>.FTSE</th>\n",
              "      <td>2000-01-07 00:00:00+00:00</td>\n",
              "      <td>0.000114</td>\n",
              "    </tr>\n",
              "    <tr>\n",
              "      <th>.FTSE</th>\n",
              "      <td>2000-01-10 00:00:00+00:00</td>\n",
              "      <td>0.000123</td>\n",
              "    </tr>\n",
              "    <tr>\n",
              "      <th>...</th>\n",
              "      <td>...</td>\n",
              "      <td>...</td>\n",
              "    </tr>\n",
              "    <tr>\n",
              "      <th>.FTSE</th>\n",
              "      <td>2021-12-23 00:00:00+00:00</td>\n",
              "      <td>0.000006</td>\n",
              "    </tr>\n",
              "    <tr>\n",
              "      <th>.FTSE</th>\n",
              "      <td>2021-12-24 00:00:00+00:00</td>\n",
              "      <td>0.000011</td>\n",
              "    </tr>\n",
              "    <tr>\n",
              "      <th>.FTSE</th>\n",
              "      <td>2021-12-29 00:00:00+00:00</td>\n",
              "      <td>0.000098</td>\n",
              "    </tr>\n",
              "    <tr>\n",
              "      <th>.FTSE</th>\n",
              "      <td>2021-12-30 00:00:00+00:00</td>\n",
              "      <td>0.000013</td>\n",
              "    </tr>\n",
              "    <tr>\n",
              "      <th>.FTSE</th>\n",
              "      <td>2021-12-31 00:00:00+00:00</td>\n",
              "      <td>0.000032</td>\n",
              "    </tr>\n",
              "  </tbody>\n",
              "</table>\n",
              "<p>5547 rows × 2 columns</p>\n",
              "</div>\n",
              "    <div class=\"colab-df-buttons\">\n",
              "\n",
              "  <div class=\"colab-df-container\">\n",
              "    <button class=\"colab-df-convert\" onclick=\"convertToInteractive('df-4902dc6f-7f6a-4b21-b19d-5a7fc8ef04f8')\"\n",
              "            title=\"Convert this dataframe to an interactive table.\"\n",
              "            style=\"display:none;\">\n",
              "\n",
              "  <svg xmlns=\"http://www.w3.org/2000/svg\" height=\"24px\" viewBox=\"0 -960 960 960\">\n",
              "    <path d=\"M120-120v-720h720v720H120Zm60-500h600v-160H180v160Zm220 220h160v-160H400v160Zm0 220h160v-160H400v160ZM180-400h160v-160H180v160Zm440 0h160v-160H620v160ZM180-180h160v-160H180v160Zm440 0h160v-160H620v160Z\"/>\n",
              "  </svg>\n",
              "    </button>\n",
              "\n",
              "  <style>\n",
              "    .colab-df-container {\n",
              "      display:flex;\n",
              "      gap: 12px;\n",
              "    }\n",
              "\n",
              "    .colab-df-convert {\n",
              "      background-color: #E8F0FE;\n",
              "      border: none;\n",
              "      border-radius: 50%;\n",
              "      cursor: pointer;\n",
              "      display: none;\n",
              "      fill: #1967D2;\n",
              "      height: 32px;\n",
              "      padding: 0 0 0 0;\n",
              "      width: 32px;\n",
              "    }\n",
              "\n",
              "    .colab-df-convert:hover {\n",
              "      background-color: #E2EBFA;\n",
              "      box-shadow: 0px 1px 2px rgba(60, 64, 67, 0.3), 0px 1px 3px 1px rgba(60, 64, 67, 0.15);\n",
              "      fill: #174EA6;\n",
              "    }\n",
              "\n",
              "    .colab-df-buttons div {\n",
              "      margin-bottom: 4px;\n",
              "    }\n",
              "\n",
              "    [theme=dark] .colab-df-convert {\n",
              "      background-color: #3B4455;\n",
              "      fill: #D2E3FC;\n",
              "    }\n",
              "\n",
              "    [theme=dark] .colab-df-convert:hover {\n",
              "      background-color: #434B5C;\n",
              "      box-shadow: 0px 1px 3px 1px rgba(0, 0, 0, 0.15);\n",
              "      filter: drop-shadow(0px 1px 2px rgba(0, 0, 0, 0.3));\n",
              "      fill: #FFFFFF;\n",
              "    }\n",
              "  </style>\n",
              "\n",
              "    <script>\n",
              "      const buttonEl =\n",
              "        document.querySelector('#df-4902dc6f-7f6a-4b21-b19d-5a7fc8ef04f8 button.colab-df-convert');\n",
              "      buttonEl.style.display =\n",
              "        google.colab.kernel.accessAllowed ? 'block' : 'none';\n",
              "\n",
              "      async function convertToInteractive(key) {\n",
              "        const element = document.querySelector('#df-4902dc6f-7f6a-4b21-b19d-5a7fc8ef04f8');\n",
              "        const dataTable =\n",
              "          await google.colab.kernel.invokeFunction('convertToInteractive',\n",
              "                                                    [key], {});\n",
              "        if (!dataTable) return;\n",
              "\n",
              "        const docLinkHtml = 'Like what you see? Visit the ' +\n",
              "          '<a target=\"_blank\" href=https://colab.research.google.com/notebooks/data_table.ipynb>data table notebook</a>'\n",
              "          + ' to learn more about interactive tables.';\n",
              "        element.innerHTML = '';\n",
              "        dataTable['output_type'] = 'display_data';\n",
              "        await google.colab.output.renderOutput(dataTable, element);\n",
              "        const docLink = document.createElement('div');\n",
              "        docLink.innerHTML = docLinkHtml;\n",
              "        element.appendChild(docLink);\n",
              "      }\n",
              "    </script>\n",
              "  </div>\n",
              "\n",
              "\n",
              "<div id=\"df-3601f69a-281e-41c6-b3eb-9b36b92ffd80\">\n",
              "  <button class=\"colab-df-quickchart\" onclick=\"quickchart('df-3601f69a-281e-41c6-b3eb-9b36b92ffd80')\"\n",
              "            title=\"Suggest charts\"\n",
              "            style=\"display:none;\">\n",
              "\n",
              "<svg xmlns=\"http://www.w3.org/2000/svg\" height=\"24px\"viewBox=\"0 0 24 24\"\n",
              "     width=\"24px\">\n",
              "    <g>\n",
              "        <path d=\"M19 3H5c-1.1 0-2 .9-2 2v14c0 1.1.9 2 2 2h14c1.1 0 2-.9 2-2V5c0-1.1-.9-2-2-2zM9 17H7v-7h2v7zm4 0h-2V7h2v10zm4 0h-2v-4h2v4z\"/>\n",
              "    </g>\n",
              "</svg>\n",
              "  </button>\n",
              "\n",
              "<style>\n",
              "  .colab-df-quickchart {\n",
              "      --bg-color: #E8F0FE;\n",
              "      --fill-color: #1967D2;\n",
              "      --hover-bg-color: #E2EBFA;\n",
              "      --hover-fill-color: #174EA6;\n",
              "      --disabled-fill-color: #AAA;\n",
              "      --disabled-bg-color: #DDD;\n",
              "  }\n",
              "\n",
              "  [theme=dark] .colab-df-quickchart {\n",
              "      --bg-color: #3B4455;\n",
              "      --fill-color: #D2E3FC;\n",
              "      --hover-bg-color: #434B5C;\n",
              "      --hover-fill-color: #FFFFFF;\n",
              "      --disabled-bg-color: #3B4455;\n",
              "      --disabled-fill-color: #666;\n",
              "  }\n",
              "\n",
              "  .colab-df-quickchart {\n",
              "    background-color: var(--bg-color);\n",
              "    border: none;\n",
              "    border-radius: 50%;\n",
              "    cursor: pointer;\n",
              "    display: none;\n",
              "    fill: var(--fill-color);\n",
              "    height: 32px;\n",
              "    padding: 0;\n",
              "    width: 32px;\n",
              "  }\n",
              "\n",
              "  .colab-df-quickchart:hover {\n",
              "    background-color: var(--hover-bg-color);\n",
              "    box-shadow: 0 1px 2px rgba(60, 64, 67, 0.3), 0 1px 3px 1px rgba(60, 64, 67, 0.15);\n",
              "    fill: var(--button-hover-fill-color);\n",
              "  }\n",
              "\n",
              "  .colab-df-quickchart-complete:disabled,\n",
              "  .colab-df-quickchart-complete:disabled:hover {\n",
              "    background-color: var(--disabled-bg-color);\n",
              "    fill: var(--disabled-fill-color);\n",
              "    box-shadow: none;\n",
              "  }\n",
              "\n",
              "  .colab-df-spinner {\n",
              "    border: 2px solid var(--fill-color);\n",
              "    border-color: transparent;\n",
              "    border-bottom-color: var(--fill-color);\n",
              "    animation:\n",
              "      spin 1s steps(1) infinite;\n",
              "  }\n",
              "\n",
              "  @keyframes spin {\n",
              "    0% {\n",
              "      border-color: transparent;\n",
              "      border-bottom-color: var(--fill-color);\n",
              "      border-left-color: var(--fill-color);\n",
              "    }\n",
              "    20% {\n",
              "      border-color: transparent;\n",
              "      border-left-color: var(--fill-color);\n",
              "      border-top-color: var(--fill-color);\n",
              "    }\n",
              "    30% {\n",
              "      border-color: transparent;\n",
              "      border-left-color: var(--fill-color);\n",
              "      border-top-color: var(--fill-color);\n",
              "      border-right-color: var(--fill-color);\n",
              "    }\n",
              "    40% {\n",
              "      border-color: transparent;\n",
              "      border-right-color: var(--fill-color);\n",
              "      border-top-color: var(--fill-color);\n",
              "    }\n",
              "    60% {\n",
              "      border-color: transparent;\n",
              "      border-right-color: var(--fill-color);\n",
              "    }\n",
              "    80% {\n",
              "      border-color: transparent;\n",
              "      border-right-color: var(--fill-color);\n",
              "      border-bottom-color: var(--fill-color);\n",
              "    }\n",
              "    90% {\n",
              "      border-color: transparent;\n",
              "      border-bottom-color: var(--fill-color);\n",
              "    }\n",
              "  }\n",
              "</style>\n",
              "\n",
              "  <script>\n",
              "    async function quickchart(key) {\n",
              "      const quickchartButtonEl =\n",
              "        document.querySelector('#' + key + ' button');\n",
              "      quickchartButtonEl.disabled = true;  // To prevent multiple clicks.\n",
              "      quickchartButtonEl.classList.add('colab-df-spinner');\n",
              "      try {\n",
              "        const charts = await google.colab.kernel.invokeFunction(\n",
              "            'suggestCharts', [key], {});\n",
              "      } catch (error) {\n",
              "        console.error('Error during call to suggestCharts:', error);\n",
              "      }\n",
              "      quickchartButtonEl.classList.remove('colab-df-spinner');\n",
              "      quickchartButtonEl.classList.add('colab-df-quickchart-complete');\n",
              "    }\n",
              "    (() => {\n",
              "      let quickchartButtonEl =\n",
              "        document.querySelector('#df-3601f69a-281e-41c6-b3eb-9b36b92ffd80 button');\n",
              "      quickchartButtonEl.style.display =\n",
              "        google.colab.kernel.accessAllowed ? 'block' : 'none';\n",
              "    })();\n",
              "  </script>\n",
              "</div>\n",
              "    </div>\n",
              "  </div>\n"
            ],
            "text/plain": [
              "                       Unnamed: 0       rv5\n",
              "Symbol                                     \n",
              ".FTSE   2000-01-04 00:00:00+00:00  0.000233\n",
              ".FTSE   2000-01-05 00:00:00+00:00  0.000192\n",
              ".FTSE   2000-01-06 00:00:00+00:00  0.000123\n",
              ".FTSE   2000-01-07 00:00:00+00:00  0.000114\n",
              ".FTSE   2000-01-10 00:00:00+00:00  0.000123\n",
              "...                           ...       ...\n",
              ".FTSE   2021-12-23 00:00:00+00:00  0.000006\n",
              ".FTSE   2021-12-24 00:00:00+00:00  0.000011\n",
              ".FTSE   2021-12-29 00:00:00+00:00  0.000098\n",
              ".FTSE   2021-12-30 00:00:00+00:00  0.000013\n",
              ".FTSE   2021-12-31 00:00:00+00:00  0.000032\n",
              "\n",
              "[5547 rows x 2 columns]"
            ]
          },
          "execution_count": 8,
          "metadata": {},
          "output_type": "execute_result"
        }
      ],
      "source": [
        "df_subset.loc[\".FTSE\"]"
      ]
    },
    {
      "cell_type": "code",
      "execution_count": 9,
      "metadata": {
        "colab": {
          "base_uri": "https://localhost:8080/"
        },
        "id": "YkVs-udI2ooZ",
        "outputId": "67e4f5cc-5dc3-4e89-b728-1bdd6681c7e5"
      },
      "outputs": [
        {
          "name": "stderr",
          "output_type": "stream",
          "text": [
            "<ipython-input-7-74d9eef76382>:6: RuntimeWarning: divide by zero encountered in log\n",
            "  log_numerical_data = np.log(numerical_data)\n",
            "<ipython-input-7-74d9eef76382>:6: RuntimeWarning: divide by zero encountered in log\n",
            "  log_numerical_data = np.log(numerical_data)\n",
            "<ipython-input-7-74d9eef76382>:6: RuntimeWarning: divide by zero encountered in log\n",
            "  log_numerical_data = np.log(numerical_data)\n",
            "<ipython-input-7-74d9eef76382>:6: RuntimeWarning: divide by zero encountered in log\n",
            "  log_numerical_data = np.log(numerical_data)\n",
            "<ipython-input-7-74d9eef76382>:6: RuntimeWarning: divide by zero encountered in log\n",
            "  log_numerical_data = np.log(numerical_data)\n"
          ]
        },
        {
          "data": {
            "text/plain": [
              "dict_keys(['.AEX', '.AORD', '.BFX', '.BSESN', '.BVLG', '.BVSP', '.DJI', '.FCHI', '.FTMIB', '.FTSE', '.GDAXI', '.GSPTSE', '.HSI', '.IBEX', '.IXIC', '.KS11', '.KSE', '.MXX', '.N225', '.NSEI', '.OMXC20', '.OMXHPI', '.OMXSPI', '.OSEAX', '.RUT', '.SMSI', '.SPX', '.SSEC', '.SSMI', '.STI', '.STOXX50E'])"
            ]
          },
          "execution_count": 9,
          "metadata": {},
          "output_type": "execute_result"
        }
      ],
      "source": [
        "indices = np.array(df[\"Symbol\"].unique())\n",
        "dataframes = []\n",
        "\n",
        "# create transformed dataframes for each index by applying add_log_columns function\n",
        "for ind in indices:\n",
        "  ind_data = df_subset.loc[ind].copy()\n",
        "  add_log_columns(ind_data)\n",
        "  dataframes.append(ind_data)\n",
        "\n",
        "# create dictionary\n",
        "index_data = dict(zip(indices, dataframes))\n",
        "\n",
        "index_data.keys()"
      ]
    },
    {
      "cell_type": "code",
      "execution_count": 10,
      "metadata": {
        "colab": {
          "base_uri": "https://localhost:8080/",
          "height": 455
        },
        "id": "HZh6aY1EULw0",
        "outputId": "ee6fe5dc-5c03-4c11-8492-0fcded3ee02a"
      },
      "outputs": [
        {
          "data": {
            "application/vnd.google.colaboratory.intrinsic+json": {
              "summary": "{\n  \"name\": \"FTSE_data\",\n  \"rows\": 5547,\n  \"fields\": [\n    {\n      \"column\": \"Symbol\",\n      \"properties\": {\n        \"dtype\": \"category\",\n        \"num_unique_values\": 1,\n        \"samples\": [\n          \".FTSE\"\n        ],\n        \"semantic_type\": \"\",\n        \"description\": \"\"\n      }\n    },\n    {\n      \"column\": \"Unnamed: 0\",\n      \"properties\": {\n        \"dtype\": \"object\",\n        \"num_unique_values\": 5547,\n        \"samples\": [\n          \"2010-07-14 00:00:00+01:00\"\n        ],\n        \"semantic_type\": \"\",\n        \"description\": \"\"\n      }\n    },\n    {\n      \"column\": \"rv5\",\n      \"properties\": {\n        \"dtype\": \"number\",\n        \"std\": 0.0002908075243586936,\n        \"min\": 1.33235237751809e-06,\n        \"max\": 0.0106001199630077,\n        \"num_unique_values\": 5547,\n        \"samples\": [\n          5.81728600296564e-05\n        ],\n        \"semantic_type\": \"\",\n        \"description\": \"\"\n      }\n    },\n    {\n      \"column\": \"log_t\",\n      \"properties\": {\n        \"dtype\": \"number\",\n        \"std\": 1.008923881400882,\n        \"min\": -13.528564473146393,\n        \"max\": -4.546889960663278,\n        \"num_unique_values\": 5547,\n        \"samples\": [\n          -9.752091634503534\n        ],\n        \"semantic_type\": \"\",\n        \"description\": \"\"\n      }\n    },\n    {\n      \"column\": \"log_prev_day\",\n      \"properties\": {\n        \"dtype\": \"number\",\n        \"std\": 1.0155714877691058,\n        \"min\": -13.528564473146393,\n        \"max\": -1.0,\n        \"num_unique_values\": 5547,\n        \"samples\": [\n          -9.803204428228781\n        ],\n        \"semantic_type\": \"\",\n        \"description\": \"\"\n      }\n    },\n    {\n      \"column\": \"log_prev_week\",\n      \"properties\": {\n        \"dtype\": \"number\",\n        \"std\": 0.9273642896075494,\n        \"min\": -11.806507199555522,\n        \"max\": -1.0,\n        \"num_unique_values\": 5543,\n        \"samples\": [\n          -9.311368784226824\n        ],\n        \"semantic_type\": \"\",\n        \"description\": \"\"\n      }\n    },\n    {\n      \"column\": \"log_prev_month\",\n      \"properties\": {\n        \"dtype\": \"number\",\n        \"std\": 0.9846966826596808,\n        \"min\": -11.245412352454181,\n        \"max\": -1.0,\n        \"num_unique_values\": 5526,\n        \"samples\": [\n          -9.78692494102641\n        ],\n        \"semantic_type\": \"\",\n        \"description\": \"\"\n      }\n    }\n  ]\n}",
              "type": "dataframe",
              "variable_name": "FTSE_data"
            },
            "text/html": [
              "\n",
              "  <div id=\"df-1f0b5a13-84cf-4fc4-8349-143e79293ade\" class=\"colab-df-container\">\n",
              "    <div>\n",
              "<style scoped>\n",
              "    .dataframe tbody tr th:only-of-type {\n",
              "        vertical-align: middle;\n",
              "    }\n",
              "\n",
              "    .dataframe tbody tr th {\n",
              "        vertical-align: top;\n",
              "    }\n",
              "\n",
              "    .dataframe thead th {\n",
              "        text-align: right;\n",
              "    }\n",
              "</style>\n",
              "<table border=\"1\" class=\"dataframe\">\n",
              "  <thead>\n",
              "    <tr style=\"text-align: right;\">\n",
              "      <th></th>\n",
              "      <th>Unnamed: 0</th>\n",
              "      <th>rv5</th>\n",
              "      <th>log_t</th>\n",
              "      <th>log_prev_day</th>\n",
              "      <th>log_prev_week</th>\n",
              "      <th>log_prev_month</th>\n",
              "    </tr>\n",
              "    <tr>\n",
              "      <th>Symbol</th>\n",
              "      <th></th>\n",
              "      <th></th>\n",
              "      <th></th>\n",
              "      <th></th>\n",
              "      <th></th>\n",
              "      <th></th>\n",
              "    </tr>\n",
              "  </thead>\n",
              "  <tbody>\n",
              "    <tr>\n",
              "      <th>.FTSE</th>\n",
              "      <td>2000-01-04 00:00:00+00:00</td>\n",
              "      <td>0.000233</td>\n",
              "      <td>-8.365364</td>\n",
              "      <td>-1.000000</td>\n",
              "      <td>-1.000000</td>\n",
              "      <td>-1.000000</td>\n",
              "    </tr>\n",
              "    <tr>\n",
              "      <th>.FTSE</th>\n",
              "      <td>2000-01-05 00:00:00+00:00</td>\n",
              "      <td>0.000192</td>\n",
              "      <td>-8.560469</td>\n",
              "      <td>-8.365364</td>\n",
              "      <td>-1.000000</td>\n",
              "      <td>-1.000000</td>\n",
              "    </tr>\n",
              "    <tr>\n",
              "      <th>.FTSE</th>\n",
              "      <td>2000-01-06 00:00:00+00:00</td>\n",
              "      <td>0.000123</td>\n",
              "      <td>-8.999895</td>\n",
              "      <td>-8.560469</td>\n",
              "      <td>-1.000000</td>\n",
              "      <td>-1.000000</td>\n",
              "    </tr>\n",
              "    <tr>\n",
              "      <th>.FTSE</th>\n",
              "      <td>2000-01-07 00:00:00+00:00</td>\n",
              "      <td>0.000114</td>\n",
              "      <td>-9.079011</td>\n",
              "      <td>-8.999895</td>\n",
              "      <td>-1.000000</td>\n",
              "      <td>-1.000000</td>\n",
              "    </tr>\n",
              "    <tr>\n",
              "      <th>.FTSE</th>\n",
              "      <td>2000-01-10 00:00:00+00:00</td>\n",
              "      <td>0.000123</td>\n",
              "      <td>-9.001064</td>\n",
              "      <td>-9.079011</td>\n",
              "      <td>-1.000000</td>\n",
              "      <td>-1.000000</td>\n",
              "    </tr>\n",
              "    <tr>\n",
              "      <th>...</th>\n",
              "      <td>...</td>\n",
              "      <td>...</td>\n",
              "      <td>...</td>\n",
              "      <td>...</td>\n",
              "      <td>...</td>\n",
              "      <td>...</td>\n",
              "    </tr>\n",
              "    <tr>\n",
              "      <th>.FTSE</th>\n",
              "      <td>2021-12-23 00:00:00+00:00</td>\n",
              "      <td>0.000006</td>\n",
              "      <td>-12.052225</td>\n",
              "      <td>-10.876758</td>\n",
              "      <td>-9.329786</td>\n",
              "      <td>-9.591285</td>\n",
              "    </tr>\n",
              "    <tr>\n",
              "      <th>.FTSE</th>\n",
              "      <td>2021-12-24 00:00:00+00:00</td>\n",
              "      <td>0.000011</td>\n",
              "      <td>-11.404944</td>\n",
              "      <td>-12.052225</td>\n",
              "      <td>-9.984231</td>\n",
              "      <td>-9.667199</td>\n",
              "    </tr>\n",
              "    <tr>\n",
              "      <th>.FTSE</th>\n",
              "      <td>2021-12-29 00:00:00+00:00</td>\n",
              "      <td>0.000098</td>\n",
              "      <td>-9.234109</td>\n",
              "      <td>-11.404944</td>\n",
              "      <td>-10.258448</td>\n",
              "      <td>-9.728310</td>\n",
              "    </tr>\n",
              "    <tr>\n",
              "      <th>.FTSE</th>\n",
              "      <td>2021-12-30 00:00:00+00:00</td>\n",
              "      <td>0.000013</td>\n",
              "      <td>-11.228674</td>\n",
              "      <td>-9.234109</td>\n",
              "      <td>-10.551315</td>\n",
              "      <td>-9.618249</td>\n",
              "    </tr>\n",
              "    <tr>\n",
              "      <th>.FTSE</th>\n",
              "      <td>2021-12-31 00:00:00+00:00</td>\n",
              "      <td>0.000032</td>\n",
              "      <td>-10.353723</td>\n",
              "      <td>-11.228674</td>\n",
              "      <td>-10.959342</td>\n",
              "      <td>-9.800298</td>\n",
              "    </tr>\n",
              "  </tbody>\n",
              "</table>\n",
              "<p>5547 rows × 6 columns</p>\n",
              "</div>\n",
              "    <div class=\"colab-df-buttons\">\n",
              "\n",
              "  <div class=\"colab-df-container\">\n",
              "    <button class=\"colab-df-convert\" onclick=\"convertToInteractive('df-1f0b5a13-84cf-4fc4-8349-143e79293ade')\"\n",
              "            title=\"Convert this dataframe to an interactive table.\"\n",
              "            style=\"display:none;\">\n",
              "\n",
              "  <svg xmlns=\"http://www.w3.org/2000/svg\" height=\"24px\" viewBox=\"0 -960 960 960\">\n",
              "    <path d=\"M120-120v-720h720v720H120Zm60-500h600v-160H180v160Zm220 220h160v-160H400v160Zm0 220h160v-160H400v160ZM180-400h160v-160H180v160Zm440 0h160v-160H620v160ZM180-180h160v-160H180v160Zm440 0h160v-160H620v160Z\"/>\n",
              "  </svg>\n",
              "    </button>\n",
              "\n",
              "  <style>\n",
              "    .colab-df-container {\n",
              "      display:flex;\n",
              "      gap: 12px;\n",
              "    }\n",
              "\n",
              "    .colab-df-convert {\n",
              "      background-color: #E8F0FE;\n",
              "      border: none;\n",
              "      border-radius: 50%;\n",
              "      cursor: pointer;\n",
              "      display: none;\n",
              "      fill: #1967D2;\n",
              "      height: 32px;\n",
              "      padding: 0 0 0 0;\n",
              "      width: 32px;\n",
              "    }\n",
              "\n",
              "    .colab-df-convert:hover {\n",
              "      background-color: #E2EBFA;\n",
              "      box-shadow: 0px 1px 2px rgba(60, 64, 67, 0.3), 0px 1px 3px 1px rgba(60, 64, 67, 0.15);\n",
              "      fill: #174EA6;\n",
              "    }\n",
              "\n",
              "    .colab-df-buttons div {\n",
              "      margin-bottom: 4px;\n",
              "    }\n",
              "\n",
              "    [theme=dark] .colab-df-convert {\n",
              "      background-color: #3B4455;\n",
              "      fill: #D2E3FC;\n",
              "    }\n",
              "\n",
              "    [theme=dark] .colab-df-convert:hover {\n",
              "      background-color: #434B5C;\n",
              "      box-shadow: 0px 1px 3px 1px rgba(0, 0, 0, 0.15);\n",
              "      filter: drop-shadow(0px 1px 2px rgba(0, 0, 0, 0.3));\n",
              "      fill: #FFFFFF;\n",
              "    }\n",
              "  </style>\n",
              "\n",
              "    <script>\n",
              "      const buttonEl =\n",
              "        document.querySelector('#df-1f0b5a13-84cf-4fc4-8349-143e79293ade button.colab-df-convert');\n",
              "      buttonEl.style.display =\n",
              "        google.colab.kernel.accessAllowed ? 'block' : 'none';\n",
              "\n",
              "      async function convertToInteractive(key) {\n",
              "        const element = document.querySelector('#df-1f0b5a13-84cf-4fc4-8349-143e79293ade');\n",
              "        const dataTable =\n",
              "          await google.colab.kernel.invokeFunction('convertToInteractive',\n",
              "                                                    [key], {});\n",
              "        if (!dataTable) return;\n",
              "\n",
              "        const docLinkHtml = 'Like what you see? Visit the ' +\n",
              "          '<a target=\"_blank\" href=https://colab.research.google.com/notebooks/data_table.ipynb>data table notebook</a>'\n",
              "          + ' to learn more about interactive tables.';\n",
              "        element.innerHTML = '';\n",
              "        dataTable['output_type'] = 'display_data';\n",
              "        await google.colab.output.renderOutput(dataTable, element);\n",
              "        const docLink = document.createElement('div');\n",
              "        docLink.innerHTML = docLinkHtml;\n",
              "        element.appendChild(docLink);\n",
              "      }\n",
              "    </script>\n",
              "  </div>\n",
              "\n",
              "\n",
              "<div id=\"df-62ffd893-f5ad-4969-983c-ee178c363a12\">\n",
              "  <button class=\"colab-df-quickchart\" onclick=\"quickchart('df-62ffd893-f5ad-4969-983c-ee178c363a12')\"\n",
              "            title=\"Suggest charts\"\n",
              "            style=\"display:none;\">\n",
              "\n",
              "<svg xmlns=\"http://www.w3.org/2000/svg\" height=\"24px\"viewBox=\"0 0 24 24\"\n",
              "     width=\"24px\">\n",
              "    <g>\n",
              "        <path d=\"M19 3H5c-1.1 0-2 .9-2 2v14c0 1.1.9 2 2 2h14c1.1 0 2-.9 2-2V5c0-1.1-.9-2-2-2zM9 17H7v-7h2v7zm4 0h-2V7h2v10zm4 0h-2v-4h2v4z\"/>\n",
              "    </g>\n",
              "</svg>\n",
              "  </button>\n",
              "\n",
              "<style>\n",
              "  .colab-df-quickchart {\n",
              "      --bg-color: #E8F0FE;\n",
              "      --fill-color: #1967D2;\n",
              "      --hover-bg-color: #E2EBFA;\n",
              "      --hover-fill-color: #174EA6;\n",
              "      --disabled-fill-color: #AAA;\n",
              "      --disabled-bg-color: #DDD;\n",
              "  }\n",
              "\n",
              "  [theme=dark] .colab-df-quickchart {\n",
              "      --bg-color: #3B4455;\n",
              "      --fill-color: #D2E3FC;\n",
              "      --hover-bg-color: #434B5C;\n",
              "      --hover-fill-color: #FFFFFF;\n",
              "      --disabled-bg-color: #3B4455;\n",
              "      --disabled-fill-color: #666;\n",
              "  }\n",
              "\n",
              "  .colab-df-quickchart {\n",
              "    background-color: var(--bg-color);\n",
              "    border: none;\n",
              "    border-radius: 50%;\n",
              "    cursor: pointer;\n",
              "    display: none;\n",
              "    fill: var(--fill-color);\n",
              "    height: 32px;\n",
              "    padding: 0;\n",
              "    width: 32px;\n",
              "  }\n",
              "\n",
              "  .colab-df-quickchart:hover {\n",
              "    background-color: var(--hover-bg-color);\n",
              "    box-shadow: 0 1px 2px rgba(60, 64, 67, 0.3), 0 1px 3px 1px rgba(60, 64, 67, 0.15);\n",
              "    fill: var(--button-hover-fill-color);\n",
              "  }\n",
              "\n",
              "  .colab-df-quickchart-complete:disabled,\n",
              "  .colab-df-quickchart-complete:disabled:hover {\n",
              "    background-color: var(--disabled-bg-color);\n",
              "    fill: var(--disabled-fill-color);\n",
              "    box-shadow: none;\n",
              "  }\n",
              "\n",
              "  .colab-df-spinner {\n",
              "    border: 2px solid var(--fill-color);\n",
              "    border-color: transparent;\n",
              "    border-bottom-color: var(--fill-color);\n",
              "    animation:\n",
              "      spin 1s steps(1) infinite;\n",
              "  }\n",
              "\n",
              "  @keyframes spin {\n",
              "    0% {\n",
              "      border-color: transparent;\n",
              "      border-bottom-color: var(--fill-color);\n",
              "      border-left-color: var(--fill-color);\n",
              "    }\n",
              "    20% {\n",
              "      border-color: transparent;\n",
              "      border-left-color: var(--fill-color);\n",
              "      border-top-color: var(--fill-color);\n",
              "    }\n",
              "    30% {\n",
              "      border-color: transparent;\n",
              "      border-left-color: var(--fill-color);\n",
              "      border-top-color: var(--fill-color);\n",
              "      border-right-color: var(--fill-color);\n",
              "    }\n",
              "    40% {\n",
              "      border-color: transparent;\n",
              "      border-right-color: var(--fill-color);\n",
              "      border-top-color: var(--fill-color);\n",
              "    }\n",
              "    60% {\n",
              "      border-color: transparent;\n",
              "      border-right-color: var(--fill-color);\n",
              "    }\n",
              "    80% {\n",
              "      border-color: transparent;\n",
              "      border-right-color: var(--fill-color);\n",
              "      border-bottom-color: var(--fill-color);\n",
              "    }\n",
              "    90% {\n",
              "      border-color: transparent;\n",
              "      border-bottom-color: var(--fill-color);\n",
              "    }\n",
              "  }\n",
              "</style>\n",
              "\n",
              "  <script>\n",
              "    async function quickchart(key) {\n",
              "      const quickchartButtonEl =\n",
              "        document.querySelector('#' + key + ' button');\n",
              "      quickchartButtonEl.disabled = true;  // To prevent multiple clicks.\n",
              "      quickchartButtonEl.classList.add('colab-df-spinner');\n",
              "      try {\n",
              "        const charts = await google.colab.kernel.invokeFunction(\n",
              "            'suggestCharts', [key], {});\n",
              "      } catch (error) {\n",
              "        console.error('Error during call to suggestCharts:', error);\n",
              "      }\n",
              "      quickchartButtonEl.classList.remove('colab-df-spinner');\n",
              "      quickchartButtonEl.classList.add('colab-df-quickchart-complete');\n",
              "    }\n",
              "    (() => {\n",
              "      let quickchartButtonEl =\n",
              "        document.querySelector('#df-62ffd893-f5ad-4969-983c-ee178c363a12 button');\n",
              "      quickchartButtonEl.style.display =\n",
              "        google.colab.kernel.accessAllowed ? 'block' : 'none';\n",
              "    })();\n",
              "  </script>\n",
              "</div>\n",
              "    </div>\n",
              "  </div>\n"
            ],
            "text/plain": [
              "                       Unnamed: 0       rv5      log_t  log_prev_day  \\\n",
              "Symbol                                                                 \n",
              ".FTSE   2000-01-04 00:00:00+00:00  0.000233  -8.365364     -1.000000   \n",
              ".FTSE   2000-01-05 00:00:00+00:00  0.000192  -8.560469     -8.365364   \n",
              ".FTSE   2000-01-06 00:00:00+00:00  0.000123  -8.999895     -8.560469   \n",
              ".FTSE   2000-01-07 00:00:00+00:00  0.000114  -9.079011     -8.999895   \n",
              ".FTSE   2000-01-10 00:00:00+00:00  0.000123  -9.001064     -9.079011   \n",
              "...                           ...       ...        ...           ...   \n",
              ".FTSE   2021-12-23 00:00:00+00:00  0.000006 -12.052225    -10.876758   \n",
              ".FTSE   2021-12-24 00:00:00+00:00  0.000011 -11.404944    -12.052225   \n",
              ".FTSE   2021-12-29 00:00:00+00:00  0.000098  -9.234109    -11.404944   \n",
              ".FTSE   2021-12-30 00:00:00+00:00  0.000013 -11.228674     -9.234109   \n",
              ".FTSE   2021-12-31 00:00:00+00:00  0.000032 -10.353723    -11.228674   \n",
              "\n",
              "        log_prev_week  log_prev_month  \n",
              "Symbol                                 \n",
              ".FTSE       -1.000000       -1.000000  \n",
              ".FTSE       -1.000000       -1.000000  \n",
              ".FTSE       -1.000000       -1.000000  \n",
              ".FTSE       -1.000000       -1.000000  \n",
              ".FTSE       -1.000000       -1.000000  \n",
              "...               ...             ...  \n",
              ".FTSE       -9.329786       -9.591285  \n",
              ".FTSE       -9.984231       -9.667199  \n",
              ".FTSE      -10.258448       -9.728310  \n",
              ".FTSE      -10.551315       -9.618249  \n",
              ".FTSE      -10.959342       -9.800298  \n",
              "\n",
              "[5547 rows x 6 columns]"
            ]
          },
          "execution_count": 10,
          "metadata": {},
          "output_type": "execute_result"
        }
      ],
      "source": [
        "FTSE_data = index_data['.FTSE']\n",
        "AEX_data = index_data['.AEX']\n",
        "DAX_data = index_data['.GDAXI']\n",
        "FTSE_data"
      ]
    },
    {
      "cell_type": "code",
      "execution_count": 11,
      "metadata": {
        "colab": {
          "base_uri": "https://localhost:8080/"
        },
        "id": "3pH_zy1qm9Vh",
        "outputId": "ee366b16-cb47-4352-8adc-7420e347cf3b"
      },
      "outputs": [
        {
          "name": "stdout",
          "output_type": "stream",
          "text": [
            "5547\n",
            "5611\n",
            "5575\n"
          ]
        }
      ],
      "source": [
        "print(len(FTSE_data))\n",
        "print(len(AEX_data))\n",
        "print(len(DAX_data))"
      ]
    },
    {
      "cell_type": "markdown",
      "metadata": {
        "id": "hihDk5W5Gn0s"
      },
      "source": [
        "# Loss functions"
      ]
    },
    {
      "cell_type": "code",
      "execution_count": 12,
      "metadata": {
        "id": "ROQa_2jGGnTK"
      },
      "outputs": [],
      "source": [
        "def qlike(true_vol, pred_vol):\n",
        "  \"Returns the value of the QLIKE loss function, which is not \\\n",
        "  already implemented in Python unlike MSE\"\n",
        "\n",
        "  return np.log(pred_vol) + true_vol / pred_vol\n",
        "\n",
        "qlike = np.vectorize(qlike)"
      ]
    },
    {
      "cell_type": "code",
      "execution_count": 13,
      "metadata": {
        "colab": {
          "base_uri": "https://localhost:8080/",
          "height": 453
        },
        "id": "nM7Y9zhrHLgR",
        "outputId": "e5ba7c08-da1d-40ec-cfa5-15e6b8439ad4"
      },
      "outputs": [
        {
          "data": {
            "image/png": "[encoded data removed]",
            "text/plain": [
              "<Figure size 640x480 with 1 Axes>"
            ]
          },
          "metadata": {},
          "output_type": "display_data"
        }
      ],
      "source": [
        "true = 1e-5 * np.ones(40)\n",
        "pred = np.linspace(1e-7, 1e-2, 40)\n",
        "q = qlike(true, pred)\n",
        "plt.plot(q)\n",
        "plt.title(\"Shape of the QLike loss function\")\n",
        "plt.show()"
      ]
    },
    {
      "cell_type": "markdown",
      "metadata": {
        "id": "-xIvD7tAz30S"
      },
      "source": [
        "# Models"
      ]
    },
    {
      "cell_type": "markdown",
      "metadata": {
        "id": "R0fUM4eclh8T"
      },
      "source": [
        "## HAR"
      ]
    },
    {
      "cell_type": "code",
      "execution_count": 14,
      "metadata": {
        "id": "P9syYzXEz4mL"
      },
      "outputs": [],
      "source": [
        "class HAR():\n",
        "  \"\"\"\n",
        "  Trains model for computing the third-order logarithmic HAR model for \\\n",
        "  realised variance (logHAR-RV(3)) at time t\n",
        "  \"\"\"\n",
        "\n",
        "  def __init__(self, data, time, time_frame):\n",
        "    \"\"\"\n",
        "    data -> represent the index data; data frame of variables: time, rv5, log \\\n",
        "            of realised variance for that day, for the previous one, the \\\n",
        "            previous week and previous month\n",
        "    time -> time index of the first day not used in predicting\n",
        "    time_frame -> rolling window length\n",
        "    \"\"\"\n",
        "    self.data = data\n",
        "    self.start = time - time_frame  # starting point\n",
        "    self.end = time  # ending point\n",
        "    # initialise variable that will be assigned later\n",
        "    self.beta = -1 * np.zeros(4)\n",
        "    self.sample_var = -1\n",
        "    self.term = None\n",
        "\n",
        "  def formula(self, row):\n",
        "      \"Actual formula used for forecasting; outputs single result\"\n",
        "      return np.exp(self.beta[0] + np.sqrt(self.sample_var) / 2) * np.power(row[0], self.beta[1]) * np.power(row[1], self.beta[2]) * np.power(row[2], self.beta[3])\n",
        "\n",
        "  def _constructxy(self):\n",
        "    \"Returns logX, logY matrices needed to compute least squares\"\n",
        "    logY = self.data[\"log_t\"].iloc[self.start:self.end].to_numpy()\n",
        "    logXi = self.data[[\"log_prev_day\", \"log_prev_week\", \"log_prev_month\"]].iloc[self.start:self.end].to_numpy()\n",
        "    logX = np.c_[np.ones(self.end - self.start), logXi]\n",
        "    return (logX, logY)\n",
        "\n",
        "  def _ols_beta(self):\n",
        "    \"Returns ordinary least squares estimates for the model\"\n",
        "    X, Y = self._constructxy()\n",
        "    return (X, Y, np.linalg.inv(X.T.dot(X)).dot(X.T).dot(Y))\n",
        "\n",
        "  def model(self):\n",
        "    \"Returns the obtained parameters of the model: betas, sample variance\"\n",
        "    logX, logY, beta = self._ols_beta()\n",
        "    residuals = logY - logX.dot(beta)  # compute residuals used for correction\n",
        "    return (beta, np.var(residuals))\n",
        "\n",
        "  def predict(self, key):\n",
        "    \"Predicts next day/week/month values of rv5 based on the developed logHAR(3) model\"\n",
        "    beta, sample_var = self.model()\n",
        "    self.beta = beta\n",
        "    self.sample_var = sample_var\n",
        "\n",
        "    if key in {\"d\", \"day\"}:  # 1-day ahead prediction\n",
        "      predict_array = np.exp(np.array([self.data[[\"log_prev_day\", \"log_prev_week\", \"log_prev_month\"]].iloc[self.end].to_numpy()]))\n",
        "      self.term = 1\n",
        "\n",
        "    elif key in {\"w\", \"week\"}:  # 1-week ahead prediction\n",
        "      predict_array = np.exp(self.data[[\"log_prev_day\", \"log_prev_week\", \"log_prev_month\"]].iloc[self.end:self.end+5].to_numpy())\n",
        "      self.term = 5\n",
        "\n",
        "    elif key in {\"m\", \"month\"}:  # 1-month ahead prediction\n",
        "      predict_array = np.exp(self.data[[\"log_prev_day\", \"log_prev_week\", \"log_prev_month\"]].iloc[self.end:self.end+22].to_numpy())\n",
        "      self.term = 22\n",
        "\n",
        "    else:\n",
        "      raise ValueError('Value of key must be \"day\"/\"week\"/\"month\"')\n",
        "\n",
        "    return np.apply_along_axis(self.formula, axis=1, arr=predict_array)\n",
        "\n",
        "  def loss(self, key, loss_type='both'):\n",
        "    \"Returns in-sample and out-of-sample squared error and QLIKE for the constructed model\"\n",
        "    beta, sample_var = self.model()\n",
        "    self.beta = beta\n",
        "    self.sample_var = sample_var\n",
        "\n",
        "    in_sample_arr = np.exp(self.data[[\"log_prev_day\", \"log_prev_week\", \"log_prev_month\"]].iloc[self.start:self.end].to_numpy())\n",
        "    in_sample_pred = np.apply_along_axis(self.formula, axis=1, arr=in_sample_arr)\n",
        "    real_in_data = np.array(self.data[\"rv5\"].iloc[self.start:self.end])\n",
        "\n",
        "    pred = self.predict(key)\n",
        "    real_out_data = np.array(self.data[\"rv5\"].iloc[self.end:self.end+self.term].to_numpy())\n",
        "\n",
        "    if loss_type == 'mse':  # if only interested in squared loss\n",
        "      in_sample_mse = (real_in_data - in_sample_pred) ** 2\n",
        "      out_of_sample_mse = (real_out_data - pred) ** 2\n",
        "      return [in_sample_mse, out_of_sample_mse]\n",
        "\n",
        "    elif loss_type == 'qlike':  # if only interested in qlike loss\n",
        "      in_sample_qlike = qlike(real_in_data, in_sample_pred)\n",
        "      out_of_sample_qlike = qlike(real_out_data, pred)\n",
        "      return [in_sample_qlike, out_of_sample_qlike]\n",
        "\n",
        "    else:  # if interested in both the squared loss and the qlike loss\n",
        "      in_sample_mse = (real_in_data - in_sample_pred) ** 2\n",
        "      out_of_sample_mse = (real_out_data - pred) ** 2\n",
        "      in_sample_qlike = qlike(real_in_data, in_sample_pred)\n",
        "      out_of_sample_qlike = qlike(real_out_data, pred)\n",
        "      return [in_sample_mse, in_sample_qlike, out_of_sample_mse, out_of_sample_qlike]\n"
      ]
    },
    {
      "cell_type": "markdown",
      "metadata": {
        "id": "fBq5RlrAwQ2p"
      },
      "source": [
        "See if it is working well"
      ]
    },
    {
      "cell_type": "markdown",
      "metadata": {
        "id": "6BGEcH9PkSOO"
      },
      "source": [
        "##### Testing HAR"
      ]
    },
    {
      "cell_type": "code",
      "execution_count": 15,
      "metadata": {
        "colab": {
          "base_uri": "https://localhost:8080/"
        },
        "id": "ryoSQyLqojM7",
        "outputId": "a254b38e-5958-4136-a9b0-b4fd25a15086"
      },
      "outputs": [
        {
          "data": {
            "text/plain": [
              "(array([-0.9982136 ,  0.14082947,  0.44405911,  0.31907769]),\n",
              " 0.25322792724205156)"
            ]
          },
          "execution_count": 15,
          "metadata": {},
          "output_type": "execute_result"
        }
      ],
      "source": [
        "HAR(FTSE_data, 1300, 500).model()"
      ]
    },
    {
      "cell_type": "code",
      "execution_count": 16,
      "metadata": {
        "colab": {
          "base_uri": "https://localhost:8080/"
        },
        "id": "FlMqoyacwDPf",
        "outputId": "0b1239d0-5b48-4841-9584-be7ad5636626"
      },
      "outputs": [
        {
          "data": {
            "text/plain": [
              "array([3.28506898e-05, 2.05779648e-05, 3.08283568e-05, 2.76158854e-05,\n",
              "       3.25840884e-05])"
            ]
          },
          "execution_count": 16,
          "metadata": {},
          "output_type": "execute_result"
        }
      ],
      "source": [
        "HAR(FTSE_data, 1000, 500).predict('w')"
      ]
    },
    {
      "cell_type": "code",
      "execution_count": 17,
      "metadata": {
        "colab": {
          "base_uri": "https://localhost:8080/"
        },
        "id": "JtHgbxIn9u5T",
        "outputId": "781f5178-b61b-4304-c324-b564c473b05b"
      },
      "outputs": [
        {
          "name": "stdout",
          "output_type": "stream",
          "text": [
            "[5.48633985e-10 1.23779717e-10 1.32144535e-10 3.78616701e-12\n",
            " 2.02874408e-10]\n",
            "3.2168636506266006e-08\n",
            "[-7.933124]\n"
          ]
        }
      ],
      "source": [
        "print(HAR(FTSE_data, 1000, 500).loss('w')[2])  # mse loss for out-of-sample predictions\n",
        "print(np.mean((HAR(AEX_data, 1000, 500).loss('m', 'mse'))[0]))  # mean of the sqared errors\n",
        "print(HAR(DAX_data, 1000, 500).loss('d', 'qlike')[1])  # qlike loss for out-of-sample prediction"
      ]
    },
    {
      "cell_type": "markdown",
      "metadata": {
        "id": "w5EcX62wcXPL"
      },
      "source": [
        "## FNN_HAR"
      ]
    },
    {
      "cell_type": "code",
      "execution_count": 18,
      "metadata": {
        "id": "GpA7PwgscpKN"
      },
      "outputs": [],
      "source": [
        "class FNN_HAR():\n",
        "  \"\"\"\n",
        "  Train model to compute forecasts of a fully-connected feed-forward NN with \\\n",
        "  the same 3 inputs as the log-HAR model at time t\n",
        "  \"\"\"\n",
        "\n",
        "  def __init__(self, data, time, time_frame):\n",
        "    \"\"\"\n",
        "    data -> str: index of data we want to use (eg. '.FTSE', '.AEX')\n",
        "    time -> int: index of first day not used in forecasting\n",
        "    time_frame -> int: length of the rolling window for forecasting\n",
        "    \"\"\"\n",
        "\n",
        "    self.data = data\n",
        "    self.start = time - time_frame\n",
        "    self.end = time\n",
        "    with tf.device(device_name):\n",
        "      self.model = None\n",
        "\n",
        "    # initialize term to which assign value later\n",
        "    self.term = -1\n",
        "\n",
        "  def _architecture(self):\n",
        "    \"Define the model architecture\"\n",
        "\n",
        "    with tf.device(device_name):\n",
        "      f = keras.Sequential([\n",
        "      keras.layers.InputLayer(input_shape=(3,)),\n",
        "      keras.layers.Dense(10, activation=\"relu\"),\n",
        "      keras.layers.Dense(10, activation=\"relu\"),\n",
        "      keras.layers.Dense(1, activation=\"linear\")\n",
        "      ])\n",
        "\n",
        "      self.model = f\n",
        "\n",
        "  def train(self):\n",
        "    \"Compile and fit the model\"\n",
        "\n",
        "    with tf.device(device_name):\n",
        "      self._architecture()\n",
        "      self.model.compile(optimizer=\"adam\", loss=\"mean_squared_error\")\n",
        "\n",
        "    # particular inputs for fnn_har\n",
        "    inputs = self.data[[\"log_prev_day\", \"log_prev_week\", \"log_prev_month\"]].iloc[self.start:self.end]\n",
        "\n",
        "\n",
        "    true_values = self.data[\"log_t\"].iloc[self.start:self.end]\n",
        "    self.model.fit(inputs, true_values, batch_size=100, epochs=20, verbose=False, validation_split=1/8)\n",
        "\n",
        "  def forecast(self, key):\n",
        "    \"Returns the predicted rv5 for 1-day/1-week/1-month ahead forecast, where \\\n",
        "     'key' represents the type of forecast\"\n",
        "\n",
        "    if self.model == None:\n",
        "      with tf.device(device_name):\n",
        "        self.train()\n",
        "\n",
        "    if key in {\"d\", \"day\"}:  # type of prediction: 1-day ahead\n",
        "      # the predict_array represents the array with the inputs which we feed into the model for forecasting\n",
        "      predict_array = np.array([self.data[[\"log_prev_day\", \"log_prev_week\", \"log_prev_month\"]].iloc[self.end].to_numpy()])\n",
        "      self.term = 1\n",
        "\n",
        "    elif key in {\"w\", \"week\"}:  # 1-week ahead prediction\n",
        "      predict_array = self.data[[\"log_prev_day\", \"log_prev_week\", \"log_prev_month\"]].iloc[self.end:self.end+5].to_numpy()\n",
        "      self.term = 5\n",
        "\n",
        "    elif key in {\"m\", \"month\"}:  # 1-month ahead prediction\n",
        "      predict_array = self.data[[\"log_prev_day\", \"log_prev_week\", \"log_prev_month\"]].iloc[self.end:self.end+22].to_numpy()\n",
        "      self.term = 22\n",
        "\n",
        "    else:\n",
        "      raise ValueError('Value of key must be \"day\"/\"week\"/\"month\"')\n",
        "\n",
        "    return np.exp(self.model.predict(predict_array)).flatten()\n",
        "\n",
        "  def loss(self, key, loss_type='both'):\n",
        "    \"\"\"\n",
        "    Returns sequences of in-sample and out-of-sample squared error and QLIKE losses for the one trained model\n",
        "    \"\"\"\n",
        "\n",
        "    if self.model == None:\n",
        "      with tf.device(device_name):\n",
        "        self.train()\n",
        "\n",
        "    in_sample_arr = self.data[[\"log_prev_day\", \"log_prev_week\", \"log_prev_month\"]].iloc[self.start:self.end].to_numpy()\n",
        "    in_sample_pred = np.exp(self.model.predict(in_sample_arr)[0])  # the NN outputs logs of rv5\n",
        "    true_in_sample = self.data[\"rv5\"].iloc[self.start:self.end]\n",
        "\n",
        "    out_of_sample_pred = self.forecast(key)  # forecast method takes care of the transformation\n",
        "    true_out_of_sample = self.data[\"rv5\"].iloc[self.end:self.end+self.term]\n",
        "\n",
        "    if loss_type == 'mse':\n",
        "      in_sample_mse = (true_in_sample - in_sample_pred) ** 2\n",
        "      out_of_sample_mse = (true_out_of_sample - out_of_sample_pred) ** 2\n",
        "\n",
        "      return [np.array([in_sample_mse]).flatten(), np.array([out_of_sample_mse]).flatten()]\n",
        "\n",
        "    elif loss_type == 'qlike':\n",
        "      in_sample_qlike = qlike(true_in_sample, in_sample_pred)\n",
        "      out_of_sample_qlike = qlike(true_out_of_sample, out_of_sample_pred)\n",
        "\n",
        "      return [np.array([in_sample_qlike]).flatten(), np.array([out_of_sample_qlike]).flatten()]\n",
        "\n",
        "    else:  # if interested in both the squared error and the qlike loss\n",
        "      in_sample_mse = (true_in_sample - in_sample_pred) ** 2\n",
        "      out_of_sample_mse = (true_out_of_sample - out_of_sample_pred) ** 2\n",
        "\n",
        "      in_sample_qlike = qlike(true_in_sample, in_sample_pred)\n",
        "      out_of_sample_qlike = qlike(true_out_of_sample, out_of_sample_pred)\n",
        "\n",
        "      return [np.array([in_sample_mse]).flatten(), np.array([in_sample_qlike]).flatten() , np.array([out_of_sample_mse]).flatten(), np.array([out_of_sample_qlike]).flatten()]"
      ]
    },
    {
      "cell_type": "markdown",
      "metadata": {
        "id": "m__FxveFkdWq"
      },
      "source": [
        "#### Testing FNN_HAR"
      ]
    },
    {
      "cell_type": "code",
      "execution_count": 19,
      "metadata": {
        "colab": {
          "base_uri": "https://localhost:8080/"
        },
        "id": "R3ZmthzdhUet",
        "outputId": "25dbe1b3-8391-46a9-9a0f-8235b277f458"
      },
      "outputs": [
        {
          "name": "stdout",
          "output_type": "stream",
          "text": [
            "1/1 [==============================] - 0s 68ms/step\n"
          ]
        },
        {
          "data": {
            "text/plain": [
              "array([2.8532928e-05, 5.1554383e-05, 6.5182845e-05, 2.8065180e-05,\n",
              "       2.8974022e-05], dtype=float32)"
            ]
          },
          "execution_count": 19,
          "metadata": {},
          "output_type": "execute_result"
        }
      ],
      "source": [
        "# check if it is working properly\n",
        "FNN_HAR(FTSE_data, 4200, 4100).forecast('w')"
      ]
    },
    {
      "cell_type": "code",
      "execution_count": 20,
      "metadata": {
        "colab": {
          "base_uri": "https://localhost:8080/"
        },
        "id": "1p19tYArhY_D",
        "outputId": "c0460e1d-96c6-4a40-f2f1-3bab7f616a08"
      },
      "outputs": [
        {
          "name": "stdout",
          "output_type": "stream",
          "text": [
            "144/144 [==============================] - 0s 1ms/step\n",
            "1/1 [==============================] - 0s 39ms/step\n"
          ]
        },
        {
          "data": {
            "text/plain": [
              "[array([-7.58644768, -8.36378112, -7.39725069, ..., -8.93221133,\n",
              "        -8.82565534, -8.85051903]),\n",
              " array([-9.43272323])]"
            ]
          },
          "execution_count": 20,
          "metadata": {},
          "output_type": "execute_result"
        }
      ],
      "source": [
        "# check if it is working properly\n",
        "FNN_HAR(AEX_data, 4700, 4600).loss('d', 'qlike')"
      ]
    },
    {
      "cell_type": "code",
      "execution_count": 21,
      "metadata": {
        "colab": {
          "base_uri": "https://localhost:8080/"
        },
        "id": "3tbnKwDThZjm",
        "outputId": "cda72a06-d4c3-42c3-cae0-a1f39411d6c6"
      },
      "outputs": [
        {
          "name": "stdout",
          "output_type": "stream",
          "text": [
            "125/125 [==============================] - 0s 1ms/step\n",
            "1/1 [==============================] - 0s 46ms/step\n",
            "1.0630744533868574e-07\n",
            "-7.34724184014456\n",
            "4.840291138991317e-10\n",
            "-9.614704113952126\n"
          ]
        }
      ],
      "source": [
        "# check if it is working properly\n",
        "evaluations = FNN_HAR(DAX_data, 4300, 4000).loss('m', 'both')\n",
        "for evaluation in evaluations:\n",
        "  print(np.mean(evaluation))"
      ]
    },
    {
      "cell_type": "markdown",
      "metadata": {
        "id": "7wq1HUGbhbhG"
      },
      "source": [
        "## FNN"
      ]
    },
    {
      "cell_type": "code",
      "execution_count": 22,
      "metadata": {
        "id": "lwV_GQW68xOc"
      },
      "outputs": [],
      "source": [
        "class FNN():\n",
        "  \"\"\"\n",
        "  Trains model to compute forecasts of a fully-connected feed-forward NN directly on data\n",
        "  \"\"\"\n",
        "\n",
        "  def __init__(self, data, time, time_frame):\n",
        "    \"\"\"\n",
        "    data -> str: index of data we want to use (eg. '.FTSE', '.AEX')\n",
        "    time -> int: index of first day not used in forecasting\n",
        "    time_frame -> int: length of the rolling window for forecasting\n",
        "    \"\"\"\n",
        "\n",
        "    self.data = data\n",
        "    self.start = time - time_frame\n",
        "    self.end = time\n",
        "    with tf.device(device_name):\n",
        "      self.model = None\n",
        "\n",
        "    # initialize term to which assign value later\n",
        "    self.term = -1\n",
        "\n",
        "  def _architecture(self):\n",
        "    \"Define the model architecture\"\n",
        "\n",
        "    with tf.device(device_name):\n",
        "      # feed-forward NN directly on data\n",
        "      f = keras.Sequential([\n",
        "        keras.layers.InputLayer(input_shape=(22,)),\n",
        "        keras.layers.Dense(100, activation=\"relu\"),\n",
        "        keras.layers.Dense(100, activation=\"relu\"),\n",
        "        keras.layers.Dense(100, activation=\"relu\"),\n",
        "        keras.layers.Dense(100, activation=\"relu\"),\n",
        "        keras.layers.Dense(100, activation=\"relu\"),\n",
        "        keras.layers.Dense(100, activation=\"relu\"),\n",
        "        keras.layers.Dense(1, activation=\"linear\")\n",
        "        ])\n",
        "\n",
        "      self.model = f\n",
        "\n",
        "  def train(self):\n",
        "    \"Compile and fit the model\"\n",
        "\n",
        "    with tf.device(device_name):\n",
        "      self._architecture()\n",
        "      self.model.compile(optimizer=\"adam\", loss=\"mean_squared_error\")\n",
        "\n",
        "    # the inputs are logs of past realised variance\n",
        "    inputs = np.array([self.data[[\"log_t\"]].to_numpy().flatten()[i-22:i] for i in range(self.start, self.end)])  # change input size if needed\n",
        "\n",
        "\n",
        "    true_values = self.data[\"log_t\"].iloc[self.start:self.end]\n",
        "    self.model.fit(inputs, true_values, batch_size=100, epochs=20, verbose=False, validation_split=1/8)\n",
        "\n",
        "  def forecast(self, key):\n",
        "    \"Returns the predicted rv5 for 1-day/1-week/1-month ahead forecast, where \\\n",
        "     'key' represents the type of forecast\"\n",
        "\n",
        "    if self.model == None:\n",
        "      with tf.device(device_name):\n",
        "        self.train()\n",
        "\n",
        "    if key in {\"d\", \"day\"}:\n",
        "      # the predict_array represents the array with the inputs which we feed into the model for forecasting\n",
        "      predict_array = np.array([self.data[[\"log_t\"]].iloc[self.end-22: self.end]])\n",
        "      self.term = 1\n",
        "\n",
        "    elif key in {\"w\", \"week\"}:\n",
        "      predict_array = np.array([self.data[[\"log_t\"]].iloc[i-22:i] for i in range(self.end,self.end+5)])\n",
        "      self.term = 5\n",
        "\n",
        "    elif key in {\"m\", \"month\"}:\n",
        "      predict_array = np.array([self.data[[\"log_t\"]].iloc[i-22:i] for i in range(self.end,self.end+22)])\n",
        "      self.term = 22\n",
        "\n",
        "    else:\n",
        "      raise ValueError('Value of key must be \"day\"/\"week\"/\"month\"')\n",
        "\n",
        "    return np.exp(self.model.predict(predict_array)).flatten()\n",
        "\n",
        "  def loss(self, key, loss_type='both'):\n",
        "    \"\"\"\n",
        "    Returns sequences of in-sample and out-of-sample squared error and QLIKE losses for the one trained model\n",
        "    \"\"\"\n",
        "\n",
        "    if self.model == None:\n",
        "      with tf.device(device_name):\n",
        "        self.train()\n",
        "\n",
        "    in_sample_arr = np.array([self.data[[\"log_t\"]].iloc[i-22:i] for i in range(self.start,self.end)])\n",
        "    in_sample_pred = np.exp(self.model.predict(in_sample_arr)[0])  # the NN outputs logs of rv5\n",
        "    true_in_sample = self.data[\"rv5\"].iloc[self.start:self.end].to_numpy()\n",
        "\n",
        "    out_of_sample_pred = self.forecast(key)\n",
        "    true_out_of_sample = self.data[\"rv5\"].iloc[self.end:self.end+self.term].to_numpy()\n",
        "\n",
        "    if loss_type == 'mse':\n",
        "      in_sample_mse = (true_in_sample - in_sample_pred) ** 2\n",
        "      out_of_sample_mse = (true_out_of_sample - out_of_sample_pred) ** 2\n",
        "\n",
        "      return [np.array([in_sample_mse]).flatten(), np.array([out_of_sample_mse]).flatten()]\n",
        "\n",
        "    elif loss_type == 'qlike':\n",
        "      in_sample_qlike = qlike(true_in_sample, in_sample_pred)\n",
        "      out_of_sample_qlike = qlike(true_out_of_sample, out_of_sample_pred)\n",
        "\n",
        "      return [np.array([in_sample_qlike]).flatten(), np.array([out_of_sample_qlike]).flatten()]\n",
        "\n",
        "    else:\n",
        "      in_sample_mse = (true_in_sample - in_sample_pred) ** 2\n",
        "      out_of_sample_mse = (true_out_of_sample - out_of_sample_pred) ** 2\n",
        "\n",
        "      in_sample_qlike = qlike(true_in_sample, in_sample_pred)\n",
        "      out_of_sample_qlike = qlike(true_out_of_sample, out_of_sample_pred)\n",
        "\n",
        "      return [np.array([in_sample_mse]).flatten(), np.array([in_sample_qlike]).flatten() , np.array([out_of_sample_mse]).flatten(), np.array([out_of_sample_qlike]).flatten()]"
      ]
    },
    {
      "cell_type": "markdown",
      "metadata": {
        "id": "fWz5pLE1lOuU"
      },
      "source": [
        "#### Testing FNN"
      ]
    },
    {
      "cell_type": "code",
      "execution_count": 23,
      "metadata": {
        "colab": {
          "base_uri": "https://localhost:8080/"
        },
        "id": "mux-ANN7AXNy",
        "outputId": "71a5a518-10be-40ed-bed8-0703d404a2c9"
      },
      "outputs": [
        {
          "name": "stdout",
          "output_type": "stream",
          "text": [
            "1/1 [==============================] - 0s 103ms/step\n"
          ]
        },
        {
          "data": {
            "text/plain": [
              "array([2.4183477e-05, 3.1104129e-05, 5.2372845e-05, 3.7338235e-05,\n",
              "       2.9305775e-05], dtype=float32)"
            ]
          },
          "execution_count": 23,
          "metadata": {},
          "output_type": "execute_result"
        }
      ],
      "source": [
        "# check if it is working well\n",
        "FNN(FTSE_data, 4200, 4100).forecast('w')"
      ]
    },
    {
      "cell_type": "code",
      "execution_count": 24,
      "metadata": {
        "colab": {
          "base_uri": "https://localhost:8080/"
        },
        "id": "zSTwrbP5B-E_",
        "outputId": "1bd1240a-8a6d-41df-efb3-95a530a6ab28"
      },
      "outputs": [
        {
          "name": "stdout",
          "output_type": "stream",
          "text": [
            "144/144 [==============================] - 0s 2ms/step\n",
            "1/1 [==============================] - 0s 29ms/step\n"
          ]
        },
        {
          "data": {
            "text/plain": [
              "[array([-7.53069608, -8.38335746, -7.32316484, ..., -9.00687172,\n",
              "        -8.88998986, -8.91726298]),\n",
              " array([-9.41184605])]"
            ]
          },
          "execution_count": 24,
          "metadata": {},
          "output_type": "execute_result"
        }
      ],
      "source": [
        "# check if it is working properly\n",
        "FNN(AEX_data, 4700, 4600).loss('d', 'qlike')"
      ]
    },
    {
      "cell_type": "code",
      "execution_count": 25,
      "metadata": {
        "colab": {
          "base_uri": "https://localhost:8080/"
        },
        "id": "GE2aKQbeCIyi",
        "outputId": "aafc536a-10e6-42af-c66d-62c78f9ea7eb"
      },
      "outputs": [
        {
          "name": "stdout",
          "output_type": "stream",
          "text": [
            "125/125 [==============================] - 0s 2ms/step\n",
            "1/1 [==============================] - 0s 119ms/step\n",
            "1.0397018219840224e-07\n",
            "-7.465322165232613\n",
            "4.5058327599425054e-10\n",
            "-9.589717215717364\n"
          ]
        }
      ],
      "source": [
        "# check if it is working properly\n",
        "evaluations = FNN(DAX_data, 4300, 4000).loss('m', 'both')\n",
        "for evaluation in evaluations:\n",
        "  print(np.mean(evaluation))"
      ]
    },
    {
      "cell_type": "markdown",
      "metadata": {
        "id": "cjJOWBQkCM3l"
      },
      "source": [
        "## CNN"
      ]
    },
    {
      "cell_type": "code",
      "execution_count": 26,
      "metadata": {
        "id": "N5XKuNs0CYRh"
      },
      "outputs": [],
      "source": [
        "class CNN():\n",
        "  \"\"\"\n",
        "  Trains model to compute forecasts of a convolutional feed-forward NN directly on data\n",
        "  \"\"\"\n",
        "\n",
        "  def __init__(self, data, time, time_frame):\n",
        "    \"\"\"\n",
        "    data -> str: index of data we want to use (eg. '.FTSE', '.AEX')\n",
        "    time -> int: index of first day not used in forecasting\n",
        "    time_frame -> int: length of the rolling window for forecasting\n",
        "    \"\"\"\n",
        "\n",
        "    self.data = data\n",
        "    self.start = time - time_frame\n",
        "    self.end = time\n",
        "    with tf.device(device_name):\n",
        "      self.model = None\n",
        "\n",
        "    # initialize term to which assign value later\n",
        "    self.term = -1\n",
        "\n",
        "  def _architecture(self):\n",
        "    \"Define the model architecture\"\n",
        "\n",
        "    # convolutional NN on data\n",
        "    with tf.device('/GPU:0'):\n",
        "      f = keras.Sequential([\n",
        "        keras.layers.Conv1D(filters=64, kernel_size=3, strides=3, activation='relu', input_shape=(22, 1)),\n",
        "        keras.layers.Flatten(),\n",
        "        keras.layers.Dense(50, activation='relu'),\n",
        "        keras.layers.Dense(50, activation='relu'),\n",
        "        keras.layers.Dense(1, activation=\"linear\")\n",
        "        ])\n",
        "\n",
        "      self.model = f\n",
        "\n",
        "  def train(self):\n",
        "    \"Compile and fit the model\"\n",
        "\n",
        "    with tf.device(device_name):\n",
        "      self._architecture()\n",
        "      self.model.compile(optimizer=\"adam\", loss=\"mean_squared_error\")\n",
        "\n",
        "\n",
        "    inputs = np.array([self.data[[\"log_t\"]].iloc[i-22:i] for i in range(self.start, self.end)])\n",
        "\n",
        "\n",
        "    true_values = self.data[\"log_t\"].iloc[self.start:self.end]\n",
        "    self.model.fit(inputs, true_values, batch_size=100, epochs=20, verbose=False, validation_split=1/8)\n",
        "\n",
        "  def forecast(self, key):\n",
        "    \"Returns the predicted rv5 for 1-day/1-week/1-month ahead forecast, where \\\n",
        "     'key' represents the type of forecast\"\n",
        "\n",
        "    if self.model == None:\n",
        "      with tf.device(device_name):\n",
        "        self.train()\n",
        "\n",
        "    if key in {\"d\", \"day\"}:\n",
        "      # the predict_array represents the array with the inputs which we feed into the model for forecasting\n",
        "      predict_array = np.array([self.data[[\"log_t\"]].iloc[self.end-22: self.end]])\n",
        "      self.term = 1\n",
        "\n",
        "    elif key in {\"w\", \"week\"}:\n",
        "      predict_array = np.array([self.data[[\"log_t\"]].iloc[i-22:i] for i in range(self.end,self.end+5)])\n",
        "      self.term = 5\n",
        "\n",
        "    elif key in {\"m\", \"month\"}:\n",
        "      predict_array = np.array([self.data[[\"log_t\"]].iloc[i-22:i] for i in range(self.end,self.end+22)])\n",
        "      self.term = 22\n",
        "\n",
        "    else:\n",
        "      raise ValueError('Value of key must be \"day\"/\"week\"/\"month\"')\n",
        "\n",
        "    return np.exp(self.model.predict(predict_array)).flatten()\n",
        "\n",
        "  def loss(self, key, loss_type='both'):\n",
        "    \"\"\"\n",
        "    Returns sequences of in-sample and out-of-sample squared error and QLIKE losses for the one trained model\n",
        "    \"\"\"\n",
        "\n",
        "    if self.model == None:\n",
        "      with tf.device(device_name):\n",
        "        self.train()\n",
        "\n",
        "    in_sample_arr = np.array([self.data[[\"log_t\"]].iloc[i-22:i] for i in range(self.start,self.end)])\n",
        "    in_sample_pred = np.exp(self.model.predict(in_sample_arr)[0])  # the NN outputs logs of rv5\n",
        "    true_in_sample = self.data[\"rv5\"].iloc[self.start:self.end]\n",
        "\n",
        "    out_of_sample_pred = self.forecast(key)\n",
        "    true_out_of_sample = self.data[\"rv5\"].iloc[self.end:self.end+self.term]\n",
        "\n",
        "    if loss_type == 'mse':\n",
        "      in_sample_mse = (true_in_sample - in_sample_pred) ** 2\n",
        "      out_of_sample_mse = (true_out_of_sample - out_of_sample_pred) ** 2\n",
        "\n",
        "      return [np.array([in_sample_mse]).flatten(), np.array([out_of_sample_mse]).flatten()]\n",
        "\n",
        "    elif loss_type == 'qlike':\n",
        "      in_sample_qlike = qlike(true_in_sample, in_sample_pred)\n",
        "      out_of_sample_qlike = qlike(true_out_of_sample, out_of_sample_pred)\n",
        "\n",
        "      return [np.array([in_sample_qlike]).flatten(), np.array([out_of_sample_qlike]).flatten()]\n",
        "\n",
        "    else:\n",
        "      in_sample_mse = (true_in_sample - in_sample_pred) ** 2\n",
        "      out_of_sample_mse = (true_out_of_sample - out_of_sample_pred) ** 2\n",
        "\n",
        "      in_sample_qlike = qlike(true_in_sample, in_sample_pred)\n",
        "      out_of_sample_qlike = qlike(true_out_of_sample, out_of_sample_pred)\n",
        "\n",
        "      return [np.array([in_sample_mse]).flatten(), np.array([in_sample_qlike]).flatten() , np.array([out_of_sample_mse]).flatten(), np.array([out_of_sample_qlike]).flatten()]"
      ]
    },
    {
      "cell_type": "markdown",
      "metadata": {
        "id": "W8XJIeFulkIk"
      },
      "source": [
        "#### Testing CNN"
      ]
    },
    {
      "cell_type": "code",
      "execution_count": 27,
      "metadata": {
        "colab": {
          "base_uri": "https://localhost:8080/"
        },
        "id": "T-PXx4G4DF0p",
        "outputId": "652037fc-ddb3-4cf5-a121-6912926d1a2b"
      },
      "outputs": [
        {
          "name": "stdout",
          "output_type": "stream",
          "text": [
            "1/1 [==============================] - 0s 90ms/step\n"
          ]
        },
        {
          "data": {
            "text/plain": [
              "array([3.7222220e-05, 3.8053717e-05, 3.8209433e-05, 3.9254523e-05,\n",
              "       3.6815949e-05], dtype=float32)"
            ]
          },
          "execution_count": 27,
          "metadata": {},
          "output_type": "execute_result"
        }
      ],
      "source": [
        "# check if it is working well\n",
        "CNN(FTSE_data, 4200, 4100).forecast('w')"
      ]
    },
    {
      "cell_type": "code",
      "execution_count": 28,
      "metadata": {
        "colab": {
          "base_uri": "https://localhost:8080/"
        },
        "id": "py4BZsqtDGTQ",
        "outputId": "afd98037-e893-4136-d234-08fa742bacd4"
      },
      "outputs": [
        {
          "name": "stdout",
          "output_type": "stream",
          "text": [
            "144/144 [==============================] - 0s 2ms/step\n",
            "1/1 [==============================] - 0s 51ms/step\n"
          ]
        },
        {
          "data": {
            "text/plain": [
              "[array([-7.60127735, -8.35623181, -7.41752723, ..., -8.90829724,\n",
              "        -8.80480893, -8.82895681]),\n",
              " array([-9.42953746])]"
            ]
          },
          "execution_count": 28,
          "metadata": {},
          "output_type": "execute_result"
        }
      ],
      "source": [
        "# check if it is working properly\n",
        "CNN(AEX_data, 4700, 4600).loss('d', 'qlike')"
      ]
    },
    {
      "cell_type": "code",
      "execution_count": 29,
      "metadata": {
        "colab": {
          "base_uri": "https://localhost:8080/"
        },
        "id": "MfWZmTc6DGaT",
        "outputId": "55ea1ed3-70d0-46b8-b8e9-d6c877191f73"
      },
      "outputs": [
        {
          "name": "stdout",
          "output_type": "stream",
          "text": [
            "125/125 [==============================] - 0s 2ms/step\n",
            "1/1 [==============================] - 0s 93ms/step\n",
            "1.0187337305226051e-07\n",
            "-7.544821649482004\n",
            "5.634102694743578e-10\n",
            "-9.551069135040505\n"
          ]
        }
      ],
      "source": [
        "# check if it is working properly\n",
        "evaluations = CNN(DAX_data, 4300, 4000).loss('m', 'both')\n",
        "for evaluation in evaluations:\n",
        "  print(np.mean(evaluation))"
      ]
    },
    {
      "cell_type": "markdown",
      "metadata": {
        "id": "GUFUmN2eDRVC"
      },
      "source": [
        "## LSTM"
      ]
    },
    {
      "cell_type": "code",
      "execution_count": 30,
      "metadata": {
        "id": "MCgJ6e7BEGNa"
      },
      "outputs": [],
      "source": [
        "class LSTM():\n",
        "  \"\"\"\n",
        "  Trains model to compute forecasts of an LSTM recurrent NN\n",
        "  \"\"\"\n",
        "\n",
        "  def __init__(self, data, time, time_frame):\n",
        "    \"\"\"\n",
        "    data -> str: index of data we want to use (eg. '.FTSE', '.AEX')\n",
        "    time -> int: index of first day not used in forecasting\n",
        "    time_frame -> int: length of the rolling window for forecasting\n",
        "    \"\"\"\n",
        "\n",
        "    self.data = data\n",
        "    self.start = time - time_frame\n",
        "    self.end = time\n",
        "    with tf.device(device_name):\n",
        "      self.model = None\n",
        "\n",
        "    # initialize term to which assign value later\n",
        "    self.term = -1\n",
        "\n",
        "  def _architecture(self):\n",
        "    \"Define the model architecture\"\n",
        "\n",
        "    # long short term memory architecture (recurrent neural network)\n",
        "    with tf.device('/GPU:0'):\n",
        "      f = keras.Sequential([\n",
        "        keras.layers.LSTM(20, return_sequences=True, input_shape=(22,1)),\n",
        "        keras.layers.LSTM(20),\n",
        "        keras.layers.Dense(1)  # output layer, linear activation\n",
        "        ])\n",
        "\n",
        "      self.model = f\n",
        "\n",
        "  def train(self):\n",
        "    \"Compile and fit the model\"\n",
        "\n",
        "    with tf.device(device_name):\n",
        "      self._architecture()\n",
        "\n",
        "    inputs = np.array([self.data[[\"log_t\"]].iloc[i-22:i] for i in range(self.start, self.end)])\n",
        "    true_values = self.data[\"log_t\"].iloc[self.start:self.end]\n",
        "\n",
        "    lr = 0.005  # learning rate\n",
        "\n",
        "    # Create an instance of the Adam optimizer with the desired learning rate\n",
        "    optim = keras.optimizers.Adam(learning_rate=lr)\n",
        "\n",
        "    ep = 30  # number of epochs\n",
        "\n",
        "    for i in range(int(ep / 10)):\n",
        "\n",
        "      # Compile the model\n",
        "      with tf.device(device_name):\n",
        "        self.model.compile(optimizer=optim, loss='mse')\n",
        "      self.model.fit(inputs, true_values, batch_size=100, epochs=10, verbose=False, validation_split=1/8)\n",
        "\n",
        "  def forecast(self, key):\n",
        "    \"Returns the predicted rv5 for 1-day/1-week/1-month ahead forecast, where \\\n",
        "     'key' represents the type of forecast\"\n",
        "\n",
        "    if self.model == None:\n",
        "      with tf.device(device_name):\n",
        "        self.train()\n",
        "\n",
        "    if key in {\"d\", \"day\"}:\n",
        "      # the predict_array represents the array with the inputs which we feed into the model for forecasting\n",
        "      predict_array = np.array([self.data[[\"log_t\"]].iloc[self.end-22: self.end]])\n",
        "      self.term = 1\n",
        "\n",
        "    elif key in {\"w\", \"week\"}:\n",
        "      predict_array = np.array([self.data[[\"log_t\"]].iloc[i-22:i] for i in range(self.end,self.end+5)])\n",
        "      self.term = 5\n",
        "\n",
        "    elif key in {\"m\", \"month\"}:\n",
        "      predict_array = np.array([self.data[[\"log_t\"]].iloc[i-22:i] for i in range(self.end,self.end+22)])\n",
        "      self.term = 22\n",
        "\n",
        "    else:\n",
        "      raise ValueError('Value of key must be \"day\"/\"week\"/\"month\"')\n",
        "\n",
        "    return np.exp(self.model.predict(predict_array)).flatten()\n",
        "\n",
        "  def loss(self, key, loss_type='both'):\n",
        "    \"\"\"\n",
        "    Returns sequences of in-sample and out-of-sample squared error and QLIKE losses for the one trained model\n",
        "    \"\"\"\n",
        "\n",
        "    if self.model == None:\n",
        "      with tf.device(device_name):\n",
        "        self.train()\n",
        "\n",
        "    in_sample_arr = np.array([self.data[[\"log_t\"]].iloc[i-22:i] for i in range(self.start,self.end)])\n",
        "    in_sample_pred = np.exp(self.model.predict(in_sample_arr)[0])  # the NN outputs logs of rv5\n",
        "    true_in_sample = self.data[\"rv5\"].iloc[self.start:self.end]\n",
        "\n",
        "    out_of_sample_pred = self.forecast(key)\n",
        "    true_out_of_sample = self.data[\"rv5\"].iloc[self.end:self.end+self.term]\n",
        "\n",
        "    if loss_type == 'mse':\n",
        "      in_sample_mse = (true_in_sample - in_sample_pred) ** 2\n",
        "      out_of_sample_mse = (true_out_of_sample - out_of_sample_pred) ** 2\n",
        "\n",
        "      return [np.array([in_sample_mse]).flatten(), np.array([out_of_sample_mse]).flatten()]\n",
        "\n",
        "    elif loss_type == 'qlike':\n",
        "      in_sample_qlike = qlike(true_in_sample, in_sample_pred)\n",
        "      out_of_sample_qlike = qlike(true_out_of_sample, out_of_sample_pred)\n",
        "\n",
        "      return [np.array([in_sample_qlike]).flatten(), np.array([out_of_sample_qlike]).flatten()]\n",
        "\n",
        "    else:\n",
        "      in_sample_mse = (true_in_sample - in_sample_pred) ** 2\n",
        "      out_of_sample_mse = (true_out_of_sample - out_of_sample_pred) ** 2\n",
        "\n",
        "      in_sample_qlike = qlike(true_in_sample, in_sample_pred)\n",
        "      out_of_sample_qlike = qlike(true_out_of_sample, out_of_sample_pred)\n",
        "\n",
        "      return [np.array([in_sample_mse]).flatten(), np.array([in_sample_qlike]).flatten() , np.array([out_of_sample_mse]).flatten(), np.array([out_of_sample_qlike]).flatten()]"
      ]
    },
    {
      "cell_type": "markdown",
      "metadata": {
        "id": "xYb-kD9ZmCQX"
      },
      "source": [
        "#### Testing LSTM"
      ]
    },
    {
      "cell_type": "code",
      "execution_count": 31,
      "metadata": {
        "colab": {
          "base_uri": "https://localhost:8080/"
        },
        "id": "uLl6TcjNFcOx",
        "outputId": "365f8b72-7219-4445-d1a0-fb600647acb5"
      },
      "outputs": [
        {
          "name": "stdout",
          "output_type": "stream",
          "text": [
            "1/1 [==============================] - 1s 586ms/step\n"
          ]
        },
        {
          "data": {
            "text/plain": [
              "array([3.5483434e-05, 4.2060412e-05, 5.3890566e-05, 4.6780984e-05,\n",
              "       4.0527178e-05], dtype=float32)"
            ]
          },
          "execution_count": 31,
          "metadata": {},
          "output_type": "execute_result"
        }
      ],
      "source": [
        "# check if it is working well\n",
        "LSTM(FTSE_data, 4200, 4100).forecast('w')"
      ]
    },
    {
      "cell_type": "code",
      "execution_count": 32,
      "metadata": {
        "colab": {
          "base_uri": "https://localhost:8080/"
        },
        "id": "pMxDXKOIFe-D",
        "outputId": "2ff89f9b-77be-4fd9-8e50-ab5cb6557673"
      },
      "outputs": [
        {
          "name": "stdout",
          "output_type": "stream",
          "text": [
            "144/144 [==============================] - 1s 4ms/step\n",
            "1/1 [==============================] - 0s 26ms/step\n"
          ]
        },
        {
          "data": {
            "text/plain": [
              "[array([-7.59899829, -8.35747802, -7.41439014, ..., -8.91212133,\n",
              "        -8.80814979, -8.83241042]),\n",
              " array([-9.43338415])]"
            ]
          },
          "execution_count": 32,
          "metadata": {},
          "output_type": "execute_result"
        }
      ],
      "source": [
        "# check if it is working properly\n",
        "LSTM(AEX_data, 4700, 4600).loss('d', 'qlike')"
      ]
    },
    {
      "cell_type": "code",
      "execution_count": 33,
      "metadata": {
        "colab": {
          "base_uri": "https://localhost:8080/"
        },
        "id": "04R43SGrFhb1",
        "outputId": "90fbb6e7-58a1-4213-8637-e3759b7cb3c6"
      },
      "outputs": [
        {
          "name": "stdout",
          "output_type": "stream",
          "text": [
            "125/125 [==============================] - 1s 3ms/step\n",
            "1/1 [==============================] - 1s 952ms/step\n",
            "1.079039217077389e-07\n",
            "-7.24440083672246\n",
            "4.3148880438634327e-10\n",
            "-9.59418531177762\n"
          ]
        }
      ],
      "source": [
        "# check if it is working properly\n",
        "evaluations = LSTM(DAX_data, 4300, 4000).loss('m', 'both')\n",
        "for evaluation in evaluations:\n",
        "  print(np.mean(evaluation))"
      ]
    },
    {
      "cell_type": "markdown",
      "metadata": {
        "id": "YbVVUBhnFkZL"
      },
      "source": [
        "## GRU"
      ]
    },
    {
      "cell_type": "code",
      "execution_count": 34,
      "metadata": {
        "id": "3aKQ5d6zJLZG"
      },
      "outputs": [],
      "source": [
        "class GRU():\n",
        "  \"\"\"\n",
        "  Trains model to compute forecasts of a GRU recurrent NN\n",
        "  \"\"\"\n",
        "\n",
        "  def __init__(self, data, time, time_frame):\n",
        "    \"\"\"\n",
        "    data -> str: index of data we want to use (eg. '.FTSE', '.AEX')\n",
        "    time -> int: index of first day not used in forecasting\n",
        "    time_frame -> int: length of the rolling window for forecasting\n",
        "    \"\"\"\n",
        "\n",
        "    self.data = data\n",
        "    self.start = time - time_frame\n",
        "    self.end = time\n",
        "    with tf.device(device_name):\n",
        "      self.model = None\n",
        "\n",
        "    # initialize term to which assign value later\n",
        "    self.term = -1\n",
        "\n",
        "  def _architecture(self):\n",
        "    \"Define the model architecture\"\n",
        "\n",
        "    # gated recurrent unit (GRU)\n",
        "    with tf.device('/GPU:0'):\n",
        "      f = keras.Sequential([\n",
        "        keras.layers.GRU(20, return_sequences=True, input_shape=(22,1)),\n",
        "        keras.layers.GRU(20),\n",
        "        keras.layers.Dense(1)  # output layer, linear activation\n",
        "        ])\n",
        "\n",
        "      self.model = f\n",
        "\n",
        "  def train(self):\n",
        "    \"Compile and fit the model\"\n",
        "\n",
        "    with tf.device(device_name):\n",
        "      self._architecture()\n",
        "\n",
        "    inputs = np.array([self.data[[\"log_t\"]].iloc[i-22:i] for i in range(self.start, self.end)])\n",
        "    true_values = self.data[\"log_t\"].iloc[self.start:self.end]\n",
        "\n",
        "    lr = 0.005  # learning rate\n",
        "\n",
        "    # Create an instance of the Adam optimizer with the desired learning rate\n",
        "    optim = keras.optimizers.Adam(learning_rate=lr)\n",
        "\n",
        "    ep = 30  # number of epochs\n",
        "\n",
        "    for i in range(int(ep / 10)):\n",
        "\n",
        "      # Compile the model\n",
        "      with tf.device(device_name):\n",
        "        self.model.compile(optimizer=optim, loss='mse')\n",
        "      self.model.fit(inputs, true_values, batch_size=100, epochs=10, verbose=False, validation_split=1/8)\n",
        "\n",
        "  def forecast(self, key):\n",
        "    \"Returns the predicted rv5 for 1-day/1-week/1-month ahead forecast, where \\\n",
        "     'key' represents the type of forecast\"\n",
        "\n",
        "    if self.model == None:\n",
        "      with tf.device(device_name):\n",
        "        self.train()\n",
        "\n",
        "    if key in {\"d\", \"day\"}:\n",
        "      # the predict_array represents the array with the inputs which we feed into the model for forecasting\n",
        "      predict_array = np.array([self.data[[\"log_t\"]].iloc[self.end-22: self.end]])\n",
        "      self.term = 1\n",
        "\n",
        "    elif key in {\"w\", \"week\"}:\n",
        "      predict_array = np.array([self.data[[\"log_t\"]].iloc[i-22:i] for i in range(self.end,self.end+5)])\n",
        "      self.term = 5\n",
        "\n",
        "    elif key in {\"m\", \"month\"}:\n",
        "      predict_array = np.array([self.data[[\"log_t\"]].iloc[i-22:i] for i in range(self.end,self.end+22)])\n",
        "      self.term = 22\n",
        "\n",
        "    else:\n",
        "      raise ValueError('Value of key must be \"day\"/\"week\"/\"month\"')\n",
        "\n",
        "    return np.exp(self.model.predict(predict_array)).flatten()\n",
        "\n",
        "  def loss(self, key, loss_type='both'):\n",
        "    \"\"\"\n",
        "    Returns sequences of in-sample and out-of-sample squared error and QLIKE losses for the one trained model\n",
        "    \"\"\"\n",
        "\n",
        "    if self.model == None:\n",
        "      with tf.device(device_name):\n",
        "        self.train()\n",
        "\n",
        "    in_sample_arr = np.array([self.data[[\"log_t\"]].iloc[i-22:i] for i in range(self.start,self.end)])\n",
        "    in_sample_pred = np.exp(self.model.predict(in_sample_arr)[0])  # the NN outputs logs of rv5\n",
        "    true_in_sample = self.data[\"rv5\"].iloc[self.start:self.end]\n",
        "\n",
        "    out_of_sample_pred = self.forecast(key)\n",
        "    true_out_of_sample = self.data[\"rv5\"].iloc[self.end:self.end+self.term]\n",
        "\n",
        "    if loss_type == 'mse':\n",
        "      in_sample_mse = (true_in_sample - in_sample_pred) ** 2\n",
        "      out_of_sample_mse = (true_out_of_sample - out_of_sample_pred) ** 2\n",
        "\n",
        "      return [np.array([in_sample_mse]).flatten(), np.array([out_of_sample_mse]).flatten()]\n",
        "\n",
        "    elif loss_type == 'qlike':\n",
        "      in_sample_qlike = qlike(true_in_sample, in_sample_pred)\n",
        "      out_of_sample_qlike = qlike(true_out_of_sample, out_of_sample_pred)\n",
        "\n",
        "      return [np.array([in_sample_qlike]).flatten(), np.array([out_of_sample_qlike]).flatten()]\n",
        "\n",
        "    else:\n",
        "      in_sample_mse = (true_in_sample - in_sample_pred) ** 2\n",
        "      out_of_sample_mse = (true_out_of_sample - out_of_sample_pred) ** 2\n",
        "\n",
        "      in_sample_qlike = qlike(true_in_sample, in_sample_pred)\n",
        "      out_of_sample_qlike = qlike(true_out_of_sample, out_of_sample_pred)\n",
        "\n",
        "      return [np.array([in_sample_mse]).flatten(), np.array([in_sample_qlike]).flatten() , np.array([out_of_sample_mse]).flatten(), np.array([out_of_sample_qlike]).flatten()]"
      ]
    },
    {
      "cell_type": "markdown",
      "metadata": {
        "id": "QmBQTNvwmI9_"
      },
      "source": [
        "#### Testing GRU"
      ]
    },
    {
      "cell_type": "code",
      "execution_count": 35,
      "metadata": {
        "colab": {
          "base_uri": "https://localhost:8080/"
        },
        "id": "cRPEHGv4Jea2",
        "outputId": "1808693a-e4ec-4f60-f696-f6037c8ddfed"
      },
      "outputs": [
        {
          "name": "stdout",
          "output_type": "stream",
          "text": [
            "1/1 [==============================] - 1s 514ms/step\n"
          ]
        },
        {
          "data": {
            "text/plain": [
              "array([3.0729501e-05, 3.8516606e-05, 4.9371378e-05, 3.8243994e-05,\n",
              "       3.5208170e-05], dtype=float32)"
            ]
          },
          "execution_count": 35,
          "metadata": {},
          "output_type": "execute_result"
        }
      ],
      "source": [
        "# check if it is working well\n",
        "GRU(FTSE_data, 4200, 4100).forecast('w')"
      ]
    },
    {
      "cell_type": "code",
      "execution_count": 36,
      "metadata": {
        "colab": {
          "base_uri": "https://localhost:8080/"
        },
        "id": "S_KN87-ZJera",
        "outputId": "48965d8b-f865-41dc-8a5a-56e8335d8a19"
      },
      "outputs": [
        {
          "name": "stdout",
          "output_type": "stream",
          "text": [
            "144/144 [==============================] - 1s 3ms/step\n",
            "1/1 [==============================] - 0s 28ms/step\n"
          ]
        },
        {
          "data": {
            "text/plain": [
              "[array([-7.62356802, -8.34199798, -7.44870769, ..., -8.86735462,\n",
              "        -8.76887305, -8.79185266]),\n",
              " array([-9.43054002])]"
            ]
          },
          "execution_count": 36,
          "metadata": {},
          "output_type": "execute_result"
        }
      ],
      "source": [
        "# check if it is working properly\n",
        "GRU(AEX_data, 4700, 4600).loss('d', 'qlike')"
      ]
    },
    {
      "cell_type": "code",
      "execution_count": 37,
      "metadata": {
        "colab": {
          "base_uri": "https://localhost:8080/"
        },
        "id": "B2s9jIBvJe0K",
        "outputId": "85339d7c-e933-43f1-b7c5-abb5c29e333b"
      },
      "outputs": [
        {
          "name": "stdout",
          "output_type": "stream",
          "text": [
            "125/125 [==============================] - 1s 3ms/step\n",
            "1/1 [==============================] - 1s 763ms/step\n",
            "1.0691731460435465e-07\n",
            "-7.310337570665485\n",
            "4.813244399725918e-10\n",
            "-9.58104445194008\n"
          ]
        }
      ],
      "source": [
        "# check if it is working properly\n",
        "evaluations = GRU(DAX_data, 4300, 4000).loss('m', 'both')\n",
        "for evaluation in evaluations:\n",
        "  print(np.mean(evaluation))"
      ]
    },
    {
      "cell_type": "markdown",
      "metadata": {
        "id": "64-dFcUjSMdH"
      },
      "source": [
        "# Implement function to evaluate the squared error and QLIKE losses for entire period of time"
      ]
    },
    {
      "cell_type": "code",
      "execution_count": 38,
      "metadata": {
        "id": "03S4GxTesWar"
      },
      "outputs": [],
      "source": [
        "class Evaluate():\n",
        "  \"\"\"\n",
        "  Given a model used for forecasting and the set of the actual values of data, \\\n",
        "  returns sequences of losses for all days after the initial training window\n",
        "  \"\"\"\n",
        "\n",
        "  def __init__(self, data, model, key, window):\n",
        "    \"\"\"\n",
        "    data -> actual values\n",
        "    model -> eg. HAR class (must have method 'predict')\n",
        "    key -> type of forecast: day/week/month\n",
        "    window -> the length of the rolling window\n",
        "    \"\"\"\n",
        "    self.data = data\n",
        "    self.model = model\n",
        "    self.key = key\n",
        "    self.window = window\n",
        "\n",
        "  def split2(self, lists):\n",
        "    \"Given a list of lists of 2 arrays, returns concatenations done on columns\"\n",
        "\n",
        "    arr1, arr2 = np.array([]), np.array([])  # initalize empty arrays\n",
        "\n",
        "    for sublist in lists:\n",
        "      arr1 = np.append(arr1, sublist[0])\n",
        "      arr2 = np.append(arr2, sublist[1])\n",
        "\n",
        "    return [arr1, arr2]\n",
        "\n",
        "  def split4(self, lists):\n",
        "    \"Given a list of lists of 4 arrays, returns concatenations done on columns\"\n",
        "\n",
        "    # Initalize empty arrays\n",
        "    arr1, arr2, arr3, arr4 = np.array([]), np.array([]), np.array([]), np.array([])\n",
        "\n",
        "    for sublist in lists:\n",
        "      arr1 = np.append(arr1, sublist[0])\n",
        "      arr2 = np.append(arr2, sublist[1])\n",
        "      arr3 = np.append(arr3, sublist[2])\n",
        "      arr4 = np.append(arr4, sublist[3])\n",
        "\n",
        "    return [arr1, arr2, arr3, arr4]\n",
        "\n",
        "  def _pred_indices(self):\n",
        "    \"Returns the indices where we need to fit model\"\n",
        "    if self.key in {\"d\", \"day\"}:\n",
        "      prediction_indices = np.arange(self.window + 1, len(self.data) - 1)\n",
        "      term = 1\n",
        "    elif self.key in {\"w\", \"week\"}:\n",
        "      prediction_indices = np.arange(self.window + 5, len(self.data) - 5, 5)\n",
        "      term = 5\n",
        "    elif self.key in {\"m\", \"month\"}:\n",
        "      prediction_indices = np.arange(self.window + 22, len(self.data) - 22, 22)\n",
        "      term = 22\n",
        "    else:\n",
        "      raise ValueError('Value of key must be \"day\"/\"week\"/\"month\"')\n",
        "\n",
        "    return (prediction_indices, term)\n",
        "\n",
        "  def total(self, loss_type='both'):\n",
        "\n",
        "    prediction_indices, term = self._pred_indices()\n",
        "\n",
        "    loss_list = [self.model(self.data, ind, self.window).loss(self.key, loss_type) for ind in prediction_indices]\n",
        "\n",
        "    if loss_type in {'mse', 'qlike'}:\n",
        "      return self.split2(loss_list)\n",
        "\n",
        "    else:\n",
        "      return self.split4(loss_list)\n",
        "\n",
        "  def partial_evaluate_indices(self, partial_start, partial_stop):\n",
        "    \"Evaluates model only in the specified time interval\"\n",
        "    if self.key in {\"d\", \"day\"}:\n",
        "      prediction_indices = np.arange(partial_start, partial_stop)\n",
        "      term = 1\n",
        "    elif self.key in {\"w\", \"week\"}:\n",
        "      prediction_indices = np.arange(partial_start, partial_stop, 5)\n",
        "      term = 5\n",
        "    elif self.key in {\"m\", \"month\"}:\n",
        "      prediction_indices = np.arange(partial_start, partial_stop, 22)\n",
        "      term = 22\n",
        "    else:\n",
        "      raise ValueError('Value of key must be \"day\"/\"week\"/\"month\"')\n",
        "\n",
        "    return (prediction_indices, term)\n",
        "\n",
        "  def partial(self, partial_start, partial_stop, loss_type='both'):\n",
        "    \"Returns the sequences of loss differentials for the specified time interval\"\n",
        "\n",
        "    partial_ind, term = self.partial_evaluate_indices(partial_start, partial_stop)\n",
        "\n",
        "    loss_list = [self.model(self.data, ind, self.window).loss(self.key, loss_type) for ind in partial_ind]\n",
        "\n",
        "    if loss_type in {'mse', 'qlike'}:\n",
        "      return self.split2(loss_list)\n",
        "\n",
        "    else:\n",
        "      return self.split4(loss_list)"
      ]
    },
    {
      "cell_type": "markdown",
      "metadata": {
        "id": "kZnqyVEqqgeg"
      },
      "source": [
        "#### Test the partial evaluation method"
      ]
    },
    {
      "cell_type": "code",
      "execution_count": 39,
      "metadata": {
        "colab": {
          "base_uri": "https://localhost:8080/"
        },
        "id": "gFwyMLSL69m6",
        "outputId": "f2a88898-817c-48d0-ae21-ce6526bf0e98"
      },
      "outputs": [
        {
          "name": "stdout",
          "output_type": "stream",
          "text": [
            "[array([7.48004060e-10, 1.62303283e-09, 4.01545457e-11, ...,\n",
            "       5.53843925e-09, 1.35021128e-09, 1.03241969e-10]), array([-8.31051892, -9.13931359, -9.02448997, ..., -8.74977482,\n",
            "       -9.04568664, -8.84078283]), array([1.69041100e-09, 1.18983962e-09, 2.03673792e-09, 4.31358045e-09,\n",
            "       2.37004535e-09, 1.67755684e-08, 5.55256022e-09, 1.35334497e-09,\n",
            "       1.02852519e-10, 2.75018629e-10]), array([-8.80857077, -8.861308  , -7.91133232, -8.82469426, -9.24959023,\n",
            "       -6.44730898, -8.7492203 , -9.04538597, -8.84083251, -8.76718595])]\n",
            "5.4573484746170226e-08\n",
            "-8.47342304513151\n",
            "3.565995912080368e-09\n",
            "-8.550542929558123\n"
          ]
        }
      ],
      "source": [
        "# Check if it is working well\n",
        "evaluations = Evaluate(FTSE_data, HAR, \"d\", 3000).partial(4100, 4110, 'both')\n",
        "print(evaluations)\n",
        "for evaluation in evaluations:\n",
        "  print(np.mean(evaluation))"
      ]
    },
    {
      "cell_type": "code",
      "execution_count": 40,
      "metadata": {
        "colab": {
          "base_uri": "https://localhost:8080/"
        },
        "id": "haw2Um6W2ule",
        "outputId": "bd4ac910-5bb9-40e5-f6b5-221196603ab0"
      },
      "outputs": [
        {
          "name": "stdout",
          "output_type": "stream",
          "text": [
            "138/138 [==============================] - 0s 1ms/step\n",
            "1/1 [==============================] - 0s 17ms/step\n",
            "[array([4.79663335e-09, 2.60698984e-10, 8.10799158e-09, ...,\n",
            "       4.93616599e-09, 5.40975964e-09, 7.32603299e-09]), array([-7.52137419, -8.3856429 , -7.31101782, ..., -8.93324116,\n",
            "       -8.96656777, -9.08842186]), array([5.75836781e-11, 1.94227004e-10, 5.78738848e-11, 6.83668923e-11,\n",
            "       4.22304107e-10, 4.01645089e-10, 4.13433442e-11, 4.45765601e-12,\n",
            "       2.30224418e-11, 5.85193419e-11, 1.40172352e-11, 9.76408132e-11,\n",
            "       7.08754783e-11, 6.50760139e-11, 3.05676928e-11, 8.86479637e-12,\n",
            "       9.08966833e-12, 3.37110486e-11, 1.89722163e-10, 2.71491738e-11,\n",
            "       1.08118978e-11, 7.35856598e-13]), array([ -9.52477577, -10.20576793,  -9.6151572 ,  -9.32744297,\n",
            "        -8.7531976 ,  -9.82824233, -10.27341255, -10.22811528,\n",
            "       -10.3256496 ,  -9.60261256,  -9.88766868,  -9.32690382,\n",
            "        -9.86578929, -10.28220723, -10.55461921, -10.57567342,\n",
            "       -10.05516889,  -9.64098019, -10.37689262, -10.83033187,\n",
            "       -10.846953  , -10.43743963])]\n",
            "4.329720681447687e-08\n",
            "-7.998175371518295\n",
            "8.580023987753976e-11\n",
            "-10.016590984953153\n"
          ]
        }
      ],
      "source": [
        "# check if it is working well\n",
        "evaluations =  Evaluate(AEX_data, FNN_HAR, 'm', 4400).partial(4500, 4510,'both')\n",
        "print(evaluations)\n",
        "for evaluation in evaluations:\n",
        "  print(np.mean(evaluation))"
      ]
    },
    {
      "cell_type": "code",
      "execution_count": 41,
      "metadata": {
        "colab": {
          "base_uri": "https://localhost:8080/"
        },
        "id": "GEYFoHo9qsyX",
        "outputId": "c79ca99e-19e7-493a-83c8-4aad869ea06f"
      },
      "outputs": [
        {
          "name": "stdout",
          "output_type": "stream",
          "text": [
            "94/94 [==============================] - 0s 2ms/step\n",
            "1/1 [==============================] - 0s 17ms/step\n",
            "94/94 [==============================] - 0s 2ms/step\n",
            "1/1 [==============================] - 0s 19ms/step\n",
            "94/94 [==============================] - 0s 2ms/step\n",
            "1/1 [==============================] - 0s 17ms/step\n",
            "94/94 [==============================] - 0s 2ms/step\n",
            "1/1 [==============================] - 0s 17ms/step\n",
            "94/94 [==============================] - 0s 2ms/step\n",
            "1/1 [==============================] - 0s 18ms/step\n",
            "94/94 [==============================] - 0s 2ms/step\n",
            "1/1 [==============================] - 0s 17ms/step\n",
            "94/94 [==============================] - 0s 3ms/step\n",
            "1/1 [==============================] - 0s 26ms/step\n",
            "94/94 [==============================] - 0s 2ms/step\n",
            "1/1 [==============================] - 0s 19ms/step\n",
            "94/94 [==============================] - 0s 2ms/step\n",
            "1/1 [==============================] - 0s 20ms/step\n",
            "94/94 [==============================] - 0s 3ms/step\n",
            "1/1 [==============================] - 0s 17ms/step\n",
            "[array([1.76337384e-09, 1.11159546e-10, 1.23789377e-11, ...,\n",
            "       6.44050527e-11, 2.57716527e-11, 4.88779020e-10]), array([-8.07726133, -9.37765202, -9.02959265, ..., -9.13839415,\n",
            "       -9.23556434, -8.67430619]), array([9.77791825e-10, 1.59829959e-11, 3.11104360e-09, 1.62955032e-09,\n",
            "       1.10371652e-09, 1.71747911e-08, 9.87247979e-10, 6.58372225e-10,\n",
            "       9.85185982e-12, 2.05305966e-10]), array([-8.86033684, -8.99013153, -7.78955115, -8.99009816, -9.41004711,\n",
            "       -6.37882206, -9.02020419, -9.1233865 , -8.85391665, -8.74922614])]\n",
            "9.65467035166675e-08\n",
            "-6.944331189268673\n",
            "2.5873654371265837e-09\n",
            "-8.616572032114245\n"
          ]
        }
      ],
      "source": [
        "# Check if it is working well\n",
        "evaluations = Evaluate(FTSE_data, FNN, \"d\", 3000).partial(4100, 4110, 'both')\n",
        "print(evaluations)\n",
        "for evaluation in evaluations:\n",
        "  print(np.mean(evaluation))"
      ]
    },
    {
      "cell_type": "code",
      "execution_count": 42,
      "metadata": {
        "colab": {
          "base_uri": "https://localhost:8080/"
        },
        "id": "bDVV8UXgq2n9",
        "outputId": "6ca11ca5-09db-467f-9ae5-afc115978046"
      },
      "outputs": [
        {
          "name": "stdout",
          "output_type": "stream",
          "text": [
            "94/94 [==============================] - 0s 2ms/step\n",
            "1/1 [==============================] - 0s 26ms/step\n",
            "94/94 [==============================] - 0s 2ms/step\n",
            "1/1 [==============================] - 0s 17ms/step\n",
            "94/94 [==============================] - 0s 2ms/step\n",
            "1/1 [==============================] - 0s 16ms/step\n",
            "94/94 [==============================] - 0s 2ms/step\n",
            "1/1 [==============================] - 0s 24ms/step\n",
            "94/94 [==============================] - 0s 2ms/step\n",
            "1/1 [==============================] - 0s 17ms/step\n",
            "94/94 [==============================] - 0s 2ms/step\n",
            "1/1 [==============================] - 0s 25ms/step\n",
            "94/94 [==============================] - 0s 2ms/step\n",
            "1/1 [==============================] - 0s 17ms/step\n",
            "94/94 [==============================] - 0s 2ms/step\n",
            "1/1 [==============================] - 0s 18ms/step\n",
            "94/94 [==============================] - 0s 2ms/step\n",
            "1/1 [==============================] - 0s 16ms/step\n",
            "94/94 [==============================] - 0s 2ms/step\n",
            "1/1 [==============================] - 0s 17ms/step\n",
            "[array([2.13257431e-09, 4.03982747e-11, 5.93767412e-11, ...,\n",
            "       5.96961383e-15, 9.15643577e-12, 1.96162662e-10]), array([-7.95086308, -9.40161728, -9.01331199, ..., -9.16820734,\n",
            "       -9.24489999, -8.80192078]), array([5.92089474e-10, 1.24658629e-09, 2.21295671e-09, 1.77110717e-09,\n",
            "       3.24306634e-09, 1.35015008e-08, 1.10245390e-09, 9.93006839e-10,\n",
            "       2.09708823e-10, 1.00026032e-11]), array([-8.89502766, -8.85693984, -7.89393553, -8.97851119, -9.17128262,\n",
            "       -6.88811768, -9.00867535, -9.08258954, -8.82813096, -8.79703187])]\n",
            "9.614964007720868e-08\n",
            "-7.136996045014239\n",
            "2.4882478894600586e-09\n",
            "-8.640024224706725\n"
          ]
        }
      ],
      "source": [
        "# Check if it is working well\n",
        "evaluations = Evaluate(FTSE_data, CNN, \"d\", 3000).partial(4100, 4110, 'both')\n",
        "print(evaluations)\n",
        "for evaluation in evaluations:\n",
        "  print(np.mean(evaluation))"
      ]
    },
    {
      "cell_type": "code",
      "execution_count": 43,
      "metadata": {
        "colab": {
          "base_uri": "https://localhost:8080/"
        },
        "id": "Ij-lqsCorAgZ",
        "outputId": "c79a08e1-d7b4-42cb-b1aa-badf7cb69da3"
      },
      "outputs": [
        {
          "name": "stdout",
          "output_type": "stream",
          "text": [
            "94/94 [==============================] - 1s 4ms/step\n",
            "1/1 [==============================] - 0s 29ms/step\n",
            "94/94 [==============================] - 1s 3ms/step\n",
            "1/1 [==============================] - 0s 18ms/step\n",
            "94/94 [==============================] - 1s 3ms/step\n",
            "1/1 [==============================] - 0s 18ms/step\n",
            "94/94 [==============================] - 1s 3ms/step\n",
            "1/1 [==============================] - 0s 18ms/step\n",
            "94/94 [==============================] - 1s 3ms/step\n",
            "1/1 [==============================] - 0s 19ms/step\n",
            "94/94 [==============================] - 1s 4ms/step\n",
            "1/1 [==============================] - 0s 27ms/step\n",
            "94/94 [==============================] - 1s 3ms/step\n",
            "1/1 [==============================] - 0s 18ms/step\n",
            "94/94 [==============================] - 1s 3ms/step\n",
            "1/1 [==============================] - 0s 20ms/step\n",
            "94/94 [==============================] - 1s 3ms/step\n",
            "1/1 [==============================] - 0s 20ms/step\n",
            "94/94 [==============================] - 1s 4ms/step\n",
            "1/1 [==============================] - 0s 27ms/step\n",
            "[array([1.89504638e-09, 8.10654864e-11, 2.55829271e-11, ...,\n",
            "       1.34304244e-10, 7.46543305e-11, 6.59053751e-10]), array([-8.03531655, -9.38722659, -9.02537768, ..., -9.09506563,\n",
            "       -9.20516559, -8.56922471]), array([3.71252741e-10, 1.90134559e-11, 1.84110819e-09, 1.03281263e-09,\n",
            "       1.07796445e-09, 1.47711448e-08, 1.70482982e-10, 6.45306340e-10,\n",
            "       9.41575593e-11, 1.96168305e-10]), array([-8.91852788, -8.9895224 , -7.92957296, -9.04574874, -9.41432234,\n",
            "       -6.73942213, -9.12921787, -9.12514489, -8.84194983, -8.75189637])]\n",
            "9.606739763102108e-08\n",
            "-7.049378088213517\n",
            "2.0219411451001767e-09\n",
            "-8.68853254072722\n"
          ]
        }
      ],
      "source": [
        "# Check if it is working well\n",
        "evaluations = Evaluate(FTSE_data, LSTM, \"d\", 3000).partial(4100, 4110, 'both')\n",
        "print(evaluations)\n",
        "for evaluation in evaluations:\n",
        "  print(np.mean(evaluation))"
      ]
    },
    {
      "cell_type": "code",
      "execution_count": 44,
      "metadata": {
        "colab": {
          "base_uri": "https://localhost:8080/"
        },
        "id": "wNA-wUlarBN4",
        "outputId": "b87e86cf-df1b-42d1-88cb-b21c420d447d"
      },
      "outputs": [
        {
          "name": "stdout",
          "output_type": "stream",
          "text": [
            "94/94 [==============================] - 1s 3ms/step\n",
            "1/1 [==============================] - 0s 18ms/step\n",
            "94/94 [==============================] - 1s 3ms/step\n",
            "1/1 [==============================] - 0s 26ms/step\n",
            "94/94 [==============================] - 1s 3ms/step\n",
            "1/1 [==============================] - 0s 17ms/step\n",
            "94/94 [==============================] - 1s 3ms/step\n",
            "1/1 [==============================] - 0s 27ms/step\n",
            "94/94 [==============================] - 1s 3ms/step\n",
            "1/1 [==============================] - 0s 17ms/step\n",
            "94/94 [==============================] - 1s 3ms/step\n",
            "1/1 [==============================] - 0s 25ms/step\n",
            "94/94 [==============================] - 1s 3ms/step\n",
            "1/1 [==============================] - 0s 19ms/step\n",
            "94/94 [==============================] - 1s 3ms/step\n",
            "1/1 [==============================] - 0s 18ms/step\n",
            "94/94 [==============================] - 1s 3ms/step\n",
            "1/1 [==============================] - 0s 18ms/step\n",
            "94/94 [==============================] - 1s 2ms/step\n",
            "1/1 [==============================] - 0s 18ms/step\n",
            "[array([2.15622655e-09, 3.72170915e-11, 6.33777274e-11, ...,\n",
            "       5.90392825e-11, 2.24202758e-11, 4.73792443e-10]), array([-7.94178077, -9.40283877, -9.01177558, ..., -9.14127541,\n",
            "       -9.23736402, -8.68235311]), array([2.26171377e-10, 5.01393635e-11, 3.01136689e-09, 1.80116086e-09,\n",
            "       7.46257658e-10, 2.05479228e-08, 8.93259291e-10, 3.19562974e-10,\n",
            "       7.84743028e-12, 2.46575776e-12]), array([-8.93629344, -8.98365557, -7.80254292, -8.97611507, -9.4758041 ,\n",
            "       -5.60174237, -9.03006713, -9.17500006, -8.85424287, -8.79815274])]\n",
            "9.706749906944412e-08\n",
            "-6.755879627119834\n",
            "2.7606154418411794e-09\n",
            "-8.56336162690356\n"
          ]
        }
      ],
      "source": [
        "# Check if it is working well\n",
        "evaluations = Evaluate(FTSE_data, GRU, \"d\", 3000).partial(4100, 4110, 'both')\n",
        "print(evaluations)\n",
        "for evaluation in evaluations:\n",
        "  print(np.mean(evaluation))"
      ]
    },
    {
      "cell_type": "markdown",
      "metadata": {
        "id": "0wrU-Kh_qx28"
      },
      "source": [
        "#### Test the total evaluation method"
      ]
    },
    {
      "cell_type": "code",
      "execution_count": 45,
      "metadata": {
        "colab": {
          "base_uri": "https://localhost:8080/"
        },
        "id": "n6reZfVOrHil",
        "outputId": "b7012113-e08f-4bb8-da20-e0b00fcba504"
      },
      "outputs": [
        {
          "name": "stdout",
          "output_type": "stream",
          "text": [
            "[array([6.51916656e-08, 2.58883220e-10, 4.96520877e-08, ...,\n",
            "       1.37085481e-10, 3.21095489e-11, 1.93439589e-10]), array([ -7.15912233,  -6.85153723,  -6.20702165, ..., -10.32636652,\n",
            "       -10.18733967, -10.46895068]), array([7.19139408e-10, 2.58726224e-10, 1.40236262e-10, ...,\n",
            "       1.35064627e-09, 4.17762832e-12, 1.66746614e-10]), array([-9.49489489, -8.84778199, -9.2795719 , ..., -9.36417858,\n",
            "       -9.03761743, -8.59363404])]\n",
            "3.4566794476046335e-08\n",
            "-8.277486333121304\n",
            "1.4395505754683107e-08\n",
            "-8.789920954714846\n"
          ]
        }
      ],
      "source": [
        "# Check if it is working well\n",
        "evaluations =  Evaluate(DAX_data, HAR, 'm', 4400).total('both')\n",
        "print(evaluations)\n",
        "for evaluation in evaluations:\n",
        "  print(np.mean(evaluation))"
      ]
    },
    {
      "cell_type": "code",
      "execution_count": 46,
      "metadata": {
        "colab": {
          "base_uri": "https://localhost:8080/"
        },
        "id": "dvu_uTwlWSQi",
        "outputId": "32486a26-e008-4a3c-9057-887dc4d58f39"
      },
      "outputs": [
        {
          "name": "stdout",
          "output_type": "stream",
          "text": [
            "172/172 [==============================] - 0s 2ms/step\n",
            "1/1 [==============================] - 0s 19ms/step\n",
            "172/172 [==============================] - 0s 1ms/step\n",
            "1/1 [==============================] - 0s 17ms/step\n",
            "172/172 [==============================] - 0s 2ms/step\n",
            "1/1 [==============================] - 0s 24ms/step\n",
            "172/172 [==============================] - 0s 1ms/step\n",
            "1/1 [==============================] - 0s 16ms/step\n",
            "[array([2.97261483e-09, 5.46953867e-09, 1.44370327e-08, ...,\n",
            "       4.73339154e-10, 4.24436056e-09, 2.08292862e-12]), array([-8.44111319, -7.4005364 , -7.02636784, ..., -7.94904386,\n",
            "       -7.53853557, -8.16852069]), array([2.00929636e-10, 1.06886097e-11, 5.16606193e-10, 1.07204285e-10,\n",
            "       6.17829268e-12, 3.56025473e-11, 8.85335016e-09, 1.33706689e-14,\n",
            "       1.97317659e-10, 8.16331452e-11, 2.36704120e-11, 3.12757593e-12,\n",
            "       8.94144005e-09, 8.16355161e-10, 1.07196398e-10, 4.19486689e-10,\n",
            "       1.53250914e-11, 1.23941649e-11, 4.55506423e-10, 1.09238107e-09,\n",
            "       2.70758420e-13, 1.89481024e-08, 1.95685193e-08, 4.40412705e-09,\n",
            "       7.06378466e-11, 5.57052870e-09, 4.06735603e-10, 4.40525189e-11,\n",
            "       6.44323766e-12, 1.61586119e-08, 3.25765483e-11, 1.34153190e-09,\n",
            "       1.61138177e-09, 1.78375114e-09, 2.58265492e-09, 4.11198715e-10,\n",
            "       5.31162665e-12, 2.24536751e-10, 1.16991990e-09, 1.52189548e-09,\n",
            "       9.12357084e-10, 4.17647657e-11, 8.67491663e-09, 2.12503866e-10,\n",
            "       1.20646666e-10, 2.30495726e-10, 9.62069253e-11, 6.91250029e-11,\n",
            "       7.17048779e-11, 1.93489690e-10, 2.76644174e-10, 5.26476524e-10,\n",
            "       7.46729432e-10, 1.20530145e-11, 2.57016268e-12, 7.29451842e-11,\n",
            "       1.51421910e-11, 1.44026482e-09, 8.26846801e-13, 8.27784715e-10,\n",
            "       4.28259095e-09, 1.67710526e-09, 4.20388620e-08, 7.41647855e-10,\n",
            "       8.59767201e-09, 1.20657968e-10, 2.44213942e-09, 1.74156195e-09,\n",
            "       6.38267901e-10, 2.70732879e-09, 2.88572795e-10, 1.14996959e-09,\n",
            "       5.16026788e-10, 4.99733321e-14, 1.56198685e-09, 5.83297580e-11,\n",
            "       4.13512797e-10, 1.76005382e-09, 2.63891147e-08, 1.73240468e-09,\n",
            "       2.01858850e-09, 4.48371161e-09, 2.04014373e-09, 1.66211991e-10,\n",
            "       1.97712283e-10, 1.42544310e-11, 1.09293363e-11, 7.68531150e-12]), array([-9.12068592, -9.94618642, -8.61017352, -9.92500756, -9.70382192,\n",
            "       -9.88694722, -5.29048047, -9.12699966, -9.75764672, -9.76917882,\n",
            "       -9.29122172, -9.3193275 , -6.17162069, -8.38173762, -8.72171061,\n",
            "       -9.19325724, -9.00105416, -8.75483803, -8.46286849, -8.21783483,\n",
            "       -8.72905933, -6.42191156, -6.04812197, -7.60096973, -8.83030818,\n",
            "       -7.48908006, -8.8941556 , -8.68617875, -8.58063814, -6.65527599,\n",
            "       -8.68973866, -9.0592006 , -9.05684156, -9.13231797, -9.32327715,\n",
            "       -9.09548951, -8.79236344, -9.11184873, -9.41943793, -9.52597146,\n",
            "       -9.42036025, -9.06954845, -6.93932589, -9.28952536, -9.46878715,\n",
            "       -9.71211302, -9.80960884, -9.83185705, -9.96129741, -9.09233341,\n",
            "       -8.81982325, -8.56234551, -9.62529512, -9.80537387, -9.65336728,\n",
            "       -9.84740185, -9.86337341, -8.00801416, -9.07523601, -8.43698221,\n",
            "       -7.55392441, -9.30818222, -2.48123833, -7.93635603, -7.27034799,\n",
            "       -8.1621812 , -7.85285474, -7.84500435, -8.05746131, -8.92646117,\n",
            "       -8.75578329, -9.07831833, -8.35695991, -8.80558851, -8.11100795,\n",
            "       -8.88506791, -8.4028273 , -7.99225007, -6.24244138, -8.82855017,\n",
            "       -9.0037618 , -9.37498949, -9.60974143, -9.45693847, -9.8746358 ,\n",
            "       -9.43137866, -9.48863819, -9.60408194])]\n",
            "4.949341810316262e-08\n",
            "-8.037638602118248\n",
            "2.5011470039559115e-09\n",
            "-8.690724173183334\n"
          ]
        }
      ],
      "source": [
        "# check if it is working well\n",
        "evaluations =  Evaluate(AEX_data, FNN_HAR, 'm', 5500).total('both')\n",
        "print(evaluations)\n",
        "for evaluation in evaluations:\n",
        "  print(np.mean(evaluation))"
      ]
    },
    {
      "cell_type": "code",
      "execution_count": 47,
      "metadata": {
        "colab": {
          "base_uri": "https://localhost:8080/"
        },
        "id": "BI4mhXtmuIpO",
        "outputId": "5477fda3-b16e-481c-ebf1-621761478444"
      },
      "outputs": [
        {
          "name": "stdout",
          "output_type": "stream",
          "text": [
            "172/172 [==============================] - 1s 2ms/step\n",
            "1/1 [==============================] - 0s 33ms/step\n",
            "172/172 [==============================] - 0s 2ms/step\n",
            "1/1 [==============================] - 0s 26ms/step\n",
            "[array([6.69383448e-09, 6.04179048e-09, 1.33504774e-07, ...,\n",
            "       1.15612305e-07, 1.13075550e-07, 1.17437158e-07]), array([-7.33849883, -6.82561172, -5.90089297, ..., -7.93278665,\n",
            "       -7.92204919, -7.94043812]), array([7.99442919e-11, 3.41325887e-11, 5.02360160e-11, 2.84112046e-10,\n",
            "       9.41793517e-11, 2.37235232e-11, 5.35949643e-12, 2.76128242e-13,\n",
            "       1.57770488e-09, 1.60560107e-10, 3.36878988e-11, 1.27169072e-10,\n",
            "       1.11325667e-11, 3.10527900e-16, 5.93158695e-11, 2.23727678e-11,\n",
            "       1.58183775e-11, 5.44759931e-11, 2.73278555e-14, 2.31971175e-11,\n",
            "       1.89532119e-12, 1.76970110e-11, 4.11155837e-12, 3.65720156e-09,\n",
            "       1.81006869e-12, 1.14000664e-09, 1.13807115e-09, 8.97490105e-10,\n",
            "       1.59103821e-08, 4.37333992e-09, 3.18277208e-08, 1.70889851e-09,\n",
            "       1.24228134e-12, 5.43602139e-10, 3.97846518e-10, 1.77649475e-09,\n",
            "       3.48804359e-11, 1.43443808e-09, 9.53676090e-10, 1.32935108e-10,\n",
            "       5.02659166e-12, 8.85220458e-10, 1.56048883e-12, 4.53219161e-10]), array([ -9.81582609,  -9.42354791,  -9.78533622,  -8.91356711,\n",
            "        -9.88309115,  -9.67711126,  -9.60512426,  -9.66891346,\n",
            "        -7.92833264,  -9.92110499,  -9.92540377, -10.27520177,\n",
            "       -10.22044417, -10.20881272, -10.71516587,  -9.96084065,\n",
            "        -9.95302072,  -9.66514994, -10.15643681, -10.50738958,\n",
            "       -10.23862143, -10.81847258, -10.22350575,  -5.97476391,\n",
            "        -9.52550322,  -8.23701132,  -8.29679588,  -9.68596643,\n",
            "        -5.25674257,  -7.61933948,  -5.60801039,  -8.62762987,\n",
            "        -8.302539  ,  -8.21695934,  -8.35811874,  -9.08100994,\n",
            "        -8.76336984,  -8.99015381,  -9.23999565,  -9.11340783,\n",
            "        -8.92957649,  -9.44002038,  -9.03835952,  -8.53362249])]\n",
            "1.1304459579472313e-07\n",
            "-7.538475498511591\n",
            "1.5899134675006892e-09\n",
            "-9.143848111593242\n"
          ]
        }
      ],
      "source": [
        "evaluations =  Evaluate(DAX_data, FNN, 'm', 5500).total('both')\n",
        "print(evaluations)\n",
        "for evaluation in evaluations:\n",
        "  print(np.mean(evaluation))"
      ]
    },
    {
      "cell_type": "code",
      "execution_count": 48,
      "metadata": {
        "colab": {
          "base_uri": "https://localhost:8080/"
        },
        "id": "eW4Se11Xrkdv",
        "outputId": "dc9793fb-1746-448a-e84b-a4d72b121e59"
      },
      "outputs": [
        {
          "name": "stdout",
          "output_type": "stream",
          "text": [
            "172/172 [==============================] - 0s 2ms/step\n",
            "1/1 [==============================] - 0s 19ms/step\n",
            "172/172 [==============================] - 0s 2ms/step\n",
            "1/1 [==============================] - 0s 18ms/step\n",
            "[array([1.70694501e-08, 8.34904080e-10, 1.00203145e-07, ...,\n",
            "       8.55391454e-08, 8.33590918e-08, 8.71098145e-08]), array([-7.29267854, -6.84938304, -6.05013571, ..., -8.0748889 ,\n",
            "       -8.06245975, -8.08374587]), array([4.38654746e-10, 9.58247464e-11, 1.86902652e-10, 6.76000804e-11,\n",
            "       2.68838211e-10, 1.18231213e-10, 3.83806347e-11, 7.36678478e-11,\n",
            "       8.70468695e-10, 2.30692521e-10, 3.98297328e-10, 3.96473122e-10,\n",
            "       1.78737473e-10, 1.40751683e-10, 2.08024297e-10, 1.73715788e-11,\n",
            "       2.92778380e-13, 1.13442830e-11, 2.65139228e-11, 5.07083689e-11,\n",
            "       1.45083441e-11, 1.09407426e-10, 6.11063366e-12, 3.92071469e-09,\n",
            "       1.87474055e-10, 1.08796200e-09, 2.24952132e-09, 1.02019976e-10,\n",
            "       1.44275002e-08, 1.09045296e-08, 3.87156657e-08, 7.15172757e-12,\n",
            "       1.39748833e-09, 1.51114765e-09, 5.62940033e-10, 1.92254270e-09,\n",
            "       8.22492599e-11, 1.77295910e-10, 1.17327459e-09, 1.40313369e-10,\n",
            "       3.83518560e-11, 6.28986970e-10, 1.22754357e-10, 8.83805054e-10]), array([ -9.66076953,  -9.41238734,  -9.71138292,  -9.04058834,\n",
            "        -9.78841009,  -9.62720897,  -9.58681277,  -9.62460636,\n",
            "        -8.42653061,  -9.88096297,  -9.73232446, -10.07310132,\n",
            "       -10.0457352 , -10.04679904, -10.47194705, -10.00323329,\n",
            "        -9.99242105,  -9.75896285, -10.11362217, -10.44878518,\n",
            "       -10.21497185, -10.58739366, -10.21933625,  -5.24092535,\n",
            "        -9.19776403,  -8.27940334,  -7.49227344, -10.00988495,\n",
            "        -5.92545367,  -4.96469505,  -3.97039889,  -8.74732397,\n",
            "        -8.13537056,  -8.09469963,  -8.31822082,  -9.06797596,\n",
            "        -8.75773508,  -9.14265466,  -9.21099212,  -9.11198985,\n",
            "        -8.92100523,  -9.49218873,  -9.01504779,  -8.40246168])]\n",
            "1.1368631811608874e-07\n",
            "-7.537823860586216\n",
            "1.9134429984523344e-09\n",
            "-8.9992445012477\n"
          ]
        }
      ],
      "source": [
        "evaluations =  Evaluate(DAX_data, CNN, 'm', 5500).total('both')\n",
        "print(evaluations)\n",
        "for evaluation in evaluations:\n",
        "  print(np.mean(evaluation))"
      ]
    },
    {
      "cell_type": "code",
      "execution_count": 49,
      "metadata": {
        "colab": {
          "base_uri": "https://localhost:8080/"
        },
        "id": "kQWNcRHtr1qb",
        "outputId": "ecd352dd-2cb8-4a66-aa83-ee63625e24f1"
      },
      "outputs": [
        {
          "name": "stdout",
          "output_type": "stream",
          "text": [
            "172/172 [==============================] - 1s 4ms/step\n",
            "1/1 [==============================] - 0s 30ms/step\n",
            "172/172 [==============================] - 2s 4ms/step\n",
            "1/1 [==============================] - 0s 19ms/step\n",
            "[array([1.42646643e-08, 1.60881551e-09, 1.07429331e-07, ...,\n",
            "       7.28169239e-08, 7.08066010e-08, 7.42666435e-08]), array([-7.30384805, -6.84629434, -6.02133992, ..., -8.1503126 ,\n",
            "       -8.13687614, -8.15988737]), array([9.80077163e-11, 3.25542362e-12, 5.63716751e-11, 2.60465969e-10,\n",
            "       1.27738971e-10, 1.76349460e-11, 2.67059246e-12, 9.37329913e-12,\n",
            "       1.28974078e-09, 2.12933065e-10, 1.04020322e-10, 2.40348397e-10,\n",
            "       1.11497328e-10, 8.67824894e-11, 2.55556600e-10, 2.71985418e-11,\n",
            "       2.30104364e-11, 5.70243869e-13, 5.80040191e-11, 1.53467439e-10,\n",
            "       6.77089398e-11, 2.14294130e-10, 5.82488479e-11, 2.81488123e-09,\n",
            "       3.43917387e-11, 6.89781260e-10, 8.76239126e-10, 9.85010574e-10,\n",
            "       1.54156058e-08, 5.11453847e-09, 2.55693544e-08, 2.76949019e-09,\n",
            "       6.57287746e-11, 2.40022578e-10, 5.40192625e-12, 2.45050602e-09,\n",
            "       3.38226403e-13, 3.85012182e-10, 5.18463524e-10, 3.15356929e-11,\n",
            "       5.75378486e-12, 8.38308733e-10, 3.88356229e-12, 4.28899590e-10]), array([ -9.80447303,  -9.44892294,  -9.78117249,  -8.93102624,\n",
            "        -9.86126713,  -9.68122556,  -9.60813067,  -9.66183176,\n",
            "        -8.17712627,  -9.89050485,  -9.87103924, -10.173462  ,\n",
            "       -10.09926916, -10.0930228 , -10.42103487,  -9.99204311,\n",
            "        -9.96391639,  -9.77471092, -10.07690396, -10.3084298 ,\n",
            "       -10.143095  , -10.4451279 , -10.14357324,  -7.30886466,\n",
            "        -9.50834696,  -8.52964126,  -8.39599653,  -9.66474235,\n",
            "        -5.5073725 ,  -7.50695942,  -6.35976071,  -8.57993405,\n",
            "        -8.29813968,  -8.24369924,  -8.37868692,  -9.02517331,\n",
            "        -8.76798282,  -9.10749428,  -9.30978832,  -9.13528209,\n",
            "        -8.92940714,  -9.44887024,  -9.03770213,  -8.53950386])]\n",
            "1.0846702085800599e-07\n",
            "-7.564467289746228\n",
            "1.4255010814408867e-09\n",
            "-9.180333131885966\n"
          ]
        }
      ],
      "source": [
        "evaluations =  Evaluate(DAX_data, LSTM, 'm', 5500).total('both')\n",
        "print(evaluations)\n",
        "for evaluation in evaluations:\n",
        "  print(np.mean(evaluation))"
      ]
    },
    {
      "cell_type": "code",
      "execution_count": 50,
      "metadata": {
        "colab": {
          "base_uri": "https://localhost:8080/"
        },
        "id": "Lx2q6HJKr4Sp",
        "outputId": "5e3a5cfd-51bc-4773-f581-56c97baf3540"
      },
      "outputs": [
        {
          "name": "stdout",
          "output_type": "stream",
          "text": [
            "172/172 [==============================] - 1s 3ms/step\n",
            "1/1 [==============================] - 0s 30ms/step\n",
            "172/172 [==============================] - 1s 2ms/step\n",
            "1/1 [==============================] - 0s 23ms/step\n",
            "[array([5.83245080e-08, 6.71741907e-09, 4.23101177e-08, ...,\n",
            "       6.58342839e-08, 6.39234693e-08, 6.72130943e-08]), array([-7.17416976, -6.83526131, -6.22422043, ..., -8.19732639,\n",
            "       -8.18321967, -8.20737878]), array([2.63097832e-10, 2.02982131e-12, 1.56971011e-10, 1.77719989e-10,\n",
            "       3.90335902e-10, 5.92309044e-11, 3.68808872e-11, 4.31502289e-11,\n",
            "       1.04751892e-09, 7.12544434e-10, 2.19866604e-10, 3.68786998e-10,\n",
            "       1.24086310e-10, 9.54969611e-11, 2.60369284e-10, 2.25731730e-11,\n",
            "       2.76042737e-11, 2.23610405e-12, 8.53357842e-11, 1.77926147e-10,\n",
            "       7.08771053e-11, 2.23753717e-10, 3.97847825e-11, 2.94225487e-09,\n",
            "       4.41218600e-11, 8.96528167e-10, 9.45193998e-10, 8.14754251e-10,\n",
            "       1.66161228e-08, 4.72558747e-09, 2.67414621e-08, 2.02361200e-09,\n",
            "       2.78324110e-10, 3.74012777e-10, 6.31712155e-11, 1.77028092e-09,\n",
            "       2.53727754e-11, 3.14666460e-10, 3.64852294e-10, 3.23850709e-12,\n",
            "       3.47318422e-11, 5.98199740e-10, 5.10033922e-11, 5.30520881e-10]), array([ -9.72356298,  -9.44990535,  -9.72516881,  -8.98490779,\n",
            "        -9.73967251,  -9.65602388,  -9.5876033 ,  -9.64063415,\n",
            "        -8.33435717,  -9.70145109,  -9.80621111, -10.0887576 ,\n",
            "       -10.08827758, -10.08485643, -10.41626589,  -9.99717166,\n",
            "        -9.95910449,  -9.77300117, -10.0504311 , -10.28358249,\n",
            "       -10.13963461, -10.43484462, -10.16618179,  -7.16893695,\n",
            "        -9.50389857,  -8.4144402 ,  -8.37201817,  -9.70734691,\n",
            "        -4.83790441,  -7.56855045,  -6.24903149,  -8.61237288,\n",
            "        -8.28075031,  -8.23257331,  -8.3740327 ,  -9.08157787,\n",
            "        -8.76366121,  -9.11852866,  -9.34062123,  -9.14282325,\n",
            "        -8.92200201,  -9.49918766,  -9.02185   ,  -8.51391929])]\n",
            "1.3763630076677777e-07\n",
            "-7.483526986690514\n",
            "1.4719588553438295e-09\n",
            "-9.14903716176151\n"
          ]
        }
      ],
      "source": [
        "evaluations =  Evaluate(DAX_data, GRU, 'm', 5500).total('both')\n",
        "print(evaluations)\n",
        "for evaluation in evaluations:\n",
        "  print(np.mean(evaluation))"
      ]
    },
    {
      "cell_type": "markdown",
      "metadata": {
        "id": "zEOImrCORQwU"
      },
      "source": [
        "# Loss computations for the entire period of time"
      ]
    },
    {
      "cell_type": "markdown",
      "metadata": {
        "id": "_cxP-yDBVe4G"
      },
      "source": [
        "### Firstly start with the AEX dataset"
      ]
    },
    {
      "cell_type": "markdown",
      "metadata": {
        "id": "7q6kzb2iVspF"
      },
      "source": [
        "#### Monthly"
      ]
    },
    {
      "cell_type": "code",
      "execution_count": 51,
      "metadata": {
        "id": "PzodthVmtUhl"
      },
      "outputs": [],
      "source": [
        "aex_har_m = Evaluate(AEX_data, HAR, 'm', 4490).total()"
      ]
    },
    {
      "cell_type": "code",
      "execution_count": 52,
      "metadata": {
        "id": "9MNC2nlytX7f"
      },
      "outputs": [],
      "source": [
        "%%capture\n",
        "aex_fnn_har_m = Evaluate(AEX_data, FNN_HAR, 'm', 4490).total()"
      ]
    },
    {
      "cell_type": "code",
      "execution_count": 53,
      "metadata": {
        "id": "LfqjyGKjtaFD"
      },
      "outputs": [],
      "source": [
        "%%capture\n",
        "aex_fnn_m = Evaluate(AEX_data, FNN, 'm', 4490).total()"
      ]
    },
    {
      "cell_type": "code",
      "execution_count": 54,
      "metadata": {
        "id": "knfEREo3tf2Z"
      },
      "outputs": [],
      "source": [
        "%%capture\n",
        "aex_cnn_m = Evaluate(AEX_data, CNN, 'm', 4490).total()"
      ]
    },
    {
      "cell_type": "code",
      "execution_count": 55,
      "metadata": {
        "id": "9Trr2BQOthxc"
      },
      "outputs": [],
      "source": [
        "%%capture\n",
        "aex_lstm_m = Evaluate(AEX_data, LSTM, 'm', 4490).total()"
      ]
    },
    {
      "cell_type": "code",
      "execution_count": 56,
      "metadata": {
        "id": "2wQJCeDmtkPH"
      },
      "outputs": [],
      "source": [
        "%%capture\n",
        "aex_gru_m = Evaluate(AEX_data, GRU, 'm', 4490).total()"
      ]
    },
    {
      "cell_type": "markdown",
      "metadata": {
        "id": "3SdQve4TVspj"
      },
      "source": [
        "#### Weekly"
      ]
    },
    {
      "cell_type": "code",
      "execution_count": 57,
      "metadata": {
        "id": "CkQajx2ttohf"
      },
      "outputs": [],
      "source": [
        "aex_har_w = Evaluate(AEX_data, HAR, 'w', 4490).total()"
      ]
    },
    {
      "cell_type": "code",
      "execution_count": 58,
      "metadata": {
        "id": "UK0UfggDtnp-"
      },
      "outputs": [],
      "source": [
        "%%capture\n",
        "aex_fnn_har_w = Evaluate(AEX_data, FNN_HAR, 'w', 4490).total()"
      ]
    },
    {
      "cell_type": "code",
      "execution_count": 59,
      "metadata": {
        "id": "BbD_87Lbtr2T"
      },
      "outputs": [],
      "source": [
        "%%capture\n",
        "aex_fnn_w = Evaluate(AEX_data, FNN, 'w', 4490).total()"
      ]
    },
    {
      "cell_type": "code",
      "execution_count": 60,
      "metadata": {
        "id": "iy-TE0wKtuBg"
      },
      "outputs": [],
      "source": [
        "%%capture\n",
        "aex_cnn_w = Evaluate(AEX_data, CNN, 'w', 4490).total()"
      ]
    },
    {
      "cell_type": "code",
      "execution_count": 61,
      "metadata": {
        "id": "JEk4CspStwav"
      },
      "outputs": [],
      "source": [
        "%%capture\n",
        "aex_lstm_w = Evaluate(AEX_data, LSTM, 'w', 4490).total()"
      ]
    },
    {
      "cell_type": "code",
      "execution_count": 62,
      "metadata": {
        "id": "5UrsVTrstytx"
      },
      "outputs": [],
      "source": [
        "%%capture\n",
        "aex_gru_w = Evaluate(AEX_data, GRU, 'w', 4490).total()"
      ]
    },
    {
      "cell_type": "markdown",
      "metadata": {
        "id": "bwbPuwsFVspk"
      },
      "source": [
        "#### Daily"
      ]
    },
    {
      "cell_type": "code",
      "execution_count": 63,
      "metadata": {
        "id": "xDK2cTxvt3x5"
      },
      "outputs": [],
      "source": [
        "aex_har_d = Evaluate(AEX_data, HAR, 'd', 4490).total()"
      ]
    },
    {
      "cell_type": "code",
      "execution_count": 64,
      "metadata": {
        "id": "Hn59P-b2t5Z7"
      },
      "outputs": [],
      "source": [
        "%%capture\n",
        "aex_fnn_har_d = Evaluate(AEX_data, FNN_HAR, 'd', 4490).total()"
      ]
    },
    {
      "cell_type": "code",
      "execution_count": 65,
      "metadata": {
        "id": "7xxZcZH-t7Y7"
      },
      "outputs": [],
      "source": [
        "%%capture\n",
        "aex_fnn_d = Evaluate(AEX_data, FNN, 'd', 4490).total()"
      ]
    },
    {
      "cell_type": "code",
      "execution_count": 66,
      "metadata": {
        "id": "ehI2dIDlt9vX"
      },
      "outputs": [],
      "source": [
        "%%capture\n",
        "aex_cnn_d = Evaluate(AEX_data, CNN, 'd', 4490).total()"
      ]
    },
    {
      "cell_type": "code",
      "execution_count": 67,
      "metadata": {
        "id": "cs1ZctbMt_uj"
      },
      "outputs": [],
      "source": [
        "%%capture\n",
        "aex_lstm_d = Evaluate(AEX_data, LSTM, 'd', 4490).total()"
      ]
    },
    {
      "cell_type": "code",
      "execution_count": 68,
      "metadata": {
        "id": "_StxQqWJuBil"
      },
      "outputs": [],
      "source": [
        "%%capture\n",
        "aex_gru_d = Evaluate(AEX_data, GRU, 'd', 4490).total()"
      ]
    },
    {
      "cell_type": "markdown",
      "metadata": {
        "id": "_1SYdgU5Wi_s"
      },
      "source": [
        "### Consider the DAX index"
      ]
    },
    {
      "cell_type": "markdown",
      "metadata": {
        "id": "zpISYijVWmeH"
      },
      "source": [
        "#### Monthly"
      ]
    },
    {
      "cell_type": "code",
      "execution_count": 69,
      "metadata": {
        "id": "uwTKs_u1uFJk"
      },
      "outputs": [],
      "source": [
        "dax_har_m = Evaluate(DAX_data, HAR, 'm', 4490).total()"
      ]
    },
    {
      "cell_type": "code",
      "execution_count": 70,
      "metadata": {
        "id": "gvwBcEujuG9S"
      },
      "outputs": [],
      "source": [
        "%%capture\n",
        "dax_fnn_har_m = Evaluate(DAX_data, FNN_HAR, 'm', 4490).total()"
      ]
    },
    {
      "cell_type": "code",
      "execution_count": 106,
      "metadata": {
        "id": "jHPJkDnQuI4v"
      },
      "outputs": [],
      "source": [
        "%%capture\n",
        "dax_fnn_m = Evaluate(DAX_data, FNN, 'm', 4490).total()"
      ]
    },
    {
      "cell_type": "code",
      "execution_count": 72,
      "metadata": {
        "id": "0xpOaD5ruK11"
      },
      "outputs": [],
      "source": [
        "%%capture\n",
        "dax_cnn_m = Evaluate(DAX_data, CNN, 'm', 4490).total()"
      ]
    },
    {
      "cell_type": "code",
      "execution_count": 73,
      "metadata": {
        "id": "iIVzKMA8uM9y"
      },
      "outputs": [],
      "source": [
        "%%capture\n",
        "dax_lstm_m = Evaluate(DAX_data, LSTM, 'm', 4490).total()"
      ]
    },
    {
      "cell_type": "code",
      "execution_count": 74,
      "metadata": {
        "id": "EmZlUviluO1d"
      },
      "outputs": [],
      "source": [
        "%%capture\n",
        "dax_gru_m = Evaluate(DAX_data, GRU, 'm', 4490).total()"
      ]
    },
    {
      "cell_type": "markdown",
      "metadata": {
        "id": "3cVepSMXWmeK"
      },
      "source": [
        "#### Weekly"
      ]
    },
    {
      "cell_type": "code",
      "execution_count": 75,
      "metadata": {
        "id": "Y8afOnASuRTB"
      },
      "outputs": [],
      "source": [
        "dax_har_w = Evaluate(DAX_data, HAR, 'w', 4490).total()"
      ]
    },
    {
      "cell_type": "code",
      "execution_count": 76,
      "metadata": {
        "id": "VEzQ-X9_uTDC"
      },
      "outputs": [],
      "source": [
        "%%capture\n",
        "dax_fnn_har_w = Evaluate(DAX_data, FNN_HAR, 'w', 4490).total()"
      ]
    },
    {
      "cell_type": "code",
      "execution_count": 77,
      "metadata": {
        "id": "tpzdtJiIuU1G"
      },
      "outputs": [],
      "source": [
        "%%capture\n",
        "dax_fnn_w = Evaluate(DAX_data, FNN, 'w', 4490).total()"
      ]
    },
    {
      "cell_type": "code",
      "execution_count": 78,
      "metadata": {
        "id": "pF57gvpouXYW"
      },
      "outputs": [],
      "source": [
        "%%capture\n",
        "dax_cnn_w = Evaluate(DAX_data, CNN, 'w', 4490).total()"
      ]
    },
    {
      "cell_type": "code",
      "execution_count": 79,
      "metadata": {
        "id": "LC7dtZljuZYT"
      },
      "outputs": [],
      "source": [
        "%%capture\n",
        "dax_lstm_w = Evaluate(DAX_data, LSTM, 'w', 4490).total()"
      ]
    },
    {
      "cell_type": "code",
      "execution_count": 80,
      "metadata": {
        "id": "ZfNn_mO6ubur"
      },
      "outputs": [],
      "source": [
        "%%capture\n",
        "dax_gru_w = Evaluate(DAX_data, GRU, 'w', 4490).total()"
      ]
    },
    {
      "cell_type": "markdown",
      "metadata": {
        "id": "vxwOo8yoWmeN"
      },
      "source": [
        "#### Daily"
      ]
    },
    {
      "cell_type": "code",
      "execution_count": 81,
      "metadata": {
        "id": "EvKgdYTSueVN"
      },
      "outputs": [],
      "source": [
        "dax_har_d = Evaluate(DAX_data, HAR, 'd', 4490).total()"
      ]
    },
    {
      "cell_type": "code",
      "execution_count": 82,
      "metadata": {
        "id": "TFNIWIfJuf9w"
      },
      "outputs": [],
      "source": [
        "%%capture\n",
        "dax_fnn_har_d = Evaluate(DAX_data, FNN_HAR, 'd', 4490).total()"
      ]
    },
    {
      "cell_type": "code",
      "execution_count": 83,
      "metadata": {
        "id": "_DFMHykjuhz5"
      },
      "outputs": [],
      "source": [
        "%%capture\n",
        "dax_fnn_d = Evaluate(DAX_data, FNN, 'd', 4490).total()"
      ]
    },
    {
      "cell_type": "code",
      "execution_count": 84,
      "metadata": {
        "id": "vxHtbJ-gujjU"
      },
      "outputs": [],
      "source": [
        "%%capture\n",
        "dax_cnn_d = Evaluate(DAX_data, CNN, 'd', 4490).total()"
      ]
    },
    {
      "cell_type": "code",
      "execution_count": 85,
      "metadata": {
        "id": "DN85gFDyulSa"
      },
      "outputs": [],
      "source": [
        "%%capture\n",
        "dax_lstm_d = Evaluate(DAX_data, LSTM, 'd', 4490).total()"
      ]
    },
    {
      "cell_type": "code",
      "execution_count": 86,
      "metadata": {
        "id": "OU53sHEuumze"
      },
      "outputs": [],
      "source": [
        "%%capture\n",
        "dax_gru_d = Evaluate(DAX_data, GRU, 'd', 4490).total()"
      ]
    },
    {
      "cell_type": "markdown",
      "metadata": {
        "id": "vUv5FdmnUXnV"
      },
      "source": [
        "### Lastly, use the FTSE dataset"
      ]
    },
    {
      "cell_type": "markdown",
      "metadata": {
        "id": "5rv1KMWtUjZW"
      },
      "source": [
        "#### Monthly"
      ]
    },
    {
      "cell_type": "code",
      "execution_count": 87,
      "metadata": {
        "id": "hn4h3id3upGv"
      },
      "outputs": [],
      "source": [
        "ftse_har_m = Evaluate(FTSE_data, HAR, 'm', 4490).total()"
      ]
    },
    {
      "cell_type": "code",
      "execution_count": 88,
      "metadata": {
        "id": "5p9Wse4Xuq4S"
      },
      "outputs": [],
      "source": [
        "%%capture\n",
        "ftse_fnn_har_m = Evaluate(FTSE_data, FNN_HAR, 'm', 4490).total()"
      ]
    },
    {
      "cell_type": "code",
      "execution_count": 89,
      "metadata": {
        "id": "Vawa9aTTusm5"
      },
      "outputs": [],
      "source": [
        "%%capture\n",
        "ftse_fnn_m = Evaluate(FTSE_data, FNN, 'm', 4490).total()"
      ]
    },
    {
      "cell_type": "code",
      "execution_count": 90,
      "metadata": {
        "id": "-sfK06rkuuc5"
      },
      "outputs": [],
      "source": [
        "%%capture\n",
        "ftse_cnn_m = Evaluate(FTSE_data, CNN, 'm', 4490).total()"
      ]
    },
    {
      "cell_type": "code",
      "execution_count": 91,
      "metadata": {
        "id": "0bfkc7XEuv3G"
      },
      "outputs": [],
      "source": [
        "%%capture\n",
        "ftse_lstm_m = Evaluate(FTSE_data, LSTM, 'm', 4490).total()"
      ]
    },
    {
      "cell_type": "code",
      "execution_count": 92,
      "metadata": {
        "id": "5HcWYLdTuxpT"
      },
      "outputs": [],
      "source": [
        "%%capture\n",
        "ftse_gru_m = Evaluate(FTSE_data, GRU, 'm', 4490).total()"
      ]
    },
    {
      "cell_type": "markdown",
      "metadata": {
        "id": "gt2QNRWLU7hC"
      },
      "source": [
        "#### Weekly"
      ]
    },
    {
      "cell_type": "code",
      "execution_count": 93,
      "metadata": {
        "id": "iADsvc_3uzg7"
      },
      "outputs": [],
      "source": [
        "ftse_har_w = Evaluate(FTSE_data, HAR, 'w', 4490).total()"
      ]
    },
    {
      "cell_type": "code",
      "execution_count": 94,
      "metadata": {
        "id": "pWBJwLIGu1JW"
      },
      "outputs": [],
      "source": [
        "%%capture\n",
        "ftse_fnn_har_w = Evaluate(FTSE_data, FNN_HAR, 'w', 4490).total()"
      ]
    },
    {
      "cell_type": "code",
      "execution_count": 95,
      "metadata": {
        "id": "b2fgyJmPu2we"
      },
      "outputs": [],
      "source": [
        "%%capture\n",
        "ftse_fnn_w = Evaluate(FTSE_data, FNN, 'w', 4490).total()"
      ]
    },
    {
      "cell_type": "code",
      "execution_count": 96,
      "metadata": {
        "id": "mhuPGj9ku5GQ"
      },
      "outputs": [],
      "source": [
        "%%capture\n",
        "ftse_cnn_w = Evaluate(FTSE_data, CNN, 'w', 4490).total()"
      ]
    },
    {
      "cell_type": "code",
      "execution_count": 97,
      "metadata": {
        "id": "K0RDnjH_u63D"
      },
      "outputs": [],
      "source": [
        "%%capture\n",
        "ftse_lstm_w = Evaluate(FTSE_data, LSTM, 'w', 4490).total()"
      ]
    },
    {
      "cell_type": "code",
      "execution_count": 98,
      "metadata": {
        "id": "ZRuP59VDu8n8"
      },
      "outputs": [],
      "source": [
        "%%capture\n",
        "ftse_gru_w = Evaluate(FTSE_data, GRU, 'w', 4490).total()"
      ]
    },
    {
      "cell_type": "markdown",
      "metadata": {
        "id": "_PwDj0uvVQJe"
      },
      "source": [
        "#### Daily"
      ]
    },
    {
      "cell_type": "code",
      "execution_count": 99,
      "metadata": {
        "id": "9HC1D13_vAGg"
      },
      "outputs": [],
      "source": [
        "ftse_har_d = Evaluate(FTSE_data, HAR, 'd', 4490).total()"
      ]
    },
    {
      "cell_type": "code",
      "execution_count": 100,
      "metadata": {
        "id": "DYCvxYGOvBiL"
      },
      "outputs": [],
      "source": [
        "%%capture\n",
        "ftse_fnn_har_d = Evaluate(FTSE_data, FNN_HAR, 'd', 4490).total()"
      ]
    },
    {
      "cell_type": "code",
      "execution_count": 101,
      "metadata": {
        "id": "a2tRZiiHvDTw"
      },
      "outputs": [],
      "source": [
        "%%capture\n",
        "ftse_fnn_d = Evaluate(FTSE_data, FNN, 'd', 4490).total()"
      ]
    },
    {
      "cell_type": "code",
      "execution_count": 102,
      "metadata": {
        "id": "5Glj_LCIvE9g"
      },
      "outputs": [],
      "source": [
        "%%capture\n",
        "ftse_cnn_d = Evaluate(FTSE_data, CNN, 'd', 4490).total()"
      ]
    },
    {
      "cell_type": "code",
      "execution_count": 103,
      "metadata": {
        "id": "JMdQCpqFvGg1"
      },
      "outputs": [],
      "source": [
        "%%capture\n",
        "ftse_lstm_d = Evaluate(FTSE_data, LSTM, 'd', 4490).total()"
      ]
    },
    {
      "cell_type": "code",
      "execution_count": 104,
      "metadata": {
        "id": "C49tYALWvIHp"
      },
      "outputs": [],
      "source": [
        "%%capture\n",
        "ftse_gru_d = Evaluate(FTSE_data, GRU, 'd', 4490).total()"
      ]
    },
    {
      "cell_type": "markdown",
      "metadata": {
        "id": "PJH5VbA2XkOf"
      },
      "source": [
        "### Export data"
      ]
    },
    {
      "cell_type": "code",
      "execution_count": 105,
      "metadata": {
        "colab": {
          "base_uri": "https://localhost:8080/",
          "height": 17
        },
        "id": "TcpswWnIXlwa",
        "outputId": "950f784c-01da-4d79-ca8d-fbe19f1d1a23"
      },
      "outputs": [
        {
          "data": {
            "application/javascript": "\n    async function download(id, filename, size) {\n      if (!google.colab.kernel.accessAllowed) {\n        return;\n      }\n      const div = document.createElement('div');\n      const label = document.createElement('label');\n      label.textContent = `Downloading \"${filename}\": `;\n      div.appendChild(label);\n      const progress = document.createElement('progress');\n      progress.max = size;\n      div.appendChild(progress);\n      document.body.appendChild(div);\n\n      const buffers = [];\n      let downloaded = 0;\n\n      const channel = await google.colab.kernel.comms.open(id);\n      // Send a message to notify the kernel that we're ready.\n      channel.send({})\n\n      for await (const message of channel.messages) {\n        // Send a message to notify the kernel that we're ready.\n        channel.send({})\n        if (message.buffers) {\n          for (const buffer of message.buffers) {\n            buffers.push(buffer);\n            downloaded += buffer.byteLength;\n            progress.value = downloaded;\n          }\n        }\n      }\n      const blob = new Blob(buffers, {type: 'application/binary'});\n      const a = document.createElement('a');\n      a.href = window.URL.createObjectURL(blob);\n      a.download = filename;\n      div.appendChild(a);\n      a.click();\n      div.remove();\n    }\n  ",
            "text/plain": [
              "<IPython.core.display.Javascript object>"
            ]
          },
          "metadata": {},
          "output_type": "display_data"
        },
        {
          "data": {
            "application/javascript": "download(\"download_c18e74ce-4c77-4437-8f4f-247c2ab81e18\", \"data.json\", 927)",
            "text/plain": [
              "<IPython.core.display.Javascript object>"
            ]
          },
          "metadata": {},
          "output_type": "display_data"
        }
      ],
      "source": [
        "import json\n",
        "\n",
        "# define function for making data exportable\n",
        "def convert_to_serializable(obj):\n",
        "    if isinstance(obj, np.ndarray):\n",
        "        return obj.tolist()\n",
        "    elif isinstance(obj, list):\n",
        "        return [convert_to_serializable(item) for item in obj]\n",
        "    return obj\n",
        "\n",
        "# Combine data into a dictionary\n",
        "data_dict = {\n",
        "    'ftse_har_m': convert_to_serializable(ftse_har_m),\n",
        "    'ftse_fnn_har_m': convert_to_serializable(ftse_fnn_har_m),\n",
        "    'ftse_fnn_m': convert_to_serializable(ftse_fnn_m),\n",
        "    'ftse_cnn_m': convert_to_serializable(ftse_cnn_m),\n",
        "    'ftse_lstm_m': convert_to_serializable(ftse_lstm_m),\n",
        "    'ftse_gru_m': convert_to_serializable(ftse_gru_m),\n",
        "    'ftse_har_w': convert_to_serializable(ftse_har_w),\n",
        "    'ftse_fnn_har_w': convert_to_serializable(ftse_fnn_har_w),\n",
        "    'ftse_fnn_w': convert_to_serializable(ftse_fnn_w),\n",
        "    'ftse_cnn_w': convert_to_serializable(ftse_cnn_w),\n",
        "    'ftse_lstm_w': convert_to_serializable(ftse_lstm_w),\n",
        "    'ftse_gru_w': convert_to_serializable(ftse_gru_w),\n",
        "    'ftse_har_d': convert_to_serializable(ftse_har_d),\n",
        "    'ftse_fnn_har_d': convert_to_serializable(ftse_fnn_har_d),\n",
        "    'ftse_fnn_d': convert_to_serializable(ftse_fnn_d),\n",
        "    'ftse_cnn_d': convert_to_serializable(ftse_cnn_d),\n",
        "    'ftse_lstm_d': convert_to_serializable(ftse_lstm_d),\n",
        "    'ftse_gru_d': convert_to_serializable(ftse_gru_d),\n",
        "    'aex_har_m': convert_to_serializable(aex_har_m),\n",
        "    'aex_fnn_har_m': convert_to_serializable(aex_fnn_har_m),\n",
        "    'aex_fnn_m': convert_to_serializable(aex_fnn_m),\n",
        "    'aex_cnn_m': convert_to_serializable(aex_cnn_m),\n",
        "    'aex_lstm_m': convert_to_serializable(aex_lstm_m),\n",
        "    'aex_gru_m': convert_to_serializable(aex_gru_m),\n",
        "    'aex_har_w': convert_to_serializable(aex_har_w),\n",
        "    'aex_fnn_har_w': convert_to_serializable(aex_fnn_har_w),\n",
        "    'aex_fnn_w': convert_to_serializable(aex_fnn_w),\n",
        "    'aex_cnn_w': convert_to_serializable(aex_cnn_w),\n",
        "    'aex_lstm_w': convert_to_serializable(aex_lstm_w),\n",
        "    'aex_gru_w': convert_to_serializable(aex_gru_w),\n",
        "    'aex_har_d': convert_to_serializable(aex_har_d),\n",
        "    'aex_fnn_har_d': convert_to_serializable(aex_fnn_har_d),\n",
        "    'aex_fnn_d': convert_to_serializable(aex_fnn_d),\n",
        "    'aex_cnn_d': convert_to_serializable(aex_cnn_d),\n",
        "    'aex_lstm_d': convert_to_serializable(aex_lstm_d),\n",
        "    'aex_gru_d': convert_to_serializable(aex_gru_d),\n",
        "    'dax_har_m': convert_to_serializable(dax_har_m),\n",
        "    'dax_fnn_har_m': convert_to_serializable(dax_fnn_har_m),\n",
        "    'dax_fnn_m': convert_to_serializable(dax_fnn_m),\n",
        "    'dax_cnn_m': convert_to_serializable(dax_cnn_m),\n",
        "    'dax_lstm_m': convert_to_serializable(dax_lstm_m),\n",
        "    'dax_gru_m': convert_to_serializable(dax_gru_m),\n",
        "    'dax_har_w': convert_to_serializable(dax_har_w),\n",
        "    'dax_fnn_har_w': convert_to_serializable(dax_fnn_har_w),\n",
        "    'dax_fnn_w': convert_to_serializable(dax_fnn_w),\n",
        "    'dax_cnn_w': convert_to_serializable(dax_cnn_w),\n",
        "    'dax_lstm_w': convert_to_serializable(dax_lstm_w),\n",
        "    'dax_gru_w': convert_to_serializable(dax_gru_w),\n",
        "    'dax_har_d': convert_to_serializable(dax_har_d),\n",
        "    'dax_fnn_har_d': convert_to_serializable(dax_fnn_har_d),\n",
        "    'dax_fnn_d': convert_to_serializable(dax_fnn_d),\n",
        "    'dax_cnn_d': convert_to_serializable(dax_cnn_d),\n",
        "    'dax_lstm_d': convert_to_serializable(dax_lstm_d),\n",
        "    'dax_gru_d': convert_to_serializable(dax_gru_d),\n",
        "}\n",
        "\n",
        "# Save to a JSON file\n",
        "with open('data.json', 'w') as json_file:\n",
        "    json.dump(data_dict, json_file)\n",
        "\n",
        "from google.colab import files\n",
        "\n",
        "files.download('data.json')"
      ]
    }
  ],
  "metadata": {
    "accelerator": "GPU",
    "colab": {
      "collapsed_sections": [
        "2QErlG17yAyb",
        "hihDk5W5Gn0s",
        "R0fUM4eclh8T",
        "6BGEcH9PkSOO",
        "m__FxveFkdWq",
        "fWz5pLE1lOuU",
        "W8XJIeFulkIk",
        "xYb-kD9ZmCQX",
        "QmBQTNvwmI9_",
        "64-dFcUjSMdH",
        "kZnqyVEqqgeg",
        "0wrU-Kh_qx28",
        "_cxP-yDBVe4G",
        "7q6kzb2iVspF",
        "3SdQve4TVspj",
        "bwbPuwsFVspk",
        "_1SYdgU5Wi_s",
        "zpISYijVWmeH",
        "3cVepSMXWmeK",
        "vxwOo8yoWmeN",
        "vUv5FdmnUXnV",
        "5rv1KMWtUjZW",
        "gt2QNRWLU7hC",
        "_PwDj0uvVQJe",
        "PJH5VbA2XkOf"
      ],
      "gpuType": "T4",
      "provenance": []
    },
    "kernelspec": {
      "display_name": "Python 3",
      "name": "python3"
    },
    "language_info": {
      "name": "python"
    }
  },
  "nbformat": 4,
  "nbformat_minor": 0
}
